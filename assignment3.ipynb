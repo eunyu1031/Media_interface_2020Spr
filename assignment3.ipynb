{
 "cells": [
  {
   "cell_type": "markdown",
   "metadata": {},
   "source": [
    "# 과제 3\n",
    "\n",
    "- 기한: 6/26(금) 23:59\n",
    "- 제출: e-class 업로드\n",
    "- 비중: 12% (18점)\n",
    "- 파일형식: .ipynb\n",
    "- 결과만 간결하게 확인할 수 있게, 제출 전 사용하지 않는 코드는 정리해 주세요.\n",
    "- 늦게 제출한 경우 점수의 절반만 인정합니다.\n",
    "- 코드가 동작하지 않는 경우(예:에러 메시지), 파일을 열 수 없는 경우 0점 처리합니다.\n",
    "- 배점\n",
    "    - (0): 1\n",
    "    - (1): 3\n",
    "    - (2): 3\n",
    "    - (3-A): 3\n",
    "    - (3-B): 4\n",
    "    - (4)-a: 2\n",
    "    - (4)-b: 2"
   ]
  },
  {
   "cell_type": "markdown",
   "metadata": {},
   "source": [
    "### (0) Plotly 결과 공유\n",
    "\n",
    "- (1)~(3)까지의 결과 중 하나를 Plotly에 public으로 공유하고 아래처럼 링크를 제출하세요.\n",
    "- Username과 api_key는 제출하실 필요 없습니다.\n",
    "\n",
    "https://plotly.com/~eunyu1031/61/"
   ]
  },
  {
   "cell_type": "markdown",
   "metadata": {},
   "source": [
    "### (1) Dot density map (지리적 산점도)\n",
    "- 주어진 링크의 전국 휴양림 표준 데이터를 지리 좌표계를 이용하여 지도에 각 지점을 점으로 표시하세요.\n",
    "- 각 점 위에 마우스를 올렸을 때 휴양림명과 소재지의 도로명 주소를 확인할 수 있게 만드세요.\n",
    "\n",
    "다른 변수에 결측치(missing)가 있으나, 휴양림명과 소재지의 도로명 주소, 지리 좌표에는 결측치가 없으므로 데이터를 클리닝할 필요 없이 그대로 사용하시면 됩니다.\n",
    "\n",
    "전국 휴양림 표준 데이터: https://www.data.go.kr/data/15013111/standard.do"
   ]
  },
  {
   "cell_type": "code",
   "execution_count": null,
   "metadata": {},
   "outputs": [],
   "source": [
    "forest_url = \"https://raw.githubusercontent.com/eunyu1031/Media_interface_2020Spr/master/data/%EC%A0%84%EA%B5%AD%ED%9C%B4%EC%96%91%EB%A6%BC%ED%91%9C%EC%A4%80%EB%8D%B0%EC%9D%B4%ED%84%B0.csv\""
   ]
  },
  {
   "cell_type": "code",
   "execution_count": null,
   "metadata": {},
   "outputs": [],
   "source": []
  },
  {
   "cell_type": "markdown",
   "metadata": {},
   "source": [
    "### (2) Geographical heat map (히트맵)\n",
    "- 전국 휴양림 표준 데이터를 지리 좌표계를 이용하여 지도 위에 나타내되 밀도를 표시하세요."
   ]
  },
  {
   "cell_type": "code",
   "execution_count": null,
   "metadata": {},
   "outputs": [],
   "source": []
  },
  {
   "cell_type": "markdown",
   "metadata": {},
   "source": [
    "### (3-A) Choropleth map (등치지역도)\n",
    "- 2010년~2019년 시군구별 고등학교 졸업자 중 대학 진학자 데이터입니다.\n",
    "- 시군구 단위의 데이터를 시도 단위로 합쳐서 진학률(진학자/졸업자)을 계산하세요.\n",
    "- DataFrame의 시도 표기를 GeoJSON과 통일하세요(map, str.replace 등).\n",
    "    - 예: 강원도-2010-200-140-70, 대구광역시-2019-300-240-80\n",
    "- (인터랙티브) 슬라이딩 바로 연도별 진학률 변화를 볼 수 있는 등치지역도를 그리세요.\n",
    "\n",
    "한국교육개발원 시도 시군구별 졸업자 진학자 진학률_2010-2019: https://www.data.go.kr/data/15053808/fileData.do"
   ]
  },
  {
   "cell_type": "code",
   "execution_count": null,
   "metadata": {},
   "outputs": [],
   "source": [
    "study_url = \"https://raw.githubusercontent.com/eunyu1031/Media_interface_2020Spr/master/data/%ED%95%9C%EA%B5%AD%EA%B5%90%EC%9C%A1%EA%B0%9C%EB%B0%9C%EC%9B%90%20%EC%8B%9C%EB%8F%84%20%EC%8B%9C%EA%B5%B0%EA%B5%AC%EB%B3%84%20%EC%A1%B8%EC%97%85%EC%9E%90%20%EC%A7%84%ED%95%99%EC%9E%90%20%EC%A7%84%ED%95%99%EB%A5%A0_2010-2019.csv\""
   ]
  },
  {
   "cell_type": "code",
   "execution_count": null,
   "metadata": {},
   "outputs": [],
   "source": []
  },
  {
   "cell_type": "markdown",
   "metadata": {},
   "source": [
    "### (3-B) Choropleth map (등치지역도)\n",
    "\n",
    "- 2019년 서울 동별 인구밀도(인구(명)/㎢당)를 등치지역도로 나타내세요.\n",
    "- DataFrame의 시도 표기를 GeoJSON과 통일하세요.\n",
    "\n",
    "서울 동별 인구밀도: https://data.seoul.go.kr/dataList/10584/S/2/datasetView.do\n",
    "\n",
    "서울 행정동 GeoJSON(가장 최신 자료 이용): https://github.com/vuski/admdongkor"
   ]
  },
  {
   "cell_type": "code",
   "execution_count": null,
   "metadata": {},
   "outputs": [],
   "source": [
    "str1 = 'a'\n",
    "str2 = 'b'\n",
    "print(str1 + ' ' + str2)"
   ]
  },
  {
   "cell_type": "code",
   "execution_count": null,
   "metadata": {},
   "outputs": [],
   "source": [
    "pop_url = \"https://raw.githubusercontent.com/eunyu1031/Media_interface_2020Spr/master/data/%EC%84%9C%EC%9A%B8%EB%8F%99%EB%B3%84%EC%9D%B8%EA%B5%AC%EB%B0%80%EB%8F%84.txt\""
   ]
  },
  {
   "cell_type": "code",
   "execution_count": null,
   "metadata": {},
   "outputs": [],
   "source": []
  },
  {
   "cell_type": "markdown",
   "metadata": {},
   "source": [
    "### (4) Clustering (군집화)\n",
    "\n",
    "어느 온라인 소매점 이용자의 접속 로그를 recency(최근 접속일), frequency(기간 내 접속횟수), monetary(기간 내 구매금액)로 정리한 데이터입니다.<br>\n",
    "(RFM: 고객의 가치를 분석하는 마케팅 분석방법 중 하나)\n",
    "\n",
    "#### a. Recency와 Frequency 기준으로 클러스터를 나누어 보세요.\n",
    "    - 산점도를 먼저 그리세요.\n",
    "    - 팔꿈치 방법(elbow method)의 결과를 참고해서 클러스터의 수를 정하세요.\n",
    "    - 클러스터를 시각화하세요.\n",
    "#### b. Recency와 Frequency에서 95% 이상의 큰 값(이상치;outlier)를 제외하고 클러스터를 나누어 보세요.\n",
    "    - 산점도를 먼저 그리세요.\n",
    "    - 팔꿈치 방법(elbow method)의 결과를 참고해서 클러스터의 수를 정하세요.\n",
    "    - 클러스터를 시각화하세요.\n",
    "    - 참고: assignment 2\n",
    "    \n",
    "Online retail: http://archive.ics.uci.edu/ml/datasets/Online+Retail"
   ]
  },
  {
   "cell_type": "code",
   "execution_count": null,
   "metadata": {},
   "outputs": [],
   "source": [
    "rfm_url = \"https://raw.githubusercontent.com/eunyu1031/Media_interface_2020Spr/master/data/retail_rfm.csv\""
   ]
  },
  {
   "cell_type": "code",
   "execution_count": null,
   "metadata": {},
   "outputs": [],
   "source": []
  }
 ],
 "metadata": {
  "kernelspec": {
   "display_name": "Python 3",
   "language": "python",
   "name": "python3"
  },
  "language_info": {
   "codemirror_mode": {
    "name": "ipython",
    "version": 3
   },
   "file_extension": ".py",
   "mimetype": "text/x-python",
   "name": "python",
   "nbconvert_exporter": "python",
   "pygments_lexer": "ipython3",
   "version": "3.8.3"
  }
 },
 "nbformat": 4,
 "nbformat_minor": 2
}
