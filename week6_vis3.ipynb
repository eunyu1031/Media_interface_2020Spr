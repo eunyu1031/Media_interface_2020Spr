{
 "cells": [
  {
   "cell_type": "markdown",
   "metadata": {},
   "source": [
    "## 데이터 시각화\n",
    "### 복습: 분포 (distribution)\n",
    "- 히스토그램(histogram), 상자수염 도표(box-and-whisker plot)\n",
    "\n",
    "### matplotlib 소개\n",
    "- 소개\n",
    "- DataFrame.groupby()\n",
    "- 누적막대그래프 (stacked bar chart)\n",
    "\n",
    "### seaborn 소개\n",
    "- 소개\n",
    "- sns.countplot()\n",
    "- sns.boxplot()\n",
    "\n",
    "### 질문하기: 순서/정렬/순위(order/sort/rank)\n",
    "- 사람들은 스마트 기기에서 어떤 앱을 자주 사용하는가?\n",
    "- pd.concat(), DataFrame.astype()\n",
    "\n",
    "**패널의 가중치는 고려하지 않고 실습을 진행합니다."
   ]
  },
  {
   "cell_type": "code",
   "execution_count": 2,
   "metadata": {},
   "outputs": [
    {
     "data": {
      "text/plain": [
       "'1.0.5'"
      ]
     },
     "execution_count": 2,
     "metadata": {},
     "output_type": "execute_result"
    }
   ],
   "source": [
    "from pandas import Series, DataFrame \n",
    "import pandas as pd\n",
    "import numpy as np\n",
    "\n",
    "pd.__version__"
   ]
  },
  {
   "cell_type": "code",
   "execution_count": 3,
   "metadata": {
    "scrolled": false
   },
   "outputs": [
    {
     "data": {
      "text/html": [
       "<div>\n",
       "<style scoped>\n",
       "    .dataframe tbody tr th:only-of-type {\n",
       "        vertical-align: middle;\n",
       "    }\n",
       "\n",
       "    .dataframe tbody tr th {\n",
       "        vertical-align: top;\n",
       "    }\n",
       "\n",
       "    .dataframe thead th {\n",
       "        text-align: right;\n",
       "    }\n",
       "</style>\n",
       "<table border=\"1\" class=\"dataframe\">\n",
       "  <thead>\n",
       "    <tr style=\"text-align: right;\">\n",
       "      <th></th>\n",
       "      <th>pid</th>\n",
       "      <th>hid</th>\n",
       "      <th>area</th>\n",
       "      <th>area_siz</th>\n",
       "      <th>hhld_siz</th>\n",
       "      <th>fly_typ</th>\n",
       "      <th>gender</th>\n",
       "      <th>byear</th>\n",
       "      <th>age_gr</th>\n",
       "      <th>age</th>\n",
       "      <th>...</th>\n",
       "      <th>news_med1</th>\n",
       "      <th>news_med2</th>\n",
       "      <th>news_med3</th>\n",
       "      <th>news_plat1</th>\n",
       "      <th>news_plat2</th>\n",
       "      <th>news_plat3</th>\n",
       "      <th>channel</th>\n",
       "      <th>shop</th>\n",
       "      <th>shop_dev</th>\n",
       "      <th>shop_pay</th>\n",
       "    </tr>\n",
       "  </thead>\n",
       "  <tbody>\n",
       "    <tr>\n",
       "      <th>0</th>\n",
       "      <td>10001</td>\n",
       "      <td>100</td>\n",
       "      <td>1</td>\n",
       "      <td>1</td>\n",
       "      <td>3</td>\n",
       "      <td>3</td>\n",
       "      <td>1</td>\n",
       "      <td>1967</td>\n",
       "      <td>6</td>\n",
       "      <td>52</td>\n",
       "      <td>...</td>\n",
       "      <td>3</td>\n",
       "      <td>4</td>\n",
       "      <td></td>\n",
       "      <td>3</td>\n",
       "      <td>2</td>\n",
       "      <td></td>\n",
       "      <td>1</td>\n",
       "      <td>1</td>\n",
       "      <td>1</td>\n",
       "      <td>2</td>\n",
       "    </tr>\n",
       "    <tr>\n",
       "      <th>1</th>\n",
       "      <td>10002</td>\n",
       "      <td>100</td>\n",
       "      <td>1</td>\n",
       "      <td>1</td>\n",
       "      <td>3</td>\n",
       "      <td>3</td>\n",
       "      <td>2</td>\n",
       "      <td>1972</td>\n",
       "      <td>5</td>\n",
       "      <td>47</td>\n",
       "      <td>...</td>\n",
       "      <td>3</td>\n",
       "      <td>4</td>\n",
       "      <td></td>\n",
       "      <td>3</td>\n",
       "      <td>2</td>\n",
       "      <td></td>\n",
       "      <td>3</td>\n",
       "      <td>1</td>\n",
       "      <td>1</td>\n",
       "      <td>2</td>\n",
       "    </tr>\n",
       "    <tr>\n",
       "      <th>2</th>\n",
       "      <td>20001</td>\n",
       "      <td>200</td>\n",
       "      <td>1</td>\n",
       "      <td>1</td>\n",
       "      <td>3</td>\n",
       "      <td>3</td>\n",
       "      <td>1</td>\n",
       "      <td>1965</td>\n",
       "      <td>6</td>\n",
       "      <td>54</td>\n",
       "      <td>...</td>\n",
       "      <td>4</td>\n",
       "      <td></td>\n",
       "      <td></td>\n",
       "      <td>3</td>\n",
       "      <td></td>\n",
       "      <td></td>\n",
       "      <td>7</td>\n",
       "      <td></td>\n",
       "      <td></td>\n",
       "      <td></td>\n",
       "    </tr>\n",
       "    <tr>\n",
       "      <th>3</th>\n",
       "      <td>30001</td>\n",
       "      <td>300</td>\n",
       "      <td>8</td>\n",
       "      <td>1</td>\n",
       "      <td>3</td>\n",
       "      <td>3</td>\n",
       "      <td>1</td>\n",
       "      <td>1971</td>\n",
       "      <td>5</td>\n",
       "      <td>48</td>\n",
       "      <td>...</td>\n",
       "      <td>3</td>\n",
       "      <td></td>\n",
       "      <td></td>\n",
       "      <td>3</td>\n",
       "      <td></td>\n",
       "      <td></td>\n",
       "      <td>1</td>\n",
       "      <td></td>\n",
       "      <td></td>\n",
       "      <td></td>\n",
       "    </tr>\n",
       "    <tr>\n",
       "      <th>4</th>\n",
       "      <td>30002</td>\n",
       "      <td>300</td>\n",
       "      <td>8</td>\n",
       "      <td>1</td>\n",
       "      <td>3</td>\n",
       "      <td>3</td>\n",
       "      <td>2</td>\n",
       "      <td>1974</td>\n",
       "      <td>5</td>\n",
       "      <td>45</td>\n",
       "      <td>...</td>\n",
       "      <td></td>\n",
       "      <td></td>\n",
       "      <td></td>\n",
       "      <td></td>\n",
       "      <td></td>\n",
       "      <td></td>\n",
       "      <td>1</td>\n",
       "      <td>1</td>\n",
       "      <td>3</td>\n",
       "      <td>1</td>\n",
       "    </tr>\n",
       "  </tbody>\n",
       "</table>\n",
       "<p>5 rows × 66 columns</p>\n",
       "</div>"
      ],
      "text/plain": [
       "     pid  hid  area  area_siz  hhld_siz  fly_typ  gender  byear  age_gr  age  \\\n",
       "0  10001  100     1         1         3        3       1   1967       6   52   \n",
       "1  10002  100     1         1         3        3       2   1972       5   47   \n",
       "2  20001  200     1         1         3        3       1   1965       6   54   \n",
       "3  30001  300     8         1         3        3       1   1971       5   48   \n",
       "4  30002  300     8         1         3        3       2   1974       5   45   \n",
       "\n",
       "   ...  news_med1  news_med2  news_med3 news_plat1 news_plat2  news_plat3  \\\n",
       "0  ...          3          4                     3          2               \n",
       "1  ...          3          4                     3          2               \n",
       "2  ...          4                                3                          \n",
       "3  ...          3                                3                          \n",
       "4  ...                                                                      \n",
       "\n",
       "  channel shop shop_dev shop_pay  \n",
       "0       1    1        1        2  \n",
       "1       3    1        1        2  \n",
       "2       7                         \n",
       "3       1                         \n",
       "4       1    1        3        1  \n",
       "\n",
       "[5 rows x 66 columns]"
      ]
     },
     "execution_count": 3,
     "metadata": {},
     "output_type": "execute_result"
    }
   ],
   "source": [
    "url = \"https://raw.githubusercontent.com/eunyu1031/Media_interface_2020Spr/master/data/p19_mediapanel.csv\"\n",
    "\n",
    "data = pd.read_csv(url, encoding = 'utf-8')\n",
    "data.head()"
   ]
  },
  {
   "cell_type": "markdown",
   "metadata": {},
   "source": [
    "### 복습: 분포(distribution)\n",
    "1. 온라인 디지털 콘텐츠를 얼마나 구매하는가?\n",
    "2. 온라인 디지털 콘텐츠 지출금액의 분포는 어떠한가? \n",
    "3. 온라인 디지털 콘텐츠를 구매하는 사람들은 누구인가?"
   ]
  },
  {
   "cell_type": "markdown",
   "metadata": {},
   "source": [
    "<table>\n",
    "<thead>\n",
    "<tr>\n",
    "<td width=\"82\">\n",
    "<p>Original</p>\n",
    "</td>\n",
    "<td width=\"83\">\n",
    "<p>Cleaned</p>\n",
    "</td>\n",
    "<td>\n",
    "<p>[방송통신 서비스 가입 및 지출] 온라인 디지털 콘텐츠 지출</p>\n",
    "</td>\n",
    "</tr>\n",
    "</thead>\n",
    "<tbody>\n",
    "<tr>\n",
    "<td width=\"82\">\n",
    "<p>p__c05001</p>\n",
    "</td>\n",
    "<td width=\"83\">\n",
    "<p><strong>c01</strong></p>\n",
    "</td>\n",
    "<td>\n",
    "<p>월평균 지출금액 - 온라인 뉴스/잡지/E-book(웹툰/웹소설 포함)</p>\n",
    "</td>\n",
    "</tr>\n",
    "<tr>\n",
    "<td width=\"82\">\n",
    "<p>p__c05002</p>\n",
    "</td>\n",
    "<td width=\"83\">\n",
    "<p><strong>c01_gr</strong></p>\n",
    "</td>\n",
    "<td>\n",
    "<p>월평균 지출금액 - 온라인 뉴스/잡지/E-book(웹툰/웹소설 포함)(리코드)</p>\n",
    "</td>\n",
    "</tr>\n",
    "<tr>\n",
    "<td width=\"82\">\n",
    "<p>p__c05003</p>\n",
    "</td>\n",
    "<td width=\"83\">\n",
    "<p><strong>c02</strong></p>\n",
    "</td>\n",
    "<td>\n",
    "<p>월평균 지출금액 - 동영상/영화</p>\n",
    "</td>\n",
    "</tr>\n",
    "<tr>\n",
    "<td width=\"82\">\n",
    "<p>p__c05004</p>\n",
    "</td>\n",
    "<td width=\"83\">\n",
    "<p><strong>c02_gr</strong></p>\n",
    "</td>\n",
    "<td>\n",
    "<p>월평균 지출금액 - 동영상/영화(리코드)</p>\n",
    "</td>\n",
    "</tr>\n",
    "<tr>\n",
    "<td width=\"82\">\n",
    "<p>p__c05005</p>\n",
    "</td>\n",
    "<td width=\"83\">\n",
    "<p><strong>c03</strong></p>\n",
    "</td>\n",
    "<td>\n",
    "<p>월평균 지출금액 - TV 방송 프로그램</p>\n",
    "</td>\n",
    "</tr>\n",
    "<tr>\n",
    "<td width=\"82\">\n",
    "<p>p__c05006</p>\n",
    "</td>\n",
    "<td width=\"83\">\n",
    "<p><strong>c03_gr</strong></p>\n",
    "</td>\n",
    "<td>\n",
    "<p>월평균 지출금액 - TV 방송 프로그램(리코드)</p>\n",
    "</td>\n",
    "</tr>\n",
    "<tr>\n",
    "<td width=\"82\">\n",
    "<p>p__c05007</p>\n",
    "</td>\n",
    "<td width=\"83\">\n",
    "<p><strong>c04</strong></p>\n",
    "</td>\n",
    "<td>\n",
    "<p>월평균 지출금액 - 음악</p>\n",
    "</td>\n",
    "</tr>\n",
    "<tr>\n",
    "<td width=\"82\">\n",
    "<p>p__c05008</p>\n",
    "</td>\n",
    "<td width=\"83\">\n",
    "<p><strong>c04_gr</strong></p>\n",
    "</td>\n",
    "<td>\n",
    "<p>월평균 지출금액 - 음악(리코드)</p>\n",
    "</td>\n",
    "</tr>\n",
    "<tr>\n",
    "<td width=\"82\">\n",
    "<p>p__c05009</p>\n",
    "</td>\n",
    "<td width=\"83\">\n",
    "<p><strong>c05</strong></p>\n",
    "</td>\n",
    "<td>\n",
    "<p>월평균 지출금액 - 게임</p>\n",
    "</td>\n",
    "</tr>\n",
    "<tr>\n",
    "<td width=\"82\">\n",
    "<p>p__c05010</p>\n",
    "</td>\n",
    "<td width=\"83\">\n",
    "<p><strong>c05_gr</strong></p>\n",
    "</td>\n",
    "<td>\n",
    "<p>월평균 지출금액 - 게임(리코드)</p>\n",
    "</td>\n",
    "</tr>\n",
    "</tbody>\n",
    "</table>\n",
    "\n",
    "리코드: (1) 5천원 미만 (2) 5천원 - 1만원 미만 (3) 1만원 - 1만 5천원 미만 (4) 1만 5천원 - 2만원 미만 (5) 2만원 - 2만 5천원 미만 (6) 2만 5천원 - 3만원 미만 (7) 3만원 - 3만 5천원 미만 (8) 3만 5천원 이상 (9999) 모름/ 무응답"
   ]
  },
  {
   "cell_type": "code",
   "execution_count": 4,
   "metadata": {
    "scrolled": false
   },
   "outputs": [
    {
     "name": "stdout",
     "output_type": "stream",
     "text": [
      "<class 'pandas.core.frame.DataFrame'>\n",
      "RangeIndex: 10864 entries, 0 to 10863\n",
      "Data columns (total 15 columns):\n",
      " #   Column    Non-Null Count  Dtype  \n",
      "---  ------    --------------  -----  \n",
      " 0   pid       10864 non-null  int64  \n",
      " 1   area_siz  10864 non-null  int64  \n",
      " 2   gender    10864 non-null  int64  \n",
      " 3   age_gr    10864 non-null  int64  \n",
      " 4   age       10864 non-null  int64  \n",
      " 5   c01       121 non-null    float64\n",
      " 6   c01_gr    1647 non-null   float64\n",
      " 7   c02       258 non-null    float64\n",
      " 8   c02_gr    2038 non-null   float64\n",
      " 9   c03       257 non-null    float64\n",
      " 10  c03_gr    1275 non-null   float64\n",
      " 11  c04       622 non-null    float64\n",
      " 12  c04_gr    1833 non-null   float64\n",
      " 13  c05       203 non-null    float64\n",
      " 14  c05_gr    1550 non-null   float64\n",
      "dtypes: float64(10), int64(5)\n",
      "memory usage: 1.2 MB\n"
     ]
    }
   ],
   "source": [
    "purchase = pd.concat([data.iloc[:, [0, 3, 6, 8, 9]], \n",
    "                      data.iloc[:,19:29].apply(lambda x: pd.to_numeric(x, errors = 'coerce').replace(0,np.nan))], \n",
    "                     axis = 1)\n",
    "purchase.info()"
   ]
  },
  {
   "cell_type": "code",
   "execution_count": 5,
   "metadata": {},
   "outputs": [
    {
     "data": {
      "text/plain": [
       "<matplotlib.axes._subplots.AxesSubplot at 0x19f349360a0>"
      ]
     },
     "execution_count": 5,
     "metadata": {},
     "output_type": "execute_result"
    },
    {
     "data": {
      "image/png": "[encoded data removed]",
      "text/plain": [
       "<Figure size 432x288 with 1 Axes>"
      ]
     },
     "metadata": {
      "needs_background": "light"
     },
     "output_type": "display_data"
    }
   ],
   "source": [
    "purchase['c01_gr'].plot.hist()"
   ]
  },
  {
   "cell_type": "code",
   "execution_count": 6,
   "metadata": {},
   "outputs": [
    {
     "data": {
      "text/plain": [
       "<matplotlib.axes._subplots.AxesSubplot at 0x19f3509a490>"
      ]
     },
     "execution_count": 6,
     "metadata": {},
     "output_type": "execute_result"
    },
    {
     "data": {
      "image/png": "[encoded data removed]",
      "text/plain": [
       "<Figure size 432x288 with 1 Axes>"
      ]
     },
     "metadata": {
      "needs_background": "light"
     },
     "output_type": "display_data"
    }
   ],
   "source": [
    "purchase[purchase['c01'].notna()]['gender'].plot.hist() # boolean indexing"
   ]
  },
  {
   "cell_type": "code",
   "execution_count": 7,
   "metadata": {},
   "outputs": [
    {
     "data": {
      "text/plain": [
       "<matplotlib.axes._subplots.AxesSubplot at 0x19f35134730>"
      ]
     },
     "execution_count": 7,
     "metadata": {},
     "output_type": "execute_result"
    },
    {
     "data": {
      "image/png": "[encoded data removed]",
      "text/plain": [
       "<Figure size 432x288 with 1 Axes>"
      ]
     },
     "metadata": {
      "needs_background": "light"
     },
     "output_type": "display_data"
    }
   ],
   "source": [
    "purchase[purchase['c01'].notna()]['age'].plot.box()"
   ]
  },
  {
   "cell_type": "markdown",
   "metadata": {},
   "source": [
    "COVID-19 사태로 사람들이 집에 있는 시간이 늘어나면서 유튜브 트래픽은 급증했지만, 광고주들이 광고비 지출을 줄이면서 유튜버들의 광고수익은 오히려 줄었다고 합니다. 미디어 산업은 광고에 크게 의존해 왔지만 그 한계가 뚜렷하게 드러나고 있으며, 소비자 개인은 콘텐츠에 쉽게 돈을 지출하지(구독, 개별 구매, 후원 등) 않습니다. 앞으로 산업의 변화를 주시하면서 자신의 위치를 고민해 볼 필요가 있겠습니다.\n",
    "\n",
    "As YouTube Traffic Soars, YouTubers Say Pay Is Plummeting\n",
    "Advertising rates on the platform have dropped significantly during the coronavirus pandemic\n",
    "\n",
    "“Everyone is pausing their campaigns on YouTube.”\n",
    "\n",
    "https://onezero.medium.com/as-youtube-traffic-soars-youtubers-say-pay-is-plummeting-30dc1ba444db"
   ]
  },
  {
   "cell_type": "markdown",
   "metadata": {},
   "source": [
    "### Matplotlib 소개\n",
    "\n",
    "Pandas의 기본 기능에서 벗어나 시각화 패키지를 활용해 봅시다. 더 편리하고 다양한 시각화 옵션들을 제공합니다. 그래픽 유저 인터페이스가 아닌지라 처음에는 헷갈릴 수 있지만, 익숙해지면 데이터 분석과 동시에 빠르게 시각화를 만들어낼 수 있는 도구가 됩니다.\n",
    "\n",
    "- Matplotlib 소개: https://matplotlib.org/3.2.1/index.html\n",
    "- Seaborn 소개: https://seaborn.pydata.org/introduction.html\n",
    "\n",
    "Matplotlib은 자유도가 굉장히 높은 도구이기 때문에 수업에서는 기본 사용 방법만 소개합니다. Seaborn은 matplotlib에 기반한 시각화 라이브러리로 다양한 그래프 옵션을 제공합니다.\n",
    "- 갤러리: https://matplotlib.org/3.2.1/gallery/index.html\n",
    "\n",
    "가장 먼저 matplotlib과 seaborn의 최신 버전을 설치합니다. 설치가 성공했으면 두 번 실행할 필요는 없으며, Google colab은 이미 최신 버전으로 설치되어 있으므로 굳이 설치할 필요가 없습니다."
   ]
  },
  {
   "cell_type": "code",
   "execution_count": null,
   "metadata": {},
   "outputs": [],
   "source": [
    "# Matplotlib version update\n",
    "\n",
    "!pip install matplotlib"
   ]
  },
  {
   "cell_type": "code",
   "execution_count": null,
   "metadata": {},
   "outputs": [],
   "source": [
    "# seaborn version update\n",
    "\n",
    "!pip install seaborn"
   ]
  },
  {
   "cell_type": "code",
   "execution_count": 8,
   "metadata": {},
   "outputs": [
    {
     "name": "stdout",
     "output_type": "stream",
     "text": [
      "3.2.2\n",
      "0.10.1\n"
     ]
    }
   ],
   "source": [
    "import matplotlib\n",
    "import matplotlib.pyplot as plt # == from matplotlib import pyplot as plt\n",
    "import seaborn as sns\n",
    "\n",
    "# 그래프의 결과를 출력할 것\n",
    "%matplotlib inline \n",
    "\n",
    "print(matplotlib.__version__) \n",
    "print(sns.__version__)"
   ]
  },
  {
   "cell_type": "markdown",
   "metadata": {},
   "source": [
    "Matplotlib은 figure, axes, axis로 이루어져 있습니다. Figure는 전체 차트이며, 그 안에 여러 axes, 즉 그래프를 그리기 위한 공간을 가지고 있을 수 있습니다. Axis는 축입니다. 그림으로 살펴봅시다.\n",
    "\n",
    "<img src='https://wikidocs.net/images/page/14604/4-5.png' width='500'/>"
   ]
  },
  {
   "cell_type": "markdown",
   "metadata": {},
   "source": [
    "Figure를 구성하는 세부 요소는 다음과 같습니다.\n",
    "\n",
    "<img src='https://matplotlib.org/_images/anatomy.png' width='600'/>\n",
    "\n",
    "https://matplotlib.org/tutorials/introductory/usage.html#sphx-glr-tutorials-introductory-usage-py"
   ]
  },
  {
   "cell_type": "markdown",
   "metadata": {},
   "source": [
    "Matplotlib에서 plt는 MATLAB이라는 프로그램 스타일의 그래프를 그릴 수 있게 돕는 인터페이스입니다. Matplotlib는 크게 __pyplot API__와 __object-oriented API__ 두 가지의 사용 패턴을 소개하는데, 수업에서는 주로 후자를 다룹니다.\n",
    "\n",
    "https://matplotlib.org/3.2.1/api/index.html\n",
    "\n",
    "Figure와 axes의 역할을 예시를 통해 알아봅시다."
   ]
  },
  {
   "cell_type": "code",
   "execution_count": 9,
   "metadata": {
    "scrolled": false
   },
   "outputs": [
    {
     "data": {
      "image/png": "[encoded data removed]",
      "text/plain": [
       "<Figure size 360x216 with 1 Axes>"
      ]
     },
     "metadata": {
      "needs_background": "light"
     },
     "output_type": "display_data"
    }
   ],
   "source": [
    "fig, ax = plt.subplots(figsize = (5, 3))  "
   ]
  },
  {
   "cell_type": "markdown",
   "metadata": {},
   "source": [
    "plt.subplots()으로 figure와 axes 객체를 만들었습니다. Axes에 아무것도 없기 때문에 빈 화면만 나타납니다. Plt.subplots에서 figsize는 인치(inch)입니다."
   ]
  },
  {
   "cell_type": "code",
   "execution_count": 10,
   "metadata": {
    "scrolled": false
   },
   "outputs": [
    {
     "data": {
      "text/plain": [
       "[<matplotlib.lines.Line2D at 0x19f37379a60>]"
      ]
     },
     "execution_count": 10,
     "metadata": {},
     "output_type": "execute_result"
    },
    {
     "data": {
      "image/png": "[encoded data removed]",
      "text/plain": [
       "<Figure size 432x288 with 1 Axes>"
      ]
     },
     "metadata": {
      "needs_background": "light"
     },
     "output_type": "display_data"
    }
   ],
   "source": [
    "fig, ax = plt.subplots()  \n",
    "ax.plot([1, 2, 3, 4], [1, 4, 2, 3]) "
   ]
  },
  {
   "cell_type": "markdown",
   "metadata": {},
   "source": [
    "Axes의 다른 구성 요소들을 건드려 봅시다. #1에서처럼 여러 함수를 쓸 수도, #2에서처럼 axes.set의 여러 매개변수로 수정/추가할 수 있습니다."
   ]
  },
  {
   "cell_type": "code",
   "execution_count": 11,
   "metadata": {},
   "outputs": [
    {
     "data": {
      "image/png": "[encoded data removed]",
      "text/plain": [
       "<Figure size 432x288 with 1 Axes>"
      ]
     },
     "metadata": {
      "needs_background": "light"
     },
     "output_type": "display_data"
    }
   ],
   "source": [
    "# 1\n",
    "fig, ax = plt.subplots()  \n",
    "ax.plot([1, 2, 3, 4], [1, 4, 2, 3]) \n",
    "\n",
    "ax.set_title(\"sample graph\")\n",
    "ax.set_xlabel(\"sample xlabel\")\n",
    "ax.set_ylabel(\"sample ylabel\")\n",
    "\n",
    "plt.show() # 그래프만 보여주기"
   ]
  },
  {
   "cell_type": "code",
   "execution_count": 12,
   "metadata": {},
   "outputs": [
    {
     "data": {
      "image/png": "[encoded data removed]",
      "text/plain": [
       "<Figure size 432x288 with 1 Axes>"
      ]
     },
     "metadata": {
      "needs_background": "light"
     },
     "output_type": "display_data"
    }
   ],
   "source": [
    "# 2\n",
    "fig, ax = plt.subplots()  \n",
    "ax.plot([1, 2, 3, 4], [1, 4, 2, 3], \n",
    "        color = 'green') \n",
    "\n",
    "ax.set(title = \"sample graph\", \n",
    "       xlabel = \"sample xlabel\",\n",
    "      ylabel = \"sample ylabel\")\n",
    "\n",
    "plt.show()"
   ]
  },
  {
   "cell_type": "markdown",
   "metadata": {},
   "source": [
    "하나의 화면에 여러 개의 그래프를 그릴 수 있습니다."
   ]
  },
  {
   "cell_type": "code",
   "execution_count": 13,
   "metadata": {
    "scrolled": true
   },
   "outputs": [
    {
     "data": {
      "image/png": "[encoded data removed]",
      "text/plain": [
       "<Figure size 432x288 with 1 Axes>"
      ]
     },
     "metadata": {
      "needs_background": "light"
     },
     "output_type": "display_data"
    }
   ],
   "source": [
    "fig, ax = plt.subplots()  \n",
    "ax.plot([1, 2, 3, 4], [1, 4, 2, 3]) \n",
    "ax.plot([1, 2, 3, 4], [4, 1, 3, 2]) \n",
    "\n",
    "plt.show()"
   ]
  },
  {
   "cell_type": "markdown",
   "metadata": {},
   "source": [
    "하나의 figure에 여러 개의 axes를 그려 축을 비롯한 여러 구성요소들을 따로 가져갈 수 있습니다."
   ]
  },
  {
   "cell_type": "code",
   "execution_count": 15,
   "metadata": {
    "scrolled": true
   },
   "outputs": [
    {
     "data": {
      "image/png": "[encoded data removed]",
      "text/plain": [
       "<Figure size 432x288 with 2 Axes>"
      ]
     },
     "metadata": {
      "needs_background": "light"
     },
     "output_type": "display_data"
    }
   ],
   "source": [
    "fig, axs = plt.subplots(nrows = 2, ncols = 1)\n",
    "axs[0].plot([1, 2, 3, 4], [1, 4, 2, 3]) \n",
    "axs[1].plot([100, 200, 300, 400], [330, 110, 180, 400], marker = 'o') \n",
    "\n",
    "axs[0].set_title(\"샘플\") # 한글 가능한 폰트로 바꾸어줄 필요 있음\n",
    "axs[1].set_ylabel(\"샘플y축\")\n",
    "\n",
    "plt.show()"
   ]
  },
  {
   "cell_type": "markdown",
   "metadata": {},
   "source": [
    "위 코드에서 경고의 원인은 한국어를 지원하지 않는 폰트입니다. Matplotlib의 기본 폰트를 한국어를 지원하는 폰트로 바꾸어 줄 필요가 있습니다. 복사/붙여넣기로 사용하시면 됩니다. 맥, 윈도우, 리눅스 운영체제에서 기능하는 코드입니다.\n",
    "\n",
    "colab에서 한번에 되지 않는다면 런타임 다시 시작 - 기존의 패키지 import 모두 실행 - 다시 하단의 셀 실행 순서로 작업해 보세요."
   ]
  },
  {
   "cell_type": "code",
   "execution_count": 16,
   "metadata": {},
   "outputs": [],
   "source": [
    "import platform\n",
    "from matplotlib import font_manager, rc\n",
    "import matplotlib.pyplot as plt\n",
    "plt.rcParams['axes.unicode_minus'] = False\n",
    "\n",
    "if platform.system() == 'Darwin':\n",
    "    rc('font', family = 'AppleGothic')\n",
    "elif platform.system() == 'Windows': \n",
    "    path = 'c:\\Windows\\Fonts\\malgun.ttf'\n",
    "    font_name = font_manager.FontProperties(fname = path).get_name()\n",
    "    rc('font', family = font_name)\n",
    "elif platform.system() == \"Linux\":\n",
    "    !apt -qq -y install fonts-nanum\n",
    "    fontpath = '/usr/share/fonts/truetype/nanum/NanumBarunGothic.ttf'\n",
    "    font = font_manager.FontProperties(fname=fontpath, size=9)\n",
    "    rc('font', family='NanumBarunGothic') \n",
    "    font_manager._rebuild()\n",
    "else:\n",
    "    print(\"unknown system\")"
   ]
  },
  {
   "cell_type": "markdown",
   "metadata": {},
   "source": [
    "지금까지 해 온 것처럼 DataFrame 기반으로 그래프를 그려 넣을 수 있습니다."
   ]
  },
  {
   "cell_type": "code",
   "execution_count": 17,
   "metadata": {
    "scrolled": false
   },
   "outputs": [
    {
     "data": {
      "image/png": "[encoded data removed]",
      "text/plain": [
       "<Figure size 360x144 with 2 Axes>"
      ]
     },
     "metadata": {
      "needs_background": "light"
     },
     "output_type": "display_data"
    }
   ],
   "source": [
    "fig, axs = plt.subplots(nrows = 1, ncols = 2, figsize = (5, 2))\n",
    "axs[0].hist(purchase[purchase['c01'].notna()]['gender']) \n",
    "axs[1].hist(purchase[purchase['c01'].notna()]['age_gr'])\n",
    "\n",
    "plt.show()"
   ]
  },
  {
   "cell_type": "markdown",
   "metadata": {},
   "source": [
    "Axes 객체를 이용해서 다음과 같은 기본 그래프를 비롯해서 다양한 그래프를 그릴 수 있습니다. 6주차에는 이 중 bar(수직막대그래프)와 barh(수평막대그래프)만 사용합니다.\n",
    "\n",
    "\n",
    "공식문서: https://matplotlib.org/api/axes_api.html"
   ]
  },
  {
   "cell_type": "markdown",
   "metadata": {},
   "source": [
    "<div class=\"section\" id=\"basic\">\n",
    "<h3>Basic</h3>\n",
    "<table border=\"1\" class=\"longtable docutils align-default\">\n",
    "<colgroup>\n",
    "<col width=\"10%\" />\n",
    "<col width=\"90%\" />\n",
    "</colgroup>\n",
    "<tbody valign=\"top\">\n",
    "<tr class=\"row-odd\"><td><a class=\"reference internal\"  title=\"matplotlib.axes.Axes.plot\"><code class=\"xref py py-obj docutils literal notranslate\"><span class=\"pre\">Axes.plot</span></code></a></td>\n",
    "<td>Plot y versus x as lines and/or markers.</td>\n",
    "</tr>\n",
    "<tr class=\"row-even\"><td><a class=\"reference internal\"  title=\"matplotlib.axes.Axes.errorbar\"><code class=\"xref py py-obj docutils literal notranslate\"><span class=\"pre\">Axes.errorbar</span></code></a></td>\n",
    "<td>Plot y versus x as lines and/or markers with attached errorbars.</td>\n",
    "</tr>\n",
    "<tr class=\"row-odd\"><td><a class=\"reference internal\"  title=\"matplotlib.axes.Axes.scatter\"><code class=\"xref py py-obj docutils literal notranslate\"><span class=\"pre\">Axes.scatter</span></code></a></td>\n",
    "<td>A scatter plot of <em>y</em> vs.</td>\n",
    "</tr>\n",
    "<tr class=\"row-even\"><td><a class=\"reference internal\" title=\"matplotlib.axes.Axes.plot_date\"><code class=\"xref py py-obj docutils literal notranslate\"><span class=\"pre\">Axes.plot_date</span></code></a></td>\n",
    "<td>Plot data that contains dates.</td>\n",
    "</tr>\n",
    "<tr class=\"row-odd\"><td><a class=\"reference internal\"  title=\"matplotlib.axes.Axes.step\"><code class=\"xref py py-obj docutils literal notranslate\"><span class=\"pre\">Axes.step</span></code></a></td>\n",
    "<td>Make a step plot.</td>\n",
    "</tr>\n",
    "<tr class=\"row-even\"><td><a class=\"reference internal\"  title=\"matplotlib.axes.Axes.loglog\"><code class=\"xref py py-obj docutils literal notranslate\"><span class=\"pre\">Axes.loglog</span></code></a></td>\n",
    "<td>Make a plot with log scaling on both the x and y axis.</td>\n",
    "</tr>\n",
    "<tr class=\"row-odd\"><td><a class=\"reference internal\"  title=\"matplotlib.axes.Axes.semilogx\"><code class=\"xref py py-obj docutils literal notranslate\"><span class=\"pre\">Axes.semilogx</span></code></a></td>\n",
    "<td>Make a plot with log scaling on the x axis.</td>\n",
    "</tr>\n",
    "<tr class=\"row-even\"><td><a class=\"reference internal\"  title=\"matplotlib.axes.Axes.semilogy\"><code class=\"xref py py-obj docutils literal notranslate\"><span class=\"pre\">Axes.semilogy</span></code></a></td>\n",
    "<td>Make a plot with log scaling on the y axis.</td>\n",
    "</tr>\n",
    "<tr class=\"row-odd\"><td><a class=\"reference internal\" title=\"matplotlib.axes.Axes.fill_between\"><code class=\"xref py py-obj docutils literal notranslate\"><span class=\"pre\">Axes.fill_between</span></code></a></td>\n",
    "<td>Fill the area between two horizontal curves.</td>\n",
    "</tr>\n",
    "<tr class=\"row-even\"><td><a class=\"reference internal\" title=\"matplotlib.axes.Axes.fill_betweenx\"><code class=\"xref py py-obj docutils literal notranslate\"><span class=\"pre\">Axes.fill_betweenx</span></code></a></td>\n",
    "<td>Fill the area between two vertical curves.</td>\n",
    "</tr>\n",
    "<tr class=\"row-odd\"><td><a class=\"reference internal\" title=\"matplotlib.axes.Axes.bar\"><code class=\"xref py py-obj docutils literal notranslate\"><span class=\"pre\">Axes.bar</span></code></a></td>\n",
    "<td>Make a bar plot.</td>\n",
    "</tr>\n",
    "<tr class=\"row-even\"><td><a class=\"reference internal\" title=\"matplotlib.axes.Axes.barh\"><code class=\"xref py py-obj docutils literal notranslate\"><span class=\"pre\">Axes.barh</span></code></a></td>\n",
    "<td>Make a horizontal bar plot.</td>\n",
    "</tr>\n",
    "<tr class=\"row-odd\"><td><a class=\"reference internal\"  title=\"matplotlib.axes.Axes.stem\"><code class=\"xref py py-obj docutils literal notranslate\"><span class=\"pre\">Axes.stem</span></code></a></td>\n",
    "<td>Create a stem plot.</td>\n",
    "</tr>\n",
    "<tr class=\"row-even\"><td><a class=\"reference internal\"  title=\"matplotlib.axes.Axes.eventplot\"><code class=\"xref py py-obj docutils literal notranslate\"><span class=\"pre\">Axes.eventplot</span></code></a></td>\n",
    "<td>Plot identical parallel lines at the given positions.</td>\n",
    "</tr>\n",
    "<tr class=\"row-odd\"><td><a class=\"reference internal\" title=\"matplotlib.axes.Axes.pie\"><code class=\"xref py py-obj docutils literal notranslate\"><span class=\"pre\">Axes.pie</span></code></a></td>\n",
    "<td>Plot a pie chart.</td>\n",
    "</tr>\n",
    "<tr class=\"row-even\"><td><a class=\"reference internal\" title=\"matplotlib.axes.Axes.stackplot\"><code class=\"xref py py-obj docutils literal notranslate\"><span class=\"pre\">Axes.stackplot</span></code></a></td>\n",
    "<td>Draw a stacked area plot.</td>\n",
    "</tr>\n",
    "<tr class=\"row-odd\"><td><a class=\"reference internal\"  title=\"matplotlib.axes.Axes.broken_barh\"><code class=\"xref py py-obj docutils literal notranslate\"><span class=\"pre\">Axes.broken_barh</span></code></a></td>\n",
    "<td>Plot a horizontal sequence of rectangles.</td>\n",
    "</tr>\n",
    "<tr class=\"row-even\"><td><a class=\"reference internal\"  title=\"matplotlib.axes.Axes.vlines\"><code class=\"xref py py-obj docutils literal notranslate\"><span class=\"pre\">Axes.vlines</span></code></a></td>\n",
    "<td>Plot vertical lines.</td>\n",
    "</tr>\n",
    "<tr class=\"row-odd\"><td><a class=\"reference internal\"  title=\"matplotlib.axes.Axes.hlines\"><code class=\"xref py py-obj docutils literal notranslate\"><span class=\"pre\">Axes.hlines</span></code></a></td>\n",
    "<td>Plot horizontal lines at each <em>y</em> from <em>xmin</em> to <em>xmax</em>.</td>\n",
    "</tr>\n",
    "<tr class=\"row-even\"><td><a class=\"reference internal\"  title=\"matplotlib.axes.Axes.fill\"><code class=\"xref py py-obj docutils literal notranslate\"><span class=\"pre\">Axes.fill</span></code></a></td>\n",
    "<td>Plot filled polygons.</td>\n",
    "</tr>\n",
    "</tbody>\n",
    "</table>\n",
    "</div>"
   ]
  },
  {
   "cell_type": "markdown",
   "metadata": {},
   "source": [
    "하나의 figure에 필요하다면 여러 그래프(axes)를 그릴 수 있다는 점을 확인했습니다. 이제는 질문에 따라 여러 그래프를 그려봅시다.그 전에 groupby를 알고 넘어가야 합니다."
   ]
  },
  {
   "cell_type": "markdown",
   "metadata": {},
   "source": [
    "### groupby\n",
    "\n",
    "특정 열을 중심으로(보통 범주형) 데이터를 묶어서 통계량 등을 살펴볼 수 있습니다. \n",
    "\n",
    "groupby()에서 멈추는 경우에는 groupby object만 리턴할 뿐 어떤 결과도 볼 수 없으며, 데이터를 그룹으로 묶은 후에 __어떤 작업을 할지 지정__해 주어야 합니다. 자주 쓰는 함수는 아래와 같습니다.\n",
    "\n",
    "<table class=\"colwidths-given table\">\n",
    "<colgroup>\n",
    "<col style=\"width: 20%\" />\n",
    "<col style=\"width: 80%\" />\n",
    "</colgroup>\n",
    "<thead>\n",
    "<tr class=\"row-odd\"><th class=\"head\"><p>Function</p></th>\n",
    "<th class=\"head\"><p>Description</p></th>\n",
    "</tr>\n",
    "</thead>\n",
    "<tbody>\n",
    "<tr class=\"row-even\"><td><p><code class=\"xref py py-meth docutils literal notranslate\"><span class=\"pre\">mean()</span></code></p></td>\n",
    "<td><p>Compute mean of groups</p></td>\n",
    "</tr>\n",
    "<tr class=\"row-odd\"><td><p><code class=\"xref py py-meth docutils literal notranslate\"><span class=\"pre\">sum()</span></code></p></td>\n",
    "<td><p>Compute sum of group values</p></td>\n",
    "<tr class=\"row-odd\"><td><p><code class=\"xref py py-meth docutils literal notranslate\"><span class=\"pre\">count()</span></code></p></td>\n",
    "<td><p>Compute count of group</p></td>\n",
    "</tr>\n",
    "<tr class=\"row-odd\"><td><p><code class=\"xref py py-meth docutils literal notranslate\"><span class=\"pre\">describe()</span></code></p></td>\n",
    "<td><p>Generates descriptive statistics</p></td>\n",
    "</tr>\n",
    "<tr class=\"row-odd\"><td><p><code class=\"xref py py-meth docutils literal notranslate\"><span class=\"pre\">min()</span></code></p></td>\n",
    "<td><p>Compute min of group values</p></td>\n",
    "</tr>\n",
    "<tr class=\"row-even\"><td><p><code class=\"xref py py-meth docutils literal notranslate\"><span class=\"pre\">max()</span></code></p></td>\n",
    "<td><p>Compute max of group values</p></td>\n",
    "</tr>\n",
    "</tbody>\n",
    "</table>\n",
    "\n",
    "https://pandas.pydata.org/pandas-docs/stable/user_guide/groupby.html"
   ]
  },
  {
   "cell_type": "code",
   "execution_count": 18,
   "metadata": {
    "scrolled": false
   },
   "outputs": [
    {
     "data": {
      "text/html": [
       "<div>\n",
       "<style scoped>\n",
       "    .dataframe tbody tr th:only-of-type {\n",
       "        vertical-align: middle;\n",
       "    }\n",
       "\n",
       "    .dataframe tbody tr th {\n",
       "        vertical-align: top;\n",
       "    }\n",
       "\n",
       "    .dataframe thead th {\n",
       "        text-align: right;\n",
       "    }\n",
       "</style>\n",
       "<table border=\"1\" class=\"dataframe\">\n",
       "  <thead>\n",
       "    <tr style=\"text-align: right;\">\n",
       "      <th></th>\n",
       "      <th>pid</th>\n",
       "      <th>area_siz</th>\n",
       "      <th>gender</th>\n",
       "      <th>age_gr</th>\n",
       "      <th>age</th>\n",
       "      <th>c01</th>\n",
       "      <th>c01_gr</th>\n",
       "      <th>c02</th>\n",
       "      <th>c02_gr</th>\n",
       "      <th>c03</th>\n",
       "      <th>c03_gr</th>\n",
       "      <th>c04</th>\n",
       "      <th>c04_gr</th>\n",
       "      <th>c05</th>\n",
       "      <th>c05_gr</th>\n",
       "    </tr>\n",
       "  </thead>\n",
       "  <tbody>\n",
       "    <tr>\n",
       "      <th>count</th>\n",
       "      <td>1.086400e+04</td>\n",
       "      <td>10864.000000</td>\n",
       "      <td>10864.000000</td>\n",
       "      <td>10864.000000</td>\n",
       "      <td>10864.000000</td>\n",
       "      <td>121.000000</td>\n",
       "      <td>1647.000000</td>\n",
       "      <td>258.000000</td>\n",
       "      <td>2038.000000</td>\n",
       "      <td>257.000000</td>\n",
       "      <td>1275.000000</td>\n",
       "      <td>622.000000</td>\n",
       "      <td>1833.000000</td>\n",
       "      <td>203.000000</td>\n",
       "      <td>1550.000000</td>\n",
       "    </tr>\n",
       "    <tr>\n",
       "      <th>mean</th>\n",
       "      <td>5.003951e+07</td>\n",
       "      <td>1.094532</td>\n",
       "      <td>1.541053</td>\n",
       "      <td>5.196705</td>\n",
       "      <td>47.126289</td>\n",
       "      <td>12.644628</td>\n",
       "      <td>1.149970</td>\n",
       "      <td>9.736434</td>\n",
       "      <td>1.200196</td>\n",
       "      <td>11.638132</td>\n",
       "      <td>1.402353</td>\n",
       "      <td>7.778135</td>\n",
       "      <td>1.414075</td>\n",
       "      <td>13.650246</td>\n",
       "      <td>1.280000</td>\n",
       "    </tr>\n",
       "    <tr>\n",
       "      <th>std</th>\n",
       "      <td>3.767155e+07</td>\n",
       "      <td>0.292581</td>\n",
       "      <td>0.498335</td>\n",
       "      <td>1.985370</td>\n",
       "      <td>20.679911</td>\n",
       "      <td>15.626292</td>\n",
       "      <td>0.713503</td>\n",
       "      <td>14.885827</td>\n",
       "      <td>0.693019</td>\n",
       "      <td>9.381945</td>\n",
       "      <td>1.091063</td>\n",
       "      <td>5.472134</td>\n",
       "      <td>0.776538</td>\n",
       "      <td>16.651074</td>\n",
       "      <td>1.011388</td>\n",
       "    </tr>\n",
       "    <tr>\n",
       "      <th>min</th>\n",
       "      <td>1.000100e+04</td>\n",
       "      <td>1.000000</td>\n",
       "      <td>1.000000</td>\n",
       "      <td>1.000000</td>\n",
       "      <td>6.000000</td>\n",
       "      <td>1.000000</td>\n",
       "      <td>1.000000</td>\n",
       "      <td>1.000000</td>\n",
       "      <td>1.000000</td>\n",
       "      <td>1.000000</td>\n",
       "      <td>1.000000</td>\n",
       "      <td>1.000000</td>\n",
       "      <td>1.000000</td>\n",
       "      <td>1.000000</td>\n",
       "      <td>1.000000</td>\n",
       "    </tr>\n",
       "    <tr>\n",
       "      <th>25%</th>\n",
       "      <td>1.640250e+07</td>\n",
       "      <td>1.000000</td>\n",
       "      <td>1.000000</td>\n",
       "      <td>4.000000</td>\n",
       "      <td>30.000000</td>\n",
       "      <td>5.000000</td>\n",
       "      <td>1.000000</td>\n",
       "      <td>5.000000</td>\n",
       "      <td>1.000000</td>\n",
       "      <td>6.000000</td>\n",
       "      <td>1.000000</td>\n",
       "      <td>5.000000</td>\n",
       "      <td>1.000000</td>\n",
       "      <td>5.000000</td>\n",
       "      <td>1.000000</td>\n",
       "    </tr>\n",
       "    <tr>\n",
       "      <th>50%</th>\n",
       "      <td>5.170000e+07</td>\n",
       "      <td>1.000000</td>\n",
       "      <td>2.000000</td>\n",
       "      <td>5.000000</td>\n",
       "      <td>49.000000</td>\n",
       "      <td>10.000000</td>\n",
       "      <td>1.000000</td>\n",
       "      <td>9.000000</td>\n",
       "      <td>1.000000</td>\n",
       "      <td>10.000000</td>\n",
       "      <td>1.000000</td>\n",
       "      <td>8.000000</td>\n",
       "      <td>1.000000</td>\n",
       "      <td>10.000000</td>\n",
       "      <td>1.000000</td>\n",
       "    </tr>\n",
       "    <tr>\n",
       "      <th>75%</th>\n",
       "      <td>6.890000e+07</td>\n",
       "      <td>1.000000</td>\n",
       "      <td>2.000000</td>\n",
       "      <td>7.000000</td>\n",
       "      <td>62.000000</td>\n",
       "      <td>13.000000</td>\n",
       "      <td>1.000000</td>\n",
       "      <td>10.000000</td>\n",
       "      <td>1.000000</td>\n",
       "      <td>12.000000</td>\n",
       "      <td>1.000000</td>\n",
       "      <td>10.000000</td>\n",
       "      <td>2.000000</td>\n",
       "      <td>11.500000</td>\n",
       "      <td>1.000000</td>\n",
       "    </tr>\n",
       "    <tr>\n",
       "      <th>max</th>\n",
       "      <td>1.183300e+08</td>\n",
       "      <td>2.000000</td>\n",
       "      <td>2.000000</td>\n",
       "      <td>8.000000</td>\n",
       "      <td>104.000000</td>\n",
       "      <td>100.000000</td>\n",
       "      <td>8.000000</td>\n",
       "      <td>200.000000</td>\n",
       "      <td>8.000000</td>\n",
       "      <td>65.000000</td>\n",
       "      <td>8.000000</td>\n",
       "      <td>80.000000</td>\n",
       "      <td>8.000000</td>\n",
       "      <td>102.000000</td>\n",
       "      <td>8.000000</td>\n",
       "    </tr>\n",
       "  </tbody>\n",
       "</table>\n",
       "</div>"
      ],
      "text/plain": [
       "                pid      area_siz        gender        age_gr           age  \\\n",
       "count  1.086400e+04  10864.000000  10864.000000  10864.000000  10864.000000   \n",
       "mean   5.003951e+07      1.094532      1.541053      5.196705     47.126289   \n",
       "std    3.767155e+07      0.292581      0.498335      1.985370     20.679911   \n",
       "min    1.000100e+04      1.000000      1.000000      1.000000      6.000000   \n",
       "25%    1.640250e+07      1.000000      1.000000      4.000000     30.000000   \n",
       "50%    5.170000e+07      1.000000      2.000000      5.000000     49.000000   \n",
       "75%    6.890000e+07      1.000000      2.000000      7.000000     62.000000   \n",
       "max    1.183300e+08      2.000000      2.000000      8.000000    104.000000   \n",
       "\n",
       "              c01       c01_gr         c02       c02_gr         c03  \\\n",
       "count  121.000000  1647.000000  258.000000  2038.000000  257.000000   \n",
       "mean    12.644628     1.149970    9.736434     1.200196   11.638132   \n",
       "std     15.626292     0.713503   14.885827     0.693019    9.381945   \n",
       "min      1.000000     1.000000    1.000000     1.000000    1.000000   \n",
       "25%      5.000000     1.000000    5.000000     1.000000    6.000000   \n",
       "50%     10.000000     1.000000    9.000000     1.000000   10.000000   \n",
       "75%     13.000000     1.000000   10.000000     1.000000   12.000000   \n",
       "max    100.000000     8.000000  200.000000     8.000000   65.000000   \n",
       "\n",
       "            c03_gr         c04       c04_gr         c05       c05_gr  \n",
       "count  1275.000000  622.000000  1833.000000  203.000000  1550.000000  \n",
       "mean      1.402353    7.778135     1.414075   13.650246     1.280000  \n",
       "std       1.091063    5.472134     0.776538   16.651074     1.011388  \n",
       "min       1.000000    1.000000     1.000000    1.000000     1.000000  \n",
       "25%       1.000000    5.000000     1.000000    5.000000     1.000000  \n",
       "50%       1.000000    8.000000     1.000000   10.000000     1.000000  \n",
       "75%       1.000000   10.000000     2.000000   11.500000     1.000000  \n",
       "max       8.000000   80.000000     8.000000  102.000000     8.000000  "
      ]
     },
     "execution_count": 18,
     "metadata": {},
     "output_type": "execute_result"
    }
   ],
   "source": [
    "purchase.describe()"
   ]
  },
  {
   "cell_type": "code",
   "execution_count": 19,
   "metadata": {},
   "outputs": [
    {
     "data": {
      "text/html": [
       "<div>\n",
       "<style scoped>\n",
       "    .dataframe tbody tr th:only-of-type {\n",
       "        vertical-align: middle;\n",
       "    }\n",
       "\n",
       "    .dataframe tbody tr th {\n",
       "        vertical-align: top;\n",
       "    }\n",
       "\n",
       "    .dataframe thead tr th {\n",
       "        text-align: left;\n",
       "    }\n",
       "\n",
       "    .dataframe thead tr:last-of-type th {\n",
       "        text-align: right;\n",
       "    }\n",
       "</style>\n",
       "<table border=\"1\" class=\"dataframe\">\n",
       "  <thead>\n",
       "    <tr>\n",
       "      <th></th>\n",
       "      <th colspan=\"8\" halign=\"left\">pid</th>\n",
       "      <th colspan=\"2\" halign=\"left\">area_siz</th>\n",
       "      <th>...</th>\n",
       "      <th colspan=\"2\" halign=\"left\">c05</th>\n",
       "      <th colspan=\"8\" halign=\"left\">c05_gr</th>\n",
       "    </tr>\n",
       "    <tr>\n",
       "      <th></th>\n",
       "      <th>count</th>\n",
       "      <th>mean</th>\n",
       "      <th>std</th>\n",
       "      <th>min</th>\n",
       "      <th>25%</th>\n",
       "      <th>50%</th>\n",
       "      <th>75%</th>\n",
       "      <th>max</th>\n",
       "      <th>count</th>\n",
       "      <th>mean</th>\n",
       "      <th>...</th>\n",
       "      <th>75%</th>\n",
       "      <th>max</th>\n",
       "      <th>count</th>\n",
       "      <th>mean</th>\n",
       "      <th>std</th>\n",
       "      <th>min</th>\n",
       "      <th>25%</th>\n",
       "      <th>50%</th>\n",
       "      <th>75%</th>\n",
       "      <th>max</th>\n",
       "    </tr>\n",
       "    <tr>\n",
       "      <th>age_gr</th>\n",
       "      <th></th>\n",
       "      <th></th>\n",
       "      <th></th>\n",
       "      <th></th>\n",
       "      <th></th>\n",
       "      <th></th>\n",
       "      <th></th>\n",
       "      <th></th>\n",
       "      <th></th>\n",
       "      <th></th>\n",
       "      <th></th>\n",
       "      <th></th>\n",
       "      <th></th>\n",
       "      <th></th>\n",
       "      <th></th>\n",
       "      <th></th>\n",
       "      <th></th>\n",
       "      <th></th>\n",
       "      <th></th>\n",
       "      <th></th>\n",
       "      <th></th>\n",
       "    </tr>\n",
       "  </thead>\n",
       "  <tbody>\n",
       "    <tr>\n",
       "      <th>1</th>\n",
       "      <td>214.0</td>\n",
       "      <td>6.544164e+07</td>\n",
       "      <td>4.337654e+07</td>\n",
       "      <td>100003.0</td>\n",
       "      <td>20385003.25</td>\n",
       "      <td>63050003.5</td>\n",
       "      <td>1.094925e+08</td>\n",
       "      <td>118140004.0</td>\n",
       "      <td>214.0</td>\n",
       "      <td>1.093458</td>\n",
       "      <td>...</td>\n",
       "      <td>15.0</td>\n",
       "      <td>15.0</td>\n",
       "      <td>32.0</td>\n",
       "      <td>1.093750</td>\n",
       "      <td>0.530330</td>\n",
       "      <td>1.0</td>\n",
       "      <td>1.0</td>\n",
       "      <td>1.0</td>\n",
       "      <td>1.0</td>\n",
       "      <td>4.0</td>\n",
       "    </tr>\n",
       "    <tr>\n",
       "      <th>2</th>\n",
       "      <td>1194.0</td>\n",
       "      <td>4.715217e+07</td>\n",
       "      <td>3.819050e+07</td>\n",
       "      <td>30003.0</td>\n",
       "      <td>14260003.25</td>\n",
       "      <td>29090004.0</td>\n",
       "      <td>6.876251e+07</td>\n",
       "      <td>118240005.0</td>\n",
       "      <td>1194.0</td>\n",
       "      <td>1.077889</td>\n",
       "      <td>...</td>\n",
       "      <td>10.5</td>\n",
       "      <td>30.0</td>\n",
       "      <td>262.0</td>\n",
       "      <td>1.187023</td>\n",
       "      <td>0.747501</td>\n",
       "      <td>1.0</td>\n",
       "      <td>1.0</td>\n",
       "      <td>1.0</td>\n",
       "      <td>1.0</td>\n",
       "      <td>7.0</td>\n",
       "    </tr>\n",
       "    <tr>\n",
       "      <th>3</th>\n",
       "      <td>1225.0</td>\n",
       "      <td>4.769425e+07</td>\n",
       "      <td>3.807541e+07</td>\n",
       "      <td>120003.0</td>\n",
       "      <td>15160004.00</td>\n",
       "      <td>28620004.0</td>\n",
       "      <td>7.012000e+07</td>\n",
       "      <td>118300001.0</td>\n",
       "      <td>1225.0</td>\n",
       "      <td>1.053878</td>\n",
       "      <td>...</td>\n",
       "      <td>15.0</td>\n",
       "      <td>100.0</td>\n",
       "      <td>335.0</td>\n",
       "      <td>1.543284</td>\n",
       "      <td>1.430132</td>\n",
       "      <td>1.0</td>\n",
       "      <td>1.0</td>\n",
       "      <td>1.0</td>\n",
       "      <td>1.0</td>\n",
       "      <td>8.0</td>\n",
       "    </tr>\n",
       "    <tr>\n",
       "      <th>4</th>\n",
       "      <td>1028.0</td>\n",
       "      <td>5.668883e+07</td>\n",
       "      <td>3.980450e+07</td>\n",
       "      <td>290003.0</td>\n",
       "      <td>20150003.00</td>\n",
       "      <td>57125002.0</td>\n",
       "      <td>1.024875e+08</td>\n",
       "      <td>118290002.0</td>\n",
       "      <td>1028.0</td>\n",
       "      <td>1.056420</td>\n",
       "      <td>...</td>\n",
       "      <td>10.0</td>\n",
       "      <td>100.0</td>\n",
       "      <td>252.0</td>\n",
       "      <td>1.440476</td>\n",
       "      <td>1.287555</td>\n",
       "      <td>1.0</td>\n",
       "      <td>1.0</td>\n",
       "      <td>1.0</td>\n",
       "      <td>1.0</td>\n",
       "      <td>8.0</td>\n",
       "    </tr>\n",
       "    <tr>\n",
       "      <th>5</th>\n",
       "      <td>1980.0</td>\n",
       "      <td>4.799603e+07</td>\n",
       "      <td>3.935002e+07</td>\n",
       "      <td>10002.0</td>\n",
       "      <td>13312502.00</td>\n",
       "      <td>29820002.0</td>\n",
       "      <td>7.111000e+07</td>\n",
       "      <td>118240002.0</td>\n",
       "      <td>1980.0</td>\n",
       "      <td>1.059091</td>\n",
       "      <td>...</td>\n",
       "      <td>15.0</td>\n",
       "      <td>102.0</td>\n",
       "      <td>325.0</td>\n",
       "      <td>1.218462</td>\n",
       "      <td>0.870450</td>\n",
       "      <td>1.0</td>\n",
       "      <td>1.0</td>\n",
       "      <td>1.0</td>\n",
       "      <td>1.0</td>\n",
       "      <td>8.0</td>\n",
       "    </tr>\n",
       "    <tr>\n",
       "      <th>6</th>\n",
       "      <td>2107.0</td>\n",
       "      <td>4.872641e+07</td>\n",
       "      <td>3.830108e+07</td>\n",
       "      <td>10001.0</td>\n",
       "      <td>14970001.50</td>\n",
       "      <td>40160001.0</td>\n",
       "      <td>7.027500e+07</td>\n",
       "      <td>118270001.0</td>\n",
       "      <td>2107.0</td>\n",
       "      <td>1.057902</td>\n",
       "      <td>...</td>\n",
       "      <td>10.0</td>\n",
       "      <td>15.0</td>\n",
       "      <td>239.0</td>\n",
       "      <td>1.058577</td>\n",
       "      <td>0.325266</td>\n",
       "      <td>1.0</td>\n",
       "      <td>1.0</td>\n",
       "      <td>1.0</td>\n",
       "      <td>1.0</td>\n",
       "      <td>4.0</td>\n",
       "    </tr>\n",
       "    <tr>\n",
       "      <th>7</th>\n",
       "      <td>1402.0</td>\n",
       "      <td>5.311188e+07</td>\n",
       "      <td>3.642483e+07</td>\n",
       "      <td>80001.0</td>\n",
       "      <td>19907502.00</td>\n",
       "      <td>54860001.5</td>\n",
       "      <td>6.821000e+07</td>\n",
       "      <td>118280002.0</td>\n",
       "      <td>1402.0</td>\n",
       "      <td>1.139800</td>\n",
       "      <td>...</td>\n",
       "      <td>10.0</td>\n",
       "      <td>10.0</td>\n",
       "      <td>87.0</td>\n",
       "      <td>1.045977</td>\n",
       "      <td>0.301471</td>\n",
       "      <td>1.0</td>\n",
       "      <td>1.0</td>\n",
       "      <td>1.0</td>\n",
       "      <td>1.0</td>\n",
       "      <td>3.0</td>\n",
       "    </tr>\n",
       "    <tr>\n",
       "      <th>8</th>\n",
       "      <td>1714.0</td>\n",
       "      <td>4.927764e+07</td>\n",
       "      <td>3.170699e+07</td>\n",
       "      <td>130001.0</td>\n",
       "      <td>20485001.75</td>\n",
       "      <td>54845001.5</td>\n",
       "      <td>6.501750e+07</td>\n",
       "      <td>118330001.0</td>\n",
       "      <td>1714.0</td>\n",
       "      <td>1.207118</td>\n",
       "      <td>...</td>\n",
       "      <td>NaN</td>\n",
       "      <td>NaN</td>\n",
       "      <td>18.0</td>\n",
       "      <td>1.000000</td>\n",
       "      <td>0.000000</td>\n",
       "      <td>1.0</td>\n",
       "      <td>1.0</td>\n",
       "      <td>1.0</td>\n",
       "      <td>1.0</td>\n",
       "      <td>1.0</td>\n",
       "    </tr>\n",
       "  </tbody>\n",
       "</table>\n",
       "<p>8 rows × 112 columns</p>\n",
       "</div>"
      ],
      "text/plain": [
       "           pid                                                                 \\\n",
       "         count          mean           std       min          25%         50%   \n",
       "age_gr                                                                          \n",
       "1        214.0  6.544164e+07  4.337654e+07  100003.0  20385003.25  63050003.5   \n",
       "2       1194.0  4.715217e+07  3.819050e+07   30003.0  14260003.25  29090004.0   \n",
       "3       1225.0  4.769425e+07  3.807541e+07  120003.0  15160004.00  28620004.0   \n",
       "4       1028.0  5.668883e+07  3.980450e+07  290003.0  20150003.00  57125002.0   \n",
       "5       1980.0  4.799603e+07  3.935002e+07   10002.0  13312502.00  29820002.0   \n",
       "6       2107.0  4.872641e+07  3.830108e+07   10001.0  14970001.50  40160001.0   \n",
       "7       1402.0  5.311188e+07  3.642483e+07   80001.0  19907502.00  54860001.5   \n",
       "8       1714.0  4.927764e+07  3.170699e+07  130001.0  20485001.75  54845001.5   \n",
       "\n",
       "                                  area_siz            ...   c05        c05_gr  \\\n",
       "                 75%          max    count      mean  ...   75%    max  count   \n",
       "age_gr                                                ...                       \n",
       "1       1.094925e+08  118140004.0    214.0  1.093458  ...  15.0   15.0   32.0   \n",
       "2       6.876251e+07  118240005.0   1194.0  1.077889  ...  10.5   30.0  262.0   \n",
       "3       7.012000e+07  118300001.0   1225.0  1.053878  ...  15.0  100.0  335.0   \n",
       "4       1.024875e+08  118290002.0   1028.0  1.056420  ...  10.0  100.0  252.0   \n",
       "5       7.111000e+07  118240002.0   1980.0  1.059091  ...  15.0  102.0  325.0   \n",
       "6       7.027500e+07  118270001.0   2107.0  1.057902  ...  10.0   15.0  239.0   \n",
       "7       6.821000e+07  118280002.0   1402.0  1.139800  ...  10.0   10.0   87.0   \n",
       "8       6.501750e+07  118330001.0   1714.0  1.207118  ...   NaN    NaN   18.0   \n",
       "\n",
       "                                                     \n",
       "            mean       std  min  25%  50%  75%  max  \n",
       "age_gr                                               \n",
       "1       1.093750  0.530330  1.0  1.0  1.0  1.0  4.0  \n",
       "2       1.187023  0.747501  1.0  1.0  1.0  1.0  7.0  \n",
       "3       1.543284  1.430132  1.0  1.0  1.0  1.0  8.0  \n",
       "4       1.440476  1.287555  1.0  1.0  1.0  1.0  8.0  \n",
       "5       1.218462  0.870450  1.0  1.0  1.0  1.0  8.0  \n",
       "6       1.058577  0.325266  1.0  1.0  1.0  1.0  4.0  \n",
       "7       1.045977  0.301471  1.0  1.0  1.0  1.0  3.0  \n",
       "8       1.000000  0.000000  1.0  1.0  1.0  1.0  1.0  \n",
       "\n",
       "[8 rows x 112 columns]"
      ]
     },
     "execution_count": 19,
     "metadata": {},
     "output_type": "execute_result"
    }
   ],
   "source": [
    "purchase.groupby('age_gr').describe()"
   ]
  },
  {
   "cell_type": "code",
   "execution_count": 20,
   "metadata": {},
   "outputs": [
    {
     "data": {
      "text/plain": [
       "age_gr\n",
       "1    15.000000\n",
       "2    10.000000\n",
       "3    15.410256\n",
       "4    14.400000\n",
       "5    13.085714\n",
       "6     8.600000\n",
       "7    10.000000\n",
       "8          NaN\n",
       "Name: (c05, mean), dtype: float64"
      ]
     },
     "execution_count": 20,
     "metadata": {},
     "output_type": "execute_result"
    }
   ],
   "source": [
    "purchase.groupby('age_gr').describe().loc[:,('c05', 'mean')] # Hierarchical indexing"
   ]
  },
  {
   "cell_type": "code",
   "execution_count": 21,
   "metadata": {},
   "outputs": [
    {
     "data": {
      "text/plain": [
       "age_gr\n",
       "1    15.000000\n",
       "2    10.000000\n",
       "3    15.410256\n",
       "4    14.400000\n",
       "5    13.085714\n",
       "6     8.600000\n",
       "7    10.000000\n",
       "8          NaN\n",
       "Name: c05, dtype: float64"
      ]
     },
     "execution_count": 21,
     "metadata": {},
     "output_type": "execute_result"
    }
   ],
   "source": [
    "purchase.groupby('age_gr').mean().loc[:,'c05']"
   ]
  },
  {
   "cell_type": "markdown",
   "metadata": {},
   "source": [
    "<p style=\"color:#0000FF\";><font size = \"5\"><b>\n",
    " # 연습하기\n",
    "    </b></font></p>\n",
    "\n",
    "DataFrame 'purchase'를 지역구분(area_siz)에 따라 묶고, 시와 군에 각각 몇 명이 사는지 살펴보세요.\n",
    "\n",
    "<table>\n",
    "<thead>\n",
    "<tr>\n",
    "<td width=\"91\">\n",
    "<p>Original</p>\n",
    "</td>\n",
    "<td width=\"97\">\n",
    "<p>Cleaned</p>\n",
    "</td>\n",
    "<td width=\"210\">\n",
    "<p>Description</p>\n",
    "</td>\n",
    "<td>\n",
    "<p>Detail</p>\n",
    "</td>\n",
    "</tr>\n",
    "</thead>\n",
    "<tbody>\n",
    "<tr>\n",
    "<td width=\"91\">\n",
    "<p>pid</p>\n",
    "</td>\n",
    "<td width=\"97\">\n",
    "<p><strong>pid</strong></p>\n",
    "</td>\n",
    "<td width=\"210\">\n",
    "<p>[개인정보] 개인 통합 ID</p>\n",
    "</td>\n",
    "<td>&nbsp;</td>\n",
    "</tr>\n",
    "<tr>\n",
    "<td width=\"91\">\n",
    "<p>p__area_siz</p>\n",
    "</td>\n",
    "<td width=\"97\">\n",
    "<p><strong>area_siz</strong></p>\n",
    "</td>\n",
    "<td width=\"210\">\n",
    "<p>[가구정보] 지역구분</p>\n",
    "</td>\n",
    "<td>\n",
    "<p>① 시부 ② 군부</p>\n",
    "</td>\n",
    "</tr>\n",
    "<tr>\n",
    "    </tbody>"
   ]
  },
  {
   "cell_type": "code",
   "execution_count": null,
   "metadata": {},
   "outputs": [],
   "source": []
  },
  {
   "cell_type": "markdown",
   "metadata": {},
   "source": [
    "### 누적막대그래프(stacked bar plot)\n",
    "\n",
    "누적막대그래프는 빈도를 누적(stacked)하여 보여주는 막대그래프입니다. 여러 빈도의 분포를 비교할 수 있다는 것이 장점입니다. \n",
    "\n",
    "각 온라인 디지털 콘텐츠를 구매하는 사람들을 성별에 따라 보려고 합니다."
   ]
  },
  {
   "cell_type": "code",
   "execution_count": 22,
   "metadata": {},
   "outputs": [
    {
     "data": {
      "text/html": [
       "<div>\n",
       "<style scoped>\n",
       "    .dataframe tbody tr th:only-of-type {\n",
       "        vertical-align: middle;\n",
       "    }\n",
       "\n",
       "    .dataframe tbody tr th {\n",
       "        vertical-align: top;\n",
       "    }\n",
       "\n",
       "    .dataframe thead th {\n",
       "        text-align: right;\n",
       "    }\n",
       "</style>\n",
       "<table border=\"1\" class=\"dataframe\">\n",
       "  <thead>\n",
       "    <tr style=\"text-align: right;\">\n",
       "      <th></th>\n",
       "      <th>pid</th>\n",
       "      <th>area_siz</th>\n",
       "      <th>age_gr</th>\n",
       "      <th>age</th>\n",
       "      <th>c01</th>\n",
       "      <th>c01_gr</th>\n",
       "      <th>c02</th>\n",
       "      <th>c02_gr</th>\n",
       "      <th>c03</th>\n",
       "      <th>c03_gr</th>\n",
       "      <th>c04</th>\n",
       "      <th>c04_gr</th>\n",
       "      <th>c05</th>\n",
       "      <th>c05_gr</th>\n",
       "    </tr>\n",
       "    <tr>\n",
       "      <th>gender</th>\n",
       "      <th></th>\n",
       "      <th></th>\n",
       "      <th></th>\n",
       "      <th></th>\n",
       "      <th></th>\n",
       "      <th></th>\n",
       "      <th></th>\n",
       "      <th></th>\n",
       "      <th></th>\n",
       "      <th></th>\n",
       "      <th></th>\n",
       "      <th></th>\n",
       "      <th></th>\n",
       "      <th></th>\n",
       "    </tr>\n",
       "  </thead>\n",
       "  <tbody>\n",
       "    <tr>\n",
       "      <th>1</th>\n",
       "      <td>4986</td>\n",
       "      <td>4986</td>\n",
       "      <td>4986</td>\n",
       "      <td>4986</td>\n",
       "      <td>54</td>\n",
       "      <td>841</td>\n",
       "      <td>126</td>\n",
       "      <td>1010</td>\n",
       "      <td>126</td>\n",
       "      <td>642</td>\n",
       "      <td>244</td>\n",
       "      <td>821</td>\n",
       "      <td>155</td>\n",
       "      <td>883</td>\n",
       "    </tr>\n",
       "    <tr>\n",
       "      <th>2</th>\n",
       "      <td>5878</td>\n",
       "      <td>5878</td>\n",
       "      <td>5878</td>\n",
       "      <td>5878</td>\n",
       "      <td>67</td>\n",
       "      <td>806</td>\n",
       "      <td>132</td>\n",
       "      <td>1028</td>\n",
       "      <td>131</td>\n",
       "      <td>633</td>\n",
       "      <td>378</td>\n",
       "      <td>1012</td>\n",
       "      <td>48</td>\n",
       "      <td>667</td>\n",
       "    </tr>\n",
       "  </tbody>\n",
       "</table>\n",
       "</div>"
      ],
      "text/plain": [
       "         pid  area_siz  age_gr   age  c01  c01_gr  c02  c02_gr  c03  c03_gr  \\\n",
       "gender                                                                        \n",
       "1       4986      4986    4986  4986   54     841  126    1010  126     642   \n",
       "2       5878      5878    5878  5878   67     806  132    1028  131     633   \n",
       "\n",
       "        c04  c04_gr  c05  c05_gr  \n",
       "gender                            \n",
       "1       244     821  155     883  \n",
       "2       378    1012   48     667  "
      ]
     },
     "execution_count": 22,
     "metadata": {},
     "output_type": "execute_result"
    }
   ],
   "source": [
    "purchase.groupby('gender').count()"
   ]
  },
  {
   "cell_type": "code",
   "execution_count": 23,
   "metadata": {},
   "outputs": [
    {
     "data": {
      "text/plain": [
       "c01     54\n",
       "c02    126\n",
       "c03    126\n",
       "c04    244\n",
       "c05    155\n",
       "Name: 1, dtype: int64"
      ]
     },
     "execution_count": 23,
     "metadata": {},
     "output_type": "execute_result"
    }
   ],
   "source": [
    "purchase.groupby('gender').count().loc[1,['c01', 'c02', 'c03', 'c04', 'c05']]"
   ]
  },
  {
   "cell_type": "code",
   "execution_count": 24,
   "metadata": {},
   "outputs": [
    {
     "data": {
      "text/plain": [
       "c01     67\n",
       "c02    132\n",
       "c03    131\n",
       "c04    378\n",
       "c05     48\n",
       "Name: 2, dtype: int64"
      ]
     },
     "execution_count": 24,
     "metadata": {},
     "output_type": "execute_result"
    }
   ],
   "source": [
    "purchase.groupby('gender').count().loc[2,['c01', 'c02', 'c03', 'c04', 'c05']]"
   ]
  },
  {
   "cell_type": "markdown",
   "metadata": {},
   "source": [
    "누적막대그래프(stacked bar plot)는 matplotlib에서 두 개의 수평막대그래프를 이어서 그립니다."
   ]
  },
  {
   "cell_type": "code",
   "execution_count": 25,
   "metadata": {
    "scrolled": true
   },
   "outputs": [
    {
     "data": {
      "image/png": "[encoded data removed]",
      "text/plain": [
       "<Figure size 432x288 with 1 Axes>"
      ]
     },
     "metadata": {
      "needs_background": "light"
     },
     "output_type": "display_data"
    }
   ],
   "source": [
    "fig, ax = plt.subplots()\n",
    "\n",
    "korlabels = ['온라인 뉴스/잡지/ebook', '동영상/영화', 'TV방송프로그램', '음악', '게임']\n",
    "male_count = purchase.groupby('gender').count().loc[1,['c01', 'c02', 'c03', 'c04', 'c05']]\n",
    "female_count = purchase.groupby('gender').count().loc[2,['c01', 'c02', 'c03', 'c04', 'c05']]\n",
    "\n",
    "ax.barh(korlabels, \n",
    "       male_count, \n",
    "       label='남성')\n",
    "\n",
    "ax.barh(korlabels, \n",
    "       female_count, \n",
    "       left = male_count,\n",
    "       label='여성')\n",
    "\n",
    "ax.legend() # 범례\n",
    "\n",
    "fig.savefig('example.png') # 코드가 있는 폴더에 그림으로 저장\n",
    "\n",
    "plt.show()"
   ]
  },
  {
   "cell_type": "markdown",
   "metadata": {},
   "source": [
    "<p style=\"color:#0000FF\";><font size = \"5\"><b>\n",
    " # 연습하기\n",
    "    </b></font></p>\n",
    "\n",
    "- 수직막대그래프를 수평막대그래프로 바꾸어 그려 보세요. \n",
    "- 그래프에 적절한 제목(title)을 붙이세요.\n",
    "- x축의 가시성을 높일 방안을 고민해 보세요.\n",
    "\n",
    "https://matplotlib.org/3.2.1/gallery/lines_bars_and_markers/bar_stacked.html"
   ]
  },
  {
   "cell_type": "code",
   "execution_count": null,
   "metadata": {},
   "outputs": [],
   "source": [
    "help(ax.bar)"
   ]
  },
  {
   "cell_type": "code",
   "execution_count": null,
   "metadata": {},
   "outputs": [],
   "source": []
  },
  {
   "cell_type": "markdown",
   "metadata": {},
   "source": [
    "### Seaborn 소개\n",
    "\n",
    "Seaborn은 matplotlib에 의존하는 라이브러리로, 여러 데이터 간 기술통계 및 관계를 탐색하기 위한 다양한 차트를 지원합니다. 6주차에는 범주형 데이터를 중심으로 가능한 그래프를 먼저 살펴봅니다.\n",
    "\n",
    "https://seaborn.pydata.org/introduction.html\n",
    "\n",
    "https://seaborn.pydata.org/examples/index.html"
   ]
  },
  {
   "cell_type": "markdown",
   "metadata": {},
   "source": [
    "지난시간의 온라인 뉴스/잡지/E-book(웹툰/웹소설 포함)의 예제로 seaborn의 여러 차트들을 살펴봅시다. 히스토그램은 countplot으로 그릴 수 있습니다."
   ]
  },
  {
   "cell_type": "code",
   "execution_count": 26,
   "metadata": {
    "scrolled": false
   },
   "outputs": [
    {
     "data": {
      "text/plain": [
       "<matplotlib.axes._subplots.AxesSubplot at 0x19f37349d30>"
      ]
     },
     "execution_count": 26,
     "metadata": {},
     "output_type": "execute_result"
    },
    {
     "data": {
      "image/png": "[encoded data removed]",
      "text/plain": [
       "<Figure size 432x288 with 1 Axes>"
      ]
     },
     "metadata": {
      "needs_background": "light"
     },
     "output_type": "display_data"
    }
   ],
   "source": [
    "sns.countplot(x=\"gender\", data=purchase[purchase['c01'].notna()])"
   ]
  },
  {
   "cell_type": "code",
   "execution_count": 27,
   "metadata": {},
   "outputs": [
    {
     "data": {
      "text/plain": [
       "<matplotlib.axes._subplots.AxesSubplot at 0x19f37540f70>"
      ]
     },
     "execution_count": 27,
     "metadata": {},
     "output_type": "execute_result"
    },
    {
     "data": {
      "image/png": "[encoded data removed]",
      "text/plain": [
       "<Figure size 432x288 with 1 Axes>"
      ]
     },
     "metadata": {
      "needs_background": "light"
     },
     "output_type": "display_data"
    }
   ],
   "source": [
    "purchase[purchase['c01'].notna()]['gender'].plot.hist()"
   ]
  },
  {
   "cell_type": "markdown",
   "metadata": {},
   "source": [
    "Seaborn에서 지원하는 범주형 변수 관련 차트는 아래와 같습니다. 함수 'catplot'으로 아래 차트를 모두 그릴 수 있지만, 우선 개별 차트(countplot, boxplot)위주로 살펴봅니다."
   ]
  },
  {
   "cell_type": "markdown",
   "metadata": {},
   "source": [
    "<table>\n",
    "<colgroup>\n",
    "<col width=\"10%\" />\n",
    "<col width=\"90%\" />\n",
    "</colgroup>\n",
    "<thead>\n",
    "<tr>\n",
    "<td>\n",
    "<p>Plot</p>\n",
    "</td>\n",
    "<td>\n",
    "<p>Seaborn:plotting with categorical data: example</p>\n",
    "</td>\n",
    "</tr>\n",
    "</thead>\n",
    "<tbody>\n",
    "<tr>\n",
    "<td>\n",
    "<p>stripplot</p>\n",
    "</td>\n",
    "<td>\n",
    "<p><img src='https://seaborn.pydata.org/_images/seaborn-stripplot-2.png' /></p>\n",
    "</td>\n",
    "</tr>\n",
    "<tr>\n",
    "<td>\n",
    "<p>swarmplot</p>\n",
    "</td>\n",
    "<td>\n",
    "<p><img src='https://seaborn.pydata.org/_images/seaborn-swarmplot-2.png' /></p>\n",
    "</td>\n",
    "</tr>\n",
    "<tr>\n",
    "<td>\n",
    "<p>boxplot</p>\n",
    "</td>\n",
    "<td>\n",
    "<p><img src='https://seaborn.pydata.org/_images/seaborn-boxplot-2.png' /></p>\n",
    "</td>\n",
    "</tr>\n",
    "<tr>\n",
    "<td>\n",
    "<p>violinplot</p>\n",
    "</td>\n",
    "<td>\n",
    "<p><img src='https://seaborn.pydata.org/_images/seaborn-violinplot-2.png' /></p>\n",
    "</td>\n",
    "</tr>\n",
    "<tr>\n",
    "<td>\n",
    "<p>boxenplot</p>\n",
    "</td>\n",
    "<td>\n",
    "<p><img src='https://seaborn.pydata.org/_images/seaborn-boxenplot-2.png' /></p>\n",
    "</td>\n",
    "</tr>\n",
    "<tr>\n",
    "<td>\n",
    "<p>pointplot</p>\n",
    "</td>\n",
    "<td>\n",
    "<p><img src='https://seaborn.pydata.org/_images/seaborn-pointplot-2.png' /></p>\n",
    "</td>\n",
    "</tr>\n",
    "<tr>\n",
    "<td>\n",
    "<p>barplot</p>\n",
    "</td>\n",
    "<td>\n",
    "<p><img src='https://seaborn.pydata.org/_images/seaborn-barplot-3.png' /></p>\n",
    "</td>\n",
    "</tr>\n",
    "<tr>\n",
    "<td>\n",
    "<p>countplot</p>\n",
    "</td>\n",
    "<td>\n",
    "<p><img src='https://seaborn.pydata.org/_images/seaborn-countplot-2.png' /></p>\n",
    "</td>\n",
    "</tr>\n",
    "</tbody>\n",
    "</table>"
   ]
  },
  {
   "cell_type": "code",
   "execution_count": null,
   "metadata": {},
   "outputs": [],
   "source": [
    "help(sns.countplot)"
   ]
  },
  {
   "cell_type": "markdown",
   "metadata": {},
   "source": [
    "매개변수 중 x, y, hue를 중심으로 사용하게 됩니다. countplot은 y값이 빈도이므로 x와 hue만 살펴봅시다."
   ]
  },
  {
   "cell_type": "code",
   "execution_count": 28,
   "metadata": {
    "scrolled": false
   },
   "outputs": [
    {
     "data": {
      "text/plain": [
       "<matplotlib.axes._subplots.AxesSubplot at 0x19f3769f8e0>"
      ]
     },
     "execution_count": 28,
     "metadata": {},
     "output_type": "execute_result"
    },
    {
     "data": {
      "image/png": "[encoded data removed]",
      "text/plain": [
       "<Figure size 432x288 with 1 Axes>"
      ]
     },
     "metadata": {
      "needs_background": "light"
     },
     "output_type": "display_data"
    }
   ],
   "source": [
    "sns.countplot(x = 'gender', \n",
    "            data = purchase[purchase['c01'].notna()])"
   ]
  },
  {
   "cell_type": "markdown",
   "metadata": {},
   "source": [
    "매개변수 hue는 x로 지정된 변수를 hue로 지정된 변수에 따라 나누어 색깔로 구분합니다. 두 가지 범주형 변수를 기준으로 데이터의 분포를 살펴볼 수 있으며, 오른쪽에 범례도 확인할 수 있습니다."
   ]
  },
  {
   "cell_type": "code",
   "execution_count": 29,
   "metadata": {
    "scrolled": false
   },
   "outputs": [
    {
     "data": {
      "text/plain": [
       "<matplotlib.axes._subplots.AxesSubplot at 0x19f376d7d60>"
      ]
     },
     "execution_count": 29,
     "metadata": {},
     "output_type": "execute_result"
    },
    {
     "data": {
      "image/png": "[encoded data removed]",
      "text/plain": [
       "<Figure size 432x288 with 1 Axes>"
      ]
     },
     "metadata": {
      "needs_background": "light"
     },
     "output_type": "display_data"
    }
   ],
   "source": [
    "sns.countplot(x = 'gender', \n",
    "            hue = 'age_gr',\n",
    "            data = purchase[purchase['c01'].notna()])"
   ]
  },
  {
   "cell_type": "markdown",
   "metadata": {},
   "source": [
    "Matplotlib의 axes로 지정해서 함께 사용하는 예제입니다."
   ]
  },
  {
   "cell_type": "code",
   "execution_count": 30,
   "metadata": {
    "scrolled": false
   },
   "outputs": [
    {
     "data": {
      "image/png": "[encoded data removed]",
      "text/plain": [
       "<Figure size 360x216 with 1 Axes>"
      ]
     },
     "metadata": {
      "needs_background": "light"
     },
     "output_type": "display_data"
    }
   ],
   "source": [
    "fig, ax = plt.subplots(figsize = (5, 3))\n",
    "\n",
    "sns.countplot(x = 'gender', \n",
    "            hue = 'age_gr',\n",
    "            data = purchase[purchase['c01'].notna()],\n",
    "            ax = ax)\n",
    "\n",
    "ax.set(title = \"sample title\")\n",
    "\n",
    "plt.show()"
   ]
  },
  {
   "cell_type": "markdown",
   "metadata": {},
   "source": [
    "Seaborn의 장점은 다양한 배경과 색상을 비롯한 차트 스타일을 제공한다는 것입니다. \n",
    "\n",
    "sns.set()은 기본 스타일로 돌아오게 하는 함수이고, sns.set_style()과 set_context()로 다양한 스타일을 살펴볼 수 있습니다. 다만 모든 차트에 적용됩니다.\n",
    "\n",
    "https://seaborn.pydata.org/generated/seaborn.set.html#seaborn.set\n",
    "\n",
    "https://seaborn.pydata.org/generated/seaborn.set_style.html#seaborn.set_style\n",
    "\n",
    "https://seaborn.pydata.org/generated/seaborn.set_context.html#seaborn.set_context\n"
   ]
  },
  {
   "cell_type": "code",
   "execution_count": 31,
   "metadata": {
    "scrolled": false
   },
   "outputs": [
    {
     "data": {
      "image/png": "[encoded data removed]",
      "text/plain": [
       "<Figure size 432x216 with 1 Axes>"
      ]
     },
     "metadata": {
      "needs_background": "light"
     },
     "output_type": "display_data"
    }
   ],
   "source": [
    "fig, ax = plt.subplots(figsize = (6, 3))\n",
    "\n",
    "# sns.set()\n",
    "# sns.set_style(\"darkgrid\") #darkgrid, whitegrid, dark, white, ticks\n",
    "# sns.set_context(\"paper\") # paper, notebook, talk, poster\n",
    "# sns.set_context(\"paper\", font_scale=1.5)\n",
    "\n",
    "sns.countplot(x = 'gender', \n",
    "            hue = 'age_gr',\n",
    "            data = purchase[purchase['c01'].notna()],\n",
    "              ax = ax,\n",
    "           palette = \"cubehelix\")\n",
    "\n",
    "# sns.set_style(\"white\")\n",
    "# sns.set_context(\"notebook\")\n",
    "\n",
    "plt.show()"
   ]
  },
  {
   "cell_type": "markdown",
   "metadata": {},
   "source": [
    "컬러 팔레트도 굉장히 많습니다.\n",
    "\n",
    "https://seaborn.pydata.org/tutorial/color_palettes.html\n",
    "\n",
    "<p><img src='https://betterfigures.files.wordpress.com/2015/06/categorical.png?w=500&h=250' width='350'/>"
   ]
  },
  {
   "cell_type": "markdown",
   "metadata": {},
   "source": [
    "box plot에서 x는 구분해 보고 싶은 범주형 변수, y로는 분포를 나타낼 변수(column)가 필요합니다."
   ]
  },
  {
   "cell_type": "code",
   "execution_count": 32,
   "metadata": {},
   "outputs": [
    {
     "data": {
      "text/plain": [
       "<matplotlib.axes._subplots.AxesSubplot at 0x19f3782adc0>"
      ]
     },
     "execution_count": 32,
     "metadata": {},
     "output_type": "execute_result"
    },
    {
     "data": {
      "image/png": "[encoded data removed]",
      "text/plain": [
       "<Figure size 432x288 with 1 Axes>"
      ]
     },
     "metadata": {
      "needs_background": "light"
     },
     "output_type": "display_data"
    }
   ],
   "source": [
    "sns.boxplot(x = 'gender', \n",
    "            y = \"c01\",\n",
    "            data = purchase[purchase['c01'].notna()], \n",
    "           palette = \"Paired\")"
   ]
  },
  {
   "cell_type": "markdown",
   "metadata": {},
   "source": [
    "<p style=\"color:#0000FF\";><font size = \"5\"><b>\n",
    " # 연습하기\n",
    "    </b></font></p>\n",
    "\n",
    "- 음악 콘텐츠 소비자의 box plot을 성별과 지역구분에 따라 그려보세요. \n",
    "- 마음에 드는 컬러 팔레트로 색깔을 바꾸어 그리세요.\n",
    "- 제목(title)을 붙이세요."
   ]
  },
  {
   "cell_type": "code",
   "execution_count": null,
   "metadata": {},
   "outputs": [],
   "source": []
  },
  {
   "cell_type": "markdown",
   "metadata": {},
   "source": [
    "## 막대그래프\n",
    "\n",
    "### 질문하기: 순서/정렬/순위(order/sort/rank)\n",
    "- 수직/수평 막대그래프 (vertical/horizontal bar plot): 통계치를 막대의 높이(수직) 또는 길이(수평)로 나타낸 도표로, 전자는 시간의 흐름을 표현하기 편리하며 후자는 라벨 표기에 장점이 있음\n",
    "\n",
    "- 질문: 사람들은 스마트 기기에서 어떤 앱을 자주 사용하는가?"
   ]
  },
  {
   "cell_type": "markdown",
   "metadata": {},
   "source": [
    "막대그래프를 그릴 때에는 분포와 다르게 정리한 값을 넣거나, 매개변수로 넣은 데이터에서 어떤 통계치로 요약할지 지정해 주어야 합니다."
   ]
  },
  {
   "cell_type": "code",
   "execution_count": 33,
   "metadata": {
    "scrolled": false
   },
   "outputs": [
    {
     "data": {
      "text/plain": [
       "c01    12.644628\n",
       "c02     9.736434\n",
       "c03    11.638132\n",
       "c04     7.778135\n",
       "c05    13.650246\n",
       "dtype: float64"
      ]
     },
     "execution_count": 33,
     "metadata": {},
     "output_type": "execute_result"
    }
   ],
   "source": [
    "purchase.loc[:,['c01', 'c02', 'c03', 'c04', 'c05']].mean()"
   ]
  },
  {
   "cell_type": "markdown",
   "metadata": {},
   "source": [
    "Seaborn의 barplot은 estimator로 필요한 통계치를 지정할 수 있으며 기본으로는 np.mean 평균을 구합니다. numpy에서 불러옵니다."
   ]
  },
  {
   "cell_type": "code",
   "execution_count": 34,
   "metadata": {
    "scrolled": true
   },
   "outputs": [
    {
     "data": {
      "text/plain": [
       "<matplotlib.axes._subplots.AxesSubplot at 0x19f378a25e0>"
      ]
     },
     "execution_count": 34,
     "metadata": {},
     "output_type": "execute_result"
    },
    {
     "data": {
      "image/png": "[encoded data removed]",
      "text/plain": [
       "<Figure size 432x288 with 1 Axes>"
      ]
     },
     "metadata": {
      "needs_background": "light"
     },
     "output_type": "display_data"
    }
   ],
   "source": [
    "sns.barplot(data = purchase.loc[:,['c01', 'c02', 'c03', 'c04', 'c05']],\n",
    "            estimator = np.max, # 최대값\n",
    "            ci = None)"
   ]
  },
  {
   "cell_type": "code",
   "execution_count": 35,
   "metadata": {},
   "outputs": [
    {
     "data": {
      "text/plain": [
       "<matplotlib.axes._subplots.AxesSubplot at 0x19f388df7f0>"
      ]
     },
     "execution_count": 35,
     "metadata": {},
     "output_type": "execute_result"
    },
    {
     "data": {
      "image/png": "[encoded data removed]",
      "text/plain": [
       "<Figure size 432x288 with 1 Axes>"
      ]
     },
     "metadata": {
      "needs_background": "light"
     },
     "output_type": "display_data"
    }
   ],
   "source": [
    "sns.barplot(data = purchase.loc[:,['c01', 'c02', 'c03', 'c04', 'c05']],\n",
    "            estimator = len, # length -> count\n",
    "            ci = None)"
   ]
  },
  {
   "cell_type": "markdown",
   "metadata": {},
   "source": [
    "Matplotlib에서는 차트를 그리기 전 데이터를 미리 정리했습니다."
   ]
  },
  {
   "cell_type": "code",
   "execution_count": 36,
   "metadata": {},
   "outputs": [
    {
     "data": {
      "image/png": "[encoded data removed]",
      "text/plain": [
       "<Figure size 432x288 with 1 Axes>"
      ]
     },
     "metadata": {
      "needs_background": "light"
     },
     "output_type": "display_data"
    }
   ],
   "source": [
    "fig, ax = plt.subplots()\n",
    "\n",
    "korlabels = ['온라인 뉴스/잡지/ebook', '동영상/영화', 'TV방송프로그램', '음악', '게임']\n",
    "content_stat = purchase.loc[:,['c01', 'c02', 'c03', 'c04', 'c05']].mean()\n",
    "\n",
    "ax.barh(korlabels, content_stat, color = 'black')\n",
    "\n",
    "plt.show()"
   ]
  },
  {
   "cell_type": "markdown",
   "metadata": {},
   "source": [
    "사람들이 자주 이용하는 스마트 기기 애플리케이션 1, 2, 3순위를 살펴봅시다."
   ]
  },
  {
   "cell_type": "markdown",
   "metadata": {},
   "source": [
    "p__d01001 p__d01002 p__d01003 __freq_app1 freq_app2 freq_app3__\n",
    "\n",
    "[미디어 이용행태] 자주 이용하는 스마트 기기 애플리케이션 1, 2, 3순위\n",
    "\n",
    "<table style=\"width: 340px;\">\n",
    "<thead>\n",
    "<tr>\n",
    "<td style=\"width: 64px;\">\n",
    "<p>범주</p>\n",
    "</td>\n",
    "<td style=\"width: 290px;\">\n",
    "<p>설명</p>\n",
    "</td>\n",
    "</tr>\n",
    "</thead>\n",
    "<tbody>\n",
    "<tr>\n",
    "<td style=\"width: 64px;\">\n",
    "<p>1</p>\n",
    "</td>\n",
    "<td style=\"width: 290px;\">\n",
    "<p>책/만화(웹툰)</p>\n",
    "</td>\n",
    "</tr>\n",
    "<tr>\n",
    "<td style=\"width: 64px;\">\n",
    "<p>2</p>\n",
    "</td>\n",
    "<td style=\"width: 290px;\">\n",
    "<p>교육 (외국어, 인터넷 수능 등)</p>\n",
    "</td>\n",
    "</tr>\n",
    "<tr>\n",
    "<td style=\"width: 64px;\">\n",
    "<p>3</p>\n",
    "</td>\n",
    "<td style=\"width: 290px;\">\n",
    "<p>게임</p>\n",
    "</td>\n",
    "</tr>\n",
    "<tr>\n",
    "<td style=\"width: 64px;\">\n",
    "<p>4</p>\n",
    "</td>\n",
    "<td style=\"width: 290px;\">\n",
    "<p>지출관리/금융거래</p>\n",
    "</td>\n",
    "</tr>\n",
    "<tr>\n",
    "<td style=\"width: 64px;\">\n",
    "<p>5</p>\n",
    "</td>\n",
    "<td style=\"width: 290px;\">\n",
    "<p>쇼핑</p>\n",
    "</td>\n",
    "</tr>\n",
    "<tr>\n",
    "<td style=\"width: 64px;\">\n",
    "<p>6</p>\n",
    "</td>\n",
    "<td style=\"width: 290px;\">\n",
    "<p>생활정보/날씨 (건강관리 포함)</p>\n",
    "</td>\n",
    "</tr>\n",
    "<tr>\n",
    "<td style=\"width: 64px;\">\n",
    "<p>7</p>\n",
    "</td>\n",
    "<td style=\"width: 290px;\">\n",
    "<p>엔터테인먼트 (음악/방송/동영상/사진) (삭제됨)</p>\n",
    "</td>\n",
    "</tr>\n",
    "<tr>\n",
    "<td style=\"width: 64px;\">\n",
    "<p>8</p>\n",
    "</td>\n",
    "<td style=\"width: 290px;\">\n",
    "<p>내비게이션/지리/위치/교통정보</p>\n",
    "</td>\n",
    "</tr>\n",
    "<tr>\n",
    "<td style=\"width: 64px;\">\n",
    "<p>9</p>\n",
    "</td>\n",
    "<td style=\"width: 290px;\">\n",
    "<p>뉴스</p>\n",
    "</td>\n",
    "</tr>\n",
    "<tr>\n",
    "<td style=\"width: 64px;\">\n",
    "<p>10</p>\n",
    "</td>\n",
    "<td style=\"width: 290px;\">\n",
    "<p>소셜네트워킹(카카오스토리, 페이스북, 트위터 등)</p>\n",
    "</td>\n",
    "</tr>\n",
    "<tr>\n",
    "<td style=\"width: 64px;\">\n",
    "<p>11</p>\n",
    "</td>\n",
    "<td style=\"width: 290px;\">\n",
    "<p>인스턴트메신저(카카오톡, 마이피플 등)</p>\n",
    "</td>\n",
    "</tr>\n",
    "<tr>\n",
    "<td style=\"width: 64px;\">\n",
    "<p>12</p>\n",
    "</td>\n",
    "<td style=\"width: 290px;\">\n",
    "<p>스포츠</p>\n",
    "</td>\n",
    "</tr>\n",
    "<tr>\n",
    "<td style=\"width: 64px;\">\n",
    "<p>13</p>\n",
    "</td>\n",
    "<td style=\"width: 290px;\">\n",
    "<p>여행</p>\n",
    "</td>\n",
    "</tr>\n",
    "<tr>\n",
    "<td style=\"width: 64px;\">\n",
    "<p>14</p>\n",
    "</td>\n",
    "<td style=\"width: 290px;\">\n",
    "<p>유틸리티/도구/일정관리/배경화면</p>\n",
    "</td>\n",
    "</tr>\n",
    "<tr>\n",
    "<td style=\"width: 64px;\">\n",
    "<p>15</p>\n",
    "</td>\n",
    "<td style=\"width: 290px;\">\n",
    "<p>레퍼런스/참고자료</p>\n",
    "</td>\n",
    "</tr>\n",
    "<tr>\n",
    "<td style=\"width: 64px;\">\n",
    "<p>16</p>\n",
    "</td>\n",
    "<td style=\"width: 290px;\">\n",
    "<p>음악</p>\n",
    "</td>\n",
    "</tr>\n",
    "<tr>\n",
    "<td style=\"width: 64px;\">\n",
    "<p>17</p>\n",
    "</td>\n",
    "<td style=\"width: 290px;\">\n",
    "<p>방송/동영상</p>\n",
    "</td>\n",
    "</tr>\n",
    "<tr>\n",
    "<td style=\"width: 64px;\">\n",
    "<p>18</p>\n",
    "</td>\n",
    "<td style=\"width: 290px;\">\n",
    "<p>사진/카메라</p>\n",
    "</td>\n",
    "</tr>\n",
    "<tr>\n",
    "<td style=\"width: 64px;\">\n",
    "<p>19</p>\n",
    "</td>\n",
    "<td style=\"width: 290px;\">\n",
    "<p>포털애플리케이션(네이버, 다음, 네이트 등)</p>\n",
    "</td>\n",
    "</tr>\n",
    "<tr>\n",
    "<td style=\"width: 64px;\">\n",
    "<p>88</p>\n",
    "</td>\n",
    "<td style=\"width: 290px;\">\n",
    "<p>이용경험 없음</p>\n",
    "</td>\n",
    "</tr>\n",
    "<tr>\n",
    "<td style=\"width: 64px;\">\n",
    "<p>9999</p>\n",
    "</td>\n",
    "<td style=\"width: 290px;\">\n",
    "<p>모름/무응답</p>\n",
    "</td>\n",
    "</tr>\n",
    "</tbody>\n",
    "</table>"
   ]
  },
  {
   "cell_type": "code",
   "execution_count": 37,
   "metadata": {},
   "outputs": [
    {
     "data": {
      "text/html": [
       "<div>\n",
       "<style scoped>\n",
       "    .dataframe tbody tr th:only-of-type {\n",
       "        vertical-align: middle;\n",
       "    }\n",
       "\n",
       "    .dataframe tbody tr th {\n",
       "        vertical-align: top;\n",
       "    }\n",
       "\n",
       "    .dataframe thead th {\n",
       "        text-align: right;\n",
       "    }\n",
       "</style>\n",
       "<table border=\"1\" class=\"dataframe\">\n",
       "  <thead>\n",
       "    <tr style=\"text-align: right;\">\n",
       "      <th></th>\n",
       "      <th>pid</th>\n",
       "      <th>age_gr</th>\n",
       "      <th>gender</th>\n",
       "      <th>freq_app1</th>\n",
       "      <th>freq_app2</th>\n",
       "      <th>freq_app3</th>\n",
       "    </tr>\n",
       "  </thead>\n",
       "  <tbody>\n",
       "    <tr>\n",
       "      <th>0</th>\n",
       "      <td>10001</td>\n",
       "      <td>6</td>\n",
       "      <td>1</td>\n",
       "      <td>11</td>\n",
       "      <td>8</td>\n",
       "      <td>6</td>\n",
       "    </tr>\n",
       "    <tr>\n",
       "      <th>1</th>\n",
       "      <td>10002</td>\n",
       "      <td>5</td>\n",
       "      <td>2</td>\n",
       "      <td>11</td>\n",
       "      <td>16</td>\n",
       "      <td>18</td>\n",
       "    </tr>\n",
       "    <tr>\n",
       "      <th>2</th>\n",
       "      <td>20001</td>\n",
       "      <td>6</td>\n",
       "      <td>1</td>\n",
       "      <td>12</td>\n",
       "      <td>8</td>\n",
       "      <td>11</td>\n",
       "    </tr>\n",
       "    <tr>\n",
       "      <th>3</th>\n",
       "      <td>30001</td>\n",
       "      <td>5</td>\n",
       "      <td>1</td>\n",
       "      <td>19</td>\n",
       "      <td>8</td>\n",
       "      <td>11</td>\n",
       "    </tr>\n",
       "    <tr>\n",
       "      <th>4</th>\n",
       "      <td>30002</td>\n",
       "      <td>5</td>\n",
       "      <td>2</td>\n",
       "      <td>17</td>\n",
       "      <td>19</td>\n",
       "      <td>11</td>\n",
       "    </tr>\n",
       "  </tbody>\n",
       "</table>\n",
       "</div>"
      ],
      "text/plain": [
       "     pid  age_gr  gender freq_app1 freq_app2 freq_app3\n",
       "0  10001       6       1        11         8         6\n",
       "1  10002       5       2        11        16        18\n",
       "2  20001       6       1        12         8        11\n",
       "3  30001       5       1        19         8        11\n",
       "4  30002       5       2        17        19        11"
      ]
     },
     "execution_count": 37,
     "metadata": {},
     "output_type": "execute_result"
    }
   ],
   "source": [
    "app = data.loc[:,['pid','age_gr','gender', 'freq_app1','freq_app2','freq_app3']]\n",
    "app.head()"
   ]
  },
  {
   "cell_type": "code",
   "execution_count": 38,
   "metadata": {},
   "outputs": [
    {
     "name": "stdout",
     "output_type": "stream",
     "text": [
      "<class 'pandas.core.frame.DataFrame'>\n",
      "RangeIndex: 10864 entries, 0 to 10863\n",
      "Data columns (total 6 columns):\n",
      " #   Column     Non-Null Count  Dtype \n",
      "---  ------     --------------  ----- \n",
      " 0   pid        10864 non-null  int64 \n",
      " 1   age_gr     10864 non-null  int64 \n",
      " 2   gender     10864 non-null  int64 \n",
      " 3   freq_app1  10864 non-null  object\n",
      " 4   freq_app2  10864 non-null  object\n",
      " 5   freq_app3  10864 non-null  object\n",
      "dtypes: int64(3), object(3)\n",
      "memory usage: 509.4+ KB\n"
     ]
    }
   ],
   "source": [
    "app.info()"
   ]
  },
  {
   "cell_type": "code",
   "execution_count": 39,
   "metadata": {},
   "outputs": [
    {
     "data": {
      "text/plain": [
       "      2327\n",
       "1      331\n",
       "10     301\n",
       "11    3451\n",
       "12      73\n",
       "13      23\n",
       "14      14\n",
       "15       4\n",
       "16     353\n",
       "17     343\n",
       "18     258\n",
       "19    1386\n",
       "2       75\n",
       "3      607\n",
       "4       78\n",
       "5      278\n",
       "6      226\n",
       "8      318\n",
       "9      418\n",
       "Name: freq_app1, dtype: int64"
      ]
     },
     "execution_count": 39,
     "metadata": {},
     "output_type": "execute_result"
    }
   ],
   "source": [
    "app['freq_app1'].value_counts().sort_index()"
   ]
  },
  {
   "cell_type": "markdown",
   "metadata": {},
   "source": [
    "앞서 DataFrame 'purchase'를 만들 때처럼 공백은 NaN으로 바꾸어 주고, 그 결과를 float에서 int로 저장했습니다."
   ]
  },
  {
   "cell_type": "code",
   "execution_count": 40,
   "metadata": {},
   "outputs": [
    {
     "name": "stdout",
     "output_type": "stream",
     "text": [
      "<class 'pandas.core.frame.DataFrame'>\n",
      "RangeIndex: 10864 entries, 0 to 10863\n",
      "Data columns (total 6 columns):\n",
      " #   Column     Non-Null Count  Dtype  \n",
      "---  ------     --------------  -----  \n",
      " 0   pid        10864 non-null  int64  \n",
      " 1   age_gr     10864 non-null  int64  \n",
      " 2   gender     10864 non-null  int64  \n",
      " 3   freq_app1  8537 non-null   float64\n",
      " 4   freq_app2  8356 non-null   float64\n",
      " 5   freq_app3  7984 non-null   float64\n",
      "dtypes: float64(3), int64(3)\n",
      "memory usage: 509.4 KB\n"
     ]
    }
   ],
   "source": [
    "app.iloc[:, 3:6] = app.iloc[:, 3:6].apply(lambda x: pd.to_numeric(x, errors = 'coerce').replace(0,np.nan))\n",
    "app.info()"
   ]
  },
  {
   "cell_type": "markdown",
   "metadata": {},
   "source": [
    "1, 2, 3순위에 모두 응답한 사람만 골라내어 살펴봅시다. NaN으로 처리된 값은 __dropna__로 지울 수 있습니다."
   ]
  },
  {
   "cell_type": "code",
   "execution_count": 42,
   "metadata": {},
   "outputs": [],
   "source": [
    "help(DataFrame.dropna)"
   ]
  },
  {
   "cell_type": "markdown",
   "metadata": {},
   "source": [
    "따로 기준 열(column) 등을 지정하지 않고 NaN이 보이는 모든 행을 지웁니다."
   ]
  },
  {
   "cell_type": "code",
   "execution_count": 43,
   "metadata": {
    "scrolled": true
   },
   "outputs": [
    {
     "data": {
      "text/html": [
       "<div>\n",
       "<style scoped>\n",
       "    .dataframe tbody tr th:only-of-type {\n",
       "        vertical-align: middle;\n",
       "    }\n",
       "\n",
       "    .dataframe tbody tr th {\n",
       "        vertical-align: top;\n",
       "    }\n",
       "\n",
       "    .dataframe thead th {\n",
       "        text-align: right;\n",
       "    }\n",
       "</style>\n",
       "<table border=\"1\" class=\"dataframe\">\n",
       "  <thead>\n",
       "    <tr style=\"text-align: right;\">\n",
       "      <th></th>\n",
       "      <th>pid</th>\n",
       "      <th>age_gr</th>\n",
       "      <th>gender</th>\n",
       "      <th>freq_app1</th>\n",
       "      <th>freq_app2</th>\n",
       "      <th>freq_app3</th>\n",
       "    </tr>\n",
       "  </thead>\n",
       "  <tbody>\n",
       "    <tr>\n",
       "      <th>0</th>\n",
       "      <td>10001</td>\n",
       "      <td>6</td>\n",
       "      <td>1</td>\n",
       "      <td>11.0</td>\n",
       "      <td>8.0</td>\n",
       "      <td>6.0</td>\n",
       "    </tr>\n",
       "    <tr>\n",
       "      <th>1</th>\n",
       "      <td>10002</td>\n",
       "      <td>5</td>\n",
       "      <td>2</td>\n",
       "      <td>11.0</td>\n",
       "      <td>16.0</td>\n",
       "      <td>18.0</td>\n",
       "    </tr>\n",
       "    <tr>\n",
       "      <th>2</th>\n",
       "      <td>20001</td>\n",
       "      <td>6</td>\n",
       "      <td>1</td>\n",
       "      <td>12.0</td>\n",
       "      <td>8.0</td>\n",
       "      <td>11.0</td>\n",
       "    </tr>\n",
       "    <tr>\n",
       "      <th>3</th>\n",
       "      <td>30001</td>\n",
       "      <td>5</td>\n",
       "      <td>1</td>\n",
       "      <td>19.0</td>\n",
       "      <td>8.0</td>\n",
       "      <td>11.0</td>\n",
       "    </tr>\n",
       "    <tr>\n",
       "      <th>4</th>\n",
       "      <td>30002</td>\n",
       "      <td>5</td>\n",
       "      <td>2</td>\n",
       "      <td>17.0</td>\n",
       "      <td>19.0</td>\n",
       "      <td>11.0</td>\n",
       "    </tr>\n",
       "    <tr>\n",
       "      <th>...</th>\n",
       "      <td>...</td>\n",
       "      <td>...</td>\n",
       "      <td>...</td>\n",
       "      <td>...</td>\n",
       "      <td>...</td>\n",
       "      <td>...</td>\n",
       "    </tr>\n",
       "    <tr>\n",
       "      <th>10850</th>\n",
       "      <td>118240004</td>\n",
       "      <td>2</td>\n",
       "      <td>1</td>\n",
       "      <td>3.0</td>\n",
       "      <td>16.0</td>\n",
       "      <td>19.0</td>\n",
       "    </tr>\n",
       "    <tr>\n",
       "      <th>10851</th>\n",
       "      <td>118240005</td>\n",
       "      <td>2</td>\n",
       "      <td>2</td>\n",
       "      <td>3.0</td>\n",
       "      <td>18.0</td>\n",
       "      <td>5.0</td>\n",
       "    </tr>\n",
       "    <tr>\n",
       "      <th>10858</th>\n",
       "      <td>118290001</td>\n",
       "      <td>4</td>\n",
       "      <td>2</td>\n",
       "      <td>5.0</td>\n",
       "      <td>18.0</td>\n",
       "      <td>16.0</td>\n",
       "    </tr>\n",
       "    <tr>\n",
       "      <th>10860</th>\n",
       "      <td>118300001</td>\n",
       "      <td>3</td>\n",
       "      <td>1</td>\n",
       "      <td>17.0</td>\n",
       "      <td>8.0</td>\n",
       "      <td>11.0</td>\n",
       "    </tr>\n",
       "    <tr>\n",
       "      <th>10862</th>\n",
       "      <td>118320001</td>\n",
       "      <td>8</td>\n",
       "      <td>2</td>\n",
       "      <td>18.0</td>\n",
       "      <td>11.0</td>\n",
       "      <td>6.0</td>\n",
       "    </tr>\n",
       "  </tbody>\n",
       "</table>\n",
       "<p>7984 rows × 6 columns</p>\n",
       "</div>"
      ],
      "text/plain": [
       "             pid  age_gr  gender  freq_app1  freq_app2  freq_app3\n",
       "0          10001       6       1       11.0        8.0        6.0\n",
       "1          10002       5       2       11.0       16.0       18.0\n",
       "2          20001       6       1       12.0        8.0       11.0\n",
       "3          30001       5       1       19.0        8.0       11.0\n",
       "4          30002       5       2       17.0       19.0       11.0\n",
       "...          ...     ...     ...        ...        ...        ...\n",
       "10850  118240004       2       1        3.0       16.0       19.0\n",
       "10851  118240005       2       2        3.0       18.0        5.0\n",
       "10858  118290001       4       2        5.0       18.0       16.0\n",
       "10860  118300001       3       1       17.0        8.0       11.0\n",
       "10862  118320001       8       2       18.0       11.0        6.0\n",
       "\n",
       "[7984 rows x 6 columns]"
      ]
     },
     "execution_count": 43,
     "metadata": {},
     "output_type": "execute_result"
    }
   ],
   "source": [
    "app.dropna(axis = 0) # row, default\n",
    "# app.dropna(axis = 1) # column"
   ]
  },
  {
   "cell_type": "code",
   "execution_count": 44,
   "metadata": {},
   "outputs": [
    {
     "name": "stdout",
     "output_type": "stream",
     "text": [
      "<class 'pandas.core.frame.DataFrame'>\n",
      "RangeIndex: 10864 entries, 0 to 10863\n",
      "Data columns (total 6 columns):\n",
      " #   Column     Non-Null Count  Dtype  \n",
      "---  ------     --------------  -----  \n",
      " 0   pid        10864 non-null  int64  \n",
      " 1   age_gr     10864 non-null  int64  \n",
      " 2   gender     10864 non-null  int64  \n",
      " 3   freq_app1  8537 non-null   float64\n",
      " 4   freq_app2  8356 non-null   float64\n",
      " 5   freq_app3  7984 non-null   float64\n",
      "dtypes: float64(3), int64(3)\n",
      "memory usage: 509.4 KB\n"
     ]
    }
   ],
   "source": [
    "app.info()"
   ]
  },
  {
   "cell_type": "markdown",
   "metadata": {},
   "source": [
    "대부분의 경우에 DataFrame의 메서드는 결과를 덮어씌우지 않고 새로운 copy로 돌려줍니다. 덮어씌우고 싶다면 inplace를 이용합니다."
   ]
  },
  {
   "cell_type": "code",
   "execution_count": 45,
   "metadata": {},
   "outputs": [],
   "source": [
    "app.dropna(axis = 0, inplace = True)"
   ]
  },
  {
   "cell_type": "code",
   "execution_count": 46,
   "metadata": {},
   "outputs": [
    {
     "data": {
      "text/html": [
       "<div>\n",
       "<style scoped>\n",
       "    .dataframe tbody tr th:only-of-type {\n",
       "        vertical-align: middle;\n",
       "    }\n",
       "\n",
       "    .dataframe tbody tr th {\n",
       "        vertical-align: top;\n",
       "    }\n",
       "\n",
       "    .dataframe thead th {\n",
       "        text-align: right;\n",
       "    }\n",
       "</style>\n",
       "<table border=\"1\" class=\"dataframe\">\n",
       "  <thead>\n",
       "    <tr style=\"text-align: right;\">\n",
       "      <th></th>\n",
       "      <th>pid</th>\n",
       "      <th>age_gr</th>\n",
       "      <th>gender</th>\n",
       "      <th>freq_app1</th>\n",
       "      <th>freq_app2</th>\n",
       "      <th>freq_app3</th>\n",
       "    </tr>\n",
       "  </thead>\n",
       "  <tbody>\n",
       "    <tr>\n",
       "      <th>0</th>\n",
       "      <td>10001</td>\n",
       "      <td>6</td>\n",
       "      <td>1</td>\n",
       "      <td>11.0</td>\n",
       "      <td>8.0</td>\n",
       "      <td>6.0</td>\n",
       "    </tr>\n",
       "    <tr>\n",
       "      <th>1</th>\n",
       "      <td>10002</td>\n",
       "      <td>5</td>\n",
       "      <td>2</td>\n",
       "      <td>11.0</td>\n",
       "      <td>16.0</td>\n",
       "      <td>18.0</td>\n",
       "    </tr>\n",
       "    <tr>\n",
       "      <th>2</th>\n",
       "      <td>20001</td>\n",
       "      <td>6</td>\n",
       "      <td>1</td>\n",
       "      <td>12.0</td>\n",
       "      <td>8.0</td>\n",
       "      <td>11.0</td>\n",
       "    </tr>\n",
       "    <tr>\n",
       "      <th>3</th>\n",
       "      <td>30001</td>\n",
       "      <td>5</td>\n",
       "      <td>1</td>\n",
       "      <td>19.0</td>\n",
       "      <td>8.0</td>\n",
       "      <td>11.0</td>\n",
       "    </tr>\n",
       "    <tr>\n",
       "      <th>4</th>\n",
       "      <td>30002</td>\n",
       "      <td>5</td>\n",
       "      <td>2</td>\n",
       "      <td>17.0</td>\n",
       "      <td>19.0</td>\n",
       "      <td>11.0</td>\n",
       "    </tr>\n",
       "  </tbody>\n",
       "</table>\n",
       "</div>"
      ],
      "text/plain": [
       "     pid  age_gr  gender  freq_app1  freq_app2  freq_app3\n",
       "0  10001       6       1       11.0        8.0        6.0\n",
       "1  10002       5       2       11.0       16.0       18.0\n",
       "2  20001       6       1       12.0        8.0       11.0\n",
       "3  30001       5       1       19.0        8.0       11.0\n",
       "4  30002       5       2       17.0       19.0       11.0"
      ]
     },
     "execution_count": 46,
     "metadata": {},
     "output_type": "execute_result"
    }
   ],
   "source": [
    "app.head()"
   ]
  },
  {
   "cell_type": "markdown",
   "metadata": {},
   "source": [
    "Float이 아니라 integer로 바꾸어 작업합니다. Astype을 사용합니다."
   ]
  },
  {
   "cell_type": "code",
   "execution_count": 47,
   "metadata": {},
   "outputs": [
    {
     "name": "stdout",
     "output_type": "stream",
     "text": [
      "<class 'pandas.core.frame.DataFrame'>\n",
      "Int64Index: 7984 entries, 0 to 10862\n",
      "Data columns (total 6 columns):\n",
      " #   Column     Non-Null Count  Dtype\n",
      "---  ------     --------------  -----\n",
      " 0   pid        7984 non-null   int64\n",
      " 1   age_gr     7984 non-null   int64\n",
      " 2   gender     7984 non-null   int64\n",
      " 3   freq_app1  7984 non-null   int64\n",
      " 4   freq_app2  7984 non-null   int64\n",
      " 5   freq_app3  7984 non-null   int64\n",
      "dtypes: int64(6)\n",
      "memory usage: 436.6 KB\n"
     ]
    }
   ],
   "source": [
    "app = app.astype('int64')\n",
    "app.info()"
   ]
  },
  {
   "cell_type": "markdown",
   "metadata": {},
   "source": [
    "사람들이 어떤 앱을 자주 이용하는지 가중치를 두고 점수를 매겨봅시다. 1순위에는 3점, 2순위에는 2점, 3순위에는 1점을 주어 합산할 수 있도록 순위당 각 앱별 빈도를 계산합니다."
   ]
  },
  {
   "cell_type": "code",
   "execution_count": 48,
   "metadata": {},
   "outputs": [
    {
     "data": {
      "text/plain": [
       "1      326\n",
       "2       72\n",
       "3      566\n",
       "4       75\n",
       "5      264\n",
       "6      217\n",
       "8      312\n",
       "9      398\n",
       "10     287\n",
       "11    3138\n",
       "12      71\n",
       "13      23\n",
       "14      12\n",
       "15       4\n",
       "16     335\n",
       "17     326\n",
       "18     224\n",
       "19    1334\n",
       "Name: freq_app1, dtype: int64"
      ]
     },
     "execution_count": 48,
     "metadata": {},
     "output_type": "execute_result"
    }
   ],
   "source": [
    "app.freq_app1.value_counts().sort_index()"
   ]
  },
  {
   "cell_type": "markdown",
   "metadata": {},
   "source": [
    "pd.concat은 주어진 DataFrame 또는 Series를 붙이는 함수이며, axis = 1일 때 열(column)을 기준으로 붙습니다."
   ]
  },
  {
   "cell_type": "code",
   "execution_count": 49,
   "metadata": {
    "scrolled": true
   },
   "outputs": [
    {
     "data": {
      "text/html": [
       "<div>\n",
       "<style scoped>\n",
       "    .dataframe tbody tr th:only-of-type {\n",
       "        vertical-align: middle;\n",
       "    }\n",
       "\n",
       "    .dataframe tbody tr th {\n",
       "        vertical-align: top;\n",
       "    }\n",
       "\n",
       "    .dataframe thead th {\n",
       "        text-align: right;\n",
       "    }\n",
       "</style>\n",
       "<table border=\"1\" class=\"dataframe\">\n",
       "  <thead>\n",
       "    <tr style=\"text-align: right;\">\n",
       "      <th></th>\n",
       "      <th>freq_app1</th>\n",
       "      <th>freq_app2</th>\n",
       "      <th>freq_app3</th>\n",
       "    </tr>\n",
       "  </thead>\n",
       "  <tbody>\n",
       "    <tr>\n",
       "      <th>1</th>\n",
       "      <td>326</td>\n",
       "      <td>203</td>\n",
       "      <td>237</td>\n",
       "    </tr>\n",
       "    <tr>\n",
       "      <th>2</th>\n",
       "      <td>72</td>\n",
       "      <td>72</td>\n",
       "      <td>57</td>\n",
       "    </tr>\n",
       "    <tr>\n",
       "      <th>3</th>\n",
       "      <td>566</td>\n",
       "      <td>509</td>\n",
       "      <td>563</td>\n",
       "    </tr>\n",
       "    <tr>\n",
       "      <th>4</th>\n",
       "      <td>75</td>\n",
       "      <td>108</td>\n",
       "      <td>107</td>\n",
       "    </tr>\n",
       "    <tr>\n",
       "      <th>5</th>\n",
       "      <td>264</td>\n",
       "      <td>294</td>\n",
       "      <td>351</td>\n",
       "    </tr>\n",
       "    <tr>\n",
       "      <th>6</th>\n",
       "      <td>217</td>\n",
       "      <td>319</td>\n",
       "      <td>488</td>\n",
       "    </tr>\n",
       "    <tr>\n",
       "      <th>8</th>\n",
       "      <td>312</td>\n",
       "      <td>381</td>\n",
       "      <td>480</td>\n",
       "    </tr>\n",
       "    <tr>\n",
       "      <th>9</th>\n",
       "      <td>398</td>\n",
       "      <td>657</td>\n",
       "      <td>722</td>\n",
       "    </tr>\n",
       "    <tr>\n",
       "      <th>10</th>\n",
       "      <td>287</td>\n",
       "      <td>616</td>\n",
       "      <td>481</td>\n",
       "    </tr>\n",
       "    <tr>\n",
       "      <th>11</th>\n",
       "      <td>3138</td>\n",
       "      <td>1508</td>\n",
       "      <td>1063</td>\n",
       "    </tr>\n",
       "    <tr>\n",
       "      <th>12</th>\n",
       "      <td>71</td>\n",
       "      <td>105</td>\n",
       "      <td>141</td>\n",
       "    </tr>\n",
       "    <tr>\n",
       "      <th>13</th>\n",
       "      <td>23</td>\n",
       "      <td>31</td>\n",
       "      <td>64</td>\n",
       "    </tr>\n",
       "    <tr>\n",
       "      <th>14</th>\n",
       "      <td>12</td>\n",
       "      <td>26</td>\n",
       "      <td>80</td>\n",
       "    </tr>\n",
       "    <tr>\n",
       "      <th>15</th>\n",
       "      <td>4</td>\n",
       "      <td>2</td>\n",
       "      <td>8</td>\n",
       "    </tr>\n",
       "    <tr>\n",
       "      <th>16</th>\n",
       "      <td>335</td>\n",
       "      <td>520</td>\n",
       "      <td>598</td>\n",
       "    </tr>\n",
       "    <tr>\n",
       "      <th>17</th>\n",
       "      <td>326</td>\n",
       "      <td>467</td>\n",
       "      <td>549</td>\n",
       "    </tr>\n",
       "    <tr>\n",
       "      <th>18</th>\n",
       "      <td>224</td>\n",
       "      <td>538</td>\n",
       "      <td>816</td>\n",
       "    </tr>\n",
       "    <tr>\n",
       "      <th>19</th>\n",
       "      <td>1334</td>\n",
       "      <td>1628</td>\n",
       "      <td>1179</td>\n",
       "    </tr>\n",
       "  </tbody>\n",
       "</table>\n",
       "</div>"
      ],
      "text/plain": [
       "    freq_app1  freq_app2  freq_app3\n",
       "1         326        203        237\n",
       "2          72         72         57\n",
       "3         566        509        563\n",
       "4          75        108        107\n",
       "5         264        294        351\n",
       "6         217        319        488\n",
       "8         312        381        480\n",
       "9         398        657        722\n",
       "10        287        616        481\n",
       "11       3138       1508       1063\n",
       "12         71        105        141\n",
       "13         23         31         64\n",
       "14         12         26         80\n",
       "15          4          2          8\n",
       "16        335        520        598\n",
       "17        326        467        549\n",
       "18        224        538        816\n",
       "19       1334       1628       1179"
      ]
     },
     "execution_count": 49,
     "metadata": {},
     "output_type": "execute_result"
    }
   ],
   "source": [
    "apprank = pd.concat([app.freq_app1.value_counts().sort_index(),\n",
    "                 app.freq_app2.value_counts().sort_index(),\n",
    "                 app.freq_app3.value_counts().sort_index()],\n",
    "                 axis = 1)\n",
    "\n",
    "apprank"
   ]
  },
  {
   "cell_type": "code",
   "execution_count": 50,
   "metadata": {},
   "outputs": [],
   "source": [
    "apprank['weighted_sum'] = 3*apprank['freq_app1'] + 2*apprank['freq_app1'] + 1*apprank['freq_app1']"
   ]
  },
  {
   "cell_type": "markdown",
   "metadata": {},
   "source": [
    "Seaborn으로 그려봅시다. 요약통계가 아니므로 x에는 각 앱을 뜻하는 index를, y값은 weighted_sum을 바로 넣습니다. estimator는 필요하지 않습니다."
   ]
  },
  {
   "cell_type": "code",
   "execution_count": 51,
   "metadata": {},
   "outputs": [
    {
     "data": {
      "text/plain": [
       "<matplotlib.axes._subplots.AxesSubplot at 0x19f377e1eb0>"
      ]
     },
     "execution_count": 51,
     "metadata": {},
     "output_type": "execute_result"
    },
    {
     "data": {
      "image/png": "[encoded data removed]",
      "text/plain": [
       "<Figure size 432x288 with 1 Axes>"
      ]
     },
     "metadata": {
      "needs_background": "light"
     },
     "output_type": "display_data"
    }
   ],
   "source": [
    "sns.barplot(x = apprank.index, y = 'weighted_sum', data = apprank,\n",
    "            ci = None)"
   ]
  },
  {
   "cell_type": "markdown",
   "metadata": {},
   "source": [
    "아마 순서대로 정렬하고 싶은 생각이 들 겁니다. 지금은 숫자 순서이지만, 값이 큰 순서대로 x축의 순서를 조정해서 order로 넣어주어야 합니다."
   ]
  },
  {
   "cell_type": "code",
   "execution_count": 52,
   "metadata": {},
   "outputs": [
    {
     "data": {
      "text/plain": [
       "11    18828\n",
       "19     8004\n",
       "3      3396\n",
       "9      2388\n",
       "16     2010\n",
       "1      1956\n",
       "17     1956\n",
       "8      1872\n",
       "10     1722\n",
       "5      1584\n",
       "18     1344\n",
       "6      1302\n",
       "4       450\n",
       "2       432\n",
       "12      426\n",
       "13      138\n",
       "14       72\n",
       "15       24\n",
       "Name: weighted_sum, dtype: int64"
      ]
     },
     "execution_count": 52,
     "metadata": {},
     "output_type": "execute_result"
    }
   ],
   "source": [
    "apprank['weighted_sum'].sort_values(ascending = False)"
   ]
  },
  {
   "cell_type": "code",
   "execution_count": 53,
   "metadata": {},
   "outputs": [
    {
     "data": {
      "text/plain": [
       "Int64Index([11, 19, 3, 9, 16, 1, 17, 8, 10, 5, 18, 6, 4, 2, 12, 13, 14, 15], dtype='int64')"
      ]
     },
     "execution_count": 53,
     "metadata": {},
     "output_type": "execute_result"
    }
   ],
   "source": [
    "apprank['weighted_sum'].sort_values(ascending = False).index"
   ]
  },
  {
   "cell_type": "code",
   "execution_count": 54,
   "metadata": {
    "scrolled": true
   },
   "outputs": [
    {
     "data": {
      "text/plain": [
       "<matplotlib.axes._subplots.AxesSubplot at 0x19f373502b0>"
      ]
     },
     "execution_count": 54,
     "metadata": {},
     "output_type": "execute_result"
    },
    {
     "data": {
      "image/png": "[encoded data removed]",
      "text/plain": [
       "<Figure size 432x288 with 1 Axes>"
      ]
     },
     "metadata": {
      "needs_background": "light"
     },
     "output_type": "display_data"
    }
   ],
   "source": [
    "sns.barplot(x = apprank.index, y = 'weighted_sum', data = apprank,\n",
    "            ci = None, order = apprank['weighted_sum'].sort_values(ascending = False).index)"
   ]
  },
  {
   "cell_type": "markdown",
   "metadata": {},
   "source": [
    "<p style=\"color:#0000FF\";><font size = \"5\"><b>\n",
    " # 연습하기\n",
    "    </b></font></p>\n",
    "    \n",
    "위의 그래프를 수평막대그래프(orient)로 바꾸어 그려봅시다."
   ]
  },
  {
   "cell_type": "code",
   "execution_count": null,
   "metadata": {},
   "outputs": [],
   "source": [
    "help(sns.barplot)"
   ]
  },
  {
   "cell_type": "code",
   "execution_count": null,
   "metadata": {},
   "outputs": [],
   "source": []
  },
  {
   "cell_type": "markdown",
   "metadata": {},
   "source": [
    "\n",
    "#### 참고: 인코딩\n",
    "\n",
    "인코딩이란 문자와 기호를 컴퓨터에서 표현하는 방법으로, 한글의 경우 CP949, EUC-KR, UTF-8 이 가장 많습니다. 인코딩이 다르면 데이터의 내용을 파악할 수 없기 때문에 읽고 쓸 때 주의해야 합니다.\n",
    "\n",
    "인코딩을 명시하지 않은 경우에 읽어올 수 있는 것은 기본값인 utf-8로 이미 설정되어 있기 때문입니다."
   ]
  },
  {
   "cell_type": "code",
   "execution_count": 57,
   "metadata": {
    "scrolled": false
   },
   "outputs": [],
   "source": [
    "test_url = \"https://raw.githubusercontent.com/eunyu1031/Media_interface_2020Spr/master/data/test_cp949.csv\"\n",
    "\n",
    "test = pd.read_csv(test_url) # error\n",
    "# test = pd.read_csv(test_url, encoding = 'cp949')\n",
    "\n",
    "test.head()"
   ]
  },
  {
   "cell_type": "code",
   "execution_count": null,
   "metadata": {},
   "outputs": [],
   "source": [
    "test.to_csv(\"test_url.csv\", encoding = 'utf-8', index = None) # csv로 저장"
   ]
  },
  {
   "cell_type": "code",
   "execution_count": null,
   "metadata": {},
   "outputs": [],
   "source": [
    "!ls # colab"
   ]
  },
  {
   "cell_type": "code",
   "execution_count": null,
   "metadata": {},
   "outputs": [],
   "source": [
    "test2 = pd.read_csv(\"test_url.csv\") # 같은 폴더에 있는 경우\n",
    "test2.head()"
   ]
  },
  {
   "cell_type": "code",
   "execution_count": null,
   "metadata": {},
   "outputs": [],
   "source": []
  }
 ],
 "metadata": {
  "kernelspec": {
   "display_name": "Python 3",
   "language": "python",
   "name": "python3"
  },
  "language_info": {
   "codemirror_mode": {
    "name": "ipython",
    "version": 3
   },
   "file_extension": ".py",
   "mimetype": "text/x-python",
   "name": "python",
   "nbconvert_exporter": "python",
   "pygments_lexer": "ipython3",
   "version": "3.8.3"
  }
 },
 "nbformat": 4,
 "nbformat_minor": 4
}
