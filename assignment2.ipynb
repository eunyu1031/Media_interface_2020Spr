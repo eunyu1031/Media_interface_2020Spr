{
 "cells": [
  {
   "cell_type": "markdown",
   "metadata": {},
   "source": [
    "# 과제 2\n",
    "\n",
    "- 기한: 5/1(금) 23:59\n",
    "- 제출: e-class 업로드\n",
    "- 비중: 8% (12점)\n",
    "- 파일형식: .ipynb\n",
    "- 결과만 간결하게 확인할 수 있게, 제출 전 사용하지 않는 코드는 정리해 주세요.\n",
    "- 늦게 제출한 경우 점수의 절반만 인정합니다.\n",
    "- 코드가 동작하지 않는 경우(예:에러 메시지), 파일을 열 수 없는 경우 0점 처리합니다.\n",
    "- 6 문제의 배점은 모두 같습니다.\n",
    "\n",
    "## Guide\n",
    "- Matplotlib/Seaborn 어느 툴을 사용해도 괜찮습니다.\n",
    "- 예제가 있는 문제는 형태(차트를 그리는 데이터만) 같으면 되고, 색깔이나 스타일은 개인의 자유입니다."
   ]
  },
  {
   "cell_type": "code",
   "execution_count": 1,
   "metadata": {},
   "outputs": [],
   "source": [
    "from pandas import Series, DataFrame \n",
    "import pandas as pd\n",
    "import numpy as np\n",
    "import matplotlib\n",
    "import matplotlib.pyplot as plt\n",
    "import seaborn as sns\n",
    "\n",
    "%matplotlib inline "
   ]
  },
  {
   "cell_type": "code",
   "execution_count": 2,
   "metadata": {},
   "outputs": [],
   "source": [
    "import platform\n",
    "from matplotlib import font_manager, rc\n",
    "import matplotlib.pyplot as plt\n",
    "plt.rcParams['axes.unicode_minus'] = False\n",
    "\n",
    "if platform.system() == 'Darwin':\n",
    "    rc('font', family = 'AppleGothic')\n",
    "elif platform.system() == 'Windows': \n",
    "    path = 'c:\\Windows\\Fonts\\malgun.ttf'\n",
    "    font_name = font_manager.FontProperties(fname = path).get_name()\n",
    "    rc('font', family = font_name)\n",
    "elif platform.system() == \"Linux\":\n",
    "    !apt -qq -y install fonts-nanum\n",
    "    fontpath = '/usr/share/fonts/truetype/nanum/NanumBarunGothic.ttf'\n",
    "    font = font_manager.FontProperties(fname=fontpath, size=9)\n",
    "    rc('font', family='NanumBarunGothic') \n",
    "    font_manager._rebuild()\n",
    "else:\n",
    "    print(\"unknown system\")"
   ]
  },
  {
   "cell_type": "code",
   "execution_count": 3,
   "metadata": {},
   "outputs": [
    {
     "data": {
      "text/html": [
       "<div>\n",
       "<style scoped>\n",
       "    .dataframe tbody tr th:only-of-type {\n",
       "        vertical-align: middle;\n",
       "    }\n",
       "\n",
       "    .dataframe tbody tr th {\n",
       "        vertical-align: top;\n",
       "    }\n",
       "\n",
       "    .dataframe thead th {\n",
       "        text-align: right;\n",
       "    }\n",
       "</style>\n",
       "<table border=\"1\" class=\"dataframe\">\n",
       "  <thead>\n",
       "    <tr style=\"text-align: right;\">\n",
       "      <th></th>\n",
       "      <th>pid</th>\n",
       "      <th>hid</th>\n",
       "      <th>area</th>\n",
       "      <th>area_siz</th>\n",
       "      <th>hhld_siz</th>\n",
       "      <th>fly_typ</th>\n",
       "      <th>gender</th>\n",
       "      <th>byear</th>\n",
       "      <th>age_gr</th>\n",
       "      <th>age</th>\n",
       "      <th>...</th>\n",
       "      <th>news_med1</th>\n",
       "      <th>news_med2</th>\n",
       "      <th>news_med3</th>\n",
       "      <th>news_plat1</th>\n",
       "      <th>news_plat2</th>\n",
       "      <th>news_plat3</th>\n",
       "      <th>channel</th>\n",
       "      <th>shop</th>\n",
       "      <th>shop_dev</th>\n",
       "      <th>shop_pay</th>\n",
       "    </tr>\n",
       "  </thead>\n",
       "  <tbody>\n",
       "    <tr>\n",
       "      <th>0</th>\n",
       "      <td>10001</td>\n",
       "      <td>100</td>\n",
       "      <td>1</td>\n",
       "      <td>1</td>\n",
       "      <td>3</td>\n",
       "      <td>3</td>\n",
       "      <td>1</td>\n",
       "      <td>1967</td>\n",
       "      <td>6</td>\n",
       "      <td>52</td>\n",
       "      <td>...</td>\n",
       "      <td>3</td>\n",
       "      <td>4</td>\n",
       "      <td></td>\n",
       "      <td>3</td>\n",
       "      <td>2</td>\n",
       "      <td></td>\n",
       "      <td>1</td>\n",
       "      <td>1</td>\n",
       "      <td>1</td>\n",
       "      <td>2</td>\n",
       "    </tr>\n",
       "    <tr>\n",
       "      <th>1</th>\n",
       "      <td>10002</td>\n",
       "      <td>100</td>\n",
       "      <td>1</td>\n",
       "      <td>1</td>\n",
       "      <td>3</td>\n",
       "      <td>3</td>\n",
       "      <td>2</td>\n",
       "      <td>1972</td>\n",
       "      <td>5</td>\n",
       "      <td>47</td>\n",
       "      <td>...</td>\n",
       "      <td>3</td>\n",
       "      <td>4</td>\n",
       "      <td></td>\n",
       "      <td>3</td>\n",
       "      <td>2</td>\n",
       "      <td></td>\n",
       "      <td>3</td>\n",
       "      <td>1</td>\n",
       "      <td>1</td>\n",
       "      <td>2</td>\n",
       "    </tr>\n",
       "    <tr>\n",
       "      <th>2</th>\n",
       "      <td>20001</td>\n",
       "      <td>200</td>\n",
       "      <td>1</td>\n",
       "      <td>1</td>\n",
       "      <td>3</td>\n",
       "      <td>3</td>\n",
       "      <td>1</td>\n",
       "      <td>1965</td>\n",
       "      <td>6</td>\n",
       "      <td>54</td>\n",
       "      <td>...</td>\n",
       "      <td>4</td>\n",
       "      <td></td>\n",
       "      <td></td>\n",
       "      <td>3</td>\n",
       "      <td></td>\n",
       "      <td></td>\n",
       "      <td>7</td>\n",
       "      <td></td>\n",
       "      <td></td>\n",
       "      <td></td>\n",
       "    </tr>\n",
       "    <tr>\n",
       "      <th>3</th>\n",
       "      <td>30001</td>\n",
       "      <td>300</td>\n",
       "      <td>8</td>\n",
       "      <td>1</td>\n",
       "      <td>3</td>\n",
       "      <td>3</td>\n",
       "      <td>1</td>\n",
       "      <td>1971</td>\n",
       "      <td>5</td>\n",
       "      <td>48</td>\n",
       "      <td>...</td>\n",
       "      <td>3</td>\n",
       "      <td></td>\n",
       "      <td></td>\n",
       "      <td>3</td>\n",
       "      <td></td>\n",
       "      <td></td>\n",
       "      <td>1</td>\n",
       "      <td></td>\n",
       "      <td></td>\n",
       "      <td></td>\n",
       "    </tr>\n",
       "    <tr>\n",
       "      <th>4</th>\n",
       "      <td>30002</td>\n",
       "      <td>300</td>\n",
       "      <td>8</td>\n",
       "      <td>1</td>\n",
       "      <td>3</td>\n",
       "      <td>3</td>\n",
       "      <td>2</td>\n",
       "      <td>1974</td>\n",
       "      <td>5</td>\n",
       "      <td>45</td>\n",
       "      <td>...</td>\n",
       "      <td></td>\n",
       "      <td></td>\n",
       "      <td></td>\n",
       "      <td></td>\n",
       "      <td></td>\n",
       "      <td></td>\n",
       "      <td>1</td>\n",
       "      <td>1</td>\n",
       "      <td>3</td>\n",
       "      <td>1</td>\n",
       "    </tr>\n",
       "  </tbody>\n",
       "</table>\n",
       "<p>5 rows × 66 columns</p>\n",
       "</div>"
      ],
      "text/plain": [
       "     pid  hid  area  area_siz  hhld_siz  fly_typ  gender  byear  age_gr  age  \\\n",
       "0  10001  100     1         1         3        3       1   1967       6   52   \n",
       "1  10002  100     1         1         3        3       2   1972       5   47   \n",
       "2  20001  200     1         1         3        3       1   1965       6   54   \n",
       "3  30001  300     8         1         3        3       1   1971       5   48   \n",
       "4  30002  300     8         1         3        3       2   1974       5   45   \n",
       "\n",
       "   ...  news_med1  news_med2  news_med3 news_plat1 news_plat2  news_plat3  \\\n",
       "0  ...          3          4                     3          2               \n",
       "1  ...          3          4                     3          2               \n",
       "2  ...          4                                3                          \n",
       "3  ...          3                                3                          \n",
       "4  ...                                                                      \n",
       "\n",
       "  channel shop shop_dev shop_pay  \n",
       "0       1    1        1        2  \n",
       "1       3    1        1        2  \n",
       "2       7                         \n",
       "3       1                         \n",
       "4       1    1        3        1  \n",
       "\n",
       "[5 rows x 66 columns]"
      ]
     },
     "execution_count": 3,
     "metadata": {},
     "output_type": "execute_result"
    }
   ],
   "source": [
    "url = \"https://raw.githubusercontent.com/eunyu1031/Media_interface_2020Spr/master/p19_mediapanel.csv\"\n",
    "\n",
    "data = pd.read_csv(url, encoding = 'utf-8')\n",
    "data.head()"
   ]
  },
  {
   "cell_type": "code",
   "execution_count": 4,
   "metadata": {},
   "outputs": [
    {
     "data": {
      "text/html": [
       "<div>\n",
       "<style scoped>\n",
       "    .dataframe tbody tr th:only-of-type {\n",
       "        vertical-align: middle;\n",
       "    }\n",
       "\n",
       "    .dataframe tbody tr th {\n",
       "        vertical-align: top;\n",
       "    }\n",
       "\n",
       "    .dataframe thead th {\n",
       "        text-align: right;\n",
       "    }\n",
       "</style>\n",
       "<table border=\"1\" class=\"dataframe\">\n",
       "  <thead>\n",
       "    <tr style=\"text-align: right;\">\n",
       "      <th></th>\n",
       "      <th>pid</th>\n",
       "      <th>age_gr</th>\n",
       "      <th>gender</th>\n",
       "      <th>age</th>\n",
       "      <th>app_num</th>\n",
       "      <th>appin_num</th>\n",
       "      <th>c06</th>\n",
       "      <th>freq_sns1</th>\n",
       "      <th>channel</th>\n",
       "    </tr>\n",
       "  </thead>\n",
       "  <tbody>\n",
       "    <tr>\n",
       "      <th>0</th>\n",
       "      <td>10001</td>\n",
       "      <td>6</td>\n",
       "      <td>1</td>\n",
       "      <td>52</td>\n",
       "      <td></td>\n",
       "      <td>5</td>\n",
       "      <td>10</td>\n",
       "      <td>15</td>\n",
       "      <td>1</td>\n",
       "    </tr>\n",
       "    <tr>\n",
       "      <th>1</th>\n",
       "      <td>10002</td>\n",
       "      <td>5</td>\n",
       "      <td>2</td>\n",
       "      <td>47</td>\n",
       "      <td></td>\n",
       "      <td>6</td>\n",
       "      <td>12</td>\n",
       "      <td>15</td>\n",
       "      <td>3</td>\n",
       "    </tr>\n",
       "    <tr>\n",
       "      <th>2</th>\n",
       "      <td>20001</td>\n",
       "      <td>6</td>\n",
       "      <td>1</td>\n",
       "      <td>54</td>\n",
       "      <td></td>\n",
       "      <td></td>\n",
       "      <td></td>\n",
       "      <td>16</td>\n",
       "      <td>7</td>\n",
       "    </tr>\n",
       "    <tr>\n",
       "      <th>3</th>\n",
       "      <td>30001</td>\n",
       "      <td>5</td>\n",
       "      <td>1</td>\n",
       "      <td>48</td>\n",
       "      <td></td>\n",
       "      <td>1</td>\n",
       "      <td>6</td>\n",
       "      <td></td>\n",
       "      <td>1</td>\n",
       "    </tr>\n",
       "    <tr>\n",
       "      <th>4</th>\n",
       "      <td>30002</td>\n",
       "      <td>5</td>\n",
       "      <td>2</td>\n",
       "      <td>45</td>\n",
       "      <td></td>\n",
       "      <td>2</td>\n",
       "      <td>6</td>\n",
       "      <td></td>\n",
       "      <td>1</td>\n",
       "    </tr>\n",
       "  </tbody>\n",
       "</table>\n",
       "</div>"
      ],
      "text/plain": [
       "     pid  age_gr  gender  age app_num appin_num c06 freq_sns1 channel\n",
       "0  10001       6       1   52                 5  10        15       1\n",
       "1  10002       5       2   47                 6  12        15       3\n",
       "2  20001       6       1   54                              16       7\n",
       "3  30001       5       1   48                 1   6                 1\n",
       "4  30002       5       2   45                 2   6                 1"
      ]
     },
     "execution_count": 4,
     "metadata": {},
     "output_type": "execute_result"
    }
   ],
   "source": [
    "temp = data.loc[:,['pid','age_gr','gender','age','app_num','appin_num','c06', \n",
    "                   'freq_sns1', 'channel']]\n",
    "temp.head()"
   ]
  },
  {
   "cell_type": "code",
   "execution_count": 5,
   "metadata": {
    "scrolled": true
   },
   "outputs": [
    {
     "name": "stdout",
     "output_type": "stream",
     "text": [
      "<class 'pandas.core.frame.DataFrame'>\n",
      "RangeIndex: 10864 entries, 0 to 10863\n",
      "Data columns (total 9 columns):\n",
      " #   Column     Non-Null Count  Dtype  \n",
      "---  ------     --------------  -----  \n",
      " 0   pid        10864 non-null  int64  \n",
      " 1   age_gr     10864 non-null  int64  \n",
      " 2   gender     10864 non-null  int64  \n",
      " 3   age        10864 non-null  int64  \n",
      " 4   app_num    412 non-null    float64\n",
      " 5   appin_num  764 non-null    float64\n",
      " 6   c06        921 non-null    float64\n",
      " 7   freq_sns1  4829 non-null   float64\n",
      " 8   channel    10359 non-null  float64\n",
      "dtypes: float64(5), int64(4)\n",
      "memory usage: 764.0 KB\n"
     ]
    }
   ],
   "source": [
    "app = temp.apply(lambda x: pd.to_numeric(x, errors = 'coerce').replace(0,np.nan))\n",
    "app.info()"
   ]
  },
  {
   "cell_type": "markdown",
   "metadata": {},
   "source": [
    "<table style=\"width: 82%;\">\n",
    "<thead>\n",
    "<tr style=\"height: 35px;\">\n",
    "<td style=\"width: 13%; height: 35px;\">\n",
    "<p>Original</p>\n",
    "</td>\n",
    "<td style=\"width: 13%; height: 35px;\">\n",
    "<p>Cleaned</p>\n",
    "</td>\n",
    "<td style=\"width: 55%; height: 35px;\">\n",
    "<p>Description</p>\n",
    "</td>\n",
    "</tr>\n",
    "</thead>\n",
    "<tbody>\n",
    "<tr style=\"height: 37px;\">\n",
    "<td style=\"width: 13%; height: 37px;\">\n",
    "<p>p__c06008</p>\n",
    "</td>\n",
    "<td style=\"width: 13%; height: 37px;\">\n",
    "<p><strong>app_num</strong></p>\n",
    "</td>\n",
    "<td style=\"width: 55%; height: 37px;\">\n",
    "<p>유료 애플리케이션 구입 개수</p>\n",
    "</td>\n",
    "</tr>\n",
    "<tr style=\"height: 37px;\">\n",
    "<td style=\"width: 13%; height: 37px;\">\n",
    "<p>p__c06009</p>\n",
    "</td>\n",
    "<td style=\"width: 13%; height: 37px;\">\n",
    "<p><strong>appin_num</strong></p>\n",
    "</td>\n",
    "<td style=\"width: 55%; height: 37px;\">\n",
    "<p>유/무료 애플리케이션 내 아이템 및 확장기능 구입 개수</p>\n",
    "</td>\n",
    "</tr>\n",
    "<tr style=\"height: 37px;\">\n",
    "<td style=\"width: 13%; height: 37px;\">\n",
    "<p>p__c06010</p>\n",
    "</td>\n",
    "<td style=\"width: 13%; height: 37px;\">\n",
    "<p><strong>c06</strong></p>\n",
    "</td>\n",
    "<td style=\"width: 55%; height: 37px;\">\n",
    "<p>애플리케이션 관련 지출 금액</p>\n",
    "</td>\n",
    "</tr>\n",
    "<tr style=\"height: 37px;\">\n",
    "<td style=\"width: 13%; height: 37px;\">\n",
    "<p>p__d11002</p>\n",
    "</td>\n",
    "<td style=\"width: 13%; height: 37px;\">\n",
    "<p><strong>freq_sns1</strong></p>\n",
    "</td>\n",
    "<td style=\"width: 55%; height: 37px;\">\n",
    "<p>[미디어 이용행태] 주로 사용하는 SNS 계정 1순위<br>1. 트위터 (Twitter) 2. 페이스북 (Facebook) 3. 싸이월드 미니홈피 12. 카카오스토리 13. 기타 15. 인스타그램(instagram) 16. 네이버 밴드 20. 비트윈 21. 웨이보 22. 핀터레스트 23. 유튜브 9999. 모름/무응답</p>\n",
    "</td>\n",
    "</tr>\n",
    "<tr style=\"height: 37px;\">\n",
    "<td style=\"width: 13%; height: 37px;\">\n",
    "<p>p__i01001</p>\n",
    "</td>\n",
    "<td style=\"width: 13%; height: 37px;\">\n",
    "<p><strong>channel</strong></p>\n",
    "</td>\n",
    "<td style=\"width: 55%; height: 37px;\">\n",
    "<p>[전자상거래 및 통신판매] 구매정보 습득을 위해 우선적으로 이용하는 채널<br>1.포털 사이트 검색 2.온라인 오픈마켓 검색 3.소셜커머스 검색 4.특정 온라인 쇼핑몰 방문 5.특정 SNS, 블로그 등 6.백화점이나 로드샵 등 오프라인 방문 7.가족, 친구 등 주변인을 통한 정보 습득 등 기타 8.유튜브(동영상플랫폼) 등 검색 9999.모름/ 무응답</p>\n",
    "</td>\n",
    "</tr>\n",
    "</tbody>\n",
    "</table>"
   ]
  },
  {
   "cell_type": "markdown",
   "metadata": {},
   "source": [
    "<img src='https://github.com/eunyu1031/Media_interface_2020Spr/blob/master/pics/description1.PNG?raw=true' width='600'/>"
   ]
  },
  {
   "cell_type": "markdown",
   "metadata": {},
   "source": [
    "## 문제 1\n",
    "\n",
    "- 도수분포표\n",
    "- 전자상거래 및 통신판매에서 구매정보를 얻기 위해 우선적으로 SNS를 방문하는 사람들을 대상으로 어떤 소셜미디어를 1순위로 사용하는지 살펴보세요."
   ]
  },
  {
   "cell_type": "code",
   "execution_count": null,
   "metadata": {},
   "outputs": [],
   "source": []
  },
  {
   "cell_type": "code",
   "execution_count": 6,
   "metadata": {
    "scrolled": true
   },
   "outputs": [
    {
     "data": {
      "image/png": "[encoded data removed]",
      "text/plain": [
       "<Figure size 432x288 with 1 Axes>"
      ]
     },
     "metadata": {
      "needs_background": "light"
     },
     "output_type": "display_data"
    }
   ],
   "source": []
  },
  {
   "cell_type": "markdown",
   "metadata": {},
   "source": [
    "## 문제 2\n",
    "- 도수분포표\n",
    "- 문제 1의 결과에서 성별 간 분포의 차이가 있는지 더 나누어 살펴보세요."
   ]
  },
  {
   "cell_type": "code",
   "execution_count": null,
   "metadata": {},
   "outputs": [],
   "source": []
  },
  {
   "cell_type": "markdown",
   "metadata": {},
   "source": [
    "## 문제 3\n",
    "- 박스플롯\n",
    "- 이용하는 사람이 가장 많은 1, 2, 3순위 소셜미디어만 대상으로, 각 소셜미디어 내에서의 성별 분포는 어떠한지 살펴보세요."
   ]
  },
  {
   "cell_type": "code",
   "execution_count": null,
   "metadata": {},
   "outputs": [],
   "source": []
  },
  {
   "cell_type": "markdown",
   "metadata": {},
   "source": [
    "## 문제 4\n",
    "- 수직막대그래프\n",
    "- 어플리케이션 관련으로 돈을 지출하는 사람들을 연령대별로 구분하되, 지출금액은 이상치의 영향이 덜한 중앙값을 살펴봅니다.\n",
    "- 기본값이 아닌 다른 색상/팔레트로 바꾸어 보세요."
   ]
  },
  {
   "cell_type": "code",
   "execution_count": null,
   "metadata": {},
   "outputs": [],
   "source": []
  },
  {
   "cell_type": "markdown",
   "metadata": {},
   "source": [
    "## 문제 5\n",
    "- 수평막대그래프\n",
    "- 유료 어플리케이션을 구입하는 사람들을 연령대별로 구분하되, 각 연령대별 구입개수의 최대값을 살펴봅니다.\n",
    "- 차트에 적절한 제목과 x, y 라벨을 붙입니다."
   ]
  },
  {
   "cell_type": "code",
   "execution_count": null,
   "metadata": {},
   "outputs": [],
   "source": []
  },
  {
   "cell_type": "markdown",
   "metadata": {},
   "source": [
    "## 문제 6\n",
    "- 수평막대그래프\n",
    "- 유/무료 어플리케이션 내 아이템 및 확장기능 구입 개수의 평균을 보고자 합니다.\n",
    "- 95%를 초과하는 큰 이상치를 포함하는 평균과 제외한 평균을 하나의 그래프에 함께 겹쳐서 그려 같은 선상에서 비교합니다. \n",
    "- 차트에 범례와 적절한 제목, x/y 라벨을 추가합니다."
   ]
  },
  {
   "cell_type": "code",
   "execution_count": 20,
   "metadata": {},
   "outputs": [
    {
     "data": {
      "text/plain": [
       "10.0"
      ]
     },
     "execution_count": 20,
     "metadata": {},
     "output_type": "execute_result"
    }
   ],
   "source": [
    "app['appin_num'].quantile(q = 0.95)"
   ]
  },
  {
   "cell_type": "code",
   "execution_count": null,
   "metadata": {},
   "outputs": [],
   "source": []
  },
  {
   "cell_type": "code",
   "execution_count": 13,
   "metadata": {},
   "outputs": [
    {
     "data": {
      "image/png": "[encoded data removed]",
      "text/plain": [
       "<Figure size 432x288 with 1 Axes>"
      ]
     },
     "metadata": {
      "needs_background": "light"
     },
     "output_type": "display_data"
    }
   ],
   "source": []
  },
  {
   "cell_type": "code",
   "execution_count": null,
   "metadata": {},
   "outputs": [],
   "source": []
  }
 ],
 "metadata": {
  "kernelspec": {
   "display_name": "Python 3",
   "language": "python",
   "name": "python3"
  },
  "language_info": {
   "codemirror_mode": {
    "name": "ipython",
    "version": 3
   },
   "file_extension": ".py",
   "mimetype": "text/x-python",
   "name": "python",
   "nbconvert_exporter": "python",
   "pygments_lexer": "ipython3",
   "version": "3.8.3"
  }
 },
 "nbformat": 4,
 "nbformat_minor": 2
}
