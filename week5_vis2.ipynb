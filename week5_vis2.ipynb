{
 "cells": [
  {
   "cell_type": "markdown",
   "metadata": {
    "colab_type": "text",
    "id": "BXhbkGmO3Vf3"
   },
   "source": [
    "## 시각화: 분포(distribution)\n",
    "### 복습\n",
    "- 미디어 패널의 인구통계학적 분포: 성별, 연령, 거주지 분포는 어떠한가?\n",
    "\n",
    "### 질문하기: 온라인 콘텐츠\n",
    "1. 온라인 디지털 콘텐츠를 얼마나 구매하는가?\n",
    "2. 온라인 디지털 콘텐츠 지출금액의 분포는 어떠한가? \n",
    "3. 온라인 디지털 콘텐츠를 구매하는 사람들은 누구인가?\n",
    "\n",
    "**편의상 가중치는 고려하지 않고 실습을 진행합니다."
   ]
  },
  {
   "cell_type": "code",
   "execution_count": 1,
   "metadata": {
    "colab": {
     "base_uri": "https://localhost:8080/",
     "height": 34
    },
    "colab_type": "code",
    "executionInfo": {
     "elapsed": 2669,
     "status": "ok",
     "timestamp": 1587021857324,
     "user": {
      "displayName": "Eun Yu",
      "photoUrl": "https://lh3.googleusercontent.com/a-/AOh14GgEWsmf4FH7IRh7LjTXnuF85OLv2_K9vNCProM4=s64",
      "userId": "17784789244818192257"
     },
     "user_tz": -540
    },
    "id": "slTjn0zi3Vf8",
    "outputId": "7f670093-afbd-4625-e804-0eb1b92eb854"
   },
   "outputs": [
    {
     "data": {
      "text/plain": [
       "'1.0.5'"
      ]
     },
     "execution_count": 1,
     "metadata": {},
     "output_type": "execute_result"
    }
   ],
   "source": [
    "from pandas import Series, DataFrame \n",
    "import pandas as pd\n",
    "import numpy as np\n",
    "\n",
    "pd.__version__ "
   ]
  },
  {
   "cell_type": "code",
   "execution_count": 2,
   "metadata": {
    "colab": {
     "base_uri": "https://localhost:8080/",
     "height": 216
    },
    "colab_type": "code",
    "executionInfo": {
     "elapsed": 2628,
     "status": "ok",
     "timestamp": 1587021862551,
     "user": {
      "displayName": "Eun Yu",
      "photoUrl": "https://lh3.googleusercontent.com/a-/AOh14GgEWsmf4FH7IRh7LjTXnuF85OLv2_K9vNCProM4=s64",
      "userId": "17784789244818192257"
     },
     "user_tz": -540
    },
    "id": "YkklmwVA3Vf_",
    "outputId": "46bb1384-1ae8-4d5e-caa1-2baefe103142",
    "scrolled": true
   },
   "outputs": [
    {
     "data": {
      "text/html": [
       "<div>\n",
       "<style scoped>\n",
       "    .dataframe tbody tr th:only-of-type {\n",
       "        vertical-align: middle;\n",
       "    }\n",
       "\n",
       "    .dataframe tbody tr th {\n",
       "        vertical-align: top;\n",
       "    }\n",
       "\n",
       "    .dataframe thead th {\n",
       "        text-align: right;\n",
       "    }\n",
       "</style>\n",
       "<table border=\"1\" class=\"dataframe\">\n",
       "  <thead>\n",
       "    <tr style=\"text-align: right;\">\n",
       "      <th></th>\n",
       "      <th>pid</th>\n",
       "      <th>hid</th>\n",
       "      <th>area</th>\n",
       "      <th>area_siz</th>\n",
       "      <th>hhld_siz</th>\n",
       "      <th>fly_typ</th>\n",
       "      <th>gender</th>\n",
       "      <th>byear</th>\n",
       "      <th>age_gr</th>\n",
       "      <th>age</th>\n",
       "      <th>...</th>\n",
       "      <th>news_med1</th>\n",
       "      <th>news_med2</th>\n",
       "      <th>news_med3</th>\n",
       "      <th>news_plat1</th>\n",
       "      <th>news_plat2</th>\n",
       "      <th>news_plat3</th>\n",
       "      <th>channel</th>\n",
       "      <th>shop</th>\n",
       "      <th>shop_dev</th>\n",
       "      <th>shop_pay</th>\n",
       "    </tr>\n",
       "  </thead>\n",
       "  <tbody>\n",
       "    <tr>\n",
       "      <th>0</th>\n",
       "      <td>10001</td>\n",
       "      <td>100</td>\n",
       "      <td>1</td>\n",
       "      <td>1</td>\n",
       "      <td>3</td>\n",
       "      <td>3</td>\n",
       "      <td>1</td>\n",
       "      <td>1967</td>\n",
       "      <td>6</td>\n",
       "      <td>52</td>\n",
       "      <td>...</td>\n",
       "      <td>3</td>\n",
       "      <td>4</td>\n",
       "      <td></td>\n",
       "      <td>3</td>\n",
       "      <td>2</td>\n",
       "      <td></td>\n",
       "      <td>1</td>\n",
       "      <td>1</td>\n",
       "      <td>1</td>\n",
       "      <td>2</td>\n",
       "    </tr>\n",
       "    <tr>\n",
       "      <th>1</th>\n",
       "      <td>10002</td>\n",
       "      <td>100</td>\n",
       "      <td>1</td>\n",
       "      <td>1</td>\n",
       "      <td>3</td>\n",
       "      <td>3</td>\n",
       "      <td>2</td>\n",
       "      <td>1972</td>\n",
       "      <td>5</td>\n",
       "      <td>47</td>\n",
       "      <td>...</td>\n",
       "      <td>3</td>\n",
       "      <td>4</td>\n",
       "      <td></td>\n",
       "      <td>3</td>\n",
       "      <td>2</td>\n",
       "      <td></td>\n",
       "      <td>3</td>\n",
       "      <td>1</td>\n",
       "      <td>1</td>\n",
       "      <td>2</td>\n",
       "    </tr>\n",
       "    <tr>\n",
       "      <th>2</th>\n",
       "      <td>20001</td>\n",
       "      <td>200</td>\n",
       "      <td>1</td>\n",
       "      <td>1</td>\n",
       "      <td>3</td>\n",
       "      <td>3</td>\n",
       "      <td>1</td>\n",
       "      <td>1965</td>\n",
       "      <td>6</td>\n",
       "      <td>54</td>\n",
       "      <td>...</td>\n",
       "      <td>4</td>\n",
       "      <td></td>\n",
       "      <td></td>\n",
       "      <td>3</td>\n",
       "      <td></td>\n",
       "      <td></td>\n",
       "      <td>7</td>\n",
       "      <td></td>\n",
       "      <td></td>\n",
       "      <td></td>\n",
       "    </tr>\n",
       "    <tr>\n",
       "      <th>3</th>\n",
       "      <td>30001</td>\n",
       "      <td>300</td>\n",
       "      <td>8</td>\n",
       "      <td>1</td>\n",
       "      <td>3</td>\n",
       "      <td>3</td>\n",
       "      <td>1</td>\n",
       "      <td>1971</td>\n",
       "      <td>5</td>\n",
       "      <td>48</td>\n",
       "      <td>...</td>\n",
       "      <td>3</td>\n",
       "      <td></td>\n",
       "      <td></td>\n",
       "      <td>3</td>\n",
       "      <td></td>\n",
       "      <td></td>\n",
       "      <td>1</td>\n",
       "      <td></td>\n",
       "      <td></td>\n",
       "      <td></td>\n",
       "    </tr>\n",
       "    <tr>\n",
       "      <th>4</th>\n",
       "      <td>30002</td>\n",
       "      <td>300</td>\n",
       "      <td>8</td>\n",
       "      <td>1</td>\n",
       "      <td>3</td>\n",
       "      <td>3</td>\n",
       "      <td>2</td>\n",
       "      <td>1974</td>\n",
       "      <td>5</td>\n",
       "      <td>45</td>\n",
       "      <td>...</td>\n",
       "      <td></td>\n",
       "      <td></td>\n",
       "      <td></td>\n",
       "      <td></td>\n",
       "      <td></td>\n",
       "      <td></td>\n",
       "      <td>1</td>\n",
       "      <td>1</td>\n",
       "      <td>3</td>\n",
       "      <td>1</td>\n",
       "    </tr>\n",
       "  </tbody>\n",
       "</table>\n",
       "<p>5 rows × 66 columns</p>\n",
       "</div>"
      ],
      "text/plain": [
       "     pid  hid  area  area_siz  hhld_siz  fly_typ  gender  byear  age_gr  age  \\\n",
       "0  10001  100     1         1         3        3       1   1967       6   52   \n",
       "1  10002  100     1         1         3        3       2   1972       5   47   \n",
       "2  20001  200     1         1         3        3       1   1965       6   54   \n",
       "3  30001  300     8         1         3        3       1   1971       5   48   \n",
       "4  30002  300     8         1         3        3       2   1974       5   45   \n",
       "\n",
       "   ...  news_med1  news_med2  news_med3 news_plat1 news_plat2  news_plat3  \\\n",
       "0  ...          3          4                     3          2               \n",
       "1  ...          3          4                     3          2               \n",
       "2  ...          4                                3                          \n",
       "3  ...          3                                3                          \n",
       "4  ...                                                                      \n",
       "\n",
       "  channel shop shop_dev shop_pay  \n",
       "0       1    1        1        2  \n",
       "1       3    1        1        2  \n",
       "2       7                         \n",
       "3       1                         \n",
       "4       1    1        3        1  \n",
       "\n",
       "[5 rows x 66 columns]"
      ]
     },
     "execution_count": 2,
     "metadata": {},
     "output_type": "execute_result"
    }
   ],
   "source": [
    "url = \"https://raw.githubusercontent.com/eunyu1031/Media_interface_2020Spr/master/data/p19_mediapanel.csv\"\n",
    "\n",
    "data = pd.read_csv(url, encoding = 'utf-8')\n",
    "data.head()"
   ]
  },
  {
   "cell_type": "markdown",
   "metadata": {
    "colab_type": "text",
    "id": "MFJ0kYRG3VgF"
   },
   "source": [
    "지난 시간에는 인구통계학적 정보를 확인했습니다."
   ]
  },
  {
   "cell_type": "code",
   "execution_count": 3,
   "metadata": {
    "colab": {},
    "colab_type": "code",
    "id": "LaJyBzlE3VgF",
    "scrolled": false
   },
   "outputs": [
    {
     "data": {
      "text/html": [
       "<div>\n",
       "<style scoped>\n",
       "    .dataframe tbody tr th:only-of-type {\n",
       "        vertical-align: middle;\n",
       "    }\n",
       "\n",
       "    .dataframe tbody tr th {\n",
       "        vertical-align: top;\n",
       "    }\n",
       "\n",
       "    .dataframe thead th {\n",
       "        text-align: right;\n",
       "    }\n",
       "</style>\n",
       "<table border=\"1\" class=\"dataframe\">\n",
       "  <thead>\n",
       "    <tr style=\"text-align: right;\">\n",
       "      <th></th>\n",
       "      <th>pid</th>\n",
       "      <th>hid</th>\n",
       "      <th>area</th>\n",
       "      <th>area_siz</th>\n",
       "      <th>hhld_siz</th>\n",
       "      <th>fly_typ</th>\n",
       "      <th>gender</th>\n",
       "      <th>byear</th>\n",
       "      <th>age_gr</th>\n",
       "      <th>age</th>\n",
       "      <th>marry</th>\n",
       "      <th>income_gr</th>\n",
       "      <th>job</th>\n",
       "      <th>job_type</th>\n",
       "      <th>job_etc</th>\n",
       "    </tr>\n",
       "  </thead>\n",
       "  <tbody>\n",
       "    <tr>\n",
       "      <th>0</th>\n",
       "      <td>10001</td>\n",
       "      <td>100</td>\n",
       "      <td>1</td>\n",
       "      <td>1</td>\n",
       "      <td>3</td>\n",
       "      <td>3</td>\n",
       "      <td>1</td>\n",
       "      <td>1967</td>\n",
       "      <td>6</td>\n",
       "      <td>52</td>\n",
       "      <td>2</td>\n",
       "      <td>11</td>\n",
       "      <td>1</td>\n",
       "      <td>2</td>\n",
       "      <td></td>\n",
       "    </tr>\n",
       "    <tr>\n",
       "      <th>1</th>\n",
       "      <td>10002</td>\n",
       "      <td>100</td>\n",
       "      <td>1</td>\n",
       "      <td>1</td>\n",
       "      <td>3</td>\n",
       "      <td>3</td>\n",
       "      <td>2</td>\n",
       "      <td>1972</td>\n",
       "      <td>5</td>\n",
       "      <td>47</td>\n",
       "      <td>2</td>\n",
       "      <td>1</td>\n",
       "      <td>2</td>\n",
       "      <td></td>\n",
       "      <td>2</td>\n",
       "    </tr>\n",
       "    <tr>\n",
       "      <th>2</th>\n",
       "      <td>20001</td>\n",
       "      <td>200</td>\n",
       "      <td>1</td>\n",
       "      <td>1</td>\n",
       "      <td>3</td>\n",
       "      <td>3</td>\n",
       "      <td>1</td>\n",
       "      <td>1965</td>\n",
       "      <td>6</td>\n",
       "      <td>54</td>\n",
       "      <td>2</td>\n",
       "      <td>11</td>\n",
       "      <td>1</td>\n",
       "      <td>1</td>\n",
       "      <td></td>\n",
       "    </tr>\n",
       "    <tr>\n",
       "      <th>3</th>\n",
       "      <td>30001</td>\n",
       "      <td>300</td>\n",
       "      <td>8</td>\n",
       "      <td>1</td>\n",
       "      <td>3</td>\n",
       "      <td>3</td>\n",
       "      <td>1</td>\n",
       "      <td>1971</td>\n",
       "      <td>5</td>\n",
       "      <td>48</td>\n",
       "      <td>2</td>\n",
       "      <td>9</td>\n",
       "      <td>1</td>\n",
       "      <td>1</td>\n",
       "      <td></td>\n",
       "    </tr>\n",
       "    <tr>\n",
       "      <th>4</th>\n",
       "      <td>30002</td>\n",
       "      <td>300</td>\n",
       "      <td>8</td>\n",
       "      <td>1</td>\n",
       "      <td>3</td>\n",
       "      <td>3</td>\n",
       "      <td>2</td>\n",
       "      <td>1974</td>\n",
       "      <td>5</td>\n",
       "      <td>45</td>\n",
       "      <td>2</td>\n",
       "      <td>1</td>\n",
       "      <td>2</td>\n",
       "      <td></td>\n",
       "      <td>2</td>\n",
       "    </tr>\n",
       "    <tr>\n",
       "      <th>...</th>\n",
       "      <td>...</td>\n",
       "      <td>...</td>\n",
       "      <td>...</td>\n",
       "      <td>...</td>\n",
       "      <td>...</td>\n",
       "      <td>...</td>\n",
       "      <td>...</td>\n",
       "      <td>...</td>\n",
       "      <td>...</td>\n",
       "      <td>...</td>\n",
       "      <td>...</td>\n",
       "      <td>...</td>\n",
       "      <td>...</td>\n",
       "      <td>...</td>\n",
       "      <td>...</td>\n",
       "    </tr>\n",
       "    <tr>\n",
       "      <th>10859</th>\n",
       "      <td>118290002</td>\n",
       "      <td>1182900</td>\n",
       "      <td>16</td>\n",
       "      <td>1</td>\n",
       "      <td>3</td>\n",
       "      <td>3</td>\n",
       "      <td>1</td>\n",
       "      <td>1983</td>\n",
       "      <td>4</td>\n",
       "      <td>36</td>\n",
       "      <td>2</td>\n",
       "      <td>6</td>\n",
       "      <td>1</td>\n",
       "      <td>1</td>\n",
       "      <td></td>\n",
       "    </tr>\n",
       "    <tr>\n",
       "      <th>10860</th>\n",
       "      <td>118300001</td>\n",
       "      <td>1183000</td>\n",
       "      <td>16</td>\n",
       "      <td>1</td>\n",
       "      <td>2</td>\n",
       "      <td>3</td>\n",
       "      <td>1</td>\n",
       "      <td>1995</td>\n",
       "      <td>3</td>\n",
       "      <td>24</td>\n",
       "      <td>1</td>\n",
       "      <td>5</td>\n",
       "      <td>1</td>\n",
       "      <td>1</td>\n",
       "      <td></td>\n",
       "    </tr>\n",
       "    <tr>\n",
       "      <th>10861</th>\n",
       "      <td>118310001</td>\n",
       "      <td>1183100</td>\n",
       "      <td>16</td>\n",
       "      <td>1</td>\n",
       "      <td>1</td>\n",
       "      <td>1</td>\n",
       "      <td>2</td>\n",
       "      <td>1939</td>\n",
       "      <td>8</td>\n",
       "      <td>80</td>\n",
       "      <td>3</td>\n",
       "      <td>1</td>\n",
       "      <td>2</td>\n",
       "      <td></td>\n",
       "      <td>2</td>\n",
       "    </tr>\n",
       "    <tr>\n",
       "      <th>10862</th>\n",
       "      <td>118320001</td>\n",
       "      <td>1183200</td>\n",
       "      <td>16</td>\n",
       "      <td>1</td>\n",
       "      <td>1</td>\n",
       "      <td>1</td>\n",
       "      <td>2</td>\n",
       "      <td>1940</td>\n",
       "      <td>8</td>\n",
       "      <td>79</td>\n",
       "      <td>3</td>\n",
       "      <td>1</td>\n",
       "      <td>2</td>\n",
       "      <td></td>\n",
       "      <td>2</td>\n",
       "    </tr>\n",
       "    <tr>\n",
       "      <th>10863</th>\n",
       "      <td>118330001</td>\n",
       "      <td>1183300</td>\n",
       "      <td>16</td>\n",
       "      <td>1</td>\n",
       "      <td>2</td>\n",
       "      <td>3</td>\n",
       "      <td>2</td>\n",
       "      <td>1947</td>\n",
       "      <td>8</td>\n",
       "      <td>72</td>\n",
       "      <td>3</td>\n",
       "      <td>2</td>\n",
       "      <td>1</td>\n",
       "      <td>1</td>\n",
       "      <td></td>\n",
       "    </tr>\n",
       "  </tbody>\n",
       "</table>\n",
       "<p>10864 rows × 15 columns</p>\n",
       "</div>"
      ],
      "text/plain": [
       "             pid      hid  area  area_siz  hhld_siz  fly_typ  gender  byear  \\\n",
       "0          10001      100     1         1         3        3       1   1967   \n",
       "1          10002      100     1         1         3        3       2   1972   \n",
       "2          20001      200     1         1         3        3       1   1965   \n",
       "3          30001      300     8         1         3        3       1   1971   \n",
       "4          30002      300     8         1         3        3       2   1974   \n",
       "...          ...      ...   ...       ...       ...      ...     ...    ...   \n",
       "10859  118290002  1182900    16         1         3        3       1   1983   \n",
       "10860  118300001  1183000    16         1         2        3       1   1995   \n",
       "10861  118310001  1183100    16         1         1        1       2   1939   \n",
       "10862  118320001  1183200    16         1         1        1       2   1940   \n",
       "10863  118330001  1183300    16         1         2        3       2   1947   \n",
       "\n",
       "       age_gr  age  marry  income_gr  job job_type job_etc  \n",
       "0           6   52      2         11    1        2          \n",
       "1           5   47      2          1    2                2  \n",
       "2           6   54      2         11    1        1          \n",
       "3           5   48      2          9    1        1          \n",
       "4           5   45      2          1    2                2  \n",
       "...       ...  ...    ...        ...  ...      ...     ...  \n",
       "10859       4   36      2          6    1        1          \n",
       "10860       3   24      1          5    1        1          \n",
       "10861       8   80      3          1    2                2  \n",
       "10862       8   79      3          1    2                2  \n",
       "10863       8   72      3          2    1        1          \n",
       "\n",
       "[10864 rows x 15 columns]"
      ]
     },
     "execution_count": 3,
     "metadata": {},
     "output_type": "execute_result"
    }
   ],
   "source": [
    "demo = data.iloc[:, :15]\n",
    "demo"
   ]
  },
  {
   "cell_type": "markdown",
   "metadata": {
    "colab_type": "text",
    "id": "z8LreaHw3VgI"
   },
   "source": [
    "DataFrame 'demo'에서 각 열(column)의 의미는 아래와 같습니다.\n",
    "\n",
    "<table>\n",
    "<thead>\n",
    "<tr>\n",
    "<td width=\"91\">\n",
    "<p>Original</p>\n",
    "</td>\n",
    "<td width=\"97\">\n",
    "<p>Cleaned</p>\n",
    "</td>\n",
    "<td width=\"210\">\n",
    "<p>Description</p>\n",
    "</td>\n",
    "<td>\n",
    "<p>Detail</p>\n",
    "</td>\n",
    "</tr>\n",
    "</thead>\n",
    "<tbody>\n",
    "<tr>\n",
    "<td width=\"91\">\n",
    "<p>pid</p>\n",
    "</td>\n",
    "<td width=\"97\">\n",
    "<p><strong>pid</strong></p>\n",
    "</td>\n",
    "<td width=\"210\">\n",
    "<p>[개인정보] 개인 통합 ID</p>\n",
    "</td>\n",
    "<td>&nbsp;</td>\n",
    "</tr>\n",
    "<tr>\n",
    "<td width=\"91\">\n",
    "<p>hid</p>\n",
    "</td>\n",
    "<td width=\"97\">\n",
    "<p><strong>hid</strong></p>\n",
    "</td>\n",
    "<td width=\"210\">\n",
    "<p>[개인정보] 가구 통합 ID</p>\n",
    "</td>\n",
    "<td>&nbsp;</td>\n",
    "</tr>\n",
    "<tr>\n",
    "<td width=\"91\">\n",
    "<p>p__area</p>\n",
    "</td>\n",
    "<td width=\"97\">\n",
    "<p><strong>area</strong></p>\n",
    "</td>\n",
    "<td width=\"210\">\n",
    "<p>[개인정보] 지역</p>\n",
    "</td>\n",
    "<td>\n",
    "<p>1) 서울 2) 부산 3) 대구 4) 인천 5) 광주 6) 대전 <br>\n",
    "    7) 울산 8) 경기 9) 강원 10) 충북 11) 충남 12) 전북 <br>\n",
    "    13) 전남 14) 경북 15) 경남 16) 제주 17) 세종</p>\n",
    "</td>\n",
    "</tr>\n",
    "<tr>\n",
    "<td width=\"91\">\n",
    "<p>p__area_siz</p>\n",
    "</td>\n",
    "<td width=\"97\">\n",
    "<p><strong>area_siz</strong></p>\n",
    "</td>\n",
    "<td width=\"210\">\n",
    "<p>[가구정보] 지역구분</p>\n",
    "</td>\n",
    "<td>\n",
    "<p>① 시부 ② 군부</p>\n",
    "</td>\n",
    "</tr>\n",
    "<tr>\n",
    "<td width=\"91\">\n",
    "<p>p__hhldsiz</p>\n",
    "</td>\n",
    "<td width=\"97\">\n",
    "<p><strong>hhld_siz</strong></p>\n",
    "</td>\n",
    "<td width=\"210\">\n",
    "<p>[가구정보] 가구원 수</p>\n",
    "</td>\n",
    "<td>\n",
    "<p>① 1인 가구 ② 2인 가구 ③ 3인 이상 가구</p>\n",
    "</td>\n",
    "</tr>\n",
    "<tr>\n",
    "<td width=\"91\">\n",
    "<p>p__fly_typ</p>\n",
    "</td>\n",
    "<td width=\"97\">\n",
    "<p><strong>fly_typ</strong></p>\n",
    "</td>\n",
    "<td width=\"210\">\n",
    "<p>[가구정보] 가족 구성</p>\n",
    "</td>\n",
    "<td>\n",
    "<p>1) 1인가구 2) 1세대가구(부부) 3) 2세대가구(부부+자녀) <br>\n",
    "    4) 3세대가구 (조부모+부부+자녀) 5) 기타</p>\n",
    "</td>\n",
    "</tr>\n",
    "<tr>\n",
    "<td width=\"91\">\n",
    "<p>p__gender</p>\n",
    "</td>\n",
    "<td width=\"97\">\n",
    "<p><strong>gender</strong></p>\n",
    "</td>\n",
    "<td width=\"210\">\n",
    "<p>[개인정보] 성별</p>\n",
    "</td>\n",
    "<td>\n",
    "<p>1)남 2)여</p>\n",
    "</td>\n",
    "</tr>\n",
    "<tr>\n",
    "<td width=\"91\">\n",
    "<p>p__byear</p>\n",
    "</td>\n",
    "<td width=\"97\">\n",
    "<p><strong>byear</strong></p>\n",
    "</td>\n",
    "<td width=\"210\">\n",
    "<p>[개인정보] 출생연도</p>\n",
    "</td>\n",
    "<td>&nbsp;</td>\n",
    "</tr>\n",
    "<tr>\n",
    "<td width=\"91\">\n",
    "<p>p__age</p>\n",
    "</td>\n",
    "<td width=\"97\">\n",
    "<p><strong>age_gr</strong></p>\n",
    "</td>\n",
    "<td width=\"210\">\n",
    "<p>[개인정보] 나이(리코드)</p>\n",
    "</td>\n",
    "<td>\n",
    "<p>1) 만 10대 미만 2) 만 10-19세 3) 만 20-29세 4) 만 30-39세 <br>\n",
    "    5) 만 40-49세 6) 만 50-59세 7) 만 60-69세 8) 만 70세 이상</p>\n",
    "</td>\n",
    "</tr>\n",
    "<tr>\n",
    "<td width=\"91\">\n",
    "<p>p__age1</p>\n",
    "</td>\n",
    "<td width=\"97\">\n",
    "<p><strong>age</strong></p>\n",
    "</td>\n",
    "<td width=\"210\">\n",
    "<p>[개인정보] 나이(만 연령)</p>\n",
    "</td>\n",
    "<td>&nbsp;</td>\n",
    "</tr>\n",
    "<tr>\n",
    "<td width=\"91\">\n",
    "<p>p__mar</p>\n",
    "</td>\n",
    "<td width=\"97\">\n",
    "<p><strong>marry</strong></p>\n",
    "</td>\n",
    "<td width=\"210\">\n",
    "<p>[개인정보] 결혼 여부</p>\n",
    "</td>\n",
    "<td>\n",
    "<p>① 미혼 ② 배우자 있음 ③ 사별 ④ 이혼</p>\n",
    "</td>\n",
    "</tr>\n",
    "<tr>\n",
    "<td width=\"91\">\n",
    "<p>p__income1</p>\n",
    "</td>\n",
    "<td width=\"97\">\n",
    "<p><strong>income_gr</strong></p>\n",
    "</td>\n",
    "<td width=\"210\">\n",
    "<p>[개인정보] 개인 월평균 소득</p>\n",
    "</td>\n",
    "<td>\n",
    "<p>1) 소득 없음 2) 50만원 미만 3) 50-100만원 미만 4) 100-150만원 미만 <br>\n",
    "    5) 150-200만원 미만 6) 200-250만원 미만 7) 250-300만원 미만 8) 300-350만원 미만  <br>\n",
    "    9) 350-400만원 미만 10) 400-450만원 미만 11) 450-500만원 미만 12) 500-550만원 미만  <br>\n",
    "    13) 550-600만원 미만 14) 600-650만원 미만 15) 650-700만원 미만 16) 700-750만원 미만  <br>\n",
    "    17) 750-800만원 미만 18) 800만원 이상</p>\n",
    "</td>\n",
    "</tr>\n",
    "<tr>\n",
    "<td width=\"91\">\n",
    "<p>p__job1</p>\n",
    "</td>\n",
    "<td width=\"97\">\n",
    "<p><strong>job</strong></p>\n",
    "</td>\n",
    "<td width=\"210\">\n",
    "<p>[개인정보] 직업 유무</p>\n",
    "</td>\n",
    "<td>\n",
    "<p>① 예 ② 아니오</p>\n",
    "</td>\n",
    "</tr>\n",
    "<tr>\n",
    "<td width=\"91\">\n",
    "<p>p__job2</p>\n",
    "</td>\n",
    "<td width=\"97\">\n",
    "<p><strong>job_type</strong></p>\n",
    "</td>\n",
    "<td width=\"210\">\n",
    "<p>[개인정보] 직업 종사상 지위</p>\n",
    "</td>\n",
    "<td>\n",
    "<p>① 임금 근로자 ② 고용주(고용인이 있는 자영업자) <br>\n",
    "    ③ 단독 자영업자(고용인이 없는 자영업자) ④ 무급 가족 종사자</p>\n",
    "</td>\n",
    "</tr>\n",
    "<tr>\n",
    "<td width=\"91\">\n",
    "<p>p__job4</p>\n",
    "</td>\n",
    "<td width=\"97\">\n",
    "<p><strong>job_etc</strong></p>\n",
    "</td>\n",
    "<td width=\"210\">\n",
    "<p>[개인정보] 무직 구분</p>\n",
    "</td>\n",
    "<td>\n",
    "<p>① 학생 ② 전업주부 ③ 군인(직업군인 제외) ④ 기타/무직</p>\n",
    "</td>\n",
    "</tr>\n",
    "</tbody>\n",
    "</table>"
   ]
  },
  {
   "cell_type": "code",
   "execution_count": 4,
   "metadata": {
    "colab": {},
    "colab_type": "code",
    "id": "088ulYQr3VgJ"
   },
   "outputs": [
    {
     "name": "stdout",
     "output_type": "stream",
     "text": [
      "<class 'pandas.core.frame.DataFrame'>\n",
      "RangeIndex: 10864 entries, 0 to 10863\n",
      "Data columns (total 15 columns):\n",
      " #   Column     Non-Null Count  Dtype \n",
      "---  ------     --------------  ----- \n",
      " 0   pid        10864 non-null  int64 \n",
      " 1   hid        10864 non-null  int64 \n",
      " 2   area       10864 non-null  int64 \n",
      " 3   area_siz   10864 non-null  int64 \n",
      " 4   hhld_siz   10864 non-null  int64 \n",
      " 5   fly_typ    10864 non-null  int64 \n",
      " 6   gender     10864 non-null  int64 \n",
      " 7   byear      10864 non-null  int64 \n",
      " 8   age_gr     10864 non-null  int64 \n",
      " 9   age        10864 non-null  int64 \n",
      " 10  marry      10864 non-null  int64 \n",
      " 11  income_gr  10864 non-null  int64 \n",
      " 12  job        10864 non-null  int64 \n",
      " 13  job_type   10864 non-null  object\n",
      " 14  job_etc    10864 non-null  object\n",
      "dtypes: int64(13), object(2)\n",
      "memory usage: 1.2+ MB\n"
     ]
    }
   ],
   "source": [
    "demo.info()"
   ]
  },
  {
   "cell_type": "code",
   "execution_count": 5,
   "metadata": {
    "colab": {},
    "colab_type": "code",
    "id": "3wV1f8rJ3VgM",
    "scrolled": true
   },
   "outputs": [
    {
     "data": {
      "text/html": [
       "<div>\n",
       "<style scoped>\n",
       "    .dataframe tbody tr th:only-of-type {\n",
       "        vertical-align: middle;\n",
       "    }\n",
       "\n",
       "    .dataframe tbody tr th {\n",
       "        vertical-align: top;\n",
       "    }\n",
       "\n",
       "    .dataframe thead th {\n",
       "        text-align: right;\n",
       "    }\n",
       "</style>\n",
       "<table border=\"1\" class=\"dataframe\">\n",
       "  <thead>\n",
       "    <tr style=\"text-align: right;\">\n",
       "      <th></th>\n",
       "      <th>pid</th>\n",
       "      <th>hid</th>\n",
       "      <th>area</th>\n",
       "      <th>area_siz</th>\n",
       "      <th>hhld_siz</th>\n",
       "      <th>fly_typ</th>\n",
       "      <th>gender</th>\n",
       "      <th>byear</th>\n",
       "      <th>age_gr</th>\n",
       "      <th>age</th>\n",
       "      <th>marry</th>\n",
       "      <th>income_gr</th>\n",
       "      <th>job</th>\n",
       "    </tr>\n",
       "  </thead>\n",
       "  <tbody>\n",
       "    <tr>\n",
       "      <th>count</th>\n",
       "      <td>1.086400e+04</td>\n",
       "      <td>1.086400e+04</td>\n",
       "      <td>10864.000000</td>\n",
       "      <td>10864.000000</td>\n",
       "      <td>10864.000000</td>\n",
       "      <td>10864.000000</td>\n",
       "      <td>10864.000000</td>\n",
       "      <td>10864.000000</td>\n",
       "      <td>10864.000000</td>\n",
       "      <td>10864.000000</td>\n",
       "      <td>10864.000000</td>\n",
       "      <td>10864.000000</td>\n",
       "      <td>10864.000000</td>\n",
       "    </tr>\n",
       "    <tr>\n",
       "      <th>mean</th>\n",
       "      <td>5.003951e+07</td>\n",
       "      <td>5.003950e+05</td>\n",
       "      <td>7.299521</td>\n",
       "      <td>1.094532</td>\n",
       "      <td>2.655284</td>\n",
       "      <td>2.835144</td>\n",
       "      <td>1.541053</td>\n",
       "      <td>1971.873711</td>\n",
       "      <td>5.196705</td>\n",
       "      <td>47.126289</td>\n",
       "      <td>1.820508</td>\n",
       "      <td>3.999172</td>\n",
       "      <td>1.465022</td>\n",
       "    </tr>\n",
       "    <tr>\n",
       "      <th>std</th>\n",
       "      <td>3.767155e+07</td>\n",
       "      <td>3.767155e+05</td>\n",
       "      <td>4.592933</td>\n",
       "      <td>0.292581</td>\n",
       "      <td>0.598260</td>\n",
       "      <td>0.780984</td>\n",
       "      <td>0.498335</td>\n",
       "      <td>20.679911</td>\n",
       "      <td>1.985370</td>\n",
       "      <td>20.679911</td>\n",
       "      <td>0.661259</td>\n",
       "      <td>3.204540</td>\n",
       "      <td>0.498798</td>\n",
       "    </tr>\n",
       "    <tr>\n",
       "      <th>min</th>\n",
       "      <td>1.000100e+04</td>\n",
       "      <td>1.000000e+02</td>\n",
       "      <td>1.000000</td>\n",
       "      <td>1.000000</td>\n",
       "      <td>1.000000</td>\n",
       "      <td>1.000000</td>\n",
       "      <td>1.000000</td>\n",
       "      <td>1915.000000</td>\n",
       "      <td>1.000000</td>\n",
       "      <td>6.000000</td>\n",
       "      <td>1.000000</td>\n",
       "      <td>1.000000</td>\n",
       "      <td>1.000000</td>\n",
       "    </tr>\n",
       "    <tr>\n",
       "      <th>25%</th>\n",
       "      <td>1.640250e+07</td>\n",
       "      <td>1.640250e+05</td>\n",
       "      <td>3.000000</td>\n",
       "      <td>1.000000</td>\n",
       "      <td>2.000000</td>\n",
       "      <td>3.000000</td>\n",
       "      <td>1.000000</td>\n",
       "      <td>1957.000000</td>\n",
       "      <td>4.000000</td>\n",
       "      <td>30.000000</td>\n",
       "      <td>1.000000</td>\n",
       "      <td>1.000000</td>\n",
       "      <td>1.000000</td>\n",
       "    </tr>\n",
       "    <tr>\n",
       "      <th>50%</th>\n",
       "      <td>5.170000e+07</td>\n",
       "      <td>5.170000e+05</td>\n",
       "      <td>8.000000</td>\n",
       "      <td>1.000000</td>\n",
       "      <td>3.000000</td>\n",
       "      <td>3.000000</td>\n",
       "      <td>2.000000</td>\n",
       "      <td>1970.000000</td>\n",
       "      <td>5.000000</td>\n",
       "      <td>49.000000</td>\n",
       "      <td>2.000000</td>\n",
       "      <td>3.000000</td>\n",
       "      <td>1.000000</td>\n",
       "    </tr>\n",
       "    <tr>\n",
       "      <th>75%</th>\n",
       "      <td>6.890000e+07</td>\n",
       "      <td>6.890000e+05</td>\n",
       "      <td>11.000000</td>\n",
       "      <td>1.000000</td>\n",
       "      <td>3.000000</td>\n",
       "      <td>3.000000</td>\n",
       "      <td>2.000000</td>\n",
       "      <td>1989.000000</td>\n",
       "      <td>7.000000</td>\n",
       "      <td>62.000000</td>\n",
       "      <td>2.000000</td>\n",
       "      <td>6.000000</td>\n",
       "      <td>2.000000</td>\n",
       "    </tr>\n",
       "    <tr>\n",
       "      <th>max</th>\n",
       "      <td>1.183300e+08</td>\n",
       "      <td>1.183300e+06</td>\n",
       "      <td>17.000000</td>\n",
       "      <td>2.000000</td>\n",
       "      <td>3.000000</td>\n",
       "      <td>5.000000</td>\n",
       "      <td>2.000000</td>\n",
       "      <td>2013.000000</td>\n",
       "      <td>8.000000</td>\n",
       "      <td>104.000000</td>\n",
       "      <td>4.000000</td>\n",
       "      <td>18.000000</td>\n",
       "      <td>2.000000</td>\n",
       "    </tr>\n",
       "  </tbody>\n",
       "</table>\n",
       "</div>"
      ],
      "text/plain": [
       "                pid           hid          area      area_siz      hhld_siz  \\\n",
       "count  1.086400e+04  1.086400e+04  10864.000000  10864.000000  10864.000000   \n",
       "mean   5.003951e+07  5.003950e+05      7.299521      1.094532      2.655284   \n",
       "std    3.767155e+07  3.767155e+05      4.592933      0.292581      0.598260   \n",
       "min    1.000100e+04  1.000000e+02      1.000000      1.000000      1.000000   \n",
       "25%    1.640250e+07  1.640250e+05      3.000000      1.000000      2.000000   \n",
       "50%    5.170000e+07  5.170000e+05      8.000000      1.000000      3.000000   \n",
       "75%    6.890000e+07  6.890000e+05     11.000000      1.000000      3.000000   \n",
       "max    1.183300e+08  1.183300e+06     17.000000      2.000000      3.000000   \n",
       "\n",
       "            fly_typ        gender         byear        age_gr           age  \\\n",
       "count  10864.000000  10864.000000  10864.000000  10864.000000  10864.000000   \n",
       "mean       2.835144      1.541053   1971.873711      5.196705     47.126289   \n",
       "std        0.780984      0.498335     20.679911      1.985370     20.679911   \n",
       "min        1.000000      1.000000   1915.000000      1.000000      6.000000   \n",
       "25%        3.000000      1.000000   1957.000000      4.000000     30.000000   \n",
       "50%        3.000000      2.000000   1970.000000      5.000000     49.000000   \n",
       "75%        3.000000      2.000000   1989.000000      7.000000     62.000000   \n",
       "max        5.000000      2.000000   2013.000000      8.000000    104.000000   \n",
       "\n",
       "              marry     income_gr           job  \n",
       "count  10864.000000  10864.000000  10864.000000  \n",
       "mean       1.820508      3.999172      1.465022  \n",
       "std        0.661259      3.204540      0.498798  \n",
       "min        1.000000      1.000000      1.000000  \n",
       "25%        1.000000      1.000000      1.000000  \n",
       "50%        2.000000      3.000000      1.000000  \n",
       "75%        2.000000      6.000000      2.000000  \n",
       "max        4.000000     18.000000      2.000000  "
      ]
     },
     "execution_count": 5,
     "metadata": {},
     "output_type": "execute_result"
    }
   ],
   "source": [
    "demo.describe()"
   ]
  },
  {
   "cell_type": "code",
   "execution_count": 6,
   "metadata": {
    "colab": {},
    "colab_type": "code",
    "id": "JwQcspBZ3VgP"
   },
   "outputs": [
    {
     "data": {
      "text/plain": [
       "pid          10864\n",
       "hid           4583\n",
       "area            17\n",
       "area_siz         2\n",
       "hhld_siz         3\n",
       "fly_typ          5\n",
       "gender           2\n",
       "byear           96\n",
       "age_gr           8\n",
       "age             96\n",
       "marry            4\n",
       "income_gr       18\n",
       "job              2\n",
       "job_type         5\n",
       "job_etc          5\n",
       "dtype: int64"
      ]
     },
     "execution_count": 6,
     "metadata": {},
     "output_type": "execute_result"
    }
   ],
   "source": [
    "demo.nunique()"
   ]
  },
  {
   "cell_type": "markdown",
   "metadata": {
    "colab_type": "text",
    "id": "vBfiVmRE3VgW"
   },
   "source": [
    "성별을 나타내는 'gender'는 남성은 1, 여성은 2로 나타낸 범주형(이진형) 변수입니다. 히스토그램(도수분포표)로 살펴볼 수 있습니다."
   ]
  },
  {
   "cell_type": "code",
   "execution_count": 7,
   "metadata": {
    "colab": {},
    "colab_type": "code",
    "id": "pz_9iNEx3VgX"
   },
   "outputs": [
    {
     "data": {
      "text/plain": [
       "2    5878\n",
       "1    4986\n",
       "Name: gender, dtype: int64"
      ]
     },
     "execution_count": 7,
     "metadata": {},
     "output_type": "execute_result"
    }
   ],
   "source": [
    "demo['gender'].value_counts()"
   ]
  },
  {
   "cell_type": "code",
   "execution_count": 8,
   "metadata": {
    "colab": {},
    "colab_type": "code",
    "id": "VPGMGUuD3Vga"
   },
   "outputs": [
    {
     "data": {
      "text/plain": [
       "2    0.541053\n",
       "1    0.458947\n",
       "Name: gender, dtype: float64"
      ]
     },
     "execution_count": 8,
     "metadata": {},
     "output_type": "execute_result"
    }
   ],
   "source": [
    "demo['gender'].value_counts(normalize = True)"
   ]
  },
  {
   "cell_type": "code",
   "execution_count": 9,
   "metadata": {
    "colab": {},
    "colab_type": "code",
    "id": "JmNx35PB3Vgc",
    "scrolled": true
   },
   "outputs": [
    {
     "data": {
      "text/plain": [
       "<matplotlib.axes._subplots.AxesSubplot at 0x1e95a48e5e0>"
      ]
     },
     "execution_count": 9,
     "metadata": {},
     "output_type": "execute_result"
    },
    {
     "data": {
      "image/png": "[encoded data removed]",
      "text/plain": [
       "<Figure size 432x288 with 1 Axes>"
      ]
     },
     "metadata": {
      "needs_background": "light"
     },
     "output_type": "display_data"
    }
   ],
   "source": [
    "demo['gender'].plot.hist()"
   ]
  },
  {
   "cell_type": "markdown",
   "metadata": {
    "colab_type": "text",
    "id": "RnT5knLQ3Vgi"
   },
   "source": [
    "연령대를 나타내는 'age_gr'은 연령을 나타내는 숫자형 변수 'age'를 범주형(순서형)으로 바꾼 파생변수입니다.  범주룰 구분할 뿐 숫자 자체에 의미가 없으므로 평균이나 중앙값보다는 최빈값이 중요합니다."
   ]
  },
  {
   "cell_type": "code",
   "execution_count": 10,
   "metadata": {
    "colab": {},
    "colab_type": "code",
    "id": "xVmncmBZ3Vgl",
    "scrolled": false
   },
   "outputs": [
    {
     "data": {
      "text/plain": [
       "1     214\n",
       "2    1194\n",
       "3    1225\n",
       "4    1028\n",
       "5    1980\n",
       "6    2107\n",
       "7    1402\n",
       "8    1714\n",
       "Name: age_gr, dtype: int64"
      ]
     },
     "execution_count": 10,
     "metadata": {},
     "output_type": "execute_result"
    }
   ],
   "source": [
    "demo['age_gr'].value_counts().sort_index()"
   ]
  },
  {
   "cell_type": "code",
   "execution_count": 11,
   "metadata": {
    "colab": {},
    "colab_type": "code",
    "id": "MlxZic3H3Vgp",
    "scrolled": true
   },
   "outputs": [
    {
     "data": {
      "text/plain": [
       "<matplotlib.axes._subplots.AxesSubplot at 0x1e95ac299a0>"
      ]
     },
     "execution_count": 11,
     "metadata": {},
     "output_type": "execute_result"
    },
    {
     "data": {
      "image/png": "[encoded data removed]",
      "text/plain": [
       "<Figure size 432x288 with 1 Axes>"
      ]
     },
     "metadata": {
      "needs_background": "light"
     },
     "output_type": "display_data"
    }
   ],
   "source": [
    "# value_counts의 막대그래프이므로 히스토그램이나 다름없음\n",
    "demo['age_gr'].value_counts().sort_index().plot.bar() "
   ]
  },
  {
   "cell_type": "markdown",
   "metadata": {
    "colab_type": "text",
    "id": "RGmVWF2K3Vgs"
   },
   "source": [
    "만 나이를 나타내는 'age'는 숫자형 변수이며, 박스플롯(box plot)을 사용하여 사분위수를 비롯한 전반적인 분포를 살펴볼 수 있습니다. \n",
    "\n",
    "<img src='https://github.com/eunyu1031/Media_interface_2020Spr/blob/master/pics/boxplot.png?raw=true'/>"
   ]
  },
  {
   "cell_type": "code",
   "execution_count": 12,
   "metadata": {
    "colab": {},
    "colab_type": "code",
    "id": "fn_0MZB43Vgs"
   },
   "outputs": [
    {
     "data": {
      "text/plain": [
       "<matplotlib.axes._subplots.AxesSubplot at 0x1e95aca5940>"
      ]
     },
     "execution_count": 12,
     "metadata": {},
     "output_type": "execute_result"
    },
    {
     "data": {
      "image/png": "[encoded data removed]",
      "text/plain": [
       "<Figure size 432x288 with 1 Axes>"
      ]
     },
     "metadata": {
      "needs_background": "light"
     },
     "output_type": "display_data"
    }
   ],
   "source": [
    "demo['age'].plot.box()"
   ]
  },
  {
   "cell_type": "markdown",
   "metadata": {
    "colab_type": "text",
    "id": "PF1ywSM03Vgv"
   },
   "source": [
    "물론 히스토그램으로도 살펴볼 수 있습니다, bins로는 연속된 값을 몇 개로 구분하여 살펴볼지를 지정합니다."
   ]
  },
  {
   "cell_type": "code",
   "execution_count": 13,
   "metadata": {
    "colab": {},
    "colab_type": "code",
    "id": "z2oWCRa03Vgv"
   },
   "outputs": [
    {
     "data": {
      "text/plain": [
       "<matplotlib.axes._subplots.AxesSubplot at 0x1e95ad08d00>"
      ]
     },
     "execution_count": 13,
     "metadata": {},
     "output_type": "execute_result"
    },
    {
     "data": {
      "image/png": "[encoded data removed]",
      "text/plain": [
       "<Figure size 432x288 with 1 Axes>"
      ]
     },
     "metadata": {
      "needs_background": "light"
     },
     "output_type": "display_data"
    }
   ],
   "source": [
    "demo['age'].plot.hist(bins = 10)"
   ]
  },
  {
   "cell_type": "code",
   "execution_count": 15,
   "metadata": {
    "colab": {},
    "colab_type": "code",
    "id": "RWYhFVXJ3Vgx"
   },
   "outputs": [],
   "source": [
    "help(DataFrame.plot)"
   ]
  },
  {
   "cell_type": "markdown",
   "metadata": {
    "colab_type": "text",
    "id": "plvMWclX3Vg1"
   },
   "source": [
    "pandas의 plot은 가장 간편하게 데이터를 시각화할 수 있는 도구입니다. plot.hist, plot.box를 사용하여 온라인 디지털 콘텐츠의 소비에 대한 질문들을 탐색해 봅시다."
   ]
  },
  {
   "cell_type": "markdown",
   "metadata": {
    "colab_type": "text",
    "id": "uOnasxHl3Vg2"
   },
   "source": [
    "### 질문하기: 온라인 콘텐츠\n",
    "1. 온라인 디지털 콘텐츠를 얼마나 구매하는가?\n",
    "2. 온라인 디지털 콘텐츠 지출금액의 분포는 어떠한가? \n",
    "3. 온라인 디지털 콘텐츠를 구매하는 사람들은 누구인가?"
   ]
  },
  {
   "cell_type": "markdown",
   "metadata": {
    "colab_type": "text",
    "id": "878ArRTj3Vg2"
   },
   "source": [
    "질문을 해결하기 전에 아래와 같이 데이터를 처리할 필요가 있습니다.\n",
    "- (1) 없는 응답 처리\n",
    "- (2) 자료형 바꾸기\n",
    "\n",
    "자세한 사항은 다음 기회에 설명하고, 데이터의 문제를 발견하고 처리하는 과정을 살펴봅니다."
   ]
  },
  {
   "cell_type": "code",
   "execution_count": 16,
   "metadata": {
    "colab": {
     "base_uri": "https://localhost:8080/",
     "height": 52
    },
    "colab_type": "code",
    "executionInfo": {
     "elapsed": 952,
     "status": "ok",
     "timestamp": 1587022198146,
     "user": {
      "displayName": "Eun Yu",
      "photoUrl": "https://lh3.googleusercontent.com/a-/AOh14GgEWsmf4FH7IRh7LjTXnuF85OLv2_K9vNCProM4=s64",
      "userId": "17784789244818192257"
     },
     "user_tz": -540
    },
    "id": "iy4jFBvJ3Vg3",
    "outputId": "76682473-8456-479f-f8e1-5b072a7bf25a"
   },
   "outputs": [
    {
     "data": {
      "text/plain": [
       "array([' ', '0', '1', '6', '15', '3', '10', '5', '2', '13', '20', '12',\n",
       "       '14', '50', '30', '100', '4', '8', '80', '22', '42'], dtype=object)"
      ]
     },
     "execution_count": 16,
     "metadata": {},
     "output_type": "execute_result"
    }
   ],
   "source": [
    "data['c01'].unique()"
   ]
  },
  {
   "cell_type": "code",
   "execution_count": 17,
   "metadata": {
    "colab": {
     "base_uri": "https://localhost:8080/",
     "height": 34
    },
    "colab_type": "code",
    "executionInfo": {
     "elapsed": 836,
     "status": "ok",
     "timestamp": 1587022200198,
     "user": {
      "displayName": "Eun Yu",
      "photoUrl": "https://lh3.googleusercontent.com/a-/AOh14GgEWsmf4FH7IRh7LjTXnuF85OLv2_K9vNCProM4=s64",
      "userId": "17784789244818192257"
     },
     "user_tz": -540
    },
    "id": "HcXM60_53Vg7",
    "outputId": "929279e5-8754-4f88-d804-1cd39ee10750"
   },
   "outputs": [
    {
     "data": {
      "text/plain": [
       "array([' ', '1', '2', '4', '3', '5', '8', '7'], dtype=object)"
      ]
     },
     "execution_count": 17,
     "metadata": {},
     "output_type": "execute_result"
    }
   ],
   "source": [
    "data['c01_gr'].unique()"
   ]
  },
  {
   "cell_type": "code",
   "execution_count": 18,
   "metadata": {
    "colab": {
     "base_uri": "https://localhost:8080/",
     "height": 313
    },
    "colab_type": "code",
    "executionInfo": {
     "elapsed": 1169,
     "status": "ok",
     "timestamp": 1587022202000,
     "user": {
      "displayName": "Eun Yu",
      "photoUrl": "https://lh3.googleusercontent.com/a-/AOh14GgEWsmf4FH7IRh7LjTXnuF85OLv2_K9vNCProM4=s64",
      "userId": "17784789244818192257"
     },
     "user_tz": -540
    },
    "id": "vrQOi5C13Vg9",
    "outputId": "9463e315-67aa-4590-9f0f-448f371d10bd"
   },
   "outputs": [
    {
     "name": "stdout",
     "output_type": "stream",
     "text": [
      "<class 'pandas.core.frame.DataFrame'>\n",
      "RangeIndex: 10864 entries, 0 to 10863\n",
      "Data columns (total 10 columns):\n",
      " #   Column  Non-Null Count  Dtype \n",
      "---  ------  --------------  ----- \n",
      " 0   c01     10864 non-null  object\n",
      " 1   c01_gr  10864 non-null  object\n",
      " 2   c02     10864 non-null  object\n",
      " 3   c02_gr  10864 non-null  object\n",
      " 4   c03     10864 non-null  object\n",
      " 5   c03_gr  10864 non-null  object\n",
      " 6   c04     10864 non-null  object\n",
      " 7   c04_gr  10864 non-null  object\n",
      " 8   c05     10864 non-null  object\n",
      " 9   c05_gr  10864 non-null  object\n",
      "dtypes: object(10)\n",
      "memory usage: 848.9+ KB\n"
     ]
    }
   ],
   "source": [
    "data.iloc[:,19:29].info()"
   ]
  },
  {
   "cell_type": "markdown",
   "metadata": {
    "colab_type": "text",
    "id": "2hNgAjlO3Vg_"
   },
   "source": [
    "응답하지 않은 사람(' ')을 NaN, 즉 없는 데이터로 처리하고 숫자로 바꾼 다음(to_numeric), 구매하지 않은 사람('0') 역시 NaN으로 바꿉니다(replace). DataFrame에서는 NaN으로 표시되지만 코드에는 np.nan으로 씁니다. 범위의 모든 열에 작업을 수행한(apply) 다음 다른 열들에 붙입니다(concat)."
   ]
  },
  {
   "cell_type": "code",
   "execution_count": 7,
   "metadata": {
    "colab": {
     "base_uri": "https://localhost:8080/",
     "height": 196
    },
    "colab_type": "code",
    "executionInfo": {
     "elapsed": 812,
     "status": "ok",
     "timestamp": 1587022686862,
     "user": {
      "displayName": "Eun Yu",
      "photoUrl": "https://lh3.googleusercontent.com/a-/AOh14GgEWsmf4FH7IRh7LjTXnuF85OLv2_K9vNCProM4=s64",
      "userId": "17784789244818192257"
     },
     "user_tz": -540
    },
    "id": "X201GD6I3VhA",
    "outputId": "b338514c-3338-4c3f-bdf9-44c82ea206d4",
    "scrolled": true
   },
   "outputs": [
    {
     "data": {
      "text/html": [
       "<div>\n",
       "<style scoped>\n",
       "    .dataframe tbody tr th:only-of-type {\n",
       "        vertical-align: middle;\n",
       "    }\n",
       "\n",
       "    .dataframe tbody tr th {\n",
       "        vertical-align: top;\n",
       "    }\n",
       "\n",
       "    .dataframe thead th {\n",
       "        text-align: right;\n",
       "    }\n",
       "</style>\n",
       "<table border=\"1\" class=\"dataframe\">\n",
       "  <thead>\n",
       "    <tr style=\"text-align: right;\">\n",
       "      <th></th>\n",
       "      <th>pid</th>\n",
       "      <th>gender</th>\n",
       "      <th>age_gr</th>\n",
       "      <th>age</th>\n",
       "      <th>c01</th>\n",
       "      <th>c01_gr</th>\n",
       "      <th>c02</th>\n",
       "      <th>c02_gr</th>\n",
       "      <th>c03</th>\n",
       "      <th>c03_gr</th>\n",
       "      <th>c04</th>\n",
       "      <th>c04_gr</th>\n",
       "      <th>c05</th>\n",
       "      <th>c05_gr</th>\n",
       "    </tr>\n",
       "  </thead>\n",
       "  <tbody>\n",
       "    <tr>\n",
       "      <th>0</th>\n",
       "      <td>10001</td>\n",
       "      <td>1</td>\n",
       "      <td>6</td>\n",
       "      <td>52</td>\n",
       "      <td>NaN</td>\n",
       "      <td>NaN</td>\n",
       "      <td>NaN</td>\n",
       "      <td>NaN</td>\n",
       "      <td>NaN</td>\n",
       "      <td>1.0</td>\n",
       "      <td>NaN</td>\n",
       "      <td>NaN</td>\n",
       "      <td>NaN</td>\n",
       "      <td>NaN</td>\n",
       "    </tr>\n",
       "    <tr>\n",
       "      <th>1</th>\n",
       "      <td>10002</td>\n",
       "      <td>2</td>\n",
       "      <td>5</td>\n",
       "      <td>47</td>\n",
       "      <td>NaN</td>\n",
       "      <td>NaN</td>\n",
       "      <td>NaN</td>\n",
       "      <td>NaN</td>\n",
       "      <td>NaN</td>\n",
       "      <td>1.0</td>\n",
       "      <td>NaN</td>\n",
       "      <td>1.0</td>\n",
       "      <td>NaN</td>\n",
       "      <td>NaN</td>\n",
       "    </tr>\n",
       "    <tr>\n",
       "      <th>2</th>\n",
       "      <td>20001</td>\n",
       "      <td>1</td>\n",
       "      <td>6</td>\n",
       "      <td>54</td>\n",
       "      <td>NaN</td>\n",
       "      <td>NaN</td>\n",
       "      <td>NaN</td>\n",
       "      <td>NaN</td>\n",
       "      <td>NaN</td>\n",
       "      <td>NaN</td>\n",
       "      <td>NaN</td>\n",
       "      <td>NaN</td>\n",
       "      <td>NaN</td>\n",
       "      <td>NaN</td>\n",
       "    </tr>\n",
       "    <tr>\n",
       "      <th>3</th>\n",
       "      <td>30001</td>\n",
       "      <td>1</td>\n",
       "      <td>5</td>\n",
       "      <td>48</td>\n",
       "      <td>NaN</td>\n",
       "      <td>NaN</td>\n",
       "      <td>NaN</td>\n",
       "      <td>NaN</td>\n",
       "      <td>NaN</td>\n",
       "      <td>NaN</td>\n",
       "      <td>NaN</td>\n",
       "      <td>NaN</td>\n",
       "      <td>NaN</td>\n",
       "      <td>NaN</td>\n",
       "    </tr>\n",
       "    <tr>\n",
       "      <th>4</th>\n",
       "      <td>30002</td>\n",
       "      <td>2</td>\n",
       "      <td>5</td>\n",
       "      <td>45</td>\n",
       "      <td>NaN</td>\n",
       "      <td>NaN</td>\n",
       "      <td>NaN</td>\n",
       "      <td>NaN</td>\n",
       "      <td>NaN</td>\n",
       "      <td>NaN</td>\n",
       "      <td>NaN</td>\n",
       "      <td>NaN</td>\n",
       "      <td>NaN</td>\n",
       "      <td>NaN</td>\n",
       "    </tr>\n",
       "  </tbody>\n",
       "</table>\n",
       "</div>"
      ],
      "text/plain": [
       "     pid  gender  age_gr  age  c01  ...  c03_gr  c04  c04_gr  c05  c05_gr\n",
       "0  10001       1       6   52  NaN  ...     1.0  NaN     NaN  NaN     NaN\n",
       "1  10002       2       5   47  NaN  ...     1.0  NaN     1.0  NaN     NaN\n",
       "2  20001       1       6   54  NaN  ...     NaN  NaN     NaN  NaN     NaN\n",
       "3  30001       1       5   48  NaN  ...     NaN  NaN     NaN  NaN     NaN\n",
       "4  30002       2       5   45  NaN  ...     NaN  NaN     NaN  NaN     NaN\n",
       "\n",
       "[5 rows x 14 columns]"
      ]
     },
     "execution_count": 7,
     "metadata": {
      "tags": []
     },
     "output_type": "execute_result"
    }
   ],
   "source": [
    "purchase = pd.concat([data.iloc[:, [0, 6, 8, 9]], \n",
    "                      data.iloc[:,19:29].apply(lambda x: pd.to_numeric(x, errors = 'coerce').replace(0,np.nan))], \n",
    "                     axis = 1)\n",
    "purchase.head()"
   ]
  },
  {
   "cell_type": "markdown",
   "metadata": {
    "colab_type": "text",
    "id": "CJF8HiHi3VhD"
   },
   "source": [
    "<table>\n",
    "<thead>\n",
    "<tr>\n",
    "<td width=\"82\">\n",
    "<p>Original</p>\n",
    "</td>\n",
    "<td width=\"83\">\n",
    "<p>Cleaned</p>\n",
    "</td>\n",
    "<td>\n",
    "<p>[방송통신 서비스 가입 및 지출] 온라인 디지털 콘텐츠 지출</p>\n",
    "</td>\n",
    "</tr>\n",
    "</thead>\n",
    "<tbody>\n",
    "<tr>\n",
    "<td width=\"82\">\n",
    "<p>p__c05001</p>\n",
    "</td>\n",
    "<td width=\"83\">\n",
    "<p><strong>c01</strong></p>\n",
    "</td>\n",
    "<td>\n",
    "<p>월평균 지출금액 - 온라인 뉴스/잡지/E-book(웹툰/웹소설 포함)</p>\n",
    "</td>\n",
    "</tr>\n",
    "<tr>\n",
    "<td width=\"82\">\n",
    "<p>p__c05002</p>\n",
    "</td>\n",
    "<td width=\"83\">\n",
    "<p><strong>c01_gr</strong></p>\n",
    "</td>\n",
    "<td>\n",
    "<p>월평균 지출금액 - 온라인 뉴스/잡지/E-book(웹툰/웹소설 포함)(리코드)</p>\n",
    "</td>\n",
    "</tr>\n",
    "<tr>\n",
    "<td width=\"82\">\n",
    "<p>p__c05003</p>\n",
    "</td>\n",
    "<td width=\"83\">\n",
    "<p><strong>c02</strong></p>\n",
    "</td>\n",
    "<td>\n",
    "<p>월평균 지출금액 - 동영상/영화</p>\n",
    "</td>\n",
    "</tr>\n",
    "<tr>\n",
    "<td width=\"82\">\n",
    "<p>p__c05004</p>\n",
    "</td>\n",
    "<td width=\"83\">\n",
    "<p><strong>c02_gr</strong></p>\n",
    "</td>\n",
    "<td>\n",
    "<p>월평균 지출금액 - 동영상/영화(리코드)</p>\n",
    "</td>\n",
    "</tr>\n",
    "<tr>\n",
    "<td width=\"82\">\n",
    "<p>p__c05005</p>\n",
    "</td>\n",
    "<td width=\"83\">\n",
    "<p><strong>c03</strong></p>\n",
    "</td>\n",
    "<td>\n",
    "<p>월평균 지출금액 - TV 방송 프로그램</p>\n",
    "</td>\n",
    "</tr>\n",
    "<tr>\n",
    "<td width=\"82\">\n",
    "<p>p__c05006</p>\n",
    "</td>\n",
    "<td width=\"83\">\n",
    "<p><strong>c03_gr</strong></p>\n",
    "</td>\n",
    "<td>\n",
    "<p>월평균 지출금액 - TV 방송 프로그램(리코드)</p>\n",
    "</td>\n",
    "</tr>\n",
    "<tr>\n",
    "<td width=\"82\">\n",
    "<p>p__c05007</p>\n",
    "</td>\n",
    "<td width=\"83\">\n",
    "<p><strong>c04</strong></p>\n",
    "</td>\n",
    "<td>\n",
    "<p>월평균 지출금액 - 음악</p>\n",
    "</td>\n",
    "</tr>\n",
    "<tr>\n",
    "<td width=\"82\">\n",
    "<p>p__c05008</p>\n",
    "</td>\n",
    "<td width=\"83\">\n",
    "<p><strong>c04_gr</strong></p>\n",
    "</td>\n",
    "<td>\n",
    "<p>월평균 지출금액 - 음악(리코드)</p>\n",
    "</td>\n",
    "</tr>\n",
    "<tr>\n",
    "<td width=\"82\">\n",
    "<p>p__c05009</p>\n",
    "</td>\n",
    "<td width=\"83\">\n",
    "<p><strong>c05</strong></p>\n",
    "</td>\n",
    "<td>\n",
    "<p>월평균 지출금액 - 게임</p>\n",
    "</td>\n",
    "</tr>\n",
    "<tr>\n",
    "<td width=\"82\">\n",
    "<p>p__c05010</p>\n",
    "</td>\n",
    "<td width=\"83\">\n",
    "<p><strong>c05_gr</strong></p>\n",
    "</td>\n",
    "<td>\n",
    "<p>월평균 지출금액 - 게임(리코드)</p>\n",
    "</td>\n",
    "</tr>\n",
    "</tbody>\n",
    "</table>\n",
    "\n",
    "리코드: (1) 5천원 미만 (2) 5천원 - 1만원 미만 (3) 1만원 - 1만 5천원 미만 (4) 1만 5천원 - 2만원 미만 (5) 2만원 - 2만 5천원 미만 (6) 2만 5천원 - 3만원 미만 (7) 3만원 - 3만 5천원 미만 (8) 3만 5천원 이상 (9999) 모름/ 무응답"
   ]
  },
  {
   "cell_type": "markdown",
   "metadata": {
    "colab_type": "text",
    "id": "eKBh77yP3VhE"
   },
   "source": [
    "<img src='https://github.com/eunyu1031/Media_interface_2020Spr/blob/master/pics/OnlineDigitalContent.png?raw=true' width='600'/>"
   ]
  },
  {
   "cell_type": "markdown",
   "metadata": {
    "colab_type": "text",
    "id": "n20YISsB3VhG"
   },
   "source": [
    "DataFrame 'purchase'로 분포에 대한 질문들을 탐색해 봅시다.\n",
    "\n",
    "#### 1. 온라인 디지털 콘텐츠를 얼마나 구매하는가?\n",
    "\n",
    "지출금액은 실제로 지출한 사람을(0인 사람을 NaN처리했으므로), 리코드는 지출하지는 않아도 서비스를 사용하는 사람을 나타냅니다. 10000명이 넘는 사람 중 아주 일부만 실제로 지출하는 것을 확인할 수 있습니다. 음악에 지출하는 사람이 그래도 가장 많습니다."
   ]
  },
  {
   "cell_type": "code",
   "execution_count": 8,
   "metadata": {
    "colab": {
     "base_uri": "https://localhost:8080/",
     "height": 383
    },
    "colab_type": "code",
    "executionInfo": {
     "elapsed": 912,
     "status": "ok",
     "timestamp": 1587022704186,
     "user": {
      "displayName": "Eun Yu",
      "photoUrl": "https://lh3.googleusercontent.com/a-/AOh14GgEWsmf4FH7IRh7LjTXnuF85OLv2_K9vNCProM4=s64",
      "userId": "17784789244818192257"
     },
     "user_tz": -540
    },
    "id": "CsYnxc193VhH",
    "outputId": "d2d80fa6-6d96-490a-d2b4-6c44b8b91f67"
   },
   "outputs": [
    {
     "name": "stdout",
     "output_type": "stream",
     "text": [
      "<class 'pandas.core.frame.DataFrame'>\n",
      "RangeIndex: 10864 entries, 0 to 10863\n",
      "Data columns (total 14 columns):\n",
      " #   Column  Non-Null Count  Dtype  \n",
      "---  ------  --------------  -----  \n",
      " 0   pid     10864 non-null  int64  \n",
      " 1   gender  10864 non-null  int64  \n",
      " 2   age_gr  10864 non-null  int64  \n",
      " 3   age     10864 non-null  int64  \n",
      " 4   c01     121 non-null    float64\n",
      " 5   c01_gr  1647 non-null   float64\n",
      " 6   c02     258 non-null    float64\n",
      " 7   c02_gr  2038 non-null   float64\n",
      " 8   c03     257 non-null    float64\n",
      " 9   c03_gr  1275 non-null   float64\n",
      " 10  c04     622 non-null    float64\n",
      " 11  c04_gr  1833 non-null   float64\n",
      " 12  c05     203 non-null    float64\n",
      " 13  c05_gr  1550 non-null   float64\n",
      "dtypes: float64(10), int64(4)\n",
      "memory usage: 1.2 MB\n"
     ]
    }
   ],
   "source": [
    "purchase.info()"
   ]
  },
  {
   "cell_type": "markdown",
   "metadata": {
    "colab_type": "text",
    "id": "BHJ_Tvvt3VhK"
   },
   "source": [
    "최대값(max)를 확인했을 때 9999는 없으며, 2019년도 데이터의 경우 모두 수집시에 NaN 처리된 것으로 보입니다."
   ]
  },
  {
   "cell_type": "code",
   "execution_count": 9,
   "metadata": {
    "colab": {
     "base_uri": "https://localhost:8080/",
     "height": 306
    },
    "colab_type": "code",
    "executionInfo": {
     "elapsed": 990,
     "status": "ok",
     "timestamp": 1587022713638,
     "user": {
      "displayName": "Eun Yu",
      "photoUrl": "https://lh3.googleusercontent.com/a-/AOh14GgEWsmf4FH7IRh7LjTXnuF85OLv2_K9vNCProM4=s64",
      "userId": "17784789244818192257"
     },
     "user_tz": -540
    },
    "id": "uSHY0IbU3VhK",
    "outputId": "622d359d-9eb5-43b5-dc96-f154d13de9ba",
    "scrolled": false
   },
   "outputs": [
    {
     "data": {
      "text/html": [
       "<div>\n",
       "<style scoped>\n",
       "    .dataframe tbody tr th:only-of-type {\n",
       "        vertical-align: middle;\n",
       "    }\n",
       "\n",
       "    .dataframe tbody tr th {\n",
       "        vertical-align: top;\n",
       "    }\n",
       "\n",
       "    .dataframe thead th {\n",
       "        text-align: right;\n",
       "    }\n",
       "</style>\n",
       "<table border=\"1\" class=\"dataframe\">\n",
       "  <thead>\n",
       "    <tr style=\"text-align: right;\">\n",
       "      <th></th>\n",
       "      <th>pid</th>\n",
       "      <th>gender</th>\n",
       "      <th>age_gr</th>\n",
       "      <th>age</th>\n",
       "      <th>c01</th>\n",
       "      <th>c01_gr</th>\n",
       "      <th>c02</th>\n",
       "      <th>c02_gr</th>\n",
       "      <th>c03</th>\n",
       "      <th>c03_gr</th>\n",
       "      <th>c04</th>\n",
       "      <th>c04_gr</th>\n",
       "      <th>c05</th>\n",
       "      <th>c05_gr</th>\n",
       "    </tr>\n",
       "  </thead>\n",
       "  <tbody>\n",
       "    <tr>\n",
       "      <th>count</th>\n",
       "      <td>1.086400e+04</td>\n",
       "      <td>10864.000000</td>\n",
       "      <td>10864.000000</td>\n",
       "      <td>10864.000000</td>\n",
       "      <td>121.000000</td>\n",
       "      <td>1647.000000</td>\n",
       "      <td>258.000000</td>\n",
       "      <td>2038.000000</td>\n",
       "      <td>257.000000</td>\n",
       "      <td>1275.000000</td>\n",
       "      <td>622.000000</td>\n",
       "      <td>1833.000000</td>\n",
       "      <td>203.000000</td>\n",
       "      <td>1550.000000</td>\n",
       "    </tr>\n",
       "    <tr>\n",
       "      <th>mean</th>\n",
       "      <td>5.003951e+07</td>\n",
       "      <td>1.541053</td>\n",
       "      <td>5.196705</td>\n",
       "      <td>47.126289</td>\n",
       "      <td>12.644628</td>\n",
       "      <td>1.149970</td>\n",
       "      <td>9.736434</td>\n",
       "      <td>1.200196</td>\n",
       "      <td>11.638132</td>\n",
       "      <td>1.402353</td>\n",
       "      <td>7.778135</td>\n",
       "      <td>1.414075</td>\n",
       "      <td>13.650246</td>\n",
       "      <td>1.280000</td>\n",
       "    </tr>\n",
       "    <tr>\n",
       "      <th>std</th>\n",
       "      <td>3.767155e+07</td>\n",
       "      <td>0.498335</td>\n",
       "      <td>1.985370</td>\n",
       "      <td>20.679911</td>\n",
       "      <td>15.626292</td>\n",
       "      <td>0.713503</td>\n",
       "      <td>14.885827</td>\n",
       "      <td>0.693019</td>\n",
       "      <td>9.381945</td>\n",
       "      <td>1.091063</td>\n",
       "      <td>5.472134</td>\n",
       "      <td>0.776538</td>\n",
       "      <td>16.651074</td>\n",
       "      <td>1.011388</td>\n",
       "    </tr>\n",
       "    <tr>\n",
       "      <th>min</th>\n",
       "      <td>1.000100e+04</td>\n",
       "      <td>1.000000</td>\n",
       "      <td>1.000000</td>\n",
       "      <td>6.000000</td>\n",
       "      <td>1.000000</td>\n",
       "      <td>1.000000</td>\n",
       "      <td>1.000000</td>\n",
       "      <td>1.000000</td>\n",
       "      <td>1.000000</td>\n",
       "      <td>1.000000</td>\n",
       "      <td>1.000000</td>\n",
       "      <td>1.000000</td>\n",
       "      <td>1.000000</td>\n",
       "      <td>1.000000</td>\n",
       "    </tr>\n",
       "    <tr>\n",
       "      <th>25%</th>\n",
       "      <td>1.640250e+07</td>\n",
       "      <td>1.000000</td>\n",
       "      <td>4.000000</td>\n",
       "      <td>30.000000</td>\n",
       "      <td>5.000000</td>\n",
       "      <td>1.000000</td>\n",
       "      <td>5.000000</td>\n",
       "      <td>1.000000</td>\n",
       "      <td>6.000000</td>\n",
       "      <td>1.000000</td>\n",
       "      <td>5.000000</td>\n",
       "      <td>1.000000</td>\n",
       "      <td>5.000000</td>\n",
       "      <td>1.000000</td>\n",
       "    </tr>\n",
       "    <tr>\n",
       "      <th>50%</th>\n",
       "      <td>5.170000e+07</td>\n",
       "      <td>2.000000</td>\n",
       "      <td>5.000000</td>\n",
       "      <td>49.000000</td>\n",
       "      <td>10.000000</td>\n",
       "      <td>1.000000</td>\n",
       "      <td>9.000000</td>\n",
       "      <td>1.000000</td>\n",
       "      <td>10.000000</td>\n",
       "      <td>1.000000</td>\n",
       "      <td>8.000000</td>\n",
       "      <td>1.000000</td>\n",
       "      <td>10.000000</td>\n",
       "      <td>1.000000</td>\n",
       "    </tr>\n",
       "    <tr>\n",
       "      <th>75%</th>\n",
       "      <td>6.890000e+07</td>\n",
       "      <td>2.000000</td>\n",
       "      <td>7.000000</td>\n",
       "      <td>62.000000</td>\n",
       "      <td>13.000000</td>\n",
       "      <td>1.000000</td>\n",
       "      <td>10.000000</td>\n",
       "      <td>1.000000</td>\n",
       "      <td>12.000000</td>\n",
       "      <td>1.000000</td>\n",
       "      <td>10.000000</td>\n",
       "      <td>2.000000</td>\n",
       "      <td>11.500000</td>\n",
       "      <td>1.000000</td>\n",
       "    </tr>\n",
       "    <tr>\n",
       "      <th>max</th>\n",
       "      <td>1.183300e+08</td>\n",
       "      <td>2.000000</td>\n",
       "      <td>8.000000</td>\n",
       "      <td>104.000000</td>\n",
       "      <td>100.000000</td>\n",
       "      <td>8.000000</td>\n",
       "      <td>200.000000</td>\n",
       "      <td>8.000000</td>\n",
       "      <td>65.000000</td>\n",
       "      <td>8.000000</td>\n",
       "      <td>80.000000</td>\n",
       "      <td>8.000000</td>\n",
       "      <td>102.000000</td>\n",
       "      <td>8.000000</td>\n",
       "    </tr>\n",
       "  </tbody>\n",
       "</table>\n",
       "</div>"
      ],
      "text/plain": [
       "                pid        gender  ...         c05       c05_gr\n",
       "count  1.086400e+04  10864.000000  ...  203.000000  1550.000000\n",
       "mean   5.003951e+07      1.541053  ...   13.650246     1.280000\n",
       "std    3.767155e+07      0.498335  ...   16.651074     1.011388\n",
       "min    1.000100e+04      1.000000  ...    1.000000     1.000000\n",
       "25%    1.640250e+07      1.000000  ...    5.000000     1.000000\n",
       "50%    5.170000e+07      2.000000  ...   10.000000     1.000000\n",
       "75%    6.890000e+07      2.000000  ...   11.500000     1.000000\n",
       "max    1.183300e+08      2.000000  ...  102.000000     8.000000\n",
       "\n",
       "[8 rows x 14 columns]"
      ]
     },
     "execution_count": 9,
     "metadata": {
      "tags": []
     },
     "output_type": "execute_result"
    }
   ],
   "source": [
    "purchase.describe()"
   ]
  },
  {
   "cell_type": "markdown",
   "metadata": {
    "colab_type": "text",
    "id": "x8Yr_EqP3VhN"
   },
   "source": [
    "평균을 살펴보면 온라인 뉴스/잡지/E-book(웹툰/웹소설 포함)에 약 12,645원, 동영상/영화에는 9,736원, TV방송프로그램에는 11,638월, 음악에는 7,778원, 게임에는 13,650원을 한 달에 지출합니다.\n",
    "\n",
    "숫자형 변수들의 중앙값(50%)이 평균보다 작아 돈을 많이 지불하는 것은 소수임을 알 수 있으며, 범주형 변수들의 중앙값은 1에 불과해 절반 이상이 5천원 미만으로 돈을 지불한다는 점을 알 수 있습니다."
   ]
  },
  {
   "cell_type": "code",
   "execution_count": 10,
   "metadata": {
    "colab": {
     "base_uri": "https://localhost:8080/",
     "height": 107
    },
    "colab_type": "code",
    "executionInfo": {
     "elapsed": 960,
     "status": "ok",
     "timestamp": 1587022725634,
     "user": {
      "displayName": "Eun Yu",
      "photoUrl": "https://lh3.googleusercontent.com/a-/AOh14GgEWsmf4FH7IRh7LjTXnuF85OLv2_K9vNCProM4=s64",
      "userId": "17784789244818192257"
     },
     "user_tz": -540
    },
    "id": "5KdfAVue3VhN",
    "outputId": "67ea0fc8-c92e-40e5-a830-f00af7b47ffb"
   },
   "outputs": [
    {
     "data": {
      "text/html": [
       "<div>\n",
       "<style scoped>\n",
       "    .dataframe tbody tr th:only-of-type {\n",
       "        vertical-align: middle;\n",
       "    }\n",
       "\n",
       "    .dataframe tbody tr th {\n",
       "        vertical-align: top;\n",
       "    }\n",
       "\n",
       "    .dataframe thead th {\n",
       "        text-align: right;\n",
       "    }\n",
       "</style>\n",
       "<table border=\"1\" class=\"dataframe\">\n",
       "  <thead>\n",
       "    <tr style=\"text-align: right;\">\n",
       "      <th></th>\n",
       "      <th>c01</th>\n",
       "      <th>c01_gr</th>\n",
       "      <th>c02</th>\n",
       "      <th>c02_gr</th>\n",
       "      <th>c03</th>\n",
       "      <th>c03_gr</th>\n",
       "      <th>c04</th>\n",
       "      <th>c04_gr</th>\n",
       "      <th>c05</th>\n",
       "      <th>c05_gr</th>\n",
       "    </tr>\n",
       "  </thead>\n",
       "  <tbody>\n",
       "    <tr>\n",
       "      <th>mean</th>\n",
       "      <td>12.644628</td>\n",
       "      <td>1.14997</td>\n",
       "      <td>9.736434</td>\n",
       "      <td>1.200196</td>\n",
       "      <td>11.638132</td>\n",
       "      <td>1.402353</td>\n",
       "      <td>7.778135</td>\n",
       "      <td>1.414075</td>\n",
       "      <td>13.650246</td>\n",
       "      <td>1.28</td>\n",
       "    </tr>\n",
       "    <tr>\n",
       "      <th>50%</th>\n",
       "      <td>10.000000</td>\n",
       "      <td>1.00000</td>\n",
       "      <td>9.000000</td>\n",
       "      <td>1.000000</td>\n",
       "      <td>10.000000</td>\n",
       "      <td>1.000000</td>\n",
       "      <td>8.000000</td>\n",
       "      <td>1.000000</td>\n",
       "      <td>10.000000</td>\n",
       "      <td>1.00</td>\n",
       "    </tr>\n",
       "  </tbody>\n",
       "</table>\n",
       "</div>"
      ],
      "text/plain": [
       "            c01   c01_gr       c02  ...    c04_gr        c05  c05_gr\n",
       "mean  12.644628  1.14997  9.736434  ...  1.414075  13.650246    1.28\n",
       "50%   10.000000  1.00000  9.000000  ...  1.000000  10.000000    1.00\n",
       "\n",
       "[2 rows x 10 columns]"
      ]
     },
     "execution_count": 10,
     "metadata": {
      "tags": []
     },
     "output_type": "execute_result"
    }
   ],
   "source": [
    "purchase.describe().iloc[[1,5], 4:]"
   ]
  },
  {
   "cell_type": "markdown",
   "metadata": {
    "colab_type": "text",
    "id": "6FRooklx3VhS"
   },
   "source": [
    "\n",
    "<img src='https://github.com/eunyu1031/Media_interface_2020Spr/blob/master/pics/skewness.png?raw=true' width='400'/>"
   ]
  },
  {
   "cell_type": "markdown",
   "metadata": {
    "colab_type": "text",
    "id": "QFaRvKmf3VhS"
   },
   "source": [
    "#### 2. 온라인 디지털 콘텐츠 지출금액의 분포는 어떠한가? \n",
    "\n",
    "온라인 뉴스/잡지/E-book(웹툰/웹소설 포함)(c01)의 예제로 살펴봅니다. \n",
    "\n",
    "plot을 사용하면 NaN은 제외하고 있는 데이터로만 그래프를 그립니다."
   ]
  },
  {
   "cell_type": "code",
   "execution_count": 11,
   "metadata": {
    "colab": {
     "base_uri": "https://localhost:8080/",
     "height": 282
    },
    "colab_type": "code",
    "executionInfo": {
     "elapsed": 1059,
     "status": "ok",
     "timestamp": 1587022734532,
     "user": {
      "displayName": "Eun Yu",
      "photoUrl": "https://lh3.googleusercontent.com/a-/AOh14GgEWsmf4FH7IRh7LjTXnuF85OLv2_K9vNCProM4=s64",
      "userId": "17784789244818192257"
     },
     "user_tz": -540
    },
    "id": "TxEgZ_ha3VhU",
    "outputId": "3d240638-802d-4541-e82f-0defc32a3b70"
   },
   "outputs": [
    {
     "data": {
      "text/plain": [
       "<matplotlib.axes._subplots.AxesSubplot at 0x7f199bd0b518>"
      ]
     },
     "execution_count": 11,
     "metadata": {
      "tags": []
     },
     "output_type": "execute_result"
    },
    {
     "data": {
      "image/png": "[encoded data removed]",
      "text/plain": [
       "<Figure size 432x288 with 1 Axes>"
      ]
     },
     "metadata": {
      "needs_background": "light",
      "tags": []
     },
     "output_type": "display_data"
    }
   ],
   "source": [
    "purchase['c01'].plot.box()"
   ]
  },
  {
   "cell_type": "code",
   "execution_count": 12,
   "metadata": {
    "colab": {
     "base_uri": "https://localhost:8080/",
     "height": 284
    },
    "colab_type": "code",
    "executionInfo": {
     "elapsed": 771,
     "status": "ok",
     "timestamp": 1587022737230,
     "user": {
      "displayName": "Eun Yu",
      "photoUrl": "https://lh3.googleusercontent.com/a-/AOh14GgEWsmf4FH7IRh7LjTXnuF85OLv2_K9vNCProM4=s64",
      "userId": "17784789244818192257"
     },
     "user_tz": -540
    },
    "id": "fH2c1zW53VhX",
    "outputId": "f8cd51f5-2b67-461b-a235-0aaabeb03d8a"
   },
   "outputs": [
    {
     "data": {
      "text/plain": [
       "<matplotlib.axes._subplots.AxesSubplot at 0x7f199bc50128>"
      ]
     },
     "execution_count": 12,
     "metadata": {
      "tags": []
     },
     "output_type": "execute_result"
    },
    {
     "data": {
      "image/png": "[encoded data removed]",
      "text/plain": [
       "<Figure size 432x288 with 1 Axes>"
      ]
     },
     "metadata": {
      "needs_background": "light",
      "tags": []
     },
     "output_type": "display_data"
    }
   ],
   "source": [
    "purchase['c01_gr'].plot.hist()"
   ]
  },
  {
   "cell_type": "markdown",
   "metadata": {
    "colab_type": "text",
    "id": "JNM0KZkU3VhZ"
   },
   "source": [
    "대부분이 무료로 온라인 뉴스/잡지/E-book(웹툰/웹소설 포함)서비스를 이용하지만, 소수의 인원이 큰 돈을 지불하여 콘텐츠를 이용하는 것을 볼 수 있습니다."
   ]
  },
  {
   "cell_type": "markdown",
   "metadata": {
    "colab_type": "text",
    "id": "P4mnBAYL3VhZ"
   },
   "source": [
    "#### 3. 온라인 디지털 콘텐츠를 구매하는 사람들은 누구인가?\n",
    "\n",
    "게임(c05)의 예제로 성별과 연령대를 살펴봅니다. \n",
    "\n",
    "성별과 연령대에는 NaN이 없기 때문에 게임 콘텐츠에 돈을 지불하는 사람을 기준으로 골라낼 필요가 있으며, notna()를 사용해 boolean indexing을 하면 가능합니다."
   ]
  },
  {
   "cell_type": "code",
   "execution_count": 13,
   "metadata": {
    "colab": {
     "base_uri": "https://localhost:8080/",
     "height": 226
    },
    "colab_type": "code",
    "executionInfo": {
     "elapsed": 1177,
     "status": "ok",
     "timestamp": 1587022763515,
     "user": {
      "displayName": "Eun Yu",
      "photoUrl": "https://lh3.googleusercontent.com/a-/AOh14GgEWsmf4FH7IRh7LjTXnuF85OLv2_K9vNCProM4=s64",
      "userId": "17784789244818192257"
     },
     "user_tz": -540
    },
    "id": "DjYeASnD3Vha",
    "outputId": "be71ada0-c56c-4a67-eb5e-fea010dfc3c6"
   },
   "outputs": [
    {
     "data": {
      "text/plain": [
       "0        False\n",
       "1        False\n",
       "2        False\n",
       "3        False\n",
       "4        False\n",
       "         ...  \n",
       "10859    False\n",
       "10860    False\n",
       "10861    False\n",
       "10862    False\n",
       "10863    False\n",
       "Name: c05, Length: 10864, dtype: bool"
      ]
     },
     "execution_count": 13,
     "metadata": {
      "tags": []
     },
     "output_type": "execute_result"
    }
   ],
   "source": [
    "purchase['c05'].notna()"
   ]
  },
  {
   "cell_type": "code",
   "execution_count": 14,
   "metadata": {
    "colab": {
     "base_uri": "https://localhost:8080/",
     "height": 424
    },
    "colab_type": "code",
    "executionInfo": {
     "elapsed": 1091,
     "status": "ok",
     "timestamp": 1587022766151,
     "user": {
      "displayName": "Eun Yu",
      "photoUrl": "https://lh3.googleusercontent.com/a-/AOh14GgEWsmf4FH7IRh7LjTXnuF85OLv2_K9vNCProM4=s64",
      "userId": "17784789244818192257"
     },
     "user_tz": -540
    },
    "id": "otod7r0Z3Vhc",
    "outputId": "a9adbab9-4f27-4ff7-a533-10b539385f25"
   },
   "outputs": [
    {
     "data": {
      "text/html": [
       "<div>\n",
       "<style scoped>\n",
       "    .dataframe tbody tr th:only-of-type {\n",
       "        vertical-align: middle;\n",
       "    }\n",
       "\n",
       "    .dataframe tbody tr th {\n",
       "        vertical-align: top;\n",
       "    }\n",
       "\n",
       "    .dataframe thead th {\n",
       "        text-align: right;\n",
       "    }\n",
       "</style>\n",
       "<table border=\"1\" class=\"dataframe\">\n",
       "  <thead>\n",
       "    <tr style=\"text-align: right;\">\n",
       "      <th></th>\n",
       "      <th>pid</th>\n",
       "      <th>gender</th>\n",
       "      <th>age_gr</th>\n",
       "      <th>age</th>\n",
       "      <th>c01</th>\n",
       "      <th>c01_gr</th>\n",
       "      <th>c02</th>\n",
       "      <th>c02_gr</th>\n",
       "      <th>c03</th>\n",
       "      <th>c03_gr</th>\n",
       "      <th>c04</th>\n",
       "      <th>c04_gr</th>\n",
       "      <th>c05</th>\n",
       "      <th>c05_gr</th>\n",
       "    </tr>\n",
       "  </thead>\n",
       "  <tbody>\n",
       "    <tr>\n",
       "      <th>26</th>\n",
       "      <td>120004</td>\n",
       "      <td>2</td>\n",
       "      <td>3</td>\n",
       "      <td>26</td>\n",
       "      <td>NaN</td>\n",
       "      <td>NaN</td>\n",
       "      <td>NaN</td>\n",
       "      <td>NaN</td>\n",
       "      <td>NaN</td>\n",
       "      <td>NaN</td>\n",
       "      <td>NaN</td>\n",
       "      <td>NaN</td>\n",
       "      <td>15.0</td>\n",
       "      <td>4.0</td>\n",
       "    </tr>\n",
       "    <tr>\n",
       "      <th>200</th>\n",
       "      <td>1010004</td>\n",
       "      <td>2</td>\n",
       "      <td>2</td>\n",
       "      <td>10</td>\n",
       "      <td>NaN</td>\n",
       "      <td>NaN</td>\n",
       "      <td>9.0</td>\n",
       "      <td>2.0</td>\n",
       "      <td>NaN</td>\n",
       "      <td>NaN</td>\n",
       "      <td>7.0</td>\n",
       "      <td>2.0</td>\n",
       "      <td>3.0</td>\n",
       "      <td>1.0</td>\n",
       "    </tr>\n",
       "    <tr>\n",
       "      <th>226</th>\n",
       "      <td>1180001</td>\n",
       "      <td>1</td>\n",
       "      <td>5</td>\n",
       "      <td>48</td>\n",
       "      <td>NaN</td>\n",
       "      <td>NaN</td>\n",
       "      <td>NaN</td>\n",
       "      <td>NaN</td>\n",
       "      <td>NaN</td>\n",
       "      <td>NaN</td>\n",
       "      <td>NaN</td>\n",
       "      <td>NaN</td>\n",
       "      <td>20.0</td>\n",
       "      <td>5.0</td>\n",
       "    </tr>\n",
       "    <tr>\n",
       "      <th>234</th>\n",
       "      <td>1210004</td>\n",
       "      <td>1</td>\n",
       "      <td>3</td>\n",
       "      <td>28</td>\n",
       "      <td>NaN</td>\n",
       "      <td>NaN</td>\n",
       "      <td>NaN</td>\n",
       "      <td>NaN</td>\n",
       "      <td>NaN</td>\n",
       "      <td>NaN</td>\n",
       "      <td>3.0</td>\n",
       "      <td>1.0</td>\n",
       "      <td>5.0</td>\n",
       "      <td>2.0</td>\n",
       "    </tr>\n",
       "    <tr>\n",
       "      <th>247</th>\n",
       "      <td>1290003</td>\n",
       "      <td>1</td>\n",
       "      <td>3</td>\n",
       "      <td>29</td>\n",
       "      <td>6.0</td>\n",
       "      <td>2.0</td>\n",
       "      <td>NaN</td>\n",
       "      <td>NaN</td>\n",
       "      <td>NaN</td>\n",
       "      <td>NaN</td>\n",
       "      <td>3.0</td>\n",
       "      <td>1.0</td>\n",
       "      <td>5.0</td>\n",
       "      <td>2.0</td>\n",
       "    </tr>\n",
       "    <tr>\n",
       "      <th>...</th>\n",
       "      <td>...</td>\n",
       "      <td>...</td>\n",
       "      <td>...</td>\n",
       "      <td>...</td>\n",
       "      <td>...</td>\n",
       "      <td>...</td>\n",
       "      <td>...</td>\n",
       "      <td>...</td>\n",
       "      <td>...</td>\n",
       "      <td>...</td>\n",
       "      <td>...</td>\n",
       "      <td>...</td>\n",
       "      <td>...</td>\n",
       "      <td>...</td>\n",
       "    </tr>\n",
       "    <tr>\n",
       "      <th>10643</th>\n",
       "      <td>116500001</td>\n",
       "      <td>1</td>\n",
       "      <td>5</td>\n",
       "      <td>42</td>\n",
       "      <td>NaN</td>\n",
       "      <td>NaN</td>\n",
       "      <td>10.0</td>\n",
       "      <td>3.0</td>\n",
       "      <td>NaN</td>\n",
       "      <td>NaN</td>\n",
       "      <td>NaN</td>\n",
       "      <td>NaN</td>\n",
       "      <td>8.0</td>\n",
       "      <td>2.0</td>\n",
       "    </tr>\n",
       "    <tr>\n",
       "      <th>10647</th>\n",
       "      <td>116510001</td>\n",
       "      <td>1</td>\n",
       "      <td>4</td>\n",
       "      <td>39</td>\n",
       "      <td>NaN</td>\n",
       "      <td>NaN</td>\n",
       "      <td>NaN</td>\n",
       "      <td>NaN</td>\n",
       "      <td>NaN</td>\n",
       "      <td>NaN</td>\n",
       "      <td>NaN</td>\n",
       "      <td>NaN</td>\n",
       "      <td>8.0</td>\n",
       "      <td>2.0</td>\n",
       "    </tr>\n",
       "    <tr>\n",
       "      <th>10651</th>\n",
       "      <td>116520001</td>\n",
       "      <td>1</td>\n",
       "      <td>4</td>\n",
       "      <td>35</td>\n",
       "      <td>NaN</td>\n",
       "      <td>NaN</td>\n",
       "      <td>10.0</td>\n",
       "      <td>3.0</td>\n",
       "      <td>NaN</td>\n",
       "      <td>NaN</td>\n",
       "      <td>NaN</td>\n",
       "      <td>NaN</td>\n",
       "      <td>8.0</td>\n",
       "      <td>2.0</td>\n",
       "    </tr>\n",
       "    <tr>\n",
       "      <th>10655</th>\n",
       "      <td>116530001</td>\n",
       "      <td>1</td>\n",
       "      <td>4</td>\n",
       "      <td>35</td>\n",
       "      <td>NaN</td>\n",
       "      <td>NaN</td>\n",
       "      <td>20.0</td>\n",
       "      <td>5.0</td>\n",
       "      <td>NaN</td>\n",
       "      <td>NaN</td>\n",
       "      <td>8.0</td>\n",
       "      <td>2.0</td>\n",
       "      <td>8.0</td>\n",
       "      <td>2.0</td>\n",
       "    </tr>\n",
       "    <tr>\n",
       "      <th>10823</th>\n",
       "      <td>118140001</td>\n",
       "      <td>1</td>\n",
       "      <td>4</td>\n",
       "      <td>36</td>\n",
       "      <td>NaN</td>\n",
       "      <td>NaN</td>\n",
       "      <td>NaN</td>\n",
       "      <td>NaN</td>\n",
       "      <td>NaN</td>\n",
       "      <td>NaN</td>\n",
       "      <td>2.0</td>\n",
       "      <td>1.0</td>\n",
       "      <td>10.0</td>\n",
       "      <td>3.0</td>\n",
       "    </tr>\n",
       "  </tbody>\n",
       "</table>\n",
       "<p>203 rows × 14 columns</p>\n",
       "</div>"
      ],
      "text/plain": [
       "             pid  gender  age_gr  age  c01  ...  c03_gr  c04  c04_gr   c05  c05_gr\n",
       "26        120004       2       3   26  NaN  ...     NaN  NaN     NaN  15.0     4.0\n",
       "200      1010004       2       2   10  NaN  ...     NaN  7.0     2.0   3.0     1.0\n",
       "226      1180001       1       5   48  NaN  ...     NaN  NaN     NaN  20.0     5.0\n",
       "234      1210004       1       3   28  NaN  ...     NaN  3.0     1.0   5.0     2.0\n",
       "247      1290003       1       3   29  6.0  ...     NaN  3.0     1.0   5.0     2.0\n",
       "...          ...     ...     ...  ...  ...  ...     ...  ...     ...   ...     ...\n",
       "10643  116500001       1       5   42  NaN  ...     NaN  NaN     NaN   8.0     2.0\n",
       "10647  116510001       1       4   39  NaN  ...     NaN  NaN     NaN   8.0     2.0\n",
       "10651  116520001       1       4   35  NaN  ...     NaN  NaN     NaN   8.0     2.0\n",
       "10655  116530001       1       4   35  NaN  ...     NaN  8.0     2.0   8.0     2.0\n",
       "10823  118140001       1       4   36  NaN  ...     NaN  2.0     1.0  10.0     3.0\n",
       "\n",
       "[203 rows x 14 columns]"
      ]
     },
     "execution_count": 14,
     "metadata": {
      "tags": []
     },
     "output_type": "execute_result"
    }
   ],
   "source": [
    "purchase[purchase['c05'].notna()]"
   ]
  },
  {
   "cell_type": "code",
   "execution_count": 15,
   "metadata": {
    "colab": {
     "base_uri": "https://localhost:8080/",
     "height": 226
    },
    "colab_type": "code",
    "executionInfo": {
     "elapsed": 663,
     "status": "ok",
     "timestamp": 1587022767501,
     "user": {
      "displayName": "Eun Yu",
      "photoUrl": "https://lh3.googleusercontent.com/a-/AOh14GgEWsmf4FH7IRh7LjTXnuF85OLv2_K9vNCProM4=s64",
      "userId": "17784789244818192257"
     },
     "user_tz": -540
    },
    "id": "AfL0BEVE3Vhg",
    "outputId": "a5239ddd-27b6-4fa3-a340-df3e19d9bf78"
   },
   "outputs": [
    {
     "data": {
      "text/plain": [
       "26       2\n",
       "200      2\n",
       "226      1\n",
       "234      1\n",
       "247      1\n",
       "        ..\n",
       "10643    1\n",
       "10647    1\n",
       "10651    1\n",
       "10655    1\n",
       "10823    1\n",
       "Name: gender, Length: 203, dtype: int64"
      ]
     },
     "execution_count": 15,
     "metadata": {
      "tags": []
     },
     "output_type": "execute_result"
    }
   ],
   "source": [
    "purchase[purchase['c05'].notna()]['gender']"
   ]
  },
  {
   "cell_type": "markdown",
   "metadata": {
    "colab_type": "text",
    "id": "Oluyf2eS3Vhj"
   },
   "source": [
    "위 값을 바탕으로 히스토그랩을 그립니다."
   ]
  },
  {
   "cell_type": "code",
   "execution_count": 37,
   "metadata": {
    "colab": {
     "base_uri": "https://localhost:8080/",
     "height": 284
    },
    "colab_type": "code",
    "executionInfo": {
     "elapsed": 1095,
     "status": "ok",
     "timestamp": 1587024905745,
     "user": {
      "displayName": "Eun Yu",
      "photoUrl": "https://lh3.googleusercontent.com/a-/AOh14GgEWsmf4FH7IRh7LjTXnuF85OLv2_K9vNCProM4=s64",
      "userId": "17784789244818192257"
     },
     "user_tz": -540
    },
    "id": "z4yUF1dL3Vhk",
    "outputId": "61b7ef96-38e0-4f2a-d74e-315fcbf0bd53"
   },
   "outputs": [
    {
     "data": {
      "text/plain": [
       "<matplotlib.axes._subplots.AxesSubplot at 0x7f199a9e44a8>"
      ]
     },
     "execution_count": 37,
     "metadata": {
      "tags": []
     },
     "output_type": "execute_result"
    },
    {
     "data": {
      "image/png": "[encoded data removed]",
      "text/plain": [
       "<Figure size 432x288 with 1 Axes>"
      ]
     },
     "metadata": {
      "needs_background": "light",
      "tags": []
     },
     "output_type": "display_data"
    }
   ],
   "source": [
    "purchase[purchase['c05'].notna()]['gender'].plot.hist(bins = 2)"
   ]
  },
  {
   "cell_type": "code",
   "execution_count": 17,
   "metadata": {
    "colab": {
     "base_uri": "https://localhost:8080/",
     "height": 282
    },
    "colab_type": "code",
    "executionInfo": {
     "elapsed": 983,
     "status": "ok",
     "timestamp": 1587022774419,
     "user": {
      "displayName": "Eun Yu",
      "photoUrl": "https://lh3.googleusercontent.com/a-/AOh14GgEWsmf4FH7IRh7LjTXnuF85OLv2_K9vNCProM4=s64",
      "userId": "17784789244818192257"
     },
     "user_tz": -540
    },
    "id": "Gx4TROmn3Vho",
    "outputId": "fcb46d0d-663c-4717-bbd4-093b54ad7ae9"
   },
   "outputs": [
    {
     "data": {
      "text/plain": [
       "<matplotlib.axes._subplots.AxesSubplot at 0x7f199b7199e8>"
      ]
     },
     "execution_count": 17,
     "metadata": {
      "tags": []
     },
     "output_type": "execute_result"
    },
    {
     "data": {
      "image/png": "[encoded data removed]",
      "text/plain": [
       "<Figure size 432x288 with 1 Axes>"
      ]
     },
     "metadata": {
      "needs_background": "light",
      "tags": []
     },
     "output_type": "display_data"
    }
   ],
   "source": [
    "purchase[purchase['c05'].notna()]['age'].plot.box()"
   ]
  },
  {
   "cell_type": "code",
   "execution_count": 18,
   "metadata": {
    "colab": {
     "base_uri": "https://localhost:8080/",
     "height": 282
    },
    "colab_type": "code",
    "executionInfo": {
     "elapsed": 1045,
     "status": "ok",
     "timestamp": 1587022775937,
     "user": {
      "displayName": "Eun Yu",
      "photoUrl": "https://lh3.googleusercontent.com/a-/AOh14GgEWsmf4FH7IRh7LjTXnuF85OLv2_K9vNCProM4=s64",
      "userId": "17784789244818192257"
     },
     "user_tz": -540
    },
    "id": "TYjJ6jRj3Vhq",
    "outputId": "0978fdc7-7797-4564-e52c-8e1e1faad881"
   },
   "outputs": [
    {
     "data": {
      "text/plain": [
       "<matplotlib.axes._subplots.AxesSubplot at 0x7f199b69c780>"
      ]
     },
     "execution_count": 18,
     "metadata": {
      "tags": []
     },
     "output_type": "execute_result"
    },
    {
     "data": {
      "image/png": "[encoded data removed]",
      "text/plain": [
       "<Figure size 432x288 with 1 Axes>"
      ]
     },
     "metadata": {
      "needs_background": "light",
      "tags": []
     },
     "output_type": "display_data"
    }
   ],
   "source": [
    "purchase[purchase['c05'].notna()]['age'].plot.hist(bins = 100)"
   ]
  },
  {
   "cell_type": "markdown",
   "metadata": {
    "colab_type": "text",
    "id": "XetFWZDd3Vhs"
   },
   "source": [
    "게임 콘텐츠의 구매자는 여성보다는 남성이 더 많으며, 연령대는 다양하게 분포하나 20-30대에 많은 것을 볼 수 있습니다."
   ]
  },
  {
   "cell_type": "markdown",
   "metadata": {
    "colab_type": "text",
    "id": "UqSqStxW3Vht"
   },
   "source": [
    "<p style=\"color:#0000FF\";><font size = \"5\"><b>\n",
    " # 연습하기\n",
    "    </b></font></p>\n",
    "    \n",
    "#### 동영상/영화, TV방송프로그램, 음악 온라인 콘텐츠 소비에 대해 아래 질문들의 답을 탐색해 보세요.\n",
    "\n",
    "2. 온라인 디지털 콘텐츠 지출금액의 분포는 어떠한가? \n",
    "3. 온라인 디지털 콘텐츠를 구매하는 사람들은 누구인가?\n",
    "\n",
    "필요하다면 DataFrame 'data'에서 소득 등 다른 정보를 가져와 더 탐색해 보세요."
   ]
  },
  {
   "cell_type": "code",
   "execution_count": 0,
   "metadata": {
    "colab": {},
    "colab_type": "code",
    "id": "QdfikDGB3Vht"
   },
   "outputs": [],
   "source": []
  },
  {
   "cell_type": "code",
   "execution_count": 0,
   "metadata": {
    "colab": {},
    "colab_type": "code",
    "id": "B1Trpw9B3Vhw"
   },
   "outputs": [],
   "source": []
  },
  {
   "cell_type": "code",
   "execution_count": 0,
   "metadata": {
    "colab": {},
    "colab_type": "code",
    "id": "42XZBQmj3Vhz"
   },
   "outputs": [],
   "source": []
  },
  {
   "cell_type": "markdown",
   "metadata": {
    "colab_type": "text",
    "id": "JccB_m9u3Viq"
   },
   "source": [
    "다음 시간부터 본격적으로 질문에 따라 시각화 패키지를 사용해 다양한 차트를 그려봅니다."
   ]
  },
  {
   "cell_type": "code",
   "execution_count": 38,
   "metadata": {
    "colab": {
     "base_uri": "https://localhost:8080/",
     "height": 72
    },
    "colab_type": "code",
    "executionInfo": {
     "elapsed": 990,
     "status": "ok",
     "timestamp": 1587024926732,
     "user": {
      "displayName": "Eun Yu",
      "photoUrl": "https://lh3.googleusercontent.com/a-/AOh14GgEWsmf4FH7IRh7LjTXnuF85OLv2_K9vNCProM4=s64",
      "userId": "17784789244818192257"
     },
     "user_tz": -540
    },
    "id": "Wd3nSSY83Vis",
    "outputId": "16ae0e12-d9ad-487d-c4d1-5a6393f58df4"
   },
   "outputs": [
    {
     "name": "stderr",
     "output_type": "stream",
     "text": [
      "/usr/local/lib/python3.6/dist-packages/statsmodels/tools/_testing.py:19: FutureWarning: pandas.util.testing is deprecated. Use the functions in the public API at pandas.testing instead.\n",
      "  import pandas.util.testing as tm\n"
     ]
    }
   ],
   "source": [
    "import matplotlib\n",
    "import matplotlib.pyplot as plt\n",
    "%matplotlib inline\n",
    "import seaborn as sns"
   ]
  },
  {
   "cell_type": "code",
   "execution_count": 39,
   "metadata": {
    "colab": {
     "base_uri": "https://localhost:8080/",
     "height": 313
    },
    "colab_type": "code",
    "executionInfo": {
     "elapsed": 841,
     "status": "ok",
     "timestamp": 1587024931012,
     "user": {
      "displayName": "Eun Yu",
      "photoUrl": "https://lh3.googleusercontent.com/a-/AOh14GgEWsmf4FH7IRh7LjTXnuF85OLv2_K9vNCProM4=s64",
      "userId": "17784789244818192257"
     },
     "user_tz": -540
    },
    "id": "Y0t-3_T-3Viy",
    "outputId": "43dcce92-91a2-4d6b-ddec-c8caa5a09581",
    "scrolled": true
   },
   "outputs": [
    {
     "data": {
      "text/plain": [
       "Text(0.5, 1.0, 'Age distribution')"
      ]
     },
     "execution_count": 39,
     "metadata": {
      "tags": []
     },
     "output_type": "execute_result"
    },
    {
     "data": {
      "image/png": "[encoded data removed]",
      "text/plain": [
       "<Figure size 432x288 with 1 Axes>"
      ]
     },
     "metadata": {
      "needs_background": "light",
      "tags": []
     },
     "output_type": "display_data"
    }
   ],
   "source": [
    "sns.distplot(purchase[purchase['c05'].notna()]['age'], color = 'green')\n",
    "plt.xlabel(\"age\")\n",
    "plt.ylabel(\"payment - game\")\n",
    "plt.title(\"Age distribution\")"
   ]
  },
  {
   "cell_type": "code",
   "execution_count": 0,
   "metadata": {
    "colab": {},
    "colab_type": "code",
    "id": "gMo_2FIK3Vi1"
   },
   "outputs": [],
   "source": [
    "sns.violinplot(x = 'gender', y = 'c05', data = purchase)"
   ]
  },
  {
   "cell_type": "code",
   "execution_count": 0,
   "metadata": {
    "colab": {},
    "colab_type": "code",
    "id": "c8n9ef5R3Vi7",
    "scrolled": false
   },
   "outputs": [],
   "source": [
    "sns.set_palette(\"bright\")\n",
    "sns.boxplot(x = 'age_gr', y = 'c05', data = purchase)"
   ]
  },
  {
   "cell_type": "code",
   "execution_count": 0,
   "metadata": {
    "colab": {},
    "colab_type": "code",
    "id": "50FKmHms3Vi9"
   },
   "outputs": [],
   "source": []
  }
 ],
 "metadata": {
  "colab": {
   "name": "week5_vis2_lecture.ipynb",
   "provenance": []
  },
  "kernelspec": {
   "display_name": "Python 3",
   "language": "python",
   "name": "python3"
  },
  "language_info": {
   "codemirror_mode": {
    "name": "ipython",
    "version": 3
   },
   "file_extension": ".py",
   "mimetype": "text/x-python",
   "name": "python",
   "nbconvert_exporter": "python",
   "pygments_lexer": "ipython3",
   "version": "3.8.3"
  }
 },
 "nbformat": 4,
 "nbformat_minor": 1
}
