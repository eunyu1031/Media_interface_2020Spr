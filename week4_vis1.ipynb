{
 "cells": [
  {
   "cell_type": "markdown",
   "metadata": {
    "colab_type": "text",
    "id": "ON-rQVx0JMSr"
   },
   "source": [
    "<p style=\"color:#0000FF\";><b>\n",
    "* 자료는 보통 순서대로 실행한다는 가정 하에 만듭니다. 제대로 실행이 되지 않는다면 이전의 셀을 실행했는지 다시 확인해 보세요. <br>\n",
    "* ctrl+enter는 선택한 셀의 코드를 실행하고, shift+enter는 해당 셀 실행 후 다음 셀로 넘어갑니다.\n",
    "    </b></p>"
   ]
  },
  {
   "cell_type": "markdown",
   "metadata": {},
   "source": [
    "#### 0. 복습\n",
    "\n",
    "#### 1. 데이터 파일 읽고 파악하기\n",
    "\n",
    "#### 2. 한국미디어패널의 인구통계학적 정보 살펴보기\n"
   ]
  },
  {
   "cell_type": "markdown",
   "metadata": {
    "colab_type": "text",
    "id": "8zpe5Xq0JMSs"
   },
   "source": [
    "# 0. 복습\n",
    "\n",
    "- 함수는 프로그램에서 한 번 이상 실행할 수 있도록 여러 코드를 그룹화하는 장치이며, 입력(input)과 출력(output)을 받아 연산을 수행할 수 있습니다.\n",
    "\n",
    "- 파이썬은 여러 내장 함수를 제공하며, help(함수명)으로 설명을 조회할 수 있습니다.\n",
    "\n",
    "- 메서드(method)는 함수의 한 형태로, 특정 자료형에서만 동작하는 함수를 말합니다.\n",
    "\n",
    "<img src='https://github.com/eunyu1031/Media_interface_2020Spr/blob/master/pics/inout.png?raw=true'/>"
   ]
  },
  {
   "cell_type": "code",
   "execution_count": 1,
   "metadata": {
    "colab": {
     "base_uri": "https://localhost:8080/",
     "height": 35
    },
    "colab_type": "code",
    "executionInfo": {
     "elapsed": 1615,
     "status": "ok",
     "timestamp": 1586321834243,
     "user": {
      "displayName": "Eun Yu",
      "photoUrl": "https://lh3.googleusercontent.com/a-/AOh14GgEWsmf4FH7IRh7LjTXnuF85OLv2_K9vNCProM4=s64",
      "userId": "17784789244818192257"
     },
     "user_tz": -540
    },
    "id": "Gn0HNZvqJMSt",
    "outputId": "40107d0a-78c1-49d2-c156-05910e576b9b"
   },
   "outputs": [
    {
     "name": "stdout",
     "output_type": "stream",
     "text": [
      "3\n"
     ]
    }
   ],
   "source": [
    "def CalNums(x, y):\n",
    "    result = x - y\n",
    "    return result\n",
    "\n",
    "mynum = CalNums(10, 7)\n",
    "print(mynum)"
   ]
  },
  {
   "cell_type": "code",
   "execution_count": 2,
   "metadata": {
    "colab": {
     "base_uri": "https://localhost:8080/",
     "height": 233
    },
    "colab_type": "code",
    "executionInfo": {
     "elapsed": 1887,
     "status": "ok",
     "timestamp": 1586321836862,
     "user": {
      "displayName": "Eun Yu",
      "photoUrl": "https://lh3.googleusercontent.com/a-/AOh14GgEWsmf4FH7IRh7LjTXnuF85OLv2_K9vNCProM4=s64",
      "userId": "17784789244818192257"
     },
     "user_tz": -540
    },
    "id": "Exu6Jm3TJMSw",
    "outputId": "e645df3c-0bb6-4d83-d1e7-b0089e4e82a0"
   },
   "outputs": [
    {
     "name": "stdout",
     "output_type": "stream",
     "text": [
      "Help on built-in function print in module builtins:\n",
      "\n",
      "print(...)\n",
      "    print(value, ..., sep=' ', end='\\n', file=sys.stdout, flush=False)\n",
      "    \n",
      "    Prints the values to a stream, or to sys.stdout by default.\n",
      "    Optional keyword arguments:\n",
      "    file:  a file-like object (stream); defaults to the current sys.stdout.\n",
      "    sep:   string inserted between values, default a space.\n",
      "    end:   string appended after the last value, default a newline.\n",
      "    flush: whether to forcibly flush the stream.\n",
      "\n"
     ]
    }
   ],
   "source": [
    "help(print)"
   ]
  },
  {
   "cell_type": "code",
   "execution_count": 3,
   "metadata": {
    "colab": {
     "base_uri": "https://localhost:8080/",
     "height": 35
    },
    "colab_type": "code",
    "executionInfo": {
     "elapsed": 478,
     "status": "ok",
     "timestamp": 1586321840118,
     "user": {
      "displayName": "Eun Yu",
      "photoUrl": "https://lh3.googleusercontent.com/a-/AOh14GgEWsmf4FH7IRh7LjTXnuF85OLv2_K9vNCProM4=s64",
      "userId": "17784789244818192257"
     },
     "user_tz": -540
    },
    "id": "uPfT6NzOJMSy",
    "outputId": "532b7e8a-907d-4829-c3bd-9920929de5d4"
   },
   "outputs": [
    {
     "name": "stdout",
     "output_type": "stream",
     "text": [
      "82-10-1234-5678\n"
     ]
    }
   ],
   "source": [
    "print(82, 10, 1234, 5678, sep = '-')"
   ]
  },
  {
   "cell_type": "code",
   "execution_count": 4,
   "metadata": {
    "colab": {},
    "colab_type": "code",
    "id": "Ytra0HU7JMS0"
   },
   "outputs": [
    {
     "name": "stdout",
     "output_type": "stream",
     "text": [
      "Help on method_descriptor:\n",
      "\n",
      "split(self, /, sep=None, maxsplit=-1)\n",
      "    Return a list of the words in the string, using sep as the delimiter string.\n",
      "    \n",
      "    sep\n",
      "      The delimiter according which to split the string.\n",
      "      None (the default value) means split according to any whitespace,\n",
      "      and discard empty strings from the result.\n",
      "    maxsplit\n",
      "      Maximum number of splits to do.\n",
      "      -1 (the default value) means no limit.\n",
      "\n"
     ]
    }
   ],
   "source": [
    "help(str.split)"
   ]
  },
  {
   "cell_type": "code",
   "execution_count": 5,
   "metadata": {
    "colab": {
     "base_uri": "https://localhost:8080/",
     "height": 35
    },
    "colab_type": "code",
    "executionInfo": {
     "elapsed": 1320,
     "status": "ok",
     "timestamp": 1586321838889,
     "user": {
      "displayName": "Eun Yu",
      "photoUrl": "https://lh3.googleusercontent.com/a-/AOh14GgEWsmf4FH7IRh7LjTXnuF85OLv2_K9vNCProM4=s64",
      "userId": "17784789244818192257"
     },
     "user_tz": -540
    },
    "id": "LoD0CfvuJMS2",
    "outputId": "d852fa7d-5076-4acb-c95d-e33fc9244f2c"
   },
   "outputs": [
    {
     "name": "stdout",
     "output_type": "stream",
     "text": [
      "['2020', '03', '30'] <class 'list'>\n"
     ]
    }
   ],
   "source": [
    "test2 = \"2020-03-30\"\n",
    "\n",
    "result2 = test2.split('-')\n",
    "print(result2, type(result2))"
   ]
  },
  {
   "cell_type": "markdown",
   "metadata": {
    "colab_type": "text",
    "id": "M8yxp-gjJMS5"
   },
   "source": [
    "DataFrame에서의 특정 값을 확인하는 방법들도 살펴보았습니다.\n",
    "- DataFrame.**iloc[]**은 색인의 __순서를 나타내는 정수값(index)__을 받습니다.\n",
    "- DataFrame.**loc[]**은 색인의 __라벨(label)__을 받습니다.\n",
    "- Boolean indexing은 조건을 만족하는(True) 행을 가져올 수 있습니다.\n",
    "\n",
    "<img src='https://github.com/eunyu1031/Media_interface_2020Spr/blob/master/pics/matrix.png?raw=true' width='400' height='400' >\n",
    "\n",
    "Pandas: Indexing and selecting data: \n",
    "https://pandas.pydata.org/pandas-docs/stable/user_guide/indexing.html"
   ]
  },
  {
   "cell_type": "markdown",
   "metadata": {
    "colab_type": "text",
    "id": "1RN2fSy8JMS8"
   },
   "source": [
    "pandas 모듈을 가져올 때 Series, DataFrame은 바로 가져오고, 그 외의 요소들은 pd로 받아왔기 때문에  DataFrame은 pd.DataFrame()이 아닌 DataFrame()으로 실행하고 버전은 pd.~으로 확인합니다."
   ]
  },
  {
   "cell_type": "code",
   "execution_count": 6,
   "metadata": {
    "colab": {
     "base_uri": "https://localhost:8080/",
     "height": 35
    },
    "colab_type": "code",
    "executionInfo": {
     "elapsed": 747,
     "status": "ok",
     "timestamp": 1586321843691,
     "user": {
      "displayName": "Eun Yu",
      "photoUrl": "https://lh3.googleusercontent.com/a-/AOh14GgEWsmf4FH7IRh7LjTXnuF85OLv2_K9vNCProM4=s64",
      "userId": "17784789244818192257"
     },
     "user_tz": -540
    },
    "id": "uHIXwcKZJMS8",
    "outputId": "c509ef47-1e63-47f2-b931-2f2c2caa0b05"
   },
   "outputs": [
    {
     "data": {
      "text/plain": [
       "'1.0.5'"
      ]
     },
     "execution_count": 6,
     "metadata": {},
     "output_type": "execute_result"
    }
   ],
   "source": [
    "from pandas import Series, DataFrame \n",
    "import pandas as pd\n",
    "\n",
    "pd.__version__ "
   ]
  },
  {
   "cell_type": "code",
   "execution_count": 7,
   "metadata": {
    "colab": {
     "base_uri": "https://localhost:8080/",
     "height": 235
    },
    "colab_type": "code",
    "executionInfo": {
     "elapsed": 778,
     "status": "ok",
     "timestamp": 1586321848213,
     "user": {
      "displayName": "Eun Yu",
      "photoUrl": "https://lh3.googleusercontent.com/a-/AOh14GgEWsmf4FH7IRh7LjTXnuF85OLv2_K9vNCProM4=s64",
      "userId": "17784789244818192257"
     },
     "user_tz": -540
    },
    "id": "TGmMEjlcJMS-",
    "outputId": "542ab202-3390-4b34-fae7-771f733082b6"
   },
   "outputs": [
    {
     "data": {
      "text/html": [
       "<div>\n",
       "<style scoped>\n",
       "    .dataframe tbody tr th:only-of-type {\n",
       "        vertical-align: middle;\n",
       "    }\n",
       "\n",
       "    .dataframe tbody tr th {\n",
       "        vertical-align: top;\n",
       "    }\n",
       "\n",
       "    .dataframe thead th {\n",
       "        text-align: right;\n",
       "    }\n",
       "</style>\n",
       "<table border=\"1\" class=\"dataframe\">\n",
       "  <thead>\n",
       "    <tr style=\"text-align: right;\">\n",
       "      <th></th>\n",
       "      <th>name</th>\n",
       "      <th>start_year</th>\n",
       "      <th>moon</th>\n",
       "    </tr>\n",
       "  </thead>\n",
       "  <tbody>\n",
       "    <tr>\n",
       "      <th>3월</th>\n",
       "      <td>삼일절</td>\n",
       "      <td>1949</td>\n",
       "      <td>False</td>\n",
       "    </tr>\n",
       "    <tr>\n",
       "      <th>5월</th>\n",
       "      <td>어린이날</td>\n",
       "      <td>1975</td>\n",
       "      <td>False</td>\n",
       "    </tr>\n",
       "    <tr>\n",
       "      <th>음력4월</th>\n",
       "      <td>부처님 오신 날</td>\n",
       "      <td>1975</td>\n",
       "      <td>True</td>\n",
       "    </tr>\n",
       "    <tr>\n",
       "      <th>8월</th>\n",
       "      <td>광복절</td>\n",
       "      <td>1949</td>\n",
       "      <td>False</td>\n",
       "    </tr>\n",
       "    <tr>\n",
       "      <th>10월</th>\n",
       "      <td>한글날</td>\n",
       "      <td>1949</td>\n",
       "      <td>False</td>\n",
       "    </tr>\n",
       "    <tr>\n",
       "      <th>12월</th>\n",
       "      <td>기독탄신일</td>\n",
       "      <td>1949</td>\n",
       "      <td>False</td>\n",
       "    </tr>\n",
       "  </tbody>\n",
       "</table>\n",
       "</div>"
      ],
      "text/plain": [
       "          name  start_year   moon\n",
       "3월         삼일절        1949  False\n",
       "5월        어린이날        1975  False\n",
       "음력4월  부처님 오신 날        1975   True\n",
       "8월         광복절        1949  False\n",
       "10월        한글날        1949  False\n",
       "12월      기독탄신일        1949  False"
      ]
     },
     "execution_count": 7,
     "metadata": {},
     "output_type": "execute_result"
    }
   ],
   "source": [
    "holiday_dict = {'name':['삼일절', '어린이날', '부처님 오신 날', \n",
    "                        '광복절', '한글날', '기독탄신일'],\n",
    "                'start_year':[1949, 1975, 1975, 1949, 1949, 1949],\n",
    "                'moon':[False, False, True, False, False, False]}\n",
    "\n",
    "holidays = DataFrame(holiday_dict, \n",
    "                     index = [\"3월\", \"5월\", \"음력4월\", \"8월\",\"10월\", \"12월\"])\n",
    "holidays"
   ]
  },
  {
   "cell_type": "markdown",
   "metadata": {
    "colab_type": "text",
    "id": "GI6BreyGJMTA"
   },
   "source": [
    "DataFrame의 요소(attribute)를 살펴볼 수 있었고, 메서드(method) 중 sort_values를 활용해 보았습니다.\n",
    "\n",
    "__Attributes__\n",
    "<table class=\"longtable table\">\n",
    "<colgroup>\n",
    "<col style=\"width: 10%\" />\n",
    "<col style=\"width: 90%\" />\n",
    "</colgroup>\n",
    "<tbody>\n",
    "<tr class=\"row-odd\"><td><p><a class=\"reference internal\" href=\"pandas.DataFrame.T.html#pandas.DataFrame.T\" title=\"pandas.DataFrame.T\"><code class=\"xref py py-obj docutils literal notranslate\"><span class=\"pre\">T</span></code></a></p></td>\n",
    "<td><p>Transpose index and columns.</p></td>\n",
    "</tr>\n",
    "<tr class=\"row-even\"><td><p><a class=\"reference internal\" href=\"pandas.DataFrame.at.html#pandas.DataFrame.at\" title=\"pandas.DataFrame.at\"><code class=\"xref py py-obj docutils literal notranslate\"><span class=\"pre\">at</span></code></a></p></td>\n",
    "<td><p>Access a single value for a row/column label pair.</p></td>\n",
    "</tr>\n",
    "<tr class=\"row-odd\"><td><p><a class=\"reference internal\" href=\"pandas.DataFrame.attrs.html#pandas.DataFrame.attrs\" title=\"pandas.DataFrame.attrs\"><code class=\"xref py py-obj docutils literal notranslate\"><span class=\"pre\">attrs</span></code></a></p></td>\n",
    "<td><p>Dictionary of global attributes on this object.</p></td>\n",
    "</tr>\n",
    "<tr class=\"row-even\"><td><p><a class=\"reference internal\" href=\"pandas.DataFrame.axes.html#pandas.DataFrame.axes\" title=\"pandas.DataFrame.axes\"><code class=\"xref py py-obj docutils literal notranslate\"><span class=\"pre\">axes</span></code></a></p></td>\n",
    "<td><p>Return a list representing the axes of the DataFrame.</p></td>\n",
    "</tr>\n",
    "<tr class=\"row-odd\"><td><p><a class=\"reference internal\" href=\"pandas.DataFrame.columns.html#pandas.DataFrame.columns\" title=\"pandas.DataFrame.columns\"><code class=\"xref py py-obj docutils literal notranslate\"><span class=\"pre\">columns</span></code></a></p></td>\n",
    "<td><p>The column labels of the DataFrame.</p></td>\n",
    "</tr>\n",
    "<tr class=\"row-even\"><td><p><a class=\"reference internal\" href=\"pandas.DataFrame.dtypes.html#pandas.DataFrame.dtypes\" title=\"pandas.DataFrame.dtypes\"><code class=\"xref py py-obj docutils literal notranslate\"><span class=\"pre\">dtypes</span></code></a></p></td>\n",
    "<td><p>Return the dtypes in the DataFrame.</p></td>\n",
    "</tr>\n",
    "<tr class=\"row-odd\"><td><p><a class=\"reference internal\" href=\"pandas.DataFrame.empty.html#pandas.DataFrame.empty\" title=\"pandas.DataFrame.empty\"><code class=\"xref py py-obj docutils literal notranslate\"><span class=\"pre\">empty</span></code></a></p></td>\n",
    "<td><p>Indicator whether DataFrame is empty.</p></td>\n",
    "</tr>\n",
    "<tr class=\"row-even\"><td><p><a class=\"reference internal\" href=\"pandas.DataFrame.iat.html#pandas.DataFrame.iat\" title=\"pandas.DataFrame.iat\"><code class=\"xref py py-obj docutils literal notranslate\"><span class=\"pre\">iat</span></code></a></p></td>\n",
    "<td><p>Access a single value for a row/column pair by integer position.</p></td>\n",
    "</tr>\n",
    "<tr class=\"row-odd\"><td><p><a class=\"reference internal\" href=\"pandas.DataFrame.iloc.html#pandas.DataFrame.iloc\" title=\"pandas.DataFrame.iloc\"><code class=\"xref py py-obj docutils literal notranslate\"><span class=\"pre\">iloc</span></code></a></p></td>\n",
    "<td><p>Purely integer-location based indexing for selection by position.</p></td>\n",
    "</tr>\n",
    "<tr class=\"row-even\"><td><p><a class=\"reference internal\" href=\"pandas.DataFrame.index.html#pandas.DataFrame.index\" title=\"pandas.DataFrame.index\"><code class=\"xref py py-obj docutils literal notranslate\"><span class=\"pre\">index</span></code></a></p></td>\n",
    "<td><p>The index (row labels) of the DataFrame.</p></td>\n",
    "</tr>\n",
    "<tr class=\"row-odd\"><td><p><a class=\"reference internal\" href=\"pandas.DataFrame.loc.html#pandas.DataFrame.loc\" title=\"pandas.DataFrame.loc\"><code class=\"xref py py-obj docutils literal notranslate\"><span class=\"pre\">loc</span></code></a></p></td>\n",
    "<td><p>Access a group of rows and columns by label(s) or a boolean array.</p></td>\n",
    "</tr>\n",
    "<tr class=\"row-even\"><td><p><a class=\"reference internal\" href=\"pandas.DataFrame.ndim.html#pandas.DataFrame.ndim\" title=\"pandas.DataFrame.ndim\"><code class=\"xref py py-obj docutils literal notranslate\"><span class=\"pre\">ndim</span></code></a></p></td>\n",
    "<td><p>Return an int representing the number of axes / array dimensions.</p></td>\n",
    "</tr>\n",
    "<tr class=\"row-odd\"><td><p><a class=\"reference internal\" href=\"pandas.DataFrame.shape.html#pandas.DataFrame.shape\" title=\"pandas.DataFrame.shape\"><code class=\"xref py py-obj docutils literal notranslate\"><span class=\"pre\">shape</span></code></a></p></td>\n",
    "<td><p>Return a tuple representing the dimensionality of the DataFrame.</p></td>\n",
    "</tr>\n",
    "<tr class=\"row-even\"><td><p><a class=\"reference internal\" href=\"pandas.DataFrame.size.html#pandas.DataFrame.size\" title=\"pandas.DataFrame.size\"><code class=\"xref py py-obj docutils literal notranslate\"><span class=\"pre\">size</span></code></a></p></td>\n",
    "<td><p>Return an int representing the number of elements in this object.</p></td>\n",
    "</tr>\n",
    "<tr class=\"row-odd\"><td><p><a class=\"reference internal\" href=\"pandas.DataFrame.style.html#pandas.DataFrame.style\" title=\"pandas.DataFrame.style\"><code class=\"xref py py-obj docutils literal notranslate\"><span class=\"pre\">style</span></code></a></p></td>\n",
    "<td><p>Returns a Styler object.</p></td>\n",
    "</tr>\n",
    "<tr class=\"row-even\"><td><p><a class=\"reference internal\" href=\"pandas.DataFrame.values.html#pandas.DataFrame.values\" title=\"pandas.DataFrame.values\"><code class=\"xref py py-obj docutils literal notranslate\"><span class=\"pre\">values</span></code></a></p></td>\n",
    "<td><p>Return a Numpy representation of the DataFrame.</p></td>\n",
    "</tr>\n",
    "</tbody>\n",
    "</table>\n",
    "\n",
    "https://pandas.pydata.org/pandas-docs/stable/reference/api/pandas.DataFrame.html"
   ]
  },
  {
   "cell_type": "code",
   "execution_count": 8,
   "metadata": {
    "colab": {
     "base_uri": "https://localhost:8080/",
     "height": 35
    },
    "colab_type": "code",
    "executionInfo": {
     "elapsed": 963,
     "status": "ok",
     "timestamp": 1586321854890,
     "user": {
      "displayName": "Eun Yu",
      "photoUrl": "https://lh3.googleusercontent.com/a-/AOh14GgEWsmf4FH7IRh7LjTXnuF85OLv2_K9vNCProM4=s64",
      "userId": "17784789244818192257"
     },
     "user_tz": -540
    },
    "id": "rwbvXwuiJMTB",
    "outputId": "a8cd4570-4f53-4db5-ea08-40c771d2e457"
   },
   "outputs": [
    {
     "data": {
      "text/plain": [
       "Index(['name', 'start_year', 'moon'], dtype='object')"
      ]
     },
     "execution_count": 8,
     "metadata": {},
     "output_type": "execute_result"
    }
   ],
   "source": [
    "holidays.columns"
   ]
  },
  {
   "cell_type": "code",
   "execution_count": 9,
   "metadata": {
    "colab": {
     "base_uri": "https://localhost:8080/",
     "height": 35
    },
    "colab_type": "code",
    "executionInfo": {
     "elapsed": 527,
     "status": "ok",
     "timestamp": 1586321855846,
     "user": {
      "displayName": "Eun Yu",
      "photoUrl": "https://lh3.googleusercontent.com/a-/AOh14GgEWsmf4FH7IRh7LjTXnuF85OLv2_K9vNCProM4=s64",
      "userId": "17784789244818192257"
     },
     "user_tz": -540
    },
    "id": "KmotilhZJMTD",
    "outputId": "7f33ff4a-ad18-4cf4-c9e2-3cd3b8f8b58a"
   },
   "outputs": [
    {
     "data": {
      "text/plain": [
       "Index(['3월', '5월', '음력4월', '8월', '10월', '12월'], dtype='object')"
      ]
     },
     "execution_count": 9,
     "metadata": {},
     "output_type": "execute_result"
    }
   ],
   "source": [
    "holidays.index"
   ]
  },
  {
   "cell_type": "code",
   "execution_count": 10,
   "metadata": {
    "colab": {
     "base_uri": "https://localhost:8080/",
     "height": 111
    },
    "colab_type": "code",
    "executionInfo": {
     "elapsed": 598,
     "status": "ok",
     "timestamp": 1586321856798,
     "user": {
      "displayName": "Eun Yu",
      "photoUrl": "https://lh3.googleusercontent.com/a-/AOh14GgEWsmf4FH7IRh7LjTXnuF85OLv2_K9vNCProM4=s64",
      "userId": "17784789244818192257"
     },
     "user_tz": -540
    },
    "id": "2uTPgrGpJMTG",
    "outputId": "71d53af8-8e78-40d5-cb34-7f695c444006"
   },
   "outputs": [
    {
     "data": {
      "text/html": [
       "<div>\n",
       "<style scoped>\n",
       "    .dataframe tbody tr th:only-of-type {\n",
       "        vertical-align: middle;\n",
       "    }\n",
       "\n",
       "    .dataframe tbody tr th {\n",
       "        vertical-align: top;\n",
       "    }\n",
       "\n",
       "    .dataframe thead th {\n",
       "        text-align: right;\n",
       "    }\n",
       "</style>\n",
       "<table border=\"1\" class=\"dataframe\">\n",
       "  <thead>\n",
       "    <tr style=\"text-align: right;\">\n",
       "      <th></th>\n",
       "      <th>name</th>\n",
       "      <th>start_year</th>\n",
       "      <th>moon</th>\n",
       "    </tr>\n",
       "  </thead>\n",
       "  <tbody>\n",
       "    <tr>\n",
       "      <th>3월</th>\n",
       "      <td>삼일절</td>\n",
       "      <td>1949</td>\n",
       "      <td>False</td>\n",
       "    </tr>\n",
       "    <tr>\n",
       "      <th>5월</th>\n",
       "      <td>어린이날</td>\n",
       "      <td>1975</td>\n",
       "      <td>False</td>\n",
       "    </tr>\n",
       "  </tbody>\n",
       "</table>\n",
       "</div>"
      ],
      "text/plain": [
       "    name  start_year   moon\n",
       "3월   삼일절        1949  False\n",
       "5월  어린이날        1975  False"
      ]
     },
     "execution_count": 10,
     "metadata": {},
     "output_type": "execute_result"
    }
   ],
   "source": [
    "holidays.iloc[:2, :]"
   ]
  },
  {
   "cell_type": "code",
   "execution_count": 11,
   "metadata": {
    "colab": {
     "base_uri": "https://localhost:8080/",
     "height": 111
    },
    "colab_type": "code",
    "executionInfo": {
     "elapsed": 674,
     "status": "ok",
     "timestamp": 1586321857770,
     "user": {
      "displayName": "Eun Yu",
      "photoUrl": "https://lh3.googleusercontent.com/a-/AOh14GgEWsmf4FH7IRh7LjTXnuF85OLv2_K9vNCProM4=s64",
      "userId": "17784789244818192257"
     },
     "user_tz": -540
    },
    "id": "pszDIbI-JMTI",
    "outputId": "fc98fc7f-cc00-48f7-d15c-3d1bba8c0deb"
   },
   "outputs": [
    {
     "data": {
      "text/html": [
       "<div>\n",
       "<style scoped>\n",
       "    .dataframe tbody tr th:only-of-type {\n",
       "        vertical-align: middle;\n",
       "    }\n",
       "\n",
       "    .dataframe tbody tr th {\n",
       "        vertical-align: top;\n",
       "    }\n",
       "\n",
       "    .dataframe thead th {\n",
       "        text-align: right;\n",
       "    }\n",
       "</style>\n",
       "<table border=\"1\" class=\"dataframe\">\n",
       "  <thead>\n",
       "    <tr style=\"text-align: right;\">\n",
       "      <th></th>\n",
       "      <th>name</th>\n",
       "      <th>moon</th>\n",
       "    </tr>\n",
       "  </thead>\n",
       "  <tbody>\n",
       "    <tr>\n",
       "      <th>음력4월</th>\n",
       "      <td>부처님 오신 날</td>\n",
       "      <td>True</td>\n",
       "    </tr>\n",
       "    <tr>\n",
       "      <th>12월</th>\n",
       "      <td>기독탄신일</td>\n",
       "      <td>False</td>\n",
       "    </tr>\n",
       "  </tbody>\n",
       "</table>\n",
       "</div>"
      ],
      "text/plain": [
       "          name   moon\n",
       "음력4월  부처님 오신 날   True\n",
       "12월      기독탄신일  False"
      ]
     },
     "execution_count": 11,
     "metadata": {},
     "output_type": "execute_result"
    }
   ],
   "source": [
    "holidays.loc[['음력4월', '12월'],['name', 'moon']]"
   ]
  },
  {
   "cell_type": "code",
   "execution_count": 12,
   "metadata": {
    "colab": {
     "base_uri": "https://localhost:8080/",
     "height": 143
    },
    "colab_type": "code",
    "executionInfo": {
     "elapsed": 540,
     "status": "ok",
     "timestamp": 1586321858687,
     "user": {
      "displayName": "Eun Yu",
      "photoUrl": "https://lh3.googleusercontent.com/a-/AOh14GgEWsmf4FH7IRh7LjTXnuF85OLv2_K9vNCProM4=s64",
      "userId": "17784789244818192257"
     },
     "user_tz": -540
    },
    "id": "NDKCOKyXJMTK",
    "outputId": "0220496b-b5b6-475a-933d-1db8c6e27430"
   },
   "outputs": [
    {
     "data": {
      "text/plain": [
       "3월      False\n",
       "5월       True\n",
       "음력4월     True\n",
       "8월      False\n",
       "10월     False\n",
       "12월     False\n",
       "Name: start_year, dtype: bool"
      ]
     },
     "execution_count": 12,
     "metadata": {},
     "output_type": "execute_result"
    }
   ],
   "source": [
    "holidays['start_year'] > 1970"
   ]
  },
  {
   "cell_type": "code",
   "execution_count": 13,
   "metadata": {
    "colab": {
     "base_uri": "https://localhost:8080/",
     "height": 111
    },
    "colab_type": "code",
    "executionInfo": {
     "elapsed": 668,
     "status": "ok",
     "timestamp": 1586321859722,
     "user": {
      "displayName": "Eun Yu",
      "photoUrl": "https://lh3.googleusercontent.com/a-/AOh14GgEWsmf4FH7IRh7LjTXnuF85OLv2_K9vNCProM4=s64",
      "userId": "17784789244818192257"
     },
     "user_tz": -540
    },
    "id": "zBi8KTlkJMTM",
    "outputId": "4c170c87-91a2-445a-f442-f82135276ec3"
   },
   "outputs": [
    {
     "data": {
      "text/html": [
       "<div>\n",
       "<style scoped>\n",
       "    .dataframe tbody tr th:only-of-type {\n",
       "        vertical-align: middle;\n",
       "    }\n",
       "\n",
       "    .dataframe tbody tr th {\n",
       "        vertical-align: top;\n",
       "    }\n",
       "\n",
       "    .dataframe thead th {\n",
       "        text-align: right;\n",
       "    }\n",
       "</style>\n",
       "<table border=\"1\" class=\"dataframe\">\n",
       "  <thead>\n",
       "    <tr style=\"text-align: right;\">\n",
       "      <th></th>\n",
       "      <th>name</th>\n",
       "      <th>start_year</th>\n",
       "      <th>moon</th>\n",
       "    </tr>\n",
       "  </thead>\n",
       "  <tbody>\n",
       "    <tr>\n",
       "      <th>5월</th>\n",
       "      <td>어린이날</td>\n",
       "      <td>1975</td>\n",
       "      <td>False</td>\n",
       "    </tr>\n",
       "    <tr>\n",
       "      <th>음력4월</th>\n",
       "      <td>부처님 오신 날</td>\n",
       "      <td>1975</td>\n",
       "      <td>True</td>\n",
       "    </tr>\n",
       "  </tbody>\n",
       "</table>\n",
       "</div>"
      ],
      "text/plain": [
       "          name  start_year   moon\n",
       "5월        어린이날        1975  False\n",
       "음력4월  부처님 오신 날        1975   True"
      ]
     },
     "execution_count": 13,
     "metadata": {},
     "output_type": "execute_result"
    }
   ],
   "source": [
    "holidays[holidays['start_year'] > 1970]"
   ]
  },
  {
   "cell_type": "code",
   "execution_count": 14,
   "metadata": {
    "colab": {
     "base_uri": "https://localhost:8080/",
     "height": 235
    },
    "colab_type": "code",
    "executionInfo": {
     "elapsed": 841,
     "status": "ok",
     "timestamp": 1586321860827,
     "user": {
      "displayName": "Eun Yu",
      "photoUrl": "https://lh3.googleusercontent.com/a-/AOh14GgEWsmf4FH7IRh7LjTXnuF85OLv2_K9vNCProM4=s64",
      "userId": "17784789244818192257"
     },
     "user_tz": -540
    },
    "id": "xqp7bv74JMTO",
    "outputId": "92b26c10-fed7-487a-f40c-fd4244c9e725"
   },
   "outputs": [
    {
     "data": {
      "text/html": [
       "<div>\n",
       "<style scoped>\n",
       "    .dataframe tbody tr th:only-of-type {\n",
       "        vertical-align: middle;\n",
       "    }\n",
       "\n",
       "    .dataframe tbody tr th {\n",
       "        vertical-align: top;\n",
       "    }\n",
       "\n",
       "    .dataframe thead th {\n",
       "        text-align: right;\n",
       "    }\n",
       "</style>\n",
       "<table border=\"1\" class=\"dataframe\">\n",
       "  <thead>\n",
       "    <tr style=\"text-align: right;\">\n",
       "      <th></th>\n",
       "      <th>name</th>\n",
       "      <th>start_year</th>\n",
       "      <th>moon</th>\n",
       "    </tr>\n",
       "  </thead>\n",
       "  <tbody>\n",
       "    <tr>\n",
       "      <th>5월</th>\n",
       "      <td>어린이날</td>\n",
       "      <td>1975</td>\n",
       "      <td>False</td>\n",
       "    </tr>\n",
       "    <tr>\n",
       "      <th>음력4월</th>\n",
       "      <td>부처님 오신 날</td>\n",
       "      <td>1975</td>\n",
       "      <td>True</td>\n",
       "    </tr>\n",
       "    <tr>\n",
       "      <th>10월</th>\n",
       "      <td>한글날</td>\n",
       "      <td>1949</td>\n",
       "      <td>False</td>\n",
       "    </tr>\n",
       "    <tr>\n",
       "      <th>3월</th>\n",
       "      <td>삼일절</td>\n",
       "      <td>1949</td>\n",
       "      <td>False</td>\n",
       "    </tr>\n",
       "    <tr>\n",
       "      <th>12월</th>\n",
       "      <td>기독탄신일</td>\n",
       "      <td>1949</td>\n",
       "      <td>False</td>\n",
       "    </tr>\n",
       "    <tr>\n",
       "      <th>8월</th>\n",
       "      <td>광복절</td>\n",
       "      <td>1949</td>\n",
       "      <td>False</td>\n",
       "    </tr>\n",
       "  </tbody>\n",
       "</table>\n",
       "</div>"
      ],
      "text/plain": [
       "          name  start_year   moon\n",
       "5월        어린이날        1975  False\n",
       "음력4월  부처님 오신 날        1975   True\n",
       "10월        한글날        1949  False\n",
       "3월         삼일절        1949  False\n",
       "12월      기독탄신일        1949  False\n",
       "8월         광복절        1949  False"
      ]
     },
     "execution_count": 14,
     "metadata": {},
     "output_type": "execute_result"
    }
   ],
   "source": [
    "holidays.sort_values(by = ['start_year', 'name'], ascending = False)"
   ]
  },
  {
   "cell_type": "markdown",
   "metadata": {
    "colab_type": "text",
    "id": "W_QwgnaYJMTQ"
   },
   "source": [
    "# 1. 데이터 파일 읽고 파악하기\n",
    "\n",
    "기존에 있던 CSV(comma-separated values) 파일을 읽어와 DataFrame으로 저장하는 read_csv 함수를 알아봅니다. CSV는 각각의 요소를 쉼표(,)로 구분한 텍스트 파일로 포맷이 단순해 데이터를 저장하는 데 많이 쓰입니다."
   ]
  },
  {
   "cell_type": "code",
   "execution_count": 1,
   "metadata": {
    "colab": {},
    "colab_type": "code",
    "id": "SYlymRqoJMTR"
   },
   "outputs": [],
   "source": [
    "help(pd.read_csv)"
   ]
  },
  {
   "cell_type": "markdown",
   "metadata": {
    "colab_type": "text",
    "id": "SgB00XGdJMTU"
   },
   "source": [
    "파일의 경로를 비롯해서 여러 매개변수가 있지만, 구분자(sep), 인코딩(encoding), csv파일의 첫 줄 처리(header) 정도를 자주 사용하게 됩니다. sep은 comma-seperated(,)가 아닌 tab(\\t)등 쉼표가 아닌 다른 구분자를 사용하는 경우에, encoding은 저장 방식이 다를 때(윈도우의 기본은 cp949, 웹은 보통 utf-8 등), header는 파일의 첫 줄이 열의 이름이 아니라 바로 데이터로 시작할 때 바꾸어 줄 필요가 있습니다.\n",
    "\n",
    "아래처럼 URL로 가져오는 것이 가장 편해 보이겠지만, 준비된 상태로 업로드된 데이터는 많지 않습니다. 다양한 경우에 대해서는 수업을 진행하면서 계속 다룰 예정입니다."
   ]
  },
  {
   "cell_type": "code",
   "execution_count": 16,
   "metadata": {
    "colab": {
     "base_uri": "https://localhost:8080/",
     "height": 439
    },
    "colab_type": "code",
    "executionInfo": {
     "elapsed": 992,
     "status": "ok",
     "timestamp": 1586321864450,
     "user": {
      "displayName": "Eun Yu",
      "photoUrl": "https://lh3.googleusercontent.com/a-/AOh14GgEWsmf4FH7IRh7LjTXnuF85OLv2_K9vNCProM4=s64",
      "userId": "17784789244818192257"
     },
     "user_tz": -540
    },
    "id": "n60pomGwJMTU",
    "outputId": "7f1dfe5d-8e0e-4b2e-b3a4-34757f2a6b1a"
   },
   "outputs": [
    {
     "data": {
      "text/html": [
       "<div>\n",
       "<style scoped>\n",
       "    .dataframe tbody tr th:only-of-type {\n",
       "        vertical-align: middle;\n",
       "    }\n",
       "\n",
       "    .dataframe tbody tr th {\n",
       "        vertical-align: top;\n",
       "    }\n",
       "\n",
       "    .dataframe thead th {\n",
       "        text-align: right;\n",
       "    }\n",
       "</style>\n",
       "<table border=\"1\" class=\"dataframe\">\n",
       "  <thead>\n",
       "    <tr style=\"text-align: right;\">\n",
       "      <th></th>\n",
       "      <th>pid</th>\n",
       "      <th>hid</th>\n",
       "      <th>area</th>\n",
       "      <th>area_siz</th>\n",
       "      <th>hhld_siz</th>\n",
       "      <th>fly_typ</th>\n",
       "      <th>gender</th>\n",
       "      <th>byear</th>\n",
       "      <th>age_gr</th>\n",
       "      <th>age</th>\n",
       "      <th>...</th>\n",
       "      <th>news_med1</th>\n",
       "      <th>news_med2</th>\n",
       "      <th>news_med3</th>\n",
       "      <th>news_plat1</th>\n",
       "      <th>news_plat2</th>\n",
       "      <th>news_plat3</th>\n",
       "      <th>channel</th>\n",
       "      <th>shop</th>\n",
       "      <th>shop_dev</th>\n",
       "      <th>shop_pay</th>\n",
       "    </tr>\n",
       "  </thead>\n",
       "  <tbody>\n",
       "    <tr>\n",
       "      <th>0</th>\n",
       "      <td>10001</td>\n",
       "      <td>100</td>\n",
       "      <td>1</td>\n",
       "      <td>1</td>\n",
       "      <td>3</td>\n",
       "      <td>3</td>\n",
       "      <td>1</td>\n",
       "      <td>1967</td>\n",
       "      <td>6</td>\n",
       "      <td>52</td>\n",
       "      <td>...</td>\n",
       "      <td>3</td>\n",
       "      <td>4</td>\n",
       "      <td></td>\n",
       "      <td>3</td>\n",
       "      <td>2</td>\n",
       "      <td></td>\n",
       "      <td>1</td>\n",
       "      <td>1</td>\n",
       "      <td>1</td>\n",
       "      <td>2</td>\n",
       "    </tr>\n",
       "    <tr>\n",
       "      <th>1</th>\n",
       "      <td>10002</td>\n",
       "      <td>100</td>\n",
       "      <td>1</td>\n",
       "      <td>1</td>\n",
       "      <td>3</td>\n",
       "      <td>3</td>\n",
       "      <td>2</td>\n",
       "      <td>1972</td>\n",
       "      <td>5</td>\n",
       "      <td>47</td>\n",
       "      <td>...</td>\n",
       "      <td>3</td>\n",
       "      <td>4</td>\n",
       "      <td></td>\n",
       "      <td>3</td>\n",
       "      <td>2</td>\n",
       "      <td></td>\n",
       "      <td>3</td>\n",
       "      <td>1</td>\n",
       "      <td>1</td>\n",
       "      <td>2</td>\n",
       "    </tr>\n",
       "    <tr>\n",
       "      <th>2</th>\n",
       "      <td>20001</td>\n",
       "      <td>200</td>\n",
       "      <td>1</td>\n",
       "      <td>1</td>\n",
       "      <td>3</td>\n",
       "      <td>3</td>\n",
       "      <td>1</td>\n",
       "      <td>1965</td>\n",
       "      <td>6</td>\n",
       "      <td>54</td>\n",
       "      <td>...</td>\n",
       "      <td>4</td>\n",
       "      <td></td>\n",
       "      <td></td>\n",
       "      <td>3</td>\n",
       "      <td></td>\n",
       "      <td></td>\n",
       "      <td>7</td>\n",
       "      <td></td>\n",
       "      <td></td>\n",
       "      <td></td>\n",
       "    </tr>\n",
       "    <tr>\n",
       "      <th>3</th>\n",
       "      <td>30001</td>\n",
       "      <td>300</td>\n",
       "      <td>8</td>\n",
       "      <td>1</td>\n",
       "      <td>3</td>\n",
       "      <td>3</td>\n",
       "      <td>1</td>\n",
       "      <td>1971</td>\n",
       "      <td>5</td>\n",
       "      <td>48</td>\n",
       "      <td>...</td>\n",
       "      <td>3</td>\n",
       "      <td></td>\n",
       "      <td></td>\n",
       "      <td>3</td>\n",
       "      <td></td>\n",
       "      <td></td>\n",
       "      <td>1</td>\n",
       "      <td></td>\n",
       "      <td></td>\n",
       "      <td></td>\n",
       "    </tr>\n",
       "    <tr>\n",
       "      <th>4</th>\n",
       "      <td>30002</td>\n",
       "      <td>300</td>\n",
       "      <td>8</td>\n",
       "      <td>1</td>\n",
       "      <td>3</td>\n",
       "      <td>3</td>\n",
       "      <td>2</td>\n",
       "      <td>1974</td>\n",
       "      <td>5</td>\n",
       "      <td>45</td>\n",
       "      <td>...</td>\n",
       "      <td></td>\n",
       "      <td></td>\n",
       "      <td></td>\n",
       "      <td></td>\n",
       "      <td></td>\n",
       "      <td></td>\n",
       "      <td>1</td>\n",
       "      <td>1</td>\n",
       "      <td>3</td>\n",
       "      <td>1</td>\n",
       "    </tr>\n",
       "    <tr>\n",
       "      <th>...</th>\n",
       "      <td>...</td>\n",
       "      <td>...</td>\n",
       "      <td>...</td>\n",
       "      <td>...</td>\n",
       "      <td>...</td>\n",
       "      <td>...</td>\n",
       "      <td>...</td>\n",
       "      <td>...</td>\n",
       "      <td>...</td>\n",
       "      <td>...</td>\n",
       "      <td>...</td>\n",
       "      <td>...</td>\n",
       "      <td>...</td>\n",
       "      <td>...</td>\n",
       "      <td>...</td>\n",
       "      <td>...</td>\n",
       "      <td>...</td>\n",
       "      <td>...</td>\n",
       "      <td>...</td>\n",
       "      <td>...</td>\n",
       "      <td>...</td>\n",
       "    </tr>\n",
       "    <tr>\n",
       "      <th>10859</th>\n",
       "      <td>118290002</td>\n",
       "      <td>1182900</td>\n",
       "      <td>16</td>\n",
       "      <td>1</td>\n",
       "      <td>3</td>\n",
       "      <td>3</td>\n",
       "      <td>1</td>\n",
       "      <td>1983</td>\n",
       "      <td>4</td>\n",
       "      <td>36</td>\n",
       "      <td>...</td>\n",
       "      <td></td>\n",
       "      <td></td>\n",
       "      <td></td>\n",
       "      <td></td>\n",
       "      <td></td>\n",
       "      <td></td>\n",
       "      <td>1</td>\n",
       "      <td></td>\n",
       "      <td></td>\n",
       "      <td></td>\n",
       "    </tr>\n",
       "    <tr>\n",
       "      <th>10860</th>\n",
       "      <td>118300001</td>\n",
       "      <td>1183000</td>\n",
       "      <td>16</td>\n",
       "      <td>1</td>\n",
       "      <td>2</td>\n",
       "      <td>3</td>\n",
       "      <td>1</td>\n",
       "      <td>1995</td>\n",
       "      <td>3</td>\n",
       "      <td>24</td>\n",
       "      <td>...</td>\n",
       "      <td></td>\n",
       "      <td></td>\n",
       "      <td></td>\n",
       "      <td></td>\n",
       "      <td></td>\n",
       "      <td></td>\n",
       "      <td>3</td>\n",
       "      <td>1</td>\n",
       "      <td>1</td>\n",
       "      <td>1</td>\n",
       "    </tr>\n",
       "    <tr>\n",
       "      <th>10861</th>\n",
       "      <td>118310001</td>\n",
       "      <td>1183100</td>\n",
       "      <td>16</td>\n",
       "      <td>1</td>\n",
       "      <td>1</td>\n",
       "      <td>1</td>\n",
       "      <td>2</td>\n",
       "      <td>1939</td>\n",
       "      <td>8</td>\n",
       "      <td>80</td>\n",
       "      <td>...</td>\n",
       "      <td></td>\n",
       "      <td></td>\n",
       "      <td></td>\n",
       "      <td></td>\n",
       "      <td></td>\n",
       "      <td></td>\n",
       "      <td>6</td>\n",
       "      <td></td>\n",
       "      <td></td>\n",
       "      <td></td>\n",
       "    </tr>\n",
       "    <tr>\n",
       "      <th>10862</th>\n",
       "      <td>118320001</td>\n",
       "      <td>1183200</td>\n",
       "      <td>16</td>\n",
       "      <td>1</td>\n",
       "      <td>1</td>\n",
       "      <td>1</td>\n",
       "      <td>2</td>\n",
       "      <td>1940</td>\n",
       "      <td>8</td>\n",
       "      <td>79</td>\n",
       "      <td>...</td>\n",
       "      <td></td>\n",
       "      <td></td>\n",
       "      <td></td>\n",
       "      <td></td>\n",
       "      <td></td>\n",
       "      <td></td>\n",
       "      <td>7</td>\n",
       "      <td></td>\n",
       "      <td></td>\n",
       "      <td></td>\n",
       "    </tr>\n",
       "    <tr>\n",
       "      <th>10863</th>\n",
       "      <td>118330001</td>\n",
       "      <td>1183300</td>\n",
       "      <td>16</td>\n",
       "      <td>1</td>\n",
       "      <td>2</td>\n",
       "      <td>3</td>\n",
       "      <td>2</td>\n",
       "      <td>1947</td>\n",
       "      <td>8</td>\n",
       "      <td>72</td>\n",
       "      <td>...</td>\n",
       "      <td></td>\n",
       "      <td></td>\n",
       "      <td></td>\n",
       "      <td></td>\n",
       "      <td></td>\n",
       "      <td></td>\n",
       "      <td>7</td>\n",
       "      <td></td>\n",
       "      <td></td>\n",
       "      <td></td>\n",
       "    </tr>\n",
       "  </tbody>\n",
       "</table>\n",
       "<p>10864 rows × 66 columns</p>\n",
       "</div>"
      ],
      "text/plain": [
       "             pid      hid  area  area_siz  hhld_siz  fly_typ  gender  byear  \\\n",
       "0          10001      100     1         1         3        3       1   1967   \n",
       "1          10002      100     1         1         3        3       2   1972   \n",
       "2          20001      200     1         1         3        3       1   1965   \n",
       "3          30001      300     8         1         3        3       1   1971   \n",
       "4          30002      300     8         1         3        3       2   1974   \n",
       "...          ...      ...   ...       ...       ...      ...     ...    ...   \n",
       "10859  118290002  1182900    16         1         3        3       1   1983   \n",
       "10860  118300001  1183000    16         1         2        3       1   1995   \n",
       "10861  118310001  1183100    16         1         1        1       2   1939   \n",
       "10862  118320001  1183200    16         1         1        1       2   1940   \n",
       "10863  118330001  1183300    16         1         2        3       2   1947   \n",
       "\n",
       "       age_gr  age  ...  news_med1  news_med2  news_med3 news_plat1  \\\n",
       "0           6   52  ...          3          4                     3   \n",
       "1           5   47  ...          3          4                     3   \n",
       "2           6   54  ...          4                                3   \n",
       "3           5   48  ...          3                                3   \n",
       "4           5   45  ...                                               \n",
       "...       ...  ...  ...        ...        ...        ...        ...   \n",
       "10859       4   36  ...                                               \n",
       "10860       3   24  ...                                               \n",
       "10861       8   80  ...                                               \n",
       "10862       8   79  ...                                               \n",
       "10863       8   72  ...                                               \n",
       "\n",
       "      news_plat2  news_plat3 channel shop shop_dev shop_pay  \n",
       "0              2                   1    1        1        2  \n",
       "1              2                   3    1        1        2  \n",
       "2                                  7                         \n",
       "3                                  1                         \n",
       "4                                  1    1        3        1  \n",
       "...          ...         ...     ...  ...      ...      ...  \n",
       "10859                              1                         \n",
       "10860                              3    1        1        1  \n",
       "10861                              6                         \n",
       "10862                              7                         \n",
       "10863                              7                         \n",
       "\n",
       "[10864 rows x 66 columns]"
      ]
     },
     "execution_count": 16,
     "metadata": {},
     "output_type": "execute_result"
    }
   ],
   "source": [
    "url = \"https://raw.githubusercontent.com/eunyu1031/Media_interface_2020Spr/master/data/p19_mediapanel.csv\"\n",
    "\n",
    "data = pd.read_csv(url, encoding = 'utf-8')\n",
    "# data = pd.read_csv(url, encoding = 'utf-8', header = None) # 열 이름 없이 바로 데이터로 시작하는 경우\n",
    "data"
   ]
  },
  {
   "cell_type": "markdown",
   "metadata": {
    "colab_type": "text",
    "id": "skKcSzLqJMTW"
   },
   "source": [
    "데이터가 클수록 전체를 살펴보는 것은 효율적이지 않습니다. 다방면으로 간단하게 파악해 봅시다. \n",
    "\n",
    "__DataFrame.shape__는 행과 열의 수를 tuple로 return합니다."
   ]
  },
  {
   "cell_type": "code",
   "execution_count": 17,
   "metadata": {
    "colab": {
     "base_uri": "https://localhost:8080/",
     "height": 35
    },
    "colab_type": "code",
    "executionInfo": {
     "elapsed": 725,
     "status": "ok",
     "timestamp": 1586321867993,
     "user": {
      "displayName": "Eun Yu",
      "photoUrl": "https://lh3.googleusercontent.com/a-/AOh14GgEWsmf4FH7IRh7LjTXnuF85OLv2_K9vNCProM4=s64",
      "userId": "17784789244818192257"
     },
     "user_tz": -540
    },
    "id": "JKKB4GDkJMTX",
    "outputId": "de39c9ac-b8d9-45dd-f6ec-c0085313eeac",
    "scrolled": true
   },
   "outputs": [
    {
     "data": {
      "text/plain": [
       "(10864, 66)"
      ]
     },
     "execution_count": 17,
     "metadata": {},
     "output_type": "execute_result"
    }
   ],
   "source": [
    "data.shape"
   ]
  },
  {
   "cell_type": "markdown",
   "metadata": {
    "colab_type": "text",
    "id": "_AtbIJB5JMTY"
   },
   "source": [
    "__DataFrame.head()__는 해당 DataFrame의 첫 5행을 보여줍니다. 괄호 안에 숫자를 넣으면 해당 숫자만큼 행을 보여줍니다."
   ]
  },
  {
   "cell_type": "code",
   "execution_count": 18,
   "metadata": {
    "colab": {
     "base_uri": "https://localhost:8080/",
     "height": 224
    },
    "colab_type": "code",
    "executionInfo": {
     "elapsed": 622,
     "status": "ok",
     "timestamp": 1586321869228,
     "user": {
      "displayName": "Eun Yu",
      "photoUrl": "https://lh3.googleusercontent.com/a-/AOh14GgEWsmf4FH7IRh7LjTXnuF85OLv2_K9vNCProM4=s64",
      "userId": "17784789244818192257"
     },
     "user_tz": -540
    },
    "id": "Xw8-N870JMTZ",
    "outputId": "60c4d4a0-8da8-4b52-de81-bb2a5e3696c0",
    "scrolled": true
   },
   "outputs": [
    {
     "data": {
      "text/html": [
       "<div>\n",
       "<style scoped>\n",
       "    .dataframe tbody tr th:only-of-type {\n",
       "        vertical-align: middle;\n",
       "    }\n",
       "\n",
       "    .dataframe tbody tr th {\n",
       "        vertical-align: top;\n",
       "    }\n",
       "\n",
       "    .dataframe thead th {\n",
       "        text-align: right;\n",
       "    }\n",
       "</style>\n",
       "<table border=\"1\" class=\"dataframe\">\n",
       "  <thead>\n",
       "    <tr style=\"text-align: right;\">\n",
       "      <th></th>\n",
       "      <th>pid</th>\n",
       "      <th>hid</th>\n",
       "      <th>area</th>\n",
       "      <th>area_siz</th>\n",
       "      <th>hhld_siz</th>\n",
       "      <th>fly_typ</th>\n",
       "      <th>gender</th>\n",
       "      <th>byear</th>\n",
       "      <th>age_gr</th>\n",
       "      <th>age</th>\n",
       "      <th>...</th>\n",
       "      <th>news_med1</th>\n",
       "      <th>news_med2</th>\n",
       "      <th>news_med3</th>\n",
       "      <th>news_plat1</th>\n",
       "      <th>news_plat2</th>\n",
       "      <th>news_plat3</th>\n",
       "      <th>channel</th>\n",
       "      <th>shop</th>\n",
       "      <th>shop_dev</th>\n",
       "      <th>shop_pay</th>\n",
       "    </tr>\n",
       "  </thead>\n",
       "  <tbody>\n",
       "    <tr>\n",
       "      <th>0</th>\n",
       "      <td>10001</td>\n",
       "      <td>100</td>\n",
       "      <td>1</td>\n",
       "      <td>1</td>\n",
       "      <td>3</td>\n",
       "      <td>3</td>\n",
       "      <td>1</td>\n",
       "      <td>1967</td>\n",
       "      <td>6</td>\n",
       "      <td>52</td>\n",
       "      <td>...</td>\n",
       "      <td>3</td>\n",
       "      <td>4</td>\n",
       "      <td></td>\n",
       "      <td>3</td>\n",
       "      <td>2</td>\n",
       "      <td></td>\n",
       "      <td>1</td>\n",
       "      <td>1</td>\n",
       "      <td>1</td>\n",
       "      <td>2</td>\n",
       "    </tr>\n",
       "    <tr>\n",
       "      <th>1</th>\n",
       "      <td>10002</td>\n",
       "      <td>100</td>\n",
       "      <td>1</td>\n",
       "      <td>1</td>\n",
       "      <td>3</td>\n",
       "      <td>3</td>\n",
       "      <td>2</td>\n",
       "      <td>1972</td>\n",
       "      <td>5</td>\n",
       "      <td>47</td>\n",
       "      <td>...</td>\n",
       "      <td>3</td>\n",
       "      <td>4</td>\n",
       "      <td></td>\n",
       "      <td>3</td>\n",
       "      <td>2</td>\n",
       "      <td></td>\n",
       "      <td>3</td>\n",
       "      <td>1</td>\n",
       "      <td>1</td>\n",
       "      <td>2</td>\n",
       "    </tr>\n",
       "    <tr>\n",
       "      <th>2</th>\n",
       "      <td>20001</td>\n",
       "      <td>200</td>\n",
       "      <td>1</td>\n",
       "      <td>1</td>\n",
       "      <td>3</td>\n",
       "      <td>3</td>\n",
       "      <td>1</td>\n",
       "      <td>1965</td>\n",
       "      <td>6</td>\n",
       "      <td>54</td>\n",
       "      <td>...</td>\n",
       "      <td>4</td>\n",
       "      <td></td>\n",
       "      <td></td>\n",
       "      <td>3</td>\n",
       "      <td></td>\n",
       "      <td></td>\n",
       "      <td>7</td>\n",
       "      <td></td>\n",
       "      <td></td>\n",
       "      <td></td>\n",
       "    </tr>\n",
       "    <tr>\n",
       "      <th>3</th>\n",
       "      <td>30001</td>\n",
       "      <td>300</td>\n",
       "      <td>8</td>\n",
       "      <td>1</td>\n",
       "      <td>3</td>\n",
       "      <td>3</td>\n",
       "      <td>1</td>\n",
       "      <td>1971</td>\n",
       "      <td>5</td>\n",
       "      <td>48</td>\n",
       "      <td>...</td>\n",
       "      <td>3</td>\n",
       "      <td></td>\n",
       "      <td></td>\n",
       "      <td>3</td>\n",
       "      <td></td>\n",
       "      <td></td>\n",
       "      <td>1</td>\n",
       "      <td></td>\n",
       "      <td></td>\n",
       "      <td></td>\n",
       "    </tr>\n",
       "    <tr>\n",
       "      <th>4</th>\n",
       "      <td>30002</td>\n",
       "      <td>300</td>\n",
       "      <td>8</td>\n",
       "      <td>1</td>\n",
       "      <td>3</td>\n",
       "      <td>3</td>\n",
       "      <td>2</td>\n",
       "      <td>1974</td>\n",
       "      <td>5</td>\n",
       "      <td>45</td>\n",
       "      <td>...</td>\n",
       "      <td></td>\n",
       "      <td></td>\n",
       "      <td></td>\n",
       "      <td></td>\n",
       "      <td></td>\n",
       "      <td></td>\n",
       "      <td>1</td>\n",
       "      <td>1</td>\n",
       "      <td>3</td>\n",
       "      <td>1</td>\n",
       "    </tr>\n",
       "  </tbody>\n",
       "</table>\n",
       "<p>5 rows × 66 columns</p>\n",
       "</div>"
      ],
      "text/plain": [
       "     pid  hid  area  area_siz  hhld_siz  fly_typ  gender  byear  age_gr  age  \\\n",
       "0  10001  100     1         1         3        3       1   1967       6   52   \n",
       "1  10002  100     1         1         3        3       2   1972       5   47   \n",
       "2  20001  200     1         1         3        3       1   1965       6   54   \n",
       "3  30001  300     8         1         3        3       1   1971       5   48   \n",
       "4  30002  300     8         1         3        3       2   1974       5   45   \n",
       "\n",
       "   ...  news_med1  news_med2  news_med3 news_plat1 news_plat2  news_plat3  \\\n",
       "0  ...          3          4                     3          2               \n",
       "1  ...          3          4                     3          2               \n",
       "2  ...          4                                3                          \n",
       "3  ...          3                                3                          \n",
       "4  ...                                                                      \n",
       "\n",
       "  channel shop shop_dev shop_pay  \n",
       "0       1    1        1        2  \n",
       "1       3    1        1        2  \n",
       "2       7                         \n",
       "3       1                         \n",
       "4       1    1        3        1  \n",
       "\n",
       "[5 rows x 66 columns]"
      ]
     },
     "execution_count": 18,
     "metadata": {},
     "output_type": "execute_result"
    }
   ],
   "source": [
    "data.head()"
   ]
  },
  {
   "cell_type": "code",
   "execution_count": 19,
   "metadata": {
    "colab": {
     "base_uri": "https://localhost:8080/",
     "height": 286
    },
    "colab_type": "code",
    "executionInfo": {
     "elapsed": 995,
     "status": "ok",
     "timestamp": 1586321870582,
     "user": {
      "displayName": "Eun Yu",
      "photoUrl": "https://lh3.googleusercontent.com/a-/AOh14GgEWsmf4FH7IRh7LjTXnuF85OLv2_K9vNCProM4=s64",
      "userId": "17784789244818192257"
     },
     "user_tz": -540
    },
    "id": "IDrdUqC3JMTa",
    "outputId": "2a817f02-cae1-456a-8c8a-30a63699a744",
    "scrolled": true
   },
   "outputs": [
    {
     "data": {
      "text/html": [
       "<div>\n",
       "<style scoped>\n",
       "    .dataframe tbody tr th:only-of-type {\n",
       "        vertical-align: middle;\n",
       "    }\n",
       "\n",
       "    .dataframe tbody tr th {\n",
       "        vertical-align: top;\n",
       "    }\n",
       "\n",
       "    .dataframe thead th {\n",
       "        text-align: right;\n",
       "    }\n",
       "</style>\n",
       "<table border=\"1\" class=\"dataframe\">\n",
       "  <thead>\n",
       "    <tr style=\"text-align: right;\">\n",
       "      <th></th>\n",
       "      <th>pid</th>\n",
       "      <th>hid</th>\n",
       "      <th>area</th>\n",
       "      <th>area_siz</th>\n",
       "      <th>hhld_siz</th>\n",
       "      <th>fly_typ</th>\n",
       "      <th>gender</th>\n",
       "      <th>byear</th>\n",
       "      <th>age_gr</th>\n",
       "      <th>age</th>\n",
       "      <th>...</th>\n",
       "      <th>news_med1</th>\n",
       "      <th>news_med2</th>\n",
       "      <th>news_med3</th>\n",
       "      <th>news_plat1</th>\n",
       "      <th>news_plat2</th>\n",
       "      <th>news_plat3</th>\n",
       "      <th>channel</th>\n",
       "      <th>shop</th>\n",
       "      <th>shop_dev</th>\n",
       "      <th>shop_pay</th>\n",
       "    </tr>\n",
       "  </thead>\n",
       "  <tbody>\n",
       "    <tr>\n",
       "      <th>0</th>\n",
       "      <td>10001</td>\n",
       "      <td>100</td>\n",
       "      <td>1</td>\n",
       "      <td>1</td>\n",
       "      <td>3</td>\n",
       "      <td>3</td>\n",
       "      <td>1</td>\n",
       "      <td>1967</td>\n",
       "      <td>6</td>\n",
       "      <td>52</td>\n",
       "      <td>...</td>\n",
       "      <td>3</td>\n",
       "      <td>4</td>\n",
       "      <td></td>\n",
       "      <td>3</td>\n",
       "      <td>2</td>\n",
       "      <td></td>\n",
       "      <td>1</td>\n",
       "      <td>1</td>\n",
       "      <td>1</td>\n",
       "      <td>2</td>\n",
       "    </tr>\n",
       "    <tr>\n",
       "      <th>1</th>\n",
       "      <td>10002</td>\n",
       "      <td>100</td>\n",
       "      <td>1</td>\n",
       "      <td>1</td>\n",
       "      <td>3</td>\n",
       "      <td>3</td>\n",
       "      <td>2</td>\n",
       "      <td>1972</td>\n",
       "      <td>5</td>\n",
       "      <td>47</td>\n",
       "      <td>...</td>\n",
       "      <td>3</td>\n",
       "      <td>4</td>\n",
       "      <td></td>\n",
       "      <td>3</td>\n",
       "      <td>2</td>\n",
       "      <td></td>\n",
       "      <td>3</td>\n",
       "      <td>1</td>\n",
       "      <td>1</td>\n",
       "      <td>2</td>\n",
       "    </tr>\n",
       "    <tr>\n",
       "      <th>2</th>\n",
       "      <td>20001</td>\n",
       "      <td>200</td>\n",
       "      <td>1</td>\n",
       "      <td>1</td>\n",
       "      <td>3</td>\n",
       "      <td>3</td>\n",
       "      <td>1</td>\n",
       "      <td>1965</td>\n",
       "      <td>6</td>\n",
       "      <td>54</td>\n",
       "      <td>...</td>\n",
       "      <td>4</td>\n",
       "      <td></td>\n",
       "      <td></td>\n",
       "      <td>3</td>\n",
       "      <td></td>\n",
       "      <td></td>\n",
       "      <td>7</td>\n",
       "      <td></td>\n",
       "      <td></td>\n",
       "      <td></td>\n",
       "    </tr>\n",
       "    <tr>\n",
       "      <th>3</th>\n",
       "      <td>30001</td>\n",
       "      <td>300</td>\n",
       "      <td>8</td>\n",
       "      <td>1</td>\n",
       "      <td>3</td>\n",
       "      <td>3</td>\n",
       "      <td>1</td>\n",
       "      <td>1971</td>\n",
       "      <td>5</td>\n",
       "      <td>48</td>\n",
       "      <td>...</td>\n",
       "      <td>3</td>\n",
       "      <td></td>\n",
       "      <td></td>\n",
       "      <td>3</td>\n",
       "      <td></td>\n",
       "      <td></td>\n",
       "      <td>1</td>\n",
       "      <td></td>\n",
       "      <td></td>\n",
       "      <td></td>\n",
       "    </tr>\n",
       "    <tr>\n",
       "      <th>4</th>\n",
       "      <td>30002</td>\n",
       "      <td>300</td>\n",
       "      <td>8</td>\n",
       "      <td>1</td>\n",
       "      <td>3</td>\n",
       "      <td>3</td>\n",
       "      <td>2</td>\n",
       "      <td>1974</td>\n",
       "      <td>5</td>\n",
       "      <td>45</td>\n",
       "      <td>...</td>\n",
       "      <td></td>\n",
       "      <td></td>\n",
       "      <td></td>\n",
       "      <td></td>\n",
       "      <td></td>\n",
       "      <td></td>\n",
       "      <td>1</td>\n",
       "      <td>1</td>\n",
       "      <td>3</td>\n",
       "      <td>1</td>\n",
       "    </tr>\n",
       "    <tr>\n",
       "      <th>5</th>\n",
       "      <td>30003</td>\n",
       "      <td>300</td>\n",
       "      <td>8</td>\n",
       "      <td>1</td>\n",
       "      <td>3</td>\n",
       "      <td>3</td>\n",
       "      <td>1</td>\n",
       "      <td>2002</td>\n",
       "      <td>2</td>\n",
       "      <td>17</td>\n",
       "      <td>...</td>\n",
       "      <td></td>\n",
       "      <td></td>\n",
       "      <td></td>\n",
       "      <td></td>\n",
       "      <td></td>\n",
       "      <td></td>\n",
       "      <td>8</td>\n",
       "      <td></td>\n",
       "      <td></td>\n",
       "      <td></td>\n",
       "    </tr>\n",
       "    <tr>\n",
       "      <th>6</th>\n",
       "      <td>30004</td>\n",
       "      <td>300</td>\n",
       "      <td>8</td>\n",
       "      <td>1</td>\n",
       "      <td>3</td>\n",
       "      <td>3</td>\n",
       "      <td>1</td>\n",
       "      <td>2008</td>\n",
       "      <td>2</td>\n",
       "      <td>11</td>\n",
       "      <td>...</td>\n",
       "      <td></td>\n",
       "      <td></td>\n",
       "      <td></td>\n",
       "      <td></td>\n",
       "      <td></td>\n",
       "      <td></td>\n",
       "      <td></td>\n",
       "      <td></td>\n",
       "      <td></td>\n",
       "      <td></td>\n",
       "    </tr>\n",
       "  </tbody>\n",
       "</table>\n",
       "<p>7 rows × 66 columns</p>\n",
       "</div>"
      ],
      "text/plain": [
       "     pid  hid  area  area_siz  hhld_siz  fly_typ  gender  byear  age_gr  age  \\\n",
       "0  10001  100     1         1         3        3       1   1967       6   52   \n",
       "1  10002  100     1         1         3        3       2   1972       5   47   \n",
       "2  20001  200     1         1         3        3       1   1965       6   54   \n",
       "3  30001  300     8         1         3        3       1   1971       5   48   \n",
       "4  30002  300     8         1         3        3       2   1974       5   45   \n",
       "5  30003  300     8         1         3        3       1   2002       2   17   \n",
       "6  30004  300     8         1         3        3       1   2008       2   11   \n",
       "\n",
       "   ...  news_med1  news_med2  news_med3 news_plat1 news_plat2  news_plat3  \\\n",
       "0  ...          3          4                     3          2               \n",
       "1  ...          3          4                     3          2               \n",
       "2  ...          4                                3                          \n",
       "3  ...          3                                3                          \n",
       "4  ...                                                                      \n",
       "5  ...                                                                      \n",
       "6  ...                                                                      \n",
       "\n",
       "  channel shop shop_dev shop_pay  \n",
       "0       1    1        1        2  \n",
       "1       3    1        1        2  \n",
       "2       7                         \n",
       "3       1                         \n",
       "4       1    1        3        1  \n",
       "5       8                         \n",
       "6                                 \n",
       "\n",
       "[7 rows x 66 columns]"
      ]
     },
     "execution_count": 19,
     "metadata": {},
     "output_type": "execute_result"
    }
   ],
   "source": [
    "data.head(7)"
   ]
  },
  {
   "cell_type": "markdown",
   "metadata": {},
   "source": [
    "DataFrame.tail()은 뒤에서부터 다섯 행을 보여줍니다."
   ]
  },
  {
   "cell_type": "code",
   "execution_count": 20,
   "metadata": {},
   "outputs": [
    {
     "data": {
      "text/html": [
       "<div>\n",
       "<style scoped>\n",
       "    .dataframe tbody tr th:only-of-type {\n",
       "        vertical-align: middle;\n",
       "    }\n",
       "\n",
       "    .dataframe tbody tr th {\n",
       "        vertical-align: top;\n",
       "    }\n",
       "\n",
       "    .dataframe thead th {\n",
       "        text-align: right;\n",
       "    }\n",
       "</style>\n",
       "<table border=\"1\" class=\"dataframe\">\n",
       "  <thead>\n",
       "    <tr style=\"text-align: right;\">\n",
       "      <th></th>\n",
       "      <th>pid</th>\n",
       "      <th>hid</th>\n",
       "      <th>area</th>\n",
       "      <th>area_siz</th>\n",
       "      <th>hhld_siz</th>\n",
       "      <th>fly_typ</th>\n",
       "      <th>gender</th>\n",
       "      <th>byear</th>\n",
       "      <th>age_gr</th>\n",
       "      <th>age</th>\n",
       "      <th>...</th>\n",
       "      <th>news_med1</th>\n",
       "      <th>news_med2</th>\n",
       "      <th>news_med3</th>\n",
       "      <th>news_plat1</th>\n",
       "      <th>news_plat2</th>\n",
       "      <th>news_plat3</th>\n",
       "      <th>channel</th>\n",
       "      <th>shop</th>\n",
       "      <th>shop_dev</th>\n",
       "      <th>shop_pay</th>\n",
       "    </tr>\n",
       "  </thead>\n",
       "  <tbody>\n",
       "    <tr>\n",
       "      <th>10859</th>\n",
       "      <td>118290002</td>\n",
       "      <td>1182900</td>\n",
       "      <td>16</td>\n",
       "      <td>1</td>\n",
       "      <td>3</td>\n",
       "      <td>3</td>\n",
       "      <td>1</td>\n",
       "      <td>1983</td>\n",
       "      <td>4</td>\n",
       "      <td>36</td>\n",
       "      <td>...</td>\n",
       "      <td></td>\n",
       "      <td></td>\n",
       "      <td></td>\n",
       "      <td></td>\n",
       "      <td></td>\n",
       "      <td></td>\n",
       "      <td>1</td>\n",
       "      <td></td>\n",
       "      <td></td>\n",
       "      <td></td>\n",
       "    </tr>\n",
       "    <tr>\n",
       "      <th>10860</th>\n",
       "      <td>118300001</td>\n",
       "      <td>1183000</td>\n",
       "      <td>16</td>\n",
       "      <td>1</td>\n",
       "      <td>2</td>\n",
       "      <td>3</td>\n",
       "      <td>1</td>\n",
       "      <td>1995</td>\n",
       "      <td>3</td>\n",
       "      <td>24</td>\n",
       "      <td>...</td>\n",
       "      <td></td>\n",
       "      <td></td>\n",
       "      <td></td>\n",
       "      <td></td>\n",
       "      <td></td>\n",
       "      <td></td>\n",
       "      <td>3</td>\n",
       "      <td>1</td>\n",
       "      <td>1</td>\n",
       "      <td>1</td>\n",
       "    </tr>\n",
       "    <tr>\n",
       "      <th>10861</th>\n",
       "      <td>118310001</td>\n",
       "      <td>1183100</td>\n",
       "      <td>16</td>\n",
       "      <td>1</td>\n",
       "      <td>1</td>\n",
       "      <td>1</td>\n",
       "      <td>2</td>\n",
       "      <td>1939</td>\n",
       "      <td>8</td>\n",
       "      <td>80</td>\n",
       "      <td>...</td>\n",
       "      <td></td>\n",
       "      <td></td>\n",
       "      <td></td>\n",
       "      <td></td>\n",
       "      <td></td>\n",
       "      <td></td>\n",
       "      <td>6</td>\n",
       "      <td></td>\n",
       "      <td></td>\n",
       "      <td></td>\n",
       "    </tr>\n",
       "    <tr>\n",
       "      <th>10862</th>\n",
       "      <td>118320001</td>\n",
       "      <td>1183200</td>\n",
       "      <td>16</td>\n",
       "      <td>1</td>\n",
       "      <td>1</td>\n",
       "      <td>1</td>\n",
       "      <td>2</td>\n",
       "      <td>1940</td>\n",
       "      <td>8</td>\n",
       "      <td>79</td>\n",
       "      <td>...</td>\n",
       "      <td></td>\n",
       "      <td></td>\n",
       "      <td></td>\n",
       "      <td></td>\n",
       "      <td></td>\n",
       "      <td></td>\n",
       "      <td>7</td>\n",
       "      <td></td>\n",
       "      <td></td>\n",
       "      <td></td>\n",
       "    </tr>\n",
       "    <tr>\n",
       "      <th>10863</th>\n",
       "      <td>118330001</td>\n",
       "      <td>1183300</td>\n",
       "      <td>16</td>\n",
       "      <td>1</td>\n",
       "      <td>2</td>\n",
       "      <td>3</td>\n",
       "      <td>2</td>\n",
       "      <td>1947</td>\n",
       "      <td>8</td>\n",
       "      <td>72</td>\n",
       "      <td>...</td>\n",
       "      <td></td>\n",
       "      <td></td>\n",
       "      <td></td>\n",
       "      <td></td>\n",
       "      <td></td>\n",
       "      <td></td>\n",
       "      <td>7</td>\n",
       "      <td></td>\n",
       "      <td></td>\n",
       "      <td></td>\n",
       "    </tr>\n",
       "  </tbody>\n",
       "</table>\n",
       "<p>5 rows × 66 columns</p>\n",
       "</div>"
      ],
      "text/plain": [
       "             pid      hid  area  area_siz  hhld_siz  fly_typ  gender  byear  \\\n",
       "10859  118290002  1182900    16         1         3        3       1   1983   \n",
       "10860  118300001  1183000    16         1         2        3       1   1995   \n",
       "10861  118310001  1183100    16         1         1        1       2   1939   \n",
       "10862  118320001  1183200    16         1         1        1       2   1940   \n",
       "10863  118330001  1183300    16         1         2        3       2   1947   \n",
       "\n",
       "       age_gr  age  ...  news_med1  news_med2  news_med3 news_plat1  \\\n",
       "10859       4   36  ...                                               \n",
       "10860       3   24  ...                                               \n",
       "10861       8   80  ...                                               \n",
       "10862       8   79  ...                                               \n",
       "10863       8   72  ...                                               \n",
       "\n",
       "      news_plat2  news_plat3 channel shop shop_dev shop_pay  \n",
       "10859                              1                         \n",
       "10860                              3    1        1        1  \n",
       "10861                              6                         \n",
       "10862                              7                         \n",
       "10863                              7                         \n",
       "\n",
       "[5 rows x 66 columns]"
      ]
     },
     "execution_count": 20,
     "metadata": {},
     "output_type": "execute_result"
    }
   ],
   "source": [
    "data.tail()"
   ]
  },
  {
   "cell_type": "markdown",
   "metadata": {
    "colab_type": "text",
    "id": "iiPsyvgoJMTc"
   },
   "source": [
    "여러 정보들을 계속 살펴봅시다."
   ]
  },
  {
   "cell_type": "code",
   "execution_count": 21,
   "metadata": {
    "colab": {
     "base_uri": "https://localhost:8080/",
     "height": 233
    },
    "colab_type": "code",
    "executionInfo": {
     "elapsed": 720,
     "status": "ok",
     "timestamp": 1586321872558,
     "user": {
      "displayName": "Eun Yu",
      "photoUrl": "https://lh3.googleusercontent.com/a-/AOh14GgEWsmf4FH7IRh7LjTXnuF85OLv2_K9vNCProM4=s64",
      "userId": "17784789244818192257"
     },
     "user_tz": -540
    },
    "id": "3lzGUWYRJMTd",
    "outputId": "5e5c0e89-1e2d-4024-a884-c8f6a32020d7"
   },
   "outputs": [
    {
     "data": {
      "text/plain": [
       "Index(['pid', 'hid', 'area', 'area_siz', 'hhld_siz', 'fly_typ', 'gender',\n",
       "       'byear', 'age_gr', 'age', 'marry', 'income_gr', 'job', 'job_type',\n",
       "       'job_etc', 'mob_use', 'mob_num', 'mob_csp', 'mob_dev', 'c01', 'c01_gr',\n",
       "       'c02', 'c02_gr', 'c03', 'c03_gr', 'c04', 'c04_gr', 'c05', 'c05_gr',\n",
       "       'app_pay', 'appin_pay', 'app_num', 'app_num_gr', 'appin_num',\n",
       "       'appin_gr', 'c06', 'c06_gr', 'freq_app1', 'freq_app2', 'freq_app3',\n",
       "       'sns_use', 'freq_sns1', 'freq_sns2', 'freq_sns3', 'cmt_board',\n",
       "       'wt_board', 'wt_news', 'rating', 'wt_wiki', 'wt_sns', 'rating_sns',\n",
       "       'sns_read', 'sns_write', 'sns_share', 'sns_eng', 'sns_priv',\n",
       "       'news_med1', 'news_med2', 'news_med3', 'news_plat1', 'news_plat2',\n",
       "       'news_plat3', 'channel', 'shop', 'shop_dev', 'shop_pay'],\n",
       "      dtype='object')"
      ]
     },
     "execution_count": 21,
     "metadata": {},
     "output_type": "execute_result"
    }
   ],
   "source": [
    "data.columns"
   ]
  },
  {
   "cell_type": "markdown",
   "metadata": {
    "colab_type": "text",
    "id": "V6r50UnZJMTf"
   },
   "source": [
    "__DataFrame.nunique()__는 중복되는 값 없이 해당 열(column)에 있는 유일한 값의 개수를 출력합니다."
   ]
  },
  {
   "cell_type": "code",
   "execution_count": 22,
   "metadata": {
    "colab": {
     "base_uri": "https://localhost:8080/",
     "height": 233
    },
    "colab_type": "code",
    "executionInfo": {
     "elapsed": 778,
     "status": "ok",
     "timestamp": 1586321874088,
     "user": {
      "displayName": "Eun Yu",
      "photoUrl": "https://lh3.googleusercontent.com/a-/AOh14GgEWsmf4FH7IRh7LjTXnuF85OLv2_K9vNCProM4=s64",
      "userId": "17784789244818192257"
     },
     "user_tz": -540
    },
    "id": "NtYjvbvrJMTf",
    "outputId": "5ffb3a67-4c29-412a-a535-0858559135ee"
   },
   "outputs": [
    {
     "data": {
      "text/plain": [
       "pid           10864\n",
       "hid            4583\n",
       "area             17\n",
       "area_siz          2\n",
       "hhld_siz          3\n",
       "              ...  \n",
       "news_plat3        5\n",
       "channel           9\n",
       "shop              3\n",
       "shop_dev          4\n",
       "shop_pay          7\n",
       "Length: 66, dtype: int64"
      ]
     },
     "execution_count": 22,
     "metadata": {},
     "output_type": "execute_result"
    }
   ],
   "source": [
    "data.nunique()"
   ]
  },
  {
   "cell_type": "code",
   "execution_count": 23,
   "metadata": {
    "colab": {
     "base_uri": "https://localhost:8080/",
     "height": 35
    },
    "colab_type": "code",
    "executionInfo": {
     "elapsed": 966,
     "status": "ok",
     "timestamp": 1586321875743,
     "user": {
      "displayName": "Eun Yu",
      "photoUrl": "https://lh3.googleusercontent.com/a-/AOh14GgEWsmf4FH7IRh7LjTXnuF85OLv2_K9vNCProM4=s64",
      "userId": "17784789244818192257"
     },
     "user_tz": -540
    },
    "id": "GvWZJAH9JMTh",
    "outputId": "c53cc656-a999-4563-c304-ca6548bd11e1"
   },
   "outputs": [
    {
     "data": {
      "text/plain": [
       "4"
      ]
     },
     "execution_count": 23,
     "metadata": {},
     "output_type": "execute_result"
    }
   ],
   "source": [
    "data['marry'].nunique()"
   ]
  },
  {
   "cell_type": "markdown",
   "metadata": {
    "colab_type": "text",
    "id": "y9cnid5KJMTn"
   },
   "source": [
    "__Series.unique()__는 중복되는 값 없이 해당 열(column)에 있는 유일한 값을 출력합니다."
   ]
  },
  {
   "cell_type": "code",
   "execution_count": 24,
   "metadata": {
    "colab": {
     "base_uri": "https://localhost:8080/",
     "height": 35
    },
    "colab_type": "code",
    "executionInfo": {
     "elapsed": 929,
     "status": "ok",
     "timestamp": 1586321877882,
     "user": {
      "displayName": "Eun Yu",
      "photoUrl": "https://lh3.googleusercontent.com/a-/AOh14GgEWsmf4FH7IRh7LjTXnuF85OLv2_K9vNCProM4=s64",
      "userId": "17784789244818192257"
     },
     "user_tz": -540
    },
    "id": "leEeWYNbJMTo",
    "outputId": "71329cf0-6144-40cd-9eed-b3d1b54d4219"
   },
   "outputs": [
    {
     "data": {
      "text/plain": [
       "array([2, 1, 3, 4], dtype=int64)"
      ]
     },
     "execution_count": 24,
     "metadata": {},
     "output_type": "execute_result"
    }
   ],
   "source": [
    "data['marry'].unique()"
   ]
  },
  {
   "cell_type": "markdown",
   "metadata": {
    "colab_type": "text",
    "id": "NMsiAwOkJMTr"
   },
   "source": [
    "__Series.value_counts()__는 중복되는 값 없이 해당 열(column)에 있는 유일한 값이 각각 몇 번 나타나는지 빈도를 출력합니다. "
   ]
  },
  {
   "cell_type": "code",
   "execution_count": 25,
   "metadata": {
    "colab": {
     "base_uri": "https://localhost:8080/",
     "height": 1000
    },
    "colab_type": "code",
    "executionInfo": {
     "elapsed": 715,
     "status": "ok",
     "timestamp": 1586321879713,
     "user": {
      "displayName": "Eun Yu",
      "photoUrl": "https://lh3.googleusercontent.com/a-/AOh14GgEWsmf4FH7IRh7LjTXnuF85OLv2_K9vNCProM4=s64",
      "userId": "17784789244818192257"
     },
     "user_tz": -540
    },
    "id": "1vTHtv1JJMTr",
    "outputId": "6b953458-57bd-45d4-d918-e958363cb0d3"
   },
   "outputs": [
    {
     "name": "stdout",
     "output_type": "stream",
     "text": [
      "Help on function value_counts in module pandas.core.base:\n",
      "\n",
      "value_counts(self, normalize=False, sort=True, ascending=False, bins=None, dropna=True)\n",
      "    Return a Series containing counts of unique values.\n",
      "    \n",
      "    The resulting object will be in descending order so that the\n",
      "    first element is the most frequently-occurring element.\n",
      "    Excludes NA values by default.\n",
      "    \n",
      "    Parameters\n",
      "    ----------\n",
      "    normalize : bool, default False\n",
      "        If True then the object returned will contain the relative\n",
      "        frequencies of the unique values.\n",
      "    sort : bool, default True\n",
      "        Sort by frequencies.\n",
      "    ascending : bool, default False\n",
      "        Sort in ascending order.\n",
      "    bins : int, optional\n",
      "        Rather than count values, group them into half-open bins,\n",
      "        a convenience for ``pd.cut``, only works with numeric data.\n",
      "    dropna : bool, default True\n",
      "        Don't include counts of NaN.\n",
      "    \n",
      "    Returns\n",
      "    -------\n",
      "    Series\n",
      "    \n",
      "    See Also\n",
      "    --------\n",
      "    Series.count: Number of non-NA elements in a Series.\n",
      "    DataFrame.count: Number of non-NA elements in a DataFrame.\n",
      "    \n",
      "    Examples\n",
      "    --------\n",
      "    >>> index = pd.Index([3, 1, 2, 3, 4, np.nan])\n",
      "    >>> index.value_counts()\n",
      "    3.0    2\n",
      "    4.0    1\n",
      "    2.0    1\n",
      "    1.0    1\n",
      "    dtype: int64\n",
      "    \n",
      "    With `normalize` set to `True`, returns the relative frequency by\n",
      "    dividing all values by the sum of values.\n",
      "    \n",
      "    >>> s = pd.Series([3, 1, 2, 3, 4, np.nan])\n",
      "    >>> s.value_counts(normalize=True)\n",
      "    3.0    0.4\n",
      "    4.0    0.2\n",
      "    2.0    0.2\n",
      "    1.0    0.2\n",
      "    dtype: float64\n",
      "    \n",
      "    **bins**\n",
      "    \n",
      "    Bins can be useful for going from a continuous variable to a\n",
      "    categorical variable; instead of counting unique\n",
      "    apparitions of values, divide the index in the specified\n",
      "    number of half-open bins.\n",
      "    \n",
      "    >>> s.value_counts(bins=3)\n",
      "    (2.0, 3.0]      2\n",
      "    (0.996, 2.0]    2\n",
      "    (3.0, 4.0]      1\n",
      "    dtype: int64\n",
      "    \n",
      "    **dropna**\n",
      "    \n",
      "    With `dropna` set to `False` we can also see NaN index values.\n",
      "    \n",
      "    >>> s.value_counts(dropna=False)\n",
      "    3.0    2\n",
      "    NaN    1\n",
      "    4.0    1\n",
      "    2.0    1\n",
      "    1.0    1\n",
      "    dtype: int64\n",
      "\n"
     ]
    }
   ],
   "source": [
    "help(Series.value_counts)"
   ]
  },
  {
   "cell_type": "code",
   "execution_count": 26,
   "metadata": {
    "colab": {
     "base_uri": "https://localhost:8080/",
     "height": 107
    },
    "colab_type": "code",
    "executionInfo": {
     "elapsed": 690,
     "status": "ok",
     "timestamp": 1586321881448,
     "user": {
      "displayName": "Eun Yu",
      "photoUrl": "https://lh3.googleusercontent.com/a-/AOh14GgEWsmf4FH7IRh7LjTXnuF85OLv2_K9vNCProM4=s64",
      "userId": "17784789244818192257"
     },
     "user_tz": -540
    },
    "id": "u1Z54h8bJMTt",
    "outputId": "9ec00ae3-d8c1-4cc2-fe32-bd710fe2bcc1"
   },
   "outputs": [
    {
     "data": {
      "text/plain": [
       "2    6481\n",
       "1    3286\n",
       "3     858\n",
       "4     239\n",
       "Name: marry, dtype: int64"
      ]
     },
     "execution_count": 26,
     "metadata": {},
     "output_type": "execute_result"
    }
   ],
   "source": [
    "data['marry'].value_counts()"
   ]
  },
  {
   "cell_type": "markdown",
   "metadata": {
    "colab_type": "text",
    "id": "QC1GT2zEJMTu"
   },
   "source": [
    "백분율을 보고 싶으면 normalize = True로 바꿉니다."
   ]
  },
  {
   "cell_type": "code",
   "execution_count": 27,
   "metadata": {
    "colab": {
     "base_uri": "https://localhost:8080/",
     "height": 107
    },
    "colab_type": "code",
    "executionInfo": {
     "elapsed": 722,
     "status": "ok",
     "timestamp": 1586321883034,
     "user": {
      "displayName": "Eun Yu",
      "photoUrl": "https://lh3.googleusercontent.com/a-/AOh14GgEWsmf4FH7IRh7LjTXnuF85OLv2_K9vNCProM4=s64",
      "userId": "17784789244818192257"
     },
     "user_tz": -540
    },
    "id": "5-dfF3WlJMTv",
    "outputId": "6a468d4f-453f-4a89-c8e5-693d22c4cecf"
   },
   "outputs": [
    {
     "data": {
      "text/plain": [
       "2    0.596557\n",
       "1    0.302467\n",
       "3    0.078976\n",
       "4    0.021999\n",
       "Name: marry, dtype: float64"
      ]
     },
     "execution_count": 27,
     "metadata": {},
     "output_type": "execute_result"
    }
   ],
   "source": [
    "data['marry'].value_counts(normalize = True)"
   ]
  },
  {
   "cell_type": "markdown",
   "metadata": {
    "colab_type": "text",
    "id": "fM7jS2PVJMTx"
   },
   "source": [
    "value_counts()의 결과에서 기본적으로 가장 자주 등장하는 값이 먼저 정렬됩니다. 빈도가 아닌 인덱스(index) 순서대로 보고 싶으면 sort_values()가 아닌 sort_index()를 활용해야 합니다. "
   ]
  },
  {
   "cell_type": "code",
   "execution_count": 28,
   "metadata": {
    "colab": {
     "base_uri": "https://localhost:8080/",
     "height": 107
    },
    "colab_type": "code",
    "executionInfo": {
     "elapsed": 797,
     "status": "ok",
     "timestamp": 1586321884887,
     "user": {
      "displayName": "Eun Yu",
      "photoUrl": "https://lh3.googleusercontent.com/a-/AOh14GgEWsmf4FH7IRh7LjTXnuF85OLv2_K9vNCProM4=s64",
      "userId": "17784789244818192257"
     },
     "user_tz": -540
    },
    "id": "_fUYZdf4JMTx",
    "outputId": "6a020fe3-c05f-4422-c766-160aa7f70886"
   },
   "outputs": [
    {
     "data": {
      "text/plain": [
       "1    3286\n",
       "2    6481\n",
       "3     858\n",
       "4     239\n",
       "Name: marry, dtype: int64"
      ]
     },
     "execution_count": 28,
     "metadata": {},
     "output_type": "execute_result"
    }
   ],
   "source": [
    "data['marry'].value_counts().sort_index()"
   ]
  },
  {
   "cell_type": "markdown",
   "metadata": {
    "colab_type": "text",
    "id": "RMLxw5JEJMTz"
   },
   "source": [
    "__DataFrame.info()__는 DataFrame의 기본정보를 보여줍니다.\n",
    "- DataFrame 'data'는 10864행 66열로 구성되었습니다.\n",
    "- int 자료형인 열이 22개, object 자료형이 44개 있습니다. DataFrame에서는 문자열을 비롯해서 길이가 정해져 있지 않은 값은 object로 처리합니다.\n",
    "- null은 비어있다는 표시입니다. 모든 데이터에 빈 값이 없습니다. 정말일까요?"
   ]
  },
  {
   "cell_type": "code",
   "execution_count": 29,
   "metadata": {
    "colab": {
     "base_uri": "https://localhost:8080/",
     "height": 1000
    },
    "colab_type": "code",
    "executionInfo": {
     "elapsed": 801,
     "status": "ok",
     "timestamp": 1586321886824,
     "user": {
      "displayName": "Eun Yu",
      "photoUrl": "https://lh3.googleusercontent.com/a-/AOh14GgEWsmf4FH7IRh7LjTXnuF85OLv2_K9vNCProM4=s64",
      "userId": "17784789244818192257"
     },
     "user_tz": -540
    },
    "id": "j8Osa790JMTz",
    "outputId": "71c81971-6f0b-421d-ad80-b4ce4578f9af"
   },
   "outputs": [
    {
     "name": "stdout",
     "output_type": "stream",
     "text": [
      "<class 'pandas.core.frame.DataFrame'>\n",
      "RangeIndex: 10864 entries, 0 to 10863\n",
      "Data columns (total 66 columns):\n",
      " #   Column      Non-Null Count  Dtype \n",
      "---  ------      --------------  ----- \n",
      " 0   pid         10864 non-null  int64 \n",
      " 1   hid         10864 non-null  int64 \n",
      " 2   area        10864 non-null  int64 \n",
      " 3   area_siz    10864 non-null  int64 \n",
      " 4   hhld_siz    10864 non-null  int64 \n",
      " 5   fly_typ     10864 non-null  int64 \n",
      " 6   gender      10864 non-null  int64 \n",
      " 7   byear       10864 non-null  int64 \n",
      " 8   age_gr      10864 non-null  int64 \n",
      " 9   age         10864 non-null  int64 \n",
      " 10  marry       10864 non-null  int64 \n",
      " 11  income_gr   10864 non-null  int64 \n",
      " 12  job         10864 non-null  int64 \n",
      " 13  job_type    10864 non-null  object\n",
      " 14  job_etc     10864 non-null  object\n",
      " 15  mob_use     10864 non-null  int64 \n",
      " 16  mob_num     10864 non-null  object\n",
      " 17  mob_csp     10864 non-null  object\n",
      " 18  mob_dev     10864 non-null  object\n",
      " 19  c01         10864 non-null  object\n",
      " 20  c01_gr      10864 non-null  object\n",
      " 21  c02         10864 non-null  object\n",
      " 22  c02_gr      10864 non-null  object\n",
      " 23  c03         10864 non-null  object\n",
      " 24  c03_gr      10864 non-null  object\n",
      " 25  c04         10864 non-null  object\n",
      " 26  c04_gr      10864 non-null  object\n",
      " 27  c05         10864 non-null  object\n",
      " 28  c05_gr      10864 non-null  object\n",
      " 29  app_pay     10864 non-null  object\n",
      " 30  appin_pay   10864 non-null  object\n",
      " 31  app_num     10864 non-null  object\n",
      " 32  app_num_gr  10864 non-null  object\n",
      " 33  appin_num   10864 non-null  object\n",
      " 34  appin_gr    10864 non-null  object\n",
      " 35  c06         10864 non-null  object\n",
      " 36  c06_gr      10864 non-null  object\n",
      " 37  freq_app1   10864 non-null  object\n",
      " 38  freq_app2   10864 non-null  object\n",
      " 39  freq_app3   10864 non-null  object\n",
      " 40  sns_use     10864 non-null  int64 \n",
      " 41  freq_sns1   10864 non-null  object\n",
      " 42  freq_sns2   10864 non-null  object\n",
      " 43  freq_sns3   10864 non-null  object\n",
      " 44  cmt_board   10864 non-null  int64 \n",
      " 45  wt_board    10864 non-null  int64 \n",
      " 46  wt_news     10864 non-null  int64 \n",
      " 47  rating      10864 non-null  int64 \n",
      " 48  wt_wiki     10864 non-null  int64 \n",
      " 49  wt_sns      10864 non-null  int64 \n",
      " 50  rating_sns  10864 non-null  int64 \n",
      " 51  sns_read    10864 non-null  object\n",
      " 52  sns_write   10864 non-null  object\n",
      " 53  sns_share   10864 non-null  object\n",
      " 54  sns_eng     10864 non-null  object\n",
      " 55  sns_priv    10864 non-null  object\n",
      " 56  news_med1   10864 non-null  object\n",
      " 57  news_med2   10864 non-null  object\n",
      " 58  news_med3   10864 non-null  object\n",
      " 59  news_plat1  10864 non-null  object\n",
      " 60  news_plat2  10864 non-null  object\n",
      " 61  news_plat3  10864 non-null  object\n",
      " 62  channel     10864 non-null  object\n",
      " 63  shop        10864 non-null  object\n",
      " 64  shop_dev    10864 non-null  object\n",
      " 65  shop_pay    10864 non-null  object\n",
      "dtypes: int64(22), object(44)\n",
      "memory usage: 5.5+ MB\n"
     ]
    }
   ],
   "source": [
    "data.info()"
   ]
  },
  {
   "cell_type": "markdown",
   "metadata": {
    "colab_type": "text",
    "id": "lVJXpitVJMT2"
   },
   "source": [
    "데이터를 가장 간단하게 요약해 보는 방법 중 하나는 기술통계(descriptive statistics)일 것입니다. __DataFrame.describe()__로 숫자 열(int, float)의 기술통계를 살펴볼 수 있습니다."
   ]
  },
  {
   "cell_type": "code",
   "execution_count": 30,
   "metadata": {
    "colab": {
     "base_uri": "https://localhost:8080/",
     "height": 317
    },
    "colab_type": "code",
    "executionInfo": {
     "elapsed": 717,
     "status": "ok",
     "timestamp": 1586321888709,
     "user": {
      "displayName": "Eun Yu",
      "photoUrl": "https://lh3.googleusercontent.com/a-/AOh14GgEWsmf4FH7IRh7LjTXnuF85OLv2_K9vNCProM4=s64",
      "userId": "17784789244818192257"
     },
     "user_tz": -540
    },
    "id": "hu7cBffdJMT2",
    "outputId": "88bf6335-71cb-4dc6-873e-7b6d57e6f7a1"
   },
   "outputs": [
    {
     "data": {
      "text/html": [
       "<div>\n",
       "<style scoped>\n",
       "    .dataframe tbody tr th:only-of-type {\n",
       "        vertical-align: middle;\n",
       "    }\n",
       "\n",
       "    .dataframe tbody tr th {\n",
       "        vertical-align: top;\n",
       "    }\n",
       "\n",
       "    .dataframe thead th {\n",
       "        text-align: right;\n",
       "    }\n",
       "</style>\n",
       "<table border=\"1\" class=\"dataframe\">\n",
       "  <thead>\n",
       "    <tr style=\"text-align: right;\">\n",
       "      <th></th>\n",
       "      <th>pid</th>\n",
       "      <th>hid</th>\n",
       "      <th>area</th>\n",
       "      <th>area_siz</th>\n",
       "      <th>hhld_siz</th>\n",
       "      <th>fly_typ</th>\n",
       "      <th>gender</th>\n",
       "      <th>byear</th>\n",
       "      <th>age_gr</th>\n",
       "      <th>age</th>\n",
       "      <th>...</th>\n",
       "      <th>job</th>\n",
       "      <th>mob_use</th>\n",
       "      <th>sns_use</th>\n",
       "      <th>cmt_board</th>\n",
       "      <th>wt_board</th>\n",
       "      <th>wt_news</th>\n",
       "      <th>rating</th>\n",
       "      <th>wt_wiki</th>\n",
       "      <th>wt_sns</th>\n",
       "      <th>rating_sns</th>\n",
       "    </tr>\n",
       "  </thead>\n",
       "  <tbody>\n",
       "    <tr>\n",
       "      <th>count</th>\n",
       "      <td>1.086400e+04</td>\n",
       "      <td>1.086400e+04</td>\n",
       "      <td>10864.000000</td>\n",
       "      <td>10864.000000</td>\n",
       "      <td>10864.000000</td>\n",
       "      <td>10864.000000</td>\n",
       "      <td>10864.000000</td>\n",
       "      <td>10864.000000</td>\n",
       "      <td>10864.000000</td>\n",
       "      <td>10864.000000</td>\n",
       "      <td>...</td>\n",
       "      <td>10864.000000</td>\n",
       "      <td>10864.000000</td>\n",
       "      <td>10864.000000</td>\n",
       "      <td>10864.00000</td>\n",
       "      <td>10864.000000</td>\n",
       "      <td>10864.000000</td>\n",
       "      <td>10864.000000</td>\n",
       "      <td>10864.000000</td>\n",
       "      <td>10864.000000</td>\n",
       "      <td>10864.000000</td>\n",
       "    </tr>\n",
       "    <tr>\n",
       "      <th>mean</th>\n",
       "      <td>5.003951e+07</td>\n",
       "      <td>5.003950e+05</td>\n",
       "      <td>7.299521</td>\n",
       "      <td>1.094532</td>\n",
       "      <td>2.655284</td>\n",
       "      <td>2.835144</td>\n",
       "      <td>1.541053</td>\n",
       "      <td>1971.873711</td>\n",
       "      <td>5.196705</td>\n",
       "      <td>47.126289</td>\n",
       "      <td>...</td>\n",
       "      <td>1.465022</td>\n",
       "      <td>1.037371</td>\n",
       "      <td>1.555504</td>\n",
       "      <td>1.26123</td>\n",
       "      <td>1.176915</td>\n",
       "      <td>1.110549</td>\n",
       "      <td>1.136138</td>\n",
       "      <td>1.067102</td>\n",
       "      <td>1.631904</td>\n",
       "      <td>1.656020</td>\n",
       "    </tr>\n",
       "    <tr>\n",
       "      <th>std</th>\n",
       "      <td>3.767155e+07</td>\n",
       "      <td>3.767155e+05</td>\n",
       "      <td>4.592933</td>\n",
       "      <td>0.292581</td>\n",
       "      <td>0.598260</td>\n",
       "      <td>0.780984</td>\n",
       "      <td>0.498335</td>\n",
       "      <td>20.679911</td>\n",
       "      <td>1.985370</td>\n",
       "      <td>20.679911</td>\n",
       "      <td>...</td>\n",
       "      <td>0.498798</td>\n",
       "      <td>0.189678</td>\n",
       "      <td>0.496933</td>\n",
       "      <td>0.81957</td>\n",
       "      <td>0.648891</td>\n",
       "      <td>0.506810</td>\n",
       "      <td>0.537951</td>\n",
       "      <td>0.378722</td>\n",
       "      <td>1.258717</td>\n",
       "      <td>1.320204</td>\n",
       "    </tr>\n",
       "    <tr>\n",
       "      <th>min</th>\n",
       "      <td>1.000100e+04</td>\n",
       "      <td>1.000000e+02</td>\n",
       "      <td>1.000000</td>\n",
       "      <td>1.000000</td>\n",
       "      <td>1.000000</td>\n",
       "      <td>1.000000</td>\n",
       "      <td>1.000000</td>\n",
       "      <td>1915.000000</td>\n",
       "      <td>1.000000</td>\n",
       "      <td>6.000000</td>\n",
       "      <td>...</td>\n",
       "      <td>1.000000</td>\n",
       "      <td>1.000000</td>\n",
       "      <td>1.000000</td>\n",
       "      <td>1.00000</td>\n",
       "      <td>1.000000</td>\n",
       "      <td>1.000000</td>\n",
       "      <td>1.000000</td>\n",
       "      <td>1.000000</td>\n",
       "      <td>1.000000</td>\n",
       "      <td>1.000000</td>\n",
       "    </tr>\n",
       "    <tr>\n",
       "      <th>25%</th>\n",
       "      <td>1.640250e+07</td>\n",
       "      <td>1.640250e+05</td>\n",
       "      <td>3.000000</td>\n",
       "      <td>1.000000</td>\n",
       "      <td>2.000000</td>\n",
       "      <td>3.000000</td>\n",
       "      <td>1.000000</td>\n",
       "      <td>1957.000000</td>\n",
       "      <td>4.000000</td>\n",
       "      <td>30.000000</td>\n",
       "      <td>...</td>\n",
       "      <td>1.000000</td>\n",
       "      <td>1.000000</td>\n",
       "      <td>1.000000</td>\n",
       "      <td>1.00000</td>\n",
       "      <td>1.000000</td>\n",
       "      <td>1.000000</td>\n",
       "      <td>1.000000</td>\n",
       "      <td>1.000000</td>\n",
       "      <td>1.000000</td>\n",
       "      <td>1.000000</td>\n",
       "    </tr>\n",
       "    <tr>\n",
       "      <th>50%</th>\n",
       "      <td>5.170000e+07</td>\n",
       "      <td>5.170000e+05</td>\n",
       "      <td>8.000000</td>\n",
       "      <td>1.000000</td>\n",
       "      <td>3.000000</td>\n",
       "      <td>3.000000</td>\n",
       "      <td>2.000000</td>\n",
       "      <td>1970.000000</td>\n",
       "      <td>5.000000</td>\n",
       "      <td>49.000000</td>\n",
       "      <td>...</td>\n",
       "      <td>1.000000</td>\n",
       "      <td>1.000000</td>\n",
       "      <td>2.000000</td>\n",
       "      <td>1.00000</td>\n",
       "      <td>1.000000</td>\n",
       "      <td>1.000000</td>\n",
       "      <td>1.000000</td>\n",
       "      <td>1.000000</td>\n",
       "      <td>1.000000</td>\n",
       "      <td>1.000000</td>\n",
       "    </tr>\n",
       "    <tr>\n",
       "      <th>75%</th>\n",
       "      <td>6.890000e+07</td>\n",
       "      <td>6.890000e+05</td>\n",
       "      <td>11.000000</td>\n",
       "      <td>1.000000</td>\n",
       "      <td>3.000000</td>\n",
       "      <td>3.000000</td>\n",
       "      <td>2.000000</td>\n",
       "      <td>1989.000000</td>\n",
       "      <td>7.000000</td>\n",
       "      <td>62.000000</td>\n",
       "      <td>...</td>\n",
       "      <td>2.000000</td>\n",
       "      <td>1.000000</td>\n",
       "      <td>2.000000</td>\n",
       "      <td>1.00000</td>\n",
       "      <td>1.000000</td>\n",
       "      <td>1.000000</td>\n",
       "      <td>1.000000</td>\n",
       "      <td>1.000000</td>\n",
       "      <td>1.000000</td>\n",
       "      <td>1.000000</td>\n",
       "    </tr>\n",
       "    <tr>\n",
       "      <th>max</th>\n",
       "      <td>1.183300e+08</td>\n",
       "      <td>1.183300e+06</td>\n",
       "      <td>17.000000</td>\n",
       "      <td>2.000000</td>\n",
       "      <td>3.000000</td>\n",
       "      <td>5.000000</td>\n",
       "      <td>2.000000</td>\n",
       "      <td>2013.000000</td>\n",
       "      <td>8.000000</td>\n",
       "      <td>104.000000</td>\n",
       "      <td>...</td>\n",
       "      <td>2.000000</td>\n",
       "      <td>2.000000</td>\n",
       "      <td>2.000000</td>\n",
       "      <td>6.00000</td>\n",
       "      <td>6.000000</td>\n",
       "      <td>6.000000</td>\n",
       "      <td>6.000000</td>\n",
       "      <td>6.000000</td>\n",
       "      <td>6.000000</td>\n",
       "      <td>6.000000</td>\n",
       "    </tr>\n",
       "  </tbody>\n",
       "</table>\n",
       "<p>8 rows × 22 columns</p>\n",
       "</div>"
      ],
      "text/plain": [
       "                pid           hid          area      area_siz      hhld_siz  \\\n",
       "count  1.086400e+04  1.086400e+04  10864.000000  10864.000000  10864.000000   \n",
       "mean   5.003951e+07  5.003950e+05      7.299521      1.094532      2.655284   \n",
       "std    3.767155e+07  3.767155e+05      4.592933      0.292581      0.598260   \n",
       "min    1.000100e+04  1.000000e+02      1.000000      1.000000      1.000000   \n",
       "25%    1.640250e+07  1.640250e+05      3.000000      1.000000      2.000000   \n",
       "50%    5.170000e+07  5.170000e+05      8.000000      1.000000      3.000000   \n",
       "75%    6.890000e+07  6.890000e+05     11.000000      1.000000      3.000000   \n",
       "max    1.183300e+08  1.183300e+06     17.000000      2.000000      3.000000   \n",
       "\n",
       "            fly_typ        gender         byear        age_gr           age  \\\n",
       "count  10864.000000  10864.000000  10864.000000  10864.000000  10864.000000   \n",
       "mean       2.835144      1.541053   1971.873711      5.196705     47.126289   \n",
       "std        0.780984      0.498335     20.679911      1.985370     20.679911   \n",
       "min        1.000000      1.000000   1915.000000      1.000000      6.000000   \n",
       "25%        3.000000      1.000000   1957.000000      4.000000     30.000000   \n",
       "50%        3.000000      2.000000   1970.000000      5.000000     49.000000   \n",
       "75%        3.000000      2.000000   1989.000000      7.000000     62.000000   \n",
       "max        5.000000      2.000000   2013.000000      8.000000    104.000000   \n",
       "\n",
       "       ...           job       mob_use       sns_use    cmt_board  \\\n",
       "count  ...  10864.000000  10864.000000  10864.000000  10864.00000   \n",
       "mean   ...      1.465022      1.037371      1.555504      1.26123   \n",
       "std    ...      0.498798      0.189678      0.496933      0.81957   \n",
       "min    ...      1.000000      1.000000      1.000000      1.00000   \n",
       "25%    ...      1.000000      1.000000      1.000000      1.00000   \n",
       "50%    ...      1.000000      1.000000      2.000000      1.00000   \n",
       "75%    ...      2.000000      1.000000      2.000000      1.00000   \n",
       "max    ...      2.000000      2.000000      2.000000      6.00000   \n",
       "\n",
       "           wt_board       wt_news        rating       wt_wiki        wt_sns  \\\n",
       "count  10864.000000  10864.000000  10864.000000  10864.000000  10864.000000   \n",
       "mean       1.176915      1.110549      1.136138      1.067102      1.631904   \n",
       "std        0.648891      0.506810      0.537951      0.378722      1.258717   \n",
       "min        1.000000      1.000000      1.000000      1.000000      1.000000   \n",
       "25%        1.000000      1.000000      1.000000      1.000000      1.000000   \n",
       "50%        1.000000      1.000000      1.000000      1.000000      1.000000   \n",
       "75%        1.000000      1.000000      1.000000      1.000000      1.000000   \n",
       "max        6.000000      6.000000      6.000000      6.000000      6.000000   \n",
       "\n",
       "         rating_sns  \n",
       "count  10864.000000  \n",
       "mean       1.656020  \n",
       "std        1.320204  \n",
       "min        1.000000  \n",
       "25%        1.000000  \n",
       "50%        1.000000  \n",
       "75%        1.000000  \n",
       "max        6.000000  \n",
       "\n",
       "[8 rows x 22 columns]"
      ]
     },
     "execution_count": 30,
     "metadata": {},
     "output_type": "execute_result"
    }
   ],
   "source": [
    "data.describe()"
   ]
  },
  {
   "cell_type": "markdown",
   "metadata": {
    "colab_type": "text",
    "id": "uzM5oAf3JMT3"
   },
   "source": [
    "DataFrame.describe()의 결과도 하나의 DataFrame이므로 원하는 열의 값만 확인할 수도 있습니다."
   ]
  },
  {
   "cell_type": "code",
   "execution_count": 31,
   "metadata": {
    "colab": {
     "base_uri": "https://localhost:8080/",
     "height": 179
    },
    "colab_type": "code",
    "executionInfo": {
     "elapsed": 727,
     "status": "ok",
     "timestamp": 1586321890142,
     "user": {
      "displayName": "Eun Yu",
      "photoUrl": "https://lh3.googleusercontent.com/a-/AOh14GgEWsmf4FH7IRh7LjTXnuF85OLv2_K9vNCProM4=s64",
      "userId": "17784789244818192257"
     },
     "user_tz": -540
    },
    "id": "O6JxM-gCJMT4",
    "outputId": "d61f2199-1488-4414-e52e-7e8c3da223cb"
   },
   "outputs": [
    {
     "data": {
      "text/plain": [
       "count    10864.000000\n",
       "mean        47.126289\n",
       "std         20.679911\n",
       "min          6.000000\n",
       "25%         30.000000\n",
       "50%         49.000000\n",
       "75%         62.000000\n",
       "max        104.000000\n",
       "Name: age, dtype: float64"
      ]
     },
     "execution_count": 31,
     "metadata": {},
     "output_type": "execute_result"
    }
   ],
   "source": [
    "data.describe()['age']"
   ]
  },
  {
   "cell_type": "markdown",
   "metadata": {
    "colab_type": "text",
    "id": "mzgrcLa5JMT6"
   },
   "source": [
    "# 2. 한국미디어패널의 인구통계학적 정보 살펴보기\n",
    "\n",
    "먼저 한국 미디어패널의 인구통계학적 정보만 살펴보고자 합니다. 원래 파일에서 일부만 가져옵니다."
   ]
  },
  {
   "cell_type": "code",
   "execution_count": 32,
   "metadata": {
    "colab": {
     "base_uri": "https://localhost:8080/",
     "height": 204
    },
    "colab_type": "code",
    "executionInfo": {
     "elapsed": 530,
     "status": "ok",
     "timestamp": 1586321891867,
     "user": {
      "displayName": "Eun Yu",
      "photoUrl": "https://lh3.googleusercontent.com/a-/AOh14GgEWsmf4FH7IRh7LjTXnuF85OLv2_K9vNCProM4=s64",
      "userId": "17784789244818192257"
     },
     "user_tz": -540
    },
    "id": "lks3gcfrJMT6",
    "outputId": "2c851a1b-a72f-4c27-91ae-08b84f25d45b",
    "scrolled": false
   },
   "outputs": [
    {
     "data": {
      "text/html": [
       "<div>\n",
       "<style scoped>\n",
       "    .dataframe tbody tr th:only-of-type {\n",
       "        vertical-align: middle;\n",
       "    }\n",
       "\n",
       "    .dataframe tbody tr th {\n",
       "        vertical-align: top;\n",
       "    }\n",
       "\n",
       "    .dataframe thead th {\n",
       "        text-align: right;\n",
       "    }\n",
       "</style>\n",
       "<table border=\"1\" class=\"dataframe\">\n",
       "  <thead>\n",
       "    <tr style=\"text-align: right;\">\n",
       "      <th></th>\n",
       "      <th>pid</th>\n",
       "      <th>hid</th>\n",
       "      <th>area</th>\n",
       "      <th>area_siz</th>\n",
       "      <th>hhld_siz</th>\n",
       "      <th>fly_typ</th>\n",
       "      <th>gender</th>\n",
       "      <th>byear</th>\n",
       "      <th>age_gr</th>\n",
       "      <th>age</th>\n",
       "      <th>marry</th>\n",
       "      <th>income_gr</th>\n",
       "      <th>job</th>\n",
       "      <th>job_type</th>\n",
       "      <th>job_etc</th>\n",
       "    </tr>\n",
       "  </thead>\n",
       "  <tbody>\n",
       "    <tr>\n",
       "      <th>0</th>\n",
       "      <td>10001</td>\n",
       "      <td>100</td>\n",
       "      <td>1</td>\n",
       "      <td>1</td>\n",
       "      <td>3</td>\n",
       "      <td>3</td>\n",
       "      <td>1</td>\n",
       "      <td>1967</td>\n",
       "      <td>6</td>\n",
       "      <td>52</td>\n",
       "      <td>2</td>\n",
       "      <td>11</td>\n",
       "      <td>1</td>\n",
       "      <td>2</td>\n",
       "      <td></td>\n",
       "    </tr>\n",
       "    <tr>\n",
       "      <th>1</th>\n",
       "      <td>10002</td>\n",
       "      <td>100</td>\n",
       "      <td>1</td>\n",
       "      <td>1</td>\n",
       "      <td>3</td>\n",
       "      <td>3</td>\n",
       "      <td>2</td>\n",
       "      <td>1972</td>\n",
       "      <td>5</td>\n",
       "      <td>47</td>\n",
       "      <td>2</td>\n",
       "      <td>1</td>\n",
       "      <td>2</td>\n",
       "      <td></td>\n",
       "      <td>2</td>\n",
       "    </tr>\n",
       "    <tr>\n",
       "      <th>2</th>\n",
       "      <td>20001</td>\n",
       "      <td>200</td>\n",
       "      <td>1</td>\n",
       "      <td>1</td>\n",
       "      <td>3</td>\n",
       "      <td>3</td>\n",
       "      <td>1</td>\n",
       "      <td>1965</td>\n",
       "      <td>6</td>\n",
       "      <td>54</td>\n",
       "      <td>2</td>\n",
       "      <td>11</td>\n",
       "      <td>1</td>\n",
       "      <td>1</td>\n",
       "      <td></td>\n",
       "    </tr>\n",
       "    <tr>\n",
       "      <th>3</th>\n",
       "      <td>30001</td>\n",
       "      <td>300</td>\n",
       "      <td>8</td>\n",
       "      <td>1</td>\n",
       "      <td>3</td>\n",
       "      <td>3</td>\n",
       "      <td>1</td>\n",
       "      <td>1971</td>\n",
       "      <td>5</td>\n",
       "      <td>48</td>\n",
       "      <td>2</td>\n",
       "      <td>9</td>\n",
       "      <td>1</td>\n",
       "      <td>1</td>\n",
       "      <td></td>\n",
       "    </tr>\n",
       "    <tr>\n",
       "      <th>4</th>\n",
       "      <td>30002</td>\n",
       "      <td>300</td>\n",
       "      <td>8</td>\n",
       "      <td>1</td>\n",
       "      <td>3</td>\n",
       "      <td>3</td>\n",
       "      <td>2</td>\n",
       "      <td>1974</td>\n",
       "      <td>5</td>\n",
       "      <td>45</td>\n",
       "      <td>2</td>\n",
       "      <td>1</td>\n",
       "      <td>2</td>\n",
       "      <td></td>\n",
       "      <td>2</td>\n",
       "    </tr>\n",
       "  </tbody>\n",
       "</table>\n",
       "</div>"
      ],
      "text/plain": [
       "     pid  hid  area  area_siz  hhld_siz  fly_typ  gender  byear  age_gr  age  \\\n",
       "0  10001  100     1         1         3        3       1   1967       6   52   \n",
       "1  10002  100     1         1         3        3       2   1972       5   47   \n",
       "2  20001  200     1         1         3        3       1   1965       6   54   \n",
       "3  30001  300     8         1         3        3       1   1971       5   48   \n",
       "4  30002  300     8         1         3        3       2   1974       5   45   \n",
       "\n",
       "   marry  income_gr  job job_type job_etc  \n",
       "0      2         11    1        2          \n",
       "1      2          1    2                2  \n",
       "2      2         11    1        1          \n",
       "3      2          9    1        1          \n",
       "4      2          1    2                2  "
      ]
     },
     "execution_count": 32,
     "metadata": {},
     "output_type": "execute_result"
    }
   ],
   "source": [
    "demo = data.iloc[:, :15]\n",
    "demo.head()"
   ]
  },
  {
   "cell_type": "markdown",
   "metadata": {
    "colab_type": "text",
    "id": "rO93nGvPJMT8"
   },
   "source": [
    "DataFrame 'demo'에서 각 열(column)의 의미는 아래와 같습니다.\n",
    "\n",
    "<table>\n",
    "<thead>\n",
    "<tr>\n",
    "<td width=\"91\">\n",
    "<p>Original</p>\n",
    "</td>\n",
    "<td width=\"97\">\n",
    "<p>Cleaned</p>\n",
    "</td>\n",
    "<td width=\"210\">\n",
    "<p>Description</p>\n",
    "</td>\n",
    "<td>\n",
    "<p>Detail</p>\n",
    "</td>\n",
    "</tr>\n",
    "</thead>\n",
    "<tbody>\n",
    "<tr>\n",
    "<td width=\"91\">\n",
    "<p>pid</p>\n",
    "</td>\n",
    "<td width=\"97\">\n",
    "<p><strong>pid</strong></p>\n",
    "</td>\n",
    "<td width=\"210\">\n",
    "<p>[개인정보] 개인 통합 ID</p>\n",
    "</td>\n",
    "<td>&nbsp;</td>\n",
    "</tr>\n",
    "<tr>\n",
    "<td width=\"91\">\n",
    "<p>hid</p>\n",
    "</td>\n",
    "<td width=\"97\">\n",
    "<p><strong>hid</strong></p>\n",
    "</td>\n",
    "<td width=\"210\">\n",
    "<p>[개인정보] 가구 통합 ID</p>\n",
    "</td>\n",
    "<td>&nbsp;</td>\n",
    "</tr>\n",
    "<tr>\n",
    "<td width=\"91\">\n",
    "<p>p__area</p>\n",
    "</td>\n",
    "<td width=\"97\">\n",
    "<p><strong>area</strong></p>\n",
    "</td>\n",
    "<td width=\"210\">\n",
    "<p>[개인정보] 지역</p>\n",
    "</td>\n",
    "<td>\n",
    "<p>1) 서울 2) 부산 3) 대구 4) 인천 5) 광주 6) 대전 <br>\n",
    "    7) 울산 8) 경기 9) 강원 10) 충북 11) 충남 12) 전북 <br>\n",
    "    13) 전남 14) 경북 15) 경남 16) 제주 17) 세종</p>\n",
    "</td>\n",
    "</tr>\n",
    "<tr>\n",
    "<td width=\"91\">\n",
    "<p>p__area_siz</p>\n",
    "</td>\n",
    "<td width=\"97\">\n",
    "<p><strong>area_siz</strong></p>\n",
    "</td>\n",
    "<td width=\"210\">\n",
    "<p>[가구정보] 지역구분</p>\n",
    "</td>\n",
    "<td>\n",
    "<p>① 시부 ② 군부</p>\n",
    "</td>\n",
    "</tr>\n",
    "<tr>\n",
    "<td width=\"91\">\n",
    "<p>p__hhldsiz</p>\n",
    "</td>\n",
    "<td width=\"97\">\n",
    "<p><strong>hhld_siz</strong></p>\n",
    "</td>\n",
    "<td width=\"210\">\n",
    "<p>[가구정보] 가구원 수</p>\n",
    "</td>\n",
    "<td>\n",
    "<p>① 1인 가구 ② 2인 가구 ③ 3인 이상 가구</p>\n",
    "</td>\n",
    "</tr>\n",
    "<tr>\n",
    "<td width=\"91\">\n",
    "<p>p__fly_typ</p>\n",
    "</td>\n",
    "<td width=\"97\">\n",
    "<p><strong>fly_typ</strong></p>\n",
    "</td>\n",
    "<td width=\"210\">\n",
    "<p>[가구정보] 가족 구성</p>\n",
    "</td>\n",
    "<td>\n",
    "<p>1) 1인가구 2) 1세대가구(부부) 3) 2세대가구(부부+자녀) <br>\n",
    "    4) 3세대가구 (조부모+부부+자녀) 5) 기타</p>\n",
    "</td>\n",
    "</tr>\n",
    "<tr>\n",
    "<td width=\"91\">\n",
    "<p>p__gender</p>\n",
    "</td>\n",
    "<td width=\"97\">\n",
    "<p><strong>gender</strong></p>\n",
    "</td>\n",
    "<td width=\"210\">\n",
    "<p>[개인정보] 성별</p>\n",
    "</td>\n",
    "<td>\n",
    "<p>1)남 2)여</p>\n",
    "</td>\n",
    "</tr>\n",
    "<tr>\n",
    "<td width=\"91\">\n",
    "<p>p__byear</p>\n",
    "</td>\n",
    "<td width=\"97\">\n",
    "<p><strong>byear</strong></p>\n",
    "</td>\n",
    "<td width=\"210\">\n",
    "<p>[개인정보] 출생연도</p>\n",
    "</td>\n",
    "<td>&nbsp;</td>\n",
    "</tr>\n",
    "<tr>\n",
    "<td width=\"91\">\n",
    "<p>p__age</p>\n",
    "</td>\n",
    "<td width=\"97\">\n",
    "<p><strong>age_gr</strong></p>\n",
    "</td>\n",
    "<td width=\"210\">\n",
    "<p>[개인정보] 나이(리코드)</p>\n",
    "</td>\n",
    "<td>\n",
    "<p>1) 만 10대 미만 2) 만 10-19세 3) 만 20-29세 4) 만 30-39세 <br>\n",
    "    5) 만 40-49세 6) 만 50-59세 7) 만 60-69세 8) 만 70세 이상</p>\n",
    "</td>\n",
    "</tr>\n",
    "<tr>\n",
    "<td width=\"91\">\n",
    "<p>p__age1</p>\n",
    "</td>\n",
    "<td width=\"97\">\n",
    "<p><strong>age</strong></p>\n",
    "</td>\n",
    "<td width=\"210\">\n",
    "<p>[개인정보] 나이(만 연령)</p>\n",
    "</td>\n",
    "<td>&nbsp;</td>\n",
    "</tr>\n",
    "<tr>\n",
    "<td width=\"91\">\n",
    "<p>p__mar</p>\n",
    "</td>\n",
    "<td width=\"97\">\n",
    "<p><strong>marry</strong></p>\n",
    "</td>\n",
    "<td width=\"210\">\n",
    "<p>[개인정보] 결혼 여부</p>\n",
    "</td>\n",
    "<td>\n",
    "<p>① 미혼 ② 배우자 있음 ③ 사별 ④ 이혼</p>\n",
    "</td>\n",
    "</tr>\n",
    "<tr>\n",
    "<td width=\"91\">\n",
    "<p>p__income1</p>\n",
    "</td>\n",
    "<td width=\"97\">\n",
    "<p><strong>income_gr</strong></p>\n",
    "</td>\n",
    "<td width=\"210\">\n",
    "<p>[개인정보] 개인 월평균 소득</p>\n",
    "</td>\n",
    "<td>\n",
    "<p>1) 소득 없음 2) 50만원 미만 3) 50-100만원 미만 4) 100-150만원 미만 <br>\n",
    "    5) 150-200만원 미만 6) 200-250만원 미만 7) 250-300만원 미만 8) 300-350만원 미만  <br>\n",
    "    9) 350-400만원 미만 10) 400-450만원 미만 11) 450-500만원 미만 12) 500-550만원 미만  <br>\n",
    "    13) 550-600만원 미만 14) 600-650만원 미만 15) 650-700만원 미만 16) 700-750만원 미만  <br>\n",
    "    17) 750-800만원 미만 18) 800만원 이상</p>\n",
    "</td>\n",
    "</tr>\n",
    "<tr>\n",
    "<td width=\"91\">\n",
    "<p>p__job1</p>\n",
    "</td>\n",
    "<td width=\"97\">\n",
    "<p><strong>job</strong></p>\n",
    "</td>\n",
    "<td width=\"210\">\n",
    "<p>[개인정보] 직업 유무</p>\n",
    "</td>\n",
    "<td>\n",
    "<p>① 예 ② 아니오</p>\n",
    "</td>\n",
    "</tr>\n",
    "<tr>\n",
    "<td width=\"91\">\n",
    "<p>p__job2</p>\n",
    "</td>\n",
    "<td width=\"97\">\n",
    "<p><strong>job_type</strong></p>\n",
    "</td>\n",
    "<td width=\"210\">\n",
    "<p>[개인정보] 직업 종사상 지위</p>\n",
    "</td>\n",
    "<td>\n",
    "<p>① 임금 근로자 ② 고용주(고용인이 있는 자영업자) <br>\n",
    "    ③ 단독 자영업자(고용인이 없는 자영업자) ④ 무급 가족 종사자</p>\n",
    "</td>\n",
    "</tr>\n",
    "<tr>\n",
    "<td width=\"91\">\n",
    "<p>p__job4</p>\n",
    "</td>\n",
    "<td width=\"97\">\n",
    "<p><strong>job_etc</strong></p>\n",
    "</td>\n",
    "<td width=\"210\">\n",
    "<p>[개인정보] 무직 구분</p>\n",
    "</td>\n",
    "<td>\n",
    "<p>① 학생 ② 전업주부 ③ 군인(직업군인 제외) ④ 기타/무직</p>\n",
    "</td>\n",
    "</tr>\n",
    "</tbody>\n",
    "</table>"
   ]
  },
  {
   "cell_type": "markdown",
   "metadata": {
    "colab_type": "text",
    "id": "28sp1FJxJMT8"
   },
   "source": [
    "<p style=\"color:#0000FF\";><font size = \"5\"><b>\n",
    " # 연습하기\n",
    "    </b></font></p>\n",
    "    \n",
    "#### DataFrame 'demo'에서 다음 정보들을 확인하세요."
   ]
  },
  {
   "cell_type": "markdown",
   "metadata": {},
   "source": [
    "- 행과 열의 수"
   ]
  },
  {
   "cell_type": "code",
   "execution_count": null,
   "metadata": {},
   "outputs": [],
   "source": []
  },
  {
   "cell_type": "markdown",
   "metadata": {},
   "source": [
    "- 첫 10행"
   ]
  },
  {
   "cell_type": "code",
   "execution_count": null,
   "metadata": {},
   "outputs": [],
   "source": []
  },
  {
   "cell_type": "markdown",
   "metadata": {},
   "source": [
    "- 기본정보"
   ]
  },
  {
   "cell_type": "code",
   "execution_count": null,
   "metadata": {},
   "outputs": [],
   "source": []
  },
  {
   "cell_type": "markdown",
   "metadata": {},
   "source": [
    "- 모든 열에 있는 유일한 값의 개수 (nunique)"
   ]
  },
  {
   "cell_type": "code",
   "execution_count": null,
   "metadata": {},
   "outputs": [],
   "source": []
  },
  {
   "cell_type": "markdown",
   "metadata": {},
   "source": [
    "- 남녀의 비율 (value_counts)"
   ]
  },
  {
   "cell_type": "code",
   "execution_count": null,
   "metadata": {},
   "outputs": [],
   "source": []
  },
  {
   "cell_type": "markdown",
   "metadata": {},
   "source": [
    "- 각 연령대별 사람 수 (오름차순으로 정렬)"
   ]
  },
  {
   "cell_type": "code",
   "execution_count": null,
   "metadata": {},
   "outputs": [],
   "source": []
  },
  {
   "cell_type": "markdown",
   "metadata": {},
   "source": [
    "- 각 지역별 사람 수 (오름차순으로 정렬)"
   ]
  },
  {
   "cell_type": "code",
   "execution_count": null,
   "metadata": {},
   "outputs": [],
   "source": []
  },
  {
   "cell_type": "markdown",
   "metadata": {},
   "source": [
    "- job_etc의 유일한 값 (unique)"
   ]
  },
  {
   "cell_type": "code",
   "execution_count": null,
   "metadata": {},
   "outputs": [],
   "source": []
  },
  {
   "cell_type": "markdown",
   "metadata": {},
   "source": [
    "- 기술통계"
   ]
  },
  {
   "cell_type": "code",
   "execution_count": null,
   "metadata": {},
   "outputs": [],
   "source": []
  },
  {
   "cell_type": "code",
   "execution_count": null,
   "metadata": {},
   "outputs": [],
   "source": []
  }
 ],
 "metadata": {
  "colab": {
   "name": "week4_vis1_lecture.ipynb",
   "provenance": []
  },
  "kernelspec": {
   "display_name": "Python 3",
   "language": "python",
   "name": "python3"
  },
  "language_info": {
   "codemirror_mode": {
    "name": "ipython",
    "version": 3
   },
   "file_extension": ".py",
   "mimetype": "text/x-python",
   "name": "python",
   "nbconvert_exporter": "python",
   "pygments_lexer": "ipython3",
   "version": "3.8.3"
  }
 },
 "nbformat": 4,
 "nbformat_minor": 1
}
