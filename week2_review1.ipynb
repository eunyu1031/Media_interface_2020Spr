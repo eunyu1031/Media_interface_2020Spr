{
 "cells": [
  {
   "cell_type": "markdown",
   "metadata": {
    "colab_type": "text",
    "id": "UbcoobjAFazC"
   },
   "source": [
    "<p style=\"color:#0000FF\";><b>\n",
    "* 자료는 보통 순서대로 실행한다는 가정 하에 만듭니다. 제대로 실행이 되지 않는다면 이전의 셀을 실행했는지 다시 확인해 보세요. <br>\n",
    "* ctrl+enter는 선택한 셀의 코드를 실행하고, shift+enter는 해당 셀 실행 후 다음 셀로 넘어갑니다.\n",
    "    </b></p>"
   ]
  },
  {
   "cell_type": "markdown",
   "metadata": {
    "colab_type": "text",
    "id": "RN7VE7woFazG"
   },
   "source": [
    "#### 1. 변수\n",
    "\n",
    "\n",
    "#### 2. 자료형\n",
    "- (1) 숫자 (number)\n",
    "- (2) 논리 (boolean/bool)\n",
    "- (3) 문자열 (string)\n",
    "- (4) 리스트 (list)\n",
    "- (5) 튜플 (tuple)\n",
    "- (6) 딕셔너리 (dictionary)\n",
    "\n",
    "\n",
    "#### 3. Pandas\n",
    "- (1) Series\n",
    "- (2) DataFrame"
   ]
  },
  {
   "cell_type": "markdown",
   "metadata": {
    "colab_type": "text",
    "id": "G3eWfP4UFazI"
   },
   "source": [
    "# 1. 변수(variale)\n",
    "- 어떤 값(value)을 저장하기 위해 이름(name)을 붙인 공간\n",
    "- 어떤 값을 저장하느냐에 따라 자료형(type)과 가능한 연산들이 달라진다 (dynamic typing).\n",
    "- 할당 연산자(assignment operator) 등호(=)로 ‘이름 = 값’ 처럼 변수를 만들 수 있다.\n",
    "- 만든 변수는 메모리에 저장되며, 프로그램 종료 전까지 가져오거나 변경할 수 있다.\n",
    "- 변수의 이름은 (1) 이해하기 편한 것이 좋다 (2) 대소문자를 구분한다 (3) 숫자로 시작할 수 없다 (4) 띄어쓰기와 특수문자를 포함할 수 없으며 밑줄문자(_)는 사용 가능하다 (5) 파이썬에서 이미 사용하는 예약어는 사용할 수 없다."
   ]
  },
  {
   "cell_type": "markdown",
   "metadata": {
    "colab_type": "text",
    "id": "nRFTwLakFazJ"
   },
   "source": [
    "아래와 같이 이름 = 값 형태로 변수를 만들/정의할/선언할 수 있습니다. "
   ]
  },
  {
   "cell_type": "code",
   "execution_count": 1,
   "metadata": {
    "colab": {},
    "colab_type": "code",
    "id": "iKEv9ijcFazK"
   },
   "outputs": [],
   "source": [
    "mynum = 3"
   ]
  },
  {
   "cell_type": "code",
   "execution_count": 2,
   "metadata": {
    "colab": {},
    "colab_type": "code",
    "id": "OyF-mgsbFazS"
   },
   "outputs": [
    {
     "ename": "NameError",
     "evalue": "name 'mystr' is not defined",
     "output_type": "error",
     "traceback": [
      "\u001b[1;31m---------------------------------------------------------------------------\u001b[0m",
      "\u001b[1;31mNameError\u001b[0m                                 Traceback (most recent call last)",
      "\u001b[1;32m<ipython-input-2-67e4de409d04>\u001b[0m in \u001b[0;36m<module>\u001b[1;34m\u001b[0m\n\u001b[0;32m      1\u001b[0m \u001b[0mMyStr\u001b[0m \u001b[1;33m=\u001b[0m \u001b[1;34m'변수의 이름은 대소문자를 구별한다'\u001b[0m\u001b[1;33m\u001b[0m\u001b[1;33m\u001b[0m\u001b[0m\n\u001b[1;32m----> 2\u001b[1;33m \u001b[0mprint\u001b[0m\u001b[1;33m(\u001b[0m\u001b[0mmystr\u001b[0m\u001b[1;33m)\u001b[0m \u001b[1;31m# error! 대소문자 구별\u001b[0m\u001b[1;33m\u001b[0m\u001b[1;33m\u001b[0m\u001b[0m\n\u001b[0m",
      "\u001b[1;31mNameError\u001b[0m: name 'mystr' is not defined"
     ]
    }
   ],
   "source": [
    "MyStr = '변수의 이름은 대소문자를 구별한다'\n",
    "print(mystr) # error! 대소문자 구별"
   ]
  },
  {
   "cell_type": "code",
   "execution_count": 3,
   "metadata": {
    "colab": {},
    "colab_type": "code",
    "id": "GMNGiVNOFazW"
   },
   "outputs": [
    {
     "name": "stdout",
     "output_type": "stream",
     "text": [
      "MyStr 변수의 이름은 대소문자를 구별한다\n"
     ]
    }
   ],
   "source": [
    "print(\"MyStr\", MyStr)"
   ]
  },
  {
   "cell_type": "code",
   "execution_count": 4,
   "metadata": {
    "colab": {},
    "colab_type": "code",
    "id": "sF7m0s9kFazZ"
   },
   "outputs": [
    {
     "ename": "SyntaxError",
     "evalue": "invalid syntax (<ipython-input-4-2f96135b5b66>, line 1)",
     "output_type": "error",
     "traceback": [
      "\u001b[1;36m  File \u001b[1;32m\"<ipython-input-4-2f96135b5b66>\"\u001b[1;36m, line \u001b[1;32m1\u001b[0m\n\u001b[1;33m    1st_var = \"my var\" #error! 숫자로 시작할 수 없으며, 글자 색깔에 유의\u001b[0m\n\u001b[1;37m     ^\u001b[0m\n\u001b[1;31mSyntaxError\u001b[0m\u001b[1;31m:\u001b[0m invalid syntax\n"
     ]
    }
   ],
   "source": [
    "1st_var = \"my var\" #error! 숫자로 시작할 수 없으며, 글자 색깔에 유의"
   ]
  },
  {
   "cell_type": "code",
   "execution_count": 5,
   "metadata": {
    "colab": {},
    "colab_type": "code",
    "id": "lhDJdwRnFazd"
   },
   "outputs": [],
   "source": [
    "var_1 = \"my 1st var\""
   ]
  },
  {
   "cell_type": "markdown",
   "metadata": {
    "colab_type": "text",
    "id": "qaY0ql9MFazi"
   },
   "source": [
    "파이썬에서 이미 사용하는 예약어는 다른 색으로 표시되므로 글자 색깔만 잘 보셔도 변수 이름을 만드는 데에는 어려움이 없습니다. "
   ]
  },
  {
   "cell_type": "code",
   "execution_count": 6,
   "metadata": {
    "colab": {},
    "colab_type": "code",
    "id": "AzHMBQkUFazj"
   },
   "outputs": [
    {
     "ename": "SyntaxError",
     "evalue": "cannot assign to True (<ipython-input-6-fd7f4589dba4>, line 1)",
     "output_type": "error",
     "traceback": [
      "\u001b[1;36m  File \u001b[1;32m\"<ipython-input-6-fd7f4589dba4>\"\u001b[1;36m, line \u001b[1;32m1\u001b[0m\n\u001b[1;33m    True = 3 # error! 예약어를 사용할 수 없으며, 글자 색깔에 유의\u001b[0m\n\u001b[1;37m    ^\u001b[0m\n\u001b[1;31mSyntaxError\u001b[0m\u001b[1;31m:\u001b[0m cannot assign to True\n"
     ]
    }
   ],
   "source": [
    "True = 3 # error! 예약어를 사용할 수 없으며, 글자 색깔에 유의"
   ]
  },
  {
   "cell_type": "markdown",
   "metadata": {
    "colab_type": "text",
    "id": "pLI5NxsVFazn"
   },
   "source": [
    "__다음 두 셀은 (2)-(1)-(2) 순으로 실행합니다.__\n",
    "\n",
    "아래의 경우 변수를 만들 때에는 error는 나지 않으나, 파이썬에서 제공하는 pow라는 기능을 사용할 수 없게 됩니다. 이런 경우에는 프로그램을 껐다가 다시 실행하시면 됩니다 (런타임 다시 시작/Kernel Restart)."
   ]
  },
  {
   "cell_type": "code",
   "execution_count": 8,
   "metadata": {
    "colab": {},
    "colab_type": "code",
    "id": "6oajJvBtFazp"
   },
   "outputs": [],
   "source": [
    "# (1)\n",
    "pow = 4 # potention error"
   ]
  },
  {
   "cell_type": "code",
   "execution_count": 9,
   "metadata": {
    "colab": {},
    "colab_type": "code",
    "id": "vPZrZqPCFazt"
   },
   "outputs": [
    {
     "ename": "TypeError",
     "evalue": "'int' object is not callable",
     "output_type": "error",
     "traceback": [
      "\u001b[1;31m---------------------------------------------------------------------------\u001b[0m",
      "\u001b[1;31mTypeError\u001b[0m                                 Traceback (most recent call last)",
      "\u001b[1;32m<ipython-input-9-db3b9cafc175>\u001b[0m in \u001b[0;36m<module>\u001b[1;34m\u001b[0m\n\u001b[0;32m      1\u001b[0m \u001b[1;31m# (2)\u001b[0m\u001b[1;33m\u001b[0m\u001b[1;33m\u001b[0m\u001b[1;33m\u001b[0m\u001b[0m\n\u001b[1;32m----> 2\u001b[1;33m \u001b[0mpow\u001b[0m\u001b[1;33m(\u001b[0m\u001b[1;36m3\u001b[0m\u001b[1;33m,\u001b[0m\u001b[1;36m2\u001b[0m\u001b[1;33m)\u001b[0m\u001b[1;33m\u001b[0m\u001b[1;33m\u001b[0m\u001b[0m\n\u001b[0m",
      "\u001b[1;31mTypeError\u001b[0m: 'int' object is not callable"
     ]
    }
   ],
   "source": [
    "# (2)\n",
    "pow(3,2)"
   ]
  },
  {
   "cell_type": "markdown",
   "metadata": {
    "colab_type": "text",
    "id": "ybpWutRzFazx"
   },
   "source": [
    "# 2. 자료형 (type)\n",
    "\n",
    "- 데이터는 변수에 저장되며, 자료형이 무엇인가에 따라 __가질 수 있는 값__과 __적용할 수 있는 연산__이 다름 (예: 1과 '1')\n",
    "- 프로그래밍 언어가 제공하는 데이터 유형의 종류와 특징을 알고 있어야 필요할 때 해당 데이터를 활용할 수 있음\n",
    "- 파이썬에서 기본으로 제공하는 숫자, 논리, 문자열, 그리고 다양한 자료형을 저장할 수 있는 리스트, 튜플, 딕셔너리 소개"
   ]
  },
  {
   "cell_type": "markdown",
   "metadata": {
    "colab_type": "text",
    "id": "53zzkKbnFazz"
   },
   "source": [
    "## 2-(1) 숫자 (number)\n",
    "\n",
    "- 크게 정수(integer), 실수(floating point number;float), 복소수(complex)로 구성\n",
    "- 계산기처럼 가감승제(+, -, *, /) 연산자를 사용해서 연산이 가능하며, 그 외의 연산자(%, //)도 지원\n",
    "- 변수를 새로 정의하지 않는 이상 변경할 수 없음 (immutable)"
   ]
  },
  {
   "cell_type": "markdown",
   "metadata": {
    "colab_type": "text",
    "id": "wnyY1Av4Faz0"
   },
   "source": [
    "type(변수이름)으로 자료형을 확인할 수 있습니다. 같은 숫자인데 여러 자료형을 두는 이유는 저장 공간을 효율적으로 활용하기 위해서입니다."
   ]
  },
  {
   "cell_type": "code",
   "execution_count": 10,
   "metadata": {
    "colab": {},
    "colab_type": "code",
    "id": "wyZoMc8nFaz1"
   },
   "outputs": [
    {
     "name": "stdout",
     "output_type": "stream",
     "text": [
      "<class 'int'> -123\n",
      "<class 'float'> 0.45678\n",
      "<class 'complex'> (1+2j)\n",
      "<class 'tuple'> (1, 234, 500)\n"
     ]
    }
   ],
   "source": [
    "a = -123\n",
    "b = 0.45678\n",
    "c = 1 + 2j\n",
    "d = 1,234,500\n",
    "\n",
    "print(type(a), a)\n",
    "print(type(b), b)\n",
    "print(type(c), c)\n",
    "print(type(d), d) # 숫자가 아님"
   ]
  },
  {
   "cell_type": "markdown",
   "metadata": {
    "colab_type": "text",
    "id": "LPW6OOpYFaz5"
   },
   "source": [
    "숫자로는 아래와 같은 연산을 비롯한 다양한 연산이 가능합니다. '__//__'와 '__%__'의 사용에 유의합니다.\n",
    "\n",
    "<table class=\"docutils align-default\">\n",
    "<colgroup>\n",
    "<col style=\"width: 25%\" />\n",
    "<col style=\"width: 40%\" />\n",
    "<col style=\"width: 11%\" />\n",
    "<col style=\"width: 24%\" />\n",
    "</colgroup>\n",
    "<thead>\n",
    "<tr class=\"row-odd\"><th class=\"head\"><p>연산</p></th>\n",
    "<th class=\"head\"><p>결과</p></th>\n",
    "</tr>\n",
    "</thead>\n",
    "<tbody>\n",
    "<tr class=\"row-even\"><td><p><code class=\"docutils literal notranslate\"><span class=\"pre\">x</span> <span class=\"pre\">+</span> <span class=\"pre\">y</span></code></p></td>\n",
    "<td><p>x와 y의 합</p></td>\n",
    "</tr>\n",
    "<tr class=\"row-odd\"><td><p><code class=\"docutils literal notranslate\"><span class=\"pre\">x</span> <span class=\"pre\">-</span> <span class=\"pre\">y</span></code></p></td>\n",
    "<td><p>x와 y의 차</p></td>\n",
    "</tr>\n",
    "<tr class=\"row-even\"><td><p><code class=\"docutils literal notranslate\"><span class=\"pre\">x</span> <span class=\"pre\">*</span> <span class=\"pre\">y</span></code></p></td>\n",
    "<td><p>x와 y의 곱</p></td>\n",
    "</tr>\n",
    "<tr class=\"row-odd\"><td><p><code class=\"docutils literal notranslate\"><span class=\"pre\">x</span> <span class=\"pre\">/</span> <span class=\"pre\">y</span></code></p></td>\n",
    "<td><p>x 나누기 y</p></td>\n",
    "</tr>\n",
    "<tr class=\"row-even\"><td><p><code class=\"docutils literal notranslate\"><span class=\"pre\">x</span> <span class=\"pre\">//</span> <span class=\"pre\">y</span></code></p></td>\n",
    "<td><p>x 나누기 y의 정수부분</p></td>\n",
    "</tr>\n",
    "<tr class=\"row-odd\"><td><p><code class=\"docutils literal notranslate\"><span class=\"pre\">x</span> <span class=\"pre\">%</span> <span class=\"pre\">y</span></code></p></td>\n",
    "<td><p>x 나누기 y의 나머지 </td>\n",
    "</tr>\n",
    "</table>\n",
    "\n",
    "Python documentation: https://docs.python.org/3/library/stdtypes.html#numeric-types-int-float-complex"
   ]
  },
  {
   "cell_type": "code",
   "execution_count": 11,
   "metadata": {
    "colab": {},
    "colab_type": "code",
    "id": "OaPvyK6XFaz6"
   },
   "outputs": [
    {
     "data": {
      "text/plain": [
       "10"
      ]
     },
     "execution_count": 11,
     "metadata": {},
     "output_type": "execute_result"
    }
   ],
   "source": [
    "6+4"
   ]
  },
  {
   "cell_type": "code",
   "execution_count": 12,
   "metadata": {
    "colab": {},
    "colab_type": "code",
    "id": "meQ1wuu6Faz-"
   },
   "outputs": [
    {
     "data": {
      "text/plain": [
       "2"
      ]
     },
     "execution_count": 12,
     "metadata": {},
     "output_type": "execute_result"
    }
   ],
   "source": [
    "6-4"
   ]
  },
  {
   "cell_type": "code",
   "execution_count": 13,
   "metadata": {
    "colab": {},
    "colab_type": "code",
    "id": "XuFpxoPhFa0C"
   },
   "outputs": [
    {
     "data": {
      "text/plain": [
       "24"
      ]
     },
     "execution_count": 13,
     "metadata": {},
     "output_type": "execute_result"
    }
   ],
   "source": [
    "6*4"
   ]
  },
  {
   "cell_type": "code",
   "execution_count": 14,
   "metadata": {
    "colab": {},
    "colab_type": "code",
    "id": "AmcKhv6MFa0H"
   },
   "outputs": [
    {
     "data": {
      "text/plain": [
       "1.5"
      ]
     },
     "execution_count": 14,
     "metadata": {},
     "output_type": "execute_result"
    }
   ],
   "source": [
    "6/4"
   ]
  },
  {
   "cell_type": "code",
   "execution_count": 15,
   "metadata": {
    "colab": {},
    "colab_type": "code",
    "id": "lOXKq3lfFa0L"
   },
   "outputs": [
    {
     "data": {
      "text/plain": [
       "1"
      ]
     },
     "execution_count": 15,
     "metadata": {},
     "output_type": "execute_result"
    }
   ],
   "source": [
    "6//4"
   ]
  },
  {
   "cell_type": "code",
   "execution_count": 16,
   "metadata": {
    "colab": {},
    "colab_type": "code",
    "id": "5JkY7zHWFa0P",
    "scrolled": true
   },
   "outputs": [
    {
     "data": {
      "text/plain": [
       "10"
      ]
     },
     "execution_count": 16,
     "metadata": {},
     "output_type": "execute_result"
    }
   ],
   "source": [
    "31//3"
   ]
  },
  {
   "cell_type": "code",
   "execution_count": 17,
   "metadata": {
    "colab": {},
    "colab_type": "code",
    "id": "SkSZn37sFa0S"
   },
   "outputs": [
    {
     "data": {
      "text/plain": [
       "2"
      ]
     },
     "execution_count": 17,
     "metadata": {},
     "output_type": "execute_result"
    }
   ],
   "source": [
    "6%4"
   ]
  },
  {
   "cell_type": "code",
   "execution_count": 18,
   "metadata": {
    "colab": {},
    "colab_type": "code",
    "id": "uzRUkOswFa0U"
   },
   "outputs": [
    {
     "data": {
      "text/plain": [
       "0"
      ]
     },
     "execution_count": 18,
     "metadata": {},
     "output_type": "execute_result"
    }
   ],
   "source": [
    "100%10"
   ]
  },
  {
   "cell_type": "markdown",
   "metadata": {
    "colab_type": "text",
    "id": "hXniEx3iFa0Y"
   },
   "source": [
    "숫자는 할당 연산자(=)를 활용해서 값을 새로 할당하지 않는 이상 값을 바꿀 수 없습니다."
   ]
  },
  {
   "cell_type": "code",
   "execution_count": 19,
   "metadata": {
    "colab": {},
    "colab_type": "code",
    "id": "pgrF5QspFa0Z"
   },
   "outputs": [
    {
     "name": "stdout",
     "output_type": "stream",
     "text": [
      "4 6\n",
      "6 6\n"
     ]
    }
   ],
   "source": [
    "a = 4\n",
    "b = a + 2 # a를 새로 정의하지 않았기 때문에 바뀌지 않고 새로운 변수 b에 저장\n",
    "\n",
    "print(a, b)\n",
    "\n",
    "a = a + 2\n",
    "\n",
    "print(a, b)"
   ]
  },
  {
   "cell_type": "markdown",
   "metadata": {
    "colab_type": "text",
    "id": "-nK1etHWFa0c"
   },
   "source": [
    "## 2-(2) 논리 (boolean/bool)\n",
    "\n",
    "- 참(True)과 거짓(False)을 나타내는 자료형\n",
    "- True/False 두 값만 가지고 있음 (대소문자 주의)\n",
    "- 변수를 새로 정의하지 않는 이상 변경할 수 없음 (immutable)"
   ]
  },
  {
   "cell_type": "markdown",
   "metadata": {
    "colab_type": "text",
    "id": "Ep1HR7_pFa0d"
   },
   "source": [
    "type()으로 자료형을 확인합니다."
   ]
  },
  {
   "cell_type": "code",
   "execution_count": 20,
   "metadata": {
    "colab": {},
    "colab_type": "code",
    "id": "2cPvUqtWFa0e"
   },
   "outputs": [
    {
     "data": {
      "text/plain": [
       "bool"
      ]
     },
     "execution_count": 20,
     "metadata": {},
     "output_type": "execute_result"
    }
   ],
   "source": [
    "type(True)"
   ]
  },
  {
   "cell_type": "markdown",
   "metadata": {
    "colab_type": "text",
    "id": "Uex3NYiWFa0h"
   },
   "source": [
    "비교연산자를 활용해서 변수의 값을 비교한 결과를 논리 자료형으로 확인할 수 있습니다. 동일한지를 비교하는 연산자(==)는 등호 두 번이고, 동일하지 않음을 비교하는 연산자는(!=) 등호 앞에 느낌표가 붙습니다.\n",
    "\n",
    "<table>\n",
    "<thead>\n",
    "<tr>\n",
    "<th align=\"center\">비교연산자</th>\n",
    "<th align=\"center\">설명</th>\n",
    "<th align=\"center\">예</th>\n",
    "</tr>\n",
    "</thead>\n",
    "<tbody>\n",
    "<tr>\n",
    "<td align=\"center\">==</td>\n",
    "<td align=\"center\">값이 동일하다</td>\n",
    "<td align=\"center\">(a == b) → False</td>\n",
    "</tr>\n",
    "<tr>\n",
    "<td align=\"center\">!=</td>\n",
    "<td align=\"center\">값이 동일하지 않다</td>\n",
    "<td align=\"center\">(a != b) → True</td>\n",
    "</tr>\n",
    "<tr>\n",
    "<td align=\"center\">&gt;</td>\n",
    "<td align=\"center\">왼쪽 값이 오른쪽 값보다 크다</td>\n",
    "<td align=\"center\">(a &gt; b) → False</td>\n",
    "</tr>\n",
    "<tr>\n",
    "<td align=\"center\">&lt;</td>\n",
    "<td align=\"center\">왼쪽 값이 오른쪽 값보다 작다</td>\n",
    "<td align=\"center\">(a &lt; b) → True</td>\n",
    "</tr>\n",
    "<tr>\n",
    "<td align=\"center\">&gt;=</td>\n",
    "<td align=\"center\">왼쪽 값이 오른쪽 값보다 크거나 동일하다</td>\n",
    "<td align=\"center\">(a &gt;= b) → False</td>\n",
    "</tr>\n",
    "<tr>\n",
    "<td align=\"center\">&lt;=</td>\n",
    "<td align=\"center\">왼쪽 값이 오른쪽 값보다 작거나 동일하다</td>\n",
    "<td align=\"center\">(a &lt;= b) → True</td>\n",
    "</tr>\n",
    "</tbody>\n",
    "</table>"
   ]
  },
  {
   "cell_type": "code",
   "execution_count": 21,
   "metadata": {
    "colab": {},
    "colab_type": "code",
    "id": "_MHeTgmQFa0i",
    "scrolled": true
   },
   "outputs": [
    {
     "data": {
      "text/plain": [
       "False"
      ]
     },
     "execution_count": 21,
     "metadata": {},
     "output_type": "execute_result"
    }
   ],
   "source": [
    "\"mystr\" == \"Mystr\" #대소문자 구분"
   ]
  },
  {
   "cell_type": "code",
   "execution_count": 22,
   "metadata": {
    "colab": {},
    "colab_type": "code",
    "id": "J9-gTFtJFa0l"
   },
   "outputs": [
    {
     "data": {
      "text/plain": [
       "True"
      ]
     },
     "execution_count": 22,
     "metadata": {},
     "output_type": "execute_result"
    }
   ],
   "source": [
    "32 != \"32\" # 숫자와 문자열은 다른 자료형"
   ]
  },
  {
   "cell_type": "code",
   "execution_count": 23,
   "metadata": {
    "colab": {},
    "colab_type": "code",
    "id": "bG2ql6JVFa0o"
   },
   "outputs": [
    {
     "data": {
      "text/plain": [
       "True"
      ]
     },
     "execution_count": 23,
     "metadata": {},
     "output_type": "execute_result"
    }
   ],
   "source": [
    "10 >= 5.5"
   ]
  },
  {
   "cell_type": "markdown",
   "metadata": {
    "colab_type": "text",
    "id": "5udzvW3VFa0r"
   },
   "source": [
    "보통 True/False 결과를 가지고 조건에 따라 작업해야 할 때 사용합니다."
   ]
  },
  {
   "cell_type": "markdown",
   "metadata": {
    "colab_type": "text",
    "id": "n3LDjcrNFa0s"
   },
   "source": [
    "## 2-(3) 문자열 (string) \n",
    "- 작은따옴표('')와 큰따옴표(\"\")로 정의\n",
    "- 순서가 있는 시퀀스(sequence)이므로 인덱싱(indexing)과 슬라이싱(slicing) 가능\n",
    "- 변수를 새로 정의하지 않는 이상 변경할 수 없음 (immutable)"
   ]
  },
  {
   "cell_type": "markdown",
   "metadata": {
    "colab_type": "text",
    "id": "utPvyeoNFa0t"
   },
   "source": [
    "아래와 같은 방식으로 정의할 수 있습니다."
   ]
  },
  {
   "cell_type": "code",
   "execution_count": 24,
   "metadata": {
    "colab": {},
    "colab_type": "code",
    "id": "By2XJ3xvFa0u"
   },
   "outputs": [
    {
     "data": {
      "text/plain": [
       "str"
      ]
     },
     "execution_count": 24,
     "metadata": {},
     "output_type": "execute_result"
    }
   ],
   "source": [
    "greeting = \"Hello world\"\n",
    "str2 = '\"Python is easy\", he said'\n",
    "str3 = '''Three \n",
    "single \n",
    "quotes'''\n",
    "str4 = \"\"\"Three \n",
    "double \n",
    "quotes\"\"\"\n",
    "\n",
    "type(str4)"
   ]
  },
  {
   "cell_type": "markdown",
   "metadata": {
    "colab_type": "text",
    "id": "WxR_ks8tFa0z"
   },
   "source": [
    "앞뒤로 잘 닫아주지 않으면 아래와 같은 에러가 발생합니다."
   ]
  },
  {
   "cell_type": "code",
   "execution_count": 25,
   "metadata": {
    "colab": {},
    "colab_type": "code",
    "id": "9qzFsZ7vFa0z"
   },
   "outputs": [],
   "source": [
    "# error!\n",
    "str1 = \"Please close\""
   ]
  },
  {
   "cell_type": "code",
   "execution_count": 26,
   "metadata": {
    "colab": {},
    "colab_type": "code",
    "id": "EZz7bKn9Fa04"
   },
   "outputs": [],
   "source": [
    "# error!\n",
    "str1 = \"Please close\""
   ]
  },
  {
   "cell_type": "markdown",
   "metadata": {
    "colab_type": "text",
    "id": "1DIhYrcUFa07"
   },
   "source": [
    "문자열은 순서가 있으며(sequence), 왼쪽에서 오른쪽 순으로 __0부터__ 부여된 순서를 인덱스(index)라고 합니다. 만약 저장된 인덱스를 넘어가서 값을 불러오려고 하면 에러가 발생합니다."
   ]
  },
  {
   "cell_type": "code",
   "execution_count": 27,
   "metadata": {
    "colab": {},
    "colab_type": "code",
    "id": "K9kb2qbxFa08"
   },
   "outputs": [],
   "source": [
    "mystr = \"PYTHON\""
   ]
  },
  {
   "cell_type": "markdown",
   "metadata": {
    "colab_type": "text",
    "id": "dczkzcXaFa1A"
   },
   "source": [
    "문자열 변수 mystr의 인덱스는 아래와 같습니다.\n",
    "<img src='https://github.com/eunyu1031/Media_interface_2020Spr/blob/master/pics/index.png?raw=true'/>"
   ]
  },
  {
   "cell_type": "code",
   "execution_count": 28,
   "metadata": {
    "colab": {},
    "colab_type": "code",
    "id": "7U3VyLYxFa1C"
   },
   "outputs": [
    {
     "name": "stdout",
     "output_type": "stream",
     "text": [
      "P T O N\n"
     ]
    }
   ],
   "source": [
    "print(mystr[0], mystr[2], mystr[4], mystr[5])"
   ]
  },
  {
   "cell_type": "code",
   "execution_count": 29,
   "metadata": {
    "colab": {},
    "colab_type": "code",
    "id": "ncX4Z65wFa1F"
   },
   "outputs": [
    {
     "ename": "IndexError",
     "evalue": "string index out of range",
     "output_type": "error",
     "traceback": [
      "\u001b[1;31m---------------------------------------------------------------------------\u001b[0m",
      "\u001b[1;31mIndexError\u001b[0m                                Traceback (most recent call last)",
      "\u001b[1;32m<ipython-input-29-9e8cf8fff54d>\u001b[0m in \u001b[0;36m<module>\u001b[1;34m\u001b[0m\n\u001b[1;32m----> 1\u001b[1;33m \u001b[0mprint\u001b[0m\u001b[1;33m(\u001b[0m\u001b[0mmystr\u001b[0m\u001b[1;33m[\u001b[0m\u001b[1;36m6\u001b[0m\u001b[1;33m]\u001b[0m\u001b[1;33m)\u001b[0m \u001b[1;31m# error! mystr은 인덱스를 5까지만 가지고 있음\u001b[0m\u001b[1;33m\u001b[0m\u001b[1;33m\u001b[0m\u001b[0m\n\u001b[0m",
      "\u001b[1;31mIndexError\u001b[0m: string index out of range"
     ]
    }
   ],
   "source": [
    "print(mystr[6]) # error! mystr은 인덱스를 5까지만 가지고 있음"
   ]
  },
  {
   "cell_type": "code",
   "execution_count": 30,
   "metadata": {
    "colab": {},
    "colab_type": "code",
    "id": "3NRNOMVAFa1I"
   },
   "outputs": [
    {
     "name": "stdout",
     "output_type": "stream",
     "text": [
      "N\n"
     ]
    }
   ],
   "source": [
    "print(mystr[-1]) # 음수를 사용해서 뒤에서부터 불러오기"
   ]
  },
  {
   "cell_type": "markdown",
   "metadata": {
    "colab_type": "text",
    "id": "wWqenUaQFa1O"
   },
   "source": [
    "슬라이싱(slicing)은 시퀀스(sequence)로부터 연속적인 부분을 가져올 수 있습니다. "
   ]
  },
  {
   "cell_type": "code",
   "execution_count": 31,
   "metadata": {
    "colab": {},
    "colab_type": "code",
    "id": "W61eWY0mFa1P"
   },
   "outputs": [
    {
     "name": "stdout",
     "output_type": "stream",
     "text": [
      "Y\n"
     ]
    }
   ],
   "source": [
    "print(mystr[1:2])"
   ]
  },
  {
   "cell_type": "code",
   "execution_count": 32,
   "metadata": {
    "colab": {},
    "colab_type": "code",
    "id": "Tv5W8SzAFa1S"
   },
   "outputs": [
    {
     "name": "stdout",
     "output_type": "stream",
     "text": [
      "YT\n"
     ]
    }
   ],
   "source": [
    "print(mystr[1:3])"
   ]
  },
  {
   "cell_type": "markdown",
   "metadata": {
    "colab_type": "text",
    "id": "znWwF0F_Fa1W"
   },
   "source": [
    "__변수이름[시작:끝]__으로 정의하며, __끝 인덱스의 값은 표시되지 않__습니다. 만약 '시작' 이나 '끝' 중 하나를 비운다면 맨 처음부터 시작 또는 맨 끝까지 표시한다는 뜻입니다. "
   ]
  },
  {
   "cell_type": "code",
   "execution_count": 33,
   "metadata": {
    "colab": {},
    "colab_type": "code",
    "id": "kgXL30wfFa1X"
   },
   "outputs": [],
   "source": [
    "fruit = \"apple banana cherry\""
   ]
  },
  {
   "cell_type": "code",
   "execution_count": 34,
   "metadata": {
    "colab": {},
    "colab_type": "code",
    "id": "xnTaMeA-Fa1Z"
   },
   "outputs": [
    {
     "data": {
      "text/plain": [
       "'apple'"
      ]
     },
     "execution_count": 34,
     "metadata": {},
     "output_type": "execute_result"
    }
   ],
   "source": [
    "fruit[0:5] # 인덱스 0 이상 5 미만: 0, 1, 2, 3, 4인 apple 출력"
   ]
  },
  {
   "cell_type": "code",
   "execution_count": 35,
   "metadata": {
    "colab": {},
    "colab_type": "code",
    "id": "vXgiN9XUFa1b"
   },
   "outputs": [
    {
     "data": {
      "text/plain": [
       "'apple'"
      ]
     },
     "execution_count": 35,
     "metadata": {},
     "output_type": "execute_result"
    }
   ],
   "source": [
    "fruit[:5] # 시작을 비운 경우: 처음부터 5미만"
   ]
  },
  {
   "cell_type": "code",
   "execution_count": 36,
   "metadata": {
    "colab": {},
    "colab_type": "code",
    "id": "hCGsZEOeFa1f",
    "scrolled": true
   },
   "outputs": [
    {
     "data": {
      "text/plain": [
       "'banana'"
      ]
     },
     "execution_count": 36,
     "metadata": {},
     "output_type": "execute_result"
    }
   ],
   "source": [
    "fruit[6:12]"
   ]
  },
  {
   "cell_type": "code",
   "execution_count": 37,
   "metadata": {
    "colab": {},
    "colab_type": "code",
    "id": "PMMYeIPwFa1m"
   },
   "outputs": [
    {
     "data": {
      "text/plain": [
       "'cherry'"
      ]
     },
     "execution_count": 37,
     "metadata": {},
     "output_type": "execute_result"
    }
   ],
   "source": [
    "fruit[13:] # 끝을 비운 경우: 13부터 끝까지"
   ]
  },
  {
   "cell_type": "markdown",
   "metadata": {
    "colab_type": "text",
    "id": "gSUZC2RIFa1p"
   },
   "source": [
    "문자열의 길이를 알면 없는 인덱스를 부르는 IndexError를 방지할 수 있습니다. len(변수)를 활용합니다."
   ]
  },
  {
   "cell_type": "code",
   "execution_count": 38,
   "metadata": {
    "colab": {},
    "colab_type": "code",
    "id": "nZX01EYLFa1q"
   },
   "outputs": [
    {
     "name": "stdout",
     "output_type": "stream",
     "text": [
      "5 19\n"
     ]
    }
   ],
   "source": [
    "print(len(\"Hello\"), len(fruit))"
   ]
  },
  {
   "cell_type": "markdown",
   "metadata": {
    "colab_type": "text",
    "id": "eaESM1y2Fa1s"
   },
   "source": [
    "문자열의 +, * 연산은 숫자와 다릅니다."
   ]
  },
  {
   "cell_type": "code",
   "execution_count": 39,
   "metadata": {
    "colab": {},
    "colab_type": "code",
    "id": "-FU_yU90Fa1u"
   },
   "outputs": [
    {
     "name": "stdout",
     "output_type": "stream",
     "text": [
      "34 7\n",
      "ZZZZ\n"
     ]
    }
   ],
   "source": [
    "print('3'+'4', 3 + 4)\n",
    "print('Z'* 4)"
   ]
  },
  {
   "cell_type": "markdown",
   "metadata": {
    "colab_type": "text",
    "id": "1DUJIkXHFa10"
   },
   "source": [
    "<p style=\"color:#0000FF\";><font size = \"5\"><b>\n",
    "연습하기\n",
    "    </b></font></p>\n",
    "    \n",
    "#### (1) 1 킬로미터(km)는 약 0.62 마일(mile)입니다. \n",
    "- 60킬로미터는 몇 마일인지 계산하고 이름이 'result'인 숫자 변수에 결과를 저장하세요. \n",
    "- print()를 사용해 'result'변수의 값을 출력하세요.\n",
    "\n",
    "#### (2) \"저는 홍길동이고, 17학번입니다.\"처럼 본인의 자기소개 문장을 출력하세요. \n",
    "- 문자열 변수 name, 숫자 변수 num을 만드세요. \n",
    "\n",
    "#### (3) 문자열 변수 'veg'에서 인덱싱과 슬라이싱을 활용하세요.\n",
    "- (a) 대문자 C, G, P만 골라서 출력하세요.\n",
    "- (b) 'Garlic'만 print를 활용해 출력해 보세요.\n",
    "\n",
    "#### (4) '12345를 67로 나누고 남은 나머지는 15보다 작거나 같다' \n",
    "- 이 문장이 참인지 거짓인지 확인하세요."
   ]
  },
  {
   "cell_type": "code",
   "execution_count": 0,
   "metadata": {
    "colab": {},
    "colab_type": "code",
    "id": "HDKIputtFa11"
   },
   "outputs": [],
   "source": [
    "# (1) km to mile\n",
    "\n"
   ]
  },
  {
   "cell_type": "code",
   "execution_count": 0,
   "metadata": {
    "colab": {},
    "colab_type": "code",
    "id": "ItXq6Uc2Fa14"
   },
   "outputs": [],
   "source": [
    "# (2) 자기소개: 문자열 변수 name, 숫자 변수 num 만들기\n",
    "\n",
    "\n",
    "\n",
    "print(\"제 이름은\", name, \"이고,\", num, \"학번입니다.\")"
   ]
  },
  {
   "cell_type": "code",
   "execution_count": 0,
   "metadata": {
    "colab": {},
    "colab_type": "code",
    "id": "V4ZgG4o9Fa1-"
   },
   "outputs": [],
   "source": [
    "# (3) indexing/slicing\n",
    "veg = \"Carrot, Garlic, and Potato\"\n",
    "\n",
    "# (3)-a. 'veg'에서 인덱싱을 이용해 대문자만 출력\n",
    "\n",
    "\n",
    "\n",
    "# (3)-b. 'veg'에서 슬라이싱을 이용해 'Garlic'만 출력\n",
    "\n"
   ]
  },
  {
   "cell_type": "code",
   "execution_count": 0,
   "metadata": {
    "colab": {},
    "colab_type": "code",
    "id": "QjmOIAaBFa2B"
   },
   "outputs": [],
   "source": [
    "# (4) 참과 거짓, 숫자의 연산\n",
    "\n"
   ]
  },
  {
   "cell_type": "markdown",
   "metadata": {
    "colab_type": "text",
    "id": "Db1RlfgWFa2T"
   },
   "source": [
    "## 2-(4) 리스트 (list) \n",
    "- 대괄호[]로 정의\n",
    "- 여러 값을 저장할 수 있는 1차원 배열 자료형으로, 숫자, 문자열, 같은 리스트도 리스트 안의 아이템으로 저장 가능\n",
    "- 순서가 있는 시퀀스(sequence)이므로 인덱싱(indexing)과 슬라이싱(slicing) 가능\n",
    "- 변수를 새로 정의하지 않아도 수정/삭제/추가 가능 (mutable)"
   ]
  },
  {
   "cell_type": "markdown",
   "metadata": {
    "colab_type": "text",
    "id": "je4OVy_fFa2U"
   },
   "source": [
    "리스트는 대괄호[ ]를 사용해서 정의합니다. 여러 아이템을 넣을 때에는 쉼표(,)로 구분합니다."
   ]
  },
  {
   "cell_type": "code",
   "execution_count": 40,
   "metadata": {
    "colab": {},
    "colab_type": "code",
    "id": "Zw-mafkXFa2U"
   },
   "outputs": [
    {
     "name": "stdout",
     "output_type": "stream",
     "text": [
      "<class 'list'> []\n"
     ]
    }
   ],
   "source": [
    "empty_list = []\n",
    "print(type(empty_list), empty_list)"
   ]
  },
  {
   "cell_type": "markdown",
   "metadata": {
    "colab_type": "text",
    "id": "yt1xlghLFa2W"
   },
   "source": [
    "다양한 리스트를 살펴봅시다."
   ]
  },
  {
   "cell_type": "code",
   "execution_count": 41,
   "metadata": {
    "colab": {},
    "colab_type": "code",
    "id": "0BDXeqhnFa2X"
   },
   "outputs": [
    {
     "name": "stdout",
     "output_type": "stream",
     "text": [
      "[1, 2, 3]\n",
      "['Life', 'is', 'too', 'short', 'to', 'die']\n",
      "[1, 2, 'Life', 'is']\n",
      "[1, 2, ['Life', 'is']]\n"
     ]
    }
   ],
   "source": [
    "list1 = [1, 2, 3]\n",
    "\n",
    "list2 = ['Life','is','too','short','to','die']\n",
    "\n",
    "list3 = [1, 2, 'Life','is'] # 서로 다른 자료형을 저장\n",
    "\n",
    "list4 = [1, 2, ['Life','is']] # 리스트 안의 아이템으로 리스트를 저장\n",
    "\n",
    "print(list1)\n",
    "print(list2)\n",
    "print(list3)\n",
    "print(list4)"
   ]
  },
  {
   "cell_type": "markdown",
   "metadata": {
    "colab_type": "text",
    "id": "wFE13XvyFa2Z"
   },
   "source": [
    "앞뒤로 괄호를 잘 닫지 않거나, 아이템 간에 쉼표(,)로 잘 구분하지 않으면 에러가 발생합니다."
   ]
  },
  {
   "cell_type": "code",
   "execution_count": 42,
   "metadata": {
    "colab": {},
    "colab_type": "code",
    "id": "u6af-OkjFa2Z"
   },
   "outputs": [
    {
     "ename": "SyntaxError",
     "evalue": "unexpected EOF while parsing (<ipython-input-42-26516403c366>, line 2)",
     "output_type": "error",
     "traceback": [
      "\u001b[1;36m  File \u001b[1;32m\"<ipython-input-42-26516403c366>\"\u001b[1;36m, line \u001b[1;32m2\u001b[0m\n\u001b[1;33m    temp = [1, 2, 3\u001b[0m\n\u001b[1;37m                   ^\u001b[0m\n\u001b[1;31mSyntaxError\u001b[0m\u001b[1;31m:\u001b[0m unexpected EOF while parsing\n"
     ]
    }
   ],
   "source": [
    "# error!\n",
    "temp = [1, 2, 3"
   ]
  },
  {
   "cell_type": "code",
   "execution_count": 43,
   "metadata": {
    "colab": {},
    "colab_type": "code",
    "id": "_7qd9IkyFa2b"
   },
   "outputs": [
    {
     "ename": "SyntaxError",
     "evalue": "invalid syntax (<ipython-input-43-5b2d753d6f8e>, line 2)",
     "output_type": "error",
     "traceback": [
      "\u001b[1;36m  File \u001b[1;32m\"<ipython-input-43-5b2d753d6f8e>\"\u001b[1;36m, line \u001b[1;32m2\u001b[0m\n\u001b[1;33m    temp = [1, 2 3]\u001b[0m\n\u001b[1;37m                 ^\u001b[0m\n\u001b[1;31mSyntaxError\u001b[0m\u001b[1;31m:\u001b[0m invalid syntax\n"
     ]
    }
   ],
   "source": [
    "# error!\n",
    "temp = [1, 2 3]"
   ]
  },
  {
   "cell_type": "markdown",
   "metadata": {
    "colab_type": "text",
    "id": "oxy9AuF1Fa2d"
   },
   "source": [
    "리스트 역시 문자열처럼 시퀀스(sequence)이므로 왼쪽에서 오른쪽 방향으로 순서가 있으며, __0부터__ 시작하는 인덱스를 사용해서 아이템(들)을 가져올 수 있습니다. "
   ]
  },
  {
   "cell_type": "code",
   "execution_count": 44,
   "metadata": {
    "colab": {},
    "colab_type": "code",
    "id": "5Lx0iUBAFa2e"
   },
   "outputs": [],
   "source": [
    "mylist = [10, 9, 8, 7, ['Life','is']]"
   ]
  },
  {
   "cell_type": "code",
   "execution_count": 45,
   "metadata": {
    "colab": {},
    "colab_type": "code",
    "id": "4ycre_JiFa2i"
   },
   "outputs": [
    {
     "name": "stdout",
     "output_type": "stream",
     "text": [
      "10 7 ['Life', 'is']\n"
     ]
    }
   ],
   "source": [
    "print(mylist[0], mylist[3], mylist[-1])"
   ]
  },
  {
   "cell_type": "markdown",
   "metadata": {
    "colab_type": "text",
    "id": "Zncp0JWZFa2l"
   },
   "source": [
    "리스트 변수 mylist안의 ['Life','is']는 하나의 아이템으로 취급하여 길이는 5입니다."
   ]
  },
  {
   "cell_type": "code",
   "execution_count": 46,
   "metadata": {
    "colab": {},
    "colab_type": "code",
    "id": "1bFyc3orFa2l"
   },
   "outputs": [
    {
     "name": "stdout",
     "output_type": "stream",
     "text": [
      "5 [10, 9]\n"
     ]
    }
   ],
   "source": [
    "print(len(mylist), mylist[:2])"
   ]
  },
  {
   "cell_type": "markdown",
   "metadata": {
    "colab_type": "text",
    "id": "pGwsBSjmFa2o"
   },
   "source": [
    "리스트 안의 리스트 값을 가져오고 싶다면 인덱스를 겹쳐서 사용하면 됩니다."
   ]
  },
  {
   "cell_type": "code",
   "execution_count": 47,
   "metadata": {
    "colab": {},
    "colab_type": "code",
    "id": "_FnGbH-PFa2p"
   },
   "outputs": [
    {
     "name": "stdout",
     "output_type": "stream",
     "text": [
      "['Life', 'is'] Life L\n"
     ]
    }
   ],
   "source": [
    "print(mylist[4], mylist[4][0], mylist[4][0][0])"
   ]
  },
  {
   "cell_type": "markdown",
   "metadata": {
    "colab_type": "text",
    "id": "NjqTBLrVFa2r"
   },
   "source": [
    "리스트는 문자열과 달리 변수를 새로 정의하지 않아도 리스트의 값을 수정할 수 있습니다."
   ]
  },
  {
   "cell_type": "code",
   "execution_count": 48,
   "metadata": {
    "colab": {},
    "colab_type": "code",
    "id": "eMpSfNIQFa2r"
   },
   "outputs": [
    {
     "name": "stdout",
     "output_type": "stream",
     "text": [
      "[11, 14, 17, 19]\n",
      "[11, 13, 17, 19]\n"
     ]
    }
   ],
   "source": [
    "urlist = [11, 14, 17, 19]\n",
    "print(urlist)\n",
    "\n",
    "urlist[1] = 13 # 변수 자체를 새로 정의하지 않고 일부만 수정\n",
    "print(urlist)"
   ]
  },
  {
   "cell_type": "code",
   "execution_count": 49,
   "metadata": {
    "colab": {},
    "colab_type": "code",
    "id": "4d5nNryZFa2u"
   },
   "outputs": [
    {
     "ename": "TypeError",
     "evalue": "'str' object does not support item assignment",
     "output_type": "error",
     "traceback": [
      "\u001b[1;31m---------------------------------------------------------------------------\u001b[0m",
      "\u001b[1;31mTypeError\u001b[0m                                 Traceback (most recent call last)",
      "\u001b[1;32m<ipython-input-49-1b164fcca353>\u001b[0m in \u001b[0;36m<module>\u001b[1;34m\u001b[0m\n\u001b[0;32m      1\u001b[0m \u001b[0mtest\u001b[0m \u001b[1;33m=\u001b[0m \u001b[1;34m\"test str\"\u001b[0m\u001b[1;33m\u001b[0m\u001b[1;33m\u001b[0m\u001b[0m\n\u001b[1;32m----> 2\u001b[1;33m \u001b[0mtest\u001b[0m\u001b[1;33m[\u001b[0m\u001b[1;36m0\u001b[0m\u001b[1;33m]\u001b[0m \u001b[1;33m=\u001b[0m \u001b[1;34m'T'\u001b[0m  \u001b[1;31m# error!\u001b[0m\u001b[1;33m\u001b[0m\u001b[1;33m\u001b[0m\u001b[0m\n\u001b[0m",
      "\u001b[1;31mTypeError\u001b[0m: 'str' object does not support item assignment"
     ]
    }
   ],
   "source": [
    "test = \"test str\"\n",
    "test[0] = 'T'  # error!"
   ]
  },
  {
   "cell_type": "markdown",
   "metadata": {
    "colab_type": "text",
    "id": "x_8lgRA0Fa2x"
   },
   "source": [
    "## 2-(5) 튜플 (tuple) \n",
    "- 소괄호()로 정의\n",
    "- 여러 값을 저장할 수 있는 자료형으로, 숫자, 문자열, 리스트, 튜플 등 여러 자료형을 아이템으로 저장 가능\n",
    "- 순서가 있는 시퀀스(sequence)이므로 인덱싱(indexing)과 슬라이싱(slicing) 가능\n",
    "- 리스트와 가장 큰 차이: 변수를 새로 정의하지 않는 이상 변경할 수 없음 (immutable)"
   ]
  },
  {
   "cell_type": "code",
   "execution_count": 50,
   "metadata": {
    "colab": {},
    "colab_type": "code",
    "id": "DJY0_VAUFa23"
   },
   "outputs": [
    {
     "name": "stdout",
     "output_type": "stream",
     "text": [
      "<class 'tuple'> <class 'tuple'> <class 'tuple'>\n",
      "(1, 2, 3)\n",
      "('a', 'b', ('c', 'd'), ['e', 'f'], 99)\n",
      "a\n",
      "('a', 'b')\n"
     ]
    }
   ],
   "source": [
    "t1 = ()\n",
    "t2 = (1,) # 1개만 있을 때도 뒤에 콤마를 붙여야 tuple\n",
    "t3 = (1,2,3)\n",
    "t4 = 1,2,3 # 괄호를 쓰지 않으면 튜플이 됩니다.\n",
    "t5 = ('a','b',('c','d'), ['e', 'f'],99)\n",
    "\n",
    "print(type(t1), type(t2), type(t3))\n",
    "print(t4)\n",
    "print(t5)\n",
    "print(t5[0]) # 인덱스로 불러오기\n",
    "print(t5[:2]) # 슬라이싱"
   ]
  },
  {
   "cell_type": "code",
   "execution_count": 51,
   "metadata": {
    "colab": {},
    "colab_type": "code",
    "id": "OJzGXG7vFa3B"
   },
   "outputs": [
    {
     "ename": "TypeError",
     "evalue": "'tuple' object does not support item assignment",
     "output_type": "error",
     "traceback": [
      "\u001b[1;31m---------------------------------------------------------------------------\u001b[0m",
      "\u001b[1;31mTypeError\u001b[0m                                 Traceback (most recent call last)",
      "\u001b[1;32m<ipython-input-51-a4ca5f70dec5>\u001b[0m in \u001b[0;36m<module>\u001b[1;34m\u001b[0m\n\u001b[1;32m----> 1\u001b[1;33m \u001b[0mt5\u001b[0m\u001b[1;33m[\u001b[0m\u001b[1;36m0\u001b[0m\u001b[1;33m]\u001b[0m \u001b[1;33m=\u001b[0m \u001b[1;34m'z'\u001b[0m \u001b[1;31m# error! 새로 정의하지 않으면 변경할 수 없음\u001b[0m\u001b[1;33m\u001b[0m\u001b[1;33m\u001b[0m\u001b[0m\n\u001b[0m",
      "\u001b[1;31mTypeError\u001b[0m: 'tuple' object does not support item assignment"
     ]
    }
   ],
   "source": [
    "t5[0] = 'z' # error! 새로 정의하지 않으면 변경할 수 없음"
   ]
  },
  {
   "cell_type": "markdown",
   "metadata": {
    "colab_type": "text",
    "id": "blT5p5lqFa3F"
   },
   "source": [
    "## 2-(6) 딕셔너리 (dictionary) \n",
    "- 중괄호{}로 정의\n",
    "- 여러 값을 저장할 수 있는 자료형으로, key:value가 한 쌍으로 하나의 항목을 이룸(mapping)\n",
    "- 변수를 새로 정의하지 않아도 수정/삭제/추가 가능 (mutable)"
   ]
  },
  {
   "cell_type": "markdown",
   "metadata": {
    "colab_type": "text",
    "id": "Qi4It01sFa3G"
   },
   "source": [
    "딕셔너리는 {key1:value1, key2:value2, key3:value3, ...} 형식으로 구성됩니다."
   ]
  },
  {
   "cell_type": "code",
   "execution_count": 52,
   "metadata": {
    "colab": {},
    "colab_type": "code",
    "id": "RjJnG-O5Fa3I"
   },
   "outputs": [
    {
     "name": "stdout",
     "output_type": "stream",
     "text": [
      "{}\n",
      "{1: 'red', 2: 'orange', 3: 'yellow'}\n",
      "{'name': 'Hong', 'birth': '2000', 101: 'hello world', 'num': [1, 2, 3, 4, 5]}\n"
     ]
    }
   ],
   "source": [
    "dic1 = {}\n",
    "dic2 = {1: \"red\", 2:\"orange\", 3:\"yellow\"}\n",
    "dic3 = {'name':'Hong','birth':'2000', 101:'hello world','num':[1,2,3,4,5]}\n",
    "\n",
    "print(dic1)\n",
    "print(dic2)\n",
    "print(dic3)"
   ]
  },
  {
   "cell_type": "markdown",
   "metadata": {
    "colab_type": "text",
    "id": "du67FlDhFa3L"
   },
   "source": [
    "몇 개의 아이템이 있는지 len(변수이름)으로 확인할 수 있습니다."
   ]
  },
  {
   "cell_type": "code",
   "execution_count": 53,
   "metadata": {
    "colab": {},
    "colab_type": "code",
    "id": "k6slcf9_Fa3M"
   },
   "outputs": [
    {
     "name": "stdout",
     "output_type": "stream",
     "text": [
      "0 3 4\n"
     ]
    }
   ],
   "source": [
    "print(len(dic1), len(dic2), len(dic3))"
   ]
  },
  {
   "cell_type": "markdown",
   "metadata": {
    "colab_type": "text",
    "id": "0o9LpdwSFa3Q"
   },
   "source": [
    "딕셔너리는 key에 따라 value를 불러온다는 점에 유의합니다."
   ]
  },
  {
   "cell_type": "code",
   "execution_count": 54,
   "metadata": {
    "colab": {},
    "colab_type": "code",
    "id": "-86piAQ7Fa3R"
   },
   "outputs": [],
   "source": [
    "dic4 = {'name':'Hong', 101:'hello world','num':[1,2,3,4,5]}"
   ]
  },
  {
   "cell_type": "code",
   "execution_count": 56,
   "metadata": {
    "colab": {},
    "colab_type": "code",
    "id": "I1DHSU-qFa3V"
   },
   "outputs": [
    {
     "ename": "KeyError",
     "evalue": "0",
     "output_type": "error",
     "traceback": [
      "\u001b[1;31m---------------------------------------------------------------------------\u001b[0m",
      "\u001b[1;31mKeyError\u001b[0m                                  Traceback (most recent call last)",
      "\u001b[1;32m<ipython-input-56-e9df469ef018>\u001b[0m in \u001b[0;36m<module>\u001b[1;34m\u001b[0m\n\u001b[1;32m----> 1\u001b[1;33m \u001b[0mprint\u001b[0m\u001b[1;33m(\u001b[0m\u001b[0mdic4\u001b[0m\u001b[1;33m[\u001b[0m\u001b[1;36m0\u001b[0m\u001b[1;33m]\u001b[0m\u001b[1;33m)\u001b[0m \u001b[1;31m# error!\u001b[0m\u001b[1;33m\u001b[0m\u001b[1;33m\u001b[0m\u001b[0m\n\u001b[0m",
      "\u001b[1;31mKeyError\u001b[0m: 0"
     ]
    }
   ],
   "source": [
    "print(dic4[0]) # error! "
   ]
  },
  {
   "cell_type": "code",
   "execution_count": 57,
   "metadata": {
    "colab": {},
    "colab_type": "code",
    "id": "XBiqjBTmFa3Y"
   },
   "outputs": [
    {
     "name": "stdout",
     "output_type": "stream",
     "text": [
      "Hong\n"
     ]
    }
   ],
   "source": [
    "print(dic4['name']) # mapping이므로 key로 value를 부름"
   ]
  },
  {
   "cell_type": "code",
   "execution_count": 58,
   "metadata": {
    "colab": {},
    "colab_type": "code",
    "id": "UeAeYo24Fa3d"
   },
   "outputs": [
    {
     "name": "stdout",
     "output_type": "stream",
     "text": [
      "hello world\n"
     ]
    }
   ],
   "source": [
    "print(dic4[101]) # 101번째가 아니라, mapping이므로 key 101로 value를 부름"
   ]
  },
  {
   "cell_type": "markdown",
   "metadata": {
    "colab_type": "text",
    "id": "i4WweoeVFa3e"
   },
   "source": [
    "key를 가지고 value를 수정하거나 추가할 수 있습니다."
   ]
  },
  {
   "cell_type": "code",
   "execution_count": 59,
   "metadata": {
    "colab": {},
    "colab_type": "code",
    "id": "0DN4l0ALFa3f"
   },
   "outputs": [
    {
     "name": "stdout",
     "output_type": "stream",
     "text": [
      "{'name': '홍길동', 101: 'hello world', 'num': [1, 2, 3, 4, 5]}\n"
     ]
    }
   ],
   "source": [
    "dic4['name'] = \"홍길동\" # 이미 있는 key인 경우 수정\n",
    "print(dic4)"
   ]
  },
  {
   "cell_type": "code",
   "execution_count": 60,
   "metadata": {
    "colab": {},
    "colab_type": "code",
    "id": "hztRLRe8Fa3i"
   },
   "outputs": [
    {
     "name": "stdout",
     "output_type": "stream",
     "text": [
      "{'name': '홍길동', 101: 'hello world', 'num': [1, 2, 3, 4, 5], 'school': '중앙대학교'}\n"
     ]
    }
   ],
   "source": [
    "dic4['school'] = \"중앙대학교\" # 없는 key인 경우 추가\n",
    "print(dic4)"
   ]
  },
  {
   "cell_type": "markdown",
   "metadata": {
    "colab_type": "text",
    "id": "sSxBGkDaFa3j"
   },
   "source": [
    "<p style=\"color:#0000FF\";><font size = \"5\"><b>\n",
    "연습하기\n",
    "    </b></font></p>\n",
    "    \n",
    "#### (1) 주어진 리스트 변수 'numlist' 에서 다음과 같은 정보를 출력하세요.\n",
    "- 'numlist'의 길이를 출력하세요.\n",
    "- 인덱싱으로 아이템 'three'만 골라내어 출력하세요.\n",
    "\n",
    "#### (2) 다음과 같은 튜플을 만드세요.\n",
    "- 1부터 10까지의 정수를 저장하는 튜플 변수를 만드세요.\n",
    "- 맨 뒤의 5개 아이템만 슬라이싱으로 출력하세요.\n",
    "\n",
    "#### (3) 딕셔너리 변수 'myfruit'에 다음과 같은 아이템을 추가하세요.\n",
    "- 문자열 'B'를 key로 하는 문자열 value 'Blueberry'\n",
    "- 문자열 'M'를 key로 하는 문자열 value 'Mango'\n",
    "- 문자열 'money'를 key로 하는 숫자 value 50000\n",
    "- 모두 추가한 후 'myfruit'를 출력하세요.\n",
    "\n",
    "#### (4) 다음과 같은 key:value를 가지는 딕셔너리 변수 'stat'을 만드세요.\n",
    "- 문자열 'state'를 key로 하는 리스트 value ['Ohio', 'Nevada', 'Texas']\n",
    "- 문자열 'pop'을 key로 하는 리스트 value [3.7, 8.1, 5.8]\n",
    "- 딕셔너리 변수 'stat'에서 'Nevada'와 '8.1'만 출력하세요."
   ]
  },
  {
   "cell_type": "code",
   "execution_count": 0,
   "metadata": {
    "colab": {},
    "colab_type": "code",
    "id": "uLPHJGy2Fa3o"
   },
   "outputs": [],
   "source": [
    "# (1) 리스트\n",
    "numlist = ['one','two','three','four','five','six']\n",
    "\n",
    "#출력\n"
   ]
  },
  {
   "cell_type": "code",
   "execution_count": 0,
   "metadata": {
    "colab": {},
    "colab_type": "code",
    "id": "rrXAO8xSFa3t"
   },
   "outputs": [],
   "source": [
    "# (2) 튜플 만들기\n",
    "\n",
    "\n",
    "#출력\n"
   ]
  },
  {
   "cell_type": "code",
   "execution_count": 0,
   "metadata": {
    "colab": {},
    "colab_type": "code",
    "id": "z9BGmFOCFa3x"
   },
   "outputs": [],
   "source": [
    "# (3) 딕셔너리\n",
    "myfruit = {'K':'Kiwi'}\n",
    "\n",
    "# 아이템 추가\n",
    "\n",
    "\n",
    "\n",
    "\n",
    "# 출력\n"
   ]
  },
  {
   "cell_type": "code",
   "execution_count": 0,
   "metadata": {
    "colab": {},
    "colab_type": "code",
    "id": "nuRgT0aiFa30"
   },
   "outputs": [],
   "source": [
    "# (4) 딕셔너리와 리스트 (변수 만들기)\n",
    "\n",
    "\n",
    "#출력\n",
    "\n"
   ]
  },
  {
   "cell_type": "markdown",
   "metadata": {
    "colab_type": "text",
    "id": "BriE9z6lFa3-"
   },
   "source": [
    "# 3. Pandas\n",
    "\n",
    "파이썬에서 데이터를 다루기 위해 필요한 라이브러리로, 구조화된 데이터를 빠르고 쉽게 다양한 형식으로 가공할 수 있는 자료형과 함수를 제공합니다. Pandas에 대해 알아보려면 __(1)Series__와 __(2)DataFrame__, 두 가지 자료형에 익숙해질 필요가 있습니다.\n",
    "\n",
    "jupyter notebook/google colab에 pandas가 기본으로 설치되어 있겠지만, 최신 버전으로 업그레이드합니다.\n",
    "\n",
    "pandas documentation: https://pandas.pydata.org/docs/"
   ]
  },
  {
   "cell_type": "code",
   "execution_count": 1,
   "metadata": {
    "colab": {
     "base_uri": "https://localhost:8080/",
     "height": 353
    },
    "colab_type": "code",
    "executionInfo": {
     "elapsed": 11461,
     "status": "ok",
     "timestamp": 1585302104779,
     "user": {
      "displayName": "Eun Yu",
      "photoUrl": "https://lh3.googleusercontent.com/a-/AOh14GgEWsmf4FH7IRh7LjTXnuF85OLv2_K9vNCProM4=s64",
      "userId": "17784789244818192257"
     },
     "user_tz": -540
    },
    "id": "HpA-ewJ6Fa3-",
    "outputId": "1bb366cf-9d31-4649-d7da-2d165afc8aff"
   },
   "outputs": [
    {
     "name": "stdout",
     "output_type": "stream",
     "text": [
      "Collecting pandas\n",
      "\u001b[?25l  Downloading https://files.pythonhosted.org/packages/bb/71/8f53bdbcbc67c912b888b40def255767e475402e9df64050019149b1a943/pandas-1.0.3-cp36-cp36m-manylinux1_x86_64.whl (10.0MB)\n",
      "\u001b[K     |████████████████████████████████| 10.0MB 3.4MB/s \n",
      "\u001b[?25hRequirement already satisfied, skipping upgrade: pytz>=2017.2 in /usr/local/lib/python3.6/dist-packages (from pandas) (2018.9)\n",
      "Requirement already satisfied, skipping upgrade: python-dateutil>=2.6.1 in /usr/local/lib/python3.6/dist-packages (from pandas) (2.8.1)\n",
      "Requirement already satisfied, skipping upgrade: numpy>=1.13.3 in /usr/local/lib/python3.6/dist-packages (from pandas) (1.18.2)\n",
      "Requirement already satisfied, skipping upgrade: six>=1.5 in /usr/local/lib/python3.6/dist-packages (from python-dateutil>=2.6.1->pandas) (1.12.0)\n",
      "\u001b[31mERROR: google-colab 1.0.0 has requirement pandas~=0.25.0; python_version >= \"3.0\", but you'll have pandas 1.0.3 which is incompatible.\u001b[0m\n",
      "Installing collected packages: pandas\n",
      "  Found existing installation: pandas 0.25.3\n",
      "    Uninstalling pandas-0.25.3:\n",
      "      Successfully uninstalled pandas-0.25.3\n",
      "Successfully installed pandas-1.0.3\n"
     ]
    },
    {
     "data": {
      "application/vnd.colab-display-data+json": {
       "pip_warning": {
        "packages": [
         "pandas"
        ]
       }
      }
     },
     "metadata": {
      "tags": []
     },
     "output_type": "display_data"
    }
   ],
   "source": [
    "!pip install --upgrade pandas\n",
    "#!pip install pandas # pandas가 설치되지 않은 경우 주석을 지우고 이 코드를 이용"
   ]
  },
  {
   "cell_type": "code",
   "execution_count": 63,
   "metadata": {
    "colab": {
     "base_uri": "https://localhost:8080/",
     "height": 34
    },
    "colab_type": "code",
    "executionInfo": {
     "elapsed": 648,
     "status": "ok",
     "timestamp": 1585302115482,
     "user": {
      "displayName": "Eun Yu",
      "photoUrl": "https://lh3.googleusercontent.com/a-/AOh14GgEWsmf4FH7IRh7LjTXnuF85OLv2_K9vNCProM4=s64",
      "userId": "17784789244818192257"
     },
     "user_tz": -540
    },
    "id": "PCBVRm1sFa4A",
    "outputId": "75f48b6d-e290-4619-edcd-4ad4b7532862"
   },
   "outputs": [
    {
     "data": {
      "text/plain": [
       "'1.0.5'"
      ]
     },
     "execution_count": 63,
     "metadata": {},
     "output_type": "execute_result"
    }
   ],
   "source": [
    "from pandas import Series, DataFrame # from? import? as? 다음 시간에 설명\n",
    "import pandas as pd\n",
    "\n",
    "pd.__version__ # 버전 확인"
   ]
  },
  {
   "cell_type": "markdown",
   "metadata": {
    "colab_type": "text",
    "id": "O2dY-MPBFa4D"
   },
   "source": [
    "## 3-(1). Series\n",
    "\n",
    "- Series는 1차원 배열 자료형으로, 색인(index)를 가지고 있습니다. \n",
    "- 따로 지정하지 않으면 리스트처럼 0부터 정수로 색인을 표시합니다.\n",
    "- 인덱스에 라벨을 따로 붙이면 라벨로 해당 값에 접근할 수 있습니다.\n",
    "- 리스트, 딕셔너리 등 다양한 자료형을 사용해서 만들 수 있습니다.\n",
    "\n",
    "<img src='https://github.com/eunyu1031/Media_interface_2020Spr/blob/master/pics/series.png?raw=true'/>"
   ]
  },
  {
   "cell_type": "code",
   "execution_count": 64,
   "metadata": {
    "colab": {},
    "colab_type": "code",
    "id": "JeYTZ0X7Fa4D"
   },
   "outputs": [
    {
     "data": {
      "text/plain": [
       "0    1\n",
       "1    5\n",
       "2   -8\n",
       "3    5\n",
       "dtype: int64"
      ]
     },
     "execution_count": 64,
     "metadata": {},
     "output_type": "execute_result"
    }
   ],
   "source": [
    "obj1 = Series([1, 5, -8, 5]) \n",
    "\n",
    "obj1"
   ]
  },
  {
   "cell_type": "code",
   "execution_count": 65,
   "metadata": {
    "colab": {},
    "colab_type": "code",
    "id": "DIrYACU4Fa4E"
   },
   "outputs": [
    {
     "data": {
      "text/plain": [
       "pandas.core.series.Series"
      ]
     },
     "execution_count": 65,
     "metadata": {},
     "output_type": "execute_result"
    }
   ],
   "source": [
    "type(obj1)"
   ]
  },
  {
   "cell_type": "markdown",
   "metadata": {
    "colab_type": "text",
    "id": "uGpCVXuDFa4G"
   },
   "source": [
    "Series를 만들 때 리스트로 값을 넣어주고 index로 색인에 라벨 값을 따로 붙여 주거나, 딕셔너리(dictionary)로 한번에 Series를 생성할 수 있습니다."
   ]
  },
  {
   "cell_type": "code",
   "execution_count": 66,
   "metadata": {
    "colab": {},
    "colab_type": "code",
    "id": "xP5ytf72Fa4I"
   },
   "outputs": [
    {
     "data": {
      "text/plain": [
       "d     9.000\n",
       "b    10.000\n",
       "c     3.140\n",
       "a     2.717\n",
       "dtype: float64"
      ]
     },
     "execution_count": 66,
     "metadata": {},
     "output_type": "execute_result"
    }
   ],
   "source": [
    "obj2 = Series([9, 10, 3.14, 2.717], index = ['d','b','c','a']) \n",
    "obj2"
   ]
  },
  {
   "cell_type": "code",
   "execution_count": 67,
   "metadata": {
    "colab": {},
    "colab_type": "code",
    "id": "2imJARwuFa4L"
   },
   "outputs": [
    {
     "data": {
      "text/plain": [
       "A     apple\n",
       "B    banana\n",
       "C    cherry\n",
       "dtype: object"
      ]
     },
     "execution_count": 67,
     "metadata": {},
     "output_type": "execute_result"
    }
   ],
   "source": [
    "obj3 = Series({'A':'apple','B':'banana','C':'cherry'}) \n",
    "obj3"
   ]
  },
  {
   "cell_type": "markdown",
   "metadata": {
    "colab_type": "text",
    "id": "nD9WP2HJFa4P"
   },
   "source": [
    "각 Series에 어떤 자료형의 값이 저장되어 있는지는 dtype:에서 확인할 수 있습니다. obj1에는 정수(integer)가 obj2는 실수(float)가 저장되어 있습니다. obj3에는 문자열이 저장되어 있는데, pandas에서는 이를 object로 표현합니다."
   ]
  },
  {
   "cell_type": "markdown",
   "metadata": {
    "colab_type": "text",
    "id": "9r8zNUT-Fa4Q"
   },
   "source": [
    "Series에 저장한 값은 색인 또는 색인의 라벨 값으로 접근해서 읽거나 값을 바꿀 수 있습니다. obj3의 예를 봅시다.\n",
    "\n",
    "|index|value|\n",
    "| :------------ | -------------------: |\n",
    "|A|apple|\n",
    "|B|banana|\n",
    "|C|cherry|"
   ]
  },
  {
   "cell_type": "code",
   "execution_count": 68,
   "metadata": {
    "colab": {},
    "colab_type": "code",
    "id": "SoF0r8d9Fa4Q"
   },
   "outputs": [
    {
     "data": {
      "text/plain": [
       "'apple'"
      ]
     },
     "execution_count": 68,
     "metadata": {},
     "output_type": "execute_result"
    }
   ],
   "source": [
    "obj3['A']"
   ]
  },
  {
   "cell_type": "code",
   "execution_count": 69,
   "metadata": {
    "colab": {},
    "colab_type": "code",
    "id": "S7sYCLQRFa4S"
   },
   "outputs": [
    {
     "data": {
      "text/plain": [
       "'cherry'"
      ]
     },
     "execution_count": 69,
     "metadata": {},
     "output_type": "execute_result"
    }
   ],
   "source": [
    "obj3[2]"
   ]
  },
  {
   "cell_type": "code",
   "execution_count": 70,
   "metadata": {
    "colab": {},
    "colab_type": "code",
    "id": "qCl5DW0OFa4U",
    "scrolled": true
   },
   "outputs": [
    {
     "data": {
      "text/plain": [
       "A        apple\n",
       "B    blueberry\n",
       "C       cherry\n",
       "dtype: object"
      ]
     },
     "execution_count": 70,
     "metadata": {},
     "output_type": "execute_result"
    }
   ],
   "source": [
    "obj3['B'] = 'blueberry'\n",
    "obj3"
   ]
  },
  {
   "cell_type": "markdown",
   "metadata": {
    "colab_type": "text",
    "id": "kRn68KNvFa4W"
   },
   "source": [
    "## 3-(2). DataFrame\n",
    "\n",
    "- DataFrame은 표 같은 스프레드시트 형식의 자료형입니다.\n",
    "\n",
    "<img src='https://github.com/eunyu1031/Media_interface_2020Spr/blob/master/pics/matrix.png?raw=true'/>\n",
    "- 여러 개의 열(column)로 이루어져 있으며, 각 열은 서로 다른 종류의 값(문자열, 숫자 등)을 담을 수 있습니다. 색인이 같은 Series를 여럿 담고 있다고 생각하시면 편합니다.\n",
    "- Series, 딕셔너리, 리스트를 비롯한 여러 자료형을 통해 만들 수 있습니다.\n",
    "\n",
    "<img src='https://github.com/eunyu1031/Media_interface_2020Spr/blob/master/pics/dataframe.png?raw=true'/>"
   ]
  },
  {
   "cell_type": "markdown",
   "metadata": {
    "colab_type": "text",
    "id": "JghCcsluFa4X"
   },
   "source": [
    "빈 DataFrame은 아래처럼 만들면 됩니다."
   ]
  },
  {
   "cell_type": "code",
   "execution_count": 71,
   "metadata": {
    "colab": {},
    "colab_type": "code",
    "id": "8LFPkptjFa4X"
   },
   "outputs": [
    {
     "name": "stdout",
     "output_type": "stream",
     "text": [
      "<class 'pandas.core.frame.DataFrame'>\n",
      "Empty DataFrame\n",
      "Columns: []\n",
      "Index: []\n"
     ]
    }
   ],
   "source": [
    "empty_frame = DataFrame()\n",
    "print(type(empty_frame))\n",
    "print(empty_frame)"
   ]
  },
  {
   "cell_type": "markdown",
   "metadata": {
    "colab_type": "text",
    "id": "roHtItbCFa4Y"
   },
   "source": [
    "2개의 Series로 하나의 DataFrame을 만들어 봅시다."
   ]
  },
  {
   "cell_type": "code",
   "execution_count": 72,
   "metadata": {
    "colab": {},
    "colab_type": "code",
    "id": "RWsWrUg8Fa4Y"
   },
   "outputs": [
    {
     "name": "stdout",
     "output_type": "stream",
     "text": [
      "   c1  c2\n",
      "0   2   5\n",
      "1   4  10\n",
      "2   6  15\n",
      "3   8  20\n"
     ]
    }
   ],
   "source": [
    "# DataFrame 만들기: Series\n",
    "\n",
    "s1 = Series([2, 4, 6, 8])\n",
    "s2 = Series([5, 10, 15, 20])\n",
    "\n",
    "myf = DataFrame({'c1':s1, 'c2':s2})\n",
    "\n",
    "print(myf)"
   ]
  },
  {
   "cell_type": "markdown",
   "metadata": {
    "colab_type": "text",
    "id": "8oXvMJfLFa4c"
   },
   "source": [
    "딕셔너리로 DataFrame을 만들면 key는 열(column)의 이름이 됩니다."
   ]
  },
  {
   "cell_type": "code",
   "execution_count": 73,
   "metadata": {
    "colab": {
     "base_uri": "https://localhost:8080/",
     "height": 196
    },
    "colab_type": "code",
    "executionInfo": {
     "elapsed": 705,
     "status": "ok",
     "timestamp": 1585213588997,
     "user": {
      "displayName": "Eun Yu",
      "photoUrl": "https://lh3.googleusercontent.com/a-/AOh14GgEWsmf4FH7IRh7LjTXnuF85OLv2_K9vNCProM4=s64",
      "userId": "17784789244818192257"
     },
     "user_tz": -540
    },
    "id": "vxgmSfYYFa4d",
    "outputId": "5fd41d7f-fdc1-4a5f-c844-dbc3384d52f3",
    "scrolled": true
   },
   "outputs": [
    {
     "data": {
      "text/html": [
       "<div>\n",
       "<style scoped>\n",
       "    .dataframe tbody tr th:only-of-type {\n",
       "        vertical-align: middle;\n",
       "    }\n",
       "\n",
       "    .dataframe tbody tr th {\n",
       "        vertical-align: top;\n",
       "    }\n",
       "\n",
       "    .dataframe thead th {\n",
       "        text-align: right;\n",
       "    }\n",
       "</style>\n",
       "<table border=\"1\" class=\"dataframe\">\n",
       "  <thead>\n",
       "    <tr style=\"text-align: right;\">\n",
       "      <th></th>\n",
       "      <th>state</th>\n",
       "      <th>year</th>\n",
       "      <th>pop</th>\n",
       "    </tr>\n",
       "  </thead>\n",
       "  <tbody>\n",
       "    <tr>\n",
       "      <th>0</th>\n",
       "      <td>Ohio</td>\n",
       "      <td>2000</td>\n",
       "      <td>1.5</td>\n",
       "    </tr>\n",
       "    <tr>\n",
       "      <th>1</th>\n",
       "      <td>Ohio</td>\n",
       "      <td>2001</td>\n",
       "      <td>1.7</td>\n",
       "    </tr>\n",
       "    <tr>\n",
       "      <th>2</th>\n",
       "      <td>Ohio</td>\n",
       "      <td>2002</td>\n",
       "      <td>3.6</td>\n",
       "    </tr>\n",
       "    <tr>\n",
       "      <th>3</th>\n",
       "      <td>Nevada</td>\n",
       "      <td>2001</td>\n",
       "      <td>2.4</td>\n",
       "    </tr>\n",
       "    <tr>\n",
       "      <th>4</th>\n",
       "      <td>Nevada</td>\n",
       "      <td>2002</td>\n",
       "      <td>2.9</td>\n",
       "    </tr>\n",
       "  </tbody>\n",
       "</table>\n",
       "</div>"
      ],
      "text/plain": [
       "    state  year  pop\n",
       "0    Ohio  2000  1.5\n",
       "1    Ohio  2001  1.7\n",
       "2    Ohio  2002  3.6\n",
       "3  Nevada  2001  2.4\n",
       "4  Nevada  2002  2.9"
      ]
     },
     "execution_count": 73,
     "metadata": {},
     "output_type": "execute_result"
    }
   ],
   "source": [
    "# DataFrame 만들기: 딕셔너리\n",
    "\n",
    "data = {'state':['Ohio', 'Ohio', 'Ohio', 'Nevada','Nevada'],\n",
    "        'year':[2000, 2001, 2002, 2001, 2002],\n",
    "        'pop':[1.5, 1.7, 3.6, 2.4, 2.9]    \n",
    "        }\n",
    "\n",
    "frame1 = DataFrame(data)\n",
    "frame1"
   ]
  },
  {
   "cell_type": "markdown",
   "metadata": {
    "colab_type": "text",
    "id": "bOfvmmw6Fa4e"
   },
   "source": [
    "DataFrame에도 라벨을 붙일 수 있습니다. 위 셀에서 frame1을 만들 때 사용한 딕셔너리 변수 'data'를 다시 활용합니다."
   ]
  },
  {
   "cell_type": "code",
   "execution_count": 74,
   "metadata": {
    "colab": {},
    "colab_type": "code",
    "id": "2-KUMX0IFa4e"
   },
   "outputs": [
    {
     "data": {
      "text/html": [
       "<div>\n",
       "<style scoped>\n",
       "    .dataframe tbody tr th:only-of-type {\n",
       "        vertical-align: middle;\n",
       "    }\n",
       "\n",
       "    .dataframe tbody tr th {\n",
       "        vertical-align: top;\n",
       "    }\n",
       "\n",
       "    .dataframe thead th {\n",
       "        text-align: right;\n",
       "    }\n",
       "</style>\n",
       "<table border=\"1\" class=\"dataframe\">\n",
       "  <thead>\n",
       "    <tr style=\"text-align: right;\">\n",
       "      <th></th>\n",
       "      <th>state</th>\n",
       "      <th>year</th>\n",
       "      <th>pop</th>\n",
       "    </tr>\n",
       "  </thead>\n",
       "  <tbody>\n",
       "    <tr>\n",
       "      <th>one</th>\n",
       "      <td>Ohio</td>\n",
       "      <td>2000</td>\n",
       "      <td>1.5</td>\n",
       "    </tr>\n",
       "    <tr>\n",
       "      <th>two</th>\n",
       "      <td>Ohio</td>\n",
       "      <td>2001</td>\n",
       "      <td>1.7</td>\n",
       "    </tr>\n",
       "    <tr>\n",
       "      <th>three</th>\n",
       "      <td>Ohio</td>\n",
       "      <td>2002</td>\n",
       "      <td>3.6</td>\n",
       "    </tr>\n",
       "    <tr>\n",
       "      <th>four</th>\n",
       "      <td>Nevada</td>\n",
       "      <td>2001</td>\n",
       "      <td>2.4</td>\n",
       "    </tr>\n",
       "    <tr>\n",
       "      <th>five</th>\n",
       "      <td>Nevada</td>\n",
       "      <td>2002</td>\n",
       "      <td>2.9</td>\n",
       "    </tr>\n",
       "  </tbody>\n",
       "</table>\n",
       "</div>"
      ],
      "text/plain": [
       "        state  year  pop\n",
       "one      Ohio  2000  1.5\n",
       "two      Ohio  2001  1.7\n",
       "three    Ohio  2002  3.6\n",
       "four   Nevada  2001  2.4\n",
       "five   Nevada  2002  2.9"
      ]
     },
     "execution_count": 74,
     "metadata": {},
     "output_type": "execute_result"
    }
   ],
   "source": [
    "frame2 = DataFrame(data, index = ['one','two','three','four','five'])\n",
    "frame2"
   ]
  },
  {
   "cell_type": "markdown",
   "metadata": {
    "colab_type": "text",
    "id": "ePiHatkKFa4g"
   },
   "source": [
    "DataFrame의 index는 다음과 같이 DataFrame 변수 이름에 __.index__를 붙여 확인할 수 있습니다."
   ]
  },
  {
   "cell_type": "code",
   "execution_count": 75,
   "metadata": {
    "colab": {},
    "colab_type": "code",
    "id": "yDWAlbt6Fa4g"
   },
   "outputs": [
    {
     "data": {
      "text/plain": [
       "Index(['one', 'two', 'three', 'four', 'five'], dtype='object')"
      ]
     },
     "execution_count": 75,
     "metadata": {},
     "output_type": "execute_result"
    }
   ],
   "source": [
    "frame2.index"
   ]
  },
  {
   "cell_type": "markdown",
   "metadata": {
    "colab_type": "text",
    "id": "sFEVdlHxFa4j"
   },
   "source": [
    "라벨을 따로 지정하지 않은 경우 index는 0에서 시작해서 1씩 증가하는 정수가 됩니다."
   ]
  },
  {
   "cell_type": "code",
   "execution_count": 76,
   "metadata": {
    "colab": {},
    "colab_type": "code",
    "id": "_k3xrDHsFa4j"
   },
   "outputs": [
    {
     "data": {
      "text/plain": [
       "RangeIndex(start=0, stop=5, step=1)"
      ]
     },
     "execution_count": 76,
     "metadata": {},
     "output_type": "execute_result"
    }
   ],
   "source": [
    "frame1.index"
   ]
  },
  {
   "cell_type": "markdown",
   "metadata": {
    "colab_type": "text",
    "id": "RubtK9Y7Fa4l"
   },
   "source": [
    "DataFrame의 열(column)은 다음과 같이 DataFrame 변수 이름에 __.columns__를 붙여 확인할 수 있습니다."
   ]
  },
  {
   "cell_type": "code",
   "execution_count": 77,
   "metadata": {
    "colab": {},
    "colab_type": "code",
    "id": "8IPmn48pFa4m"
   },
   "outputs": [
    {
     "data": {
      "text/plain": [
       "Index(['state', 'year', 'pop'], dtype='object')"
      ]
     },
     "execution_count": 77,
     "metadata": {},
     "output_type": "execute_result"
    }
   ],
   "source": [
    "frame2.columns"
   ]
  },
  {
   "cell_type": "markdown",
   "metadata": {
    "colab_type": "text",
    "id": "3PNn3CipFa4p"
   },
   "source": [
    "특정 열(column)만 확인하고 싶을 때에는 두 가지 방법이 있습니다."
   ]
  },
  {
   "cell_type": "code",
   "execution_count": 78,
   "metadata": {
    "colab": {},
    "colab_type": "code",
    "id": "yua2XgHkFa4q"
   },
   "outputs": [
    {
     "data": {
      "text/plain": [
       "one        Ohio\n",
       "two        Ohio\n",
       "three      Ohio\n",
       "four     Nevada\n",
       "five     Nevada\n",
       "Name: state, dtype: object"
      ]
     },
     "execution_count": 78,
     "metadata": {},
     "output_type": "execute_result"
    }
   ],
   "source": [
    "frame2['state']"
   ]
  },
  {
   "cell_type": "code",
   "execution_count": 79,
   "metadata": {
    "colab": {},
    "colab_type": "code",
    "id": "yQVF78xCFa4s",
    "scrolled": true
   },
   "outputs": [
    {
     "data": {
      "text/plain": [
       "one      2000\n",
       "two      2001\n",
       "three    2002\n",
       "four     2001\n",
       "five     2002\n",
       "Name: year, dtype: int64"
      ]
     },
     "execution_count": 79,
     "metadata": {},
     "output_type": "execute_result"
    }
   ],
   "source": [
    "frame2.year"
   ]
  },
  {
   "cell_type": "markdown",
   "metadata": {
    "colab_type": "text",
    "id": "L4AUf1SjFa4u"
   },
   "source": [
    "없는 열을 부를 경우 에러가 납니다."
   ]
  },
  {
   "cell_type": "code",
   "execution_count": 80,
   "metadata": {
    "colab": {},
    "colab_type": "code",
    "id": "5KYyENZ-Fa4u"
   },
   "outputs": [
    {
     "ename": "KeyError",
     "evalue": "'bob'",
     "output_type": "error",
     "traceback": [
      "\u001b[1;31m---------------------------------------------------------------------------\u001b[0m",
      "\u001b[1;31mKeyError\u001b[0m                                  Traceback (most recent call last)",
      "\u001b[1;32m~\\anaconda3\\lib\\site-packages\\pandas\\core\\indexes\\base.py\u001b[0m in \u001b[0;36mget_loc\u001b[1;34m(self, key, method, tolerance)\u001b[0m\n\u001b[0;32m   2645\u001b[0m             \u001b[1;32mtry\u001b[0m\u001b[1;33m:\u001b[0m\u001b[1;33m\u001b[0m\u001b[1;33m\u001b[0m\u001b[0m\n\u001b[1;32m-> 2646\u001b[1;33m                 \u001b[1;32mreturn\u001b[0m \u001b[0mself\u001b[0m\u001b[1;33m.\u001b[0m\u001b[0m_engine\u001b[0m\u001b[1;33m.\u001b[0m\u001b[0mget_loc\u001b[0m\u001b[1;33m(\u001b[0m\u001b[0mkey\u001b[0m\u001b[1;33m)\u001b[0m\u001b[1;33m\u001b[0m\u001b[1;33m\u001b[0m\u001b[0m\n\u001b[0m\u001b[0;32m   2647\u001b[0m             \u001b[1;32mexcept\u001b[0m \u001b[0mKeyError\u001b[0m\u001b[1;33m:\u001b[0m\u001b[1;33m\u001b[0m\u001b[1;33m\u001b[0m\u001b[0m\n",
      "\u001b[1;32mpandas\\_libs\\index.pyx\u001b[0m in \u001b[0;36mpandas._libs.index.IndexEngine.get_loc\u001b[1;34m()\u001b[0m\n",
      "\u001b[1;32mpandas\\_libs\\index.pyx\u001b[0m in \u001b[0;36mpandas._libs.index.IndexEngine.get_loc\u001b[1;34m()\u001b[0m\n",
      "\u001b[1;32mpandas\\_libs\\hashtable_class_helper.pxi\u001b[0m in \u001b[0;36mpandas._libs.hashtable.PyObjectHashTable.get_item\u001b[1;34m()\u001b[0m\n",
      "\u001b[1;32mpandas\\_libs\\hashtable_class_helper.pxi\u001b[0m in \u001b[0;36mpandas._libs.hashtable.PyObjectHashTable.get_item\u001b[1;34m()\u001b[0m\n",
      "\u001b[1;31mKeyError\u001b[0m: 'bob'",
      "\nDuring handling of the above exception, another exception occurred:\n",
      "\u001b[1;31mKeyError\u001b[0m                                  Traceback (most recent call last)",
      "\u001b[1;32m<ipython-input-80-96597bbc4ff0>\u001b[0m in \u001b[0;36m<module>\u001b[1;34m\u001b[0m\n\u001b[1;32m----> 1\u001b[1;33m \u001b[0mframe2\u001b[0m\u001b[1;33m[\u001b[0m\u001b[1;34m'bob'\u001b[0m\u001b[1;33m]\u001b[0m \u001b[1;31m# error! 없는 column\u001b[0m\u001b[1;33m\u001b[0m\u001b[1;33m\u001b[0m\u001b[0m\n\u001b[0m",
      "\u001b[1;32m~\\anaconda3\\lib\\site-packages\\pandas\\core\\frame.py\u001b[0m in \u001b[0;36m__getitem__\u001b[1;34m(self, key)\u001b[0m\n\u001b[0;32m   2798\u001b[0m             \u001b[1;32mif\u001b[0m \u001b[0mself\u001b[0m\u001b[1;33m.\u001b[0m\u001b[0mcolumns\u001b[0m\u001b[1;33m.\u001b[0m\u001b[0mnlevels\u001b[0m \u001b[1;33m>\u001b[0m \u001b[1;36m1\u001b[0m\u001b[1;33m:\u001b[0m\u001b[1;33m\u001b[0m\u001b[1;33m\u001b[0m\u001b[0m\n\u001b[0;32m   2799\u001b[0m                 \u001b[1;32mreturn\u001b[0m \u001b[0mself\u001b[0m\u001b[1;33m.\u001b[0m\u001b[0m_getitem_multilevel\u001b[0m\u001b[1;33m(\u001b[0m\u001b[0mkey\u001b[0m\u001b[1;33m)\u001b[0m\u001b[1;33m\u001b[0m\u001b[1;33m\u001b[0m\u001b[0m\n\u001b[1;32m-> 2800\u001b[1;33m             \u001b[0mindexer\u001b[0m \u001b[1;33m=\u001b[0m \u001b[0mself\u001b[0m\u001b[1;33m.\u001b[0m\u001b[0mcolumns\u001b[0m\u001b[1;33m.\u001b[0m\u001b[0mget_loc\u001b[0m\u001b[1;33m(\u001b[0m\u001b[0mkey\u001b[0m\u001b[1;33m)\u001b[0m\u001b[1;33m\u001b[0m\u001b[1;33m\u001b[0m\u001b[0m\n\u001b[0m\u001b[0;32m   2801\u001b[0m             \u001b[1;32mif\u001b[0m \u001b[0mis_integer\u001b[0m\u001b[1;33m(\u001b[0m\u001b[0mindexer\u001b[0m\u001b[1;33m)\u001b[0m\u001b[1;33m:\u001b[0m\u001b[1;33m\u001b[0m\u001b[1;33m\u001b[0m\u001b[0m\n\u001b[0;32m   2802\u001b[0m                 \u001b[0mindexer\u001b[0m \u001b[1;33m=\u001b[0m \u001b[1;33m[\u001b[0m\u001b[0mindexer\u001b[0m\u001b[1;33m]\u001b[0m\u001b[1;33m\u001b[0m\u001b[1;33m\u001b[0m\u001b[0m\n",
      "\u001b[1;32m~\\anaconda3\\lib\\site-packages\\pandas\\core\\indexes\\base.py\u001b[0m in \u001b[0;36mget_loc\u001b[1;34m(self, key, method, tolerance)\u001b[0m\n\u001b[0;32m   2646\u001b[0m                 \u001b[1;32mreturn\u001b[0m \u001b[0mself\u001b[0m\u001b[1;33m.\u001b[0m\u001b[0m_engine\u001b[0m\u001b[1;33m.\u001b[0m\u001b[0mget_loc\u001b[0m\u001b[1;33m(\u001b[0m\u001b[0mkey\u001b[0m\u001b[1;33m)\u001b[0m\u001b[1;33m\u001b[0m\u001b[1;33m\u001b[0m\u001b[0m\n\u001b[0;32m   2647\u001b[0m             \u001b[1;32mexcept\u001b[0m \u001b[0mKeyError\u001b[0m\u001b[1;33m:\u001b[0m\u001b[1;33m\u001b[0m\u001b[1;33m\u001b[0m\u001b[0m\n\u001b[1;32m-> 2648\u001b[1;33m                 \u001b[1;32mreturn\u001b[0m \u001b[0mself\u001b[0m\u001b[1;33m.\u001b[0m\u001b[0m_engine\u001b[0m\u001b[1;33m.\u001b[0m\u001b[0mget_loc\u001b[0m\u001b[1;33m(\u001b[0m\u001b[0mself\u001b[0m\u001b[1;33m.\u001b[0m\u001b[0m_maybe_cast_indexer\u001b[0m\u001b[1;33m(\u001b[0m\u001b[0mkey\u001b[0m\u001b[1;33m)\u001b[0m\u001b[1;33m)\u001b[0m\u001b[1;33m\u001b[0m\u001b[1;33m\u001b[0m\u001b[0m\n\u001b[0m\u001b[0;32m   2649\u001b[0m         \u001b[0mindexer\u001b[0m \u001b[1;33m=\u001b[0m \u001b[0mself\u001b[0m\u001b[1;33m.\u001b[0m\u001b[0mget_indexer\u001b[0m\u001b[1;33m(\u001b[0m\u001b[1;33m[\u001b[0m\u001b[0mkey\u001b[0m\u001b[1;33m]\u001b[0m\u001b[1;33m,\u001b[0m \u001b[0mmethod\u001b[0m\u001b[1;33m=\u001b[0m\u001b[0mmethod\u001b[0m\u001b[1;33m,\u001b[0m \u001b[0mtolerance\u001b[0m\u001b[1;33m=\u001b[0m\u001b[0mtolerance\u001b[0m\u001b[1;33m)\u001b[0m\u001b[1;33m\u001b[0m\u001b[1;33m\u001b[0m\u001b[0m\n\u001b[0;32m   2650\u001b[0m         \u001b[1;32mif\u001b[0m \u001b[0mindexer\u001b[0m\u001b[1;33m.\u001b[0m\u001b[0mndim\u001b[0m \u001b[1;33m>\u001b[0m \u001b[1;36m1\u001b[0m \u001b[1;32mor\u001b[0m \u001b[0mindexer\u001b[0m\u001b[1;33m.\u001b[0m\u001b[0msize\u001b[0m \u001b[1;33m>\u001b[0m \u001b[1;36m1\u001b[0m\u001b[1;33m:\u001b[0m\u001b[1;33m\u001b[0m\u001b[1;33m\u001b[0m\u001b[0m\n",
      "\u001b[1;32mpandas\\_libs\\index.pyx\u001b[0m in \u001b[0;36mpandas._libs.index.IndexEngine.get_loc\u001b[1;34m()\u001b[0m\n",
      "\u001b[1;32mpandas\\_libs\\index.pyx\u001b[0m in \u001b[0;36mpandas._libs.index.IndexEngine.get_loc\u001b[1;34m()\u001b[0m\n",
      "\u001b[1;32mpandas\\_libs\\hashtable_class_helper.pxi\u001b[0m in \u001b[0;36mpandas._libs.hashtable.PyObjectHashTable.get_item\u001b[1;34m()\u001b[0m\n",
      "\u001b[1;32mpandas\\_libs\\hashtable_class_helper.pxi\u001b[0m in \u001b[0;36mpandas._libs.hashtable.PyObjectHashTable.get_item\u001b[1;34m()\u001b[0m\n",
      "\u001b[1;31mKeyError\u001b[0m: 'bob'"
     ]
    }
   ],
   "source": [
    "frame2['bob'] # error! 없는 column"
   ]
  },
  {
   "cell_type": "markdown",
   "metadata": {
    "colab_type": "text",
    "id": "X6e9f-lXFa4w"
   },
   "source": [
    "<p style=\"color:#0000FF\";><font size = \"5\"><b>\n",
    " # 연습하기\n",
    "    </b></font></p>\n",
    "    \n",
    "#### 다음과 같은 내용의 DataFrame 변수 'holidays'를 만들어 보세요.\n",
    "\n",
    "세 열 name, start_year, moon은 각각 문자열, 숫자, 논리 자료형으로 구성되어 있습니다.\n",
    "<table>\n",
    "<thead>\n",
    "<tr>\n",
    "<th></th>\n",
    "<th>name</th>\n",
    "<th>start_year</th>\n",
    "<th>moon</th>\n",
    "</tr>\n",
    "</thead>\n",
    "<tbody>\n",
    "<tr>\n",
    "<td>0</td>\n",
    "<td>삼일절</td>\n",
    "<td>1949</td>\n",
    "<td>False</td>\n",
    "</tr>\n",
    "<tr>\n",
    "<td>1</td>\n",
    "<td>어린이날</td>\n",
    "<td>1975</td>\n",
    "<td>False</td>\n",
    "</tr>\n",
    "<tr>\n",
    "<td>2</td>\n",
    "<td>부처님 오신 날</td>\n",
    "<td>1975</td>\n",
    "<td>True</td>\n",
    "</tr>\n",
    "<tr>\n",
    "<td>3</td>\n",
    "<td>광복절</td>\n",
    "<td>1949</td>\n",
    "<td>False</td>\n",
    "</tr>\n",
    "<tr>\n",
    "<td>4</td>\n",
    "<td>한글날</td>\n",
    "<td>1949</td>\n",
    "<td>False</td>\n",
    "</tr>\n",
    "<tr>\n",
    "<td>5</td>\n",
    "<td>기독탄신일</td>\n",
    "<td>1949</td>\n",
    "<td>False</td>\n",
    "</tr>\n",
    "</tbody>\n",
    "</table>\n",
    "\n",
    "- 색인(index)을 출력하세요.\n",
    "- 모든 열(column)의 이름을 출력하세요.\n",
    "- 열 'moon'만 출력하세요.\n"
   ]
  },
  {
   "cell_type": "code",
   "execution_count": 0,
   "metadata": {
    "colab": {},
    "colab_type": "code",
    "id": "DbgbSHnJFa4w"
   },
   "outputs": [],
   "source": []
  },
  {
   "cell_type": "code",
   "execution_count": 0,
   "metadata": {
    "colab": {},
    "colab_type": "code",
    "id": "M0wBVR2fFa4y"
   },
   "outputs": [],
   "source": []
  },
  {
   "cell_type": "markdown",
   "metadata": {
    "colab_type": "text",
    "id": "sPafZXxDFa5A"
   },
   "source": [
    "DataFrame에 저장된 값의 일부를 읽어올뿐만 아니라 수정/작성할 수도 있습니다.\n",
    "\n",
    "다음 셀의 DataFrame 'potato'는 감자의 전국 생산량(톤)과 강원도 생산량(톤)의 정보를 가지고 있습니다.\n",
    "\n",
    "https://www.provin.gangwon.kr/gw/portal/sub07_05_04_01_05"
   ]
  },
  {
   "cell_type": "code",
   "execution_count": 81,
   "metadata": {
    "colab": {},
    "colab_type": "code",
    "id": "yplVr4Z7Fa5A"
   },
   "outputs": [
    {
     "data": {
      "text/html": [
       "<div>\n",
       "<style scoped>\n",
       "    .dataframe tbody tr th:only-of-type {\n",
       "        vertical-align: middle;\n",
       "    }\n",
       "\n",
       "    .dataframe tbody tr th {\n",
       "        vertical-align: top;\n",
       "    }\n",
       "\n",
       "    .dataframe thead th {\n",
       "        text-align: right;\n",
       "    }\n",
       "</style>\n",
       "<table border=\"1\" class=\"dataframe\">\n",
       "  <thead>\n",
       "    <tr style=\"text-align: right;\">\n",
       "      <th></th>\n",
       "      <th>Korea</th>\n",
       "      <th>Gangwon</th>\n",
       "    </tr>\n",
       "  </thead>\n",
       "  <tbody>\n",
       "    <tr>\n",
       "      <th>0</th>\n",
       "      <td>622202</td>\n",
       "      <td>147525</td>\n",
       "    </tr>\n",
       "    <tr>\n",
       "      <th>1</th>\n",
       "      <td>607534</td>\n",
       "      <td>179506</td>\n",
       "    </tr>\n",
       "    <tr>\n",
       "      <th>2</th>\n",
       "      <td>682149</td>\n",
       "      <td>182027</td>\n",
       "    </tr>\n",
       "    <tr>\n",
       "      <th>3</th>\n",
       "      <td>590532</td>\n",
       "      <td>159607</td>\n",
       "    </tr>\n",
       "    <tr>\n",
       "      <th>4</th>\n",
       "      <td>537738</td>\n",
       "      <td>177023</td>\n",
       "    </tr>\n",
       "  </tbody>\n",
       "</table>\n",
       "</div>"
      ],
      "text/plain": [
       "    Korea  Gangwon\n",
       "0  622202   147525\n",
       "1  607534   179506\n",
       "2  682149   182027\n",
       "3  590532   159607\n",
       "4  537738   177023"
      ]
     },
     "execution_count": 81,
     "metadata": {},
     "output_type": "execute_result"
    }
   ],
   "source": [
    "potato_data = {'Korea':[622202, 607534, 682149, 590532, 537738],\n",
    "        'Gangwon':[147525, 179506, 182027, 159607, 177023]    \n",
    "        }\n",
    "\n",
    "potato = DataFrame(potato_data)\n",
    "potato"
   ]
  },
  {
   "cell_type": "markdown",
   "metadata": {
    "colab_type": "text",
    "id": "mQ6Y4nmeFa5B"
   },
   "source": [
    "2011년부터 2015년까지의 생산량이므로 potato.index에 연도를 넣습니다."
   ]
  },
  {
   "cell_type": "code",
   "execution_count": 82,
   "metadata": {
    "colab": {},
    "colab_type": "code",
    "id": "LcscNzorFa5D"
   },
   "outputs": [
    {
     "name": "stdout",
     "output_type": "stream",
     "text": [
      "RangeIndex(start=0, stop=5, step=1)\n"
     ]
    },
    {
     "data": {
      "text/html": [
       "<div>\n",
       "<style scoped>\n",
       "    .dataframe tbody tr th:only-of-type {\n",
       "        vertical-align: middle;\n",
       "    }\n",
       "\n",
       "    .dataframe tbody tr th {\n",
       "        vertical-align: top;\n",
       "    }\n",
       "\n",
       "    .dataframe thead th {\n",
       "        text-align: right;\n",
       "    }\n",
       "</style>\n",
       "<table border=\"1\" class=\"dataframe\">\n",
       "  <thead>\n",
       "    <tr style=\"text-align: right;\">\n",
       "      <th></th>\n",
       "      <th>Korea</th>\n",
       "      <th>Gangwon</th>\n",
       "    </tr>\n",
       "  </thead>\n",
       "  <tbody>\n",
       "    <tr>\n",
       "      <th>2011</th>\n",
       "      <td>622202</td>\n",
       "      <td>147525</td>\n",
       "    </tr>\n",
       "    <tr>\n",
       "      <th>2012</th>\n",
       "      <td>607534</td>\n",
       "      <td>179506</td>\n",
       "    </tr>\n",
       "    <tr>\n",
       "      <th>2013</th>\n",
       "      <td>682149</td>\n",
       "      <td>182027</td>\n",
       "    </tr>\n",
       "    <tr>\n",
       "      <th>2014</th>\n",
       "      <td>590532</td>\n",
       "      <td>159607</td>\n",
       "    </tr>\n",
       "    <tr>\n",
       "      <th>2015</th>\n",
       "      <td>537738</td>\n",
       "      <td>177023</td>\n",
       "    </tr>\n",
       "  </tbody>\n",
       "</table>\n",
       "</div>"
      ],
      "text/plain": [
       "       Korea  Gangwon\n",
       "2011  622202   147525\n",
       "2012  607534   179506\n",
       "2013  682149   182027\n",
       "2014  590532   159607\n",
       "2015  537738   177023"
      ]
     },
     "execution_count": 82,
     "metadata": {},
     "output_type": "execute_result"
    }
   ],
   "source": [
    "print(potato.index)\n",
    "\n",
    "potato.index = [2011, 2012, 2013, 2014, 2015]\n",
    "potato"
   ]
  },
  {
   "cell_type": "markdown",
   "metadata": {
    "colab_type": "text",
    "id": "tTpFKRNGFa5F"
   },
   "source": [
    "열(column)의 이름을 한국어로 수정해 봅시다."
   ]
  },
  {
   "cell_type": "code",
   "execution_count": 83,
   "metadata": {
    "colab": {},
    "colab_type": "code",
    "id": "dtBYesSAFa5F"
   },
   "outputs": [
    {
     "name": "stdout",
     "output_type": "stream",
     "text": [
      "Index(['Korea', 'Gangwon'], dtype='object')\n"
     ]
    },
    {
     "data": {
      "text/html": [
       "<div>\n",
       "<style scoped>\n",
       "    .dataframe tbody tr th:only-of-type {\n",
       "        vertical-align: middle;\n",
       "    }\n",
       "\n",
       "    .dataframe tbody tr th {\n",
       "        vertical-align: top;\n",
       "    }\n",
       "\n",
       "    .dataframe thead th {\n",
       "        text-align: right;\n",
       "    }\n",
       "</style>\n",
       "<table border=\"1\" class=\"dataframe\">\n",
       "  <thead>\n",
       "    <tr style=\"text-align: right;\">\n",
       "      <th></th>\n",
       "      <th>전국</th>\n",
       "      <th>강원도</th>\n",
       "    </tr>\n",
       "  </thead>\n",
       "  <tbody>\n",
       "    <tr>\n",
       "      <th>2011</th>\n",
       "      <td>622202</td>\n",
       "      <td>147525</td>\n",
       "    </tr>\n",
       "    <tr>\n",
       "      <th>2012</th>\n",
       "      <td>607534</td>\n",
       "      <td>179506</td>\n",
       "    </tr>\n",
       "    <tr>\n",
       "      <th>2013</th>\n",
       "      <td>682149</td>\n",
       "      <td>182027</td>\n",
       "    </tr>\n",
       "    <tr>\n",
       "      <th>2014</th>\n",
       "      <td>590532</td>\n",
       "      <td>159607</td>\n",
       "    </tr>\n",
       "    <tr>\n",
       "      <th>2015</th>\n",
       "      <td>537738</td>\n",
       "      <td>177023</td>\n",
       "    </tr>\n",
       "  </tbody>\n",
       "</table>\n",
       "</div>"
      ],
      "text/plain": [
       "          전국     강원도\n",
       "2011  622202  147525\n",
       "2012  607534  179506\n",
       "2013  682149  182027\n",
       "2014  590532  159607\n",
       "2015  537738  177023"
      ]
     },
     "execution_count": 83,
     "metadata": {},
     "output_type": "execute_result"
    }
   ],
   "source": [
    "print(potato.columns)\n",
    "\n",
    "potato.columns = ['전국', '강원도']\n",
    "potato"
   ]
  },
  {
   "cell_type": "markdown",
   "metadata": {
    "colab_type": "text",
    "id": "mFXPE7GbFa5J"
   },
   "source": [
    "딕셔너리 자료형을 다룰 때처럼, DataFrame에서도 새로운 열의 이름을 만들어 다른 값을 넣어줄 수 있습니다. 숫자 자료형인 열끼리 계산할 수 있으므로 강원도 외 지역에서 생산한 감자의 생산량을 계산해 봅시다. "
   ]
  },
  {
   "cell_type": "code",
   "execution_count": 84,
   "metadata": {
    "colab": {},
    "colab_type": "code",
    "id": "klAE6NeVFa5J"
   },
   "outputs": [
    {
     "data": {
      "text/html": [
       "<div>\n",
       "<style scoped>\n",
       "    .dataframe tbody tr th:only-of-type {\n",
       "        vertical-align: middle;\n",
       "    }\n",
       "\n",
       "    .dataframe tbody tr th {\n",
       "        vertical-align: top;\n",
       "    }\n",
       "\n",
       "    .dataframe thead th {\n",
       "        text-align: right;\n",
       "    }\n",
       "</style>\n",
       "<table border=\"1\" class=\"dataframe\">\n",
       "  <thead>\n",
       "    <tr style=\"text-align: right;\">\n",
       "      <th></th>\n",
       "      <th>전국</th>\n",
       "      <th>강원도</th>\n",
       "      <th>강원도외</th>\n",
       "    </tr>\n",
       "  </thead>\n",
       "  <tbody>\n",
       "    <tr>\n",
       "      <th>2011</th>\n",
       "      <td>622202</td>\n",
       "      <td>147525</td>\n",
       "      <td>474677</td>\n",
       "    </tr>\n",
       "    <tr>\n",
       "      <th>2012</th>\n",
       "      <td>607534</td>\n",
       "      <td>179506</td>\n",
       "      <td>428028</td>\n",
       "    </tr>\n",
       "    <tr>\n",
       "      <th>2013</th>\n",
       "      <td>682149</td>\n",
       "      <td>182027</td>\n",
       "      <td>500122</td>\n",
       "    </tr>\n",
       "    <tr>\n",
       "      <th>2014</th>\n",
       "      <td>590532</td>\n",
       "      <td>159607</td>\n",
       "      <td>430925</td>\n",
       "    </tr>\n",
       "    <tr>\n",
       "      <th>2015</th>\n",
       "      <td>537738</td>\n",
       "      <td>177023</td>\n",
       "      <td>360715</td>\n",
       "    </tr>\n",
       "  </tbody>\n",
       "</table>\n",
       "</div>"
      ],
      "text/plain": [
       "          전국     강원도    강원도외\n",
       "2011  622202  147525  474677\n",
       "2012  607534  179506  428028\n",
       "2013  682149  182027  500122\n",
       "2014  590532  159607  430925\n",
       "2015  537738  177023  360715"
      ]
     },
     "execution_count": 84,
     "metadata": {},
     "output_type": "execute_result"
    }
   ],
   "source": [
    "potato['강원도외'] = potato['전국'] - potato['강원도']\n",
    "potato"
   ]
  },
  {
   "cell_type": "markdown",
   "metadata": {
    "colab_type": "text",
    "id": "oxdNl6GaFa5L"
   },
   "source": [
    "전국 감자 생산량 대비 강원도 감자 생산량을 계산해 봅시다."
   ]
  },
  {
   "cell_type": "code",
   "execution_count": 85,
   "metadata": {
    "colab": {},
    "colab_type": "code",
    "id": "6rMIvc8eFa5N"
   },
   "outputs": [
    {
     "data": {
      "text/html": [
       "<div>\n",
       "<style scoped>\n",
       "    .dataframe tbody tr th:only-of-type {\n",
       "        vertical-align: middle;\n",
       "    }\n",
       "\n",
       "    .dataframe tbody tr th {\n",
       "        vertical-align: top;\n",
       "    }\n",
       "\n",
       "    .dataframe thead th {\n",
       "        text-align: right;\n",
       "    }\n",
       "</style>\n",
       "<table border=\"1\" class=\"dataframe\">\n",
       "  <thead>\n",
       "    <tr style=\"text-align: right;\">\n",
       "      <th></th>\n",
       "      <th>전국</th>\n",
       "      <th>강원도</th>\n",
       "      <th>강원도외</th>\n",
       "      <th>강원도비율</th>\n",
       "    </tr>\n",
       "  </thead>\n",
       "  <tbody>\n",
       "    <tr>\n",
       "      <th>2011</th>\n",
       "      <td>622202</td>\n",
       "      <td>147525</td>\n",
       "      <td>474677</td>\n",
       "      <td>0.237101</td>\n",
       "    </tr>\n",
       "    <tr>\n",
       "      <th>2012</th>\n",
       "      <td>607534</td>\n",
       "      <td>179506</td>\n",
       "      <td>428028</td>\n",
       "      <td>0.295467</td>\n",
       "    </tr>\n",
       "    <tr>\n",
       "      <th>2013</th>\n",
       "      <td>682149</td>\n",
       "      <td>182027</td>\n",
       "      <td>500122</td>\n",
       "      <td>0.266843</td>\n",
       "    </tr>\n",
       "    <tr>\n",
       "      <th>2014</th>\n",
       "      <td>590532</td>\n",
       "      <td>159607</td>\n",
       "      <td>430925</td>\n",
       "      <td>0.270277</td>\n",
       "    </tr>\n",
       "    <tr>\n",
       "      <th>2015</th>\n",
       "      <td>537738</td>\n",
       "      <td>177023</td>\n",
       "      <td>360715</td>\n",
       "      <td>0.329199</td>\n",
       "    </tr>\n",
       "  </tbody>\n",
       "</table>\n",
       "</div>"
      ],
      "text/plain": [
       "          전국     강원도    강원도외     강원도비율\n",
       "2011  622202  147525  474677  0.237101\n",
       "2012  607534  179506  428028  0.295467\n",
       "2013  682149  182027  500122  0.266843\n",
       "2014  590532  159607  430925  0.270277\n",
       "2015  537738  177023  360715  0.329199"
      ]
     },
     "execution_count": 85,
     "metadata": {},
     "output_type": "execute_result"
    }
   ],
   "source": [
    "potato['강원도비율'] = potato['강원도']/potato['전국']\n",
    "potato"
   ]
  },
  {
   "cell_type": "markdown",
   "metadata": {
    "colab_type": "text",
    "id": "LrzCOVCIFa5P"
   },
   "source": [
    "비율에 숫자 100을 곱해 %로 나타내 봅시다. 열이 아닌 숫자 연산의 경우 열 전체에 같은 연산을 적용합니다."
   ]
  },
  {
   "cell_type": "code",
   "execution_count": 86,
   "metadata": {
    "colab": {},
    "colab_type": "code",
    "id": "ig8ubdhEFa5Q"
   },
   "outputs": [
    {
     "data": {
      "text/html": [
       "<div>\n",
       "<style scoped>\n",
       "    .dataframe tbody tr th:only-of-type {\n",
       "        vertical-align: middle;\n",
       "    }\n",
       "\n",
       "    .dataframe tbody tr th {\n",
       "        vertical-align: top;\n",
       "    }\n",
       "\n",
       "    .dataframe thead th {\n",
       "        text-align: right;\n",
       "    }\n",
       "</style>\n",
       "<table border=\"1\" class=\"dataframe\">\n",
       "  <thead>\n",
       "    <tr style=\"text-align: right;\">\n",
       "      <th></th>\n",
       "      <th>전국</th>\n",
       "      <th>강원도</th>\n",
       "      <th>강원도외</th>\n",
       "      <th>강원도비율</th>\n",
       "      <th>강원도비율%</th>\n",
       "    </tr>\n",
       "  </thead>\n",
       "  <tbody>\n",
       "    <tr>\n",
       "      <th>2011</th>\n",
       "      <td>622202</td>\n",
       "      <td>147525</td>\n",
       "      <td>474677</td>\n",
       "      <td>0.237101</td>\n",
       "      <td>23.710146</td>\n",
       "    </tr>\n",
       "    <tr>\n",
       "      <th>2012</th>\n",
       "      <td>607534</td>\n",
       "      <td>179506</td>\n",
       "      <td>428028</td>\n",
       "      <td>0.295467</td>\n",
       "      <td>29.546659</td>\n",
       "    </tr>\n",
       "    <tr>\n",
       "      <th>2013</th>\n",
       "      <td>682149</td>\n",
       "      <td>182027</td>\n",
       "      <td>500122</td>\n",
       "      <td>0.266843</td>\n",
       "      <td>26.684346</td>\n",
       "    </tr>\n",
       "    <tr>\n",
       "      <th>2014</th>\n",
       "      <td>590532</td>\n",
       "      <td>159607</td>\n",
       "      <td>430925</td>\n",
       "      <td>0.270277</td>\n",
       "      <td>27.027663</td>\n",
       "    </tr>\n",
       "    <tr>\n",
       "      <th>2015</th>\n",
       "      <td>537738</td>\n",
       "      <td>177023</td>\n",
       "      <td>360715</td>\n",
       "      <td>0.329199</td>\n",
       "      <td>32.919935</td>\n",
       "    </tr>\n",
       "  </tbody>\n",
       "</table>\n",
       "</div>"
      ],
      "text/plain": [
       "          전국     강원도    강원도외     강원도비율     강원도비율%\n",
       "2011  622202  147525  474677  0.237101  23.710146\n",
       "2012  607534  179506  428028  0.295467  29.546659\n",
       "2013  682149  182027  500122  0.266843  26.684346\n",
       "2014  590532  159607  430925  0.270277  27.027663\n",
       "2015  537738  177023  360715  0.329199  32.919935"
      ]
     },
     "execution_count": 86,
     "metadata": {},
     "output_type": "execute_result"
    }
   ],
   "source": [
    "potato['강원도비율%'] = potato['강원도비율']*100\n",
    "potato"
   ]
  },
  {
   "cell_type": "markdown",
   "metadata": {
    "colab_type": "text",
    "id": "0qhfQO_fFa5R"
   },
   "source": [
    "<p style=\"color:#0000FF\";><font size = \"5\"><b>\n",
    "연습하기\n",
    "    </b></font></p>\n",
    "    \n",
    "#### 아래의 DataFrame 변수 'corn'에서 다음 데이터를 추가하세요.\n",
    "\n",
    "'Gangwon'은 강원도의 옥수수 생산량(톤), 그리고 'Ganwon%'는 전국 옥수수 생산량 대비 강원도의 옥수수 생산량 비율(%)입니다.\n",
    "\n",
    "- 해당 데이터는 1995년부터 2015년까지 5년 단위입니다. 이를 index에 표시하세요.\n",
    "- 열(column)의 이름을 각각 '강원도', '강원도비율%'로 바꾸세요.\n",
    "- 강원도의 옥수수 생산량(톤)과 전국 옥수수 생산량 대비 강원도의 옥수수 생산량 비율(%)를 활용해서 전국 옥수수 생산량(톤)을 계산하고 'corn'의 다른 열로 추가하세요."
   ]
  },
  {
   "cell_type": "code",
   "execution_count": 0,
   "metadata": {
    "colab": {},
    "colab_type": "code",
    "id": "j9hj3Gk8Fa5S"
   },
   "outputs": [],
   "source": [
    "corn_data = {'Gangwon':[42769, 28946, 29267, 32449, 29176],\n",
    "            'Gangwon%':[57, 45, 39.8, 43.7, 37.3]}\n",
    "\n",
    "corn = DataFrame(corn_data)\n",
    "corn"
   ]
  },
  {
   "cell_type": "code",
   "execution_count": 0,
   "metadata": {
    "colab": {},
    "colab_type": "code",
    "id": "xxDNgmSaFa5U"
   },
   "outputs": [],
   "source": []
  }
 ],
 "metadata": {
  "colab": {
   "name": "week2_review1_lecture.ipynb",
   "provenance": []
  },
  "kernelspec": {
   "display_name": "Python 3",
   "language": "python",
   "name": "python3"
  },
  "language_info": {
   "codemirror_mode": {
    "name": "ipython",
    "version": 3
   },
   "file_extension": ".py",
   "mimetype": "text/x-python",
   "name": "python",
   "nbconvert_exporter": "python",
   "pygments_lexer": "ipython3",
   "version": "3.8.3"
  }
 },
 "nbformat": 4,
 "nbformat_minor": 1
}
