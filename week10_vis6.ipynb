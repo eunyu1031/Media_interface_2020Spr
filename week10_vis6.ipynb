{
 "cells": [
  {
   "cell_type": "markdown",
   "metadata": {},
   "source": [
    "#### 복습: 패널 데이터와 wide/long\n",
    "- 패널 데이터\n",
    "- wide_to_long\n",
    "\n",
    "#### 질문: 추세 (trend/growth)\n",
    "- 선 차트(line chart)\n",
    "- 2016년부터 2019년까지 통신사 점유율/온라인 디지털 콘텐츠 사용자 수/스마트폰 제조사 점유율\n",
    "\n",
    "#### 파이썬의 날짜/시간 자료형\n",
    "- datetime 모듈의 datetime, date, timedelta\n",
    "- 시계열 데이터 살펴보기\n",
    "\n",
    "#### 질문: 관계 (relationship)\n",
    "- 산점도(scatterplot)와 버블 차트(bubble chart)\n",
    "- 관객수, 매출액, 스크린수, 상영횟수의 관계 살펴보기"
   ]
  },
  {
   "cell_type": "code",
   "execution_count": 1,
   "metadata": {},
   "outputs": [
    {
     "name": "stdout",
     "output_type": "stream",
     "text": [
      "pandas 1.0.5\n",
      "matplotlib 3.2.2\n",
      "seaborn 0.10.1\n"
     ]
    }
   ],
   "source": [
    "from pandas import Series, DataFrame \n",
    "import pandas as pd\n",
    "import numpy as np\n",
    "import matplotlib\n",
    "import matplotlib.pyplot as plt\n",
    "import seaborn as sns\n",
    "%matplotlib inline \n",
    "\n",
    "print('pandas', pd.__version__) \n",
    "print('matplotlib', matplotlib.__version__)\n",
    "print('seaborn', sns.__version__) "
   ]
  },
  {
   "cell_type": "code",
   "execution_count": 2,
   "metadata": {},
   "outputs": [],
   "source": [
    "import platform\n",
    "from matplotlib import font_manager, rc\n",
    "plt.rcParams['axes.unicode_minus'] = False\n",
    "\n",
    "if platform.system() == 'Darwin':\n",
    "    rc('font', family = 'AppleGothic')\n",
    "elif platform.system() == 'Windows': \n",
    "    path = 'c:\\Windows\\Fonts\\malgun.ttf'\n",
    "    font_name = font_manager.FontProperties(fname = path).get_name()\n",
    "    rc('font', family = font_name)\n",
    "elif platform.system() == \"Linux\":\n",
    "    !apt -qq -y install fonts-nanum\n",
    "    fontpath = '/usr/share/fonts/truetype/nanum/NanumBarunGothic.ttf'\n",
    "    font = font_manager.FontProperties(fname=fontpath, size=9)\n",
    "    rc('font', family='NanumBarunGothic') \n",
    "    font_manager._rebuild()\n",
    "else:\n",
    "    print(\"unknown system\")"
   ]
  },
  {
   "cell_type": "markdown",
   "metadata": {},
   "source": [
    "# 복습: 패널 데이터와 wide/long\n",
    "\n",
    "### 패널\n",
    "__동일한 개체(개인, 회사, 국가 등)를 시간에 따라 반복적__으로 조사한 데이터를 패널 데이터(panel data)라고 합니다. 개체가 반복되어 관찰되므로 시간의 흐름에 따른 변화를 짚어볼 수 있으며, 통계 분석에 있어서도 여러 이점을 제공합니다. 개체별로 데이터가 측정된 기간이 다른 경우를 불균형 패널(unbalanced panel)이라고 하며, 개체별로 데이터가 측정된 기간이 같은 경우를 균형 패널(balanced panel)이라고 합니다. 수업에서는 균형 패널을 구성하여 살펴보았습니다.\n",
    "\n",
    "### long(가로형)-wide(세로형)\n",
    "패널 데이터는 long(가로형)-wide(세로형) 두 가지 형태로 구성될 수 있습니다. 같은 개체가 여러 번 측정된 데이터를 각 시점에 따라 여러 변수로 길게 늘어놓은 것을 wide, 측정시점을 하나의 열로 가져와 하나의 변수가 여러 시점에 측정된 데이터를 가지고 있으면 long입니다.\n",
    "\n",
    "<img src='https://github.com/eunyu1031/Media_interface_2020Spr/blob/master/pics/long_n_wide.PNG?raw=true'/>"
   ]
  },
  {
   "cell_type": "markdown",
   "metadata": {},
   "source": [
    "Week7에서 2016~2019까지 4년치 데이터를 merge를 이용하여 식별자(pid)별로 맞추었고, 중복이 없다는 것을 확인하여 wide 형 데이터를 구성했습니다. Wide/long 등 어떤 데이터형이든 목적에 따라 사용하면 문제가 없으며, 필요한 경우 wide_to_long을 비롯한 pandas의 함수를 사용하여 데이터의 형태를 바꿀 수 있습니다.\n",
    "\n",
    "merged.csv는 7주차 실습의 결과입니다. 또는 아래 링크에서 사용하시면 됩니다.\n",
    "- https://raw.githubusercontent.com/eunyu1031/Media_interface_2020Spr/master/data/merged.csv"
   ]
  },
  {
   "cell_type": "code",
   "execution_count": 4,
   "metadata": {
    "scrolled": false
   },
   "outputs": [
    {
     "name": "stdout",
     "output_type": "stream",
     "text": [
      "<class 'pandas.core.frame.DataFrame'>\n",
      "RangeIndex: 7357 entries, 0 to 7356\n",
      "Data columns (total 93 columns):\n",
      " #   Column          Non-Null Count  Dtype \n",
      "---  ------          --------------  ----- \n",
      " 0   pid             7357 non-null   int64 \n",
      " 1   hid2016         7357 non-null   int64 \n",
      " 2   area_siz2016    7357 non-null   int64 \n",
      " 3   gender2016      7357 non-null   int64 \n",
      " 4   age_gr2016      7357 non-null   int64 \n",
      " 5   age2016         7357 non-null   int64 \n",
      " 6   mob_use2016     7357 non-null   int64 \n",
      " 7   mob_num2016     7357 non-null   int64 \n",
      " 8   mob_csp2016     7357 non-null   object\n",
      " 9   mob_dev2016     7357 non-null   object\n",
      " 10  c01_gr2016      7357 non-null   object\n",
      " 11  c02_gr2016      7357 non-null   object\n",
      " 12  c03_gr2016      7357 non-null   object\n",
      " 13  c04_gr2016      7357 non-null   object\n",
      " 14  c05_gr2016      7357 non-null   object\n",
      " 15  sns_use2016     7357 non-null   int64 \n",
      " 16  freq_sns12016   7357 non-null   object\n",
      " 17  news_med12016   7357 non-null   object\n",
      " 18  news_med22016   7357 non-null   object\n",
      " 19  news_med32016   7357 non-null   object\n",
      " 20  news_plat12016  7357 non-null   object\n",
      " 21  news_plat22016  7357 non-null   object\n",
      " 22  news_plat32016  7357 non-null   object\n",
      " 23  year2016        7357 non-null   int64 \n",
      " 24  hid2017         7357 non-null   int64 \n",
      " 25  area_siz2017    7357 non-null   int64 \n",
      " 26  gender2017      7357 non-null   int64 \n",
      " 27  age_gr2017      7357 non-null   int64 \n",
      " 28  age2017         7357 non-null   int64 \n",
      " 29  mob_use2017     7357 non-null   int64 \n",
      " 30  mob_num2017     7357 non-null   int64 \n",
      " 31  mob_csp2017     7357 non-null   object\n",
      " 32  mob_dev2017     7357 non-null   object\n",
      " 33  c01_gr2017      7357 non-null   object\n",
      " 34  c02_gr2017      7357 non-null   object\n",
      " 35  c03_gr2017      7357 non-null   object\n",
      " 36  c04_gr2017      7357 non-null   object\n",
      " 37  c05_gr2017      7357 non-null   object\n",
      " 38  sns_use2017     7357 non-null   int64 \n",
      " 39  freq_sns12017   7357 non-null   object\n",
      " 40  news_med12017   7357 non-null   object\n",
      " 41  news_med22017   7357 non-null   object\n",
      " 42  news_med32017   7357 non-null   object\n",
      " 43  news_plat12017  7357 non-null   object\n",
      " 44  news_plat22017  7357 non-null   object\n",
      " 45  news_plat32017  7357 non-null   object\n",
      " 46  year2017        7357 non-null   int64 \n",
      " 47  hid2018         7357 non-null   int64 \n",
      " 48  area_siz2018    7357 non-null   int64 \n",
      " 49  gender2018      7357 non-null   int64 \n",
      " 50  age_gr2018      7357 non-null   int64 \n",
      " 51  age2018         7357 non-null   int64 \n",
      " 52  mob_use2018     7357 non-null   int64 \n",
      " 53  mob_num2018     7357 non-null   int64 \n",
      " 54  mob_csp2018     7357 non-null   object\n",
      " 55  mob_dev2018     7357 non-null   object\n",
      " 56  c01_gr2018      7357 non-null   object\n",
      " 57  c02_gr2018      7357 non-null   object\n",
      " 58  c03_gr2018      7357 non-null   object\n",
      " 59  c04_gr2018      7357 non-null   object\n",
      " 60  c05_gr2018      7357 non-null   object\n",
      " 61  sns_use2018     7357 non-null   int64 \n",
      " 62  freq_sns12018   7357 non-null   object\n",
      " 63  news_med12018   7357 non-null   object\n",
      " 64  news_med22018   7357 non-null   object\n",
      " 65  news_med32018   7357 non-null   object\n",
      " 66  news_plat12018  7357 non-null   object\n",
      " 67  news_plat22018  7357 non-null   object\n",
      " 68  news_plat32018  7357 non-null   object\n",
      " 69  year2018        7357 non-null   int64 \n",
      " 70  hid2019         7357 non-null   int64 \n",
      " 71  area_siz2019    7357 non-null   int64 \n",
      " 72  gender2019      7357 non-null   int64 \n",
      " 73  age_gr2019      7357 non-null   int64 \n",
      " 74  age2019         7357 non-null   int64 \n",
      " 75  mob_use2019     7357 non-null   int64 \n",
      " 76  mob_num2019     7357 non-null   object\n",
      " 77  mob_csp2019     7357 non-null   object\n",
      " 78  mob_dev2019     7357 non-null   object\n",
      " 79  c01_gr2019      7357 non-null   object\n",
      " 80  c02_gr2019      7357 non-null   object\n",
      " 81  c03_gr2019      7357 non-null   object\n",
      " 82  c04_gr2019      7357 non-null   object\n",
      " 83  c05_gr2019      7357 non-null   object\n",
      " 84  sns_use2019     7357 non-null   int64 \n",
      " 85  freq_sns12019   7357 non-null   object\n",
      " 86  news_med12019   7357 non-null   object\n",
      " 87  news_med22019   7357 non-null   object\n",
      " 88  news_med32019   7357 non-null   object\n",
      " 89  news_plat12019  7357 non-null   object\n",
      " 90  news_plat22019  7357 non-null   object\n",
      " 91  news_plat32019  7357 non-null   object\n",
      " 92  year2019        7357 non-null   int64 \n",
      "dtypes: int64(36), object(57)\n",
      "memory usage: 5.2+ MB\n"
     ]
    }
   ],
   "source": [
    "merged_wide = pd.read_csv(\"merged.csv\", encoding = 'utf-8')\n",
    "merged_wide.info()"
   ]
  },
  {
   "cell_type": "markdown",
   "metadata": {},
   "source": [
    "### wide_to_long\n",
    "\n",
    "wide_to_long은 함수 이름 그대로 wide-form data를 long-form data로 바꾸어 주는 함수입니다. 해당 함수의 매개변수는 크게 __pd.wide_to_long(wide DataFrame, long으로 바꾼 후의 변수 이름들(stubname), 식별자로 사용할 열(i), 식별자가 반복되어 관찰된 값들을 구분하여 새로 index로 만들 이름(j),  j를 기존의 wide-form 열 이름에서 구분할 구분자(sep))__로 구성됩니다. DataFrame merged_wide는 변수의 이름과 연도를 구분하는 구분자가 따로 없어 기본값인 ''를 사용합니다. \n",
    "\n",
    "데이터의 구조를 바꾸는 함수는 wide_to_long 외에도 melt, stack&unstack. pivot_table 등이 있습니다. 필요한 경우에 찾아서 사용하시기 바랍니다."
   ]
  },
  {
   "cell_type": "code",
   "execution_count": 5,
   "metadata": {},
   "outputs": [
    {
     "data": {
      "text/html": [
       "<div>\n",
       "<style scoped>\n",
       "    .dataframe tbody tr th:only-of-type {\n",
       "        vertical-align: middle;\n",
       "    }\n",
       "\n",
       "    .dataframe tbody tr th {\n",
       "        vertical-align: top;\n",
       "    }\n",
       "\n",
       "    .dataframe thead th {\n",
       "        text-align: right;\n",
       "    }\n",
       "</style>\n",
       "<table border=\"1\" class=\"dataframe\">\n",
       "  <thead>\n",
       "    <tr style=\"text-align: right;\">\n",
       "      <th></th>\n",
       "      <th></th>\n",
       "      <th>year2017</th>\n",
       "      <th>year2019</th>\n",
       "      <th>year2018</th>\n",
       "      <th>year2016</th>\n",
       "      <th>hid</th>\n",
       "      <th>area_siz</th>\n",
       "      <th>gender</th>\n",
       "      <th>age_gr</th>\n",
       "      <th>age</th>\n",
       "      <th>mob_use</th>\n",
       "      <th>...</th>\n",
       "      <th>c04_gr</th>\n",
       "      <th>c05_gr</th>\n",
       "      <th>sns_use</th>\n",
       "      <th>freq_sns1</th>\n",
       "      <th>news_med1</th>\n",
       "      <th>news_med2</th>\n",
       "      <th>news_med3</th>\n",
       "      <th>news_plat1</th>\n",
       "      <th>news_plat2</th>\n",
       "      <th>news_plat3</th>\n",
       "    </tr>\n",
       "    <tr>\n",
       "      <th>pid</th>\n",
       "      <th>year</th>\n",
       "      <th></th>\n",
       "      <th></th>\n",
       "      <th></th>\n",
       "      <th></th>\n",
       "      <th></th>\n",
       "      <th></th>\n",
       "      <th></th>\n",
       "      <th></th>\n",
       "      <th></th>\n",
       "      <th></th>\n",
       "      <th></th>\n",
       "      <th></th>\n",
       "      <th></th>\n",
       "      <th></th>\n",
       "      <th></th>\n",
       "      <th></th>\n",
       "      <th></th>\n",
       "      <th></th>\n",
       "      <th></th>\n",
       "      <th></th>\n",
       "      <th></th>\n",
       "    </tr>\n",
       "  </thead>\n",
       "  <tbody>\n",
       "    <tr>\n",
       "      <th rowspan=\"4\" valign=\"top\">10001</th>\n",
       "      <th>2016</th>\n",
       "      <td>2017</td>\n",
       "      <td>2019</td>\n",
       "      <td>2018</td>\n",
       "      <td>2016</td>\n",
       "      <td>100</td>\n",
       "      <td>1</td>\n",
       "      <td>1</td>\n",
       "      <td>5</td>\n",
       "      <td>49</td>\n",
       "      <td>1</td>\n",
       "      <td>...</td>\n",
       "      <td></td>\n",
       "      <td></td>\n",
       "      <td>1</td>\n",
       "      <td>16</td>\n",
       "      <td>1</td>\n",
       "      <td>2</td>\n",
       "      <td></td>\n",
       "      <td>1</td>\n",
       "      <td>3</td>\n",
       "      <td></td>\n",
       "    </tr>\n",
       "    <tr>\n",
       "      <th>2017</th>\n",
       "      <td>2017</td>\n",
       "      <td>2019</td>\n",
       "      <td>2018</td>\n",
       "      <td>2016</td>\n",
       "      <td>100</td>\n",
       "      <td>1</td>\n",
       "      <td>1</td>\n",
       "      <td>6</td>\n",
       "      <td>50</td>\n",
       "      <td>1</td>\n",
       "      <td>...</td>\n",
       "      <td></td>\n",
       "      <td></td>\n",
       "      <td>2</td>\n",
       "      <td></td>\n",
       "      <td>3</td>\n",
       "      <td></td>\n",
       "      <td></td>\n",
       "      <td>3</td>\n",
       "      <td></td>\n",
       "      <td></td>\n",
       "    </tr>\n",
       "    <tr>\n",
       "      <th>2018</th>\n",
       "      <td>2017</td>\n",
       "      <td>2019</td>\n",
       "      <td>2018</td>\n",
       "      <td>2016</td>\n",
       "      <td>100</td>\n",
       "      <td>1</td>\n",
       "      <td>1</td>\n",
       "      <td>6</td>\n",
       "      <td>51</td>\n",
       "      <td>1</td>\n",
       "      <td>...</td>\n",
       "      <td></td>\n",
       "      <td></td>\n",
       "      <td>1</td>\n",
       "      <td>16</td>\n",
       "      <td>3</td>\n",
       "      <td></td>\n",
       "      <td></td>\n",
       "      <td>3</td>\n",
       "      <td></td>\n",
       "      <td></td>\n",
       "    </tr>\n",
       "    <tr>\n",
       "      <th>2019</th>\n",
       "      <td>2017</td>\n",
       "      <td>2019</td>\n",
       "      <td>2018</td>\n",
       "      <td>2016</td>\n",
       "      <td>100</td>\n",
       "      <td>1</td>\n",
       "      <td>1</td>\n",
       "      <td>6</td>\n",
       "      <td>52</td>\n",
       "      <td>1</td>\n",
       "      <td>...</td>\n",
       "      <td></td>\n",
       "      <td></td>\n",
       "      <td>1</td>\n",
       "      <td>15</td>\n",
       "      <td>3</td>\n",
       "      <td>4</td>\n",
       "      <td></td>\n",
       "      <td>3</td>\n",
       "      <td>2</td>\n",
       "      <td></td>\n",
       "    </tr>\n",
       "    <tr>\n",
       "      <th rowspan=\"4\" valign=\"top\">10002</th>\n",
       "      <th>2016</th>\n",
       "      <td>2017</td>\n",
       "      <td>2019</td>\n",
       "      <td>2018</td>\n",
       "      <td>2016</td>\n",
       "      <td>100</td>\n",
       "      <td>1</td>\n",
       "      <td>2</td>\n",
       "      <td>5</td>\n",
       "      <td>44</td>\n",
       "      <td>1</td>\n",
       "      <td>...</td>\n",
       "      <td></td>\n",
       "      <td></td>\n",
       "      <td>1</td>\n",
       "      <td>16</td>\n",
       "      <td></td>\n",
       "      <td></td>\n",
       "      <td></td>\n",
       "      <td></td>\n",
       "      <td></td>\n",
       "      <td></td>\n",
       "    </tr>\n",
       "    <tr>\n",
       "      <th>2017</th>\n",
       "      <td>2017</td>\n",
       "      <td>2019</td>\n",
       "      <td>2018</td>\n",
       "      <td>2016</td>\n",
       "      <td>100</td>\n",
       "      <td>1</td>\n",
       "      <td>2</td>\n",
       "      <td>5</td>\n",
       "      <td>45</td>\n",
       "      <td>1</td>\n",
       "      <td>...</td>\n",
       "      <td></td>\n",
       "      <td></td>\n",
       "      <td>2</td>\n",
       "      <td></td>\n",
       "      <td>3</td>\n",
       "      <td></td>\n",
       "      <td></td>\n",
       "      <td>3</td>\n",
       "      <td></td>\n",
       "      <td></td>\n",
       "    </tr>\n",
       "    <tr>\n",
       "      <th>2018</th>\n",
       "      <td>2017</td>\n",
       "      <td>2019</td>\n",
       "      <td>2018</td>\n",
       "      <td>2016</td>\n",
       "      <td>100</td>\n",
       "      <td>1</td>\n",
       "      <td>2</td>\n",
       "      <td>5</td>\n",
       "      <td>46</td>\n",
       "      <td>1</td>\n",
       "      <td>...</td>\n",
       "      <td>1</td>\n",
       "      <td>1</td>\n",
       "      <td>1</td>\n",
       "      <td>16</td>\n",
       "      <td></td>\n",
       "      <td></td>\n",
       "      <td></td>\n",
       "      <td></td>\n",
       "      <td></td>\n",
       "      <td></td>\n",
       "    </tr>\n",
       "    <tr>\n",
       "      <th>2019</th>\n",
       "      <td>2017</td>\n",
       "      <td>2019</td>\n",
       "      <td>2018</td>\n",
       "      <td>2016</td>\n",
       "      <td>100</td>\n",
       "      <td>1</td>\n",
       "      <td>2</td>\n",
       "      <td>5</td>\n",
       "      <td>47</td>\n",
       "      <td>1</td>\n",
       "      <td>...</td>\n",
       "      <td>1</td>\n",
       "      <td></td>\n",
       "      <td>1</td>\n",
       "      <td>15</td>\n",
       "      <td>3</td>\n",
       "      <td>4</td>\n",
       "      <td></td>\n",
       "      <td>3</td>\n",
       "      <td>2</td>\n",
       "      <td></td>\n",
       "    </tr>\n",
       "    <tr>\n",
       "      <th rowspan=\"2\" valign=\"top\">20001</th>\n",
       "      <th>2016</th>\n",
       "      <td>2017</td>\n",
       "      <td>2019</td>\n",
       "      <td>2018</td>\n",
       "      <td>2016</td>\n",
       "      <td>200</td>\n",
       "      <td>1</td>\n",
       "      <td>1</td>\n",
       "      <td>6</td>\n",
       "      <td>51</td>\n",
       "      <td>1</td>\n",
       "      <td>...</td>\n",
       "      <td></td>\n",
       "      <td></td>\n",
       "      <td>2</td>\n",
       "      <td></td>\n",
       "      <td>2</td>\n",
       "      <td>3</td>\n",
       "      <td></td>\n",
       "      <td>3</td>\n",
       "      <td>2</td>\n",
       "      <td></td>\n",
       "    </tr>\n",
       "    <tr>\n",
       "      <th>2017</th>\n",
       "      <td>2017</td>\n",
       "      <td>2019</td>\n",
       "      <td>2018</td>\n",
       "      <td>2016</td>\n",
       "      <td>200</td>\n",
       "      <td>1</td>\n",
       "      <td>1</td>\n",
       "      <td>6</td>\n",
       "      <td>52</td>\n",
       "      <td>1</td>\n",
       "      <td>...</td>\n",
       "      <td></td>\n",
       "      <td></td>\n",
       "      <td>1</td>\n",
       "      <td>16</td>\n",
       "      <td></td>\n",
       "      <td></td>\n",
       "      <td></td>\n",
       "      <td></td>\n",
       "      <td></td>\n",
       "      <td></td>\n",
       "    </tr>\n",
       "  </tbody>\n",
       "</table>\n",
       "<p>10 rows × 26 columns</p>\n",
       "</div>"
      ],
      "text/plain": [
       "            year2017  year2019  year2018  year2016  hid  area_siz  gender  \\\n",
       "pid   year                                                                  \n",
       "10001 2016      2017      2019      2018      2016  100         1       1   \n",
       "      2017      2017      2019      2018      2016  100         1       1   \n",
       "      2018      2017      2019      2018      2016  100         1       1   \n",
       "      2019      2017      2019      2018      2016  100         1       1   \n",
       "10002 2016      2017      2019      2018      2016  100         1       2   \n",
       "      2017      2017      2019      2018      2016  100         1       2   \n",
       "      2018      2017      2019      2018      2016  100         1       2   \n",
       "      2019      2017      2019      2018      2016  100         1       2   \n",
       "20001 2016      2017      2019      2018      2016  200         1       1   \n",
       "      2017      2017      2019      2018      2016  200         1       1   \n",
       "\n",
       "            age_gr  age  mob_use  ... c04_gr c05_gr sns_use freq_sns1  \\\n",
       "pid   year                        ...                                   \n",
       "10001 2016       5   49        1  ...                     1        16   \n",
       "      2017       6   50        1  ...                     2             \n",
       "      2018       6   51        1  ...                     1        16   \n",
       "      2019       6   52        1  ...                     1        15   \n",
       "10002 2016       5   44        1  ...                     1        16   \n",
       "      2017       5   45        1  ...                     2             \n",
       "      2018       5   46        1  ...      1      1       1        16   \n",
       "      2019       5   47        1  ...      1              1        15   \n",
       "20001 2016       6   51        1  ...                     2             \n",
       "      2017       6   52        1  ...                     1        16   \n",
       "\n",
       "           news_med1 news_med2 news_med3 news_plat1  news_plat2 news_plat3  \n",
       "pid   year                                                                  \n",
       "10001 2016         1         2                    1           3             \n",
       "      2017         3                              3                         \n",
       "      2018         3                              3                         \n",
       "      2019         3         4                    3           2             \n",
       "10002 2016                                                                  \n",
       "      2017         3                              3                         \n",
       "      2018                                                                  \n",
       "      2019         3         4                    3           2             \n",
       "20001 2016         2         3                    3           2             \n",
       "      2017                                                                  \n",
       "\n",
       "[10 rows x 26 columns]"
      ]
     },
     "execution_count": 5,
     "metadata": {},
     "output_type": "execute_result"
    }
   ],
   "source": [
    "merged_long = pd.wide_to_long(merged_wide, \n",
    "                             ['hid','area_siz',\n",
    "                              'gender','age_gr','age',\n",
    "                              'mob_use','mob_num','mob_csp','mob_dev',\n",
    "                              'c01_gr','c02_gr','c03_gr','c04_gr','c05_gr',\n",
    "                              'sns_use','freq_sns1',\n",
    "                              'news_med1','news_med2','news_med3',\n",
    "                              'news_plat1','news_plat2','news_plat3'], \n",
    "                             i = 'pid', \n",
    "                              j = 'year',\n",
    "                              sep = \"\").sort_values(['pid', 'year'])\n",
    "\n",
    "merged_long.head(10)"
   ]
  },
  {
   "cell_type": "markdown",
   "metadata": {},
   "source": [
    "# 질문: 추세 (trend/growth)\n",
    "\n",
    "### wide/long\n",
    "\n",
    "위에서 만든 merged_wide, merged_long 데이터를 사용해서 matplotlib/seaborn에서 선 차트를 그릴 예정입니다.\n",
    "\n",
    "### 통신사 점유율 변화\n",
    "\n",
    "mob_csp(p__a03008)는 스마트폰 가입 이동통신사를 나타내며, 범주형으로 코딩된 각 숫자의 의미는 다음과 같습니다.\n",
    "\n",
    "1)SKT 2)KT(구 KTF) 3)LG U+ 4)알뜰폰서비스(MVNO) "
   ]
  },
  {
   "cell_type": "code",
   "execution_count": 6,
   "metadata": {},
   "outputs": [
    {
     "name": "stdout",
     "output_type": "stream",
     "text": [
      "<class 'pandas.core.frame.DataFrame'>\n",
      "RangeIndex: 7357 entries, 0 to 7356\n",
      "Data columns (total 5 columns):\n",
      " #   Column       Non-Null Count  Dtype  \n",
      "---  ------       --------------  -----  \n",
      " 0   pid          7357 non-null   int64  \n",
      " 1   mob_csp2016  5518 non-null   float64\n",
      " 2   mob_csp2017  5821 non-null   float64\n",
      " 3   mob_csp2018  6066 non-null   float64\n",
      " 4   mob_csp2019  6226 non-null   float64\n",
      "dtypes: float64(4), int64(1)\n",
      "memory usage: 287.5 KB\n"
     ]
    }
   ],
   "source": [
    "csp = merged_wide.loc[:, ['pid', 'mob_csp2016', 'mob_csp2017', 'mob_csp2018', 'mob_csp2019']].apply(lambda x: pd.to_numeric(x, errors = 'coerce'))\n",
    "csp.info()"
   ]
  },
  {
   "cell_type": "markdown",
   "metadata": {},
   "source": [
    "각 연도별로 통신사의 점유율을 계산하여 csp_share로 저장했습니다. 계속 wide-form 데이터입니다."
   ]
  },
  {
   "cell_type": "code",
   "execution_count": 7,
   "metadata": {},
   "outputs": [
    {
     "data": {
      "text/html": [
       "<div>\n",
       "<style scoped>\n",
       "    .dataframe tbody tr th:only-of-type {\n",
       "        vertical-align: middle;\n",
       "    }\n",
       "\n",
       "    .dataframe tbody tr th {\n",
       "        vertical-align: top;\n",
       "    }\n",
       "\n",
       "    .dataframe thead th {\n",
       "        text-align: right;\n",
       "    }\n",
       "</style>\n",
       "<table border=\"1\" class=\"dataframe\">\n",
       "  <thead>\n",
       "    <tr style=\"text-align: right;\">\n",
       "      <th></th>\n",
       "      <th>mob_csp2016</th>\n",
       "      <th>mob_csp2017</th>\n",
       "      <th>mob_csp2018</th>\n",
       "      <th>mob_csp2019</th>\n",
       "    </tr>\n",
       "  </thead>\n",
       "  <tbody>\n",
       "    <tr>\n",
       "      <th>1.0</th>\n",
       "      <td>0.522834</td>\n",
       "      <td>0.487889</td>\n",
       "      <td>0.478899</td>\n",
       "      <td>0.486990</td>\n",
       "    </tr>\n",
       "    <tr>\n",
       "      <th>2.0</th>\n",
       "      <td>0.245198</td>\n",
       "      <td>0.273493</td>\n",
       "      <td>0.278107</td>\n",
       "      <td>0.268551</td>\n",
       "    </tr>\n",
       "    <tr>\n",
       "      <th>3.0</th>\n",
       "      <td>0.217108</td>\n",
       "      <td>0.228998</td>\n",
       "      <td>0.233103</td>\n",
       "      <td>0.233858</td>\n",
       "    </tr>\n",
       "    <tr>\n",
       "      <th>4.0</th>\n",
       "      <td>0.014860</td>\n",
       "      <td>0.009620</td>\n",
       "      <td>0.009891</td>\n",
       "      <td>0.010601</td>\n",
       "    </tr>\n",
       "  </tbody>\n",
       "</table>\n",
       "</div>"
      ],
      "text/plain": [
       "     mob_csp2016  mob_csp2017  mob_csp2018  mob_csp2019\n",
       "1.0     0.522834     0.487889     0.478899     0.486990\n",
       "2.0     0.245198     0.273493     0.278107     0.268551\n",
       "3.0     0.217108     0.228998     0.233103     0.233858\n",
       "4.0     0.014860     0.009620     0.009891     0.010601"
      ]
     },
     "execution_count": 7,
     "metadata": {},
     "output_type": "execute_result"
    }
   ],
   "source": [
    "csp_share = csp.iloc[:, 1:].apply(lambda x: x.value_counts(normalize = True))\n",
    "csp_share"
   ]
  },
  {
   "cell_type": "code",
   "execution_count": 8,
   "metadata": {},
   "outputs": [
    {
     "data": {
      "text/html": [
       "<div>\n",
       "<style scoped>\n",
       "    .dataframe tbody tr th:only-of-type {\n",
       "        vertical-align: middle;\n",
       "    }\n",
       "\n",
       "    .dataframe tbody tr th {\n",
       "        vertical-align: top;\n",
       "    }\n",
       "\n",
       "    .dataframe thead th {\n",
       "        text-align: right;\n",
       "    }\n",
       "</style>\n",
       "<table border=\"1\" class=\"dataframe\">\n",
       "  <thead>\n",
       "    <tr style=\"text-align: right;\">\n",
       "      <th></th>\n",
       "      <th>mob_csp2016</th>\n",
       "      <th>mob_csp2017</th>\n",
       "      <th>mob_csp2018</th>\n",
       "      <th>mob_csp2019</th>\n",
       "    </tr>\n",
       "  </thead>\n",
       "  <tbody>\n",
       "    <tr>\n",
       "      <th>SKT</th>\n",
       "      <td>0.522834</td>\n",
       "      <td>0.487889</td>\n",
       "      <td>0.478899</td>\n",
       "      <td>0.486990</td>\n",
       "    </tr>\n",
       "    <tr>\n",
       "      <th>KT</th>\n",
       "      <td>0.245198</td>\n",
       "      <td>0.273493</td>\n",
       "      <td>0.278107</td>\n",
       "      <td>0.268551</td>\n",
       "    </tr>\n",
       "    <tr>\n",
       "      <th>LG U+</th>\n",
       "      <td>0.217108</td>\n",
       "      <td>0.228998</td>\n",
       "      <td>0.233103</td>\n",
       "      <td>0.233858</td>\n",
       "    </tr>\n",
       "    <tr>\n",
       "      <th>MVNO</th>\n",
       "      <td>0.014860</td>\n",
       "      <td>0.009620</td>\n",
       "      <td>0.009891</td>\n",
       "      <td>0.010601</td>\n",
       "    </tr>\n",
       "  </tbody>\n",
       "</table>\n",
       "</div>"
      ],
      "text/plain": [
       "       mob_csp2016  mob_csp2017  mob_csp2018  mob_csp2019\n",
       "SKT       0.522834     0.487889     0.478899     0.486990\n",
       "KT        0.245198     0.273493     0.278107     0.268551\n",
       "LG U+     0.217108     0.228998     0.233103     0.233858\n",
       "MVNO      0.014860     0.009620     0.009891     0.010601"
      ]
     },
     "execution_count": 8,
     "metadata": {},
     "output_type": "execute_result"
    }
   ],
   "source": [
    "csp_share.index = ['SKT', 'KT', 'LG U+', 'MVNO']\n",
    "csp_share"
   ]
  },
  {
   "cell_type": "markdown",
   "metadata": {},
   "source": [
    "Matplotlib에서 선그래프는 ax.plot으로 간단하게 그릴 수 있습니다. 모양은 color, market, linestyle 등으로 바꿀 수 있습니다. "
   ]
  },
  {
   "cell_type": "code",
   "execution_count": 9,
   "metadata": {},
   "outputs": [
    {
     "data": {
      "text/plain": [
       "[<matplotlib.lines.Line2D at 0x237e6858400>]"
      ]
     },
     "execution_count": 9,
     "metadata": {},
     "output_type": "execute_result"
    },
    {
     "data": {
      "image/png": "[encoded data removed]",
      "text/plain": [
       "<Figure size 432x288 with 1 Axes>"
      ]
     },
     "metadata": {
      "needs_background": "light"
     },
     "output_type": "display_data"
    }
   ],
   "source": [
    "# default >>plot(y)\n",
    "fig, ax = plt.subplots()\n",
    "ax.plot([1, 5, 3, 7, 2, 9])"
   ]
  },
  {
   "cell_type": "code",
   "execution_count": 10,
   "metadata": {},
   "outputs": [
    {
     "data": {
      "image/png": "[encoded data removed]",
      "text/plain": [
       "<Figure size 432x288 with 1 Axes>"
      ]
     },
     "metadata": {
      "needs_background": "light"
     },
     "output_type": "display_data"
    }
   ],
   "source": [
    "# Matplotlib, wide\n",
    "\n",
    "fig, ax = plt.subplots()\n",
    "\n",
    "ax.plot(csp_share.loc['SKT', :], color = 'orange', marker = 'o', linestyle = '--')\n",
    "ax.plot(csp_share.loc['KT', :], color = 'red', marker = 'D', linestyle = '-')\n",
    "ax.plot(csp_share.loc['LG U+', :], color = 'magenta', marker = '*', linestyle = ':')\n",
    "ax.plot(csp_share.loc['MVNO', :], color = 'green', marker = 's', linestyle = '-.')\n",
    "\n",
    "ax.set(title = 'Market share: communication service provider', \n",
    "       xlabel = 'Year',\n",
    "      ylabel = 'Market share')\n",
    "\n",
    "ax.set_xticklabels([2016, 2017, 2018, 2019])\n",
    "ax.legend(csp_share.index, loc = 'upper right')\n",
    "plt.show()"
   ]
  },
  {
   "cell_type": "markdown",
   "metadata": {},
   "source": [
    "Matplotlib에서 제공하는 marker와 linestyle은 아래를 참고하시기 바랍니다.\n",
    "\n",
    "Markers: https://matplotlib.org/3.2.1/api/markers_api.html\n",
    "<img src='https://matplotlib.org/3.1.0/_images/sphx_glr_marker_reference_001.png'/>\n",
    "<img src='https://matplotlib.org/3.1.0/_images/sphx_glr_marker_reference_002.png'/>"
   ]
  },
  {
   "cell_type": "markdown",
   "metadata": {},
   "source": [
    "Line-style reference: https://matplotlib.org/gallery/lines_bars_and_markers/line_styles_reference.html\n",
    "<img src='https://matplotlib.org/_images/sphx_glr_line_styles_reference_001.png'/>"
   ]
  },
  {
   "cell_type": "markdown",
   "metadata": {},
   "source": [
    "범례(legend)의 위치는 매개변수 'loc'으로 정하며 기본이 'best'이지만, 위치를 따로 지정할 수 있습니다.\n",
    "<table border=\"1\" class=\"docutils align-default\">\n",
    "<colgroup>\n",
    "<col width=\"54%\" />\n",
    "<col width=\"46%\" />\n",
    "</colgroup>\n",
    "<thead valign=\"bottom\">\n",
    "<tr class=\"row-odd\"><th class=\"head\">Location String</th>\n",
    "<th class=\"head\">Location Code</th>\n",
    "</tr>\n",
    "</thead>\n",
    "<tbody valign=\"top\">\n",
    "<tr class=\"row-even\"><td>'best'</td>\n",
    "<td>0</td>\n",
    "</tr>\n",
    "<tr class=\"row-odd\"><td>'upper right'</td>\n",
    "<td>1</td>\n",
    "</tr>\n",
    "<tr class=\"row-even\"><td>'upper left'</td>\n",
    "<td>2</td>\n",
    "</tr>\n",
    "<tr class=\"row-odd\"><td>'lower left'</td>\n",
    "<td>3</td>\n",
    "</tr>\n",
    "<tr class=\"row-even\"><td>'lower right'</td>\n",
    "<td>4</td>\n",
    "</tr>\n",
    "<tr class=\"row-odd\"><td>'right'</td>\n",
    "<td>5</td>\n",
    "</tr>\n",
    "<tr class=\"row-even\"><td>'center left'</td>\n",
    "<td>6</td>\n",
    "</tr>\n",
    "<tr class=\"row-odd\"><td>'center right'</td>\n",
    "<td>7</td>\n",
    "</tr>\n",
    "<tr class=\"row-even\"><td>'lower center'</td>\n",
    "<td>8</td>\n",
    "</tr>\n",
    "<tr class=\"row-odd\"><td>'upper center'</td>\n",
    "<td>9</td>\n",
    "</tr>\n",
    "<tr class=\"row-even\"><td>'center'</td>\n",
    "<td>10</td>\n",
    "</tr>\n",
    "</tbody>\n",
    "</table>"
   ]
  },
  {
   "cell_type": "markdown",
   "metadata": {},
   "source": [
    "<p style=\"color:#0000FF\";><font size = \"5\"><b>\n",
    " # 연습하기\n",
    "    </b></font></p>\n",
    "    \n",
    "### 온라인 디지털 콘텐츠 사용자 \n",
    "DataFrame 'content_count'는 2016-2019 각 온라인 디지털 콘텐츠 사용자의 수의 데이터입니다.\n",
    "- 2016-2019 온라인 디지털 콘텐츠 사용자의 증감을 선 차트로 나타내세요."
   ]
  },
  {
   "cell_type": "code",
   "execution_count": 11,
   "metadata": {},
   "outputs": [
    {
     "data": {
      "text/html": [
       "<div>\n",
       "<style scoped>\n",
       "    .dataframe tbody tr th:only-of-type {\n",
       "        vertical-align: middle;\n",
       "    }\n",
       "\n",
       "    .dataframe tbody tr th {\n",
       "        vertical-align: top;\n",
       "    }\n",
       "\n",
       "    .dataframe thead th {\n",
       "        text-align: right;\n",
       "    }\n",
       "</style>\n",
       "<table border=\"1\" class=\"dataframe\">\n",
       "  <thead>\n",
       "    <tr style=\"text-align: right;\">\n",
       "      <th></th>\n",
       "      <th>pid</th>\n",
       "      <th>year</th>\n",
       "      <th>c01_gr</th>\n",
       "      <th>c02_gr</th>\n",
       "      <th>c03_gr</th>\n",
       "      <th>c04_gr</th>\n",
       "      <th>c05_gr</th>\n",
       "    </tr>\n",
       "  </thead>\n",
       "  <tbody>\n",
       "    <tr>\n",
       "      <th>0</th>\n",
       "      <td>10001</td>\n",
       "      <td>2016</td>\n",
       "      <td>NaN</td>\n",
       "      <td>NaN</td>\n",
       "      <td>NaN</td>\n",
       "      <td>NaN</td>\n",
       "      <td>NaN</td>\n",
       "    </tr>\n",
       "    <tr>\n",
       "      <th>1</th>\n",
       "      <td>10001</td>\n",
       "      <td>2017</td>\n",
       "      <td>NaN</td>\n",
       "      <td>NaN</td>\n",
       "      <td>NaN</td>\n",
       "      <td>NaN</td>\n",
       "      <td>NaN</td>\n",
       "    </tr>\n",
       "    <tr>\n",
       "      <th>2</th>\n",
       "      <td>10001</td>\n",
       "      <td>2018</td>\n",
       "      <td>NaN</td>\n",
       "      <td>NaN</td>\n",
       "      <td>NaN</td>\n",
       "      <td>NaN</td>\n",
       "      <td>NaN</td>\n",
       "    </tr>\n",
       "    <tr>\n",
       "      <th>3</th>\n",
       "      <td>10001</td>\n",
       "      <td>2019</td>\n",
       "      <td>NaN</td>\n",
       "      <td>NaN</td>\n",
       "      <td>1.0</td>\n",
       "      <td>NaN</td>\n",
       "      <td>NaN</td>\n",
       "    </tr>\n",
       "    <tr>\n",
       "      <th>4</th>\n",
       "      <td>10002</td>\n",
       "      <td>2016</td>\n",
       "      <td>NaN</td>\n",
       "      <td>NaN</td>\n",
       "      <td>NaN</td>\n",
       "      <td>NaN</td>\n",
       "      <td>NaN</td>\n",
       "    </tr>\n",
       "    <tr>\n",
       "      <th>5</th>\n",
       "      <td>10002</td>\n",
       "      <td>2017</td>\n",
       "      <td>NaN</td>\n",
       "      <td>NaN</td>\n",
       "      <td>NaN</td>\n",
       "      <td>NaN</td>\n",
       "      <td>NaN</td>\n",
       "    </tr>\n",
       "    <tr>\n",
       "      <th>6</th>\n",
       "      <td>10002</td>\n",
       "      <td>2018</td>\n",
       "      <td>1.0</td>\n",
       "      <td>NaN</td>\n",
       "      <td>NaN</td>\n",
       "      <td>1.0</td>\n",
       "      <td>1.0</td>\n",
       "    </tr>\n",
       "    <tr>\n",
       "      <th>7</th>\n",
       "      <td>10002</td>\n",
       "      <td>2019</td>\n",
       "      <td>NaN</td>\n",
       "      <td>NaN</td>\n",
       "      <td>1.0</td>\n",
       "      <td>1.0</td>\n",
       "      <td>NaN</td>\n",
       "    </tr>\n",
       "    <tr>\n",
       "      <th>8</th>\n",
       "      <td>20001</td>\n",
       "      <td>2016</td>\n",
       "      <td>NaN</td>\n",
       "      <td>NaN</td>\n",
       "      <td>NaN</td>\n",
       "      <td>NaN</td>\n",
       "      <td>NaN</td>\n",
       "    </tr>\n",
       "    <tr>\n",
       "      <th>9</th>\n",
       "      <td>20001</td>\n",
       "      <td>2017</td>\n",
       "      <td>NaN</td>\n",
       "      <td>NaN</td>\n",
       "      <td>NaN</td>\n",
       "      <td>NaN</td>\n",
       "      <td>NaN</td>\n",
       "    </tr>\n",
       "  </tbody>\n",
       "</table>\n",
       "</div>"
      ],
      "text/plain": [
       "     pid  year  c01_gr  c02_gr  c03_gr  c04_gr  c05_gr\n",
       "0  10001  2016     NaN     NaN     NaN     NaN     NaN\n",
       "1  10001  2017     NaN     NaN     NaN     NaN     NaN\n",
       "2  10001  2018     NaN     NaN     NaN     NaN     NaN\n",
       "3  10001  2019     NaN     NaN     1.0     NaN     NaN\n",
       "4  10002  2016     NaN     NaN     NaN     NaN     NaN\n",
       "5  10002  2017     NaN     NaN     NaN     NaN     NaN\n",
       "6  10002  2018     1.0     NaN     NaN     1.0     1.0\n",
       "7  10002  2019     NaN     NaN     1.0     1.0     NaN\n",
       "8  20001  2016     NaN     NaN     NaN     NaN     NaN\n",
       "9  20001  2017     NaN     NaN     NaN     NaN     NaN"
      ]
     },
     "execution_count": 11,
     "metadata": {},
     "output_type": "execute_result"
    }
   ],
   "source": [
    "content = merged_long.loc[:, ['c01_gr', 'c02_gr', 'c03_gr', 'c04_gr', 'c05_gr']].apply(lambda x: pd.to_numeric(x, errors = 'coerce')).reset_index()\n",
    "content.head(10)"
   ]
  },
  {
   "cell_type": "code",
   "execution_count": 12,
   "metadata": {},
   "outputs": [
    {
     "data": {
      "text/html": [
       "<div>\n",
       "<style scoped>\n",
       "    .dataframe tbody tr th:only-of-type {\n",
       "        vertical-align: middle;\n",
       "    }\n",
       "\n",
       "    .dataframe tbody tr th {\n",
       "        vertical-align: top;\n",
       "    }\n",
       "\n",
       "    .dataframe thead th {\n",
       "        text-align: right;\n",
       "    }\n",
       "</style>\n",
       "<table border=\"1\" class=\"dataframe\">\n",
       "  <thead>\n",
       "    <tr style=\"text-align: right;\">\n",
       "      <th></th>\n",
       "      <th>pid</th>\n",
       "      <th>c01_gr</th>\n",
       "      <th>c02_gr</th>\n",
       "      <th>c03_gr</th>\n",
       "      <th>c04_gr</th>\n",
       "      <th>c05_gr</th>\n",
       "    </tr>\n",
       "    <tr>\n",
       "      <th>year</th>\n",
       "      <th></th>\n",
       "      <th></th>\n",
       "      <th></th>\n",
       "      <th></th>\n",
       "      <th></th>\n",
       "      <th></th>\n",
       "    </tr>\n",
       "  </thead>\n",
       "  <tbody>\n",
       "    <tr>\n",
       "      <th>2016</th>\n",
       "      <td>7357</td>\n",
       "      <td>81</td>\n",
       "      <td>99</td>\n",
       "      <td>192</td>\n",
       "      <td>445</td>\n",
       "      <td>230</td>\n",
       "    </tr>\n",
       "    <tr>\n",
       "      <th>2017</th>\n",
       "      <td>7357</td>\n",
       "      <td>202</td>\n",
       "      <td>226</td>\n",
       "      <td>214</td>\n",
       "      <td>509</td>\n",
       "      <td>270</td>\n",
       "    </tr>\n",
       "    <tr>\n",
       "      <th>2018</th>\n",
       "      <td>7357</td>\n",
       "      <td>1180</td>\n",
       "      <td>1175</td>\n",
       "      <td>615</td>\n",
       "      <td>1387</td>\n",
       "      <td>1166</td>\n",
       "    </tr>\n",
       "    <tr>\n",
       "      <th>2019</th>\n",
       "      <td>7357</td>\n",
       "      <td>1138</td>\n",
       "      <td>1271</td>\n",
       "      <td>752</td>\n",
       "      <td>1157</td>\n",
       "      <td>991</td>\n",
       "    </tr>\n",
       "  </tbody>\n",
       "</table>\n",
       "</div>"
      ],
      "text/plain": [
       "       pid  c01_gr  c02_gr  c03_gr  c04_gr  c05_gr\n",
       "year                                              \n",
       "2016  7357      81      99     192     445     230\n",
       "2017  7357     202     226     214     509     270\n",
       "2018  7357    1180    1175     615    1387    1166\n",
       "2019  7357    1138    1271     752    1157     991"
      ]
     },
     "execution_count": 12,
     "metadata": {},
     "output_type": "execute_result"
    }
   ],
   "source": [
    "content_count = content.groupby('year').count()\n",
    "content_count"
   ]
  },
  {
   "cell_type": "code",
   "execution_count": 13,
   "metadata": {},
   "outputs": [
    {
     "data": {
      "text/plain": [
       "<matplotlib.legend.Legend at 0x237eaad4fd0>"
      ]
     },
     "execution_count": 13,
     "metadata": {},
     "output_type": "execute_result"
    },
    {
     "data": {
      "image/png": "[encoded data removed]",
      "text/plain": [
       "<Figure size 432x288 with 1 Axes>"
      ]
     },
     "metadata": {
      "needs_background": "light"
     },
     "output_type": "display_data"
    }
   ],
   "source": [
    "# Matplotlib, long\n",
    "fig, ax = plt.subplots()\n",
    "\n",
    "\n",
    "\n",
    "\n",
    "\n",
    "ax.set_xticks([2016, 2017, 2018, 2019])\n",
    "ax.legend(['신문/잡지/책', '동영상/영화', 'TV프로그램', '음악', '게임'])"
   ]
  },
  {
   "cell_type": "markdown",
   "metadata": {},
   "source": [
    "Seaborn에서는 sns.lineplot으로 그릴 수 있습니다. 하지만 그 전에 설명을 살펴보면, 해당 함수에서는 long-form data를 요구합니다. 따라서 2016-2019 통신사 점유율 데이터를 가지고 있는 DataFrame csp_share를 wide form에서 long form으로 바꾸어 봅시다."
   ]
  },
  {
   "cell_type": "code",
   "execution_count": null,
   "metadata": {},
   "outputs": [],
   "source": [
    "help(sns.lineplot)"
   ]
  },
  {
   "cell_type": "markdown",
   "metadata": {},
   "source": [
    "wide_to_long에서 i는 DataFrame의 열(column)을 지정하는 것이므로 reset_index로 index를 열로 뺀 후 wide_to_long의 인수로 지정합니다."
   ]
  },
  {
   "cell_type": "code",
   "execution_count": 15,
   "metadata": {},
   "outputs": [
    {
     "data": {
      "text/html": [
       "<div>\n",
       "<style scoped>\n",
       "    .dataframe tbody tr th:only-of-type {\n",
       "        vertical-align: middle;\n",
       "    }\n",
       "\n",
       "    .dataframe tbody tr th {\n",
       "        vertical-align: top;\n",
       "    }\n",
       "\n",
       "    .dataframe thead th {\n",
       "        text-align: right;\n",
       "    }\n",
       "</style>\n",
       "<table border=\"1\" class=\"dataframe\">\n",
       "  <thead>\n",
       "    <tr style=\"text-align: right;\">\n",
       "      <th></th>\n",
       "      <th>mob_csp2016</th>\n",
       "      <th>mob_csp2017</th>\n",
       "      <th>mob_csp2018</th>\n",
       "      <th>mob_csp2019</th>\n",
       "    </tr>\n",
       "  </thead>\n",
       "  <tbody>\n",
       "    <tr>\n",
       "      <th>SKT</th>\n",
       "      <td>0.522834</td>\n",
       "      <td>0.487889</td>\n",
       "      <td>0.478899</td>\n",
       "      <td>0.486990</td>\n",
       "    </tr>\n",
       "    <tr>\n",
       "      <th>KT</th>\n",
       "      <td>0.245198</td>\n",
       "      <td>0.273493</td>\n",
       "      <td>0.278107</td>\n",
       "      <td>0.268551</td>\n",
       "    </tr>\n",
       "    <tr>\n",
       "      <th>LG U+</th>\n",
       "      <td>0.217108</td>\n",
       "      <td>0.228998</td>\n",
       "      <td>0.233103</td>\n",
       "      <td>0.233858</td>\n",
       "    </tr>\n",
       "    <tr>\n",
       "      <th>MVNO</th>\n",
       "      <td>0.014860</td>\n",
       "      <td>0.009620</td>\n",
       "      <td>0.009891</td>\n",
       "      <td>0.010601</td>\n",
       "    </tr>\n",
       "  </tbody>\n",
       "</table>\n",
       "</div>"
      ],
      "text/plain": [
       "       mob_csp2016  mob_csp2017  mob_csp2018  mob_csp2019\n",
       "SKT       0.522834     0.487889     0.478899     0.486990\n",
       "KT        0.245198     0.273493     0.278107     0.268551\n",
       "LG U+     0.217108     0.228998     0.233103     0.233858\n",
       "MVNO      0.014860     0.009620     0.009891     0.010601"
      ]
     },
     "execution_count": 15,
     "metadata": {},
     "output_type": "execute_result"
    }
   ],
   "source": [
    "csp_share"
   ]
  },
  {
   "cell_type": "code",
   "execution_count": 16,
   "metadata": {},
   "outputs": [
    {
     "data": {
      "text/html": [
       "<div>\n",
       "<style scoped>\n",
       "    .dataframe tbody tr th:only-of-type {\n",
       "        vertical-align: middle;\n",
       "    }\n",
       "\n",
       "    .dataframe tbody tr th {\n",
       "        vertical-align: top;\n",
       "    }\n",
       "\n",
       "    .dataframe thead th {\n",
       "        text-align: right;\n",
       "    }\n",
       "</style>\n",
       "<table border=\"1\" class=\"dataframe\">\n",
       "  <thead>\n",
       "    <tr style=\"text-align: right;\">\n",
       "      <th></th>\n",
       "      <th>index</th>\n",
       "      <th>mob_csp2016</th>\n",
       "      <th>mob_csp2017</th>\n",
       "      <th>mob_csp2018</th>\n",
       "      <th>mob_csp2019</th>\n",
       "    </tr>\n",
       "  </thead>\n",
       "  <tbody>\n",
       "    <tr>\n",
       "      <th>0</th>\n",
       "      <td>SKT</td>\n",
       "      <td>0.522834</td>\n",
       "      <td>0.487889</td>\n",
       "      <td>0.478899</td>\n",
       "      <td>0.486990</td>\n",
       "    </tr>\n",
       "    <tr>\n",
       "      <th>1</th>\n",
       "      <td>KT</td>\n",
       "      <td>0.245198</td>\n",
       "      <td>0.273493</td>\n",
       "      <td>0.278107</td>\n",
       "      <td>0.268551</td>\n",
       "    </tr>\n",
       "    <tr>\n",
       "      <th>2</th>\n",
       "      <td>LG U+</td>\n",
       "      <td>0.217108</td>\n",
       "      <td>0.228998</td>\n",
       "      <td>0.233103</td>\n",
       "      <td>0.233858</td>\n",
       "    </tr>\n",
       "    <tr>\n",
       "      <th>3</th>\n",
       "      <td>MVNO</td>\n",
       "      <td>0.014860</td>\n",
       "      <td>0.009620</td>\n",
       "      <td>0.009891</td>\n",
       "      <td>0.010601</td>\n",
       "    </tr>\n",
       "  </tbody>\n",
       "</table>\n",
       "</div>"
      ],
      "text/plain": [
       "   index  mob_csp2016  mob_csp2017  mob_csp2018  mob_csp2019\n",
       "0    SKT     0.522834     0.487889     0.478899     0.486990\n",
       "1     KT     0.245198     0.273493     0.278107     0.268551\n",
       "2  LG U+     0.217108     0.228998     0.233103     0.233858\n",
       "3   MVNO     0.014860     0.009620     0.009891     0.010601"
      ]
     },
     "execution_count": 16,
     "metadata": {},
     "output_type": "execute_result"
    }
   ],
   "source": [
    "csp_share.reset_index()"
   ]
  },
  {
   "cell_type": "markdown",
   "metadata": {},
   "source": [
    "Long-form에서 mob_csp 변수 하나만 남고(mob_csp), 연도별 데이터를 구분하는 식별자가 통신사의 이름이며(index), 각 열의 이름 뒤에 붙은 2016~2019가 연도이기 때문에(year) 아래와 같이 wide_to_long 함수를 사용하게 됩니다."
   ]
  },
  {
   "cell_type": "code",
   "execution_count": 17,
   "metadata": {},
   "outputs": [
    {
     "data": {
      "text/html": [
       "<div>\n",
       "<style scoped>\n",
       "    .dataframe tbody tr th:only-of-type {\n",
       "        vertical-align: middle;\n",
       "    }\n",
       "\n",
       "    .dataframe tbody tr th {\n",
       "        vertical-align: top;\n",
       "    }\n",
       "\n",
       "    .dataframe thead th {\n",
       "        text-align: right;\n",
       "    }\n",
       "</style>\n",
       "<table border=\"1\" class=\"dataframe\">\n",
       "  <thead>\n",
       "    <tr style=\"text-align: right;\">\n",
       "      <th></th>\n",
       "      <th></th>\n",
       "      <th>mob_csp</th>\n",
       "    </tr>\n",
       "    <tr>\n",
       "      <th>index</th>\n",
       "      <th>year</th>\n",
       "      <th></th>\n",
       "    </tr>\n",
       "  </thead>\n",
       "  <tbody>\n",
       "    <tr>\n",
       "      <th>SKT</th>\n",
       "      <th>2016</th>\n",
       "      <td>0.522834</td>\n",
       "    </tr>\n",
       "    <tr>\n",
       "      <th>KT</th>\n",
       "      <th>2016</th>\n",
       "      <td>0.245198</td>\n",
       "    </tr>\n",
       "    <tr>\n",
       "      <th>LG U+</th>\n",
       "      <th>2016</th>\n",
       "      <td>0.217108</td>\n",
       "    </tr>\n",
       "    <tr>\n",
       "      <th>MVNO</th>\n",
       "      <th>2016</th>\n",
       "      <td>0.014860</td>\n",
       "    </tr>\n",
       "    <tr>\n",
       "      <th>SKT</th>\n",
       "      <th>2017</th>\n",
       "      <td>0.487889</td>\n",
       "    </tr>\n",
       "    <tr>\n",
       "      <th>KT</th>\n",
       "      <th>2017</th>\n",
       "      <td>0.273493</td>\n",
       "    </tr>\n",
       "    <tr>\n",
       "      <th>LG U+</th>\n",
       "      <th>2017</th>\n",
       "      <td>0.228998</td>\n",
       "    </tr>\n",
       "    <tr>\n",
       "      <th>MVNO</th>\n",
       "      <th>2017</th>\n",
       "      <td>0.009620</td>\n",
       "    </tr>\n",
       "    <tr>\n",
       "      <th>SKT</th>\n",
       "      <th>2018</th>\n",
       "      <td>0.478899</td>\n",
       "    </tr>\n",
       "    <tr>\n",
       "      <th>KT</th>\n",
       "      <th>2018</th>\n",
       "      <td>0.278107</td>\n",
       "    </tr>\n",
       "    <tr>\n",
       "      <th>LG U+</th>\n",
       "      <th>2018</th>\n",
       "      <td>0.233103</td>\n",
       "    </tr>\n",
       "    <tr>\n",
       "      <th>MVNO</th>\n",
       "      <th>2018</th>\n",
       "      <td>0.009891</td>\n",
       "    </tr>\n",
       "    <tr>\n",
       "      <th>SKT</th>\n",
       "      <th>2019</th>\n",
       "      <td>0.486990</td>\n",
       "    </tr>\n",
       "    <tr>\n",
       "      <th>KT</th>\n",
       "      <th>2019</th>\n",
       "      <td>0.268551</td>\n",
       "    </tr>\n",
       "    <tr>\n",
       "      <th>LG U+</th>\n",
       "      <th>2019</th>\n",
       "      <td>0.233858</td>\n",
       "    </tr>\n",
       "    <tr>\n",
       "      <th>MVNO</th>\n",
       "      <th>2019</th>\n",
       "      <td>0.010601</td>\n",
       "    </tr>\n",
       "  </tbody>\n",
       "</table>\n",
       "</div>"
      ],
      "text/plain": [
       "             mob_csp\n",
       "index year          \n",
       "SKT   2016  0.522834\n",
       "KT    2016  0.245198\n",
       "LG U+ 2016  0.217108\n",
       "MVNO  2016  0.014860\n",
       "SKT   2017  0.487889\n",
       "KT    2017  0.273493\n",
       "LG U+ 2017  0.228998\n",
       "MVNO  2017  0.009620\n",
       "SKT   2018  0.478899\n",
       "KT    2018  0.278107\n",
       "LG U+ 2018  0.233103\n",
       "MVNO  2018  0.009891\n",
       "SKT   2019  0.486990\n",
       "KT    2019  0.268551\n",
       "LG U+ 2019  0.233858\n",
       "MVNO  2019  0.010601"
      ]
     },
     "execution_count": 17,
     "metadata": {},
     "output_type": "execute_result"
    }
   ],
   "source": [
    "csp_share_long = pd.wide_to_long(csp_share.reset_index(), \n",
    "                                 ['mob_csp'],\n",
    "                                 i = 'index',\n",
    "                                j = 'year',\n",
    "                                sep = \"\")\n",
    "csp_share_long"
   ]
  },
  {
   "cell_type": "markdown",
   "metadata": {},
   "source": [
    "Seaborn의 lineplot에서는 다른 seaborn 그래프와 마찬가지로 x, y, hue에 열의 이름을 받기 때문에,  DataFrame.reset_index()로 통신사의 이름과 연도를 밖으로 빼 줍니다."
   ]
  },
  {
   "cell_type": "code",
   "execution_count": 18,
   "metadata": {},
   "outputs": [
    {
     "data": {
      "text/html": [
       "<div>\n",
       "<style scoped>\n",
       "    .dataframe tbody tr th:only-of-type {\n",
       "        vertical-align: middle;\n",
       "    }\n",
       "\n",
       "    .dataframe tbody tr th {\n",
       "        vertical-align: top;\n",
       "    }\n",
       "\n",
       "    .dataframe thead th {\n",
       "        text-align: right;\n",
       "    }\n",
       "</style>\n",
       "<table border=\"1\" class=\"dataframe\">\n",
       "  <thead>\n",
       "    <tr style=\"text-align: right;\">\n",
       "      <th></th>\n",
       "      <th>index</th>\n",
       "      <th>year</th>\n",
       "      <th>mob_csp</th>\n",
       "    </tr>\n",
       "  </thead>\n",
       "  <tbody>\n",
       "    <tr>\n",
       "      <th>0</th>\n",
       "      <td>SKT</td>\n",
       "      <td>2016</td>\n",
       "      <td>0.522834</td>\n",
       "    </tr>\n",
       "    <tr>\n",
       "      <th>1</th>\n",
       "      <td>KT</td>\n",
       "      <td>2016</td>\n",
       "      <td>0.245198</td>\n",
       "    </tr>\n",
       "    <tr>\n",
       "      <th>2</th>\n",
       "      <td>LG U+</td>\n",
       "      <td>2016</td>\n",
       "      <td>0.217108</td>\n",
       "    </tr>\n",
       "    <tr>\n",
       "      <th>3</th>\n",
       "      <td>MVNO</td>\n",
       "      <td>2016</td>\n",
       "      <td>0.014860</td>\n",
       "    </tr>\n",
       "    <tr>\n",
       "      <th>4</th>\n",
       "      <td>SKT</td>\n",
       "      <td>2017</td>\n",
       "      <td>0.487889</td>\n",
       "    </tr>\n",
       "    <tr>\n",
       "      <th>5</th>\n",
       "      <td>KT</td>\n",
       "      <td>2017</td>\n",
       "      <td>0.273493</td>\n",
       "    </tr>\n",
       "    <tr>\n",
       "      <th>6</th>\n",
       "      <td>LG U+</td>\n",
       "      <td>2017</td>\n",
       "      <td>0.228998</td>\n",
       "    </tr>\n",
       "    <tr>\n",
       "      <th>7</th>\n",
       "      <td>MVNO</td>\n",
       "      <td>2017</td>\n",
       "      <td>0.009620</td>\n",
       "    </tr>\n",
       "    <tr>\n",
       "      <th>8</th>\n",
       "      <td>SKT</td>\n",
       "      <td>2018</td>\n",
       "      <td>0.478899</td>\n",
       "    </tr>\n",
       "    <tr>\n",
       "      <th>9</th>\n",
       "      <td>KT</td>\n",
       "      <td>2018</td>\n",
       "      <td>0.278107</td>\n",
       "    </tr>\n",
       "    <tr>\n",
       "      <th>10</th>\n",
       "      <td>LG U+</td>\n",
       "      <td>2018</td>\n",
       "      <td>0.233103</td>\n",
       "    </tr>\n",
       "    <tr>\n",
       "      <th>11</th>\n",
       "      <td>MVNO</td>\n",
       "      <td>2018</td>\n",
       "      <td>0.009891</td>\n",
       "    </tr>\n",
       "    <tr>\n",
       "      <th>12</th>\n",
       "      <td>SKT</td>\n",
       "      <td>2019</td>\n",
       "      <td>0.486990</td>\n",
       "    </tr>\n",
       "    <tr>\n",
       "      <th>13</th>\n",
       "      <td>KT</td>\n",
       "      <td>2019</td>\n",
       "      <td>0.268551</td>\n",
       "    </tr>\n",
       "    <tr>\n",
       "      <th>14</th>\n",
       "      <td>LG U+</td>\n",
       "      <td>2019</td>\n",
       "      <td>0.233858</td>\n",
       "    </tr>\n",
       "    <tr>\n",
       "      <th>15</th>\n",
       "      <td>MVNO</td>\n",
       "      <td>2019</td>\n",
       "      <td>0.010601</td>\n",
       "    </tr>\n",
       "  </tbody>\n",
       "</table>\n",
       "</div>"
      ],
      "text/plain": [
       "    index  year   mob_csp\n",
       "0     SKT  2016  0.522834\n",
       "1      KT  2016  0.245198\n",
       "2   LG U+  2016  0.217108\n",
       "3    MVNO  2016  0.014860\n",
       "4     SKT  2017  0.487889\n",
       "5      KT  2017  0.273493\n",
       "6   LG U+  2017  0.228998\n",
       "7    MVNO  2017  0.009620\n",
       "8     SKT  2018  0.478899\n",
       "9      KT  2018  0.278107\n",
       "10  LG U+  2018  0.233103\n",
       "11   MVNO  2018  0.009891\n",
       "12    SKT  2019  0.486990\n",
       "13     KT  2019  0.268551\n",
       "14  LG U+  2019  0.233858\n",
       "15   MVNO  2019  0.010601"
      ]
     },
     "execution_count": 18,
     "metadata": {},
     "output_type": "execute_result"
    }
   ],
   "source": [
    "csp_share_long.reset_index()"
   ]
  },
  {
   "cell_type": "code",
   "execution_count": 19,
   "metadata": {},
   "outputs": [
    {
     "data": {
      "image/png": "[encoded data removed]",
      "text/plain": [
       "<Figure size 432x288 with 1 Axes>"
      ]
     },
     "metadata": {
      "needs_background": "light"
     },
     "output_type": "display_data"
    }
   ],
   "source": [
    "# Seaborn, long\n",
    "fig, ax = plt.subplots()\n",
    "\n",
    "sns.lineplot(x = 'year', \n",
    "             y = 'mob_csp', \n",
    "             hue = 'index', \n",
    "             data = csp_share_long.reset_index(),\n",
    "            marker = 'o')\n",
    "\n",
    "ax.set(title = 'Market share: communication service provider', \n",
    "       xlabel = 'Year',\n",
    "      ylabel = 'Market share')\n",
    "\n",
    "ax.legend(loc = 'upper left')\n",
    "# ax.set_xticks([2016, 2017, 2018, 2019])\n",
    "plt.show()"
   ]
  },
  {
   "cell_type": "markdown",
   "metadata": {},
   "source": [
    "<p style=\"color:#0000FF\";><font size = \"5\"><b>\n",
    " # 연습하기\n",
    "    </b></font></p>\n",
    "    \n",
    "### 스마트폰 제조사 점유율    \n",
    "mob_dev(p__a03028)는 휴대폰 이용현황 중 스마트폰 제조사 정보를 나타냅니다. 범주형으로 코딩된 각 숫자의 의미는 다음과 같습니다. \n",
    "\n",
    "1)삼성 2)LG 3)애플 4)착한텔레콤(구 팬택 SKY) 5)기타 제조사 6)샤오미 7)화웨이 9999)모름/무응답\n",
    "\n",
    "- 아래의 DataFrame dev에서 연도별로 각 스마트폰 제조사의 점유율을 계산하세요.\n",
    "- 점유율을 계산한 결과를 long-form으로 바꾸세요.\n",
    "- Seaborn.lineplot을 활용하여 선 차트로 2016년부터 2019년까지 스마트폰 제조사 점유율의 변화를 나타내세요. (샤오미와 화웨이의 경우 2017년부터 나타나기 때문에 2016년에는 NaN이나, 차트를 그리면 어차피 나타나지 않기 때문에 굳이 지우실 필요 없이 그대로 진행하시면 됩니다.)"
   ]
  },
  {
   "cell_type": "code",
   "execution_count": null,
   "metadata": {},
   "outputs": [],
   "source": [
    "dev = merged_wide.loc[:, ['pid', 'mob_dev2016', 'mob_dev2017', 'mob_dev2018', 'mob_dev2019']].apply(lambda x: pd.to_numeric(x, errors = 'coerce'))\n",
    "dev.info()"
   ]
  },
  {
   "cell_type": "code",
   "execution_count": null,
   "metadata": {},
   "outputs": [],
   "source": []
  },
  {
   "cell_type": "markdown",
   "metadata": {},
   "source": [
    "# 파이썬 날짜/시간 자료형\n",
    "\n",
    "파이썬은 날짜와 시간을 위한 자료형, 그리고 달력과 관련된 기능을 제공하는 자료형이 있습니다. datetime 라이브러리의 여러 기능을 소개합니다.\n",
    "\n",
    "### datatime.datetime\n",
    "datetime 모듈 내의 datetime 객체(object)는 날짜와 시간, 마이크로초까지 모두 지원합니다. datetime.now()는 현재 시각을 나타냅니다."
   ]
  },
  {
   "cell_type": "code",
   "execution_count": 20,
   "metadata": {},
   "outputs": [
    {
     "name": "stdout",
     "output_type": "stream",
     "text": [
      "<class 'datetime.datetime'> 2021-06-13 14:22:13.365496\n",
      "<class 'int'> 2021 6 13\n"
     ]
    }
   ],
   "source": [
    "from datetime import datetime\n",
    "\n",
    "# 현재 시각\n",
    "now = datetime.now()\n",
    "\n",
    "print(type(now), now)\n",
    "print(type(now.year), now.year, now.month, now.day)"
   ]
  },
  {
   "cell_type": "markdown",
   "metadata": {},
   "source": [
    "숫자를 입력해서 datetime 객체를 만들 수 있습니다.\n",
    "\n",
    "datetime(year, month, day[, hour[, minute[, second[, microsecond[,tzinfo]]]]])"
   ]
  },
  {
   "cell_type": "code",
   "execution_count": null,
   "metadata": {},
   "outputs": [],
   "source": [
    "help(datetime)"
   ]
  },
  {
   "cell_type": "code",
   "execution_count": 21,
   "metadata": {},
   "outputs": [
    {
     "name": "stdout",
     "output_type": "stream",
     "text": [
      "2020 5 17 8 29 48\n"
     ]
    }
   ],
   "source": [
    "temp = datetime(2020, 5, 17, 8, 29, 48)\n",
    "print(temp.year, temp.month, temp.day, temp.hour, temp.minute, temp.second)"
   ]
  },
  {
   "cell_type": "markdown",
   "metadata": {},
   "source": [
    "#### datetime.strptime / datetime.strftime\n",
    "날짜/시간을 표기하는 방식은 나라/문화권/필요에 따라 다릅니다. 여러 방식으로 표기되어 문자열로 저장된 날짜/시간을 datetime 메서드 strptime과 strftime을 사용해서 상호 바꾸어 저장하는 작업을 수행할 수 있습니다.\n",
    "- strptime: string to datetime\n",
    "- strftime: datetime to string\n",
    "\n",
    "strptime은 문자열 중 날짜/시간 정보의 위치와, 날짜/시간 정보의 형태를 나타내는 지시자(format code)를 활용해서 문자열을 datetime으로 바꿉니다."
   ]
  },
  {
   "cell_type": "code",
   "execution_count": 22,
   "metadata": {},
   "outputs": [
    {
     "name": "stdout",
     "output_type": "stream",
     "text": [
      "<class 'datetime.datetime'>\n",
      "2020-05-30 23:59:11\n",
      "2020-01-31 00:00:11\n"
     ]
    }
   ],
   "source": [
    "mystr1 = '2020-05-30 23:59:11'\n",
    "mystr2 = 'January 31, 2020 0:0:11'\n",
    "\n",
    "mydt1 = datetime.strptime(mystr1, \"%Y-%m-%d %H:%M:%S\")\n",
    "mydt2 = datetime.strptime(mystr2, \"%B %d, %Y %H:%M:%S\")\n",
    "\n",
    "print(type(mydt1), mydt1, mydt2, sep = '\\n')"
   ]
  },
  {
   "cell_type": "code",
   "execution_count": 23,
   "metadata": {},
   "outputs": [
    {
     "data": {
      "text/plain": [
       "datetime.datetime(2020, 5, 30, 11, 59, 23)"
      ]
     },
     "execution_count": 23,
     "metadata": {},
     "output_type": "execute_result"
    }
   ],
   "source": [
    "datetime.strptime(mystr1, \"%Y-%m-%d %S:%M:%H\") # 바꾸어 지정한 경우, error는 없지만 잘못됨"
   ]
  },
  {
   "cell_type": "code",
   "execution_count": 24,
   "metadata": {},
   "outputs": [
    {
     "ename": "ValueError",
     "evalue": "time data '2020-05-30 23:59:11' does not match format '%y-%m-%d %S:%M:%H'",
     "output_type": "error",
     "traceback": [
      "\u001b[1;31m---------------------------------------------------------------------------\u001b[0m",
      "\u001b[1;31mValueError\u001b[0m                                Traceback (most recent call last)",
      "\u001b[1;32m<ipython-input-24-673b5b8bf3af>\u001b[0m in \u001b[0;36m<module>\u001b[1;34m\u001b[0m\n\u001b[1;32m----> 1\u001b[1;33m \u001b[0mdatetime\u001b[0m\u001b[1;33m.\u001b[0m\u001b[0mstrptime\u001b[0m\u001b[1;33m(\u001b[0m\u001b[0mmystr1\u001b[0m\u001b[1;33m,\u001b[0m \u001b[1;34m\"%y-%m-%d %S:%M:%H\"\u001b[0m\u001b[1;33m)\u001b[0m \u001b[1;31m# 지정한 형식과 일치하지 않아 error\u001b[0m\u001b[1;33m\u001b[0m\u001b[1;33m\u001b[0m\u001b[0m\n\u001b[0m",
      "\u001b[1;32m~\\anaconda3\\lib\\_strptime.py\u001b[0m in \u001b[0;36m_strptime_datetime\u001b[1;34m(cls, data_string, format)\u001b[0m\n\u001b[0;32m    566\u001b[0m     \"\"\"Return a class cls instance based on the input string and the\n\u001b[0;32m    567\u001b[0m     format string.\"\"\"\n\u001b[1;32m--> 568\u001b[1;33m     \u001b[0mtt\u001b[0m\u001b[1;33m,\u001b[0m \u001b[0mfraction\u001b[0m\u001b[1;33m,\u001b[0m \u001b[0mgmtoff_fraction\u001b[0m \u001b[1;33m=\u001b[0m \u001b[0m_strptime\u001b[0m\u001b[1;33m(\u001b[0m\u001b[0mdata_string\u001b[0m\u001b[1;33m,\u001b[0m \u001b[0mformat\u001b[0m\u001b[1;33m)\u001b[0m\u001b[1;33m\u001b[0m\u001b[1;33m\u001b[0m\u001b[0m\n\u001b[0m\u001b[0;32m    569\u001b[0m     \u001b[0mtzname\u001b[0m\u001b[1;33m,\u001b[0m \u001b[0mgmtoff\u001b[0m \u001b[1;33m=\u001b[0m \u001b[0mtt\u001b[0m\u001b[1;33m[\u001b[0m\u001b[1;33m-\u001b[0m\u001b[1;36m2\u001b[0m\u001b[1;33m:\u001b[0m\u001b[1;33m]\u001b[0m\u001b[1;33m\u001b[0m\u001b[1;33m\u001b[0m\u001b[0m\n\u001b[0;32m    570\u001b[0m     \u001b[0margs\u001b[0m \u001b[1;33m=\u001b[0m \u001b[0mtt\u001b[0m\u001b[1;33m[\u001b[0m\u001b[1;33m:\u001b[0m\u001b[1;36m6\u001b[0m\u001b[1;33m]\u001b[0m \u001b[1;33m+\u001b[0m \u001b[1;33m(\u001b[0m\u001b[0mfraction\u001b[0m\u001b[1;33m,\u001b[0m\u001b[1;33m)\u001b[0m\u001b[1;33m\u001b[0m\u001b[1;33m\u001b[0m\u001b[0m\n",
      "\u001b[1;32m~\\anaconda3\\lib\\_strptime.py\u001b[0m in \u001b[0;36m_strptime\u001b[1;34m(data_string, format)\u001b[0m\n\u001b[0;32m    347\u001b[0m     \u001b[0mfound\u001b[0m \u001b[1;33m=\u001b[0m \u001b[0mformat_regex\u001b[0m\u001b[1;33m.\u001b[0m\u001b[0mmatch\u001b[0m\u001b[1;33m(\u001b[0m\u001b[0mdata_string\u001b[0m\u001b[1;33m)\u001b[0m\u001b[1;33m\u001b[0m\u001b[1;33m\u001b[0m\u001b[0m\n\u001b[0;32m    348\u001b[0m     \u001b[1;32mif\u001b[0m \u001b[1;32mnot\u001b[0m \u001b[0mfound\u001b[0m\u001b[1;33m:\u001b[0m\u001b[1;33m\u001b[0m\u001b[1;33m\u001b[0m\u001b[0m\n\u001b[1;32m--> 349\u001b[1;33m         raise ValueError(\"time data %r does not match format %r\" %\n\u001b[0m\u001b[0;32m    350\u001b[0m                          (data_string, format))\n\u001b[0;32m    351\u001b[0m     \u001b[1;32mif\u001b[0m \u001b[0mlen\u001b[0m\u001b[1;33m(\u001b[0m\u001b[0mdata_string\u001b[0m\u001b[1;33m)\u001b[0m \u001b[1;33m!=\u001b[0m \u001b[0mfound\u001b[0m\u001b[1;33m.\u001b[0m\u001b[0mend\u001b[0m\u001b[1;33m(\u001b[0m\u001b[1;33m)\u001b[0m\u001b[1;33m:\u001b[0m\u001b[1;33m\u001b[0m\u001b[1;33m\u001b[0m\u001b[0m\n",
      "\u001b[1;31mValueError\u001b[0m: time data '2020-05-30 23:59:11' does not match format '%y-%m-%d %S:%M:%H'"
     ]
    }
   ],
   "source": [
    "datetime.strptime(mystr1, \"%y-%m-%d %S:%M:%H\") # 지정한 형식과 일치하지 않아 error"
   ]
  },
  {
   "cell_type": "markdown",
   "metadata": {},
   "source": [
    "datetime을 다시 문자열로 바꾸려면 strftime를 사용합니다. 어떤 형식의 문자열로 바꿀지 지시자(format code)를 사용해서 지정할 수 있습니다."
   ]
  },
  {
   "cell_type": "code",
   "execution_count": 25,
   "metadata": {},
   "outputs": [
    {
     "name": "stdout",
     "output_type": "stream",
     "text": [
      "Saturday, 30/05/20, 11:59PM\n",
      "Fri, 31 Jan, 2020\n"
     ]
    }
   ],
   "source": [
    "mydtstr1 = datetime.strftime(mydt1, \"%A, %d/%m/%y, %I:%M%p\")\n",
    "mydtstr2 = datetime.strftime(mydt2, \"%a, %d %b, %Y\")\n",
    "\n",
    "print(mydtstr1, mydtstr2, sep = '\\n')"
   ]
  },
  {
   "cell_type": "markdown",
   "metadata": {},
   "source": [
    "날짜와 요일을 나타내는 지시자(format code)는 아래 링크 및 표를 참고하세요.\n",
    "\n",
    "https://docs.python.org/ko/3.7/library/datetime.html#strftime-and-strptime-behavior\n",
    "\n",
    "<table class=\"docutils align-default\">\n",
    "<colgroup>\n",
    "<col style=\"width: 15%\" />\n",
    "<col style=\"width: 43%\" />\n",
    "<col style=\"width: 32%\" />\n",
    "<col style=\"width: 9%\" />\n",
    "</colgroup>\n",
    "<thead>\n",
    "<tr class=\"row-odd\"><th class=\"head\"><p>지시자</p></th>\n",
    "<th class=\"head\"><p>의미</p></th>\n",
    "<th class=\"head\"><p>예</p></th>\n",
    "<th class=\"head\"><p>노트</p></th>\n",
    "</tr>\n",
    "</thead>\n",
    "<tbody>\n",
    "<tr class=\"row-even\"><td><p><code class=\"docutils literal notranslate\"><span class=\"pre\">%a</span></code></p></td>\n",
    "<td><p>요일을 로케일의 축약된 이름으로.</p></td>\n",
    "<td><div class=\"line-block\">\n",
    "<div class=\"line\">Sun, Mon, …, Sat\n",
    "(en_US);</div>\n",
    "<div class=\"line\">So, Mo, …, Sa\n",
    "(de_DE)</div>\n",
    "</div>\n",
    "</td>\n",
    "<td><p>(1)</p></td>\n",
    "</tr>\n",
    "<tr class=\"row-odd\"><td><p><code class=\"docutils literal notranslate\"><span class=\"pre\">%A</span></code></p></td>\n",
    "<td><p>요일을 로케일의 전체 이름으로.</p></td>\n",
    "<td><div class=\"line-block\">\n",
    "<div class=\"line\">Sunday, Monday, …,\n",
    "Saturday (en_US);</div>\n",
    "<div class=\"line\">Sonntag, Montag, …,\n",
    "Samstag (de_DE)</div>\n",
    "</div>\n",
    "</td>\n",
    "<td><p>(1)</p></td>\n",
    "</tr>\n",
    "<tr class=\"row-even\"><td><p><code class=\"docutils literal notranslate\"><span class=\"pre\">%w</span></code></p></td>\n",
    "<td><p>요일을 10진수로, 0은 일요일이고 6은 토요일입니다.</p></td>\n",
    "<td><p>0, 1, …, 6</p></td>\n",
    "<td></td>\n",
    "</tr>\n",
    "<tr class=\"row-odd\"><td><p><code class=\"docutils literal notranslate\"><span class=\"pre\">%d</span></code></p></td>\n",
    "<td><p>월중 일(day of the month)을 0으로 채워진 10진수로.</p></td>\n",
    "<td><p>01, 02, …, 31</p></td>\n",
    "<td><p>(9)</p></td>\n",
    "</tr>\n",
    "<tr class=\"row-even\"><td><p><code class=\"docutils literal notranslate\"><span class=\"pre\">%b</span></code></p></td>\n",
    "<td><p>월을 로케일의 축약된 이름으로.</p></td>\n",
    "<td><div class=\"line-block\">\n",
    "<div class=\"line\">Jan, Feb, …, Dec\n",
    "(en_US);</div>\n",
    "<div class=\"line\">Jan, Feb, …, Dez\n",
    "(de_DE)</div>\n",
    "</div>\n",
    "</td>\n",
    "<td><p>(1)</p></td>\n",
    "</tr>\n",
    "<tr class=\"row-odd\"><td><p><code class=\"docutils literal notranslate\"><span class=\"pre\">%B</span></code></p></td>\n",
    "<td><p>월을 로케일의 전체 이름으로.</p></td>\n",
    "<td><div class=\"line-block\">\n",
    "<div class=\"line\">January, February,\n",
    "…, December (en_US);</div>\n",
    "<div class=\"line\">Januar, Februar, …,\n",
    "Dezember (de_DE)</div>\n",
    "</div>\n",
    "</td>\n",
    "<td><p>(1)</p></td>\n",
    "</tr>\n",
    "<tr class=\"row-even\"><td><p><code class=\"docutils literal notranslate\"><span class=\"pre\">%m</span></code></p></td>\n",
    "<td><p>월을 0으로 채워진 10진수로.</p></td>\n",
    "<td><p>01, 02, …, 12</p></td>\n",
    "<td><p>(9)</p></td>\n",
    "</tr>\n",
    "<tr class=\"row-odd\"><td><p><code class=\"docutils literal notranslate\"><span class=\"pre\">%y</span></code></p></td>\n",
    "<td><p>세기가 없는 해(year)를 0으로 채워진 10진수로.</p></td>\n",
    "<td><p>00, 01, …, 99</p></td>\n",
    "<td><p>(9)</p></td>\n",
    "</tr>\n",
    "<tr class=\"row-even\"><td><p><code class=\"docutils literal notranslate\"><span class=\"pre\">%Y</span></code></p></td>\n",
    "<td><p>세기가 있는 해(year)를 10진수로.</p></td>\n",
    "<td><p>0001, 0002, …, 2013,\n",
    "2014, …, 9998, 9999</p></td>\n",
    "<td><p>(2)</p></td>\n",
    "</tr>\n",
    "<tr class=\"row-odd\"><td><p><code class=\"docutils literal notranslate\"><span class=\"pre\">%H</span></code></p></td>\n",
    "<td><p>시(24시간제)를 0으로 채워진 십진수로.</p></td>\n",
    "<td><p>00, 01, …, 23</p></td>\n",
    "<td><p>(9)</p></td>\n",
    "</tr>\n",
    "<tr class=\"row-even\"><td><p><code class=\"docutils literal notranslate\"><span class=\"pre\">%I</span></code></p></td>\n",
    "<td><p>시(12시간제)를 0으로 채워진 십진수로.</p></td>\n",
    "<td><p>01, 02, …, 12</p></td>\n",
    "<td><p>(9)</p></td>\n",
    "</tr>\n",
    "<tr class=\"row-odd\"><td><p><code class=\"docutils literal notranslate\"><span class=\"pre\">%p</span></code></p></td>\n",
    "<td><p>로케일의 오전이나 오후에 해당하는 것.</p></td>\n",
    "<td><div class=\"line-block\">\n",
    "<div class=\"line\">AM, PM (en_US);</div>\n",
    "<div class=\"line\">am, pm (de_DE)</div>\n",
    "</div>\n",
    "</td>\n",
    "<td><p>(1),\n",
    "(3)</p></td>\n",
    "</tr>\n",
    "<tr class=\"row-even\"><td><p><code class=\"docutils literal notranslate\"><span class=\"pre\">%M</span></code></p></td>\n",
    "<td><p>분을 0으로 채워진 십진수로.</p></td>\n",
    "<td><p>00, 01, …, 59</p></td>\n",
    "<td><p>(9)</p></td>\n",
    "</tr>\n",
    "<tr class=\"row-odd\"><td><p><code class=\"docutils literal notranslate\"><span class=\"pre\">%S</span></code></p></td>\n",
    "<td><p>초를 0으로 채워진 10진수로.</p></td>\n",
    "<td><p>00, 01, …, 59</p></td>\n",
    "<td><p>(4),\n",
    "(9)</p></td>\n",
    "</tr>\n",
    "<tr class=\"row-even\"><td><p><code class=\"docutils literal notranslate\"><span class=\"pre\">%f</span></code></p></td>\n",
    "<td><p>마이크로초를 왼쪽에 0으로 채워진 십진수로.</p></td>\n",
    "<td><p>000000, 000001, …,\n",
    "999999</p></td>\n",
    "<td><p>(5)</p></td>\n",
    "</tr>\n",
    "<tr class=\"row-odd\"><td><p><code class=\"docutils literal notranslate\"><span class=\"pre\">%z</span></code></p></td>\n",
    "<td><p>±HHMM[SS[.ffffff]] 형태의 UTC 오프셋 (객체가 나이브하면 빈 문자열).</p></td>\n",
    "<td><p>(비어 있음), +0000, -0400, +1030, +063415, -030712.345216</p></td>\n",
    "<td><p>(6)</p></td>\n",
    "</tr>\n",
    "<tr class=\"row-even\"><td><p><code class=\"docutils literal notranslate\"><span class=\"pre\">%Z</span></code></p></td>\n",
    "<td><p>시간대 이름 (객체가 나이브하면 빈 문자열).</p></td>\n",
    "<td><p>(비어 있음), UTC, EST, CST</p></td>\n",
    "<td></td>\n",
    "</tr>\n",
    "<tr class=\"row-odd\"><td><p><code class=\"docutils literal notranslate\"><span class=\"pre\">%j</span></code></p></td>\n",
    "<td><p>연중 일(day of the year)을 0으로 채워진 십진수로.</p></td>\n",
    "<td><p>001, 002, …, 366</p></td>\n",
    "<td><p>(9)</p></td>\n",
    "</tr>\n",
    "<tr class=\"row-even\"><td><p><code class=\"docutils literal notranslate\"><span class=\"pre\">%U</span></code></p></td>\n",
    "<td><p>연중 주 번호(일요일이 주의 시작)를 0으로 채워진 10진수로. 첫 번째 일요일에 선행하는 새해의 모든 날은 주 0으로 간주합니다.</p></td>\n",
    "<td><p>00, 01, …, 53</p></td>\n",
    "<td><p>(7),\n",
    "(9)</p></td>\n",
    "</tr>\n",
    "<tr class=\"row-odd\"><td><p><code class=\"docutils literal notranslate\"><span class=\"pre\">%W</span></code></p></td>\n",
    "<td><p>연중 주 번호(월요일이 주의 시작)를 십진수로. 첫 번째 월요일에 선행하는 새해의 모든 말은 주 0으로 간주합니다.</p></td>\n",
    "<td><p>00, 01, …, 53</p></td>\n",
    "<td><p>(7),\n",
    "(9)</p></td>\n",
    "</tr>\n",
    "<tr class=\"row-even\"><td><p><code class=\"docutils literal notranslate\"><span class=\"pre\">%c</span></code></p></td>\n",
    "<td><p>로케일의 적절한 날짜와 시간 표현.</p></td>\n",
    "<td><div class=\"line-block\">\n",
    "<div class=\"line\">Tue Aug 16 21:30:00\n",
    "1988 (en_US);</div>\n",
    "<div class=\"line\">Di 16 Aug 21:30:00\n",
    "1988 (de_DE)</div>\n",
    "</div>\n",
    "</td>\n",
    "<td><p>(1)</p></td>\n",
    "</tr>\n",
    "<tr class=\"row-odd\"><td><p><code class=\"docutils literal notranslate\"><span class=\"pre\">%x</span></code></p></td>\n",
    "<td><p>로케일의 적절한 날짜 표현.</p></td>\n",
    "<td><div class=\"line-block\">\n",
    "<div class=\"line\">08/16/88 (None);</div>\n",
    "<div class=\"line\">08/16/1988 (en_US);</div>\n",
    "<div class=\"line\">16.08.1988 (de_DE)</div>\n",
    "</div>\n",
    "</td>\n",
    "<td><p>(1)</p></td>\n",
    "</tr>\n",
    "<tr class=\"row-even\"><td><p><code class=\"docutils literal notranslate\"><span class=\"pre\">%X</span></code></p></td>\n",
    "<td><p>로케일의 적절한 시간 표현.</p></td>\n",
    "<td><div class=\"line-block\">\n",
    "<div class=\"line\">21:30:00 (en_US);</div>\n",
    "<div class=\"line\">21:30:00 (de_DE)</div>\n",
    "</div>\n",
    "</td>\n",
    "<td><p>(1)</p></td>\n",
    "</tr>\n",
    "<tr class=\"row-odd\"><td><p><code class=\"docutils literal notranslate\"><span class=\"pre\">%%</span></code></p></td>\n",
    "<td><p>리터럴 <code class=\"docutils literal notranslate\"><span class=\"pre\">'%'</span></code> 문자.</p></td>\n",
    "<td><p>%</p></td>\n",
    "<td></td>\n",
    "</tr>\n",
    "</tbody>\n",
    "</table>"
   ]
  },
  {
   "cell_type": "markdown",
   "metadata": {},
   "source": [
    "### datatime.date\n",
    "\n",
    "datetime 모듈 내의 date 객체는 연월일만 저장합니다."
   ]
  },
  {
   "cell_type": "code",
   "execution_count": 26,
   "metadata": {},
   "outputs": [
    {
     "name": "stdout",
     "output_type": "stream",
     "text": [
      "2021-06-13\n"
     ]
    }
   ],
   "source": [
    "from datetime import date\n",
    "\n",
    "today = date.today() # 오늘 날짜\n",
    "print(today)"
   ]
  },
  {
   "cell_type": "markdown",
   "metadata": {},
   "source": [
    "날짜와 날짜끼리는 계산이 가능하지만, 정수와의 계산은 불가능합니다."
   ]
  },
  {
   "cell_type": "code",
   "execution_count": 27,
   "metadata": {},
   "outputs": [
    {
     "name": "stdout",
     "output_type": "stream",
     "text": [
      "35 days, 0:00:00\n"
     ]
    }
   ],
   "source": [
    "diff = date(2020, 6, 25) - date(2020, 5, 21)\n",
    "print(diff)"
   ]
  },
  {
   "cell_type": "code",
   "execution_count": 28,
   "metadata": {},
   "outputs": [
    {
     "ename": "TypeError",
     "evalue": "unsupported operand type(s) for +: 'datetime.date' and 'int'",
     "output_type": "error",
     "traceback": [
      "\u001b[1;31m---------------------------------------------------------------------------\u001b[0m",
      "\u001b[1;31mTypeError\u001b[0m                                 Traceback (most recent call last)",
      "\u001b[1;32m<ipython-input-28-297a0e068bd9>\u001b[0m in \u001b[0;36m<module>\u001b[1;34m\u001b[0m\n\u001b[1;32m----> 1\u001b[1;33m \u001b[0mprint\u001b[0m\u001b[1;33m(\u001b[0m\u001b[0mtoday\u001b[0m \u001b[1;33m+\u001b[0m \u001b[1;36m1\u001b[0m\u001b[1;33m)\u001b[0m \u001b[1;31m# error\u001b[0m\u001b[1;33m\u001b[0m\u001b[1;33m\u001b[0m\u001b[0m\n\u001b[0m",
      "\u001b[1;31mTypeError\u001b[0m: unsupported operand type(s) for +: 'datetime.date' and 'int'"
     ]
    }
   ],
   "source": [
    "print(today + 1) # error"
   ]
  },
  {
   "cell_type": "markdown",
   "metadata": {},
   "source": [
    "### datatime.timedelta\n",
    "\n",
    "날짜를 가지고 작업을 해야 하는 경우에는 integer가 아닌 timedelta객체를 사용합니다."
   ]
  },
  {
   "cell_type": "code",
   "execution_count": 29,
   "metadata": {},
   "outputs": [
    {
     "name": "stdout",
     "output_type": "stream",
     "text": [
      "<class 'datetime.timedelta'> 2021-06-14\n"
     ]
    }
   ],
   "source": [
    "from datetime import timedelta\n",
    "\n",
    "dt_sum1 = timedelta(days = 1)\n",
    "print(type(dt_sum1), today + dt_sum1)"
   ]
  },
  {
   "cell_type": "code",
   "execution_count": 30,
   "metadata": {},
   "outputs": [
    {
     "name": "stdout",
     "output_type": "stream",
     "text": [
      "2020-01-31 00:00:11\n",
      "30 days, 1:00:00\n",
      "2020-03-01 01:00:11\n"
     ]
    }
   ],
   "source": [
    "dt_sum2 = timedelta(days = 30, seconds = 3600)\n",
    "\n",
    "print(mydt2, dt_sum2, mydt2+dt_sum2, sep = '\\n')"
   ]
  },
  {
   "cell_type": "code",
   "execution_count": 32,
   "metadata": {},
   "outputs": [],
   "source": [
    "help(timedelta)"
   ]
  },
  {
   "cell_type": "markdown",
   "metadata": {},
   "source": [
    "<p style=\"color:#0000FF\";><font size = \"5\"><b>\n",
    " # 연습하기\n",
    "    </b></font></p>\n",
    "    \n",
    "- 문자열 변수 date_str을 datetime 객체로 바꾸어 저장하세요.\n",
    "- 영화 '택시운전사'는 2017년 8월 2일 개봉했고, 2017년 10월 10일부터 10개 이하의 스크린을 점유함으로써 실질적으로 극장 상영을 종료했습니다. \n",
    "    - (1) 개봉일의 요일을 구하세요.\n",
    "    - (2) 영화가 며칠 동안 상영되었는지 구하세요."
   ]
  },
  {
   "cell_type": "code",
   "execution_count": 33,
   "metadata": {},
   "outputs": [],
   "source": [
    "date_str = \"1919년 3월 1일 12:00:00\" # 정오"
   ]
  },
  {
   "cell_type": "code",
   "execution_count": 34,
   "metadata": {},
   "outputs": [
    {
     "name": "stdout",
     "output_type": "stream",
     "text": [
      "<class 'datetime.datetime'> 1919-03-01 12:00:00\n"
     ]
    }
   ],
   "source": [
    "MarchMov = datetime.strptime(date_str, \"%Y년 %m월 %d일 %H:%M:%S\")\n",
    "print(type(MarchMov),MarchMov)"
   ]
  },
  {
   "cell_type": "code",
   "execution_count": null,
   "metadata": {},
   "outputs": [],
   "source": []
  },
  {
   "cell_type": "markdown",
   "metadata": {},
   "source": [
    "### 시계열 데이터 살펴보기\n",
    "\n",
    "시계열 데이터는 시간상의 여러 지점을 관측하거나 측정한 모든 데이터를 말하며, 15초마다, 5분마다, 24시간마다, 한 달에 한 번 등 특정 규칙에 따라 일괄적인 간격을 가집니다. 시계열 데이터의 예로 금융 데이터를 짧게 살펴보고 넘어갑니다.\n",
    "\n",
    "__FinanceDataReader__는 한국, 미국 글로벌 시장의 금융상품 가격 데이터(주식, 지수, 환율, 선물 등)와 종목 리스팅 등 금융 데이터 수집과 분석을 위한 오픈소스 라이브러리입니다.다양한 데이터 소스로 부터 가격 데이터를 손쉽게 가져오기 위한 목적으로 만들어졌으며 백테스트, 가격 분석, 시장 모니터링 등에 사용할 수 있습니다.\n",
    "\n",
    "FinanceDataReader 사용자 가이드: https://github.com/FinanceData/FinanceDataReader/wiki/Users-Guide\n",
    "\n",
    "새로 설치하여 사용합니다."
   ]
  },
  {
   "cell_type": "code",
   "execution_count": 36,
   "metadata": {},
   "outputs": [],
   "source": [
    "!pip install -U finance-datareader"
   ]
  },
  {
   "cell_type": "code",
   "execution_count": 37,
   "metadata": {},
   "outputs": [
    {
     "data": {
      "text/plain": [
       "'0.9.31'"
      ]
     },
     "execution_count": 37,
     "metadata": {},
     "output_type": "execute_result"
    }
   ],
   "source": [
    "import FinanceDataReader as fdr\n",
    "\n",
    "fdr.__version__"
   ]
  },
  {
   "cell_type": "markdown",
   "metadata": {},
   "source": [
    "StockListing으로는 시장에 상장된 기업들의 정보를 가져올 수 있습니다. 코스피를 살펴봅시다."
   ]
  },
  {
   "cell_type": "code",
   "execution_count": 38,
   "metadata": {},
   "outputs": [
    {
     "data": {
      "text/html": [
       "<div>\n",
       "<style scoped>\n",
       "    .dataframe tbody tr th:only-of-type {\n",
       "        vertical-align: middle;\n",
       "    }\n",
       "\n",
       "    .dataframe tbody tr th {\n",
       "        vertical-align: top;\n",
       "    }\n",
       "\n",
       "    .dataframe thead th {\n",
       "        text-align: right;\n",
       "    }\n",
       "</style>\n",
       "<table border=\"1\" class=\"dataframe\">\n",
       "  <thead>\n",
       "    <tr style=\"text-align: right;\">\n",
       "      <th></th>\n",
       "      <th>Symbol</th>\n",
       "      <th>Market</th>\n",
       "      <th>Name</th>\n",
       "      <th>Sector</th>\n",
       "      <th>Industry</th>\n",
       "      <th>ListingDate</th>\n",
       "      <th>SettleMonth</th>\n",
       "      <th>Representative</th>\n",
       "      <th>HomePage</th>\n",
       "      <th>Region</th>\n",
       "    </tr>\n",
       "  </thead>\n",
       "  <tbody>\n",
       "    <tr>\n",
       "      <th>1</th>\n",
       "      <td>095570</td>\n",
       "      <td>KOSPI</td>\n",
       "      <td>AJ네트웍스</td>\n",
       "      <td>산업용 기계 및 장비 임대업</td>\n",
       "      <td>렌탈(파렛트, OA장비, 건설장비)</td>\n",
       "      <td>2015-08-21</td>\n",
       "      <td>12월</td>\n",
       "      <td>박대현</td>\n",
       "      <td>http://www.ajnet.co.kr</td>\n",
       "      <td>서울특별시</td>\n",
       "    </tr>\n",
       "    <tr>\n",
       "      <th>2</th>\n",
       "      <td>006840</td>\n",
       "      <td>KOSPI</td>\n",
       "      <td>AK홀딩스</td>\n",
       "      <td>기타 금융업</td>\n",
       "      <td>지주사업</td>\n",
       "      <td>1999-08-11</td>\n",
       "      <td>12월</td>\n",
       "      <td>채형석, 이석주(각자 대표이사)</td>\n",
       "      <td>http://www.aekyunggroup.co.kr</td>\n",
       "      <td>서울특별시</td>\n",
       "    </tr>\n",
       "    <tr>\n",
       "      <th>6</th>\n",
       "      <td>152100</td>\n",
       "      <td>KOSPI</td>\n",
       "      <td>ARIRANG 200</td>\n",
       "      <td>NaN</td>\n",
       "      <td>NaN</td>\n",
       "      <td>NaT</td>\n",
       "      <td>NaN</td>\n",
       "      <td>NaN</td>\n",
       "      <td>NaN</td>\n",
       "      <td>NaN</td>\n",
       "    </tr>\n",
       "    <tr>\n",
       "      <th>7</th>\n",
       "      <td>295820</td>\n",
       "      <td>KOSPI</td>\n",
       "      <td>ARIRANG 200동일가중</td>\n",
       "      <td>NaN</td>\n",
       "      <td>NaN</td>\n",
       "      <td>NaT</td>\n",
       "      <td>NaN</td>\n",
       "      <td>NaN</td>\n",
       "      <td>NaN</td>\n",
       "      <td>NaN</td>\n",
       "    </tr>\n",
       "    <tr>\n",
       "      <th>8</th>\n",
       "      <td>253150</td>\n",
       "      <td>KOSPI</td>\n",
       "      <td>ARIRANG 200선물레버리지</td>\n",
       "      <td>NaN</td>\n",
       "      <td>NaN</td>\n",
       "      <td>NaT</td>\n",
       "      <td>NaN</td>\n",
       "      <td>NaN</td>\n",
       "      <td>NaN</td>\n",
       "      <td>NaN</td>\n",
       "    </tr>\n",
       "  </tbody>\n",
       "</table>\n",
       "</div>"
      ],
      "text/plain": [
       "   Symbol Market               Name           Sector             Industry  \\\n",
       "1  095570  KOSPI             AJ네트웍스  산업용 기계 및 장비 임대업  렌탈(파렛트, OA장비, 건설장비)   \n",
       "2  006840  KOSPI              AK홀딩스           기타 금융업                 지주사업   \n",
       "6  152100  KOSPI        ARIRANG 200              NaN                  NaN   \n",
       "7  295820  KOSPI    ARIRANG 200동일가중              NaN                  NaN   \n",
       "8  253150  KOSPI  ARIRANG 200선물레버리지              NaN                  NaN   \n",
       "\n",
       "  ListingDate SettleMonth     Representative                       HomePage  \\\n",
       "1  2015-08-21         12월                박대현         http://www.ajnet.co.kr   \n",
       "2  1999-08-11         12월  채형석, 이석주(각자 대표이사)  http://www.aekyunggroup.co.kr   \n",
       "6         NaT         NaN                NaN                            NaN   \n",
       "7         NaT         NaN                NaN                            NaN   \n",
       "8         NaT         NaN                NaN                            NaN   \n",
       "\n",
       "  Region  \n",
       "1  서울특별시  \n",
       "2  서울특별시  \n",
       "6    NaN  \n",
       "7    NaN  \n",
       "8    NaN  "
      ]
     },
     "execution_count": 38,
     "metadata": {},
     "output_type": "execute_result"
    }
   ],
   "source": [
    "df_kospi = fdr.StockListing('KOSPI')\n",
    "df_kospi.head()"
   ]
  },
  {
   "cell_type": "code",
   "execution_count": 39,
   "metadata": {
    "scrolled": true
   },
   "outputs": [
    {
     "data": {
      "text/html": [
       "<div>\n",
       "<style scoped>\n",
       "    .dataframe tbody tr th:only-of-type {\n",
       "        vertical-align: middle;\n",
       "    }\n",
       "\n",
       "    .dataframe tbody tr th {\n",
       "        vertical-align: top;\n",
       "    }\n",
       "\n",
       "    .dataframe thead th {\n",
       "        text-align: right;\n",
       "    }\n",
       "</style>\n",
       "<table border=\"1\" class=\"dataframe\">\n",
       "  <thead>\n",
       "    <tr style=\"text-align: right;\">\n",
       "      <th></th>\n",
       "      <th>Symbol</th>\n",
       "      <th>Market</th>\n",
       "      <th>Name</th>\n",
       "      <th>Sector</th>\n",
       "      <th>Industry</th>\n",
       "      <th>ListingDate</th>\n",
       "      <th>SettleMonth</th>\n",
       "      <th>Representative</th>\n",
       "      <th>HomePage</th>\n",
       "      <th>Region</th>\n",
       "    </tr>\n",
       "  </thead>\n",
       "  <tbody>\n",
       "    <tr>\n",
       "      <th>3236</th>\n",
       "      <td>005930</td>\n",
       "      <td>KOSPI</td>\n",
       "      <td>삼성전자</td>\n",
       "      <td>통신 및 방송 장비 제조업</td>\n",
       "      <td>IMT2000 서비스용 동기식 기지국,교환국장비,데이터단말기,동영상휴대폰,핵심칩,반...</td>\n",
       "      <td>1975-06-11</td>\n",
       "      <td>12월</td>\n",
       "      <td>김기남, 김현석, 고동진</td>\n",
       "      <td>http://www.sec.co.kr</td>\n",
       "      <td>경기도</td>\n",
       "    </tr>\n",
       "  </tbody>\n",
       "</table>\n",
       "</div>"
      ],
      "text/plain": [
       "      Symbol Market  Name          Sector  \\\n",
       "3236  005930  KOSPI  삼성전자  통신 및 방송 장비 제조업   \n",
       "\n",
       "                                               Industry ListingDate  \\\n",
       "3236  IMT2000 서비스용 동기식 기지국,교환국장비,데이터단말기,동영상휴대폰,핵심칩,반...  1975-06-11   \n",
       "\n",
       "     SettleMonth Representative              HomePage Region  \n",
       "3236         12월  김기남, 김현석, 고동진  http://www.sec.co.kr    경기도  "
      ]
     },
     "execution_count": 39,
     "metadata": {},
     "output_type": "execute_result"
    }
   ],
   "source": [
    "df_kospi[df_kospi['Name'] == '삼성전자']"
   ]
  },
  {
   "cell_type": "markdown",
   "metadata": {},
   "source": [
    "DataReader는 시장이 열린 날 특정 종목의 시가/종가/변동량 등을 가져올 수 있습니다. 삼성전자의 코드를 입력하여 살펴봅니다. 날짜는 %Y-%m-%d 형태로 입력해도 되며, date/datetime 자료형으로 입력해도 됩니다. 범위가 넓을수록 가져오는 데 필요한 시간이 길어집니다."
   ]
  },
  {
   "cell_type": "code",
   "execution_count": 40,
   "metadata": {},
   "outputs": [
    {
     "name": "stdout",
     "output_type": "stream",
     "text": [
      "<class 'pandas.core.frame.DataFrame'>\n",
      "DatetimeIndex: 91 entries, 2020-01-02 to 2020-05-15\n",
      "Data columns (total 6 columns):\n",
      " #   Column  Non-Null Count  Dtype  \n",
      "---  ------  --------------  -----  \n",
      " 0   Open    91 non-null     int64  \n",
      " 1   High    91 non-null     int64  \n",
      " 2   Low     91 non-null     int64  \n",
      " 3   Close   91 non-null     int64  \n",
      " 4   Volume  91 non-null     int64  \n",
      " 5   Change  91 non-null     float64\n",
      "dtypes: float64(1), int64(5)\n",
      "memory usage: 5.0 KB\n"
     ]
    },
    {
     "data": {
      "text/html": [
       "<div>\n",
       "<style scoped>\n",
       "    .dataframe tbody tr th:only-of-type {\n",
       "        vertical-align: middle;\n",
       "    }\n",
       "\n",
       "    .dataframe tbody tr th {\n",
       "        vertical-align: top;\n",
       "    }\n",
       "\n",
       "    .dataframe thead th {\n",
       "        text-align: right;\n",
       "    }\n",
       "</style>\n",
       "<table border=\"1\" class=\"dataframe\">\n",
       "  <thead>\n",
       "    <tr style=\"text-align: right;\">\n",
       "      <th></th>\n",
       "      <th>Open</th>\n",
       "      <th>High</th>\n",
       "      <th>Low</th>\n",
       "      <th>Close</th>\n",
       "      <th>Volume</th>\n",
       "      <th>Change</th>\n",
       "    </tr>\n",
       "    <tr>\n",
       "      <th>Date</th>\n",
       "      <th></th>\n",
       "      <th></th>\n",
       "      <th></th>\n",
       "      <th></th>\n",
       "      <th></th>\n",
       "      <th></th>\n",
       "    </tr>\n",
       "  </thead>\n",
       "  <tbody>\n",
       "    <tr>\n",
       "      <th>2020-01-02</th>\n",
       "      <td>55500</td>\n",
       "      <td>56000</td>\n",
       "      <td>55000</td>\n",
       "      <td>55200</td>\n",
       "      <td>12993228</td>\n",
       "      <td>-0.010753</td>\n",
       "    </tr>\n",
       "    <tr>\n",
       "      <th>2020-01-03</th>\n",
       "      <td>56000</td>\n",
       "      <td>56600</td>\n",
       "      <td>54900</td>\n",
       "      <td>55500</td>\n",
       "      <td>15422255</td>\n",
       "      <td>0.005435</td>\n",
       "    </tr>\n",
       "    <tr>\n",
       "      <th>2020-01-06</th>\n",
       "      <td>54900</td>\n",
       "      <td>55600</td>\n",
       "      <td>54600</td>\n",
       "      <td>55500</td>\n",
       "      <td>10278951</td>\n",
       "      <td>0.000000</td>\n",
       "    </tr>\n",
       "    <tr>\n",
       "      <th>2020-01-07</th>\n",
       "      <td>55700</td>\n",
       "      <td>56400</td>\n",
       "      <td>55600</td>\n",
       "      <td>55800</td>\n",
       "      <td>10009778</td>\n",
       "      <td>0.005405</td>\n",
       "    </tr>\n",
       "    <tr>\n",
       "      <th>2020-01-08</th>\n",
       "      <td>56200</td>\n",
       "      <td>57400</td>\n",
       "      <td>55900</td>\n",
       "      <td>56800</td>\n",
       "      <td>23501171</td>\n",
       "      <td>0.017921</td>\n",
       "    </tr>\n",
       "    <tr>\n",
       "      <th>2020-01-09</th>\n",
       "      <td>58400</td>\n",
       "      <td>58600</td>\n",
       "      <td>57400</td>\n",
       "      <td>58600</td>\n",
       "      <td>24102579</td>\n",
       "      <td>0.031690</td>\n",
       "    </tr>\n",
       "    <tr>\n",
       "      <th>2020-01-10</th>\n",
       "      <td>58800</td>\n",
       "      <td>59700</td>\n",
       "      <td>58300</td>\n",
       "      <td>59500</td>\n",
       "      <td>16000170</td>\n",
       "      <td>0.015358</td>\n",
       "    </tr>\n",
       "    <tr>\n",
       "      <th>2020-01-13</th>\n",
       "      <td>59600</td>\n",
       "      <td>60000</td>\n",
       "      <td>59100</td>\n",
       "      <td>60000</td>\n",
       "      <td>11359139</td>\n",
       "      <td>0.008403</td>\n",
       "    </tr>\n",
       "    <tr>\n",
       "      <th>2020-01-14</th>\n",
       "      <td>60400</td>\n",
       "      <td>61000</td>\n",
       "      <td>59900</td>\n",
       "      <td>60000</td>\n",
       "      <td>16906295</td>\n",
       "      <td>0.000000</td>\n",
       "    </tr>\n",
       "    <tr>\n",
       "      <th>2020-01-15</th>\n",
       "      <td>59500</td>\n",
       "      <td>59600</td>\n",
       "      <td>58900</td>\n",
       "      <td>59000</td>\n",
       "      <td>14300928</td>\n",
       "      <td>-0.016667</td>\n",
       "    </tr>\n",
       "  </tbody>\n",
       "</table>\n",
       "</div>"
      ],
      "text/plain": [
       "             Open   High    Low  Close    Volume    Change\n",
       "Date                                                      \n",
       "2020-01-02  55500  56000  55000  55200  12993228 -0.010753\n",
       "2020-01-03  56000  56600  54900  55500  15422255  0.005435\n",
       "2020-01-06  54900  55600  54600  55500  10278951  0.000000\n",
       "2020-01-07  55700  56400  55600  55800  10009778  0.005405\n",
       "2020-01-08  56200  57400  55900  56800  23501171  0.017921\n",
       "2020-01-09  58400  58600  57400  58600  24102579  0.031690\n",
       "2020-01-10  58800  59700  58300  59500  16000170  0.015358\n",
       "2020-01-13  59600  60000  59100  60000  11359139  0.008403\n",
       "2020-01-14  60400  61000  59900  60000  16906295  0.000000\n",
       "2020-01-15  59500  59600  58900  59000  14300928 -0.016667"
      ]
     },
     "execution_count": 40,
     "metadata": {},
     "output_type": "execute_result"
    }
   ],
   "source": [
    "df = fdr.DataReader('005930', '2020-01-01', date(2020, 5, 15))\n",
    "\n",
    "df.info()\n",
    "df.head(10)"
   ]
  },
  {
   "cell_type": "markdown",
   "metadata": {},
   "source": [
    "인덱스가 datetime으로 저장된 것을 확인할 수 있습니다. 좀더 엄밀하게 하자면 numpy의 datetime(64bit)로 저장되었습니다. 필요한 경우에 연/월/일을 가져다 쓸 수 있습니다."
   ]
  },
  {
   "cell_type": "code",
   "execution_count": 41,
   "metadata": {},
   "outputs": [
    {
     "data": {
      "text/plain": [
       "numpy.datetime64"
      ]
     },
     "execution_count": 41,
     "metadata": {},
     "output_type": "execute_result"
    }
   ],
   "source": [
    "type(df.index.values[0])"
   ]
  },
  {
   "cell_type": "code",
   "execution_count": 42,
   "metadata": {},
   "outputs": [
    {
     "data": {
      "text/plain": [
       "Int64Index([2020, 2020, 2020, 2020, 2020, 2020, 2020, 2020, 2020, 2020, 2020,\n",
       "            2020, 2020, 2020, 2020, 2020, 2020, 2020, 2020, 2020, 2020, 2020,\n",
       "            2020, 2020, 2020, 2020, 2020, 2020, 2020, 2020, 2020, 2020, 2020,\n",
       "            2020, 2020, 2020, 2020, 2020, 2020, 2020, 2020, 2020, 2020, 2020,\n",
       "            2020, 2020, 2020, 2020, 2020, 2020, 2020, 2020, 2020, 2020, 2020,\n",
       "            2020, 2020, 2020, 2020, 2020, 2020, 2020, 2020, 2020, 2020, 2020,\n",
       "            2020, 2020, 2020, 2020, 2020, 2020, 2020, 2020, 2020, 2020, 2020,\n",
       "            2020, 2020, 2020, 2020, 2020, 2020, 2020, 2020, 2020, 2020, 2020,\n",
       "            2020, 2020, 2020],\n",
       "           dtype='int64', name='Date')"
      ]
     },
     "execution_count": 42,
     "metadata": {},
     "output_type": "execute_result"
    }
   ],
   "source": [
    "df.index.year"
   ]
  },
  {
   "cell_type": "code",
   "execution_count": 43,
   "metadata": {},
   "outputs": [
    {
     "data": {
      "text/plain": [
       "Int64Index([1, 1, 1, 1, 1, 1, 1, 1, 1, 1, 1, 1, 1, 1, 1, 1, 1, 1, 1, 1, 2, 2,\n",
       "            2, 2, 2, 2, 2, 2, 2, 2, 2, 2, 2, 2, 2, 2, 2, 2, 2, 2, 3, 3, 3, 3,\n",
       "            3, 3, 3, 3, 3, 3, 3, 3, 3, 3, 3, 3, 3, 3, 3, 3, 3, 3, 4, 4, 4, 4,\n",
       "            4, 4, 4, 4, 4, 4, 4, 4, 4, 4, 4, 4, 4, 4, 4, 4, 5, 5, 5, 5, 5, 5,\n",
       "            5, 5, 5],\n",
       "           dtype='int64', name='Date')"
      ]
     },
     "execution_count": 43,
     "metadata": {},
     "output_type": "execute_result"
    }
   ],
   "source": [
    "df.index.month"
   ]
  },
  {
   "cell_type": "markdown",
   "metadata": {},
   "source": [
    "삼성전자의 종가를 간단하게 시각화해 봅시다."
   ]
  },
  {
   "cell_type": "code",
   "execution_count": 44,
   "metadata": {},
   "outputs": [
    {
     "data": {
      "text/plain": [
       "<matplotlib.axes._subplots.AxesSubplot at 0x237eb46d3d0>"
      ]
     },
     "execution_count": 44,
     "metadata": {},
     "output_type": "execute_result"
    },
    {
     "data": {
      "image/png": "[encoded data removed]",
      "text/plain": [
       "<Figure size 432x288 with 1 Axes>"
      ]
     },
     "metadata": {
      "needs_background": "light"
     },
     "output_type": "display_data"
    }
   ],
   "source": [
    "df['Close'].plot()"
   ]
  },
  {
   "cell_type": "markdown",
   "metadata": {},
   "source": [
    "1990년부터 달러-원 환율 정보를 가져와 종가를 기준으로 matplotlib에서 시각화를 진행합니다."
   ]
  },
  {
   "cell_type": "code",
   "execution_count": 45,
   "metadata": {},
   "outputs": [
    {
     "data": {
      "text/html": [
       "<div>\n",
       "<style scoped>\n",
       "    .dataframe tbody tr th:only-of-type {\n",
       "        vertical-align: middle;\n",
       "    }\n",
       "\n",
       "    .dataframe tbody tr th {\n",
       "        vertical-align: top;\n",
       "    }\n",
       "\n",
       "    .dataframe thead th {\n",
       "        text-align: right;\n",
       "    }\n",
       "</style>\n",
       "<table border=\"1\" class=\"dataframe\">\n",
       "  <thead>\n",
       "    <tr style=\"text-align: right;\">\n",
       "      <th></th>\n",
       "      <th>Close</th>\n",
       "      <th>Open</th>\n",
       "      <th>High</th>\n",
       "      <th>Low</th>\n",
       "      <th>Change</th>\n",
       "    </tr>\n",
       "    <tr>\n",
       "      <th>Date</th>\n",
       "      <th></th>\n",
       "      <th></th>\n",
       "      <th></th>\n",
       "      <th></th>\n",
       "      <th></th>\n",
       "    </tr>\n",
       "  </thead>\n",
       "  <tbody>\n",
       "    <tr>\n",
       "      <th>1990-01-03</th>\n",
       "      <td>683.5</td>\n",
       "      <td>683.5</td>\n",
       "      <td>683.5</td>\n",
       "      <td>683.5</td>\n",
       "      <td>0.0031</td>\n",
       "    </tr>\n",
       "    <tr>\n",
       "      <th>1990-01-04</th>\n",
       "      <td>684.2</td>\n",
       "      <td>684.2</td>\n",
       "      <td>684.2</td>\n",
       "      <td>684.2</td>\n",
       "      <td>0.0010</td>\n",
       "    </tr>\n",
       "    <tr>\n",
       "      <th>1990-01-05</th>\n",
       "      <td>683.7</td>\n",
       "      <td>683.7</td>\n",
       "      <td>683.7</td>\n",
       "      <td>683.7</td>\n",
       "      <td>-0.0007</td>\n",
       "    </tr>\n",
       "    <tr>\n",
       "      <th>1990-01-08</th>\n",
       "      <td>683.6</td>\n",
       "      <td>683.6</td>\n",
       "      <td>683.6</td>\n",
       "      <td>683.6</td>\n",
       "      <td>-0.0001</td>\n",
       "    </tr>\n",
       "    <tr>\n",
       "      <th>1990-01-09</th>\n",
       "      <td>684.0</td>\n",
       "      <td>684.0</td>\n",
       "      <td>684.0</td>\n",
       "      <td>684.0</td>\n",
       "      <td>0.0006</td>\n",
       "    </tr>\n",
       "  </tbody>\n",
       "</table>\n",
       "</div>"
      ],
      "text/plain": [
       "            Close   Open   High    Low  Change\n",
       "Date                                          \n",
       "1990-01-03  683.5  683.5  683.5  683.5  0.0031\n",
       "1990-01-04  684.2  684.2  684.2  684.2  0.0010\n",
       "1990-01-05  683.7  683.7  683.7  683.7 -0.0007\n",
       "1990-01-08  683.6  683.6  683.6  683.6 -0.0001\n",
       "1990-01-09  684.0  684.0  684.0  684.0  0.0006"
      ]
     },
     "execution_count": 45,
     "metadata": {},
     "output_type": "execute_result"
    }
   ],
   "source": [
    "usd_to_krw = fdr.DataReader('USD/KRW', '1990-01-01', '2020-05-15')\n",
    "usd_to_krw.head()"
   ]
  },
  {
   "cell_type": "code",
   "execution_count": 46,
   "metadata": {},
   "outputs": [
    {
     "data": {
      "text/plain": [
       "[Text(0, 0.5, 'KRW'),\n",
       " Text(0.5, 0, 'Year'),\n",
       " Text(0.5, 1.0, 'USD/KRW exchange rate')]"
      ]
     },
     "execution_count": 46,
     "metadata": {},
     "output_type": "execute_result"
    },
    {
     "data": {
      "image/png": "[encoded data removed]",
      "text/plain": [
       "<Figure size 864x288 with 1 Axes>"
      ]
     },
     "metadata": {
      "needs_background": "light"
     },
     "output_type": "display_data"
    }
   ],
   "source": [
    "fig, ax = plt.subplots(figsize = (12, 4))\n",
    "\n",
    "ax.plot(usd_to_krw['Close'], \n",
    "        color = 'red')\n",
    "\n",
    "ax.set(title = 'USD/KRW exchange rate', \n",
    "       xlabel = 'Year',\n",
    "      ylabel = 'KRW')"
   ]
  },
  {
   "cell_type": "markdown",
   "metadata": {},
   "source": [
    "x축의 눈금에 매 연도가 빠지지 않고 표시되었으면 합니다. matplotlib에서 날짜를 다루는 모듈은 dates이며, 이를 mdates로 받아와서 x축의 눈금을 조절합니다.\n",
    "\n",
    "axes.xaxis.set_major_locator는 x축의 큰 눈금을, axes.xaxis.set_major_formatter는 큰 눈금의 표시 형식(format)을 나타냅니다. mdates.YearLocator()로 연도를 기준으로 표시하고, mdates.DateFormatter로 연도의 포맷을 나타냅니다.\n",
    "\n",
    "https://matplotlib.org/3.2.1/api/dates_api.html"
   ]
  },
  {
   "cell_type": "code",
   "execution_count": 47,
   "metadata": {},
   "outputs": [],
   "source": [
    "import matplotlib.dates as mdates"
   ]
  },
  {
   "cell_type": "code",
   "execution_count": 48,
   "metadata": {},
   "outputs": [
    {
     "data": {
      "image/png": "[encoded data removed]",
      "text/plain": [
       "<Figure size 864x288 with 1 Axes>"
      ]
     },
     "metadata": {
      "needs_background": "light"
     },
     "output_type": "display_data"
    }
   ],
   "source": [
    "fig, ax = plt.subplots(figsize = (12, 4))\n",
    "\n",
    "ax.plot(usd_to_krw['Close'], \n",
    "        color = 'red')\n",
    "\n",
    "ax.set(title = 'USD/KRW exchange rate', \n",
    "       xlabel = 'Year',\n",
    "      ylabel = 'KRW')\n",
    "\n",
    "ax.xaxis.set_major_locator(mdates.YearLocator())\n",
    "ax.xaxis.set_major_formatter(mdates.DateFormatter('%y'))\n",
    "#ax.tick_params('x', labelrotation = 45)"
   ]
  },
  {
   "cell_type": "markdown",
   "metadata": {},
   "source": [
    "<p style=\"color:#0000FF\";><font size = \"5\"><b>\n",
    " # 연습하기\n",
    "    </b></font></p>\n",
    "    \n",
    "- 2020년 1월 1일부터 2020년 5월 15일까지 다음 환율의 종가를 뽑아 matplotlib로 그리세요.\n",
    "    - USD/KRW, EUR/KRW, GBP/KRW\n",
    "- x축은 1달 단위로 표시하되(mdates.MonthLocator()), 2020-01-01 식으로 매 월의 1일을 표시하세요.\n",
    "- 각 데이터를 구분하는 범례를 만드세요."
   ]
  },
  {
   "cell_type": "code",
   "execution_count": null,
   "metadata": {},
   "outputs": [],
   "source": []
  },
  {
   "cell_type": "markdown",
   "metadata": {},
   "source": [
    "### DataFrame에서의 datetime: pd.to_datetine\n",
    "DataFrame에서 문자열 형식의 열을 datetime 열로 바꾸려면 to_datetime을 사용합니다. 중간고사 과제에서 사용한 영화 데이터를 활용합니다."
   ]
  },
  {
   "cell_type": "code",
   "execution_count": 49,
   "metadata": {},
   "outputs": [
    {
     "name": "stdout",
     "output_type": "stream",
     "text": [
      "<class 'pandas.core.frame.DataFrame'>\n",
      "RangeIndex: 529 entries, 0 to 528\n",
      "Data columns (total 9 columns):\n",
      " #   Column  Non-Null Count  Dtype \n",
      "---  ------  --------------  ----- \n",
      " 0   영화코드    529 non-null    int64 \n",
      " 1   영화명     529 non-null    object\n",
      " 2   개봉연월일   529 non-null    object\n",
      " 3   매출액     529 non-null    int64 \n",
      " 4   관객수     529 non-null    int64 \n",
      " 5   스크린수    529 non-null    int64 \n",
      " 6   상영횟수    529 non-null    int64 \n",
      " 7   개봉연도    529 non-null    int64 \n",
      " 8   개봉월     529 non-null    int64 \n",
      "dtypes: int64(7), object(2)\n",
      "memory usage: 37.3+ KB\n"
     ]
    },
    {
     "data": {
      "text/html": [
       "<div>\n",
       "<style scoped>\n",
       "    .dataframe tbody tr th:only-of-type {\n",
       "        vertical-align: middle;\n",
       "    }\n",
       "\n",
       "    .dataframe tbody tr th {\n",
       "        vertical-align: top;\n",
       "    }\n",
       "\n",
       "    .dataframe thead th {\n",
       "        text-align: right;\n",
       "    }\n",
       "</style>\n",
       "<table border=\"1\" class=\"dataframe\">\n",
       "  <thead>\n",
       "    <tr style=\"text-align: right;\">\n",
       "      <th></th>\n",
       "      <th>영화코드</th>\n",
       "      <th>영화명</th>\n",
       "      <th>개봉연월일</th>\n",
       "      <th>매출액</th>\n",
       "      <th>관객수</th>\n",
       "      <th>스크린수</th>\n",
       "      <th>상영횟수</th>\n",
       "      <th>개봉연도</th>\n",
       "      <th>개봉월</th>\n",
       "    </tr>\n",
       "  </thead>\n",
       "  <tbody>\n",
       "    <tr>\n",
       "      <th>0</th>\n",
       "      <td>20090834</td>\n",
       "      <td>아바타</td>\n",
       "      <td>2009-12-17</td>\n",
       "      <td>81455728000</td>\n",
       "      <td>8151952</td>\n",
       "      <td>714</td>\n",
       "      <td>111860</td>\n",
       "      <td>2009</td>\n",
       "      <td>12</td>\n",
       "    </tr>\n",
       "    <tr>\n",
       "      <th>1</th>\n",
       "      <td>20100214</td>\n",
       "      <td>아저씨</td>\n",
       "      <td>2010-08-04</td>\n",
       "      <td>47101332000</td>\n",
       "      <td>6178248</td>\n",
       "      <td>501</td>\n",
       "      <td>109853</td>\n",
       "      <td>2010</td>\n",
       "      <td>8</td>\n",
       "    </tr>\n",
       "    <tr>\n",
       "      <th>2</th>\n",
       "      <td>20100312</td>\n",
       "      <td>인셉션</td>\n",
       "      <td>2010-07-21</td>\n",
       "      <td>44309381800</td>\n",
       "      <td>5937741</td>\n",
       "      <td>772</td>\n",
       "      <td>89880</td>\n",
       "      <td>2010</td>\n",
       "      <td>7</td>\n",
       "    </tr>\n",
       "    <tr>\n",
       "      <th>3</th>\n",
       "      <td>20090904</td>\n",
       "      <td>의형제</td>\n",
       "      <td>2010-02-04</td>\n",
       "      <td>40153729000</td>\n",
       "      <td>5416812</td>\n",
       "      <td>569</td>\n",
       "      <td>118243</td>\n",
       "      <td>2010</td>\n",
       "      <td>2</td>\n",
       "    </tr>\n",
       "    <tr>\n",
       "      <th>4</th>\n",
       "      <td>20090933</td>\n",
       "      <td>아이언맨 2</td>\n",
       "      <td>2010-04-29</td>\n",
       "      <td>32635195500</td>\n",
       "      <td>4425003</td>\n",
       "      <td>921</td>\n",
       "      <td>87665</td>\n",
       "      <td>2010</td>\n",
       "      <td>4</td>\n",
       "    </tr>\n",
       "  </tbody>\n",
       "</table>\n",
       "</div>"
      ],
      "text/plain": [
       "       영화코드     영화명       개봉연월일          매출액      관객수  스크린수    상영횟수  개봉연도  개봉월\n",
       "0  20090834     아바타  2009-12-17  81455728000  8151952   714  111860  2009   12\n",
       "1  20100214     아저씨  2010-08-04  47101332000  6178248   501  109853  2010    8\n",
       "2  20100312     인셉션  2010-07-21  44309381800  5937741   772   89880  2010    7\n",
       "3  20090904     의형제  2010-02-04  40153729000  5416812   569  118243  2010    2\n",
       "4  20090933  아이언맨 2  2010-04-29  32635195500  4425003   921   87665  2010    4"
      ]
     },
     "execution_count": 49,
     "metadata": {},
     "output_type": "execute_result"
    }
   ],
   "source": [
    "url_movie = \"https://raw.githubusercontent.com/eunyu1031/Media_interface_2020Spr/master/data/midterm_vis.csv\"\n",
    "\n",
    "movie = pd.read_csv(url_movie, encoding = 'utf-8')\n",
    "movie.info()\n",
    "movie.head()"
   ]
  },
  {
   "cell_type": "markdown",
   "metadata": {},
   "source": [
    "format을 설정하지 않아도 잘 읽어오기는 하나, 설정해 주는 편이 안전합니다."
   ]
  },
  {
   "cell_type": "code",
   "execution_count": null,
   "metadata": {},
   "outputs": [],
   "source": [
    "help(pd.to_datetime)"
   ]
  },
  {
   "cell_type": "code",
   "execution_count": 50,
   "metadata": {},
   "outputs": [
    {
     "data": {
      "text/plain": [
       "0     2009-12-17\n",
       "1     2010-08-04\n",
       "2     2010-07-21\n",
       "3     2010-02-04\n",
       "4     2010-04-29\n",
       "         ...    \n",
       "524   2020-04-30\n",
       "525   2020-04-29\n",
       "526   2018-10-09\n",
       "527   2020-04-15\n",
       "528   2019-10-30\n",
       "Name: 개봉연월일, Length: 529, dtype: datetime64[ns]"
      ]
     },
     "execution_count": 50,
     "metadata": {},
     "output_type": "execute_result"
    }
   ],
   "source": [
    "pd.to_datetime(movie['개봉연월일'])"
   ]
  },
  {
   "cell_type": "code",
   "execution_count": 51,
   "metadata": {},
   "outputs": [
    {
     "data": {
      "text/plain": [
       "0     2009-12-17\n",
       "1     2010-08-04\n",
       "2     2010-07-21\n",
       "3     2010-02-04\n",
       "4     2010-04-29\n",
       "         ...    \n",
       "524   2020-04-30\n",
       "525   2020-04-29\n",
       "526   2018-10-09\n",
       "527   2020-04-15\n",
       "528   2019-10-30\n",
       "Name: 개봉연월일, Length: 529, dtype: datetime64[ns]"
      ]
     },
     "execution_count": 51,
     "metadata": {},
     "output_type": "execute_result"
    }
   ],
   "source": [
    "pd.to_datetime(movie['개봉연월일'], format = '%Y-%m-%d')"
   ]
  },
  {
   "cell_type": "code",
   "execution_count": 52,
   "metadata": {},
   "outputs": [],
   "source": [
    "movie['개봉연월일'] = pd.to_datetime(movie['개봉연월일'], format = '%Y-%m-%d')"
   ]
  },
  {
   "cell_type": "markdown",
   "metadata": {},
   "source": [
    "개봉연월일 정보에서 요일을 구해봅시다. Series.dt.day_name()을 사용하면 요일의 이름까지 리턴합니다."
   ]
  },
  {
   "cell_type": "code",
   "execution_count": 53,
   "metadata": {},
   "outputs": [
    {
     "data": {
      "text/plain": [
       "0       Thursday\n",
       "1      Wednesday\n",
       "2      Wednesday\n",
       "3       Thursday\n",
       "4       Thursday\n",
       "         ...    \n",
       "524     Thursday\n",
       "525    Wednesday\n",
       "526      Tuesday\n",
       "527    Wednesday\n",
       "528    Wednesday\n",
       "Name: 개봉연월일, Length: 529, dtype: object"
      ]
     },
     "execution_count": 53,
     "metadata": {},
     "output_type": "execute_result"
    }
   ],
   "source": [
    "movie['개봉연월일'].dt.day_name()"
   ]
  },
  {
   "cell_type": "code",
   "execution_count": 54,
   "metadata": {},
   "outputs": [],
   "source": [
    "movie['요일'] = movie['개봉연월일'].dt.day_name()"
   ]
  },
  {
   "cell_type": "markdown",
   "metadata": {},
   "source": [
    "## 질문: 관계 (relationship)\n",
    "\n",
    "산점도(scatterplot)와 버블 차트(bubble chart)를 살펴볼 예정입니다. 모두 상관관계이며 인과를 얘기할 수 없다는 점을 유의하시기 바랍니다.\n",
    "\n",
    "임의의 숫자를 가지고 있는 열을 만들어서 상관관계가 약한 경우의 산점도를 먼저 그려볼 예정입니다."
   ]
  },
  {
   "cell_type": "code",
   "execution_count": 55,
   "metadata": {},
   "outputs": [
    {
     "data": {
      "text/html": [
       "<div>\n",
       "<style scoped>\n",
       "    .dataframe tbody tr th:only-of-type {\n",
       "        vertical-align: middle;\n",
       "    }\n",
       "\n",
       "    .dataframe tbody tr th {\n",
       "        vertical-align: top;\n",
       "    }\n",
       "\n",
       "    .dataframe thead th {\n",
       "        text-align: right;\n",
       "    }\n",
       "</style>\n",
       "<table border=\"1\" class=\"dataframe\">\n",
       "  <thead>\n",
       "    <tr style=\"text-align: right;\">\n",
       "      <th></th>\n",
       "      <th>영화코드</th>\n",
       "      <th>매출액</th>\n",
       "      <th>관객수</th>\n",
       "      <th>스크린수</th>\n",
       "      <th>상영횟수</th>\n",
       "      <th>개봉연도</th>\n",
       "      <th>개봉월</th>\n",
       "      <th>random</th>\n",
       "    </tr>\n",
       "  </thead>\n",
       "  <tbody>\n",
       "    <tr>\n",
       "      <th>count</th>\n",
       "      <td>5.290000e+02</td>\n",
       "      <td>5.290000e+02</td>\n",
       "      <td>5.290000e+02</td>\n",
       "      <td>529.000000</td>\n",
       "      <td>529.000000</td>\n",
       "      <td>529.000000</td>\n",
       "      <td>529.000000</td>\n",
       "      <td>529.000000</td>\n",
       "    </tr>\n",
       "    <tr>\n",
       "      <th>mean</th>\n",
       "      <td>2.014606e+07</td>\n",
       "      <td>2.463244e+10</td>\n",
       "      <td>3.090776e+06</td>\n",
       "      <td>900.982987</td>\n",
       "      <td>70174.156900</td>\n",
       "      <td>2014.856333</td>\n",
       "      <td>6.482042</td>\n",
       "      <td>2102.311909</td>\n",
       "    </tr>\n",
       "    <tr>\n",
       "      <th>std</th>\n",
       "      <td>3.395993e+04</td>\n",
       "      <td>2.221492e+10</td>\n",
       "      <td>2.755639e+06</td>\n",
       "      <td>480.654346</td>\n",
       "      <td>45078.059472</td>\n",
       "      <td>3.153005</td>\n",
       "      <td>3.582914</td>\n",
       "      <td>1123.202080</td>\n",
       "    </tr>\n",
       "    <tr>\n",
       "      <th>min</th>\n",
       "      <td>1.982002e+07</td>\n",
       "      <td>1.778460e+08</td>\n",
       "      <td>3.330700e+04</td>\n",
       "      <td>47.000000</td>\n",
       "      <td>2006.000000</td>\n",
       "      <td>2004.000000</td>\n",
       "      <td>1.000000</td>\n",
       "      <td>56.000000</td>\n",
       "    </tr>\n",
       "    <tr>\n",
       "      <th>25%</th>\n",
       "      <td>2.012405e+07</td>\n",
       "      <td>1.085620e+10</td>\n",
       "      <td>1.373316e+06</td>\n",
       "      <td>562.000000</td>\n",
       "      <td>41275.000000</td>\n",
       "      <td>2012.000000</td>\n",
       "      <td>3.000000</td>\n",
       "      <td>1212.000000</td>\n",
       "    </tr>\n",
       "    <tr>\n",
       "      <th>50%</th>\n",
       "      <td>2.014767e+07</td>\n",
       "      <td>1.748721e+10</td>\n",
       "      <td>2.192525e+06</td>\n",
       "      <td>811.000000</td>\n",
       "      <td>57578.000000</td>\n",
       "      <td>2015.000000</td>\n",
       "      <td>7.000000</td>\n",
       "      <td>2116.000000</td>\n",
       "    </tr>\n",
       "    <tr>\n",
       "      <th>75%</th>\n",
       "      <td>2.017406e+07</td>\n",
       "      <td>3.022270e+10</td>\n",
       "      <td>3.784602e+06</td>\n",
       "      <td>1114.000000</td>\n",
       "      <td>89024.000000</td>\n",
       "      <td>2018.000000</td>\n",
       "      <td>10.000000</td>\n",
       "      <td>3106.000000</td>\n",
       "    </tr>\n",
       "    <tr>\n",
       "      <th>max</th>\n",
       "      <td>2.020772e+07</td>\n",
       "      <td>1.396518e+11</td>\n",
       "      <td>1.761368e+07</td>\n",
       "      <td>3556.000000</td>\n",
       "      <td>299334.000000</td>\n",
       "      <td>2020.000000</td>\n",
       "      <td>12.000000</td>\n",
       "      <td>3992.000000</td>\n",
       "    </tr>\n",
       "  </tbody>\n",
       "</table>\n",
       "</div>"
      ],
      "text/plain": [
       "               영화코드           매출액           관객수         스크린수           상영횟수  \\\n",
       "count  5.290000e+02  5.290000e+02  5.290000e+02   529.000000     529.000000   \n",
       "mean   2.014606e+07  2.463244e+10  3.090776e+06   900.982987   70174.156900   \n",
       "std    3.395993e+04  2.221492e+10  2.755639e+06   480.654346   45078.059472   \n",
       "min    1.982002e+07  1.778460e+08  3.330700e+04    47.000000    2006.000000   \n",
       "25%    2.012405e+07  1.085620e+10  1.373316e+06   562.000000   41275.000000   \n",
       "50%    2.014767e+07  1.748721e+10  2.192525e+06   811.000000   57578.000000   \n",
       "75%    2.017406e+07  3.022270e+10  3.784602e+06  1114.000000   89024.000000   \n",
       "max    2.020772e+07  1.396518e+11  1.761368e+07  3556.000000  299334.000000   \n",
       "\n",
       "              개봉연도         개봉월       random  \n",
       "count   529.000000  529.000000   529.000000  \n",
       "mean   2014.856333    6.482042  2102.311909  \n",
       "std       3.153005    3.582914  1123.202080  \n",
       "min    2004.000000    1.000000    56.000000  \n",
       "25%    2012.000000    3.000000  1212.000000  \n",
       "50%    2015.000000    7.000000  2116.000000  \n",
       "75%    2018.000000   10.000000  3106.000000  \n",
       "max    2020.000000   12.000000  3992.000000  "
      ]
     },
     "execution_count": 55,
     "metadata": {},
     "output_type": "execute_result"
    }
   ],
   "source": [
    "movie['random'] = np.random.randint(50,4000, size=(529, 1))\n",
    "movie.describe()"
   ]
  },
  {
   "cell_type": "markdown",
   "metadata": {},
   "source": [
    "ax.scatter(x축, y축)이 기본형입니다. 선 차트와 마찬가지로 marker를 설정할 수 있으며, 각 marker가 겹치는 경우를 알아볼 수 있도록 투명도를 조절했습니다. 매개변수 alpha는 0(투명)부터 1(불투명)까지의 값을 가집니다."
   ]
  },
  {
   "cell_type": "code",
   "execution_count": 56,
   "metadata": {},
   "outputs": [
    {
     "data": {
      "image/png": "[encoded data removed]",
      "text/plain": [
       "<Figure size 432x288 with 1 Axes>"
      ]
     },
     "metadata": {
      "needs_background": "light"
     },
     "output_type": "display_data"
    }
   ],
   "source": [
    "fig, ax = plt.subplots()\n",
    "\n",
    "ax.scatter(movie['스크린수'], movie['random'], marker = 'o', alpha = 0.5)\n",
    "plt.show()"
   ]
  },
  {
   "cell_type": "markdown",
   "metadata": {},
   "source": [
    "<p style=\"color:#0000FF\";><font size = \"5\"><b>\n",
    " # 연습하기\n",
    "    </b></font></p>\n",
    "    \n",
    "- 관객수와 매출액 간 상관관계를 산점도로 확인하세요."
   ]
  },
  {
   "cell_type": "code",
   "execution_count": null,
   "metadata": {},
   "outputs": [],
   "source": []
  },
  {
   "cell_type": "markdown",
   "metadata": {},
   "source": [
    "Seaborn의 scatterplot에서는 산점도에서 marker의 색깔과 모양, 크기를 조절하여 x변수와 y변수 외에 다른 변수의 정보까지 나타낼 수 있습니다.\n",
    "\n",
    "https://seaborn.pydata.org/generated/seaborn.scatterplot.html"
   ]
  },
  {
   "cell_type": "code",
   "execution_count": 57,
   "metadata": {},
   "outputs": [
    {
     "data": {
      "image/png": "[encoded data removed]",
      "text/plain": [
       "<Figure size 432x288 with 1 Axes>"
      ]
     },
     "metadata": {
      "needs_background": "light"
     },
     "output_type": "display_data"
    }
   ],
   "source": [
    "fig, ax = plt.subplots()\n",
    "\n",
    "sns.scatterplot(x = '스크린수', \n",
    "                y = '매출액', \n",
    "                data = movie, \n",
    "                alpha = 0.5,\n",
    "                ax = ax)\n",
    "plt.show()"
   ]
  },
  {
   "cell_type": "markdown",
   "metadata": {},
   "source": [
    "Seaborn의 다른 그래프에서 보았다시피 범주형 변수의 정보를 산점도 내 marker의 색상(hue)과 모양(style)으로 나타낼 수 있습니다. 요일 정보를 추가해서 살펴봅시다."
   ]
  },
  {
   "cell_type": "code",
   "execution_count": 58,
   "metadata": {},
   "outputs": [
    {
     "data": {
      "image/png": "[encoded data removed]",
      "text/plain": [
       "<Figure size 432x288 with 1 Axes>"
      ]
     },
     "metadata": {
      "needs_background": "light"
     },
     "output_type": "display_data"
    }
   ],
   "source": [
    "fig, ax = plt.subplots()\n",
    "\n",
    "sns.scatterplot(x = '스크린수', \n",
    "                y = '매출액', \n",
    "                hue = '요일', \n",
    "                data = movie,\n",
    "                alpha = 0.7,\n",
    "                ax = ax)\n",
    "plt.show()"
   ]
  },
  {
   "cell_type": "code",
   "execution_count": 59,
   "metadata": {},
   "outputs": [
    {
     "data": {
      "image/png": "[encoded data removed]",
      "text/plain": [
       "<Figure size 432x288 with 1 Axes>"
      ]
     },
     "metadata": {
      "needs_background": "light"
     },
     "output_type": "display_data"
    }
   ],
   "source": [
    "fig, ax = plt.subplots()\n",
    "\n",
    "sns.scatterplot(x = '스크린수', \n",
    "                y = '매출액', \n",
    "                style = '요일',\n",
    "                data = movie,\n",
    "                alpha = 0.7,\n",
    "                ax = ax)\n",
    "plt.show()"
   ]
  },
  {
   "cell_type": "code",
   "execution_count": 60,
   "metadata": {},
   "outputs": [
    {
     "data": {
      "image/png": "[encoded data removed]",
      "text/plain": [
       "<Figure size 432x288 with 1 Axes>"
      ]
     },
     "metadata": {
      "needs_background": "light"
     },
     "output_type": "display_data"
    }
   ],
   "source": [
    "fig, ax = plt.subplots()\n",
    "\n",
    "sns.scatterplot(x = '스크린수', \n",
    "                y = '매출액', \n",
    "                hue = '요일',\n",
    "                style = '요일',\n",
    "                data = movie,\n",
    "                alpha = 0.7,\n",
    "                ax = ax)\n",
    "plt.show()"
   ]
  },
  {
   "cell_type": "markdown",
   "metadata": {},
   "source": [
    "### 하나의 열을 기반으로 다른 열 만들기\n",
    "여러 방법이 있지만 우선 두 가지를 소개합니다. 1~12월을 봄/여름/가을/겨울로 나누는 예제를 사용합니다.\n",
    "- 숫자형 변수: pd.cut\n",
    "- 범주형 변수: DataFrame.map\n",
    "\n",
    "pd.cut은 숫자형 변수에서 범위를 정해서 각 범위에 unique label을 할당합니다. \n",
    "\n",
    "매개변수 right는 lower/upper bound의 숫자를 포함할지 포함하지 않을지를 지정합니다. 매개변수 bins가 [1, 2, 3, 4]일 때, right = True(default)인 경우 (1, 2], (2, 3], (3, 4]로 나누고, right = False인 경우 [1, 2), [3, 4), [5, 6)으로 나눕니다. \n",
    "\n",
    "매개변수 labels는 나뉜 구간마다 붙일 이름을 정합니다. bins에 인수로 넘긴 리스트보다 아이템 하나가 적어야 합니다.\n",
    "\n",
    "아래 코드는 3이상 6미만은 봄, 6이상 9 미만은 여름, 9이상 11미만은 가을, 11이상 13미만은 겨울로 지정합니다. 다만 라벨은 서로 같지 않아야 하기 때문에 1, 2월은 우선 따로 할당하지 않고 NaN으로 남겨두고, NaN을 정해진 값으로 바꾸는 fillna 함수를 사용해서 바꾸었습니다."
   ]
  },
  {
   "cell_type": "code",
   "execution_count": 61,
   "metadata": {},
   "outputs": [
    {
     "data": {
      "text/plain": [
       "0       겨울\n",
       "1       여름\n",
       "2       여름\n",
       "3      NaN\n",
       "4        봄\n",
       "      ... \n",
       "524      봄\n",
       "525      봄\n",
       "526     가을\n",
       "527      봄\n",
       "528     가을\n",
       "Name: 개봉월, Length: 529, dtype: category\n",
       "Categories (4, object): [봄 < 여름 < 가을 < 겨울]"
      ]
     },
     "execution_count": 61,
     "metadata": {},
     "output_type": "execute_result"
    }
   ],
   "source": [
    "pd.cut(movie['개봉월'], \n",
    "       bins = [3, 6, 9, 11, 13], \n",
    "       labels = ['봄', '여름', '가을', '겨울'],\n",
    "       right = False)"
   ]
  },
  {
   "cell_type": "code",
   "execution_count": 62,
   "metadata": {},
   "outputs": [],
   "source": [
    "movie['계절1'] = pd.cut(movie['개봉월'], \n",
    "                     bins = [3, 6, 9, 11, 13], \n",
    "                     labels = ['봄', '여름', '가을', '겨울'],\n",
    "                     right = False)"
   ]
  },
  {
   "cell_type": "code",
   "execution_count": 63,
   "metadata": {},
   "outputs": [
    {
     "data": {
      "text/plain": [
       "0      겨울\n",
       "1      여름\n",
       "2      여름\n",
       "3      겨울\n",
       "4       봄\n",
       "       ..\n",
       "524     봄\n",
       "525     봄\n",
       "526    가을\n",
       "527     봄\n",
       "528    가을\n",
       "Name: 계절1, Length: 529, dtype: category\n",
       "Categories (4, object): [봄 < 여름 < 가을 < 겨울]"
      ]
     },
     "execution_count": 63,
     "metadata": {},
     "output_type": "execute_result"
    }
   ],
   "source": [
    "movie['계절1'].fillna('겨울')"
   ]
  },
  {
   "cell_type": "code",
   "execution_count": 64,
   "metadata": {},
   "outputs": [
    {
     "data": {
      "text/html": [
       "<div>\n",
       "<style scoped>\n",
       "    .dataframe tbody tr th:only-of-type {\n",
       "        vertical-align: middle;\n",
       "    }\n",
       "\n",
       "    .dataframe tbody tr th {\n",
       "        vertical-align: top;\n",
       "    }\n",
       "\n",
       "    .dataframe thead th {\n",
       "        text-align: right;\n",
       "    }\n",
       "</style>\n",
       "<table border=\"1\" class=\"dataframe\">\n",
       "  <thead>\n",
       "    <tr style=\"text-align: right;\">\n",
       "      <th></th>\n",
       "      <th>영화코드</th>\n",
       "      <th>영화명</th>\n",
       "      <th>개봉연월일</th>\n",
       "      <th>매출액</th>\n",
       "      <th>관객수</th>\n",
       "      <th>스크린수</th>\n",
       "      <th>상영횟수</th>\n",
       "      <th>개봉연도</th>\n",
       "      <th>개봉월</th>\n",
       "      <th>요일</th>\n",
       "      <th>random</th>\n",
       "      <th>계절1</th>\n",
       "    </tr>\n",
       "  </thead>\n",
       "  <tbody>\n",
       "    <tr>\n",
       "      <th>0</th>\n",
       "      <td>20090834</td>\n",
       "      <td>아바타</td>\n",
       "      <td>2009-12-17</td>\n",
       "      <td>81455728000</td>\n",
       "      <td>8151952</td>\n",
       "      <td>714</td>\n",
       "      <td>111860</td>\n",
       "      <td>2009</td>\n",
       "      <td>12</td>\n",
       "      <td>Thursday</td>\n",
       "      <td>3828</td>\n",
       "      <td>겨울</td>\n",
       "    </tr>\n",
       "    <tr>\n",
       "      <th>1</th>\n",
       "      <td>20100214</td>\n",
       "      <td>아저씨</td>\n",
       "      <td>2010-08-04</td>\n",
       "      <td>47101332000</td>\n",
       "      <td>6178248</td>\n",
       "      <td>501</td>\n",
       "      <td>109853</td>\n",
       "      <td>2010</td>\n",
       "      <td>8</td>\n",
       "      <td>Wednesday</td>\n",
       "      <td>3131</td>\n",
       "      <td>여름</td>\n",
       "    </tr>\n",
       "    <tr>\n",
       "      <th>2</th>\n",
       "      <td>20100312</td>\n",
       "      <td>인셉션</td>\n",
       "      <td>2010-07-21</td>\n",
       "      <td>44309381800</td>\n",
       "      <td>5937741</td>\n",
       "      <td>772</td>\n",
       "      <td>89880</td>\n",
       "      <td>2010</td>\n",
       "      <td>7</td>\n",
       "      <td>Wednesday</td>\n",
       "      <td>2612</td>\n",
       "      <td>여름</td>\n",
       "    </tr>\n",
       "    <tr>\n",
       "      <th>3</th>\n",
       "      <td>20090904</td>\n",
       "      <td>의형제</td>\n",
       "      <td>2010-02-04</td>\n",
       "      <td>40153729000</td>\n",
       "      <td>5416812</td>\n",
       "      <td>569</td>\n",
       "      <td>118243</td>\n",
       "      <td>2010</td>\n",
       "      <td>2</td>\n",
       "      <td>Thursday</td>\n",
       "      <td>3525</td>\n",
       "      <td>겨울</td>\n",
       "    </tr>\n",
       "    <tr>\n",
       "      <th>4</th>\n",
       "      <td>20090933</td>\n",
       "      <td>아이언맨 2</td>\n",
       "      <td>2010-04-29</td>\n",
       "      <td>32635195500</td>\n",
       "      <td>4425003</td>\n",
       "      <td>921</td>\n",
       "      <td>87665</td>\n",
       "      <td>2010</td>\n",
       "      <td>4</td>\n",
       "      <td>Thursday</td>\n",
       "      <td>3718</td>\n",
       "      <td>봄</td>\n",
       "    </tr>\n",
       "  </tbody>\n",
       "</table>\n",
       "</div>"
      ],
      "text/plain": [
       "       영화코드     영화명      개봉연월일          매출액      관객수  스크린수    상영횟수  개봉연도  개봉월  \\\n",
       "0  20090834     아바타 2009-12-17  81455728000  8151952   714  111860  2009   12   \n",
       "1  20100214     아저씨 2010-08-04  47101332000  6178248   501  109853  2010    8   \n",
       "2  20100312     인셉션 2010-07-21  44309381800  5937741   772   89880  2010    7   \n",
       "3  20090904     의형제 2010-02-04  40153729000  5416812   569  118243  2010    2   \n",
       "4  20090933  아이언맨 2 2010-04-29  32635195500  4425003   921   87665  2010    4   \n",
       "\n",
       "          요일  random 계절1  \n",
       "0   Thursday    3828  겨울  \n",
       "1  Wednesday    3131  여름  \n",
       "2  Wednesday    2612  여름  \n",
       "3   Thursday    3525  겨울  \n",
       "4   Thursday    3718   봄  "
      ]
     },
     "execution_count": 64,
     "metadata": {},
     "output_type": "execute_result"
    }
   ],
   "source": [
    "movie['계절1'] = movie['계절1'].fillna('겨울')\n",
    "movie.head()"
   ]
  },
  {
   "cell_type": "markdown",
   "metadata": {},
   "source": [
    "DataFrame.map은 바꾸기 전의 값 하나에 바꾸고자 하는 값을 딕셔너리로 매핑하여 나타냅니다. 딕셔너리 변수 season_map을 만들어 사용했습니다."
   ]
  },
  {
   "cell_type": "code",
   "execution_count": 65,
   "metadata": {},
   "outputs": [
    {
     "data": {
      "text/plain": [
       "0      겨울\n",
       "1      여름\n",
       "2      여름\n",
       "3      겨울\n",
       "4       봄\n",
       "       ..\n",
       "524     봄\n",
       "525     봄\n",
       "526    가을\n",
       "527     봄\n",
       "528    가을\n",
       "Name: 개봉월, Length: 529, dtype: object"
      ]
     },
     "execution_count": 65,
     "metadata": {},
     "output_type": "execute_result"
    }
   ],
   "source": [
    "season_map = {1:'겨울', 2:'겨울', \n",
    "              3:'봄', 4:'봄', 5:'봄', \n",
    "              6:'여름', 7:'여름', 8:'여름', \n",
    "              9:'가을', 10:'가을', 11:'겨울', 12:'겨울',}\n",
    "\n",
    "movie['개봉월'].map(season_map)"
   ]
  },
  {
   "cell_type": "code",
   "execution_count": 66,
   "metadata": {},
   "outputs": [
    {
     "data": {
      "text/html": [
       "<div>\n",
       "<style scoped>\n",
       "    .dataframe tbody tr th:only-of-type {\n",
       "        vertical-align: middle;\n",
       "    }\n",
       "\n",
       "    .dataframe tbody tr th {\n",
       "        vertical-align: top;\n",
       "    }\n",
       "\n",
       "    .dataframe thead th {\n",
       "        text-align: right;\n",
       "    }\n",
       "</style>\n",
       "<table border=\"1\" class=\"dataframe\">\n",
       "  <thead>\n",
       "    <tr style=\"text-align: right;\">\n",
       "      <th></th>\n",
       "      <th>영화코드</th>\n",
       "      <th>영화명</th>\n",
       "      <th>개봉연월일</th>\n",
       "      <th>매출액</th>\n",
       "      <th>관객수</th>\n",
       "      <th>스크린수</th>\n",
       "      <th>상영횟수</th>\n",
       "      <th>개봉연도</th>\n",
       "      <th>개봉월</th>\n",
       "      <th>요일</th>\n",
       "      <th>random</th>\n",
       "      <th>계절1</th>\n",
       "      <th>계절2</th>\n",
       "    </tr>\n",
       "  </thead>\n",
       "  <tbody>\n",
       "    <tr>\n",
       "      <th>0</th>\n",
       "      <td>20090834</td>\n",
       "      <td>아바타</td>\n",
       "      <td>2009-12-17</td>\n",
       "      <td>81455728000</td>\n",
       "      <td>8151952</td>\n",
       "      <td>714</td>\n",
       "      <td>111860</td>\n",
       "      <td>2009</td>\n",
       "      <td>12</td>\n",
       "      <td>Thursday</td>\n",
       "      <td>3828</td>\n",
       "      <td>겨울</td>\n",
       "      <td>겨울</td>\n",
       "    </tr>\n",
       "    <tr>\n",
       "      <th>1</th>\n",
       "      <td>20100214</td>\n",
       "      <td>아저씨</td>\n",
       "      <td>2010-08-04</td>\n",
       "      <td>47101332000</td>\n",
       "      <td>6178248</td>\n",
       "      <td>501</td>\n",
       "      <td>109853</td>\n",
       "      <td>2010</td>\n",
       "      <td>8</td>\n",
       "      <td>Wednesday</td>\n",
       "      <td>3131</td>\n",
       "      <td>여름</td>\n",
       "      <td>여름</td>\n",
       "    </tr>\n",
       "    <tr>\n",
       "      <th>2</th>\n",
       "      <td>20100312</td>\n",
       "      <td>인셉션</td>\n",
       "      <td>2010-07-21</td>\n",
       "      <td>44309381800</td>\n",
       "      <td>5937741</td>\n",
       "      <td>772</td>\n",
       "      <td>89880</td>\n",
       "      <td>2010</td>\n",
       "      <td>7</td>\n",
       "      <td>Wednesday</td>\n",
       "      <td>2612</td>\n",
       "      <td>여름</td>\n",
       "      <td>여름</td>\n",
       "    </tr>\n",
       "    <tr>\n",
       "      <th>3</th>\n",
       "      <td>20090904</td>\n",
       "      <td>의형제</td>\n",
       "      <td>2010-02-04</td>\n",
       "      <td>40153729000</td>\n",
       "      <td>5416812</td>\n",
       "      <td>569</td>\n",
       "      <td>118243</td>\n",
       "      <td>2010</td>\n",
       "      <td>2</td>\n",
       "      <td>Thursday</td>\n",
       "      <td>3525</td>\n",
       "      <td>겨울</td>\n",
       "      <td>겨울</td>\n",
       "    </tr>\n",
       "    <tr>\n",
       "      <th>4</th>\n",
       "      <td>20090933</td>\n",
       "      <td>아이언맨 2</td>\n",
       "      <td>2010-04-29</td>\n",
       "      <td>32635195500</td>\n",
       "      <td>4425003</td>\n",
       "      <td>921</td>\n",
       "      <td>87665</td>\n",
       "      <td>2010</td>\n",
       "      <td>4</td>\n",
       "      <td>Thursday</td>\n",
       "      <td>3718</td>\n",
       "      <td>봄</td>\n",
       "      <td>봄</td>\n",
       "    </tr>\n",
       "  </tbody>\n",
       "</table>\n",
       "</div>"
      ],
      "text/plain": [
       "       영화코드     영화명      개봉연월일          매출액      관객수  스크린수    상영횟수  개봉연도  개봉월  \\\n",
       "0  20090834     아바타 2009-12-17  81455728000  8151952   714  111860  2009   12   \n",
       "1  20100214     아저씨 2010-08-04  47101332000  6178248   501  109853  2010    8   \n",
       "2  20100312     인셉션 2010-07-21  44309381800  5937741   772   89880  2010    7   \n",
       "3  20090904     의형제 2010-02-04  40153729000  5416812   569  118243  2010    2   \n",
       "4  20090933  아이언맨 2 2010-04-29  32635195500  4425003   921   87665  2010    4   \n",
       "\n",
       "          요일  random 계절1 계절2  \n",
       "0   Thursday    3828  겨울  겨울  \n",
       "1  Wednesday    3131  여름  여름  \n",
       "2  Wednesday    2612  여름  여름  \n",
       "3   Thursday    3525  겨울  겨울  \n",
       "4   Thursday    3718   봄   봄  "
      ]
     },
     "execution_count": 66,
     "metadata": {},
     "output_type": "execute_result"
    }
   ],
   "source": [
    "movie['계절2'] = movie['개봉월'].map(season_map)\n",
    "movie.head()"
   ]
  },
  {
   "cell_type": "markdown",
   "metadata": {},
   "source": [
    "<p style=\"color:#0000FF\";><font size = \"5\"><b>\n",
    " # 연습하기\n",
    "    </b></font></p>\n",
    "    \n",
    "- 스크린수와 매출액 간 상관관계를 산점도로 나타내고, 요일은 색깔로, 계절은 marker의 모양으로 구분해 보세요."
   ]
  },
  {
   "cell_type": "code",
   "execution_count": null,
   "metadata": {},
   "outputs": [],
   "source": [
    "fig, ax = plt.subplots()\n",
    "\n",
    "\n",
    "\n",
    "ax.legend(bbox_to_anchor=(1, 1), loc = 'upper left')\n",
    "plt.show()"
   ]
  },
  {
   "cell_type": "markdown",
   "metadata": {},
   "source": [
    "범례(legend)에서 bbox_to_anchor와 loc을 같이 사용할 경우, loc의 기능은 단독으로 사용했을 때와 다릅니다. 매개변수 bbox_to_anchor는 figure 자체에서 기준을 잡는데, 아래 그림의 푸른 글씨가 bbox_to_anchor의 표시입니다. figure로 그려지는 공간에서 (0, 0)이 가장 왼쪽 아래, (1, 1)이 오른쪽 위입니다. \n",
    "\n",
    "매개변수 bbox_to_anchor와 loc을 같이 사용하는 경우, loc은 범례 박스의 네 귀퉁이(upper&lower)/네 변의 중심점(center)을 나타냅니다. 먼저 bbox_to_anchor로 figure에 기준이 되는 좌표를 지정한 후, 해당 좌표에 범례 박스가 접하는 부분을 loc에 명시합니다.\n",
    "\n",
    "<img src='https://i.stack.imgur.com/OIMyM.png'/>\n",
    "참고 1) \n",
    "\n",
    "https://stackoverflow.com/questions/4700614/how-to-put-the-legend-out-of-the-plot \n",
    "\n",
    "참고 2) \n",
    "\n",
    "https://matplotlib.org/3.2.1/api/_as_gen/matplotlib.pyplot.legend.html#matplotlib.pyplot.legend"
   ]
  },
  {
   "cell_type": "markdown",
   "metadata": {},
   "source": [
    "버블 차트(bubble chart)는 marker의 매개변수 size에 기준이 될 열을 지정하면 됩니다. 범주형과 연속형 둘 다 가능하지만, 연속형의 경우 marker 크기의 최소/최대값을 sizes에 튜플(tuple)로 넣어줄 수 있습니다."
   ]
  },
  {
   "cell_type": "code",
   "execution_count": 67,
   "metadata": {},
   "outputs": [
    {
     "data": {
      "image/png": "[encoded data removed]",
      "text/plain": [
       "<Figure size 432x288 with 1 Axes>"
      ]
     },
     "metadata": {
      "needs_background": "light"
     },
     "output_type": "display_data"
    }
   ],
   "source": [
    "fig, ax = plt.subplots()\n",
    "\n",
    "sns.scatterplot(x = '상영횟수', \n",
    "                y = '매출액', \n",
    "                hue = '요일',\n",
    "                data = movie[movie['관객수']>10000000],\n",
    "                size = '스크린수', \n",
    "                sizes = (10, 200),\n",
    "                alpha = 0.7,\n",
    "                ax = ax)\n",
    "\n",
    "ax.legend(bbox_to_anchor=(1, 0), loc = 'lower left', prop={'size': 13})\n",
    "\n",
    "plt.show()"
   ]
  },
  {
   "cell_type": "markdown",
   "metadata": {},
   "source": [
    "#### 참고\n",
    "'택시운전사'의 상영 기록입니다. 궁금하다면 참고하세요"
   ]
  },
  {
   "cell_type": "code",
   "execution_count": 68,
   "metadata": {},
   "outputs": [
    {
     "data": {
      "text/html": [
       "<div>\n",
       "<style scoped>\n",
       "    .dataframe tbody tr th:only-of-type {\n",
       "        vertical-align: middle;\n",
       "    }\n",
       "\n",
       "    .dataframe tbody tr th {\n",
       "        vertical-align: top;\n",
       "    }\n",
       "\n",
       "    .dataframe thead th {\n",
       "        text-align: right;\n",
       "    }\n",
       "</style>\n",
       "<table border=\"1\" class=\"dataframe\">\n",
       "  <thead>\n",
       "    <tr style=\"text-align: right;\">\n",
       "      <th></th>\n",
       "      <th>날짜</th>\n",
       "      <th>스크린수</th>\n",
       "      <th>스크린점유율</th>\n",
       "      <th>상영횟수</th>\n",
       "      <th>상영점유율</th>\n",
       "      <th>좌석수</th>\n",
       "      <th>좌석점유율</th>\n",
       "      <th>좌석판매율</th>\n",
       "      <th>매출액</th>\n",
       "      <th>매출액증감(전일대비)</th>\n",
       "      <th>관객수</th>\n",
       "      <th>관객수증감(전일대비)</th>\n",
       "      <th>누적매출액</th>\n",
       "      <th>누적관객수</th>\n",
       "      <th>순위</th>\n",
       "    </tr>\n",
       "  </thead>\n",
       "  <tbody>\n",
       "    <tr>\n",
       "      <th>0</th>\n",
       "      <td>2017-07-03</td>\n",
       "      <td>1</td>\n",
       "      <td>0.000</td>\n",
       "      <td>1</td>\n",
       "      <td>0.000</td>\n",
       "      <td>182</td>\n",
       "      <td>0.000</td>\n",
       "      <td>1.000</td>\n",
       "      <td>1602000</td>\n",
       "      <td>1602000 ( 100.0% )</td>\n",
       "      <td>182</td>\n",
       "      <td>182 ( 100.0% )</td>\n",
       "      <td>1602000</td>\n",
       "      <td>182</td>\n",
       "      <td>27</td>\n",
       "    </tr>\n",
       "    <tr>\n",
       "      <th>1</th>\n",
       "      <td>2017-07-10</td>\n",
       "      <td>8</td>\n",
       "      <td>0.002</td>\n",
       "      <td>12</td>\n",
       "      <td>0.001</td>\n",
       "      <td>4036</td>\n",
       "      <td>0.002</td>\n",
       "      <td>1.000</td>\n",
       "      <td>25236000</td>\n",
       "      <td>25236000 ( 100.0% )</td>\n",
       "      <td>4036</td>\n",
       "      <td>4036 ( 100.0% )</td>\n",
       "      <td>26838000</td>\n",
       "      <td>4218</td>\n",
       "      <td>5</td>\n",
       "    </tr>\n",
       "    <tr>\n",
       "      <th>2</th>\n",
       "      <td>2017-07-11</td>\n",
       "      <td>83</td>\n",
       "      <td>0.018</td>\n",
       "      <td>89</td>\n",
       "      <td>0.006</td>\n",
       "      <td>17664</td>\n",
       "      <td>0.007</td>\n",
       "      <td>0.962</td>\n",
       "      <td>102167000</td>\n",
       "      <td>76931000 ( 304.8% )</td>\n",
       "      <td>16990</td>\n",
       "      <td>12954 ( 321.0% )</td>\n",
       "      <td>129005000</td>\n",
       "      <td>21208</td>\n",
       "      <td>3</td>\n",
       "    </tr>\n",
       "    <tr>\n",
       "      <th>3</th>\n",
       "      <td>2017-07-12</td>\n",
       "      <td>23</td>\n",
       "      <td>0.005</td>\n",
       "      <td>23</td>\n",
       "      <td>0.001</td>\n",
       "      <td>4629</td>\n",
       "      <td>0.002</td>\n",
       "      <td>1.034</td>\n",
       "      <td>28710000</td>\n",
       "      <td>-73457000 ( -71.9% )</td>\n",
       "      <td>4785</td>\n",
       "      <td>-12205 ( -71.8% )</td>\n",
       "      <td>157715000</td>\n",
       "      <td>25993</td>\n",
       "      <td>8</td>\n",
       "    </tr>\n",
       "    <tr>\n",
       "      <th>4</th>\n",
       "      <td>2017-07-13</td>\n",
       "      <td>19</td>\n",
       "      <td>0.004</td>\n",
       "      <td>19</td>\n",
       "      <td>0.001</td>\n",
       "      <td>3719</td>\n",
       "      <td>0.001</td>\n",
       "      <td>0.971</td>\n",
       "      <td>21990000</td>\n",
       "      <td>-6720000 ( -23.4% )</td>\n",
       "      <td>3613</td>\n",
       "      <td>-1172 ( -24.5% )</td>\n",
       "      <td>179705000</td>\n",
       "      <td>29606</td>\n",
       "      <td>10</td>\n",
       "    </tr>\n",
       "  </tbody>\n",
       "</table>\n",
       "</div>"
      ],
      "text/plain": [
       "          날짜  스크린수  스크린점유율  상영횟수  상영점유율    좌석수  좌석점유율  좌석판매율        매출액  \\\n",
       "0 2017-07-03     1   0.000     1  0.000    182  0.000  1.000    1602000   \n",
       "1 2017-07-10     8   0.002    12  0.001   4036  0.002  1.000   25236000   \n",
       "2 2017-07-11    83   0.018    89  0.006  17664  0.007  0.962  102167000   \n",
       "3 2017-07-12    23   0.005    23  0.001   4629  0.002  1.034   28710000   \n",
       "4 2017-07-13    19   0.004    19  0.001   3719  0.001  0.971   21990000   \n",
       "\n",
       "            매출액증감(전일대비)    관객수        관객수증감(전일대비)      누적매출액  누적관객수  순위  \n",
       "0    1602000 ( 100.0% )    182     182 ( 100.0% )    1602000    182  27  \n",
       "1   25236000 ( 100.0% )   4036    4036 ( 100.0% )   26838000   4218   5  \n",
       "2   76931000 ( 304.8% )  16990   12954 ( 321.0% )  129005000  21208   3  \n",
       "3  -73457000 ( -71.9% )   4785  -12205 ( -71.8% )  157715000  25993   8  \n",
       "4   -6720000 ( -23.4% )   3613   -1172 ( -24.5% )  179705000  29606  10  "
      ]
     },
     "execution_count": 68,
     "metadata": {},
     "output_type": "execute_result"
    }
   ],
   "source": [
    "daily_url = \"https://github.com/eunyu1031/Media_interface_2020Spr/blob/master/data/%ED%83%9D%EC%8B%9C%EC%9A%B4%EC%A0%84%EC%82%AC_KOBIS_%EC%9D%BC%EC%9E%90%EB%B3%84_%ED%86%B5%EA%B3%84%EC%A0%95%EB%B3%B4_2020-05-18.xlsx?raw=true\"\n",
    "taxi_driver = pd.read_excel(daily_url, encoding = 'cp949', skiprows = [0, 1, 2])\n",
    "taxi_driver.head()"
   ]
  },
  {
   "cell_type": "code",
   "execution_count": null,
   "metadata": {},
   "outputs": [],
   "source": []
  }
 ],
 "metadata": {
  "kernelspec": {
   "display_name": "Python 3",
   "language": "python",
   "name": "python3"
  },
  "language_info": {
   "codemirror_mode": {
    "name": "ipython",
    "version": 3
   },
   "file_extension": ".py",
   "mimetype": "text/x-python",
   "name": "python",
   "nbconvert_exporter": "python",
   "pygments_lexer": "ipython3",
   "version": "3.8.3"
  }
 },
 "nbformat": 4,
 "nbformat_minor": 2
}
