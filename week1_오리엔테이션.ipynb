{
 "cells": [
  {
   "cell_type": "markdown",
   "metadata": {},
   "source": [
    "중앙대학교 사회과학대학 미디어커뮤니케이션학부 <br>\n",
    "미디어인터페이스 봄학기 1주차 수업자료 (제공: 유은)"
   ]
  },
  {
   "cell_type": "markdown",
   "metadata": {},
   "source": [
    "### 주피터 노트북 소개\n",
    "코드 또는 설명을 작성할 수 있는 칸을 셀(cell)이라고 합니다.\n",
    "\n",
    "주피터 노트북은 code, Markdown, Raw NBConvert를 제공하며 상단에서 확인할 수 있습니다.\n",
    "\n",
    "- code 셀에서 __ctrl+enter__를 누르면 해당 셀의 코드를 실행할 수 있습니다.\n",
    "\n",
    "- code 셀에서 __shift+enter__를 누르면 해당 셀의 코드를 실행하고 다음 셀로 넘어갑니다."
   ]
  },
  {
   "cell_type": "code",
   "execution_count": null,
   "metadata": {},
   "outputs": [],
   "source": [
    "print(\"Hello world\")"
   ]
  },
  {
   "cell_type": "markdown",
   "metadata": {},
   "source": [
    "- 셀의 왼쪽에 ln [2]처럼 뜨는 숫자는 셀을 실행한 순서입니다. 한 셀을 반복해서 실행하면 숫자가 커지는 것을 보실 수 있습니다.\n",
    "- print는 내용을 출력하는 기본적인 함수입니다. 아래와 같이 쉼표(comma)를 이용해서 여러 내용을 출력할 수 있습니다."
   ]
  },
  {
   "cell_type": "code",
   "execution_count": null,
   "metadata": {},
   "outputs": [],
   "source": [
    "print(2020, \"봄학기\", \"미디어 인터페이스\")"
   ]
  },
  {
   "cell_type": "markdown",
   "metadata": {},
   "source": [
    "code 셀이라도 코드 앞에 #(hash)을 붙이면 실행하지 않는 주석(comment)이 됩니다. 코드 중간에 설명을 넣을 수 있습니다."
   ]
  },
  {
   "cell_type": "code",
   "execution_count": null,
   "metadata": {},
   "outputs": [],
   "source": [
    "# print(2020, \"봄학기\", \"미디어 인터페이스\")\n",
    "print(\"미디어 인터페이스\")"
   ]
  },
  {
   "cell_type": "markdown",
   "metadata": {},
   "source": [
    "### 변수\n",
    "\n",
    "메모리에 어떤 값(value)을 저장하기 위해 이름(name)을 붙인 공간을 변수라고 합니다. 변수 x, y에 각각 숫자 10, 7을 넣었습니다. \n",
    "\n",
    "#### ⓐ (1), (2), (3)을 순서대로 실행해 봅니다.\n",
    "(1)에서는 x, y를 메모리에 저장만 했을 뿐이므로 출력 결과가 없지만, (2)를 실행했을 때 4라는 출력을 볼 수 있습니다. (3)에서는 아직 a와 b에 값을 저장하지 않았으므로 'NameError: name 'a' is not defined'가 나옵니다.\n",
    "\n",
    "#### ⓑ Kernel - Restart & Clear Output으로 메모리를 초기화한 다음, (2)를 먼저 실행해 봅니다.\n",
    "주피터 노트북 상단의 Kernel 메뉴에서 Restart한 후에 (2)를 먼저 실행하면 'NameError: name 'x' is not defined'가 뜹니다. (3)의 에러와 같이, (2)에서 필요한 x, y라는 변수가 메모리에 저장되지 않았기 때문입니다.\n",
    "\n",
    "주피터 노트북에서는 셀의 실행 순서가 중요하며, 변수를 선언(메모리에 저장)하기 전에 변수를 실행한다면 NameError를 볼 수 있습니다. 앞으로의 수업에서 비슷한 에러를 발견한다면 셀을 실행한 순서를 되짚어 보시기 바랍니다."
   ]
  },
  {
   "cell_type": "code",
   "execution_count": null,
   "metadata": {},
   "outputs": [],
   "source": [
    "# (1) 변수 선언\n",
    "x = 10\n",
    "y = 6"
   ]
  },
  {
   "cell_type": "code",
   "execution_count": null,
   "metadata": {},
   "outputs": [],
   "source": [
    "# (2) 계산\n",
    "x - y"
   ]
  },
  {
   "cell_type": "code",
   "execution_count": null,
   "metadata": {},
   "outputs": [],
   "source": [
    "# (3) Error\n",
    "a + b"
   ]
  },
  {
   "cell_type": "markdown",
   "metadata": {},
   "source": [
    "### 버전 확인\n",
    "\n",
    "앞에 !(느낌표)를 붙이면 주피터 노트북은 명령 프롬트에서 입력한 것처럼 처리합니다. 이 기능을 이용하여 기본적으로 제공하지 않는 여러 시각화 패키지들을 설치할 수 있으며, 이번 시간에는 Python 3인지 버전을 확인하는 명령까지만 소개합니다."
   ]
  },
  {
   "cell_type": "code",
   "execution_count": null,
   "metadata": {},
   "outputs": [],
   "source": [
    "!python -V"
   ]
  },
  {
   "cell_type": "markdown",
   "metadata": {},
   "source": [
    "각자의 컴퓨터, colab 등 실행 환경에 따라 버전이 다를 수 있지만, 3.5 이상이면 대체로 크게 다르지 않습니다.\n",
    "\n",
    "이것으로 오리엔테이션을 마칩니다."
   ]
  }
 ],
 "metadata": {
  "kernelspec": {
   "display_name": "Python 3",
   "language": "python",
   "name": "python3"
  },
  "language_info": {
   "codemirror_mode": {
    "name": "ipython",
    "version": 3
   },
   "file_extension": ".py",
   "mimetype": "text/x-python",
   "name": "python",
   "nbconvert_exporter": "python",
   "pygments_lexer": "ipython3",
   "version": "3.7.3"
  }
 },
 "nbformat": 4,
 "nbformat_minor": 2
}
