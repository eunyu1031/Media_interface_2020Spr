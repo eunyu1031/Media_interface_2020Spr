{
 "cells": [
  {
   "cell_type": "markdown",
   "metadata": {
    "colab_type": "text",
    "id": "gdJRL0atdyWo"
   },
   "source": [
    "### 주피터 노트북/Google Colab 소개\n",
    "코드 또는 설명을 작성할 수 있는 칸을 셀(cell)이라고 합니다.\n",
    "\n",
    "주피터 노트북은 code, Markdown, Raw NBConvert를 제공하며 상단에서 확인할 수 있습니다.\n",
    "\n",
    "Colab은 코드와 텍스트 셀을 제공하며 상단에서 확인할 수 있습니다.\n",
    "\n",
    "- code 셀에서 __ctrl+enter__를 누르면 해당 셀의 코드를 실행할 수 있습니다.\n",
    "\n",
    "- code 셀에서 __shift+enter__를 누르면 해당 셀의 코드를 실행하고 다음 셀로 넘어갑니다."
   ]
  },
  {
   "cell_type": "code",
   "execution_count": 1,
   "metadata": {
    "colab": {},
    "colab_type": "code",
    "id": "bgZf9w_pdyWq"
   },
   "outputs": [
    {
     "name": "stdout",
     "output_type": "stream",
     "text": [
      "Hello world\n"
     ]
    }
   ],
   "source": [
    "print(\"Hello world\")"
   ]
  },
  {
   "cell_type": "markdown",
   "metadata": {
    "colab_type": "text",
    "id": "5sqSZ8AQdyWv"
   },
   "source": [
    "- 셀 바깥의 왼쪽에 [1], [2] 등으로 표시되는 숫자는 셀을 실행한 순서입니다. 한 셀을 반복해서 실행하면 숫자가 커지는 것을 보실 수 있습니다.\n",
    "- print는 내용을 출력하는 기본적인 함수입니다. 아래와 같이 쉼표(comma)를 이용해서 여러 내용을 출력할 수 있습니다."
   ]
  },
  {
   "cell_type": "code",
   "execution_count": 2,
   "metadata": {
    "colab": {},
    "colab_type": "code",
    "id": "hSmXLmQLdyWw"
   },
   "outputs": [
    {
     "name": "stdout",
     "output_type": "stream",
     "text": [
      "2020 봄학기 미디어 인터페이스\n"
     ]
    }
   ],
   "source": [
    "print(2020, \"봄학기\", \"미디어 인터페이스\")"
   ]
  },
  {
   "cell_type": "markdown",
   "metadata": {
    "colab_type": "text",
    "id": "MxPZvFbvdyWz"
   },
   "source": [
    "code 셀이라도 코드 앞에 #(hash)을 붙이면 실행하지 않는 주석(comment)이 됩니다. 파이썬은 #로 코드와 주석을 구분하며, 코드 중간에 설명을 넣을 때 많이 사용합니다."
   ]
  },
  {
   "cell_type": "code",
   "execution_count": 3,
   "metadata": {
    "colab": {},
    "colab_type": "code",
    "id": "CDYvzs-OdyW1"
   },
   "outputs": [
    {
     "name": "stdout",
     "output_type": "stream",
     "text": [
      "미디어 인터페이스\n"
     ]
    }
   ],
   "source": [
    "# print(2020, \"봄학기\", \"미디어 인터페이스\")\n",
    "print(\"미디어 인터페이스\")"
   ]
  },
  {
   "cell_type": "markdown",
   "metadata": {
    "colab_type": "text",
    "id": "KTl9XR3-dyW5"
   },
   "source": [
    "### 변수\n",
    "\n",
    "- 메모리에 어떤 값(value)을 저장하기 위해 이름(name)을 붙인 공간을 __변수__라고 합니다.\n",
    "- 숫자(number), 문자열(string), 논리(boolean) 등 여러 가지 __자료형(type)__을 저장할 수 있습니다.\n",
    "- 아래의 __'이름 = 값’__ 구조로 변수를 만들(정의할/선언할) 수 있습니다.\n",
    "- 셀을 실행하면 __메모리에 저장__되고, 프로그램을 종료하기 전까지 가져오거나 변경할 수 있습니다.\n",
    "\n",
    "<img src='https://github.com/eunyu1031/Media_interface_2020Spr/blob/master/pics/img1.png?raw=true'/>"
   ]
  },
  {
   "cell_type": "code",
   "execution_count": 4,
   "metadata": {
    "colab": {},
    "colab_type": "code",
    "id": "Iz4h1uMZdyW6"
   },
   "outputs": [
    {
     "name": "stdout",
     "output_type": "stream",
     "text": [
      "홍길동 20 False\n"
     ]
    }
   ],
   "source": [
    "myName = \"홍길동\"\n",
    "myAge = 20\n",
    "isFemale = False\n",
    "\n",
    "print(myName, myAge, isFemale)"
   ]
  },
  {
   "cell_type": "markdown",
   "metadata": {
    "colab_type": "text",
    "id": "pKIPMjCFdyW_"
   },
   "source": [
    "메모리에 저장된 숫자 변수 myAge를 원래 숫자에 1을 더해서 새로운 숫자로 바꾸어 저장해 봅시다. 새로운 숫자로 바꾸어 저장하기 때문에 '이름=값'구조로 다시 변수를 선언합니다.\n",
    "<img src='https://github.com/eunyu1031/Media_interface_2020Spr/blob/master/pics/image2.png?raw=true'/>\n",
    "다른 변수 myName, isFemale은 건드리지 않았기 때문에 출력 결과는 같습니다."
   ]
  },
  {
   "cell_type": "code",
   "execution_count": 5,
   "metadata": {
    "colab": {},
    "colab_type": "code",
    "id": "LEOREsINdyXA"
   },
   "outputs": [
    {
     "name": "stdout",
     "output_type": "stream",
     "text": [
      "홍길동 21 False\n"
     ]
    }
   ],
   "source": [
    "myAge = myAge + 1\n",
    "\n",
    "print(myName, myAge, isFemale)"
   ]
  },
  {
   "cell_type": "markdown",
   "metadata": {
    "colab_type": "text",
    "id": "r3Kn36ASdyXF"
   },
   "source": [
    "주피터 노트북에서는 셀을 실행하는 순서에 따라 메모리에 저장됩니다. 아래 예제로 살펴봅니다.<br>\n",
    "우선 셀 (1)에서 변수 x, y에 각각 숫자 10, 7을 넣었습니다. \n",
    "\n",
    "#### ⓐ (1), (2), (3)을 순서대로 실행해 봅니다.\n",
    "(1)에서는 x, y를 메모리에 저장만 했을 뿐이므로 출력 결과가 없지만, (2)를 실행했을 때 4라는 출력을 볼 수 있습니다. (3)에서는 아직 p와 q에 값을 저장하지 않았으므로 'NameError: name 'p' is not defined'가 나옵니다.\n",
    "\n",
    "#### ⓑ 메모리를 초기화한 다음, (2)를 먼저 실행해 봅니다.\n",
    "- Colab: 런타임 - 런타임 초기화 or 런타임 다시 시작\n",
    "- 주피터: Kernel - Restart & Clear Output\n",
    "\n",
    "상단의 메뉴에서 메모리를 초기화한 후에 (2)를 먼저 실행하면 'NameError: name 'x' is not defined'가 뜹니다. (3)의 에러와 같이, (2)에서 필요한 x, y라는 변수가 메모리에 저장되지 않았기 때문입니다.\n",
    "\n",
    "주피터 노트북에서는 셀의 실행 순서가 중요하며, 변수를 선언(메모리에 저장)하기 전에 변수를 실행한다면 NameError를 볼 수 있습니다. 앞으로의 수업에서 비슷한 에러를 발견한다면 셀을 실행한 순서를 되짚어 보시기 바랍니다."
   ]
  },
  {
   "cell_type": "code",
   "execution_count": 6,
   "metadata": {
    "colab": {},
    "colab_type": "code",
    "id": "Fo9oKcDndyXM"
   },
   "outputs": [],
   "source": [
    "# (1) 변수 선언; 변수이름 = 값\n",
    "x = 10\n",
    "y = 6"
   ]
  },
  {
   "cell_type": "code",
   "execution_count": 7,
   "metadata": {
    "colab": {},
    "colab_type": "code",
    "id": "fNINld1cdyXP"
   },
   "outputs": [
    {
     "data": {
      "text/plain": [
       "4"
      ]
     },
     "execution_count": 7,
     "metadata": {},
     "output_type": "execute_result"
    }
   ],
   "source": [
    "# (2) 계산\n",
    "x - y"
   ]
  },
  {
   "cell_type": "code",
   "execution_count": 8,
   "metadata": {
    "colab": {},
    "colab_type": "code",
    "id": "xBUF3nDsdyXU"
   },
   "outputs": [
    {
     "ename": "NameError",
     "evalue": "name 'p' is not defined",
     "output_type": "error",
     "traceback": [
      "\u001b[1;31m---------------------------------------------------------------------------\u001b[0m",
      "\u001b[1;31mNameError\u001b[0m                                 Traceback (most recent call last)",
      "\u001b[1;32m<ipython-input-8-44769fd3e0aa>\u001b[0m in \u001b[0;36m<module>\u001b[1;34m\u001b[0m\n\u001b[0;32m      1\u001b[0m \u001b[1;31m# (3) Error\u001b[0m\u001b[1;33m\u001b[0m\u001b[1;33m\u001b[0m\u001b[1;33m\u001b[0m\u001b[0m\n\u001b[1;32m----> 2\u001b[1;33m \u001b[0mp\u001b[0m \u001b[1;33m+\u001b[0m \u001b[0mq\u001b[0m\u001b[1;33m\u001b[0m\u001b[1;33m\u001b[0m\u001b[0m\n\u001b[0m",
      "\u001b[1;31mNameError\u001b[0m: name 'p' is not defined"
     ]
    }
   ],
   "source": [
    "# (3) Error\n",
    "p + q"
   ]
  },
  {
   "cell_type": "markdown",
   "metadata": {
    "colab_type": "text",
    "id": "_iKHU_dQdyXY"
   },
   "source": [
    "### 변수의 값 비교하기\n",
    "\n",
    "아래의 비교연산자를 활용해서 변수의 값을 비교할 수 있습니다. <br>\n",
    "다만 양 변의 값이 같은지 비교할 때 변수에 값을 할당하는 = (assignment operator)가 아닌 == (comparison operator)를 사용한다는 점에 주의합니다. \n",
    "\n",
    "비교한 결과는 True(참) 또는 False(거짓) 값을 가지는 논리 자료형(boolean)으로 확인할 수 있습니다."
   ]
  },
  {
   "cell_type": "markdown",
   "metadata": {
    "colab_type": "text",
    "id": "L-SQx5RudyXZ"
   },
   "source": [
    "<table>\n",
    "<thead>\n",
    "<tr>\n",
    "<th align=\"center\">비교연산자</th>\n",
    "<th align=\"center\">설명</th>\n",
    "<th align=\"center\">예</th>\n",
    "</tr>\n",
    "</thead>\n",
    "<tbody>\n",
    "<tr>\n",
    "<td align=\"center\">==</td>\n",
    "<td align=\"center\">값이 동일하다</td>\n",
    "<td align=\"center\">(a == b) → False</td>\n",
    "</tr>\n",
    "<tr>\n",
    "<td align=\"center\">!=</td>\n",
    "<td align=\"center\">값이 동일하지 않다</td>\n",
    "<td align=\"center\">(a != b) → True</td>\n",
    "</tr>\n",
    "<tr>\n",
    "<td align=\"center\">&gt;</td>\n",
    "<td align=\"center\">왼쪽 값이 오른쪽 값보다 크다</td>\n",
    "<td align=\"center\">(a &gt; b) → False</td>\n",
    "</tr>\n",
    "<tr>\n",
    "<td align=\"center\">&lt;</td>\n",
    "<td align=\"center\">왼쪽 값이 오른쪽 값보다 작다</td>\n",
    "<td align=\"center\">(a &lt; b) → True</td>\n",
    "</tr>\n",
    "<tr>\n",
    "<td align=\"center\">&gt;=</td>\n",
    "<td align=\"center\">왼쪽 값이 오른쪽 값보다 크거나 동일하다</td>\n",
    "<td align=\"center\">(a &gt;= b) → False</td>\n",
    "</tr>\n",
    "<tr>\n",
    "<td align=\"center\">&lt;=</td>\n",
    "<td align=\"center\">왼쪽 값이 오른쪽 값보다 작거나 동일하다</td>\n",
    "<td align=\"center\">(a &lt;= b) → True</td>\n",
    "</tr>\n",
    "</tbody>\n",
    "</table>"
   ]
  },
  {
   "cell_type": "code",
   "execution_count": 9,
   "metadata": {
    "colab": {},
    "colab_type": "code",
    "id": "wVFIqyF7dyXa"
   },
   "outputs": [
    {
     "name": "stdout",
     "output_type": "stream",
     "text": [
      "변수 a의 값 10 변수 b의 값 5\n"
     ]
    }
   ],
   "source": [
    "# 변수이름 = 값\n",
    "a = 10\n",
    "b = 5\n",
    "\n",
    "print('변수 a의 값', a, '변수 b의 값', b)"
   ]
  },
  {
   "cell_type": "code",
   "execution_count": 10,
   "metadata": {
    "colab": {},
    "colab_type": "code",
    "id": "7wrJ2YGvdyXd"
   },
   "outputs": [
    {
     "data": {
      "text/plain": [
       "False"
      ]
     },
     "execution_count": 10,
     "metadata": {},
     "output_type": "execute_result"
    }
   ],
   "source": [
    "a == b # a와 b가 같은가?"
   ]
  },
  {
   "cell_type": "code",
   "execution_count": 11,
   "metadata": {
    "colab": {},
    "colab_type": "code",
    "id": "52lw75NGdyXg"
   },
   "outputs": [
    {
     "data": {
      "text/plain": [
       "True"
      ]
     },
     "execution_count": 11,
     "metadata": {},
     "output_type": "execute_result"
    }
   ],
   "source": [
    "a != b # a와 b는 다른가?"
   ]
  },
  {
   "cell_type": "code",
   "execution_count": 12,
   "metadata": {
    "colab": {},
    "colab_type": "code",
    "id": "DmroLPEDdyXi"
   },
   "outputs": [
    {
     "data": {
      "text/plain": [
       "True"
      ]
     },
     "execution_count": 12,
     "metadata": {},
     "output_type": "execute_result"
    }
   ],
   "source": [
    "a > b # a는 b보다 큰가?"
   ]
  },
  {
   "cell_type": "code",
   "execution_count": 13,
   "metadata": {
    "colab": {},
    "colab_type": "code",
    "id": "Y2uTR2d2dyXm"
   },
   "outputs": [
    {
     "data": {
      "text/plain": [
       "False"
      ]
     },
     "execution_count": 13,
     "metadata": {},
     "output_type": "execute_result"
    }
   ],
   "source": [
    "a < b # a는 b보다 작은가?"
   ]
  },
  {
   "cell_type": "code",
   "execution_count": 14,
   "metadata": {
    "colab": {},
    "colab_type": "code",
    "id": "FxTIbfMfdyXt"
   },
   "outputs": [
    {
     "data": {
      "text/plain": [
       "True"
      ]
     },
     "execution_count": 14,
     "metadata": {},
     "output_type": "execute_result"
    }
   ],
   "source": [
    "a >= b"
   ]
  },
  {
   "cell_type": "code",
   "execution_count": 15,
   "metadata": {
    "colab": {},
    "colab_type": "code",
    "id": "etUez86idyXx"
   },
   "outputs": [
    {
     "data": {
      "text/plain": [
       "False"
      ]
     },
     "execution_count": 15,
     "metadata": {},
     "output_type": "execute_result"
    }
   ],
   "source": [
    "a <= b"
   ]
  },
  {
   "cell_type": "markdown",
   "metadata": {
    "colab_type": "text",
    "id": "Qm9mea2ZdyX1"
   },
   "source": [
    "### 문자열 만들기\n",
    "\n",
    "파이썬에서 문자열(string)을 입력하는 방식은 다음 네 가지가 있습니다. \n",
    "- mystr = \"string\"\n",
    "- mystr = 'string'\n",
    "- mystr = \"\"\"string\"\"\"\n",
    "- mystr = '''string'''"
   ]
  },
  {
   "cell_type": "code",
   "execution_count": 16,
   "metadata": {
    "colab": {},
    "colab_type": "code",
    "id": "ix-BUie1dyX2"
   },
   "outputs": [
    {
     "name": "stdout",
     "output_type": "stream",
     "text": [
      "Hello world\n"
     ]
    }
   ],
   "source": [
    "greeting = \"Hello world\" \n",
    "\n",
    "print(greeting)"
   ]
  },
  {
   "cell_type": "code",
   "execution_count": 17,
   "metadata": {
    "colab": {},
    "colab_type": "code",
    "id": "YfngoEkCdyX6"
   },
   "outputs": [
    {
     "name": "stdout",
     "output_type": "stream",
     "text": [
      "\"Python is easy\", he said\n"
     ]
    }
   ],
   "source": [
    "str2 = '\"Python is easy\", he said'\n",
    "\n",
    "print(str2)"
   ]
  },
  {
   "cell_type": "code",
   "execution_count": 18,
   "metadata": {
    "colab": {},
    "colab_type": "code",
    "id": "1F5IYnZRdyX-"
   },
   "outputs": [
    {
     "name": "stdout",
     "output_type": "stream",
     "text": [
      "Three \n",
      "single \n",
      "quotes\n"
     ]
    }
   ],
   "source": [
    "str3 = '''Three \n",
    "single \n",
    "quotes'''\n",
    "\n",
    "print(str3)"
   ]
  },
  {
   "cell_type": "code",
   "execution_count": 19,
   "metadata": {
    "colab": {},
    "colab_type": "code",
    "id": "gJQmUwbOdyYB"
   },
   "outputs": [
    {
     "name": "stdout",
     "output_type": "stream",
     "text": [
      "Three \n",
      "double \n",
      "quotes\n"
     ]
    }
   ],
   "source": [
    "str4 = \"\"\"Three \n",
    "double \n",
    "quotes\"\"\"\n",
    "\n",
    "print(str4)"
   ]
  },
  {
   "cell_type": "markdown",
   "metadata": {
    "colab_type": "text",
    "id": "ZbUIpaFkdyYE"
   },
   "source": [
    "따옴표로 둘러싸게 되면 숫자가 아니라 문자열이므로 헷갈리지 않도록 주의합니다. 문자열과 숫자는 셀에서 다른 색으로 표시되기 때문에 다른 자료형이라는 것을 쉽게 알아볼 수 있습니다. "
   ]
  },
  {
   "cell_type": "code",
   "execution_count": 20,
   "metadata": {
    "colab": {},
    "colab_type": "code",
    "id": "eAOnq9MqdyYF"
   },
   "outputs": [
    {
     "name": "stdout",
     "output_type": "stream",
     "text": [
      "132\n"
     ]
    }
   ],
   "source": [
    "isnum = \"132\"\n",
    "print(isnum)"
   ]
  },
  {
   "cell_type": "markdown",
   "metadata": {
    "colab_type": "text",
    "id": "U95oG3SvdyYJ"
   },
   "source": [
    "변수 'isnum'은 숫자가 아니라 문자열이며, 따라서 숫자 연산을 할 수 없습니다."
   ]
  },
  {
   "cell_type": "code",
   "execution_count": 21,
   "metadata": {
    "colab": {},
    "colab_type": "code",
    "id": "_mcLtxe4dyYP"
   },
   "outputs": [
    {
     "ename": "TypeError",
     "evalue": "can only concatenate str (not \"int\") to str",
     "output_type": "error",
     "traceback": [
      "\u001b[1;31m---------------------------------------------------------------------------\u001b[0m",
      "\u001b[1;31mTypeError\u001b[0m                                 Traceback (most recent call last)",
      "\u001b[1;32m<ipython-input-21-fe8141b0a084>\u001b[0m in \u001b[0;36m<module>\u001b[1;34m\u001b[0m\n\u001b[0;32m      1\u001b[0m \u001b[1;31m# Error\u001b[0m\u001b[1;33m\u001b[0m\u001b[1;33m\u001b[0m\u001b[1;33m\u001b[0m\u001b[0m\n\u001b[1;32m----> 2\u001b[1;33m \u001b[0misnum\u001b[0m \u001b[1;33m+\u001b[0m \u001b[1;36m1\u001b[0m\u001b[1;33m\u001b[0m\u001b[1;33m\u001b[0m\u001b[0m\n\u001b[0m",
      "\u001b[1;31mTypeError\u001b[0m: can only concatenate str (not \"int\") to str"
     ]
    }
   ],
   "source": [
    "# Error\n",
    "isnum + 1"
   ]
  },
  {
   "cell_type": "markdown",
   "metadata": {
    "colab_type": "text",
    "id": "EhesOn7udyYT"
   },
   "source": [
    "### 출력하기\n",
    "\n",
    "- print문을 사용해서 출력하는 것이 기본이지만, 노트북/colab은 따로 print를 하지 않아도 셀의 마지막 줄에 있는 변수의 값을 출력합니다.\n",
    "- 다만 하나의 셀에서 여러 변수의 값을 출력하고 싶으면 print를 사용하세요."
   ]
  },
  {
   "cell_type": "code",
   "execution_count": 22,
   "metadata": {
    "colab": {},
    "colab_type": "code",
    "id": "YdiB1mdydyYU"
   },
   "outputs": [
    {
     "data": {
      "text/plain": [
       "'Hello world'"
      ]
     },
     "execution_count": 22,
     "metadata": {},
     "output_type": "execute_result"
    }
   ],
   "source": [
    "greeting "
   ]
  },
  {
   "cell_type": "code",
   "execution_count": 23,
   "metadata": {
    "colab": {},
    "colab_type": "code",
    "id": "-dpMLjuKdyYX"
   },
   "outputs": [
    {
     "data": {
      "text/plain": [
       "'132'"
      ]
     },
     "execution_count": 23,
     "metadata": {},
     "output_type": "execute_result"
    }
   ],
   "source": [
    "isnum"
   ]
  },
  {
   "cell_type": "code",
   "execution_count": 24,
   "metadata": {
    "colab": {},
    "colab_type": "code",
    "id": "_x6atMSVdyYa"
   },
   "outputs": [
    {
     "data": {
      "text/plain": [
       "2"
      ]
     },
     "execution_count": 24,
     "metadata": {},
     "output_type": "execute_result"
    }
   ],
   "source": [
    "n = 1\n",
    "m = 2\n",
    "n\n",
    "m"
   ]
  },
  {
   "cell_type": "code",
   "execution_count": 25,
   "metadata": {
    "colab": {},
    "colab_type": "code",
    "id": "wEr-TCGTdyYe"
   },
   "outputs": [
    {
     "name": "stdout",
     "output_type": "stream",
     "text": [
      "1\n",
      "2\n"
     ]
    }
   ],
   "source": [
    "print(n)\n",
    "print(m)"
   ]
  },
  {
   "cell_type": "code",
   "execution_count": 26,
   "metadata": {
    "colab": {},
    "colab_type": "code",
    "id": "pHnysf2adyYi"
   },
   "outputs": [
    {
     "data": {
      "text/plain": [
       "False"
      ]
     },
     "execution_count": 26,
     "metadata": {},
     "output_type": "execute_result"
    }
   ],
   "source": [
    "n == m"
   ]
  },
  {
   "cell_type": "markdown",
   "metadata": {
    "colab_type": "text",
    "id": "UKET6McVdyYo"
   },
   "source": [
    "### 버전 확인\n",
    "\n",
    "앞에 !(느낌표)를 붙이면 주피터 노트북/Colab은 명령 프롬트에서 입력한 것처럼 처리합니다. 이 기능을 이용하여 기본적으로 제공하지 않는 여러 시각화 패키지들을 설치할 수 있으며, 이번 시간에는 Python 3인지 버전을 확인하는 명령까지만 소개합니다."
   ]
  },
  {
   "cell_type": "code",
   "execution_count": 27,
   "metadata": {
    "colab": {},
    "colab_type": "code",
    "id": "BHuLkO1_dyYp"
   },
   "outputs": [
    {
     "name": "stdout",
     "output_type": "stream",
     "text": [
      "Python 3.8.3\n"
     ]
    }
   ],
   "source": [
    "!python -V"
   ]
  },
  {
   "cell_type": "code",
   "execution_count": null,
   "metadata": {},
   "outputs": [],
   "source": []
  }
 ],
 "metadata": {
  "colab": {
   "collapsed_sections": [],
   "name": "week1_오리엔테이션.ipynb",
   "provenance": []
  },
  "kernelspec": {
   "display_name": "Python 3",
   "language": "python",
   "name": "python3"
  },
  "language_info": {
   "codemirror_mode": {
    "name": "ipython",
    "version": 3
   },
   "file_extension": ".py",
   "mimetype": "text/x-python",
   "name": "python",
   "nbconvert_exporter": "python",
   "pygments_lexer": "ipython3",
   "version": "3.8.3"
  }
 },
 "nbformat": 4,
 "nbformat_minor": 1
}
