{
 "cells": [
  {
   "cell_type": "markdown",
   "metadata": {},
   "source": [
    "# 중간고사 대체 과제\n",
    "#### Guide\n",
    "- 기간: 48시간\n",
    "- 비중: 30%\n",
    "- 파일형식: .ipynb\n",
    "- 결과만 간결하게 확인할 수 있게, 제출 전 사용하지 않는 코드는 정리해 주세요.\n",
    "- 아래 칸에 학번과 이름을 쓰시기 바랍니다.\n",
    "- Python 관련 공식 문서 및 여러 웹 자료를 활용하여 스스로 찾아 공부하는 요령을 익히는 것을 권장합니다.\n",
    "\n",
    "#### 0점 처리 기준\n",
    "- 5/13 23:59 이후에 제출한 경우\n",
    "- 코드가 동작하지 않는 경우(예:에러 메시지), 파일을 열 수 없는 경우\n",
    "- 타인과 코드를 공유하거나 대리로 진행한 경우"
   ]
  },
  {
   "cell_type": "markdown",
   "metadata": {},
   "source": [
    "학번:\n",
    "\n",
    "이름:"
   ]
  },
  {
   "cell_type": "markdown",
   "metadata": {},
   "source": [
    "## 데이터 설명\n",
    "파일 web_scraped_10-20.csv는 영화관 입장권 통합전산망에 공개된 2010부터 2020년 4월까지 각 연도별 박스오피스 top 50 영화 성적을 웹 스크래핑한 데이터입니다(2020/5/4기준).\n",
    "\n",
    "http://www.kobis.or.kr/kobis/business/stat/boxs/findYearlyBoxOfficeList.do\n",
    "\n",
    "파일의 가장 왼쪽 열에는 영화를 구분하는 식별자인 영화코드가 있으며, 나머지 열은 위 링크에서 조회할 수 있는 테이블 순서와 같이 순위, 영화명, ... 상영횟수로 구성됩니다.\n",
    "\n",
    "## 목표\n",
    "박스오피스 top 50 영화의 성적은 한국 개봉영화 시장의 추이를 살펴볼 수 있는 데이터입니다. 연도별로 부침은 있으나, top 50 리스트 영화의 매출이 시장 매출의 작게는 45%에서 크게는 78%, 2010년부터의 평균으로는 약 56%를 차지하고 있습니다. 이 데이터를 바탕으로 영화 시장 전반을 파악하고, COVID-19가 최근 한국 개봉영화 시장에 어떤 영향을 미쳤는지 시각화로 나타내고자 합니다.<br>\n",
    "\n",
    "문제는 아래 세 가지 과정으로 구성되었으며, 각 과정에서 요구하는 작업들을 진행하시면 됩니다. (1), (2)의 경우 작업을 마치고 __'결과'를 출력__하셔서 작업이 잘 마무리되었는지 스스로 확인하고 채점할 수 있게 두시면 됩니다. (3)에서도 문제에서 요구하는 데이터와 시각화를 출력하시면 됩니다.\n",
    "\n",
    "#### (1) 데이터 불러오기 (5점)\n",
    "\n",
    "#### (2) 처리할 데이터를 찾아서 수정하기 (20점)\n",
    "- 1. 3점\n",
    "- 2. (13점) 2-a. 2점, 2-b. 9점, 2-c. 2점\n",
    "- 3. 4점\n",
    "\n",
    "#### (3) 시각화 (20점)\n",
    "- 0. 2점\n",
    "- 1. (6점) 1-1. 2점, 1-2. 2점, 1-3. 2점\n",
    "- 2. (6점) 2-1. 2점, 2-2a. 2점, 2-2b. 2점\n",
    "- 3. (6점) 3-1. 3점, 3-2. 3점"
   ]
  },
  {
   "cell_type": "markdown",
   "metadata": {},
   "source": [
    "## (1) 데이터 불러오기\n",
    "- 파일: web_scraped_10-20.csv\n",
    "- 경로: https://raw.githubusercontent.com/eunyu1031/Media_interface_2020Spr/master/web_scraped_10-20.csv\n",
    "- 인코딩: utf-8\n",
    "- 헤더(header)에 주의 (week 4 실습자료 참고)\n",
    "- 각 열에 적절한 이름 붙이기 (week 2 실습자료 참고)\n",
    "<pre>결과: 첫 5행과 기본정보 보이기</pre>"
   ]
  },
  {
   "cell_type": "code",
   "execution_count": null,
   "metadata": {},
   "outputs": [],
   "source": []
  },
  {
   "cell_type": "markdown",
   "metadata": {},
   "source": [
    "## (2) 처리할 데이터를 찾아서 수정하기\n",
    "\n",
    "#### Guide\n",
    "반드시 순서를 따를 필요는 없으며, __어떤 작업을 진행했는지 주석 또는 마크다운으로 표시__만 해 주시면 됩니다. 필요한 경우 (3) 시각화에서 클리닝을 마친 데이터를 보실 수 있습니다.\n",
    "\n",
    "### 1. 문자열로 저장된 값을 정수/실수로 바꾸어 저장\n",
    "매출액, 매출액점유율, 관객수, 스크린수, 상영횟수 열의 자료형을 정수 또는 실수로 바꾸어 제대로 저장하세요.\n",
    "<pre>\n",
    "DataFrame.str.replace 또는 DataFrame.replace\n",
    "DataFrame.astype 또는 pd.to_numeric\n",
    "(필요하다면 DataFrame.apply & lambda 사용)\n",
    ".----------------------------------------\n",
    "결과: 기본정보 보이기\n",
    "</pre>\n",
    "\n",
    "### 2. 식별자인 영화코드로 중복을 찾아 최종 성적 계산 후 중복된 행 삭제\n",
    "총 21편의 영화가 중복되었고, 원인은 연도별 박스오피스 산정 방식에 있습니다. 해당 연도 안에서의 퍼포먼스만 합산하기 때문에, 연말에 개봉한 영화가 연초까지 흥행을 지속한 경우 각 연도별 성적으로만 순위를 매기게 됩니다. 예를 들어, '신과함께-죄와 벌'은 극장 상영시에 천만관객을 돌파하였으나, 이 데이터에서는 2017년과 2018년으로 나뉘어 저장되어 최종 성적을 보기 어렵습니다.\n",
    "<pre>\n",
    "a. 중복 확인하기\n",
    "duplicated() (week7 실습자료 참고)\n",
    "\n",
    "b. 중복된 영화의 최종 성적 계산\n",
    "방법 1: DataFrame.groupby() & sum() & pd.merge()\n",
    "방법 2: iloc 등을 활용한 수작업\n",
    "그 외\n",
    "\n",
    "c. 중복 지우기\n",
    "방법 1: DataFrame.drop_duplicates()\n",
    "방법 2: DataFrame.drop()\n",
    "방법 3: iloc 등을 활용한 수작업\n",
    "그 외\n",
    ".----------------------------------------\n",
    "결과: 기본정보 & duplicated() 로 529개의 값만 남고 중복이 나타나지 않았음을 보이기\n",
    "</pre>\n",
    "\n",
    "#### Before\n",
    "<table width=\"600\">\n",
    "  <thead>\n",
    "<tr>\n",
    "<td width=\"72\">영화코드</td>\n",
    "<td width=\"133\">영화명</td>\n",
    "<td width=\"142\">매출액</td>\n",
    "<td width=\"105\">관객수</td>\n",
    "<td width=\"72\">스크린수</td>\n",
    "<td width=\"72\">상영횟수</td>\n",
    "</tr>\n",
    "  </thead>\n",
    "  <tbody>\n",
    "<tr>\n",
    "<td>20150976</td>\n",
    "<td>신과함께-죄와 벌</td>\n",
    "<td>68350496432</td>\n",
    "<td>8539495</td>\n",
    "<td>1912</td>\n",
    "<td>91301</td>\n",
    "</tr>\n",
    "<tr>\n",
    "<td>20150976</td>\n",
    "<td>신과함께-죄와 벌</td>\n",
    "<td>47355583705</td>\n",
    "<td>5872007</td>\n",
    "<td>1644</td>\n",
    "<td>121961</td>\n",
    "</tr>\n",
    "</tbody>\n",
    "</table>\n",
    "\n",
    "#### After\n",
    "\n",
    "<table width=\"600\">\n",
    "  <thead>\n",
    "<tr>\n",
    "<td width=\"72\">영화코드</td>\n",
    "<td width=\"133\">영화명</td>\n",
    "<td width=\"142\">매출액</td>\n",
    "<td width=\"105\">관객수</td>\n",
    "<td width=\"72\">스크린수</td>\n",
    "<td width=\"72\">상영횟수</td>\n",
    "</tr>\n",
    "  </thead>\n",
    "  <tbody>\n",
    "<tr>\n",
    "<td>20150976</td>\n",
    "<td>신과함께-죄와 벌</td>\n",
    "<td>115706080137</td>\n",
    "<td>14411502</td>\n",
    "<td>3556</td>\n",
    "<td>213262</td>\n",
    "</tr>\n",
    "</tbody>\n",
    "</table>\n",
    "\n",
    "<p>\n",
    "    \n",
    "</p>\n",
    "\n",
    "### 3. YYYY-MM-DD 형태의 개봉연월일을, 연도와 월을 나누어 각각 다른 열에 저장\n",
    "<pre>\n",
    "방법 1: Series.str.replace - 숫자로 변환 - 연산자 // (week2 실습자료 참고)\n",
    "방법 2: Series.str.split - 숫자로 변환 (week3 실습자료 참고)\n",
    "방법 3: Series.str[indexing/slicing] - 숫자로 변환\n",
    "그 외\n",
    ".----------------------------------------\n",
    "결과: 기본정보 & 첫 5행 보이기\n",
    "</pre>\n",
    "#### 예시\n",
    "<table style=\"height: 97px;\" width=\"293\">\n",
    "<thead>\n",
    "<tr>\n",
    "<td style=\"width: 103.89px;\">개봉연월일</td>\n",
    "<td style=\"width: 84.34px;\">개봉연도</td>\n",
    "<td style=\"width: 82.77px;\">개봉월</td>\n",
    "</tr>\n",
    "  </thead>\n",
    " <tbody>\n",
    "<tr>\n",
    "<td style=\"width: 103.89px;\">2009-12-17</td>\n",
    "<td style=\"width: 84.34px;\">2009</td>\n",
    "<td style=\"width: 82.77px;\">12</td>\n",
    "</tr>\n",
    "<tr>\n",
    "<td style=\"width: 103.89px;\">2010-04-29</td>\n",
    "<td style=\"width: 84.34px;\">2010</td>\n",
    "<td style=\"width: 82.77px;\">4</td>\n",
    "</tr>\n",
    "</tbody>\n",
    "</table>"
   ]
  },
  {
   "cell_type": "markdown",
   "metadata": {},
   "source": [
    "## (2)-1"
   ]
  },
  {
   "cell_type": "code",
   "execution_count": null,
   "metadata": {},
   "outputs": [],
   "source": []
  },
  {
   "cell_type": "markdown",
   "metadata": {},
   "source": [
    "## (2)-2"
   ]
  },
  {
   "cell_type": "code",
   "execution_count": null,
   "metadata": {},
   "outputs": [],
   "source": []
  },
  {
   "cell_type": "markdown",
   "metadata": {},
   "source": [
    "## (2)-3"
   ]
  },
  {
   "cell_type": "code",
   "execution_count": null,
   "metadata": {},
   "outputs": [],
   "source": []
  },
  {
   "cell_type": "markdown",
   "metadata": {},
   "source": [
    "## (3) 시각화\n",
    "\n",
    "#### Guide\n",
    "상단의 (2) 과정을 거쳐 스스로 클리닝을 마친 데이터를 사용하는 것이 원칙입니다. 하지만 필요한 경우 시각화 부분의 문제에 집중해서 풀어갈 수 있게 데이터 'midterm_vis.csv'를 제공합니다.<br>\n",
    "클리닝 파트를 진행하지 않으면 시각화만 채점합니다.<br>\n",
    "\n",
    "- 파일: midterm_vis.csv \n",
    "- 경로: https://raw.githubusercontent.com/eunyu1031/Media_interface_2020Spr/master/data/midterm_vis.csv\n",
    "- 인코딩: utf-8\n",
    "\n",
    "### 0. 시각화 전 간단하게 살펴보기\n",
    "- 영화 '겨울왕국'의 모든 정보(행) 출력 (boolean indexing)\n",
    "- 관객 수가 천만이 넘은 영화의 <u>제목만</u> 출력(boolean indexing)\n",
    "- 기술통계 출력 후 상영횟수의 평균과 중앙값을 비교하여 알아낼 수 있는 점을 하단에 <u>한 문장</u>으로 기입\n",
    "- 스크린수가 가장 적었던 영화와 가장 많았던 영화를 출력해서 확인하고 하단에 영화의 제목을 기입"
   ]
  },
  {
   "cell_type": "markdown",
   "metadata": {},
   "source": [
    "기술통계로 알아볼 수 있는 것: \n",
    "\n",
    "가장 적었던 영화:        \n",
    "\n",
    "가장 많았던 영화:            "
   ]
  },
  {
   "cell_type": "markdown",
   "metadata": {},
   "source": [
    "### 1. 분포(distribution)\n",
    "#### 1-1. 529개 영화의 매출액은 어떤 분포를 그리는가? \n",
    "- 히스토그램: 모든 영화 매출액의 분포\n",
    "- bins = 100으로 바꾸어 보다 자세히 볼 것"
   ]
  },
  {
   "cell_type": "code",
   "execution_count": null,
   "metadata": {},
   "outputs": [],
   "source": []
  },
  {
   "cell_type": "markdown",
   "metadata": {},
   "source": [
    "#### 1-2. 영화는 1년 중 주로 언제 개봉하는가?\n",
    "- 히스토그램: 각 월별 개봉한 영화의 수\n",
    "- 2020년 데이터는 제외"
   ]
  },
  {
   "cell_type": "code",
   "execution_count": null,
   "metadata": {},
   "outputs": [],
   "source": []
  },
  {
   "cell_type": "markdown",
   "metadata": {},
   "source": [
    "#### 1-3. 관객은 언제 영화관을 많이 찾는가? \n",
    "- 박스 플롯: 각 월별 관객수 분포\n",
    "- 2020년 데이터는 제외\n",
    "- 적절한 제목(title)을 붙일 것"
   ]
  },
  {
   "cell_type": "code",
   "execution_count": null,
   "metadata": {},
   "outputs": [],
   "source": []
  },
  {
   "cell_type": "markdown",
   "metadata": {},
   "source": [
    "### 2. 순서/정렬/순위(order/sort/rank)\n",
    "#### 2-1. 한국 영화시장은 연도별로 성장하였는가?\n",
    "- 수평막대그래프: 각 연도별 매출액 합산 비교"
   ]
  },
  {
   "cell_type": "code",
   "execution_count": null,
   "metadata": {},
   "outputs": [],
   "source": []
  },
  {
   "cell_type": "markdown",
   "metadata": {},
   "source": [
    "#### 2-2. 한국 영화시장은 COVID-19로 인해 어느 정도로 타격을 입었는가?\n",
    "#### 2-2a. 2010년부터 한국 영화시장의 1~4월의 월별 매출은 어떠하였는가?\n",
    "- 수직막대그래프: 각 연도별&월별 매출액 합산 비교\n",
    "- 각 연도의 1월, 2월, 3월, 4월의 월별 매출액을 각각 나타내기\n",
    "- 각 월을 구분하는 적절한 범례를 붙일 것 \n",
    "- 기본 색상/팔레트가 아닌 다른 색상/팔레트로 바꿀 것"
   ]
  },
  {
   "cell_type": "code",
   "execution_count": null,
   "metadata": {},
   "outputs": [],
   "source": []
  },
  {
   "cell_type": "markdown",
   "metadata": {},
   "source": [
    "#### 2-2b. 사회적 거리두기를 본격화한 2020년 4월 매출은 다른 연도와 얼마나 차이가 나는가? \n",
    "- 수평막대그래프: 각 연도별 매출액 합산 비교<br>\n",
    "- 각 연도의 4월만 비교\n",
    "- 적절한 제목을 붙일 것"
   ]
  },
  {
   "cell_type": "code",
   "execution_count": null,
   "metadata": {},
   "outputs": [],
   "source": []
  },
  {
   "cell_type": "markdown",
   "metadata": {},
   "source": [
    "### 3. 구성(composition)\n",
    "#### 3-1. 천만영화가 시장 전반을 견인했을까?\n",
    "- (a)100% 누적 수직막대그래프 & (b)누적막대그래프\n",
    "- (a)는 관객수의 상대적인 수치(%)를, (b)는 관객수의 절대적인 수치를 표시\n",
    "- (a)의 경우 100(%)를 먼저 그리고, sum(천만관객 돌파 영화들의 관객수)*100/sum(top50영화 전체 관객수)를 나중에 그릴 것\n",
    "- 두 그래프를 하나의 평면에 나란히 그릴 것\n",
    "- 천만영화가 있는 2012~2019 데이터만 포함\n",
    "- 두 그래프 모두에 모든 영화의 관객수와 천만관객 돌파 영화의 관객수를 구분하는 적절한 범례를 붙일 것\n",
    "- 두 그래프 모두에 적절한 제목/x축 라벨/y축 라벨을 붙일 것\n",
    "- 천만 영화와 그렇지 않은 영화는 하단의 pd.cut 함수로 새로운 열을 만들어 구분하며, 천만 영화인 경우가 1인 이진형 변수로 표현\n"
   ]
  },
  {
   "cell_type": "code",
   "execution_count": null,
   "metadata": {},
   "outputs": [],
   "source": [
    "your_df['your_10_million_variable'] = pd.cut(your_df['your_audience_variable'], [0, 9999999, 20000000], labels = [0, 1])"
   ]
  },
  {
   "cell_type": "code",
   "execution_count": null,
   "metadata": {},
   "outputs": [],
   "source": []
  },
  {
   "cell_type": "markdown",
   "metadata": {},
   "source": [
    "#### 3-2. 2019년 동월 대비 2020년 1~4월 관객은 얼마나 감소하였는가?\n",
    "- 기울기 차트\n",
    "- 2019년과 2020년 1~4월 자료만 사용\n",
    "- seaborn.pointplot으로 그리되, 백분율 계산 시 분모가 2019년 1월~4월로 계속 바뀌어야 하므로 월별로 그려야 한다는 점에 주의\n",
    "- 네 개의 월별 기울기 차트를 각각 색으로 구분하여 범례를 붙일 것\n",
    "- 적절한 제목/x축 라벨/y축 라벨을 붙일 것"
   ]
  },
  {
   "cell_type": "code",
   "execution_count": null,
   "metadata": {},
   "outputs": [],
   "source": [
    "fig, ax = plt.subplots(figsize = (5, 5))\n",
    "\n",
    "sns.pointplot(x ='your_release_year_variable', \n",
    "              y = 'your_audience_variable',\n",
    "              data = ,\n",
    "             estimator = ,\n",
    "             ax = , \n",
    "              ci = ,\n",
    "             color = )\n",
    "\n",
    "# ax.legend(labels = ['1월', '2월', '3월', '4월'])\n",
    "plt.show()"
   ]
  },
  {
   "cell_type": "markdown",
   "metadata": {},
   "source": [
    "<img src='https://github.com/eunyu1031/Media_interface_2020Spr/blob/master/pics/slope.png?raw=true'/>"
   ]
  }
 ],
 "metadata": {
  "kernelspec": {
   "display_name": "Python 3",
   "language": "python",
   "name": "python3"
  },
  "language_info": {
   "codemirror_mode": {
    "name": "ipython",
    "version": 3
   },
   "file_extension": ".py",
   "mimetype": "text/x-python",
   "name": "python",
   "nbconvert_exporter": "python",
   "pygments_lexer": "ipython3",
   "version": "3.8.3"
  }
 },
 "nbformat": 4,
 "nbformat_minor": 2
}
