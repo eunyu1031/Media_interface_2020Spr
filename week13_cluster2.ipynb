{
 "cells": [
  {
   "cell_type": "markdown",
   "metadata": {},
   "source": [
    "#### 복습\n",
    "- attribute\n",
    "- KMeans.fit_predict\n",
    "\n",
    "#### K-means clustering: 클러스터의 개수 결정\n",
    "- 팔꿈치 방법(elbow method)\n",
    "\n",
    "#### 예제: Mall customer\n",
    "- 연습문제\n",
    "\n",
    "#### 예제: Facebook Live Sellers in Thailand Data Set\n",
    "- 연습문제\n",
    "\n",
    "#### 참고\n",
    "- 사이킷런의 KMeans 함수 구성\n",
    "- k-means clustering의 장단점과 한계"
   ]
  },
  {
   "cell_type": "code",
   "execution_count": 1,
   "metadata": {},
   "outputs": [],
   "source": [
    "from pandas import Series, DataFrame \n",
    "import pandas as pd\n",
    "import numpy as np\n",
    "import matplotlib\n",
    "import matplotlib.pyplot as plt\n",
    "import seaborn as sns\n",
    "\n",
    "%matplotlib inline "
   ]
  },
  {
   "cell_type": "code",
   "execution_count": 2,
   "metadata": {},
   "outputs": [],
   "source": [
    "import platform\n",
    "from matplotlib import font_manager, rc\n",
    "import matplotlib.pyplot as plt\n",
    "plt.rcParams['axes.unicode_minus'] = False\n",
    "\n",
    "if platform.system() == 'Darwin':\n",
    "    rc('font', family = 'AppleGothic')\n",
    "elif platform.system() == 'Windows': \n",
    "    path = 'c:\\Windows\\Fonts\\malgun.ttf'\n",
    "    font_name = font_manager.FontProperties(fname = path).get_name()\n",
    "    rc('font', family = font_name)\n",
    "elif platform.system() == \"Linux\":\n",
    "    !apt -qq -y install fonts-nanum\n",
    "    fontpath = '/usr/share/fonts/truetype/nanum/NanumBarunGothic.ttf'\n",
    "    font = font_manager.FontProperties(fname=fontpath, size=9)\n",
    "    rc('font', family='NanumBarunGothic') \n",
    "    font_manager._rebuild()\n",
    "else:\n",
    "    print(\"unknown system\")"
   ]
  },
  {
   "cell_type": "markdown",
   "metadata": {},
   "source": [
    "사이킷런(Scikit-learn)이 numpy를 기반으로 하기 때문에, numpy에서 제공하는 다차원 행렬 자료 구조인 ndarray를 잠시 살펴봅니다."
   ]
  },
  {
   "cell_type": "code",
   "execution_count": 3,
   "metadata": {},
   "outputs": [
    {
     "data": {
      "text/plain": [
       "numpy.ndarray"
      ]
     },
     "execution_count": 3,
     "metadata": {},
     "output_type": "execute_result"
    }
   ],
   "source": [
    "test = np.array([[1, 2, 3], [4, 5, 6]])\n",
    "type(test)"
   ]
  },
  {
   "cell_type": "markdown",
   "metadata": {},
   "source": [
    "Pandas의 DataFrame과 비슷하다고 생각할 수 있지만, numpy.ndarray는 모든 아이템이 같은 자료형이어야 합니다. 대신에 계산에 활용하는 경우 속도가 더 빠릅니다."
   ]
  },
  {
   "cell_type": "code",
   "execution_count": 4,
   "metadata": {},
   "outputs": [
    {
     "data": {
      "text/plain": [
       "array([[1, 2, 3],\n",
       "       [4, 5, 6]])"
      ]
     },
     "execution_count": 4,
     "metadata": {},
     "output_type": "execute_result"
    }
   ],
   "source": [
    "test"
   ]
  },
  {
   "cell_type": "markdown",
   "metadata": {},
   "source": [
    "인덱싱과 슬라이싱은 변수[행, 열] 순으로 가능합니다."
   ]
  },
  {
   "cell_type": "code",
   "execution_count": 5,
   "metadata": {},
   "outputs": [
    {
     "name": "stdout",
     "output_type": "stream",
     "text": [
      "6 [1 2 3] [1 4]\n"
     ]
    }
   ],
   "source": [
    "print(test[1, 2], test[0, :], test[:, 0])"
   ]
  },
  {
   "cell_type": "markdown",
   "metadata": {},
   "source": [
    "## 복습\n",
    "12주차에 진행했던 임의로 생성한 예제 데이터를 살펴봅시다."
   ]
  },
  {
   "cell_type": "code",
   "execution_count": 6,
   "metadata": {},
   "outputs": [],
   "source": [
    "from sklearn.datasets import make_blobs\n",
    "\n",
    "# 인위적으로 2차원 데이터 생성\n",
    "X1, y1 = make_blobs(n_samples = 300, n_features = 2, random_state = 0)"
   ]
  },
  {
   "cell_type": "code",
   "execution_count": 8,
   "metadata": {},
   "outputs": [],
   "source": [
    "X1"
   ]
  },
  {
   "cell_type": "code",
   "execution_count": 9,
   "metadata": {},
   "outputs": [
    {
     "data": {
      "text/plain": [
       "numpy.ndarray"
      ]
     },
     "execution_count": 9,
     "metadata": {},
     "output_type": "execute_result"
    }
   ],
   "source": [
    "type(X1)"
   ]
  },
  {
   "cell_type": "markdown",
   "metadata": {},
   "source": [
    "make_blobs의 결과로 생성된 데이터는 numpy.ndarray로, 각각의 열을 산점도의 x값과 y값으로 아래와 같이 슬라이싱으로 가져와서 그릴 수 있습니다."
   ]
  },
  {
   "cell_type": "code",
   "execution_count": 10,
   "metadata": {
    "scrolled": true
   },
   "outputs": [
    {
     "data": {
      "image/png": "[encoded data removed]",
      "text/plain": [
       "<Figure size 432x288 with 1 Axes>"
      ]
     },
     "metadata": {
      "needs_background": "light"
     },
     "output_type": "display_data"
    }
   ],
   "source": [
    "fig, ax = plt.subplots()\n",
    "\n",
    "ax.scatter(X1[:, 0],X1[:, 1], alpha = 0.5)\n",
    "\n",
    "plt.show()"
   ]
  },
  {
   "cell_type": "markdown",
   "metadata": {},
   "source": [
    "사이킷런에서 K-means모델을 만들어 봅시다."
   ]
  },
  {
   "cell_type": "code",
   "execution_count": 11,
   "metadata": {},
   "outputs": [
    {
     "data": {
      "text/plain": [
       "array([4, 2, 0, 1, 1, 1, 3, 4, 1, 4, 3, 2, 2, 0, 2, 1, 0, 0, 4, 2, 1, 0,\n",
       "       2, 4, 1, 1, 3, 1, 2, 2, 3, 4, 3, 2, 2, 1, 2, 3, 4, 3, 1, 2, 4, 2,\n",
       "       2, 1, 2, 1, 4, 2, 1, 0, 1, 3, 2, 4, 4, 4, 1, 0, 2, 2, 4, 1, 2, 1,\n",
       "       3, 2, 4, 2, 3, 4, 1, 3, 2, 0, 2, 1, 4, 0, 1, 0, 2, 4, 4, 0, 2, 1,\n",
       "       0, 4, 3, 2, 1, 0, 2, 2, 4, 3, 1, 3, 2, 4, 0, 2, 0, 0, 1, 0, 3, 2,\n",
       "       4, 1, 0, 0, 1, 1, 4, 0, 3, 2, 3, 1, 3, 2, 2, 1, 2, 2, 2, 1, 1, 1,\n",
       "       3, 1, 1, 2, 1, 4, 4, 1, 2, 4, 2, 3, 3, 1, 4, 4, 3, 2, 3, 1, 4, 2,\n",
       "       1, 1, 2, 2, 4, 2, 4, 0, 2, 4, 4, 0, 0, 0, 3, 1, 2, 0, 4, 2, 3, 2,\n",
       "       4, 2, 4, 0, 2, 3, 0, 0, 0, 3, 2, 3, 4, 3, 0, 0, 2, 2, 1, 0, 2, 1,\n",
       "       0, 1, 2, 1, 0, 1, 2, 4, 4, 1, 4, 2, 0, 4, 1, 2, 3, 3, 3, 4, 3, 2,\n",
       "       3, 3, 2, 2, 0, 1, 1, 4, 0, 3, 4, 2, 2, 4, 2, 1, 1, 3, 3, 4, 2, 1,\n",
       "       1, 4, 1, 2, 4, 1, 0, 2, 2, 0, 3, 3, 1, 4, 3, 3, 0, 0, 1, 0, 3, 1,\n",
       "       4, 1, 4, 2, 2, 2, 2, 0, 0, 4, 0, 0, 1, 1, 2, 0, 0, 2, 2, 2, 1, 2,\n",
       "       1, 1, 2, 2, 1, 3, 4, 2, 0, 4, 4, 2, 4, 3])"
      ]
     },
     "execution_count": 11,
     "metadata": {},
     "output_type": "execute_result"
    }
   ],
   "source": [
    "from sklearn.cluster import KMeans\n",
    "\n",
    "# 군집 모델 생성\n",
    "km5 = KMeans(n_clusters = 5)\n",
    "km5.fit(X1)\n",
    "km5.predict(X1)"
   ]
  },
  {
   "cell_type": "markdown",
   "metadata": {},
   "source": [
    "#### attribute\n",
    "피팅(fit)하면 5개의 클러스터를 찾는 k-means clustering 모델 km5가 X1이라는 데이터에 맞추어 학습하여 클러스터 중심을 찾고, cluster center를 비롯한 여러 attribute를 가지게 됩니다.\n",
    "\n",
    "- cluster_centers_ 클러스터 중심의 좌표\n",
    "- labels_ 데이터 X1의 각 행(관측치)가 속하는 클러스터. 정수는 클러스터를 구분하기 위한 목적이며 순서는 의미가 없다.\n",
    "- inertia_ 각 클러스터 중심과 클러스터 내의 데이터 포인트(관측치) 사이의 거리제곱합(오차제곱합; sum of squared error)\n",
    "- n_iter_ 클러스터 중심을 찾기 위해 반복한 횟수"
   ]
  },
  {
   "cell_type": "code",
   "execution_count": 12,
   "metadata": {
    "scrolled": true
   },
   "outputs": [
    {
     "name": "stdout",
     "output_type": "stream",
     "text": [
      "[[ 1.76025659  4.51105826]\n",
      " [-2.20179648  2.6812699 ]\n",
      " [ 2.14609233  0.61126669]\n",
      " [ 0.15446455  2.11088486]\n",
      " [-0.13385502  4.58200109]]\n",
      "[4 2 0 1 1 1 3 4 1 4 3 2 2 0 2 1 0 0 4 2 1 0 2 4 1 1 3 1 2 2 3 4 3 2 2 1 2\n",
      " 3 4 3 1 2 4 2 2 1 2 1 4 2 1 0 1 3 2 4 4 4 1 0 2 2 4 1 2 1 3 2 4 2 3 4 1 3\n",
      " 2 0 2 1 4 0 1 0 2 4 4 0 2 1 0 4 3 2 1 0 2 2 4 3 1 3 2 4 0 2 0 0 1 0 3 2 4\n",
      " 1 0 0 1 1 4 0 3 2 3 1 3 2 2 1 2 2 2 1 1 1 3 1 1 2 1 4 4 1 2 4 2 3 3 1 4 4\n",
      " 3 2 3 1 4 2 1 1 2 2 4 2 4 0 2 4 4 0 0 0 3 1 2 0 4 2 3 2 4 2 4 0 2 3 0 0 0\n",
      " 3 2 3 4 3 0 0 2 2 1 0 2 1 0 1 2 1 0 1 2 4 4 1 4 2 0 4 1 2 3 3 3 4 3 2 3 3\n",
      " 2 2 0 1 1 4 0 3 4 2 2 4 2 1 1 3 3 4 2 1 1 4 1 2 4 1 0 2 2 0 3 3 1 4 3 3 0\n",
      " 0 1 0 3 1 4 1 4 2 2 2 2 0 0 4 0 0 1 1 2 0 0 2 2 2 1 2 1 1 2 2 1 3 4 2 0 4\n",
      " 4 2 4 3]\n",
      "372.00000179867004\n",
      "5\n"
     ]
    }
   ],
   "source": [
    "print(km5.cluster_centers_)\n",
    "print(km5.labels_)\n",
    "print(km5.inertia_)\n",
    "print(km5.n_iter_)"
   ]
  },
  {
   "cell_type": "markdown",
   "metadata": {},
   "source": [
    "#### KMeans.fit_predict\n",
    "5개의 클러스터를 찾는 k-means clustering 모델 km5를 만들고, 데이터 X1에 따라 학습하여 클러스터 중심 위치를 찾습니다(fit). 만약 새로운 데이터가 들어온다면 기존 데이터 X1에서 지정한 클러스터 중심 위치에 따라, 새로운 데이터가 어느 클러스터에 속하는지 predict로 예측해 볼 수 있을 겁니다. 사이킷런에서 제공하는 다른 머신러닝 알고리즘은 모델을 학습시키고 새로운 데이터에 적용하는 과정을 거치기 때문에 fit/predict를 구분합니다.<br>\n",
    "하지만, 클러스터링은 기본적으로 예측하기보다는 이미 가지고 있는 데이터를 이해하기 위해 주로 사용하는 방법론이기 때문에 fit과 predict를 나누지 않고 한번에 진행합니다. \n",
    "\n",
    "fit_predict의 결과는 predict와 같이 각 관측치가 속하는 클러스터입니다."
   ]
  },
  {
   "cell_type": "code",
   "execution_count": 14,
   "metadata": {
    "scrolled": false
   },
   "outputs": [
    {
     "name": "stdout",
     "output_type": "stream",
     "text": [
      "Help on function fit_predict in module sklearn.cluster._kmeans:\n",
      "\n",
      "fit_predict(self, X, y=None, sample_weight=None)\n",
      "    Compute cluster centers and predict cluster index for each sample.\n",
      "    \n",
      "    Convenience method; equivalent to calling fit(X) followed by\n",
      "    predict(X).\n",
      "    \n",
      "    Parameters\n",
      "    ----------\n",
      "    X : {array-like, sparse matrix} of shape (n_samples, n_features)\n",
      "        New data to transform.\n",
      "    \n",
      "    y : Ignored\n",
      "        Not used, present here for API consistency by convention.\n",
      "    \n",
      "    sample_weight : array-like of shape (n_samples,), default=None\n",
      "        The weights for each observation in X. If None, all observations\n",
      "        are assigned equal weight.\n",
      "    \n",
      "    Returns\n",
      "    -------\n",
      "    labels : ndarray of shape (n_samples,)\n",
      "        Index of the cluster each sample belongs to.\n",
      "\n"
     ]
    }
   ],
   "source": [
    "help(KMeans.fit_predict)"
   ]
  },
  {
   "cell_type": "code",
   "execution_count": 13,
   "metadata": {},
   "outputs": [
    {
     "name": "stdout",
     "output_type": "stream",
     "text": [
      "[2 3 4 1 1 1 0 2 1 2 0 3 3 4 3 1 4 4 2 3 1 4 3 2 1 1 0 1 3 3 0 2 0 3 3 1 3\n",
      " 0 2 0 1 3 2 3 3 1 3 1 2 3 1 4 1 0 3 2 2 2 1 4 3 3 2 1 3 1 0 3 2 3 0 2 1 0\n",
      " 3 4 3 1 2 4 1 4 3 2 2 4 3 1 4 2 0 3 1 4 3 3 2 0 1 0 3 2 4 3 4 4 1 4 0 3 2\n",
      " 1 4 4 1 1 2 4 0 3 0 1 0 3 3 1 3 3 3 1 1 1 0 1 1 3 1 2 2 1 3 2 3 0 0 1 2 2\n",
      " 0 3 0 1 2 3 1 1 3 3 2 3 2 4 3 2 2 4 4 4 0 1 3 4 2 3 0 3 2 3 2 4 3 0 4 4 4\n",
      " 0 3 0 2 0 4 4 3 3 1 4 3 1 4 1 3 1 4 1 3 2 2 1 2 3 4 2 1 3 0 0 0 2 0 3 0 0\n",
      " 3 3 4 1 1 2 4 0 2 3 3 2 3 1 1 0 0 2 3 1 1 2 1 3 2 1 4 3 3 4 0 0 1 2 0 0 4\n",
      " 4 1 4 0 1 2 1 2 3 3 3 3 4 4 2 4 4 1 1 3 4 4 3 3 3 1 3 1 1 3 3 1 0 2 3 4 2\n",
      " 2 3 2 0]\n"
     ]
    }
   ],
   "source": [
    "X1_c5 = km5.fit_predict(X1)\n",
    "print(X1_c5)"
   ]
  },
  {
   "cell_type": "markdown",
   "metadata": {},
   "source": [
    "5개의 클러스터를 찾는 k-means clustering 모델 km5을 데이터 X1으로 fit&predict하여 나온 결과를 산점도로 시각화해봅시다."
   ]
  },
  {
   "cell_type": "code",
   "execution_count": 15,
   "metadata": {
    "scrolled": true
   },
   "outputs": [
    {
     "data": {
      "image/png": "[encoded data removed]",
      "text/plain": [
       "<Figure size 432x288 with 1 Axes>"
      ]
     },
     "metadata": {
      "needs_background": "light"
     },
     "output_type": "display_data"
    }
   ],
   "source": [
    "fig, ax = plt.subplots()\n",
    "\n",
    "# 전체 데이터\n",
    "ax.scatter(X1[:, 0],X1[:, 1], \n",
    "           c = X1_c5, \n",
    "           alpha = 0.5)\n",
    "\n",
    "# 클러스터 중심\n",
    "ax.scatter(km5.cluster_centers_[:, 0], km5.cluster_centers_[:, 1], \n",
    "           s = 50,\n",
    "           marker = 'D',\n",
    "           c='r')\n",
    "\n",
    "plt.show()"
   ]
  },
  {
   "cell_type": "markdown",
   "metadata": {},
   "source": [
    "모델을 다른 데이터를 사용해서 학습시키면 다른 결과를 얻을 수 있습니다. 5개의 클러스터를 찾는 k-means clustering 모델 km5에 다른 데이터 X2를 넣어봅니다."
   ]
  },
  {
   "cell_type": "code",
   "execution_count": 16,
   "metadata": {},
   "outputs": [],
   "source": [
    "X2, y2 = make_blobs(n_samples = 150, n_features = 2, random_state = 5)"
   ]
  },
  {
   "cell_type": "code",
   "execution_count": 17,
   "metadata": {},
   "outputs": [
    {
     "name": "stdout",
     "output_type": "stream",
     "text": [
      "[3 1 4 2 4 3 0 1 0 2 1 4 1 1 0 2 2 4 2 2 0 0 0 0 0 0 3 2 2 1 2 3 2 2 0 3 1\n",
      " 2 1 0 2 3 2 1 0 3 1 0 3 2 0 0 1 1 2 3 2 2 1 0 2 2 4 3 1 3 2 4 1 2 0 3 3 4\n",
      " 1 0 0 2 2 2 2 2 2 1 4 1 1 1 0 1 2 0 1 2 1 2 3 3 0 4 1 1 2 1 4 3 1 3 0 3 4\n",
      " 0 0 1 1 3 0 1 0 2 1 1 2 3 0 1 0 4 4 0 2 2 4 2 0 1 4 4 1 1 3 2 0 1 0 0 3 3\n",
      " 1 2]\n"
     ]
    }
   ],
   "source": [
    "X2_c5 = km5.fit_predict(X2)\n",
    "print(X2_c5)"
   ]
  },
  {
   "cell_type": "markdown",
   "metadata": {},
   "source": [
    "5개의 클러스터를 찾는 k-means clustering 모델에 다른 데이터를 넣었기 때문에 다른 결과가 나왔습니다."
   ]
  },
  {
   "cell_type": "code",
   "execution_count": 18,
   "metadata": {},
   "outputs": [
    {
     "data": {
      "image/png": "[encoded data removed]",
      "text/plain": [
       "<Figure size 432x288 with 1 Axes>"
      ]
     },
     "metadata": {
      "needs_background": "light"
     },
     "output_type": "display_data"
    }
   ],
   "source": [
    "fig, ax = plt.subplots()\n",
    "\n",
    "ax.scatter(X2[:, 0],X2[:, 1],\n",
    "           c = X2_c5, \n",
    "           alpha = 0.5)\n",
    "\n",
    "ax.scatter(km5.cluster_centers_[:, 0], km5.cluster_centers_[:, 1],\n",
    "           s = 50,\n",
    "           marker = 'D',\n",
    "           c='r')\n",
    "\n",
    "plt.show()"
   ]
  },
  {
   "cell_type": "markdown",
   "metadata": {},
   "source": [
    "## K-means clustering: 클러스터의 개수 결정\n",
    "\n",
    "최적의 클러스터 개수를 찾는 표준화된 방법은 없습니다.<br>\n",
    "다만, 클러스터의 개수가 데이터가 흩어진 정도(분산)를 얼마나 __설명__하는지에 따라 참고해 볼 수 있는 팔꿈치 방법(elbow method)를 소개합니다.\n",
    "\n",
    "### 팔꿈치 방법(elbow method)\n",
    "- 클러스터를 추가할수록 각 클러스터의 데이터 포인트와 클러스터 중심의 거리 제곱합(오차제곱합; sum of squared error)가 점점 감소\n",
    "- 클러스터를 더 추가할수록 감소폭이 줄어들기 때문에 그래프상에서 평평하게 되는 지점이 있으며, 이러한 성질 때문에 팔꿈치라는 이름이 붙음\n",
    "- 팔꿈치가 꺾이는 지점을 참고"
   ]
  },
  {
   "cell_type": "markdown",
   "metadata": {},
   "source": [
    "#### 오차제곱합\n",
    "\n",
    "모델을 원하는 데이터에 맞추어 피팅한 후 inertia_에서 각 클러스터의 데이터 포인트와 클러스터 중심의 거리 제곱합(오차제곱합; sum of squared error)을 가져올 수 있습니다. 클러스터 수가 1개부터 6개까지 여섯 개의 모델에 대해 클러스터링을 진행하고 오차제곱합을 계산합니다.\n",
    "\n",
    "<img src = \"https://github.com/eunyu1031/Media_interface_2020Spr/blob/master/pics/sse.png?raw=true\"/>\n",
    "\n",
    "아래 코드에서 sse라는 빈 리스트 변수를 우선 정의했고, 리스트에 아이템을 하나씩 더하는 append 메서드를 이용하여 각 모델의 오차제곱합을 저장합니다."
   ]
  },
  {
   "cell_type": "code",
   "execution_count": 19,
   "metadata": {},
   "outputs": [
    {
     "name": "stdout",
     "output_type": "stream",
     "text": [
      "[1924.5475160226385, 1010.0503990300524, 536.4262880292933, 448.2008702800523, 372.00000179867004, 316.86088913393417]\n"
     ]
    }
   ],
   "source": [
    "sse = []\n",
    "\n",
    "km1 = KMeans(n_clusters = 1)\n",
    "km1.fit_predict(X1)\n",
    "sse.append(km1.inertia_)\n",
    "\n",
    "km2 = KMeans(n_clusters = 2)\n",
    "km2.fit_predict(X1)\n",
    "sse.append(km2.inertia_)\n",
    "\n",
    "km3 = KMeans(n_clusters = 3)\n",
    "km3.fit_predict(X1)\n",
    "sse.append(km3.inertia_)\n",
    "# print(sse)\n",
    "\n",
    "km4 = KMeans(n_clusters = 4)\n",
    "km4.fit_predict(X1)\n",
    "sse.append(km4.inertia_)\n",
    "\n",
    "km5 = KMeans(n_clusters = 5)\n",
    "km5.fit_predict(X1)\n",
    "sse.append(km5.inertia_)\n",
    "\n",
    "km6 = KMeans(n_clusters = 6)\n",
    "km6.fit_predict(X1)\n",
    "sse.append(km6.inertia_)\n",
    "\n",
    "print(sse)"
   ]
  },
  {
   "cell_type": "markdown",
   "metadata": {},
   "source": [
    "수업에서 다루지 않았지만 반복문을 사용하면 코드가 훨씬 간결해집니다. 참고하시기 바랍니다."
   ]
  },
  {
   "cell_type": "code",
   "execution_count": null,
   "metadata": {},
   "outputs": [],
   "source": [
    "# sse = []\n",
    "\n",
    "# for i in range(1, 7):\n",
    "#     kmeans = KMeans(n_clusters = i)\n",
    "#     kmeans.fit_predict(X1)\n",
    "#     sse.append(kmeans.inertia_)\n",
    "\n",
    "# print(sse)"
   ]
  },
  {
   "cell_type": "markdown",
   "metadata": {},
   "source": [
    "리스트 변수 sse를 시각화해서 꺾이는 점을 찾아봅니다."
   ]
  },
  {
   "cell_type": "code",
   "execution_count": 20,
   "metadata": {},
   "outputs": [
    {
     "data": {
      "image/png": "[encoded data removed]",
      "text/plain": [
       "<Figure size 432x288 with 1 Axes>"
      ]
     },
     "metadata": {
      "needs_background": "light"
     },
     "output_type": "display_data"
    }
   ],
   "source": [
    "fig, ax = plt.subplots()\n",
    "\n",
    "ax.plot([1, 2, 3, 4, 5, 6], \n",
    "        sse, \n",
    "        marker = 'o')\n",
    "\n",
    "ax.set(title = 'Generated samples',\n",
    "      xlabel = 'The number of clusters',\n",
    "      ylabel = 'sse')\n",
    "\n",
    "plt.show()"
   ]
  },
  {
   "cell_type": "markdown",
   "metadata": {},
   "source": [
    "클러스터의 개수가 3개 이상으로 증가하면 오차제곱합의 감소폭이 줄어드는 것을 확인할 수 있습니다. 결과를 확인하고 적절한 개수의 클러스터를 선정하여 결과를 확인합니다."
   ]
  },
  {
   "cell_type": "code",
   "execution_count": 21,
   "metadata": {},
   "outputs": [
    {
     "data": {
      "text/plain": [
       "array([0, 2, 0, 1, 1, 1, 0, 0, 1, 0, 2, 2, 2, 0, 2, 1, 0, 0, 0, 2, 1, 0,\n",
       "       2, 0, 1, 1, 1, 1, 2, 2, 1, 0, 0, 2, 2, 1, 2, 2, 0, 2, 1, 2, 0, 2,\n",
       "       2, 1, 2, 1, 1, 2, 1, 0, 1, 1, 2, 0, 0, 1, 1, 0, 2, 2, 0, 1, 2, 1,\n",
       "       0, 2, 0, 2, 1, 0, 1, 1, 2, 0, 2, 1, 0, 0, 1, 0, 2, 0, 0, 0, 2, 1,\n",
       "       0, 0, 1, 2, 1, 0, 2, 2, 0, 2, 1, 0, 2, 0, 0, 2, 0, 0, 1, 0, 2, 2,\n",
       "       0, 1, 0, 0, 1, 1, 0, 0, 2, 2, 2, 1, 2, 2, 2, 1, 2, 2, 2, 1, 1, 1,\n",
       "       2, 1, 1, 2, 1, 0, 1, 1, 2, 0, 2, 0, 1, 1, 0, 1, 1, 2, 0, 1, 0, 2,\n",
       "       1, 1, 2, 2, 0, 2, 0, 0, 2, 0, 1, 2, 0, 0, 1, 1, 2, 0, 0, 2, 2, 2,\n",
       "       0, 2, 0, 0, 2, 1, 0, 0, 0, 1, 2, 1, 0, 1, 0, 0, 2, 2, 1, 0, 2, 1,\n",
       "       0, 1, 2, 1, 0, 1, 2, 1, 0, 1, 0, 2, 0, 0, 1, 2, 2, 0, 2, 0, 2, 2,\n",
       "       0, 1, 2, 2, 0, 1, 1, 0, 2, 0, 0, 2, 2, 0, 2, 1, 1, 2, 1, 0, 2, 1,\n",
       "       1, 1, 1, 2, 0, 1, 0, 2, 2, 0, 2, 2, 1, 0, 2, 1, 0, 0, 1, 0, 1, 1,\n",
       "       1, 1, 0, 2, 2, 2, 2, 0, 0, 0, 0, 0, 1, 1, 2, 0, 0, 2, 2, 2, 1, 2,\n",
       "       1, 1, 2, 2, 1, 1, 0, 2, 0, 0, 0, 2, 0, 0])"
      ]
     },
     "execution_count": 21,
     "metadata": {},
     "output_type": "execute_result"
    }
   ],
   "source": [
    "X1_c3 = km3.fit_predict(X1)\n",
    "X1_c3"
   ]
  },
  {
   "cell_type": "code",
   "execution_count": 22,
   "metadata": {},
   "outputs": [
    {
     "data": {
      "image/png": "[encoded data removed]",
      "text/plain": [
       "<Figure size 432x288 with 1 Axes>"
      ]
     },
     "metadata": {
      "needs_background": "light"
     },
     "output_type": "display_data"
    }
   ],
   "source": [
    "fig, ax = plt.subplots()\n",
    "\n",
    "ax.scatter(X1[:, 0],X1[:, 1],\n",
    "           c = X1_c3, \n",
    "           alpha = 0.5)\n",
    "\n",
    "ax.scatter(km3.cluster_centers_[:, 0], km3.cluster_centers_[:, 1],\n",
    "           s = 50,\n",
    "           marker = 'D',\n",
    "           c='r')\n",
    "\n",
    "plt.show()"
   ]
  },
  {
   "cell_type": "markdown",
   "metadata": {},
   "source": [
    "## 예제: Mall customer\n",
    "\n",
    "쇼핑몰의 회원 카드에 고객의 ID와 성별, 나이, 연소득(annual income), 지출점수(spending score)가 있습니다. 지출점수는 고객의 행동과 구매 기록을 바탕으로 매긴 점수입니다. 연소득과 지출점수를 바탕으로 고객을 여러 집단으로 나누어 보려고 합니다.<br>\n",
    "(Segmentation: 소비자의 수요가 동일하지 않으며 몇 가지 요소로 구분할 수 있는 다양한 집단으로 구성되어 있다고 가정하며, 각각의 집단에 따라 다른 전략을 적용하기 위해 나누어 보는 과정이다. Targeting과 Promotion에 선행한다.)\n",
    "\n",
    "https://www.kaggle.com/kandij/mall-customers"
   ]
  },
  {
   "cell_type": "code",
   "execution_count": 23,
   "metadata": {
    "scrolled": false
   },
   "outputs": [
    {
     "name": "stdout",
     "output_type": "stream",
     "text": [
      "<class 'pandas.core.frame.DataFrame'>\n",
      "RangeIndex: 200 entries, 0 to 199\n",
      "Data columns (total 5 columns):\n",
      " #   Column                  Non-Null Count  Dtype \n",
      "---  ------                  --------------  ----- \n",
      " 0   CustomerID              200 non-null    int64 \n",
      " 1   Genre                   200 non-null    object\n",
      " 2   Age                     200 non-null    int64 \n",
      " 3   Annual Income (k$)      200 non-null    int64 \n",
      " 4   Spending Score (1-100)  200 non-null    int64 \n",
      "dtypes: int64(4), object(1)\n",
      "memory usage: 7.9+ KB\n"
     ]
    },
    {
     "data": {
      "text/html": [
       "<div>\n",
       "<style scoped>\n",
       "    .dataframe tbody tr th:only-of-type {\n",
       "        vertical-align: middle;\n",
       "    }\n",
       "\n",
       "    .dataframe tbody tr th {\n",
       "        vertical-align: top;\n",
       "    }\n",
       "\n",
       "    .dataframe thead th {\n",
       "        text-align: right;\n",
       "    }\n",
       "</style>\n",
       "<table border=\"1\" class=\"dataframe\">\n",
       "  <thead>\n",
       "    <tr style=\"text-align: right;\">\n",
       "      <th></th>\n",
       "      <th>CustomerID</th>\n",
       "      <th>Genre</th>\n",
       "      <th>Age</th>\n",
       "      <th>Annual Income (k$)</th>\n",
       "      <th>Spending Score (1-100)</th>\n",
       "    </tr>\n",
       "  </thead>\n",
       "  <tbody>\n",
       "    <tr>\n",
       "      <th>0</th>\n",
       "      <td>1</td>\n",
       "      <td>Male</td>\n",
       "      <td>19</td>\n",
       "      <td>15</td>\n",
       "      <td>39</td>\n",
       "    </tr>\n",
       "    <tr>\n",
       "      <th>1</th>\n",
       "      <td>2</td>\n",
       "      <td>Male</td>\n",
       "      <td>21</td>\n",
       "      <td>15</td>\n",
       "      <td>81</td>\n",
       "    </tr>\n",
       "    <tr>\n",
       "      <th>2</th>\n",
       "      <td>3</td>\n",
       "      <td>Female</td>\n",
       "      <td>20</td>\n",
       "      <td>16</td>\n",
       "      <td>6</td>\n",
       "    </tr>\n",
       "    <tr>\n",
       "      <th>3</th>\n",
       "      <td>4</td>\n",
       "      <td>Female</td>\n",
       "      <td>23</td>\n",
       "      <td>16</td>\n",
       "      <td>77</td>\n",
       "    </tr>\n",
       "    <tr>\n",
       "      <th>4</th>\n",
       "      <td>5</td>\n",
       "      <td>Female</td>\n",
       "      <td>31</td>\n",
       "      <td>17</td>\n",
       "      <td>40</td>\n",
       "    </tr>\n",
       "  </tbody>\n",
       "</table>\n",
       "</div>"
      ],
      "text/plain": [
       "   CustomerID   Genre  Age  Annual Income (k$)  Spending Score (1-100)\n",
       "0           1    Male   19                  15                      39\n",
       "1           2    Male   21                  15                      81\n",
       "2           3  Female   20                  16                       6\n",
       "3           4  Female   23                  16                      77\n",
       "4           5  Female   31                  17                      40"
      ]
     },
     "execution_count": 23,
     "metadata": {},
     "output_type": "execute_result"
    }
   ],
   "source": [
    "mall_customers_url = \"https://raw.githubusercontent.com/eunyu1031/Media_interface_2020Spr/master/data/Mall_Customers.csv\"\n",
    "df = pd.read_csv(mall_customers_url, encoding = 'utf-8')\n",
    "df.info()\n",
    "df.head()"
   ]
  },
  {
   "cell_type": "code",
   "execution_count": 24,
   "metadata": {
    "scrolled": true
   },
   "outputs": [
    {
     "data": {
      "text/plain": [
       "200"
      ]
     },
     "execution_count": 24,
     "metadata": {},
     "output_type": "execute_result"
    }
   ],
   "source": [
    "df['CustomerID'].nunique()"
   ]
  },
  {
   "cell_type": "code",
   "execution_count": 25,
   "metadata": {},
   "outputs": [
    {
     "data": {
      "text/html": [
       "<div>\n",
       "<style scoped>\n",
       "    .dataframe tbody tr th:only-of-type {\n",
       "        vertical-align: middle;\n",
       "    }\n",
       "\n",
       "    .dataframe tbody tr th {\n",
       "        vertical-align: top;\n",
       "    }\n",
       "\n",
       "    .dataframe thead th {\n",
       "        text-align: right;\n",
       "    }\n",
       "</style>\n",
       "<table border=\"1\" class=\"dataframe\">\n",
       "  <thead>\n",
       "    <tr style=\"text-align: right;\">\n",
       "      <th></th>\n",
       "      <th>CustomerID</th>\n",
       "      <th>Age</th>\n",
       "      <th>Annual Income (k$)</th>\n",
       "      <th>Spending Score (1-100)</th>\n",
       "    </tr>\n",
       "  </thead>\n",
       "  <tbody>\n",
       "    <tr>\n",
       "      <th>count</th>\n",
       "      <td>200.000000</td>\n",
       "      <td>200.000000</td>\n",
       "      <td>200.000000</td>\n",
       "      <td>200.000000</td>\n",
       "    </tr>\n",
       "    <tr>\n",
       "      <th>mean</th>\n",
       "      <td>100.500000</td>\n",
       "      <td>38.850000</td>\n",
       "      <td>60.560000</td>\n",
       "      <td>50.200000</td>\n",
       "    </tr>\n",
       "    <tr>\n",
       "      <th>std</th>\n",
       "      <td>57.879185</td>\n",
       "      <td>13.969007</td>\n",
       "      <td>26.264721</td>\n",
       "      <td>25.823522</td>\n",
       "    </tr>\n",
       "    <tr>\n",
       "      <th>min</th>\n",
       "      <td>1.000000</td>\n",
       "      <td>18.000000</td>\n",
       "      <td>15.000000</td>\n",
       "      <td>1.000000</td>\n",
       "    </tr>\n",
       "    <tr>\n",
       "      <th>25%</th>\n",
       "      <td>50.750000</td>\n",
       "      <td>28.750000</td>\n",
       "      <td>41.500000</td>\n",
       "      <td>34.750000</td>\n",
       "    </tr>\n",
       "    <tr>\n",
       "      <th>50%</th>\n",
       "      <td>100.500000</td>\n",
       "      <td>36.000000</td>\n",
       "      <td>61.500000</td>\n",
       "      <td>50.000000</td>\n",
       "    </tr>\n",
       "    <tr>\n",
       "      <th>75%</th>\n",
       "      <td>150.250000</td>\n",
       "      <td>49.000000</td>\n",
       "      <td>78.000000</td>\n",
       "      <td>73.000000</td>\n",
       "    </tr>\n",
       "    <tr>\n",
       "      <th>max</th>\n",
       "      <td>200.000000</td>\n",
       "      <td>70.000000</td>\n",
       "      <td>137.000000</td>\n",
       "      <td>99.000000</td>\n",
       "    </tr>\n",
       "  </tbody>\n",
       "</table>\n",
       "</div>"
      ],
      "text/plain": [
       "       CustomerID         Age  Annual Income (k$)  Spending Score (1-100)\n",
       "count  200.000000  200.000000          200.000000              200.000000\n",
       "mean   100.500000   38.850000           60.560000               50.200000\n",
       "std     57.879185   13.969007           26.264721               25.823522\n",
       "min      1.000000   18.000000           15.000000                1.000000\n",
       "25%     50.750000   28.750000           41.500000               34.750000\n",
       "50%    100.500000   36.000000           61.500000               50.000000\n",
       "75%    150.250000   49.000000           78.000000               73.000000\n",
       "max    200.000000   70.000000          137.000000               99.000000"
      ]
     },
     "execution_count": 25,
     "metadata": {},
     "output_type": "execute_result"
    }
   ],
   "source": [
    "df.describe()"
   ]
  },
  {
   "cell_type": "markdown",
   "metadata": {},
   "source": [
    "결측치와 중복값이 없으니 전반적인 분포를 살펴봅시다."
   ]
  },
  {
   "cell_type": "code",
   "execution_count": 26,
   "metadata": {
    "scrolled": true
   },
   "outputs": [
    {
     "data": {
      "image/png": "[encoded data removed]",
      "text/plain": [
       "<Figure size 864x288 with 3 Axes>"
      ]
     },
     "metadata": {
      "needs_background": "light"
     },
     "output_type": "display_data"
    }
   ],
   "source": [
    "fig, axs = plt.subplots(figsize = (12, 4), nrows = 1, ncols = 3)\n",
    "\n",
    "axs[0].bar(df['Genre'].unique(), df['Genre'].value_counts())\n",
    "\n",
    "sns.distplot(df['Age'], ax = axs[1], kde = False)\n",
    "\n",
    "axs[2].scatter(df['Annual Income (k$)'], \n",
    "                df['Spending Score (1-100)'])\n",
    "\n",
    "plt.show()"
   ]
  },
  {
   "cell_type": "markdown",
   "metadata": {},
   "source": [
    "K-means clustering 모델에 넣기 위해 필요한 변수, 연소득과 지출점수만 가져와서 새로운 DataFrame 'income_spent'를 만듭니다."
   ]
  },
  {
   "cell_type": "code",
   "execution_count": 27,
   "metadata": {},
   "outputs": [
    {
     "data": {
      "text/html": [
       "<div>\n",
       "<style scoped>\n",
       "    .dataframe tbody tr th:only-of-type {\n",
       "        vertical-align: middle;\n",
       "    }\n",
       "\n",
       "    .dataframe tbody tr th {\n",
       "        vertical-align: top;\n",
       "    }\n",
       "\n",
       "    .dataframe thead th {\n",
       "        text-align: right;\n",
       "    }\n",
       "</style>\n",
       "<table border=\"1\" class=\"dataframe\">\n",
       "  <thead>\n",
       "    <tr style=\"text-align: right;\">\n",
       "      <th></th>\n",
       "      <th>Annual Income (k$)</th>\n",
       "      <th>Spending Score (1-100)</th>\n",
       "    </tr>\n",
       "  </thead>\n",
       "  <tbody>\n",
       "    <tr>\n",
       "      <th>0</th>\n",
       "      <td>15</td>\n",
       "      <td>39</td>\n",
       "    </tr>\n",
       "    <tr>\n",
       "      <th>1</th>\n",
       "      <td>15</td>\n",
       "      <td>81</td>\n",
       "    </tr>\n",
       "    <tr>\n",
       "      <th>2</th>\n",
       "      <td>16</td>\n",
       "      <td>6</td>\n",
       "    </tr>\n",
       "    <tr>\n",
       "      <th>3</th>\n",
       "      <td>16</td>\n",
       "      <td>77</td>\n",
       "    </tr>\n",
       "    <tr>\n",
       "      <th>4</th>\n",
       "      <td>17</td>\n",
       "      <td>40</td>\n",
       "    </tr>\n",
       "    <tr>\n",
       "      <th>...</th>\n",
       "      <td>...</td>\n",
       "      <td>...</td>\n",
       "    </tr>\n",
       "    <tr>\n",
       "      <th>195</th>\n",
       "      <td>120</td>\n",
       "      <td>79</td>\n",
       "    </tr>\n",
       "    <tr>\n",
       "      <th>196</th>\n",
       "      <td>126</td>\n",
       "      <td>28</td>\n",
       "    </tr>\n",
       "    <tr>\n",
       "      <th>197</th>\n",
       "      <td>126</td>\n",
       "      <td>74</td>\n",
       "    </tr>\n",
       "    <tr>\n",
       "      <th>198</th>\n",
       "      <td>137</td>\n",
       "      <td>18</td>\n",
       "    </tr>\n",
       "    <tr>\n",
       "      <th>199</th>\n",
       "      <td>137</td>\n",
       "      <td>83</td>\n",
       "    </tr>\n",
       "  </tbody>\n",
       "</table>\n",
       "<p>200 rows × 2 columns</p>\n",
       "</div>"
      ],
      "text/plain": [
       "     Annual Income (k$)  Spending Score (1-100)\n",
       "0                    15                      39\n",
       "1                    15                      81\n",
       "2                    16                       6\n",
       "3                    16                      77\n",
       "4                    17                      40\n",
       "..                  ...                     ...\n",
       "195                 120                      79\n",
       "196                 126                      28\n",
       "197                 126                      74\n",
       "198                 137                      18\n",
       "199                 137                      83\n",
       "\n",
       "[200 rows x 2 columns]"
      ]
     },
     "execution_count": 27,
     "metadata": {},
     "output_type": "execute_result"
    }
   ],
   "source": [
    "income_spent = df.iloc[:, 3:5]\n",
    "income_spent"
   ]
  },
  {
   "cell_type": "markdown",
   "metadata": {},
   "source": [
    "몇 개의 클러스터가 적절한지 참고해 보기 위하여 오차제곱합을 구합니다. 아까 만든 클러스터 1개~6개 모델에 income_spent 데이터를 넣어 결과를 봅니다."
   ]
  },
  {
   "cell_type": "code",
   "execution_count": 28,
   "metadata": {},
   "outputs": [
    {
     "name": "stdout",
     "output_type": "stream",
     "text": [
      "[269981.28000000014, 181363.59595959607, 106348.37306211119, 73679.78903948837, 44448.45544793369, 37239.83554245604]\n"
     ]
    }
   ],
   "source": [
    "segment_sse = []\n",
    "\n",
    "km1.fit_predict(income_spent)\n",
    "segment_sse.append(km1.inertia_)\n",
    "\n",
    "km2.fit_predict(income_spent)\n",
    "segment_sse.append(km2.inertia_)\n",
    "\n",
    "km3.fit_predict(income_spent)\n",
    "segment_sse.append(km3.inertia_)\n",
    "\n",
    "km4.fit_predict(income_spent)\n",
    "segment_sse.append(km4.inertia_)\n",
    "\n",
    "km5.fit_predict(income_spent)\n",
    "segment_sse.append(km5.inertia_)\n",
    "\n",
    "km6.fit_predict(income_spent)\n",
    "segment_sse.append(km6.inertia_)\n",
    "\n",
    "print(segment_sse)"
   ]
  },
  {
   "cell_type": "code",
   "execution_count": 29,
   "metadata": {},
   "outputs": [
    {
     "data": {
      "image/png": "[encoded data removed]",
      "text/plain": [
       "<Figure size 432x288 with 1 Axes>"
      ]
     },
     "metadata": {
      "needs_background": "light"
     },
     "output_type": "display_data"
    }
   ],
   "source": [
    "fig, ax = plt.subplots()\n",
    "\n",
    "ax.plot([1, 2, 3, 4, 5, 6], \n",
    "        segment_sse, \n",
    "        marker = 'o')\n",
    "\n",
    "ax.set(title = 'Mall customer segmentation',\n",
    "      xlabel = 'The number of clusters',\n",
    "      ylabel = 'sse')\n",
    "\n",
    "plt.show()"
   ]
  },
  {
   "cell_type": "markdown",
   "metadata": {},
   "source": [
    "5~6 사이에서 큰 변화가 없으므로 5개 클러스터로 클러스터 시각화를 진행합니다."
   ]
  },
  {
   "cell_type": "code",
   "execution_count": 30,
   "metadata": {},
   "outputs": [],
   "source": [
    "segment_result = km5.fit_predict(income_spent)"
   ]
  },
  {
   "cell_type": "markdown",
   "metadata": {},
   "source": [
    "K-means clustering의 fit_predict의 결과로 돌려주는 각 관측치의 클러스터 정보는 numpy.ndarray 자료형입니다. 각 클러스터에 몇 개의 관측치가 속하는지 클러스터의 크기를 아래와 같이 살펴볼 수 있습니다."
   ]
  },
  {
   "cell_type": "code",
   "execution_count": 31,
   "metadata": {},
   "outputs": [
    {
     "data": {
      "text/plain": [
       "(array([0, 1, 2, 3, 4]), array([35, 81, 39, 23, 22], dtype=int64))"
      ]
     },
     "execution_count": 31,
     "metadata": {},
     "output_type": "execute_result"
    }
   ],
   "source": [
    "np.unique(segment_result, return_counts=True)"
   ]
  },
  {
   "cell_type": "markdown",
   "metadata": {},
   "source": [
    "각 관측치를 5개의 클러스터로 나눈 결과 segment_result와 함께 클러스터의 중심을 그립니다. \n",
    "\n",
    "다섯 개의 클러스터는 연소득과 지출점수로 미루어 보았을 때 다음과 같이 이름을 붙여서 구분할 수 있습니다.\n",
    "    - ordinary: 버는 만큼 지출하는 일반 소비자들입니다.\n",
    "    - overspending: 소득에 비해 많이 지출하는 경향이 있는 소비자들입니다.\n",
    "    - underspending: 소득에 비해 적게 지출하는 경향이 있는 소비자들입니다. 소비 여력이 있으므로 왜 이 쇼핑몰에서 더 소비하지 않는지 이유를 탐색해서 전략을 세울 필요가 있습니다.\n",
    "    - best: 많이 버는 만큼 많이 사용하는 우수고객입니다. 다른 쇼핑몰로 떠나지 않게끔 잘 붙들어 놓아야 합니다.\n",
    "    - sensible: 적게 버는 만큼 적게 지출하는 소비자들입니다. 할인 행사로 끌어들일 수는 있으나 다른 품목까지 소비하게 만들기에는 쉽지 않을 것으로 보입니다.\n",
    "    \n",
    "많은 경우에 클러스터링에 사용하지 않은 다른 변수들에도 차이가 있는지까지 비교해서 클러스터의 수를 결정하게 됩니다."
   ]
  },
  {
   "cell_type": "code",
   "execution_count": 32,
   "metadata": {},
   "outputs": [
    {
     "data": {
      "image/png": "[encoded data removed]",
      "text/plain": [
       "<Figure size 432x288 with 1 Axes>"
      ]
     },
     "metadata": {
      "needs_background": "light"
     },
     "output_type": "display_data"
    }
   ],
   "source": [
    "fig, ax = plt.subplots()\n",
    "\n",
    "scatter1 = ax.scatter(income_spent.iloc[:, 0], \n",
    "                      income_spent.iloc[:, 1],\n",
    "           c = segment_result, \n",
    "           alpha = 0.5)\n",
    "\n",
    "handles, labels = scatter1.legend_elements()\n",
    "# mylabels = ['ordinary', 'overspending', 'underspending', 'best', 'sensible']\n",
    "\n",
    "# ax.legend(handles, mylabels,\n",
    "ax.legend(handles, labels,\n",
    "          bbox_to_anchor=(1, 1), loc = 'upper left', # week10\n",
    "          title=\"Classes\")\n",
    "\n",
    "ax.scatter(km5.cluster_centers_[:, 0], \n",
    "           km5.cluster_centers_[:, 1],\n",
    "           s = 50,\n",
    "           marker = 'D',\n",
    "           c='r')\n",
    "\n",
    "ax.set(title = 'Mall customer',\n",
    "      xlabel = 'Annual Income (k$)',\n",
    "      ylabel = 'Spending Score (1-100)')\n",
    "\n",
    "plt.show()"
   ]
  },
  {
   "cell_type": "markdown",
   "metadata": {},
   "source": [
    "이전 클러스터링 시각화 코드와의 차이는 두 가지입니다. \n",
    "\n",
    "1. scatter1.legend_elements(): scatter1이라는 변수에 저장한 산점도에서 범례로 구분할 필요가 있는 요소(handles)와 그 라벨(labels)을 tuple로 추출합니다. 범례를 자동화하여 그릴 수 있습니다.\n",
    "    - 예제:\n",
    "    https://matplotlib.org/3.1.1/gallery/lines_bars_and_markers/scatter_with_legend.html#automatedlegendcreation\n",
    "    - 설명\n",
    "    https://matplotlib.org/3.1.1/api/collections_api.html#matplotlib.collections.PathCollection.legend_elements\n",
    "\n",
    "\n",
    "2. 매개변수 bbox_to_anchor와 loc을 같이 사용하는 경우, loc은 범례 박스의 네 귀퉁이(upper&lower)/네 변의 중심점(center)을 나타냅니다. 먼저 bbox_to_anchor로 figure에 기준이 되는 좌표를 지정한 후, 해당 좌표에 범례 박스가 접하는 부분을 loc에 명시합니다. (week10 실습)"
   ]
  },
  {
   "cell_type": "code",
   "execution_count": 35,
   "metadata": {},
   "outputs": [],
   "source": [
    "scatter1.legend_elements()"
   ]
  },
  {
   "cell_type": "markdown",
   "metadata": {},
   "source": [
    "<p style=\"color:#0000FF\";><font size = \"5\"><b>\n",
    " # 연습하기\n",
    "    </b></font></p>\n",
    "    \n",
    "Week10에서 산점도를 그렸던 영화 데이터를 사용합니다. \n",
    "\n",
    "- 스크린수와 매출액의 산점도를 먼저 그리세요.\n",
    "- 스크린수와 매출액 기준으로 클러스터를 나누어 보되, 팔꿈치 방법을 참고해서 클러스터의 개수를 결정하세요.\n",
    "- 각 클러스터에 이름을 붙여 보세요."
   ]
  },
  {
   "cell_type": "code",
   "execution_count": 36,
   "metadata": {},
   "outputs": [
    {
     "name": "stdout",
     "output_type": "stream",
     "text": [
      "<class 'pandas.core.frame.DataFrame'>\n",
      "RangeIndex: 529 entries, 0 to 528\n",
      "Data columns (total 9 columns):\n",
      " #   Column  Non-Null Count  Dtype \n",
      "---  ------  --------------  ----- \n",
      " 0   영화코드    529 non-null    int64 \n",
      " 1   영화명     529 non-null    object\n",
      " 2   개봉연월일   529 non-null    object\n",
      " 3   매출액     529 non-null    int64 \n",
      " 4   관객수     529 non-null    int64 \n",
      " 5   스크린수    529 non-null    int64 \n",
      " 6   상영횟수    529 non-null    int64 \n",
      " 7   개봉연도    529 non-null    int64 \n",
      " 8   개봉월     529 non-null    int64 \n",
      "dtypes: int64(7), object(2)\n",
      "memory usage: 37.3+ KB\n"
     ]
    },
    {
     "data": {
      "text/html": [
       "<div>\n",
       "<style scoped>\n",
       "    .dataframe tbody tr th:only-of-type {\n",
       "        vertical-align: middle;\n",
       "    }\n",
       "\n",
       "    .dataframe tbody tr th {\n",
       "        vertical-align: top;\n",
       "    }\n",
       "\n",
       "    .dataframe thead th {\n",
       "        text-align: right;\n",
       "    }\n",
       "</style>\n",
       "<table border=\"1\" class=\"dataframe\">\n",
       "  <thead>\n",
       "    <tr style=\"text-align: right;\">\n",
       "      <th></th>\n",
       "      <th>영화코드</th>\n",
       "      <th>영화명</th>\n",
       "      <th>개봉연월일</th>\n",
       "      <th>매출액</th>\n",
       "      <th>관객수</th>\n",
       "      <th>스크린수</th>\n",
       "      <th>상영횟수</th>\n",
       "      <th>개봉연도</th>\n",
       "      <th>개봉월</th>\n",
       "    </tr>\n",
       "  </thead>\n",
       "  <tbody>\n",
       "    <tr>\n",
       "      <th>0</th>\n",
       "      <td>20090834</td>\n",
       "      <td>아바타</td>\n",
       "      <td>2009-12-17</td>\n",
       "      <td>81455728000</td>\n",
       "      <td>8151952</td>\n",
       "      <td>714</td>\n",
       "      <td>111860</td>\n",
       "      <td>2009</td>\n",
       "      <td>12</td>\n",
       "    </tr>\n",
       "    <tr>\n",
       "      <th>1</th>\n",
       "      <td>20100214</td>\n",
       "      <td>아저씨</td>\n",
       "      <td>2010-08-04</td>\n",
       "      <td>47101332000</td>\n",
       "      <td>6178248</td>\n",
       "      <td>501</td>\n",
       "      <td>109853</td>\n",
       "      <td>2010</td>\n",
       "      <td>8</td>\n",
       "    </tr>\n",
       "    <tr>\n",
       "      <th>2</th>\n",
       "      <td>20100312</td>\n",
       "      <td>인셉션</td>\n",
       "      <td>2010-07-21</td>\n",
       "      <td>44309381800</td>\n",
       "      <td>5937741</td>\n",
       "      <td>772</td>\n",
       "      <td>89880</td>\n",
       "      <td>2010</td>\n",
       "      <td>7</td>\n",
       "    </tr>\n",
       "    <tr>\n",
       "      <th>3</th>\n",
       "      <td>20090904</td>\n",
       "      <td>의형제</td>\n",
       "      <td>2010-02-04</td>\n",
       "      <td>40153729000</td>\n",
       "      <td>5416812</td>\n",
       "      <td>569</td>\n",
       "      <td>118243</td>\n",
       "      <td>2010</td>\n",
       "      <td>2</td>\n",
       "    </tr>\n",
       "    <tr>\n",
       "      <th>4</th>\n",
       "      <td>20090933</td>\n",
       "      <td>아이언맨 2</td>\n",
       "      <td>2010-04-29</td>\n",
       "      <td>32635195500</td>\n",
       "      <td>4425003</td>\n",
       "      <td>921</td>\n",
       "      <td>87665</td>\n",
       "      <td>2010</td>\n",
       "      <td>4</td>\n",
       "    </tr>\n",
       "  </tbody>\n",
       "</table>\n",
       "</div>"
      ],
      "text/plain": [
       "       영화코드     영화명       개봉연월일          매출액      관객수  스크린수    상영횟수  개봉연도  개봉월\n",
       "0  20090834     아바타  2009-12-17  81455728000  8151952   714  111860  2009   12\n",
       "1  20100214     아저씨  2010-08-04  47101332000  6178248   501  109853  2010    8\n",
       "2  20100312     인셉션  2010-07-21  44309381800  5937741   772   89880  2010    7\n",
       "3  20090904     의형제  2010-02-04  40153729000  5416812   569  118243  2010    2\n",
       "4  20090933  아이언맨 2  2010-04-29  32635195500  4425003   921   87665  2010    4"
      ]
     },
     "execution_count": 36,
     "metadata": {},
     "output_type": "execute_result"
    }
   ],
   "source": [
    "url_vis = \"https://raw.githubusercontent.com/eunyu1031/Media_interface_2020Spr/master/data/midterm_vis.csv\"\n",
    "\n",
    "movie = pd.read_csv(url_vis, encoding = 'utf-8')\n",
    "movie.info()\n",
    "movie.head()"
   ]
  },
  {
   "cell_type": "code",
   "execution_count": null,
   "metadata": {},
   "outputs": [],
   "source": []
  },
  {
   "cell_type": "markdown",
   "metadata": {},
   "source": [
    "## 예제: Facebook Live Sellers in Thailand Data Set\n",
    "\n",
    "10명의 태국 패션/화장품 판매자의 페이스북 포스팅 및 포스팅에 대한 반응(engagement; 좋아요, 공유 등) 데이터셋입니다.\n",
    "\n",
    "http://archive.ics.uci.edu/ml/datasets/Facebook+Live+Sellers+in+Thailand"
   ]
  },
  {
   "cell_type": "code",
   "execution_count": 44,
   "metadata": {},
   "outputs": [
    {
     "name": "stdout",
     "output_type": "stream",
     "text": [
      "<class 'pandas.core.frame.DataFrame'>\n",
      "RangeIndex: 7050 entries, 0 to 7049\n",
      "Data columns (total 16 columns):\n",
      " #   Column            Non-Null Count  Dtype  \n",
      "---  ------            --------------  -----  \n",
      " 0   status_id         7050 non-null   int64  \n",
      " 1   status_type       7050 non-null   object \n",
      " 2   status_published  7050 non-null   object \n",
      " 3   num_reactions     7050 non-null   int64  \n",
      " 4   num_comments      7050 non-null   int64  \n",
      " 5   num_shares        7050 non-null   int64  \n",
      " 6   num_likes         7050 non-null   int64  \n",
      " 7   num_loves         7050 non-null   int64  \n",
      " 8   num_wows          7050 non-null   int64  \n",
      " 9   num_hahas         7050 non-null   int64  \n",
      " 10  num_sads          7050 non-null   int64  \n",
      " 11  num_angrys        7050 non-null   int64  \n",
      " 12  Column1           0 non-null      float64\n",
      " 13  Column2           0 non-null      float64\n",
      " 14  Column3           0 non-null      float64\n",
      " 15  Column4           0 non-null      float64\n",
      "dtypes: float64(4), int64(10), object(2)\n",
      "memory usage: 881.4+ KB\n"
     ]
    },
    {
     "data": {
      "text/html": [
       "<div>\n",
       "<style scoped>\n",
       "    .dataframe tbody tr th:only-of-type {\n",
       "        vertical-align: middle;\n",
       "    }\n",
       "\n",
       "    .dataframe tbody tr th {\n",
       "        vertical-align: top;\n",
       "    }\n",
       "\n",
       "    .dataframe thead th {\n",
       "        text-align: right;\n",
       "    }\n",
       "</style>\n",
       "<table border=\"1\" class=\"dataframe\">\n",
       "  <thead>\n",
       "    <tr style=\"text-align: right;\">\n",
       "      <th></th>\n",
       "      <th>status_id</th>\n",
       "      <th>status_type</th>\n",
       "      <th>status_published</th>\n",
       "      <th>num_reactions</th>\n",
       "      <th>num_comments</th>\n",
       "      <th>num_shares</th>\n",
       "      <th>num_likes</th>\n",
       "      <th>num_loves</th>\n",
       "      <th>num_wows</th>\n",
       "      <th>num_hahas</th>\n",
       "      <th>num_sads</th>\n",
       "      <th>num_angrys</th>\n",
       "      <th>Column1</th>\n",
       "      <th>Column2</th>\n",
       "      <th>Column3</th>\n",
       "      <th>Column4</th>\n",
       "    </tr>\n",
       "  </thead>\n",
       "  <tbody>\n",
       "    <tr>\n",
       "      <th>0</th>\n",
       "      <td>1</td>\n",
       "      <td>video</td>\n",
       "      <td>4/22/2018 6:00</td>\n",
       "      <td>529</td>\n",
       "      <td>512</td>\n",
       "      <td>262</td>\n",
       "      <td>432</td>\n",
       "      <td>92</td>\n",
       "      <td>3</td>\n",
       "      <td>1</td>\n",
       "      <td>1</td>\n",
       "      <td>0</td>\n",
       "      <td>NaN</td>\n",
       "      <td>NaN</td>\n",
       "      <td>NaN</td>\n",
       "      <td>NaN</td>\n",
       "    </tr>\n",
       "    <tr>\n",
       "      <th>1</th>\n",
       "      <td>2</td>\n",
       "      <td>photo</td>\n",
       "      <td>4/21/2018 22:45</td>\n",
       "      <td>150</td>\n",
       "      <td>0</td>\n",
       "      <td>0</td>\n",
       "      <td>150</td>\n",
       "      <td>0</td>\n",
       "      <td>0</td>\n",
       "      <td>0</td>\n",
       "      <td>0</td>\n",
       "      <td>0</td>\n",
       "      <td>NaN</td>\n",
       "      <td>NaN</td>\n",
       "      <td>NaN</td>\n",
       "      <td>NaN</td>\n",
       "    </tr>\n",
       "    <tr>\n",
       "      <th>2</th>\n",
       "      <td>3</td>\n",
       "      <td>video</td>\n",
       "      <td>4/21/2018 6:17</td>\n",
       "      <td>227</td>\n",
       "      <td>236</td>\n",
       "      <td>57</td>\n",
       "      <td>204</td>\n",
       "      <td>21</td>\n",
       "      <td>1</td>\n",
       "      <td>1</td>\n",
       "      <td>0</td>\n",
       "      <td>0</td>\n",
       "      <td>NaN</td>\n",
       "      <td>NaN</td>\n",
       "      <td>NaN</td>\n",
       "      <td>NaN</td>\n",
       "    </tr>\n",
       "    <tr>\n",
       "      <th>3</th>\n",
       "      <td>4</td>\n",
       "      <td>photo</td>\n",
       "      <td>4/21/2018 2:29</td>\n",
       "      <td>111</td>\n",
       "      <td>0</td>\n",
       "      <td>0</td>\n",
       "      <td>111</td>\n",
       "      <td>0</td>\n",
       "      <td>0</td>\n",
       "      <td>0</td>\n",
       "      <td>0</td>\n",
       "      <td>0</td>\n",
       "      <td>NaN</td>\n",
       "      <td>NaN</td>\n",
       "      <td>NaN</td>\n",
       "      <td>NaN</td>\n",
       "    </tr>\n",
       "    <tr>\n",
       "      <th>4</th>\n",
       "      <td>5</td>\n",
       "      <td>photo</td>\n",
       "      <td>4/18/2018 3:22</td>\n",
       "      <td>213</td>\n",
       "      <td>0</td>\n",
       "      <td>0</td>\n",
       "      <td>204</td>\n",
       "      <td>9</td>\n",
       "      <td>0</td>\n",
       "      <td>0</td>\n",
       "      <td>0</td>\n",
       "      <td>0</td>\n",
       "      <td>NaN</td>\n",
       "      <td>NaN</td>\n",
       "      <td>NaN</td>\n",
       "      <td>NaN</td>\n",
       "    </tr>\n",
       "  </tbody>\n",
       "</table>\n",
       "</div>"
      ],
      "text/plain": [
       "   status_id status_type status_published  num_reactions  num_comments  \\\n",
       "0          1       video   4/22/2018 6:00            529           512   \n",
       "1          2       photo  4/21/2018 22:45            150             0   \n",
       "2          3       video   4/21/2018 6:17            227           236   \n",
       "3          4       photo   4/21/2018 2:29            111             0   \n",
       "4          5       photo   4/18/2018 3:22            213             0   \n",
       "\n",
       "   num_shares  num_likes  num_loves  num_wows  num_hahas  num_sads  \\\n",
       "0         262        432         92         3          1         1   \n",
       "1           0        150          0         0          0         0   \n",
       "2          57        204         21         1          1         0   \n",
       "3           0        111          0         0          0         0   \n",
       "4           0        204          9         0          0         0   \n",
       "\n",
       "   num_angrys  Column1  Column2  Column3  Column4  \n",
       "0           0      NaN      NaN      NaN      NaN  \n",
       "1           0      NaN      NaN      NaN      NaN  \n",
       "2           0      NaN      NaN      NaN      NaN  \n",
       "3           0      NaN      NaN      NaN      NaN  \n",
       "4           0      NaN      NaN      NaN      NaN  "
      ]
     },
     "execution_count": 44,
     "metadata": {},
     "output_type": "execute_result"
    }
   ],
   "source": [
    "# fb_url = \"http://archive.ics.uci.edu/ml/machine-learning-databases/00488/Live.csv\"\n",
    "fb_url = \"http://archive.ics.uci.edu/ml/machine-learning-databases/00488/Live_20210128.csv\"\n",
    "fb = pd.read_csv(fb_url)\n",
    "fb.info()\n",
    "fb.head()"
   ]
  },
  {
   "cell_type": "markdown",
   "metadata": {},
   "source": [
    "필요 없는 열을 제외합니다."
   ]
  },
  {
   "cell_type": "code",
   "execution_count": 45,
   "metadata": {
    "scrolled": true
   },
   "outputs": [
    {
     "data": {
      "text/html": [
       "<div>\n",
       "<style scoped>\n",
       "    .dataframe tbody tr th:only-of-type {\n",
       "        vertical-align: middle;\n",
       "    }\n",
       "\n",
       "    .dataframe tbody tr th {\n",
       "        vertical-align: top;\n",
       "    }\n",
       "\n",
       "    .dataframe thead th {\n",
       "        text-align: right;\n",
       "    }\n",
       "</style>\n",
       "<table border=\"1\" class=\"dataframe\">\n",
       "  <thead>\n",
       "    <tr style=\"text-align: right;\">\n",
       "      <th></th>\n",
       "      <th>status_id</th>\n",
       "      <th>status_type</th>\n",
       "      <th>status_published</th>\n",
       "      <th>num_reactions</th>\n",
       "      <th>num_comments</th>\n",
       "      <th>num_shares</th>\n",
       "      <th>num_likes</th>\n",
       "      <th>num_loves</th>\n",
       "      <th>num_wows</th>\n",
       "      <th>num_hahas</th>\n",
       "      <th>num_sads</th>\n",
       "      <th>num_angrys</th>\n",
       "    </tr>\n",
       "  </thead>\n",
       "  <tbody>\n",
       "    <tr>\n",
       "      <th>0</th>\n",
       "      <td>1</td>\n",
       "      <td>video</td>\n",
       "      <td>4/22/2018 6:00</td>\n",
       "      <td>529</td>\n",
       "      <td>512</td>\n",
       "      <td>262</td>\n",
       "      <td>432</td>\n",
       "      <td>92</td>\n",
       "      <td>3</td>\n",
       "      <td>1</td>\n",
       "      <td>1</td>\n",
       "      <td>0</td>\n",
       "    </tr>\n",
       "    <tr>\n",
       "      <th>1</th>\n",
       "      <td>2</td>\n",
       "      <td>photo</td>\n",
       "      <td>4/21/2018 22:45</td>\n",
       "      <td>150</td>\n",
       "      <td>0</td>\n",
       "      <td>0</td>\n",
       "      <td>150</td>\n",
       "      <td>0</td>\n",
       "      <td>0</td>\n",
       "      <td>0</td>\n",
       "      <td>0</td>\n",
       "      <td>0</td>\n",
       "    </tr>\n",
       "    <tr>\n",
       "      <th>2</th>\n",
       "      <td>3</td>\n",
       "      <td>video</td>\n",
       "      <td>4/21/2018 6:17</td>\n",
       "      <td>227</td>\n",
       "      <td>236</td>\n",
       "      <td>57</td>\n",
       "      <td>204</td>\n",
       "      <td>21</td>\n",
       "      <td>1</td>\n",
       "      <td>1</td>\n",
       "      <td>0</td>\n",
       "      <td>0</td>\n",
       "    </tr>\n",
       "    <tr>\n",
       "      <th>3</th>\n",
       "      <td>4</td>\n",
       "      <td>photo</td>\n",
       "      <td>4/21/2018 2:29</td>\n",
       "      <td>111</td>\n",
       "      <td>0</td>\n",
       "      <td>0</td>\n",
       "      <td>111</td>\n",
       "      <td>0</td>\n",
       "      <td>0</td>\n",
       "      <td>0</td>\n",
       "      <td>0</td>\n",
       "      <td>0</td>\n",
       "    </tr>\n",
       "    <tr>\n",
       "      <th>4</th>\n",
       "      <td>5</td>\n",
       "      <td>photo</td>\n",
       "      <td>4/18/2018 3:22</td>\n",
       "      <td>213</td>\n",
       "      <td>0</td>\n",
       "      <td>0</td>\n",
       "      <td>204</td>\n",
       "      <td>9</td>\n",
       "      <td>0</td>\n",
       "      <td>0</td>\n",
       "      <td>0</td>\n",
       "      <td>0</td>\n",
       "    </tr>\n",
       "  </tbody>\n",
       "</table>\n",
       "</div>"
      ],
      "text/plain": [
       "   status_id status_type status_published  num_reactions  num_comments  \\\n",
       "0          1       video   4/22/2018 6:00            529           512   \n",
       "1          2       photo  4/21/2018 22:45            150             0   \n",
       "2          3       video   4/21/2018 6:17            227           236   \n",
       "3          4       photo   4/21/2018 2:29            111             0   \n",
       "4          5       photo   4/18/2018 3:22            213             0   \n",
       "\n",
       "   num_shares  num_likes  num_loves  num_wows  num_hahas  num_sads  num_angrys  \n",
       "0         262        432         92         3          1         1           0  \n",
       "1           0        150          0         0          0         0           0  \n",
       "2          57        204         21         1          1         0           0  \n",
       "3           0        111          0         0          0         0           0  \n",
       "4           0        204          9         0          0         0           0  "
      ]
     },
     "execution_count": 45,
     "metadata": {},
     "output_type": "execute_result"
    }
   ],
   "source": [
    "fb = fb.iloc[:, :12]\n",
    "fb.head()"
   ]
  },
  {
   "cell_type": "markdown",
   "metadata": {},
   "source": [
    "status_id를 기준으로 중복이 있는지 살핍니다."
   ]
  },
  {
   "cell_type": "code",
   "execution_count": 46,
   "metadata": {},
   "outputs": [
    {
     "data": {
      "text/html": [
       "<div>\n",
       "<style scoped>\n",
       "    .dataframe tbody tr th:only-of-type {\n",
       "        vertical-align: middle;\n",
       "    }\n",
       "\n",
       "    .dataframe tbody tr th {\n",
       "        vertical-align: top;\n",
       "    }\n",
       "\n",
       "    .dataframe thead th {\n",
       "        text-align: right;\n",
       "    }\n",
       "</style>\n",
       "<table border=\"1\" class=\"dataframe\">\n",
       "  <thead>\n",
       "    <tr style=\"text-align: right;\">\n",
       "      <th></th>\n",
       "      <th>status_id</th>\n",
       "      <th>status_type</th>\n",
       "      <th>status_published</th>\n",
       "      <th>num_reactions</th>\n",
       "      <th>num_comments</th>\n",
       "      <th>num_shares</th>\n",
       "      <th>num_likes</th>\n",
       "      <th>num_loves</th>\n",
       "      <th>num_wows</th>\n",
       "      <th>num_hahas</th>\n",
       "      <th>num_sads</th>\n",
       "      <th>num_angrys</th>\n",
       "    </tr>\n",
       "  </thead>\n",
       "  <tbody>\n",
       "  </tbody>\n",
       "</table>\n",
       "</div>"
      ],
      "text/plain": [
       "Empty DataFrame\n",
       "Columns: [status_id, status_type, status_published, num_reactions, num_comments, num_shares, num_likes, num_loves, num_wows, num_hahas, num_sads, num_angrys]\n",
       "Index: []"
      ]
     },
     "execution_count": 46,
     "metadata": {},
     "output_type": "execute_result"
    }
   ],
   "source": [
    "fb[fb.duplicated(['status_id'], keep = False)].sort_values('status_id')"
   ]
  },
  {
   "cell_type": "markdown",
   "metadata": {},
   "source": [
    "어떤 종류의 게시물이 있는지 확인해 봅니다."
   ]
  },
  {
   "cell_type": "code",
   "execution_count": 47,
   "metadata": {
    "scrolled": true
   },
   "outputs": [
    {
     "data": {
      "text/plain": [
       "photo     4288\n",
       "video     2334\n",
       "status     365\n",
       "link        63\n",
       "Name: status_type, dtype: int64"
      ]
     },
     "execution_count": 47,
     "metadata": {},
     "output_type": "execute_result"
    }
   ],
   "source": [
    "fb['status_type'].value_counts()"
   ]
  },
  {
   "cell_type": "markdown",
   "metadata": {},
   "source": [
    "비디오만 대상으로 해서 공유(num_shares)와 좋아요(num_likes)를 기준으로 클러스터링을 진행할 예정입니다."
   ]
  },
  {
   "cell_type": "code",
   "execution_count": 48,
   "metadata": {},
   "outputs": [
    {
     "name": "stdout",
     "output_type": "stream",
     "text": [
      "<class 'pandas.core.frame.DataFrame'>\n",
      "Int64Index: 2334 entries, 0 to 7034\n",
      "Data columns (total 12 columns):\n",
      " #   Column            Non-Null Count  Dtype \n",
      "---  ------            --------------  ----- \n",
      " 0   status_id         2334 non-null   int64 \n",
      " 1   status_type       2334 non-null   object\n",
      " 2   status_published  2334 non-null   object\n",
      " 3   num_reactions     2334 non-null   int64 \n",
      " 4   num_comments      2334 non-null   int64 \n",
      " 5   num_shares        2334 non-null   int64 \n",
      " 6   num_likes         2334 non-null   int64 \n",
      " 7   num_loves         2334 non-null   int64 \n",
      " 8   num_wows          2334 non-null   int64 \n",
      " 9   num_hahas         2334 non-null   int64 \n",
      " 10  num_sads          2334 non-null   int64 \n",
      " 11  num_angrys        2334 non-null   int64 \n",
      "dtypes: int64(10), object(2)\n",
      "memory usage: 237.0+ KB\n"
     ]
    }
   ],
   "source": [
    "fb_video = fb[fb['status_type'] == 'video']\n",
    "fb_video.info()"
   ]
  },
  {
   "cell_type": "markdown",
   "metadata": {},
   "source": [
    "우선 산점도를 그려봅니다."
   ]
  },
  {
   "cell_type": "code",
   "execution_count": 49,
   "metadata": {
    "scrolled": false
   },
   "outputs": [
    {
     "data": {
      "image/png": "[encoded data removed]",
      "text/plain": [
       "<Figure size 432x288 with 1 Axes>"
      ]
     },
     "metadata": {
      "needs_background": "light"
     },
     "output_type": "display_data"
    }
   ],
   "source": [
    "fig, ax = plt.subplots()\n",
    "\n",
    "ax.scatter(fb_video['num_shares'], fb_video['num_likes'], marker = 'o', alpha = 0.5, color = 'brown')\n",
    "plt.show()"
   ]
  },
  {
   "cell_type": "markdown",
   "metadata": {},
   "source": [
    "오차제곱항을 클러스터 1개 모델부터 6개 모델까지 구합니다. "
   ]
  },
  {
   "cell_type": "code",
   "execution_count": 50,
   "metadata": {},
   "outputs": [
    {
     "name": "stdout",
     "output_type": "stream",
     "text": [
      "[498230181.3663265, 207482057.81633225, 141380000.5824144, 108482920.32990345, 84968097.2896348, 67742809.2646745]\n"
     ]
    }
   ],
   "source": [
    "video_sse = []\n",
    "\n",
    "km1.fit_predict(fb_video.loc[:, ['num_shares', 'num_likes']])\n",
    "video_sse.append(km1.inertia_)\n",
    "\n",
    "km2.fit_predict(fb_video.loc[:, ['num_shares', 'num_likes']])\n",
    "video_sse.append(km2.inertia_)\n",
    "\n",
    "km3.fit_predict(fb_video.loc[:, ['num_shares', 'num_likes']])\n",
    "video_sse.append(km3.inertia_)\n",
    "\n",
    "km4.fit_predict(fb_video.loc[:, ['num_shares', 'num_likes']])\n",
    "video_sse.append(km4.inertia_)\n",
    "\n",
    "km5.fit_predict(fb_video.loc[:, ['num_shares', 'num_likes']])\n",
    "video_sse.append(km5.inertia_)\n",
    "\n",
    "km6.fit_predict(fb_video.loc[:, ['num_shares', 'num_likes']])\n",
    "video_sse.append(km6.inertia_)\n",
    "\n",
    "print(video_sse)"
   ]
  },
  {
   "cell_type": "markdown",
   "metadata": {},
   "source": [
    "팔꿈치가 확실하게 꺾이는 편은 아닙니다. 이런 경우에는 3~5개를 모두 그려서 클러스터 간 차이를 살펴보고 정하게 됩니다."
   ]
  },
  {
   "cell_type": "code",
   "execution_count": 51,
   "metadata": {},
   "outputs": [
    {
     "data": {
      "image/png": "[encoded data removed]",
      "text/plain": [
       "<Figure size 432x288 with 1 Axes>"
      ]
     },
     "metadata": {
      "needs_background": "light"
     },
     "output_type": "display_data"
    }
   ],
   "source": [
    "fig, ax = plt.subplots()\n",
    "\n",
    "ax.plot([1, 2, 3, 4, 5, 6], \n",
    "        video_sse, \n",
    "        marker = 'o')\n",
    "\n",
    "ax.set(title = 'Facebook live segmentation',\n",
    "      xlabel = 'The number of clusters',\n",
    "      ylabel = 'sse')\n",
    "\n",
    "plt.show()"
   ]
  },
  {
   "cell_type": "markdown",
   "metadata": {},
   "source": [
    "5개 클러스터 모델을 선택했습니다."
   ]
  },
  {
   "cell_type": "code",
   "execution_count": 52,
   "metadata": {},
   "outputs": [],
   "source": [
    "video_result = km5.fit_predict(fb_video.loc[:, ['num_shares', 'num_likes']])"
   ]
  },
  {
   "cell_type": "code",
   "execution_count": 53,
   "metadata": {},
   "outputs": [
    {
     "data": {
      "text/plain": [
       "(array([0, 1, 2, 3, 4]), array([ 100, 1504,   45,  162,  523], dtype=int64))"
      ]
     },
     "execution_count": 53,
     "metadata": {},
     "output_type": "execute_result"
    }
   ],
   "source": [
    "np.unique(video_result, return_counts=True)"
   ]
  },
  {
   "cell_type": "code",
   "execution_count": 54,
   "metadata": {},
   "outputs": [
    {
     "data": {
      "image/png": "[encoded data removed]",
      "text/plain": [
       "<Figure size 432x288 with 1 Axes>"
      ]
     },
     "metadata": {
      "needs_background": "light"
     },
     "output_type": "display_data"
    }
   ],
   "source": [
    "fig, ax = plt.subplots()\n",
    "\n",
    "scatter1 = ax.scatter(fb_video.loc[:, ['num_shares']], \n",
    "                      fb_video.loc[:, ['num_likes']],\n",
    "                      c = video_result, \n",
    "                      alpha = 0.5)\n",
    "\n",
    "handles, labels = scatter1.legend_elements()\n",
    "# mylabels = ['majority', 'm_likes', 'm_shares', 'h_likes', 'like-share']\n",
    "\n",
    "# ax.legend(handles, mylabels,\n",
    "ax.legend(handles, labels,\n",
    "          bbox_to_anchor=(1, 1), loc = 'upper left', # week10\n",
    "          title=\"Classes\")\n",
    "\n",
    "ax.scatter(km5.cluster_centers_[:, 0], \n",
    "           km5.cluster_centers_[:, 1],\n",
    "           s = 50,\n",
    "           marker = 'D',\n",
    "           c='r')\n",
    "\n",
    "ax.set(title = 'Facebook Live Sellers in Thailand',\n",
    "      xlabel = 'num_shares',\n",
    "      ylabel = 'num_likes')\n",
    "\n",
    "plt.show()"
   ]
  },
  {
   "cell_type": "markdown",
   "metadata": {},
   "source": [
    "게시물 대부분은 관심도 공유도 못 받지만, like를 받는 게시물과 share를 받는 게시물이 나뉘는 이유가 궁금합니다. 추가 데이터가 있으면 살펴볼 수 있는 부분이 아닐까 합니다."
   ]
  },
  {
   "cell_type": "markdown",
   "metadata": {},
   "source": [
    "<p style=\"color:#0000FF\";><font size = \"5\"><b>\n",
    " # 연습하기\n",
    "    </b></font></p>\n",
    "    \n",
    "Facebook Live Sellers in Thailand Data Set의 모든 데이터를 대상으로 진행합니다.\n",
    "\n",
    "- 댓글 수(num_comments)와 좋아요 수(num_likes)의 산점도를 먼저 그리세요.\n",
    "- 댓글 수(num_comments)와 좋아요 수(num_likes)를 기준으로 클러스터를 나누어 보되, 팔꿈치 방법을 참고해서 클러스터의 개수를 결정하세요.\n",
    "- 각 클러스터에 이름을 붙여 보세요."
   ]
  },
  {
   "cell_type": "code",
   "execution_count": 55,
   "metadata": {},
   "outputs": [
    {
     "data": {
      "text/html": [
       "<div>\n",
       "<style scoped>\n",
       "    .dataframe tbody tr th:only-of-type {\n",
       "        vertical-align: middle;\n",
       "    }\n",
       "\n",
       "    .dataframe tbody tr th {\n",
       "        vertical-align: top;\n",
       "    }\n",
       "\n",
       "    .dataframe thead th {\n",
       "        text-align: right;\n",
       "    }\n",
       "</style>\n",
       "<table border=\"1\" class=\"dataframe\">\n",
       "  <thead>\n",
       "    <tr style=\"text-align: right;\">\n",
       "      <th></th>\n",
       "      <th>status_id</th>\n",
       "      <th>status_type</th>\n",
       "      <th>status_published</th>\n",
       "      <th>num_reactions</th>\n",
       "      <th>num_comments</th>\n",
       "      <th>num_shares</th>\n",
       "      <th>num_likes</th>\n",
       "      <th>num_loves</th>\n",
       "      <th>num_wows</th>\n",
       "      <th>num_hahas</th>\n",
       "      <th>num_sads</th>\n",
       "      <th>num_angrys</th>\n",
       "    </tr>\n",
       "  </thead>\n",
       "  <tbody>\n",
       "    <tr>\n",
       "      <th>0</th>\n",
       "      <td>1</td>\n",
       "      <td>video</td>\n",
       "      <td>4/22/2018 6:00</td>\n",
       "      <td>529</td>\n",
       "      <td>512</td>\n",
       "      <td>262</td>\n",
       "      <td>432</td>\n",
       "      <td>92</td>\n",
       "      <td>3</td>\n",
       "      <td>1</td>\n",
       "      <td>1</td>\n",
       "      <td>0</td>\n",
       "    </tr>\n",
       "    <tr>\n",
       "      <th>1</th>\n",
       "      <td>2</td>\n",
       "      <td>photo</td>\n",
       "      <td>4/21/2018 22:45</td>\n",
       "      <td>150</td>\n",
       "      <td>0</td>\n",
       "      <td>0</td>\n",
       "      <td>150</td>\n",
       "      <td>0</td>\n",
       "      <td>0</td>\n",
       "      <td>0</td>\n",
       "      <td>0</td>\n",
       "      <td>0</td>\n",
       "    </tr>\n",
       "    <tr>\n",
       "      <th>2</th>\n",
       "      <td>3</td>\n",
       "      <td>video</td>\n",
       "      <td>4/21/2018 6:17</td>\n",
       "      <td>227</td>\n",
       "      <td>236</td>\n",
       "      <td>57</td>\n",
       "      <td>204</td>\n",
       "      <td>21</td>\n",
       "      <td>1</td>\n",
       "      <td>1</td>\n",
       "      <td>0</td>\n",
       "      <td>0</td>\n",
       "    </tr>\n",
       "    <tr>\n",
       "      <th>3</th>\n",
       "      <td>4</td>\n",
       "      <td>photo</td>\n",
       "      <td>4/21/2018 2:29</td>\n",
       "      <td>111</td>\n",
       "      <td>0</td>\n",
       "      <td>0</td>\n",
       "      <td>111</td>\n",
       "      <td>0</td>\n",
       "      <td>0</td>\n",
       "      <td>0</td>\n",
       "      <td>0</td>\n",
       "      <td>0</td>\n",
       "    </tr>\n",
       "    <tr>\n",
       "      <th>4</th>\n",
       "      <td>5</td>\n",
       "      <td>photo</td>\n",
       "      <td>4/18/2018 3:22</td>\n",
       "      <td>213</td>\n",
       "      <td>0</td>\n",
       "      <td>0</td>\n",
       "      <td>204</td>\n",
       "      <td>9</td>\n",
       "      <td>0</td>\n",
       "      <td>0</td>\n",
       "      <td>0</td>\n",
       "      <td>0</td>\n",
       "    </tr>\n",
       "  </tbody>\n",
       "</table>\n",
       "</div>"
      ],
      "text/plain": [
       "   status_id status_type status_published  num_reactions  num_comments  \\\n",
       "0          1       video   4/22/2018 6:00            529           512   \n",
       "1          2       photo  4/21/2018 22:45            150             0   \n",
       "2          3       video   4/21/2018 6:17            227           236   \n",
       "3          4       photo   4/21/2018 2:29            111             0   \n",
       "4          5       photo   4/18/2018 3:22            213             0   \n",
       "\n",
       "   num_shares  num_likes  num_loves  num_wows  num_hahas  num_sads  num_angrys  \n",
       "0         262        432         92         3          1         1           0  \n",
       "1           0        150          0         0          0         0           0  \n",
       "2          57        204         21         1          1         0           0  \n",
       "3           0        111          0         0          0         0           0  \n",
       "4           0        204          9         0          0         0           0  "
      ]
     },
     "execution_count": 55,
     "metadata": {},
     "output_type": "execute_result"
    }
   ],
   "source": [
    "fb.head()"
   ]
  },
  {
   "cell_type": "code",
   "execution_count": null,
   "metadata": {},
   "outputs": [],
   "source": []
  },
  {
   "cell_type": "markdown",
   "metadata": {},
   "source": [
    "## 참고\n",
    "#### 사이킷런의 KMeans 함수 구성\n",
    "\n",
    "사이킷런의 K-means clustering은 KMeans 함수에 구현되어 있습니다. 중요한 몇 가지 매개변수를 소개합니다.\n",
    "\n",
    "- __n_clustersint, default=8__ <br>\n",
    "클러스터 수\n",
    "\n",
    "- __init{‘k-means++’, ‘random’} or ndarray of shape (n_clusters, n_features), default=’k-means++’__ <br>\n",
    "처음 클러스터 중심점(cluster center/centroid)의 위치를 선택하는 알고리즘입니다. k-means++는 첫 중심점은 임의로 선택하되 다음 중심점은 이전에 선택한 중심점과 먼 좌표가 선택되도록 확률분포를 조정합니다. random은 무작위입니다. \n",
    "\n",
    "- __max_iterint, default=300__ <br>\n",
    "큰 데이터의 경우 최적의 중심점을 찾는 데 계산이 많이 필요할 수 있습니다. 이 때 몇 번이나 다시 계산할지 최대값을 설정합니다. \n",
    "\n",
    "https://scikit-learn.org/stable/modules/generated/sklearn.cluster.KMeans.html#sklearn.cluster.KMeans"
   ]
  },
  {
   "cell_type": "code",
   "execution_count": null,
   "metadata": {},
   "outputs": [],
   "source": [
    "help(KMeans)"
   ]
  },
  {
   "cell_type": "markdown",
   "metadata": {},
   "source": [
    "#### k-means clustering의 장단점과 한계\n",
    "\n",
    "사이킷런의 클러스터링에서는 여러 클러스터링 알고리즘이 예제 데이터에 적용된 결과를 확인하실 수 있습니다.\n",
    "\n",
    "링크: https://scikit-learn.org/stable/modules/clustering.html\n",
    "\n",
    "<img src='https://scikit-learn.org/stable/_images/sphx_glr_plot_cluster_comparison_001.png'/>"
   ]
  }
 ],
 "metadata": {
  "kernelspec": {
   "display_name": "Python 3",
   "language": "python",
   "name": "python3"
  },
  "language_info": {
   "codemirror_mode": {
    "name": "ipython",
    "version": 3
   },
   "file_extension": ".py",
   "mimetype": "text/x-python",
   "name": "python",
   "nbconvert_exporter": "python",
   "pygments_lexer": "ipython3",
   "version": "3.8.3"
  }
 },
 "nbformat": 4,
 "nbformat_minor": 4
}
