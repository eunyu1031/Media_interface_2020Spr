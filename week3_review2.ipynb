{
 "cells": [
  {
   "cell_type": "markdown",
   "metadata": {
    "colab_type": "text",
    "id": "MLptoxeOqyld"
   },
   "source": [
    "<p style=\"color:#0000FF\";><b>\n",
    "* 자료는 보통 순서대로 실행한다는 가정 하에 만듭니다. 제대로 실행이 되지 않는다면 이전의 셀을 실행했는지 다시 확인해 보세요. <br>\n",
    "* ctrl+enter는 선택한 셀의 코드를 실행하고, shift+enter는 해당 셀 실행 후 다음 셀로 넘어갑니다.\n",
    "    </b></p>"
   ]
  },
  {
   "cell_type": "markdown",
   "metadata": {
    "colab_type": "text",
    "id": "1QSILs2Fqyle"
   },
   "source": [
    "#### 0. 복습\n",
    "- 자료형\n",
    "- 자료형 변환\n",
    "\n",
    "#### 1. 함수 (function)\n",
    "- (1) 함수의 구조와 실행\n",
    "- (2) Python 내장 함수\n",
    "- (3) 메서드(method)\n",
    "\n",
    "#### 2. 모듈 (module)\n",
    "\n",
    "#### 3. Pandas: DataFrame\n",
    "- (1) iloc & loc\n",
    "- (2) Boolean indexing\n",
    "- (3) sort_values\n",
    "- 참고"
   ]
  },
  {
   "cell_type": "markdown",
   "metadata": {
    "colab_type": "text",
    "id": "KjC-HBd3qylf"
   },
   "source": [
    "# 0. 복습\n",
    "\n",
    "## 자료형\n",
    "Week2에서는 파이썬의 기본 자료형과 각 자료형(type)의 특징을 배웠습니다."
   ]
  },
  {
   "cell_type": "code",
   "execution_count": 1,
   "metadata": {
    "colab": {},
    "colab_type": "code",
    "id": "Nw7hFqnqqylg",
    "scrolled": true
   },
   "outputs": [
    {
     "name": "stdout",
     "output_type": "stream",
     "text": [
      "<class 'int'> <class 'str'> <class 'bool'> <class 'list'> <class 'tuple'> <class 'dict'>\n"
     ]
    }
   ],
   "source": [
    "mynum = 10\n",
    "mystring = \"Hello world\"\n",
    "mybool = True\n",
    "mylist = ['a', 'b', 'c']\n",
    "mytuple = (1, 10, 100)\n",
    "mydict = {'x': 1000, 'y':3.14, 101:\"item\"}\n",
    "\n",
    "print(type(mynum), type(mystring), type(mybool), \n",
    "      type(mylist), type(mytuple), type(mydict))"
   ]
  },
  {
   "cell_type": "markdown",
   "metadata": {
    "colab_type": "text",
    "id": "w3rpAoAYqylj"
   },
   "source": [
    "## 자료형 변환\n",
    "자료형에 맞는 값을 넣어 변수를 만들 수도 있지만, 다른 자료형의 값을 넣어도 함수를 이용하여 자료형을 바꾸어 줄 수 있습니다."
   ]
  },
  {
   "cell_type": "code",
   "execution_count": 2,
   "metadata": {
    "colab": {},
    "colab_type": "code",
    "id": "4qksipseqylj",
    "scrolled": true
   },
   "outputs": [
    {
     "name": "stdout",
     "output_type": "stream",
     "text": [
      "51.11\n"
     ]
    }
   ],
   "source": [
    "str1 = str(5)\n",
    "str2 = str(1.11)\n",
    "\n",
    "print(str1 + str2) # 문자열끼리 +하면 이어짐"
   ]
  },
  {
   "cell_type": "markdown",
   "metadata": {
    "colab_type": "text",
    "id": "OHhBmKU3qylm"
   },
   "source": [
    "위의 문자열 변수 str1, str2를 숫자로 바꾸어 사용할 수 있습니다. 이 때 숫자가 정수(integer)인지 실수(float)인지 구분해야 합니다."
   ]
  },
  {
   "cell_type": "code",
   "execution_count": 3,
   "metadata": {
    "colab": {},
    "colab_type": "code",
    "id": "Bhwt0D6nqyln",
    "scrolled": true
   },
   "outputs": [
    {
     "name": "stdout",
     "output_type": "stream",
     "text": [
      "num1: 5 num2: 1.11 num3: 1\n",
      "6.11\n"
     ]
    }
   ],
   "source": [
    "num1 = int(str1)\n",
    "num2 = float(str2)\n",
    "num3 = int(num2)\n",
    "\n",
    "print(\"num1:\", num1, \"num2:\", num2, \"num3:\", num3)\n",
    "print(num1 + num2)"
   ]
  },
  {
   "cell_type": "markdown",
   "metadata": {
    "colab_type": "text",
    "id": "K8KpNUctqylp"
   },
   "source": [
    "리스트, 튜플, 딕셔너리를 만드는 함수는 아래와 같습니다."
   ]
  },
  {
   "cell_type": "code",
   "execution_count": 4,
   "metadata": {
    "colab": {},
    "colab_type": "code",
    "id": "PbgQkIxWqylq",
    "scrolled": false
   },
   "outputs": [
    {
     "name": "stdout",
     "output_type": "stream",
     "text": [
      "['h', 'e', 'l', 'l', 'o']\n",
      "(9, 8, 7, 6)\n",
      "{'A': 'Avocado', 'L': 'Lemon', 'P': 'Pear'}\n"
     ]
    }
   ],
   "source": [
    "urlist = list(\"hello\")\n",
    "urtuple = tuple([9, 8, 7, 6])\n",
    "urdict = dict(A = \"Avocado\", L = 'Lemon', P = 'Pear')\n",
    "\n",
    "print(urlist, urtuple, urdict, sep = \"\\n\")"
   ]
  },
  {
   "cell_type": "markdown",
   "metadata": {
    "colab_type": "text",
    "id": "AQxMOHxeqyls"
   },
   "source": [
    "# 1. 함수 (function)\n",
    "\n",
    "- 함수는 프로그램에서 한 번 이상 실행할 수 있도록 여러 코드를 그룹화하는 장치입니다.\n",
    "함수는 입력(input)과 출력(output)을 받아 연산을 수행할 수 있습니다.\n",
    "\n",
    "- 파이썬은 여러 내장 함수를 제공합니다.\n",
    "파이썬은 여러 내장 함수를 제공하며, 우리는 이미 함수들을 사용해 왔습니다.\n",
    "\n",
    "- 메서드(method)는 함수의 한 형태로, 특정 자료형에서만 동작하는 함수를 말합니다.\n",
    "몇 가지 예를 통해 살펴봅시다."
   ]
  },
  {
   "cell_type": "markdown",
   "metadata": {
    "colab_type": "text",
    "id": "yEQnTY_iqylt"
   },
   "source": [
    "## 1-(1). 함수의 구조와 실행\n",
    "- 복잡한 코드를 여러 번 중복해서 작성하지 않고, 함수로 작성해서 입력값만 변경하도록 만들면 코드가 짧아집니다.\n",
    "- 중복 작성을 줄여서 코드가 간단해지고 읽기 쉬워집니다.\n",
    "- 서로 독립적인 작은 작업들을 함수로 만들어, 하나의 큰 일을 여러 개의 작은 단위로 나누어 볼 수 있습니다.\n",
    "- 코드에 수정이 필요한 경우, 함수로 만들어 놓았을 때 한 번만 수정하고 일을 마칠 수 있습니다."
   ]
  },
  {
   "cell_type": "markdown",
   "metadata": {
    "colab_type": "text",
    "id": "ToMBvDuqqylt"
   },
   "source": [
    "#### * 함수의 정의\n",
    "\n",
    "def 함수명(매개변수parameter):\n",
    "    \n",
    "    수행할 문장1\n",
    "    수행할 문장2\n",
    "    ...\n",
    "    return 결과값\n",
    "\n",
    "#### * 함수의 실행\n",
    "함수명(인수argument)\n",
    "\n",
    "<img src='https://github.com/eunyu1031/Media_interface_2020Spr/blob/master/pics/inout.png?raw=true'/>\n",
    "\n",
    "- **def**문이 실행되어야 함수가 만들어집니다. __들여쓰기__로 함수의 범위를 표시하는 데 유의합니다.\n",
    "- **return**은 결괏값 변수를 되돌려 줍니다. 결괏값은 출력값, 리턴값, 돌려주는 값 등 유사한 용어들이 혼용되어 쓰입니다. 되돌려 줄 것이 없으면 return을 생략할 수 있으며, 이 경우엔 return None과 같습니다.\n",
    "- **매개변수(parameter)**는 함수에 입력으로 전달된 값을 받는 변수를 뜻하고, **인수(argument)**는 def로 정의한 함수를 실행할 때 전달하는 입력값을 뜻합니다. 인수, 인자, 입력인수 등 비슷한 다른 용어와 혼용되어 쓰입니다. 함수를 실행할 때  직접적으로 전달하는 값을 의미합니다.\n",
    "- 인수는 따로 정의하지 않으면 위치에 따라 전달됩니다."
   ]
  },
  {
   "cell_type": "markdown",
   "metadata": {
    "colab_type": "text",
    "id": "TXIZ_9Lmqylt"
   },
   "source": [
    "간단한 예제 함수를 통해 함수의 작동 방식을 알아봅시다.\n",
    "\n",
    "코드 (1)과 (2)는 따로 입력을 받지 않고도 동작할 수 있는 함수입니다. 다만 아래의 코드 (1)은 결괏값이 있는 함수이며, 코드 (2)는 결괏값이 없는 경우입니다. \n",
    "\n",
    "코드 (2)는 화면에만 출력하고 변수에 저장할 수 있는 값은 주지 않은 채 함수가 끝나버리기 때문에 return None과 같습니다."
   ]
  },
  {
   "cell_type": "code",
   "execution_count": 0,
   "metadata": {
    "colab": {},
    "colab_type": "code",
    "id": "SpCUyv4Pqylu"
   },
   "outputs": [],
   "source": [
    "# (1)\n",
    "def Hello1():\n",
    "    return \"Hello world\"\n",
    "\n",
    "greeting1 = Hello1()\n",
    "print(greeting1)"
   ]
  },
  {
   "cell_type": "code",
   "execution_count": 0,
   "metadata": {
    "colab": {},
    "colab_type": "code",
    "id": "JIFiH5TQqyly",
    "scrolled": true
   },
   "outputs": [],
   "source": [
    "# (2)\n",
    "def Hello2():\n",
    "    print(\"Hello world\")\n",
    "    # return None\n",
    "\n",
    "greeting2 = Hello2() # Hello world 출력\n",
    "print(greeting2) # 저장되는 값이 없으므로 None"
   ]
  },
  {
   "cell_type": "markdown",
   "metadata": {
    "colab_type": "text",
    "id": "sWf-4A6zqyl0"
   },
   "source": [
    "Python에서 아무것도 없음을 나타내는 표현이 None입니다. 다른 프로그램에서는 NULL로 쓰기도 합니다.\n",
    "\n",
    "<img src='https://github.com/eunyu1031/Media_interface_2020Spr/blob/master/pics/nonepaper.png?raw=true'/>"
   ]
  },
  {
   "cell_type": "markdown",
   "metadata": {
    "colab_type": "text",
    "id": "vgQOfrWkqyl1"
   },
   "source": [
    "코드 (3)은 하나의 입력값(매개변수)을 필요로 하기 때문에 함수를 사용할 때 3이라는 값을 넘겨주었습니다. \n",
    "\n",
    "코드(4)는 x, y 두 개의 입력값을 필요로 해서 두 개를 넘겨주었습니다."
   ]
  },
  {
   "cell_type": "code",
   "execution_count": 5,
   "metadata": {
    "colab": {},
    "colab_type": "code",
    "id": "PNRhMddqqyl1"
   },
   "outputs": [
    {
     "data": {
      "text/plain": [
       "'Hello Hello Hello '"
      ]
     },
     "execution_count": 5,
     "metadata": {},
     "output_type": "execute_result"
    }
   ],
   "source": [
    "# (3)\n",
    "def sayHello(a):\n",
    "    return \"Hello \"* a\n",
    "\n",
    "sayHello(3)"
   ]
  },
  {
   "cell_type": "code",
   "execution_count": 6,
   "metadata": {
    "colab": {},
    "colab_type": "code",
    "id": "fQBLMsPFqyl3"
   },
   "outputs": [
    {
     "name": "stdout",
     "output_type": "stream",
     "text": [
      "1\n"
     ]
    }
   ],
   "source": [
    "# (4)\n",
    "def CalNums(x, y):\n",
    "    result = x - y\n",
    "    return result\n",
    "\n",
    "mynum = CalNums(4, 3)\n",
    "print(mynum)"
   ]
  },
  {
   "cell_type": "markdown",
   "metadata": {
    "colab_type": "text",
    "id": "oh_6bGKAqyl5"
   },
   "source": [
    "인수를 넘길 때 따로 지정하지 않으면 위치에 따라 값이 넘어가지만, 특정 매개변수를 지정해서 넘길 수 있습니다."
   ]
  },
  {
   "cell_type": "code",
   "execution_count": 7,
   "metadata": {
    "colab": {},
    "colab_type": "code",
    "id": "XFgjcryhqyl6"
   },
   "outputs": [
    {
     "name": "stdout",
     "output_type": "stream",
     "text": [
      "90\n"
     ]
    }
   ],
   "source": [
    "mynum2 = CalNums(y = 10, x = 100)\n",
    "print(mynum2)"
   ]
  },
  {
   "cell_type": "markdown",
   "metadata": {
    "colab_type": "text",
    "id": "9-8S9kiUqyl8"
   },
   "source": [
    "함수의 동작을 살펴보고 넘어갑시다.<br>\n",
    "http://pythontutor.com/visualize.html#mode=edit\n",
    "\n",
    "파이썬의 내장 함수는 위 (1)~(4) 예제처럼 모든 구성을 볼 수 없지만, help함수를 사용해서 그 매개변수와 기능을 확인할 수가 있습니다. 함수의 설명에서는 입력(매개변수)와 출력(return)에 유의해서 살펴봅니다."
   ]
  },
  {
   "cell_type": "markdown",
   "metadata": {
    "colab_type": "text",
    "id": "-GXbkignqyl8"
   },
   "source": [
    "## 1-(2) 파이썬 내장 함수\n",
    "- 파이썬은 여러 내장 함수를 제공하며, 우리는 이미 print, len, int, type등 다양한 함수를 사용했습니다.\n",
    "- help(함수명)으로 도움말을 볼 수 있습니다. 설명서를 보고 가구를 조립하듯 함수도 설명서를 보고 적절한 값을 넣을 수 있습니다.\n",
    "- 파이썬 내장 함수에 대한 가장 정확한 설명은 공식 문서에서 볼 수 있습니다. 필요하다면 구글에 검색해 여러 예제를 찾아볼 수도 있습니다.<br>\n",
    "https://docs.python.org/3/index.html <br>\n",
    "https://docs.python.org/ko/3/library/functions.html\n",
    "- 함수와 매개변수를 모두 외울 수는 없으므로 설명과 예제를 잘 읽고, 필요한 부분을 찾아서 사용할 줄 알아야 합니다.\n",
    "- 각 함수의 입력값과 출력값에 유의합니다."
   ]
  },
  {
   "cell_type": "code",
   "execution_count": 8,
   "metadata": {
    "colab": {},
    "colab_type": "code",
    "id": "7_woRlKkqyl9"
   },
   "outputs": [
    {
     "data": {
      "text/plain": [
       "30"
      ]
     },
     "execution_count": 8,
     "metadata": {},
     "output_type": "execute_result"
    }
   ],
   "source": [
    "len(\"Life is short, you need Python\")"
   ]
  },
  {
   "cell_type": "markdown",
   "metadata": {
    "colab_type": "text",
    "id": "5MZ0sxnVqymA"
   },
   "source": [
    "len 함수는 여러 아이템을 묶어서 가지고 있는 자료형(container)의 길이, 즉 아이템의 수를 알려주는 함수입니다. 아무것도 넣지 않고 실행하면 인수가 필요하다고 에러가 납니다."
   ]
  },
  {
   "cell_type": "code",
   "execution_count": 9,
   "metadata": {
    "colab": {},
    "colab_type": "code",
    "id": "O4j85VUdqymB"
   },
   "outputs": [
    {
     "ename": "TypeError",
     "evalue": "len() takes exactly one argument (0 given)",
     "output_type": "error",
     "traceback": [
      "\u001b[1;31m---------------------------------------------------------------------------\u001b[0m",
      "\u001b[1;31mTypeError\u001b[0m                                 Traceback (most recent call last)",
      "\u001b[1;32m<ipython-input-9-0312fd222fb7>\u001b[0m in \u001b[0;36m<module>\u001b[1;34m\u001b[0m\n\u001b[1;32m----> 1\u001b[1;33m \u001b[0mlen\u001b[0m\u001b[1;33m(\u001b[0m\u001b[1;33m)\u001b[0m \u001b[1;31m# error!\u001b[0m\u001b[1;33m\u001b[0m\u001b[1;33m\u001b[0m\u001b[0m\n\u001b[0m",
      "\u001b[1;31mTypeError\u001b[0m: len() takes exactly one argument (0 given)"
     ]
    }
   ],
   "source": [
    "len() # error! "
   ]
  },
  {
   "cell_type": "markdown",
   "metadata": {
    "colab_type": "text",
    "id": "nid7MVEHqymD"
   },
   "source": [
    "help(함수명)으로 도움말을 확인할 수 있습니다. 함수명 뒤쪽의 괄호에서 어떤 값을 입력으로 받는지 확인할 수 있습니다."
   ]
  },
  {
   "cell_type": "code",
   "execution_count": 10,
   "metadata": {
    "colab": {},
    "colab_type": "code",
    "id": "HfGqcQ7OqymD",
    "scrolled": true
   },
   "outputs": [
    {
     "name": "stdout",
     "output_type": "stream",
     "text": [
      "Help on built-in function len in module builtins:\n",
      "\n",
      "len(obj, /)\n",
      "    Return the number of items in a container.\n",
      "\n"
     ]
    }
   ],
   "source": [
    "help(len)"
   ]
  },
  {
   "cell_type": "markdown",
   "metadata": {
    "colab_type": "text",
    "id": "aTjgiwzYqymF"
   },
   "source": [
    "obj는 객체(object)로, 객체는 자료형(type)과 값(value), 그리고 객체를 저장하는 메모리의 주소(identity)로 구성됩니다. 변수(variable)는 객체에 붙인 이름입니다.<br>\n",
    "우리가 지금까지 배운 문자열, 리스트, 숫자 모두 객체이지만, 파이썬에서 기본으로 제공하는 내장 객체를 내장 자료형이라고 흔히 부르기 때문에 자료형으로 소개했습니다. 자세한 내용은 아래 링크를 참고하기 바랍니다.\n",
    "\n",
    "https://docs.python.org/ko/3/reference/datamodel.html"
   ]
  },
  {
   "cell_type": "markdown",
   "metadata": {
    "colab_type": "text",
    "id": "bH5iZyGYqymG"
   },
   "source": [
    "len()함수의 결과가 숫자이므로 숫자 연산이 가능합니다. 예를 들어, 리스트 변수 list1의 중앙에 위치한 값을 바로 찾아낼 수 있습니다."
   ]
  },
  {
   "cell_type": "code",
   "execution_count": 11,
   "metadata": {
    "colab": {},
    "colab_type": "code",
    "id": "H9sOzrqZqymG"
   },
   "outputs": [
    {
     "name": "stdout",
     "output_type": "stream",
     "text": [
      "15\n",
      "21\n"
     ]
    }
   ],
   "source": [
    "list1 = [1, 1, 2, 3, 5, 8, 13, 21, 34, 55, 89, 144, 233, 377, 610]\n",
    "\n",
    "print(len(list1))\n",
    "print(list1[len(list1)//2])"
   ]
  },
  {
   "cell_type": "markdown",
   "metadata": {
    "colab_type": "text",
    "id": "kKZvq9XRqymI"
   },
   "source": [
    "print 함수는 출력할 값을 받으며, sep, end 등의 매개변수를 받습니다. 매개변수에 __기본값(default)__이 있어서, 함수를 사용할 때 따로 지정하지 않으면 기본값대로 동작합니다."
   ]
  },
  {
   "cell_type": "code",
   "execution_count": 12,
   "metadata": {
    "colab": {},
    "colab_type": "code",
    "id": "C83Xt653qymJ",
    "scrolled": false
   },
   "outputs": [
    {
     "name": "stdout",
     "output_type": "stream",
     "text": [
      "Help on built-in function print in module builtins:\n",
      "\n",
      "print(...)\n",
      "    print(value, ..., sep=' ', end='\\n', file=sys.stdout, flush=False)\n",
      "    \n",
      "    Prints the values to a stream, or to sys.stdout by default.\n",
      "    Optional keyword arguments:\n",
      "    file:  a file-like object (stream); defaults to the current sys.stdout.\n",
      "    sep:   string inserted between values, default a space.\n",
      "    end:   string appended after the last value, default a newline.\n",
      "    flush: whether to forcibly flush the stream.\n",
      "\n"
     ]
    }
   ],
   "source": [
    "help(print)"
   ]
  },
  {
   "cell_type": "markdown",
   "metadata": {
    "colab_type": "text",
    "id": "OWazLWJQqymL"
   },
   "source": [
    "sep은 출력하는 값 사이에 넣는 값을 지정하며 기본값은 스페이스(공백)입니다."
   ]
  },
  {
   "cell_type": "code",
   "execution_count": 13,
   "metadata": {
    "colab": {},
    "colab_type": "code",
    "id": "2EUWw2VxqymL"
   },
   "outputs": [
    {
     "name": "stdout",
     "output_type": "stream",
     "text": [
      "1 2 3 4 5\n"
     ]
    }
   ],
   "source": [
    "print(1,2,3,4,5)"
   ]
  },
  {
   "cell_type": "markdown",
   "metadata": {
    "colab_type": "text",
    "id": "r9GLVEdsqymO"
   },
   "source": [
    "end는 출력한 값 마지막에 넣는 값을 지정하며 기본값은 newline(\\n, 엔터 한 번)입니다."
   ]
  },
  {
   "cell_type": "code",
   "execution_count": 14,
   "metadata": {
    "colab": {},
    "colab_type": "code",
    "id": "cmFcm8IfqymO",
    "scrolled": true
   },
   "outputs": [
    {
     "name": "stdout",
     "output_type": "stream",
     "text": [
      "1st line\n",
      "2nd line\n"
     ]
    }
   ],
   "source": [
    "print(\"1st line\")\n",
    "print(\"2nd line\")"
   ]
  },
  {
   "cell_type": "code",
   "execution_count": 15,
   "metadata": {
    "colab": {},
    "colab_type": "code",
    "id": "pfVH7bhjqymR"
   },
   "outputs": [
    {
     "name": "stdout",
     "output_type": "stream",
     "text": [
      "1st line\t2nd line\n"
     ]
    }
   ],
   "source": [
    "print(\"1st line\", end = '\\t') # tab으로 바꾸었을 때\n",
    "print(\"2nd line\")"
   ]
  },
  {
   "cell_type": "code",
   "execution_count": 16,
   "metadata": {
    "colab": {},
    "colab_type": "code",
    "id": "WZcmgtAiqymT"
   },
   "outputs": [
    {
     "name": "stdout",
     "output_type": "stream",
     "text": [
      "1st line 2nd line\n"
     ]
    }
   ],
   "source": [
    "print(\"1st line\", end = ' ') # 스페이스로 바꾸었을 때\n",
    "print(\"2nd line\")"
   ]
  },
  {
   "cell_type": "markdown",
   "metadata": {
    "colab_type": "text",
    "id": "fjF5BkzKqymU"
   },
   "source": [
    "<p style=\"color:#0000FF\";><font size = \"5\"><b>\n",
    "연습하기\n",
    "    </b></font></p>\n",
    "    \n",
    "#### 아래 print에서 sep을 활용하여 다음과 같이 출력하세요.\n",
    "\n",
    "82-10-1234-5678"
   ]
  },
  {
   "cell_type": "code",
   "execution_count": 17,
   "metadata": {
    "colab": {},
    "colab_type": "code",
    "id": "_ynhpwAmqymV",
    "scrolled": true
   },
   "outputs": [
    {
     "name": "stdout",
     "output_type": "stream",
     "text": [
      "82 10 1234 5678\n"
     ]
    }
   ],
   "source": [
    "print(82, 10, 1234, 5678)"
   ]
  },
  {
   "cell_type": "code",
   "execution_count": 0,
   "metadata": {
    "colab": {},
    "colab_type": "code",
    "id": "PBEXZbhlqymX"
   },
   "outputs": [],
   "source": []
  },
  {
   "cell_type": "markdown",
   "metadata": {
    "colab_type": "text",
    "id": "-07Q2G0Pqymc"
   },
   "source": [
    "## 1-(3) 메서드 (method)\n",
    "- 메서드(method)는 함수의 일종으로, 특정 자료형(type)에서만 작동합니다.\n",
    "- 자료형의 특징에 따른 여러 기능을 제공합니다. \n",
    "\n",
    "메서드는 많은 경우 __변수.메서드__형식으로 사용합니다. help에서 도움말을 볼 때에도 앞에 자료형을 붙여주어야 합니다. <br>\n",
    "각 자료형의 이름으로 메서드의 목록을 조회할 수 있습니다."
   ]
  },
  {
   "cell_type": "code",
   "execution_count": 18,
   "metadata": {
    "colab": {},
    "colab_type": "code",
    "id": "CHBIxWhWqymd"
   },
   "outputs": [
    {
     "name": "stdout",
     "output_type": "stream",
     "text": [
      "Help on class list in module builtins:\n",
      "\n",
      "class list(object)\n",
      " |  list(iterable=(), /)\n",
      " |  \n",
      " |  Built-in mutable sequence.\n",
      " |  \n",
      " |  If no argument is given, the constructor creates a new empty list.\n",
      " |  The argument must be an iterable if specified.\n",
      " |  \n",
      " |  Methods defined here:\n",
      " |  \n",
      " |  __add__(self, value, /)\n",
      " |      Return self+value.\n",
      " |  \n",
      " |  __contains__(self, key, /)\n",
      " |      Return key in self.\n",
      " |  \n",
      " |  __delitem__(self, key, /)\n",
      " |      Delete self[key].\n",
      " |  \n",
      " |  __eq__(self, value, /)\n",
      " |      Return self==value.\n",
      " |  \n",
      " |  __ge__(self, value, /)\n",
      " |      Return self>=value.\n",
      " |  \n",
      " |  __getattribute__(self, name, /)\n",
      " |      Return getattr(self, name).\n",
      " |  \n",
      " |  __getitem__(...)\n",
      " |      x.__getitem__(y) <==> x[y]\n",
      " |  \n",
      " |  __gt__(self, value, /)\n",
      " |      Return self>value.\n",
      " |  \n",
      " |  __iadd__(self, value, /)\n",
      " |      Implement self+=value.\n",
      " |  \n",
      " |  __imul__(self, value, /)\n",
      " |      Implement self*=value.\n",
      " |  \n",
      " |  __init__(self, /, *args, **kwargs)\n",
      " |      Initialize self.  See help(type(self)) for accurate signature.\n",
      " |  \n",
      " |  __iter__(self, /)\n",
      " |      Implement iter(self).\n",
      " |  \n",
      " |  __le__(self, value, /)\n",
      " |      Return self<=value.\n",
      " |  \n",
      " |  __len__(self, /)\n",
      " |      Return len(self).\n",
      " |  \n",
      " |  __lt__(self, value, /)\n",
      " |      Return self<value.\n",
      " |  \n",
      " |  __mul__(self, value, /)\n",
      " |      Return self*value.\n",
      " |  \n",
      " |  __ne__(self, value, /)\n",
      " |      Return self!=value.\n",
      " |  \n",
      " |  __repr__(self, /)\n",
      " |      Return repr(self).\n",
      " |  \n",
      " |  __reversed__(self, /)\n",
      " |      Return a reverse iterator over the list.\n",
      " |  \n",
      " |  __rmul__(self, value, /)\n",
      " |      Return value*self.\n",
      " |  \n",
      " |  __setitem__(self, key, value, /)\n",
      " |      Set self[key] to value.\n",
      " |  \n",
      " |  __sizeof__(self, /)\n",
      " |      Return the size of the list in memory, in bytes.\n",
      " |  \n",
      " |  append(self, object, /)\n",
      " |      Append object to the end of the list.\n",
      " |  \n",
      " |  clear(self, /)\n",
      " |      Remove all items from list.\n",
      " |  \n",
      " |  copy(self, /)\n",
      " |      Return a shallow copy of the list.\n",
      " |  \n",
      " |  count(self, value, /)\n",
      " |      Return number of occurrences of value.\n",
      " |  \n",
      " |  extend(self, iterable, /)\n",
      " |      Extend list by appending elements from the iterable.\n",
      " |  \n",
      " |  index(self, value, start=0, stop=9223372036854775807, /)\n",
      " |      Return first index of value.\n",
      " |      \n",
      " |      Raises ValueError if the value is not present.\n",
      " |  \n",
      " |  insert(self, index, object, /)\n",
      " |      Insert object before index.\n",
      " |  \n",
      " |  pop(self, index=-1, /)\n",
      " |      Remove and return item at index (default last).\n",
      " |      \n",
      " |      Raises IndexError if list is empty or index is out of range.\n",
      " |  \n",
      " |  remove(self, value, /)\n",
      " |      Remove first occurrence of value.\n",
      " |      \n",
      " |      Raises ValueError if the value is not present.\n",
      " |  \n",
      " |  reverse(self, /)\n",
      " |      Reverse *IN PLACE*.\n",
      " |  \n",
      " |  sort(self, /, *, key=None, reverse=False)\n",
      " |      Sort the list in ascending order and return None.\n",
      " |      \n",
      " |      The sort is in-place (i.e. the list itself is modified) and stable (i.e. the\n",
      " |      order of two equal elements is maintained).\n",
      " |      \n",
      " |      If a key function is given, apply it once to each list item and sort them,\n",
      " |      ascending or descending, according to their function values.\n",
      " |      \n",
      " |      The reverse flag can be set to sort in descending order.\n",
      " |  \n",
      " |  ----------------------------------------------------------------------\n",
      " |  Static methods defined here:\n",
      " |  \n",
      " |  __new__(*args, **kwargs) from builtins.type\n",
      " |      Create and return a new object.  See help(type) for accurate signature.\n",
      " |  \n",
      " |  ----------------------------------------------------------------------\n",
      " |  Data and other attributes defined here:\n",
      " |  \n",
      " |  __hash__ = None\n",
      "\n"
     ]
    }
   ],
   "source": [
    "help(list)"
   ]
  },
  {
   "cell_type": "code",
   "execution_count": 19,
   "metadata": {
    "colab": {},
    "colab_type": "code",
    "id": "6nwXSE1lqyme"
   },
   "outputs": [
    {
     "name": "stdout",
     "output_type": "stream",
     "text": [
      "Help on method_descriptor:\n",
      "\n",
      "sort(self, /, *, key=None, reverse=False)\n",
      "    Sort the list in ascending order and return None.\n",
      "    \n",
      "    The sort is in-place (i.e. the list itself is modified) and stable (i.e. the\n",
      "    order of two equal elements is maintained).\n",
      "    \n",
      "    If a key function is given, apply it once to each list item and sort them,\n",
      "    ascending or descending, according to their function values.\n",
      "    \n",
      "    The reverse flag can be set to sort in descending order.\n",
      "\n"
     ]
    }
   ],
   "source": [
    "help(list.sort)"
   ]
  },
  {
   "cell_type": "markdown",
   "metadata": {
    "colab_type": "text",
    "id": "KYabRxojqymh"
   },
   "source": [
    "list.sort의 설명에서 in place는 리스트 변수의 값이 바뀐다는 뜻입니다(mutable). 예제를 살펴봅시다."
   ]
  },
  {
   "cell_type": "code",
   "execution_count": 20,
   "metadata": {
    "colab": {},
    "colab_type": "code",
    "id": "mtoNalgpqymh"
   },
   "outputs": [
    {
     "name": "stdout",
     "output_type": "stream",
     "text": [
      "[-8, 0, 3, 4, 9, 10]\n"
     ]
    }
   ],
   "source": [
    "mylist = [9, 4, 10, 3, -8, 0]\n",
    "\n",
    "mylist.sort()\n",
    "\n",
    "print(mylist)"
   ]
  },
  {
   "cell_type": "markdown",
   "metadata": {
    "colab_type": "text",
    "id": "vQ8_o1_gqymj"
   },
   "source": [
    "매개변수 reverse의 기본값을 바꾸어 봅시다."
   ]
  },
  {
   "cell_type": "code",
   "execution_count": 21,
   "metadata": {
    "colab": {},
    "colab_type": "code",
    "id": "ZnuRyoL0qymk"
   },
   "outputs": [
    {
     "name": "stdout",
     "output_type": "stream",
     "text": [
      "[10, 9, 4, 3, 0, -8]\n"
     ]
    }
   ],
   "source": [
    "mylist.sort(reverse = True)\n",
    "print(mylist)"
   ]
  },
  {
   "cell_type": "markdown",
   "metadata": {
    "colab_type": "text",
    "id": "ez3t6cQ8qymm"
   },
   "source": [
    "list.sort 메서드는 값을 돌려주지 않고 원래 변수만 바꾸고 끝나기 때문에 None값이 newlist에 저장됩니다."
   ]
  },
  {
   "cell_type": "code",
   "execution_count": 22,
   "metadata": {
    "colab": {},
    "colab_type": "code",
    "id": "gi6e8WTBqymm"
   },
   "outputs": [
    {
     "name": "stdout",
     "output_type": "stream",
     "text": [
      "None\n"
     ]
    }
   ],
   "source": [
    "newlist = mylist.sort(reverse = True)\n",
    "print(newlist)"
   ]
  },
  {
   "cell_type": "markdown",
   "metadata": {
    "colab_type": "text",
    "id": "h16hxrWFqymo"
   },
   "source": [
    "결괏값을 돌려주는 메서드를 살펴봅시다. <br>\n",
    "str.replace는 지정한 문자열을 다른 문자열로 바꾸어 주는 메서드입니다."
   ]
  },
  {
   "cell_type": "code",
   "execution_count": 23,
   "metadata": {
    "colab": {},
    "colab_type": "code",
    "id": "g41kv8Nqqymo",
    "scrolled": true
   },
   "outputs": [
    {
     "name": "stdout",
     "output_type": "stream",
     "text": [
      "Help on method_descriptor:\n",
      "\n",
      "replace(self, old, new, count=-1, /)\n",
      "    Return a copy with all occurrences of substring old replaced by new.\n",
      "    \n",
      "      count\n",
      "        Maximum number of occurrences to replace.\n",
      "        -1 (the default value) means replace all occurrences.\n",
      "    \n",
      "    If the optional argument count is given, only the first count occurrences are\n",
      "    replaced.\n",
      "\n"
     ]
    }
   ],
   "source": [
    "help(str.replace)"
   ]
  },
  {
   "cell_type": "markdown",
   "metadata": {
    "colab_type": "text",
    "id": "IM6U698Wqymq"
   },
   "source": [
    "replace의 경우 입력값은 문자열(string) 변수이며, 결괏값으로는 문자열(string) 변수를 되돌려 줍니다.<br>\n",
    "입력한 문자열 변수는 변하지 않으며, 새로 바뀐 문자열을 리턴합니다."
   ]
  },
  {
   "cell_type": "code",
   "execution_count": 24,
   "metadata": {
    "colab": {},
    "colab_type": "code",
    "id": "HwitFVS6qymq"
   },
   "outputs": [
    {
     "name": "stdout",
     "output_type": "stream",
     "text": [
      "<class 'str'> 1,234,500\n",
      "<class 'str'> 1234500\n",
      "<class 'int'> 1234500\n"
     ]
    }
   ],
   "source": [
    "input1 = \"1,234,500\"\n",
    "output1 = input1.replace(\",\",\"\")\n",
    "\n",
    "print(type(input1), input1)\n",
    "print(type(output1), output1)\n",
    "print(type(int(output1)), int(output1)) # 정수로 변환"
   ]
  },
  {
   "cell_type": "markdown",
   "metadata": {
    "colab_type": "text",
    "id": "fkESNwuAqymr"
   },
   "source": [
    "<p style=\"color:#0000FF\";><font size = \"5\"><b>\n",
    "연습하기\n",
    "    </b></font></p>\n",
    "    \n",
    "#### (1) 문자열 변수 cap에 str.lower를 활용한 후 원래 변수가 바뀌는지 확인하세요.\n",
    "\n",
    "#### (2) 문자열 변수 test1, test2에 str.split을 활용하고 리턴된 결괏값의 자료형을 확인하세요.\n",
    "\n",
    "#### (3) 리스트 변수 testlist에 list.append를 활용하고 원래 변수가 바뀌는지, 리턴된 결괏값의 자료형은 무엇인지 확인하세요."
   ]
  },
  {
   "cell_type": "code",
   "execution_count": 25,
   "metadata": {
    "colab": {},
    "colab_type": "code",
    "id": "Dxv-Ud9rqyms",
    "scrolled": true
   },
   "outputs": [
    {
     "name": "stdout",
     "output_type": "stream",
     "text": [
      "Help on method_descriptor:\n",
      "\n",
      "lower(self, /)\n",
      "    Return a copy of the string converted to lowercase.\n",
      "\n"
     ]
    }
   ],
   "source": [
    "help(str.lower)"
   ]
  },
  {
   "cell_type": "code",
   "execution_count": 0,
   "metadata": {
    "colab": {},
    "colab_type": "code",
    "id": "3bx69Czfqymu",
    "scrolled": true
   },
   "outputs": [],
   "source": [
    "cap = \"HELLO WORLD\"\n",
    "\n"
   ]
  },
  {
   "cell_type": "code",
   "execution_count": null,
   "metadata": {},
   "outputs": [],
   "source": []
  },
  {
   "cell_type": "code",
   "execution_count": 26,
   "metadata": {
    "colab": {},
    "colab_type": "code",
    "id": "EJZa_BS7qym0"
   },
   "outputs": [
    {
     "name": "stdout",
     "output_type": "stream",
     "text": [
      "Help on method_descriptor:\n",
      "\n",
      "split(self, /, sep=None, maxsplit=-1)\n",
      "    Return a list of the words in the string, using sep as the delimiter string.\n",
      "    \n",
      "    sep\n",
      "      The delimiter according which to split the string.\n",
      "      None (the default value) means split according to any whitespace,\n",
      "      and discard empty strings from the result.\n",
      "    maxsplit\n",
      "      Maximum number of splits to do.\n",
      "      -1 (the default value) means no limit.\n",
      "\n"
     ]
    }
   ],
   "source": [
    "help(str.split)"
   ]
  },
  {
   "cell_type": "code",
   "execution_count": 0,
   "metadata": {
    "colab": {},
    "colab_type": "code",
    "id": "zcR_-H-fqym3"
   },
   "outputs": [],
   "source": [
    "test1 = \"Life is short, you need Python\"\n",
    "test2 = \"2020-03-30\"\n",
    "\n"
   ]
  },
  {
   "cell_type": "code",
   "execution_count": null,
   "metadata": {},
   "outputs": [],
   "source": []
  },
  {
   "cell_type": "code",
   "execution_count": 27,
   "metadata": {
    "colab": {},
    "colab_type": "code",
    "id": "93w5551nqym7",
    "scrolled": true
   },
   "outputs": [
    {
     "name": "stdout",
     "output_type": "stream",
     "text": [
      "Help on method_descriptor:\n",
      "\n",
      "append(self, object, /)\n",
      "    Append object to the end of the list.\n",
      "\n"
     ]
    }
   ],
   "source": [
    "help(list.append)"
   ]
  },
  {
   "cell_type": "code",
   "execution_count": 0,
   "metadata": {
    "colab": {},
    "colab_type": "code",
    "id": "y2szhmyMqym9"
   },
   "outputs": [],
   "source": [
    "testlist = [1, 'z', (1000, -10)]"
   ]
  },
  {
   "cell_type": "code",
   "execution_count": null,
   "metadata": {},
   "outputs": [],
   "source": []
  },
  {
   "cell_type": "markdown",
   "metadata": {
    "colab_type": "text",
    "id": "VibxOCf2qynB"
   },
   "source": [
    "# 2. 모듈 (module)\n",
    "\n",
    "#### 파이썬 내장 함수 외의 함수를 사용하기 위해 모듈을 import로 가져올 수 있습니다.\n",
    "모듈은 프로그램의 구성 단위로, 다른 모듈, 함수, 변수, 상수 등을 다시 사용하기 위해 묶어서 가지고 있습니다. 모듈은 파이썬 파일로, 직접 만들 수도 있고 다른 사람들이 만든 모듈을 가져와 사용할 수도 있습니다. 아래와 같이 import를 이용해서 파이썬 표준 라이브러리 내 모듈을 찾고 가져올 수 있습니다.\n",
    "\n",
    "__import__ _모듈이름_\n",
    "\n",
    "_모듈이름.함수이름()_"
   ]
  },
  {
   "cell_type": "code",
   "execution_count": 28,
   "metadata": {
    "colab": {},
    "colab_type": "code",
    "id": "eI0uijp9qynD"
   },
   "outputs": [],
   "source": [
    "import random # import를 하지 않고 아래 코드를 실행하면 에러가 납니다."
   ]
  },
  {
   "cell_type": "code",
   "execution_count": 29,
   "metadata": {
    "colab": {},
    "colab_type": "code",
    "id": "_yltcQpQqynE"
   },
   "outputs": [
    {
     "name": "stdout",
     "output_type": "stream",
     "text": [
      "94\n"
     ]
    }
   ],
   "source": [
    "myint = random.randint(1, 100)\n",
    "print(myint)"
   ]
  },
  {
   "cell_type": "markdown",
   "metadata": {
    "colab_type": "text",
    "id": "Z1W6CAI2qynG"
   },
   "source": [
    "random은 파이썬 내장 모듈로, randint(a, b)는 정수 a이상 b이하의 정수 중 아무 정수나 무작위로 택해서 결괏값으로 돌려주는 함수입니다.\n",
    "\n",
    "https://docs.python.org/ko/3/library/random.html\n",
    "\n",
    "\n",
    "<dl class=\"function\">\n",
    "<dt id=\"random.randint\">\n",
    "<code class=\"descclassname\">random.</code><code class=\"descname\">randint</code><span class=\"sig-paren\">(</span><em>a</em>, <em>b</em><span class=\"sig-paren\">)</span><a class=\"headerlink\" href=\"#random.randint\" title=\"정의 주소\">¶</a></dt>\n",
    "<dd><p>Return a random integer <em>N</em> such that <code class=\"docutils literal notranslate\"><span class=\"pre\">a</span> <span class=\"pre\">&lt;=</span> <span class=\"pre\">N</span> <span class=\"pre\">&lt;=</span> <span class=\"pre\">b</span></code>.  Alias for\n",
    "<code class=\"docutils literal notranslate\"><span class=\"pre\">randrange(a,</span> <span class=\"pre\">b+1)</span></code>.</p>\n",
    "</dd></dl>"
   ]
  },
  {
   "cell_type": "code",
   "execution_count": 30,
   "metadata": {
    "colab": {},
    "colab_type": "code",
    "id": "t485cJPlqynG"
   },
   "outputs": [
    {
     "ename": "NameError",
     "evalue": "name 'randint' is not defined",
     "output_type": "error",
     "traceback": [
      "\u001b[1;31m---------------------------------------------------------------------------\u001b[0m",
      "\u001b[1;31mNameError\u001b[0m                                 Traceback (most recent call last)",
      "\u001b[1;32m<ipython-input-30-7eec9c27b848>\u001b[0m in \u001b[0;36m<module>\u001b[1;34m\u001b[0m\n\u001b[1;32m----> 1\u001b[1;33m \u001b[0mhelp\u001b[0m\u001b[1;33m(\u001b[0m\u001b[0mrandint\u001b[0m\u001b[1;33m)\u001b[0m \u001b[1;31m# error\u001b[0m\u001b[1;33m\u001b[0m\u001b[1;33m\u001b[0m\u001b[0m\n\u001b[0m",
      "\u001b[1;31mNameError\u001b[0m: name 'randint' is not defined"
     ]
    }
   ],
   "source": [
    "help(randint) # error"
   ]
  },
  {
   "cell_type": "markdown",
   "metadata": {
    "colab_type": "text",
    "id": "GXf1S32nqynI"
   },
   "source": [
    "import한 모듈의 함수를 사용할 때에는 앞에 모듈 이름을 붙여 주어야 하며, 이는 help를 사용할 때에도 적용됩니다."
   ]
  },
  {
   "cell_type": "code",
   "execution_count": 31,
   "metadata": {
    "colab": {},
    "colab_type": "code",
    "id": "Zqv4ix5yqynJ"
   },
   "outputs": [
    {
     "name": "stdout",
     "output_type": "stream",
     "text": [
      "Help on method randint in module random:\n",
      "\n",
      "randint(a, b) method of random.Random instance\n",
      "    Return random integer in range [a, b], including both end points.\n",
      "\n"
     ]
    }
   ],
   "source": [
    "help(random.randint)"
   ]
  },
  {
   "cell_type": "markdown",
   "metadata": {
    "colab_type": "text",
    "id": "SabriSePqynK"
   },
   "source": [
    "#### 모듈에서 특정 함수만 가져오기\n",
    "만약 모듈에서 특정 함수만 가져와서 사용하고 싶다면 from을 활용할 수 있습니다. 이 경우에 해당 모듈에서 다른 함수는 가져와서 사용할 수 없습니다.\n",
    "\n",
    "__from__ _모듈이름_ __import__ _함수이름_\n",
    "\n",
    "_함수이름()_"
   ]
  },
  {
   "cell_type": "code",
   "execution_count": 32,
   "metadata": {
    "colab": {},
    "colab_type": "code",
    "id": "hSPfoK-yqynL"
   },
   "outputs": [],
   "source": [
    "from time import sleep"
   ]
  },
  {
   "cell_type": "markdown",
   "metadata": {
    "colab_type": "text",
    "id": "nfVg-nH3qynM"
   },
   "source": [
    "time은 파이썬 내장 모듈로, 시간과 관련한 함수들을 가지고 있습니다. 이 중 sleep이라는 함수는 입력한 숫자만큼 동작을 하지 않고 대기하는 기능을 합니다.\n",
    "\n",
    "https://docs.python.org/ko/3/library/time.html#time.sleep"
   ]
  },
  {
   "cell_type": "code",
   "execution_count": 33,
   "metadata": {
    "colab": {},
    "colab_type": "code",
    "id": "qc1K2bRCqynM"
   },
   "outputs": [
    {
     "ename": "NameError",
     "evalue": "name 'time' is not defined",
     "output_type": "error",
     "traceback": [
      "\u001b[1;31m---------------------------------------------------------------------------\u001b[0m",
      "\u001b[1;31mNameError\u001b[0m                                 Traceback (most recent call last)",
      "\u001b[1;32m<ipython-input-33-1c82ed544860>\u001b[0m in \u001b[0;36m<module>\u001b[1;34m\u001b[0m\n\u001b[1;32m----> 1\u001b[1;33m \u001b[0mhelp\u001b[0m\u001b[1;33m(\u001b[0m\u001b[0mtime\u001b[0m\u001b[1;33m.\u001b[0m\u001b[0msleep\u001b[0m\u001b[1;33m)\u001b[0m \u001b[1;31m# error\u001b[0m\u001b[1;33m\u001b[0m\u001b[1;33m\u001b[0m\u001b[0m\n\u001b[0m",
      "\u001b[1;31mNameError\u001b[0m: name 'time' is not defined"
     ]
    }
   ],
   "source": [
    "help(time.sleep) # error"
   ]
  },
  {
   "cell_type": "code",
   "execution_count": 34,
   "metadata": {
    "colab": {},
    "colab_type": "code",
    "id": "mWY_qhX-qynO"
   },
   "outputs": [
    {
     "name": "stdout",
     "output_type": "stream",
     "text": [
      "Help on built-in function sleep in module time:\n",
      "\n",
      "sleep(...)\n",
      "    sleep(seconds)\n",
      "    \n",
      "    Delay execution for a given number of seconds.  The argument may be\n",
      "    a floating point number for subsecond precision.\n",
      "\n"
     ]
    }
   ],
   "source": [
    "help(sleep)"
   ]
  },
  {
   "cell_type": "code",
   "execution_count": 35,
   "metadata": {
    "colab": {},
    "colab_type": "code",
    "id": "Fgql3ODRqynQ"
   },
   "outputs": [
    {
     "name": "stdout",
     "output_type": "stream",
     "text": [
      "Please wait for a moment\n",
      "Thank you for your patience\n"
     ]
    }
   ],
   "source": [
    "print(\"Please wait for a moment\")\n",
    "sleep(2)\n",
    "print(\"Thank you for your patience\")"
   ]
  },
  {
   "cell_type": "markdown",
   "metadata": {
    "colab_type": "text",
    "id": "9Hl7-7olqynU"
   },
   "source": [
    "**모듈 이름 바꾸어 사용하기**\n",
    "\n",
    "만약 모듈의 이름이 길면 아래와 같이 간단하게 바꾸어 사용할 수도 있습니다.\n",
    "\n",
    "__import__ _모듈이름_ __as__ _다른이름_\n",
    "\n",
    "_다른이름.함수이름()_"
   ]
  },
  {
   "cell_type": "code",
   "execution_count": 36,
   "metadata": {
    "colab": {},
    "colab_type": "code",
    "id": "zITGWS29qynV"
   },
   "outputs": [
    {
     "name": "stdout",
     "output_type": "stream",
     "text": [
      "[[1. 1. 1. 1.]\n",
      " [1. 1. 1. 1.]\n",
      " [1. 1. 1. 1.]]\n"
     ]
    }
   ],
   "source": [
    "import numpy \n",
    "\n",
    "myarr = numpy.ones((3, 4))\n",
    "print(myarr)"
   ]
  },
  {
   "cell_type": "code",
   "execution_count": 37,
   "metadata": {
    "colab": {},
    "colab_type": "code",
    "id": "h3DlchUkqynX"
   },
   "outputs": [
    {
     "name": "stdout",
     "output_type": "stream",
     "text": [
      "[[1. 1. 1. 1.]\n",
      " [1. 1. 1. 1.]\n",
      " [1. 1. 1. 1.]]\n"
     ]
    }
   ],
   "source": [
    "import numpy as np\n",
    "\n",
    "myarr = np.ones((3, 4))\n",
    "print(myarr)"
   ]
  },
  {
   "cell_type": "markdown",
   "metadata": {
    "colab_type": "text",
    "id": "nzPGMcccqynY"
   },
   "source": [
    "<p style=\"color:#0000FF\";><font size = \"5\"><b>\n",
    "연습하기\n",
    "    </b></font></p>\n",
    "    \n",
    "#### (1) math 모듈에서 sqrt 함수만 가져와 사용해 보세요.\n",
    "math는 파이썬 내장 모듈로, sqrt(x)는 x의 제곱근을 결괏값으로 돌려주는 함수입니다(√x). \n",
    "\n",
    "https://docs.python.org/ko/3/library/math.html\n",
    "\n",
    "<dl class=\"function\">\n",
    "<dt id=\"math.sqrt\">\n",
    "<code class=\"descclassname\">math.</code><code class=\"descname\">sqrt</code><span class=\"sig-paren\">(</span><em>x</em><span class=\"sig-paren\">)</span><a class=\"headerlink\" href=\"#math.sqrt\" title=\"정의 주소\">¶</a></dt>\n",
    "<dd><p>Return the square root of <em>x</em>.</p>\n",
    "</dd></dl>\n",
    "\n",
    "#### (2) 파이썬 표준 라이브러리 os 모듈을 가져와 getcwd 함수의 결과를 얻어 보세요.\n",
    "help 함수로 어떻게 사용하는지 살펴보세요."
   ]
  },
  {
   "cell_type": "code",
   "execution_count": 0,
   "metadata": {
    "colab": {},
    "colab_type": "code",
    "id": "uAEZl3Ffqynd"
   },
   "outputs": [],
   "source": []
  },
  {
   "cell_type": "code",
   "execution_count": null,
   "metadata": {},
   "outputs": [],
   "source": []
  },
  {
   "cell_type": "markdown",
   "metadata": {
    "colab_type": "text",
    "id": "ZfAhY2yvqynh"
   },
   "source": [
    "# 3. Pandas\n",
    "\n",
    "- 기본적으로 2차원 구조를 가진 DataFrame에서 인덱스(index) 또는 라벨(label)을 중심으로 필요한 값을 선택하는 iloc & loc의 동작을 살펴봅니다.\n",
    "- 조건을 이용해 True인 부분만 가져오는 Boolean indexing을 알아봅니다.\n",
    "- DataFrame의 값을 정렬하는 sort_values로 DataFrame의 동작을 이해합니다."
   ]
  },
  {
   "cell_type": "markdown",
   "metadata": {
    "colab_type": "text",
    "id": "DouZJEZgqynk"
   },
   "source": [
    "Series, DataFrame은 보다 편리하게 정의하기 위해 따로 받아오고, 다른 함수들을 사용할 때에는 pd.function 형태로 사용합니다.<br>\n",
    "만약 from~ import를 사용하지 않았고 import~ as pd로만 모듈을 받아왔다면 var = pd.DataFrame(~)식으로 정의하면 됩니다."
   ]
  },
  {
   "cell_type": "code",
   "execution_count": 38,
   "metadata": {
    "colab": {
     "base_uri": "https://localhost:8080/",
     "height": 35
    },
    "colab_type": "code",
    "executionInfo": {
     "elapsed": 852,
     "status": "ok",
     "timestamp": 1586230005945,
     "user": {
      "displayName": "Eun Yu",
      "photoUrl": "https://lh3.googleusercontent.com/a-/AOh14GgEWsmf4FH7IRh7LjTXnuF85OLv2_K9vNCProM4=s64",
      "userId": "17784789244818192257"
     },
     "user_tz": -540
    },
    "id": "MEczZzPwqynl",
    "outputId": "76fe4467-ba6c-44d0-ad90-f1940a9e7b2b"
   },
   "outputs": [
    {
     "data": {
      "text/plain": [
       "'1.0.5'"
      ]
     },
     "execution_count": 38,
     "metadata": {},
     "output_type": "execute_result"
    }
   ],
   "source": [
    "from pandas import Series, DataFrame \n",
    "import pandas as pd\n",
    "\n",
    "pd.__version__"
   ]
  },
  {
   "cell_type": "code",
   "execution_count": 39,
   "metadata": {
    "colab": {},
    "colab_type": "code",
    "id": "C5zNfOrpqynn",
    "scrolled": false
   },
   "outputs": [
    {
     "data": {
      "text/html": [
       "<div>\n",
       "<style scoped>\n",
       "    .dataframe tbody tr th:only-of-type {\n",
       "        vertical-align: middle;\n",
       "    }\n",
       "\n",
       "    .dataframe tbody tr th {\n",
       "        vertical-align: top;\n",
       "    }\n",
       "\n",
       "    .dataframe thead th {\n",
       "        text-align: right;\n",
       "    }\n",
       "</style>\n",
       "<table border=\"1\" class=\"dataframe\">\n",
       "  <thead>\n",
       "    <tr style=\"text-align: right;\">\n",
       "      <th></th>\n",
       "      <th>name</th>\n",
       "      <th>start_year</th>\n",
       "      <th>moon</th>\n",
       "    </tr>\n",
       "  </thead>\n",
       "  <tbody>\n",
       "    <tr>\n",
       "      <th>0</th>\n",
       "      <td>삼일절</td>\n",
       "      <td>1949</td>\n",
       "      <td>False</td>\n",
       "    </tr>\n",
       "    <tr>\n",
       "      <th>1</th>\n",
       "      <td>어린이날</td>\n",
       "      <td>1975</td>\n",
       "      <td>False</td>\n",
       "    </tr>\n",
       "    <tr>\n",
       "      <th>2</th>\n",
       "      <td>부처님 오신 날</td>\n",
       "      <td>1975</td>\n",
       "      <td>True</td>\n",
       "    </tr>\n",
       "    <tr>\n",
       "      <th>3</th>\n",
       "      <td>광복절</td>\n",
       "      <td>1949</td>\n",
       "      <td>False</td>\n",
       "    </tr>\n",
       "    <tr>\n",
       "      <th>4</th>\n",
       "      <td>한글날</td>\n",
       "      <td>1949</td>\n",
       "      <td>False</td>\n",
       "    </tr>\n",
       "    <tr>\n",
       "      <th>5</th>\n",
       "      <td>기독탄신일</td>\n",
       "      <td>1949</td>\n",
       "      <td>False</td>\n",
       "    </tr>\n",
       "  </tbody>\n",
       "</table>\n",
       "</div>"
      ],
      "text/plain": [
       "       name  start_year   moon\n",
       "0       삼일절        1949  False\n",
       "1      어린이날        1975  False\n",
       "2  부처님 오신 날        1975   True\n",
       "3       광복절        1949  False\n",
       "4       한글날        1949  False\n",
       "5     기독탄신일        1949  False"
      ]
     },
     "execution_count": 39,
     "metadata": {},
     "output_type": "execute_result"
    }
   ],
   "source": [
    "# 딕셔너리 활용\n",
    "\n",
    "holiday_dict = {'name':['삼일절', '어린이날', '부처님 오신 날', \n",
    "                        '광복절', '한글날', '기독탄신일'],\n",
    "                'start_year':[1949, 1975, 1975, 1949, 1949, 1949],\n",
    "                'moon':[False, False, True, False, False, False]}\n",
    "\n",
    "holidays = DataFrame(holiday_dict)\n",
    "holidays"
   ]
  },
  {
   "cell_type": "code",
   "execution_count": 40,
   "metadata": {
    "colab": {},
    "colab_type": "code",
    "id": "VHzV8b2iqynp"
   },
   "outputs": [
    {
     "data": {
      "text/plain": [
       "Index(['name', 'start_year', 'moon'], dtype='object')"
      ]
     },
     "execution_count": 40,
     "metadata": {},
     "output_type": "execute_result"
    }
   ],
   "source": [
    "holidays.columns"
   ]
  },
  {
   "cell_type": "code",
   "execution_count": 41,
   "metadata": {
    "colab": {},
    "colab_type": "code",
    "id": "Xpp3R1ucqynq"
   },
   "outputs": [],
   "source": [
    "holidays.index = [\"3월\", \"5월\", \"음력4월\", \"8월\",\"10월\", \"12월\"]"
   ]
  },
  {
   "cell_type": "code",
   "execution_count": 42,
   "metadata": {
    "colab": {},
    "colab_type": "code",
    "id": "JijlnVYlqynr"
   },
   "outputs": [
    {
     "data": {
      "text/plain": [
       "3월      False\n",
       "5월      False\n",
       "음력4월     True\n",
       "8월      False\n",
       "10월     False\n",
       "12월     False\n",
       "Name: moon, dtype: bool"
      ]
     },
     "execution_count": 42,
     "metadata": {},
     "output_type": "execute_result"
    }
   ],
   "source": [
    "holidays['moon']"
   ]
  },
  {
   "cell_type": "code",
   "execution_count": 43,
   "metadata": {
    "colab": {},
    "colab_type": "code",
    "id": "PuclYZdPqynt"
   },
   "outputs": [
    {
     "data": {
      "text/html": [
       "<div>\n",
       "<style scoped>\n",
       "    .dataframe tbody tr th:only-of-type {\n",
       "        vertical-align: middle;\n",
       "    }\n",
       "\n",
       "    .dataframe tbody tr th {\n",
       "        vertical-align: top;\n",
       "    }\n",
       "\n",
       "    .dataframe thead th {\n",
       "        text-align: right;\n",
       "    }\n",
       "</style>\n",
       "<table border=\"1\" class=\"dataframe\">\n",
       "  <thead>\n",
       "    <tr style=\"text-align: right;\">\n",
       "      <th></th>\n",
       "      <th>name</th>\n",
       "      <th>start_year</th>\n",
       "      <th>moon</th>\n",
       "    </tr>\n",
       "  </thead>\n",
       "  <tbody>\n",
       "    <tr>\n",
       "      <th>3월</th>\n",
       "      <td>삼일절</td>\n",
       "      <td>1949</td>\n",
       "      <td>False</td>\n",
       "    </tr>\n",
       "    <tr>\n",
       "      <th>5월</th>\n",
       "      <td>어린이날</td>\n",
       "      <td>1975</td>\n",
       "      <td>False</td>\n",
       "    </tr>\n",
       "    <tr>\n",
       "      <th>음력4월</th>\n",
       "      <td>부처님 오신 날</td>\n",
       "      <td>1975</td>\n",
       "      <td>True</td>\n",
       "    </tr>\n",
       "    <tr>\n",
       "      <th>8월</th>\n",
       "      <td>광복절</td>\n",
       "      <td>1949</td>\n",
       "      <td>False</td>\n",
       "    </tr>\n",
       "    <tr>\n",
       "      <th>10월</th>\n",
       "      <td>한글날</td>\n",
       "      <td>1949</td>\n",
       "      <td>False</td>\n",
       "    </tr>\n",
       "    <tr>\n",
       "      <th>12월</th>\n",
       "      <td>기독탄신일</td>\n",
       "      <td>1949</td>\n",
       "      <td>False</td>\n",
       "    </tr>\n",
       "  </tbody>\n",
       "</table>\n",
       "</div>"
      ],
      "text/plain": [
       "          name  start_year   moon\n",
       "3월         삼일절        1949  False\n",
       "5월        어린이날        1975  False\n",
       "음력4월  부처님 오신 날        1975   True\n",
       "8월         광복절        1949  False\n",
       "10월        한글날        1949  False\n",
       "12월      기독탄신일        1949  False"
      ]
     },
     "execution_count": 43,
     "metadata": {},
     "output_type": "execute_result"
    }
   ],
   "source": [
    "holidays"
   ]
  },
  {
   "cell_type": "markdown",
   "metadata": {
    "colab_type": "text",
    "id": "CE9EVNoeqynv"
   },
   "source": [
    "## 3-(1). DataFrame의 특정 값 확인하기: iloc & loc\n",
    "Series와 달리 DataFrame은 2차원입니다. 따라서 행(row)과 열(column)의 색인(index) 또는 라벨(label)을 가지고 값을 불러올 수 있습니다. 문자열, 리스트에서 했던 인덱싱(indexing)과 슬라이싱(slicing)과 비슷하지만, DataFrame은 두 가지 방법을 지원합니다.\n",
    "- DataFrame.**iloc[]**은 색인의 __순서를 나타내는 정수값(index)__을 받습니다.\n",
    "- DataFrame.**loc[]**은 색인의 __라벨(label)__을 받습니다.\n",
    "\n",
    "기본적으로 __[행(row), 열(column)]__ 순서이며, 하나의 값만 받은 경우에는 행(row)입니다.\n",
    "<img src='https://github.com/eunyu1031/Media_interface_2020Spr/blob/master/pics/matrix.png?raw=true'/>\n",
    "\n",
    "\n",
    "### iloc\n",
    "색인(index)으로 가져올 수 있는 __iloc[]__을 살펴봅시다."
   ]
  },
  {
   "cell_type": "code",
   "execution_count": 44,
   "metadata": {
    "colab": {},
    "colab_type": "code",
    "id": "hXwh9upJqynv"
   },
   "outputs": [
    {
     "name": "stdout",
     "output_type": "stream",
     "text": [
      "Help on property:\n",
      "\n",
      "    Purely integer-location based indexing for selection by position.\n",
      "    \n",
      "    ``.iloc[]`` is primarily integer position based (from ``0`` to\n",
      "    ``length-1`` of the axis), but may also be used with a boolean\n",
      "    array.\n",
      "    \n",
      "    Allowed inputs are:\n",
      "    \n",
      "    - An integer, e.g. ``5``.\n",
      "    - A list or array of integers, e.g. ``[4, 3, 0]``.\n",
      "    - A slice object with ints, e.g. ``1:7``.\n",
      "    - A boolean array.\n",
      "    - A ``callable`` function with one argument (the calling Series or\n",
      "      DataFrame) and that returns valid output for indexing (one of the above).\n",
      "      This is useful in method chains, when you don't have a reference to the\n",
      "      calling object, but would like to base your selection on some value.\n",
      "    \n",
      "    ``.iloc`` will raise ``IndexError`` if a requested indexer is\n",
      "    out-of-bounds, except *slice* indexers which allow out-of-bounds\n",
      "    indexing (this conforms with python/numpy *slice* semantics).\n",
      "    \n",
      "    See more at :ref:`Selection by Position <indexing.integer>`.\n",
      "    \n",
      "    See Also\n",
      "    --------\n",
      "    DataFrame.iat : Fast integer location scalar accessor.\n",
      "    DataFrame.loc : Purely label-location based indexer for selection by label.\n",
      "    Series.iloc : Purely integer-location based indexing for\n",
      "                   selection by position.\n",
      "    \n",
      "    Examples\n",
      "    --------\n",
      "    \n",
      "    >>> mydict = [{'a': 1, 'b': 2, 'c': 3, 'd': 4},\n",
      "    ...           {'a': 100, 'b': 200, 'c': 300, 'd': 400},\n",
      "    ...           {'a': 1000, 'b': 2000, 'c': 3000, 'd': 4000 }]\n",
      "    >>> df = pd.DataFrame(mydict)\n",
      "    >>> df\n",
      "          a     b     c     d\n",
      "    0     1     2     3     4\n",
      "    1   100   200   300   400\n",
      "    2  1000  2000  3000  4000\n",
      "    \n",
      "    **Indexing just the rows**\n",
      "    \n",
      "    With a scalar integer.\n",
      "    \n",
      "    >>> type(df.iloc[0])\n",
      "    <class 'pandas.core.series.Series'>\n",
      "    >>> df.iloc[0]\n",
      "    a    1\n",
      "    b    2\n",
      "    c    3\n",
      "    d    4\n",
      "    Name: 0, dtype: int64\n",
      "    \n",
      "    With a list of integers.\n",
      "    \n",
      "    >>> df.iloc[[0]]\n",
      "       a  b  c  d\n",
      "    0  1  2  3  4\n",
      "    >>> type(df.iloc[[0]])\n",
      "    <class 'pandas.core.frame.DataFrame'>\n",
      "    \n",
      "    >>> df.iloc[[0, 1]]\n",
      "         a    b    c    d\n",
      "    0    1    2    3    4\n",
      "    1  100  200  300  400\n",
      "    \n",
      "    With a `slice` object.\n",
      "    \n",
      "    >>> df.iloc[:3]\n",
      "          a     b     c     d\n",
      "    0     1     2     3     4\n",
      "    1   100   200   300   400\n",
      "    2  1000  2000  3000  4000\n",
      "    \n",
      "    With a boolean mask the same length as the index.\n",
      "    \n",
      "    >>> df.iloc[[True, False, True]]\n",
      "          a     b     c     d\n",
      "    0     1     2     3     4\n",
      "    2  1000  2000  3000  4000\n",
      "    \n",
      "    With a callable, useful in method chains. The `x` passed\n",
      "    to the ``lambda`` is the DataFrame being sliced. This selects\n",
      "    the rows whose index label even.\n",
      "    \n",
      "    >>> df.iloc[lambda x: x.index % 2 == 0]\n",
      "          a     b     c     d\n",
      "    0     1     2     3     4\n",
      "    2  1000  2000  3000  4000\n",
      "    \n",
      "    **Indexing both axes**\n",
      "    \n",
      "    You can mix the indexer types for the index and columns. Use ``:`` to\n",
      "    select the entire axis.\n",
      "    \n",
      "    With scalar integers.\n",
      "    \n",
      "    >>> df.iloc[0, 1]\n",
      "    2\n",
      "    \n",
      "    With lists of integers.\n",
      "    \n",
      "    >>> df.iloc[[0, 2], [1, 3]]\n",
      "          b     d\n",
      "    0     2     4\n",
      "    2  2000  4000\n",
      "    \n",
      "    With `slice` objects.\n",
      "    \n",
      "    >>> df.iloc[1:3, 0:3]\n",
      "          a     b     c\n",
      "    1   100   200   300\n",
      "    2  1000  2000  3000\n",
      "    \n",
      "    With a boolean array whose length matches the columns.\n",
      "    \n",
      "    >>> df.iloc[:, [True, False, True, False]]\n",
      "          a     c\n",
      "    0     1     3\n",
      "    1   100   300\n",
      "    2  1000  3000\n",
      "    \n",
      "    With a callable function that expects the Series or DataFrame.\n",
      "    \n",
      "    >>> df.iloc[:, lambda df: [0, 2]]\n",
      "          a     c\n",
      "    0     1     3\n",
      "    1   100   300\n",
      "    2  1000  3000\n",
      "\n"
     ]
    }
   ],
   "source": [
    "help(DataFrame.iloc)"
   ]
  },
  {
   "cell_type": "code",
   "execution_count": 45,
   "metadata": {
    "colab": {},
    "colab_type": "code",
    "id": "_PQvqbR_qynw",
    "scrolled": true
   },
   "outputs": [
    {
     "data": {
      "text/html": [
       "<div>\n",
       "<style scoped>\n",
       "    .dataframe tbody tr th:only-of-type {\n",
       "        vertical-align: middle;\n",
       "    }\n",
       "\n",
       "    .dataframe tbody tr th {\n",
       "        vertical-align: top;\n",
       "    }\n",
       "\n",
       "    .dataframe thead th {\n",
       "        text-align: right;\n",
       "    }\n",
       "</style>\n",
       "<table border=\"1\" class=\"dataframe\">\n",
       "  <thead>\n",
       "    <tr style=\"text-align: right;\">\n",
       "      <th></th>\n",
       "      <th>name</th>\n",
       "      <th>start_year</th>\n",
       "      <th>moon</th>\n",
       "    </tr>\n",
       "  </thead>\n",
       "  <tbody>\n",
       "    <tr>\n",
       "      <th>3월</th>\n",
       "      <td>삼일절</td>\n",
       "      <td>1949</td>\n",
       "      <td>False</td>\n",
       "    </tr>\n",
       "    <tr>\n",
       "      <th>5월</th>\n",
       "      <td>어린이날</td>\n",
       "      <td>1975</td>\n",
       "      <td>False</td>\n",
       "    </tr>\n",
       "    <tr>\n",
       "      <th>음력4월</th>\n",
       "      <td>부처님 오신 날</td>\n",
       "      <td>1975</td>\n",
       "      <td>True</td>\n",
       "    </tr>\n",
       "    <tr>\n",
       "      <th>8월</th>\n",
       "      <td>광복절</td>\n",
       "      <td>1949</td>\n",
       "      <td>False</td>\n",
       "    </tr>\n",
       "    <tr>\n",
       "      <th>10월</th>\n",
       "      <td>한글날</td>\n",
       "      <td>1949</td>\n",
       "      <td>False</td>\n",
       "    </tr>\n",
       "    <tr>\n",
       "      <th>12월</th>\n",
       "      <td>기독탄신일</td>\n",
       "      <td>1949</td>\n",
       "      <td>False</td>\n",
       "    </tr>\n",
       "  </tbody>\n",
       "</table>\n",
       "</div>"
      ],
      "text/plain": [
       "          name  start_year   moon\n",
       "3월         삼일절        1949  False\n",
       "5월        어린이날        1975  False\n",
       "음력4월  부처님 오신 날        1975   True\n",
       "8월         광복절        1949  False\n",
       "10월        한글날        1949  False\n",
       "12월      기독탄신일        1949  False"
      ]
     },
     "execution_count": 45,
     "metadata": {},
     "output_type": "execute_result"
    }
   ],
   "source": [
    "holidays"
   ]
  },
  {
   "cell_type": "code",
   "execution_count": 46,
   "metadata": {
    "colab": {},
    "colab_type": "code",
    "id": "DnHgwJ3bqyny"
   },
   "outputs": [
    {
     "data": {
      "text/plain": [
       "'삼일절'"
      ]
     },
     "execution_count": 46,
     "metadata": {},
     "output_type": "execute_result"
    }
   ],
   "source": [
    "holidays.iloc[0, 0]"
   ]
  },
  {
   "cell_type": "code",
   "execution_count": 47,
   "metadata": {
    "colab": {},
    "colab_type": "code",
    "id": "ybR2FHL1qynz"
   },
   "outputs": [
    {
     "data": {
      "text/plain": [
       "1949"
      ]
     },
     "execution_count": 47,
     "metadata": {},
     "output_type": "execute_result"
    }
   ],
   "source": [
    "holidays.iloc[0, 1]"
   ]
  },
  {
   "cell_type": "markdown",
   "metadata": {
    "colab_type": "text",
    "id": "qY88JzxFqyn0"
   },
   "source": [
    "슬라이싱할 때처럼 __시작:끝__의 경우 끝 인덱스의 값이 결과에 포함되지 않습니다. "
   ]
  },
  {
   "cell_type": "code",
   "execution_count": 48,
   "metadata": {
    "colab": {},
    "colab_type": "code",
    "id": "Kffqsn8nqyn1",
    "scrolled": true
   },
   "outputs": [
    {
     "data": {
      "text/html": [
       "<div>\n",
       "<style scoped>\n",
       "    .dataframe tbody tr th:only-of-type {\n",
       "        vertical-align: middle;\n",
       "    }\n",
       "\n",
       "    .dataframe tbody tr th {\n",
       "        vertical-align: top;\n",
       "    }\n",
       "\n",
       "    .dataframe thead th {\n",
       "        text-align: right;\n",
       "    }\n",
       "</style>\n",
       "<table border=\"1\" class=\"dataframe\">\n",
       "  <thead>\n",
       "    <tr style=\"text-align: right;\">\n",
       "      <th></th>\n",
       "      <th>name</th>\n",
       "      <th>start_year</th>\n",
       "      <th>moon</th>\n",
       "    </tr>\n",
       "  </thead>\n",
       "  <tbody>\n",
       "    <tr>\n",
       "      <th>3월</th>\n",
       "      <td>삼일절</td>\n",
       "      <td>1949</td>\n",
       "      <td>False</td>\n",
       "    </tr>\n",
       "    <tr>\n",
       "      <th>5월</th>\n",
       "      <td>어린이날</td>\n",
       "      <td>1975</td>\n",
       "      <td>False</td>\n",
       "    </tr>\n",
       "  </tbody>\n",
       "</table>\n",
       "</div>"
      ],
      "text/plain": [
       "    name  start_year   moon\n",
       "3월   삼일절        1949  False\n",
       "5월  어린이날        1975  False"
      ]
     },
     "execution_count": 48,
     "metadata": {},
     "output_type": "execute_result"
    }
   ],
   "source": [
    "holidays.iloc[0:2]"
   ]
  },
  {
   "cell_type": "markdown",
   "metadata": {
    "colab_type": "text",
    "id": "gZVNS3-4qyn3"
   },
   "source": [
    "만약 '시작' 이나 '끝' 중 하나를 비운다면 맨 처음부터 시작 또는 맨 끝까지 표시한다는 뜻입니다. "
   ]
  },
  {
   "cell_type": "code",
   "execution_count": 49,
   "metadata": {
    "colab": {},
    "colab_type": "code",
    "id": "04twr7Klqyn3"
   },
   "outputs": [
    {
     "data": {
      "text/html": [
       "<div>\n",
       "<style scoped>\n",
       "    .dataframe tbody tr th:only-of-type {\n",
       "        vertical-align: middle;\n",
       "    }\n",
       "\n",
       "    .dataframe tbody tr th {\n",
       "        vertical-align: top;\n",
       "    }\n",
       "\n",
       "    .dataframe thead th {\n",
       "        text-align: right;\n",
       "    }\n",
       "</style>\n",
       "<table border=\"1\" class=\"dataframe\">\n",
       "  <thead>\n",
       "    <tr style=\"text-align: right;\">\n",
       "      <th></th>\n",
       "      <th>name</th>\n",
       "      <th>start_year</th>\n",
       "      <th>moon</th>\n",
       "    </tr>\n",
       "  </thead>\n",
       "  <tbody>\n",
       "    <tr>\n",
       "      <th>3월</th>\n",
       "      <td>삼일절</td>\n",
       "      <td>1949</td>\n",
       "      <td>False</td>\n",
       "    </tr>\n",
       "    <tr>\n",
       "      <th>5월</th>\n",
       "      <td>어린이날</td>\n",
       "      <td>1975</td>\n",
       "      <td>False</td>\n",
       "    </tr>\n",
       "  </tbody>\n",
       "</table>\n",
       "</div>"
      ],
      "text/plain": [
       "    name  start_year   moon\n",
       "3월   삼일절        1949  False\n",
       "5월  어린이날        1975  False"
      ]
     },
     "execution_count": 49,
     "metadata": {},
     "output_type": "execute_result"
    }
   ],
   "source": [
    "holidays.iloc[:2]"
   ]
  },
  {
   "cell_type": "code",
   "execution_count": 50,
   "metadata": {
    "colab": {},
    "colab_type": "code",
    "id": "N79W9oUbqyn5"
   },
   "outputs": [
    {
     "data": {
      "text/html": [
       "<div>\n",
       "<style scoped>\n",
       "    .dataframe tbody tr th:only-of-type {\n",
       "        vertical-align: middle;\n",
       "    }\n",
       "\n",
       "    .dataframe tbody tr th {\n",
       "        vertical-align: top;\n",
       "    }\n",
       "\n",
       "    .dataframe thead th {\n",
       "        text-align: right;\n",
       "    }\n",
       "</style>\n",
       "<table border=\"1\" class=\"dataframe\">\n",
       "  <thead>\n",
       "    <tr style=\"text-align: right;\">\n",
       "      <th></th>\n",
       "      <th>name</th>\n",
       "      <th>start_year</th>\n",
       "      <th>moon</th>\n",
       "    </tr>\n",
       "  </thead>\n",
       "  <tbody>\n",
       "    <tr>\n",
       "      <th>3월</th>\n",
       "      <td>삼일절</td>\n",
       "      <td>1949</td>\n",
       "      <td>False</td>\n",
       "    </tr>\n",
       "    <tr>\n",
       "      <th>5월</th>\n",
       "      <td>어린이날</td>\n",
       "      <td>1975</td>\n",
       "      <td>False</td>\n",
       "    </tr>\n",
       "  </tbody>\n",
       "</table>\n",
       "</div>"
      ],
      "text/plain": [
       "    name  start_year   moon\n",
       "3월   삼일절        1949  False\n",
       "5월  어린이날        1975  False"
      ]
     },
     "execution_count": 50,
     "metadata": {},
     "output_type": "execute_result"
    }
   ],
   "source": [
    "holidays.iloc[:2, :]"
   ]
  },
  {
   "cell_type": "markdown",
   "metadata": {
    "colab_type": "text",
    "id": "PaKtOIGrqyn6"
   },
   "source": [
    "행, 열 모두에 슬라이싱을 활용해 봅시다."
   ]
  },
  {
   "cell_type": "code",
   "execution_count": 51,
   "metadata": {
    "colab": {},
    "colab_type": "code",
    "id": "bylJVrTgqyn7"
   },
   "outputs": [
    {
     "data": {
      "text/html": [
       "<div>\n",
       "<style scoped>\n",
       "    .dataframe tbody tr th:only-of-type {\n",
       "        vertical-align: middle;\n",
       "    }\n",
       "\n",
       "    .dataframe tbody tr th {\n",
       "        vertical-align: top;\n",
       "    }\n",
       "\n",
       "    .dataframe thead th {\n",
       "        text-align: right;\n",
       "    }\n",
       "</style>\n",
       "<table border=\"1\" class=\"dataframe\">\n",
       "  <thead>\n",
       "    <tr style=\"text-align: right;\">\n",
       "      <th></th>\n",
       "      <th>name</th>\n",
       "      <th>start_year</th>\n",
       "    </tr>\n",
       "  </thead>\n",
       "  <tbody>\n",
       "    <tr>\n",
       "      <th>3월</th>\n",
       "      <td>삼일절</td>\n",
       "      <td>1949</td>\n",
       "    </tr>\n",
       "    <tr>\n",
       "      <th>5월</th>\n",
       "      <td>어린이날</td>\n",
       "      <td>1975</td>\n",
       "    </tr>\n",
       "  </tbody>\n",
       "</table>\n",
       "</div>"
      ],
      "text/plain": [
       "    name  start_year\n",
       "3월   삼일절        1949\n",
       "5월  어린이날        1975"
      ]
     },
     "execution_count": 51,
     "metadata": {},
     "output_type": "execute_result"
    }
   ],
   "source": [
    "holidays.iloc[:2, :2]"
   ]
  },
  {
   "cell_type": "markdown",
   "metadata": {
    "colab_type": "text",
    "id": "gWNfubDXqyn8"
   },
   "source": [
    "연속하지 않은 행/열을 불러오고 싶을 때에는 리스트 형태로 묶어주면 됩니다. "
   ]
  },
  {
   "cell_type": "code",
   "execution_count": 52,
   "metadata": {
    "colab": {},
    "colab_type": "code",
    "id": "0HSYDmsuqyn8"
   },
   "outputs": [
    {
     "data": {
      "text/html": [
       "<div>\n",
       "<style scoped>\n",
       "    .dataframe tbody tr th:only-of-type {\n",
       "        vertical-align: middle;\n",
       "    }\n",
       "\n",
       "    .dataframe tbody tr th {\n",
       "        vertical-align: top;\n",
       "    }\n",
       "\n",
       "    .dataframe thead th {\n",
       "        text-align: right;\n",
       "    }\n",
       "</style>\n",
       "<table border=\"1\" class=\"dataframe\">\n",
       "  <thead>\n",
       "    <tr style=\"text-align: right;\">\n",
       "      <th></th>\n",
       "      <th>name</th>\n",
       "      <th>start_year</th>\n",
       "      <th>moon</th>\n",
       "    </tr>\n",
       "  </thead>\n",
       "  <tbody>\n",
       "    <tr>\n",
       "      <th>음력4월</th>\n",
       "      <td>부처님 오신 날</td>\n",
       "      <td>1975</td>\n",
       "      <td>True</td>\n",
       "    </tr>\n",
       "    <tr>\n",
       "      <th>10월</th>\n",
       "      <td>한글날</td>\n",
       "      <td>1949</td>\n",
       "      <td>False</td>\n",
       "    </tr>\n",
       "  </tbody>\n",
       "</table>\n",
       "</div>"
      ],
      "text/plain": [
       "          name  start_year   moon\n",
       "음력4월  부처님 오신 날        1975   True\n",
       "10월        한글날        1949  False"
      ]
     },
     "execution_count": 52,
     "metadata": {},
     "output_type": "execute_result"
    }
   ],
   "source": [
    "holidays.iloc[[2, 4],:3]"
   ]
  },
  {
   "cell_type": "markdown",
   "metadata": {
    "colab_type": "text",
    "id": "Q5JpFtB9qyn-"
   },
   "source": [
    "iloc을 사용해서 라벨로 가져오려고 하면 에러가 납니다. 이럴 때에는 loc을 사용해야 합니다."
   ]
  },
  {
   "cell_type": "code",
   "execution_count": 53,
   "metadata": {
    "colab": {},
    "colab_type": "code",
    "id": "1C7lNKfkqyn-"
   },
   "outputs": [
    {
     "ename": "TypeError",
     "evalue": "Cannot index by location index with a non-integer key",
     "output_type": "error",
     "traceback": [
      "\u001b[1;31m---------------------------------------------------------------------------\u001b[0m",
      "\u001b[1;31mTypeError\u001b[0m                                 Traceback (most recent call last)",
      "\u001b[1;32m<ipython-input-53-71128d398bb9>\u001b[0m in \u001b[0;36m<module>\u001b[1;34m\u001b[0m\n\u001b[1;32m----> 1\u001b[1;33m \u001b[0mholidays\u001b[0m\u001b[1;33m.\u001b[0m\u001b[0miloc\u001b[0m\u001b[1;33m[\u001b[0m\u001b[1;34m'10월'\u001b[0m\u001b[1;33m]\u001b[0m \u001b[1;31m# error\u001b[0m\u001b[1;33m\u001b[0m\u001b[1;33m\u001b[0m\u001b[0m\n\u001b[0m",
      "\u001b[1;32m~\\anaconda3\\lib\\site-packages\\pandas\\core\\indexing.py\u001b[0m in \u001b[0;36m__getitem__\u001b[1;34m(self, key)\u001b[0m\n\u001b[0;32m   1766\u001b[0m \u001b[1;33m\u001b[0m\u001b[0m\n\u001b[0;32m   1767\u001b[0m             \u001b[0mmaybe_callable\u001b[0m \u001b[1;33m=\u001b[0m \u001b[0mcom\u001b[0m\u001b[1;33m.\u001b[0m\u001b[0mapply_if_callable\u001b[0m\u001b[1;33m(\u001b[0m\u001b[0mkey\u001b[0m\u001b[1;33m,\u001b[0m \u001b[0mself\u001b[0m\u001b[1;33m.\u001b[0m\u001b[0mobj\u001b[0m\u001b[1;33m)\u001b[0m\u001b[1;33m\u001b[0m\u001b[1;33m\u001b[0m\u001b[0m\n\u001b[1;32m-> 1768\u001b[1;33m             \u001b[1;32mreturn\u001b[0m \u001b[0mself\u001b[0m\u001b[1;33m.\u001b[0m\u001b[0m_getitem_axis\u001b[0m\u001b[1;33m(\u001b[0m\u001b[0mmaybe_callable\u001b[0m\u001b[1;33m,\u001b[0m \u001b[0maxis\u001b[0m\u001b[1;33m=\u001b[0m\u001b[0maxis\u001b[0m\u001b[1;33m)\u001b[0m\u001b[1;33m\u001b[0m\u001b[1;33m\u001b[0m\u001b[0m\n\u001b[0m\u001b[0;32m   1769\u001b[0m \u001b[1;33m\u001b[0m\u001b[0m\n\u001b[0;32m   1770\u001b[0m     \u001b[1;32mdef\u001b[0m \u001b[0m_is_scalar_access\u001b[0m\u001b[1;33m(\u001b[0m\u001b[0mself\u001b[0m\u001b[1;33m,\u001b[0m \u001b[0mkey\u001b[0m\u001b[1;33m:\u001b[0m \u001b[0mTuple\u001b[0m\u001b[1;33m)\u001b[0m\u001b[1;33m:\u001b[0m\u001b[1;33m\u001b[0m\u001b[1;33m\u001b[0m\u001b[0m\n",
      "\u001b[1;32m~\\anaconda3\\lib\\site-packages\\pandas\\core\\indexing.py\u001b[0m in \u001b[0;36m_getitem_axis\u001b[1;34m(self, key, axis)\u001b[0m\n\u001b[0;32m   2133\u001b[0m             \u001b[0mkey\u001b[0m \u001b[1;33m=\u001b[0m \u001b[0mitem_from_zerodim\u001b[0m\u001b[1;33m(\u001b[0m\u001b[0mkey\u001b[0m\u001b[1;33m)\u001b[0m\u001b[1;33m\u001b[0m\u001b[1;33m\u001b[0m\u001b[0m\n\u001b[0;32m   2134\u001b[0m             \u001b[1;32mif\u001b[0m \u001b[1;32mnot\u001b[0m \u001b[0mis_integer\u001b[0m\u001b[1;33m(\u001b[0m\u001b[0mkey\u001b[0m\u001b[1;33m)\u001b[0m\u001b[1;33m:\u001b[0m\u001b[1;33m\u001b[0m\u001b[1;33m\u001b[0m\u001b[0m\n\u001b[1;32m-> 2135\u001b[1;33m                 \u001b[1;32mraise\u001b[0m \u001b[0mTypeError\u001b[0m\u001b[1;33m(\u001b[0m\u001b[1;34m\"Cannot index by location index with a non-integer key\"\u001b[0m\u001b[1;33m)\u001b[0m\u001b[1;33m\u001b[0m\u001b[1;33m\u001b[0m\u001b[0m\n\u001b[0m\u001b[0;32m   2136\u001b[0m \u001b[1;33m\u001b[0m\u001b[0m\n\u001b[0;32m   2137\u001b[0m             \u001b[1;31m# validate the location\u001b[0m\u001b[1;33m\u001b[0m\u001b[1;33m\u001b[0m\u001b[1;33m\u001b[0m\u001b[0m\n",
      "\u001b[1;31mTypeError\u001b[0m: Cannot index by location index with a non-integer key"
     ]
    }
   ],
   "source": [
    "holidays.iloc['10월'] # error"
   ]
  },
  {
   "cell_type": "markdown",
   "metadata": {
    "colab_type": "text",
    "id": "-3kwiS3Rqyn_"
   },
   "source": [
    "### loc\n",
    "행과 열에 지정한 라벨로 가져올 수 있는 __loc[]__을 살펴봅시다."
   ]
  },
  {
   "cell_type": "code",
   "execution_count": 54,
   "metadata": {
    "colab": {},
    "colab_type": "code",
    "id": "FN1PuDZ6qyn_"
   },
   "outputs": [
    {
     "name": "stdout",
     "output_type": "stream",
     "text": [
      "Help on property:\n",
      "\n",
      "    Access a group of rows and columns by label(s) or a boolean array.\n",
      "    \n",
      "    ``.loc[]`` is primarily label based, but may also be used with a\n",
      "    boolean array.\n",
      "    \n",
      "    Allowed inputs are:\n",
      "    \n",
      "    - A single label, e.g. ``5`` or ``'a'``, (note that ``5`` is\n",
      "      interpreted as a *label* of the index, and **never** as an\n",
      "      integer position along the index).\n",
      "    - A list or array of labels, e.g. ``['a', 'b', 'c']``.\n",
      "    - A slice object with labels, e.g. ``'a':'f'``.\n",
      "    \n",
      "      .. warning:: Note that contrary to usual python slices, **both** the\n",
      "          start and the stop are included\n",
      "    \n",
      "    - A boolean array of the same length as the axis being sliced,\n",
      "      e.g. ``[True, False, True]``.\n",
      "    - A ``callable`` function with one argument (the calling Series or\n",
      "      DataFrame) and that returns valid output for indexing (one of the above)\n",
      "    \n",
      "    See more at :ref:`Selection by Label <indexing.label>`\n",
      "    \n",
      "    Raises\n",
      "    ------\n",
      "    KeyError\n",
      "        If any items are not found.\n",
      "    \n",
      "    See Also\n",
      "    --------\n",
      "    DataFrame.at : Access a single value for a row/column label pair.\n",
      "    DataFrame.iloc : Access group of rows and columns by integer position(s).\n",
      "    DataFrame.xs : Returns a cross-section (row(s) or column(s)) from the\n",
      "        Series/DataFrame.\n",
      "    Series.loc : Access group of values using labels.\n",
      "    \n",
      "    Examples\n",
      "    --------\n",
      "    **Getting values**\n",
      "    \n",
      "    >>> df = pd.DataFrame([[1, 2], [4, 5], [7, 8]],\n",
      "    ...      index=['cobra', 'viper', 'sidewinder'],\n",
      "    ...      columns=['max_speed', 'shield'])\n",
      "    >>> df\n",
      "                max_speed  shield\n",
      "    cobra               1       2\n",
      "    viper               4       5\n",
      "    sidewinder          7       8\n",
      "    \n",
      "    Single label. Note this returns the row as a Series.\n",
      "    \n",
      "    >>> df.loc['viper']\n",
      "    max_speed    4\n",
      "    shield       5\n",
      "    Name: viper, dtype: int64\n",
      "    \n",
      "    List of labels. Note using ``[[]]`` returns a DataFrame.\n",
      "    \n",
      "    >>> df.loc[['viper', 'sidewinder']]\n",
      "                max_speed  shield\n",
      "    viper               4       5\n",
      "    sidewinder          7       8\n",
      "    \n",
      "    Single label for row and column\n",
      "    \n",
      "    >>> df.loc['cobra', 'shield']\n",
      "    2\n",
      "    \n",
      "    Slice with labels for row and single label for column. As mentioned\n",
      "    above, note that both the start and stop of the slice are included.\n",
      "    \n",
      "    >>> df.loc['cobra':'viper', 'max_speed']\n",
      "    cobra    1\n",
      "    viper    4\n",
      "    Name: max_speed, dtype: int64\n",
      "    \n",
      "    Boolean list with the same length as the row axis\n",
      "    \n",
      "    >>> df.loc[[False, False, True]]\n",
      "                max_speed  shield\n",
      "    sidewinder          7       8\n",
      "    \n",
      "    Conditional that returns a boolean Series\n",
      "    \n",
      "    >>> df.loc[df['shield'] > 6]\n",
      "                max_speed  shield\n",
      "    sidewinder          7       8\n",
      "    \n",
      "    Conditional that returns a boolean Series with column labels specified\n",
      "    \n",
      "    >>> df.loc[df['shield'] > 6, ['max_speed']]\n",
      "                max_speed\n",
      "    sidewinder          7\n",
      "    \n",
      "    Callable that returns a boolean Series\n",
      "    \n",
      "    >>> df.loc[lambda df: df['shield'] == 8]\n",
      "                max_speed  shield\n",
      "    sidewinder          7       8\n",
      "    \n",
      "    **Setting values**\n",
      "    \n",
      "    Set value for all items matching the list of labels\n",
      "    \n",
      "    >>> df.loc[['viper', 'sidewinder'], ['shield']] = 50\n",
      "    >>> df\n",
      "                max_speed  shield\n",
      "    cobra               1       2\n",
      "    viper               4      50\n",
      "    sidewinder          7      50\n",
      "    \n",
      "    Set value for an entire row\n",
      "    \n",
      "    >>> df.loc['cobra'] = 10\n",
      "    >>> df\n",
      "                max_speed  shield\n",
      "    cobra              10      10\n",
      "    viper               4      50\n",
      "    sidewinder          7      50\n",
      "    \n",
      "    Set value for an entire column\n",
      "    \n",
      "    >>> df.loc[:, 'max_speed'] = 30\n",
      "    >>> df\n",
      "                max_speed  shield\n",
      "    cobra              30      10\n",
      "    viper              30      50\n",
      "    sidewinder         30      50\n",
      "    \n",
      "    Set value for rows matching callable condition\n",
      "    \n",
      "    >>> df.loc[df['shield'] > 35] = 0\n",
      "    >>> df\n",
      "                max_speed  shield\n",
      "    cobra              30      10\n",
      "    viper               0       0\n",
      "    sidewinder          0       0\n",
      "    \n",
      "    **Getting values on a DataFrame with an index that has integer labels**\n",
      "    \n",
      "    Another example using integers for the index\n",
      "    \n",
      "    >>> df = pd.DataFrame([[1, 2], [4, 5], [7, 8]],\n",
      "    ...      index=[7, 8, 9], columns=['max_speed', 'shield'])\n",
      "    >>> df\n",
      "       max_speed  shield\n",
      "    7          1       2\n",
      "    8          4       5\n",
      "    9          7       8\n",
      "    \n",
      "    Slice with integer labels for rows. As mentioned above, note that both\n",
      "    the start and stop of the slice are included.\n",
      "    \n",
      "    >>> df.loc[7:9]\n",
      "       max_speed  shield\n",
      "    7          1       2\n",
      "    8          4       5\n",
      "    9          7       8\n",
      "    \n",
      "    **Getting values with a MultiIndex**\n",
      "    \n",
      "    A number of examples using a DataFrame with a MultiIndex\n",
      "    \n",
      "    >>> tuples = [\n",
      "    ...    ('cobra', 'mark i'), ('cobra', 'mark ii'),\n",
      "    ...    ('sidewinder', 'mark i'), ('sidewinder', 'mark ii'),\n",
      "    ...    ('viper', 'mark ii'), ('viper', 'mark iii')\n",
      "    ... ]\n",
      "    >>> index = pd.MultiIndex.from_tuples(tuples)\n",
      "    >>> values = [[12, 2], [0, 4], [10, 20],\n",
      "    ...         [1, 4], [7, 1], [16, 36]]\n",
      "    >>> df = pd.DataFrame(values, columns=['max_speed', 'shield'], index=index)\n",
      "    >>> df\n",
      "                         max_speed  shield\n",
      "    cobra      mark i           12       2\n",
      "               mark ii           0       4\n",
      "    sidewinder mark i           10      20\n",
      "               mark ii           1       4\n",
      "    viper      mark ii           7       1\n",
      "               mark iii         16      36\n",
      "    \n",
      "    Single label. Note this returns a DataFrame with a single index.\n",
      "    \n",
      "    >>> df.loc['cobra']\n",
      "             max_speed  shield\n",
      "    mark i          12       2\n",
      "    mark ii          0       4\n",
      "    \n",
      "    Single index tuple. Note this returns a Series.\n",
      "    \n",
      "    >>> df.loc[('cobra', 'mark ii')]\n",
      "    max_speed    0\n",
      "    shield       4\n",
      "    Name: (cobra, mark ii), dtype: int64\n",
      "    \n",
      "    Single label for row and column. Similar to passing in a tuple, this\n",
      "    returns a Series.\n",
      "    \n",
      "    >>> df.loc['cobra', 'mark i']\n",
      "    max_speed    12\n",
      "    shield        2\n",
      "    Name: (cobra, mark i), dtype: int64\n",
      "    \n",
      "    Single tuple. Note using ``[[]]`` returns a DataFrame.\n",
      "    \n",
      "    >>> df.loc[[('cobra', 'mark ii')]]\n",
      "                   max_speed  shield\n",
      "    cobra mark ii          0       4\n",
      "    \n",
      "    Single tuple for the index with a single label for the column\n",
      "    \n",
      "    >>> df.loc[('cobra', 'mark i'), 'shield']\n",
      "    2\n",
      "    \n",
      "    Slice from index tuple to single label\n",
      "    \n",
      "    >>> df.loc[('cobra', 'mark i'):'viper']\n",
      "                         max_speed  shield\n",
      "    cobra      mark i           12       2\n",
      "               mark ii           0       4\n",
      "    sidewinder mark i           10      20\n",
      "               mark ii           1       4\n",
      "    viper      mark ii           7       1\n",
      "               mark iii         16      36\n",
      "    \n",
      "    Slice from index tuple to index tuple\n",
      "    \n",
      "    >>> df.loc[('cobra', 'mark i'):('viper', 'mark ii')]\n",
      "                        max_speed  shield\n",
      "    cobra      mark i          12       2\n",
      "               mark ii          0       4\n",
      "    sidewinder mark i          10      20\n",
      "               mark ii          1       4\n",
      "    viper      mark ii          7       1\n",
      "\n"
     ]
    }
   ],
   "source": [
    "help(DataFrame.loc)"
   ]
  },
  {
   "cell_type": "code",
   "execution_count": 55,
   "metadata": {
    "colab": {},
    "colab_type": "code",
    "id": "-vKxQC7ZqyoA",
    "scrolled": true
   },
   "outputs": [
    {
     "data": {
      "text/html": [
       "<div>\n",
       "<style scoped>\n",
       "    .dataframe tbody tr th:only-of-type {\n",
       "        vertical-align: middle;\n",
       "    }\n",
       "\n",
       "    .dataframe tbody tr th {\n",
       "        vertical-align: top;\n",
       "    }\n",
       "\n",
       "    .dataframe thead th {\n",
       "        text-align: right;\n",
       "    }\n",
       "</style>\n",
       "<table border=\"1\" class=\"dataframe\">\n",
       "  <thead>\n",
       "    <tr style=\"text-align: right;\">\n",
       "      <th></th>\n",
       "      <th>name</th>\n",
       "      <th>start_year</th>\n",
       "      <th>moon</th>\n",
       "    </tr>\n",
       "  </thead>\n",
       "  <tbody>\n",
       "    <tr>\n",
       "      <th>3월</th>\n",
       "      <td>삼일절</td>\n",
       "      <td>1949</td>\n",
       "      <td>False</td>\n",
       "    </tr>\n",
       "    <tr>\n",
       "      <th>5월</th>\n",
       "      <td>어린이날</td>\n",
       "      <td>1975</td>\n",
       "      <td>False</td>\n",
       "    </tr>\n",
       "    <tr>\n",
       "      <th>음력4월</th>\n",
       "      <td>부처님 오신 날</td>\n",
       "      <td>1975</td>\n",
       "      <td>True</td>\n",
       "    </tr>\n",
       "    <tr>\n",
       "      <th>8월</th>\n",
       "      <td>광복절</td>\n",
       "      <td>1949</td>\n",
       "      <td>False</td>\n",
       "    </tr>\n",
       "    <tr>\n",
       "      <th>10월</th>\n",
       "      <td>한글날</td>\n",
       "      <td>1949</td>\n",
       "      <td>False</td>\n",
       "    </tr>\n",
       "    <tr>\n",
       "      <th>12월</th>\n",
       "      <td>기독탄신일</td>\n",
       "      <td>1949</td>\n",
       "      <td>False</td>\n",
       "    </tr>\n",
       "  </tbody>\n",
       "</table>\n",
       "</div>"
      ],
      "text/plain": [
       "          name  start_year   moon\n",
       "3월         삼일절        1949  False\n",
       "5월        어린이날        1975  False\n",
       "음력4월  부처님 오신 날        1975   True\n",
       "8월         광복절        1949  False\n",
       "10월        한글날        1949  False\n",
       "12월      기독탄신일        1949  False"
      ]
     },
     "execution_count": 55,
     "metadata": {},
     "output_type": "execute_result"
    }
   ],
   "source": [
    "holidays"
   ]
  },
  {
   "cell_type": "code",
   "execution_count": 56,
   "metadata": {
    "colab": {},
    "colab_type": "code",
    "id": "ZxdSHvdyqyoC"
   },
   "outputs": [
    {
     "data": {
      "text/plain": [
       "name            광복절\n",
       "start_year     1949\n",
       "moon          False\n",
       "Name: 8월, dtype: object"
      ]
     },
     "execution_count": 56,
     "metadata": {},
     "output_type": "execute_result"
    }
   ],
   "source": [
    "holidays.loc['8월']"
   ]
  },
  {
   "cell_type": "code",
   "execution_count": 57,
   "metadata": {
    "colab": {},
    "colab_type": "code",
    "id": "0VxrrWP8qyoE"
   },
   "outputs": [
    {
     "data": {
      "text/html": [
       "<div>\n",
       "<style scoped>\n",
       "    .dataframe tbody tr th:only-of-type {\n",
       "        vertical-align: middle;\n",
       "    }\n",
       "\n",
       "    .dataframe tbody tr th {\n",
       "        vertical-align: top;\n",
       "    }\n",
       "\n",
       "    .dataframe thead th {\n",
       "        text-align: right;\n",
       "    }\n",
       "</style>\n",
       "<table border=\"1\" class=\"dataframe\">\n",
       "  <thead>\n",
       "    <tr style=\"text-align: right;\">\n",
       "      <th></th>\n",
       "      <th>name</th>\n",
       "      <th>start_year</th>\n",
       "      <th>moon</th>\n",
       "    </tr>\n",
       "  </thead>\n",
       "  <tbody>\n",
       "    <tr>\n",
       "      <th>8월</th>\n",
       "      <td>광복절</td>\n",
       "      <td>1949</td>\n",
       "      <td>False</td>\n",
       "    </tr>\n",
       "    <tr>\n",
       "      <th>10월</th>\n",
       "      <td>한글날</td>\n",
       "      <td>1949</td>\n",
       "      <td>False</td>\n",
       "    </tr>\n",
       "    <tr>\n",
       "      <th>12월</th>\n",
       "      <td>기독탄신일</td>\n",
       "      <td>1949</td>\n",
       "      <td>False</td>\n",
       "    </tr>\n",
       "  </tbody>\n",
       "</table>\n",
       "</div>"
      ],
      "text/plain": [
       "      name  start_year   moon\n",
       "8월     광복절        1949  False\n",
       "10월    한글날        1949  False\n",
       "12월  기독탄신일        1949  False"
      ]
     },
     "execution_count": 57,
     "metadata": {},
     "output_type": "execute_result"
    }
   ],
   "source": [
    "holidays.loc['8월':]"
   ]
  },
  {
   "cell_type": "code",
   "execution_count": 58,
   "metadata": {
    "colab": {},
    "colab_type": "code",
    "id": "Fk3L4_hXqyoG"
   },
   "outputs": [
    {
     "data": {
      "text/plain": [
       "8월       광복절\n",
       "10월      한글날\n",
       "12월    기독탄신일\n",
       "Name: name, dtype: object"
      ]
     },
     "execution_count": 58,
     "metadata": {},
     "output_type": "execute_result"
    }
   ],
   "source": [
    "holidays.loc['8월':, 'name']"
   ]
  },
  {
   "cell_type": "markdown",
   "metadata": {
    "colab_type": "text",
    "id": "W9rqlCC2qyoJ"
   },
   "source": [
    "__loc__은 __시작:끝__을 지정했을 때 끝의 값도 포함한다는 점에 주의합니다."
   ]
  },
  {
   "cell_type": "code",
   "execution_count": 59,
   "metadata": {
    "colab": {},
    "colab_type": "code",
    "id": "oZi9hR0tqyoJ"
   },
   "outputs": [
    {
     "data": {
      "text/html": [
       "<div>\n",
       "<style scoped>\n",
       "    .dataframe tbody tr th:only-of-type {\n",
       "        vertical-align: middle;\n",
       "    }\n",
       "\n",
       "    .dataframe tbody tr th {\n",
       "        vertical-align: top;\n",
       "    }\n",
       "\n",
       "    .dataframe thead th {\n",
       "        text-align: right;\n",
       "    }\n",
       "</style>\n",
       "<table border=\"1\" class=\"dataframe\">\n",
       "  <thead>\n",
       "    <tr style=\"text-align: right;\">\n",
       "      <th></th>\n",
       "      <th>name</th>\n",
       "      <th>start_year</th>\n",
       "      <th>moon</th>\n",
       "    </tr>\n",
       "  </thead>\n",
       "  <tbody>\n",
       "    <tr>\n",
       "      <th>5월</th>\n",
       "      <td>어린이날</td>\n",
       "      <td>1975</td>\n",
       "      <td>False</td>\n",
       "    </tr>\n",
       "    <tr>\n",
       "      <th>음력4월</th>\n",
       "      <td>부처님 오신 날</td>\n",
       "      <td>1975</td>\n",
       "      <td>True</td>\n",
       "    </tr>\n",
       "    <tr>\n",
       "      <th>8월</th>\n",
       "      <td>광복절</td>\n",
       "      <td>1949</td>\n",
       "      <td>False</td>\n",
       "    </tr>\n",
       "    <tr>\n",
       "      <th>10월</th>\n",
       "      <td>한글날</td>\n",
       "      <td>1949</td>\n",
       "      <td>False</td>\n",
       "    </tr>\n",
       "  </tbody>\n",
       "</table>\n",
       "</div>"
      ],
      "text/plain": [
       "          name  start_year   moon\n",
       "5월        어린이날        1975  False\n",
       "음력4월  부처님 오신 날        1975   True\n",
       "8월         광복절        1949  False\n",
       "10월        한글날        1949  False"
      ]
     },
     "execution_count": 59,
     "metadata": {},
     "output_type": "execute_result"
    }
   ],
   "source": [
    "holidays.loc['5월':'10월', :]"
   ]
  },
  {
   "cell_type": "markdown",
   "metadata": {
    "colab_type": "text",
    "id": "vXgrxGz3qyoK"
   },
   "source": [
    "만약 연속하지 않은 행/열을 불러오고 싶을 때에는 리스트 형태로 묶어주면 됩니다."
   ]
  },
  {
   "cell_type": "code",
   "execution_count": 60,
   "metadata": {
    "colab": {},
    "colab_type": "code",
    "id": "5RIDizjKqyoK",
    "scrolled": true
   },
   "outputs": [
    {
     "data": {
      "text/html": [
       "<div>\n",
       "<style scoped>\n",
       "    .dataframe tbody tr th:only-of-type {\n",
       "        vertical-align: middle;\n",
       "    }\n",
       "\n",
       "    .dataframe tbody tr th {\n",
       "        vertical-align: top;\n",
       "    }\n",
       "\n",
       "    .dataframe thead th {\n",
       "        text-align: right;\n",
       "    }\n",
       "</style>\n",
       "<table border=\"1\" class=\"dataframe\">\n",
       "  <thead>\n",
       "    <tr style=\"text-align: right;\">\n",
       "      <th></th>\n",
       "      <th>name</th>\n",
       "      <th>start_year</th>\n",
       "    </tr>\n",
       "  </thead>\n",
       "  <tbody>\n",
       "    <tr>\n",
       "      <th>3월</th>\n",
       "      <td>삼일절</td>\n",
       "      <td>1949</td>\n",
       "    </tr>\n",
       "    <tr>\n",
       "      <th>8월</th>\n",
       "      <td>광복절</td>\n",
       "      <td>1949</td>\n",
       "    </tr>\n",
       "  </tbody>\n",
       "</table>\n",
       "</div>"
      ],
      "text/plain": [
       "   name  start_year\n",
       "3월  삼일절        1949\n",
       "8월  광복절        1949"
      ]
     },
     "execution_count": 60,
     "metadata": {},
     "output_type": "execute_result"
    }
   ],
   "source": [
    "holidays.loc[['3월','8월'], 'name':'start_year']"
   ]
  },
  {
   "cell_type": "markdown",
   "metadata": {
    "colab_type": "text",
    "id": "S7wlyr2hqyoL"
   },
   "source": [
    "loc은 라벨로만 가져올 수 있으므로, 색인(index)를 넣으면 에러가 납니다."
   ]
  },
  {
   "cell_type": "code",
   "execution_count": 61,
   "metadata": {
    "colab": {},
    "colab_type": "code",
    "id": "93Ehdm24qyoM"
   },
   "outputs": [
    {
     "ename": "TypeError",
     "evalue": "cannot do label indexing on <class 'pandas.core.indexes.base.Index'> with these indexers [0] of <class 'int'>",
     "output_type": "error",
     "traceback": [
      "\u001b[1;31m---------------------------------------------------------------------------\u001b[0m",
      "\u001b[1;31mTypeError\u001b[0m                                 Traceback (most recent call last)",
      "\u001b[1;32m<ipython-input-61-d62765fb25b3>\u001b[0m in \u001b[0;36m<module>\u001b[1;34m\u001b[0m\n\u001b[1;32m----> 1\u001b[1;33m \u001b[0mholidays\u001b[0m\u001b[1;33m.\u001b[0m\u001b[0mloc\u001b[0m\u001b[1;33m[\u001b[0m\u001b[1;36m0\u001b[0m\u001b[1;33m,\u001b[0m \u001b[1;36m0\u001b[0m\u001b[1;33m]\u001b[0m \u001b[1;31m# error\u001b[0m\u001b[1;33m\u001b[0m\u001b[1;33m\u001b[0m\u001b[0m\n\u001b[0m",
      "\u001b[1;32m~\\anaconda3\\lib\\site-packages\\pandas\\core\\indexing.py\u001b[0m in \u001b[0;36m__getitem__\u001b[1;34m(self, key)\u001b[0m\n\u001b[0;32m   1760\u001b[0m                 \u001b[1;32mexcept\u001b[0m \u001b[1;33m(\u001b[0m\u001b[0mKeyError\u001b[0m\u001b[1;33m,\u001b[0m \u001b[0mIndexError\u001b[0m\u001b[1;33m,\u001b[0m \u001b[0mAttributeError\u001b[0m\u001b[1;33m)\u001b[0m\u001b[1;33m:\u001b[0m\u001b[1;33m\u001b[0m\u001b[1;33m\u001b[0m\u001b[0m\n\u001b[0;32m   1761\u001b[0m                     \u001b[1;32mpass\u001b[0m\u001b[1;33m\u001b[0m\u001b[1;33m\u001b[0m\u001b[0m\n\u001b[1;32m-> 1762\u001b[1;33m             \u001b[1;32mreturn\u001b[0m \u001b[0mself\u001b[0m\u001b[1;33m.\u001b[0m\u001b[0m_getitem_tuple\u001b[0m\u001b[1;33m(\u001b[0m\u001b[0mkey\u001b[0m\u001b[1;33m)\u001b[0m\u001b[1;33m\u001b[0m\u001b[1;33m\u001b[0m\u001b[0m\n\u001b[0m\u001b[0;32m   1763\u001b[0m         \u001b[1;32melse\u001b[0m\u001b[1;33m:\u001b[0m\u001b[1;33m\u001b[0m\u001b[1;33m\u001b[0m\u001b[0m\n\u001b[0;32m   1764\u001b[0m             \u001b[1;31m# we by definition only have the 0th axis\u001b[0m\u001b[1;33m\u001b[0m\u001b[1;33m\u001b[0m\u001b[1;33m\u001b[0m\u001b[0m\n",
      "\u001b[1;32m~\\anaconda3\\lib\\site-packages\\pandas\\core\\indexing.py\u001b[0m in \u001b[0;36m_getitem_tuple\u001b[1;34m(self, tup)\u001b[0m\n\u001b[0;32m   1270\u001b[0m     \u001b[1;32mdef\u001b[0m \u001b[0m_getitem_tuple\u001b[0m\u001b[1;33m(\u001b[0m\u001b[0mself\u001b[0m\u001b[1;33m,\u001b[0m \u001b[0mtup\u001b[0m\u001b[1;33m:\u001b[0m \u001b[0mTuple\u001b[0m\u001b[1;33m)\u001b[0m\u001b[1;33m:\u001b[0m\u001b[1;33m\u001b[0m\u001b[1;33m\u001b[0m\u001b[0m\n\u001b[0;32m   1271\u001b[0m         \u001b[1;32mtry\u001b[0m\u001b[1;33m:\u001b[0m\u001b[1;33m\u001b[0m\u001b[1;33m\u001b[0m\u001b[0m\n\u001b[1;32m-> 1272\u001b[1;33m             \u001b[1;32mreturn\u001b[0m \u001b[0mself\u001b[0m\u001b[1;33m.\u001b[0m\u001b[0m_getitem_lowerdim\u001b[0m\u001b[1;33m(\u001b[0m\u001b[0mtup\u001b[0m\u001b[1;33m)\u001b[0m\u001b[1;33m\u001b[0m\u001b[1;33m\u001b[0m\u001b[0m\n\u001b[0m\u001b[0;32m   1273\u001b[0m         \u001b[1;32mexcept\u001b[0m \u001b[0mIndexingError\u001b[0m\u001b[1;33m:\u001b[0m\u001b[1;33m\u001b[0m\u001b[1;33m\u001b[0m\u001b[0m\n\u001b[0;32m   1274\u001b[0m             \u001b[1;32mpass\u001b[0m\u001b[1;33m\u001b[0m\u001b[1;33m\u001b[0m\u001b[0m\n",
      "\u001b[1;32m~\\anaconda3\\lib\\site-packages\\pandas\\core\\indexing.py\u001b[0m in \u001b[0;36m_getitem_lowerdim\u001b[1;34m(self, tup)\u001b[0m\n\u001b[0;32m   1387\u001b[0m         \u001b[1;32mfor\u001b[0m \u001b[0mi\u001b[0m\u001b[1;33m,\u001b[0m \u001b[0mkey\u001b[0m \u001b[1;32min\u001b[0m \u001b[0menumerate\u001b[0m\u001b[1;33m(\u001b[0m\u001b[0mtup\u001b[0m\u001b[1;33m)\u001b[0m\u001b[1;33m:\u001b[0m\u001b[1;33m\u001b[0m\u001b[1;33m\u001b[0m\u001b[0m\n\u001b[0;32m   1388\u001b[0m             \u001b[1;32mif\u001b[0m \u001b[0mis_label_like\u001b[0m\u001b[1;33m(\u001b[0m\u001b[0mkey\u001b[0m\u001b[1;33m)\u001b[0m \u001b[1;32mor\u001b[0m \u001b[0misinstance\u001b[0m\u001b[1;33m(\u001b[0m\u001b[0mkey\u001b[0m\u001b[1;33m,\u001b[0m \u001b[0mtuple\u001b[0m\u001b[1;33m)\u001b[0m\u001b[1;33m:\u001b[0m\u001b[1;33m\u001b[0m\u001b[1;33m\u001b[0m\u001b[0m\n\u001b[1;32m-> 1389\u001b[1;33m                 \u001b[0msection\u001b[0m \u001b[1;33m=\u001b[0m \u001b[0mself\u001b[0m\u001b[1;33m.\u001b[0m\u001b[0m_getitem_axis\u001b[0m\u001b[1;33m(\u001b[0m\u001b[0mkey\u001b[0m\u001b[1;33m,\u001b[0m \u001b[0maxis\u001b[0m\u001b[1;33m=\u001b[0m\u001b[0mi\u001b[0m\u001b[1;33m)\u001b[0m\u001b[1;33m\u001b[0m\u001b[1;33m\u001b[0m\u001b[0m\n\u001b[0m\u001b[0;32m   1390\u001b[0m \u001b[1;33m\u001b[0m\u001b[0m\n\u001b[0;32m   1391\u001b[0m                 \u001b[1;31m# we have yielded a scalar ?\u001b[0m\u001b[1;33m\u001b[0m\u001b[1;33m\u001b[0m\u001b[1;33m\u001b[0m\u001b[0m\n",
      "\u001b[1;32m~\\anaconda3\\lib\\site-packages\\pandas\\core\\indexing.py\u001b[0m in \u001b[0;36m_getitem_axis\u001b[1;34m(self, key, axis)\u001b[0m\n\u001b[0;32m   1962\u001b[0m \u001b[1;33m\u001b[0m\u001b[0m\n\u001b[0;32m   1963\u001b[0m         \u001b[1;31m# fall thru to straight lookup\u001b[0m\u001b[1;33m\u001b[0m\u001b[1;33m\u001b[0m\u001b[1;33m\u001b[0m\u001b[0m\n\u001b[1;32m-> 1964\u001b[1;33m         \u001b[0mself\u001b[0m\u001b[1;33m.\u001b[0m\u001b[0m_validate_key\u001b[0m\u001b[1;33m(\u001b[0m\u001b[0mkey\u001b[0m\u001b[1;33m,\u001b[0m \u001b[0maxis\u001b[0m\u001b[1;33m)\u001b[0m\u001b[1;33m\u001b[0m\u001b[1;33m\u001b[0m\u001b[0m\n\u001b[0m\u001b[0;32m   1965\u001b[0m         \u001b[1;32mreturn\u001b[0m \u001b[0mself\u001b[0m\u001b[1;33m.\u001b[0m\u001b[0m_get_label\u001b[0m\u001b[1;33m(\u001b[0m\u001b[0mkey\u001b[0m\u001b[1;33m,\u001b[0m \u001b[0maxis\u001b[0m\u001b[1;33m=\u001b[0m\u001b[0maxis\u001b[0m\u001b[1;33m)\u001b[0m\u001b[1;33m\u001b[0m\u001b[1;33m\u001b[0m\u001b[0m\n\u001b[0;32m   1966\u001b[0m \u001b[1;33m\u001b[0m\u001b[0m\n",
      "\u001b[1;32m~\\anaconda3\\lib\\site-packages\\pandas\\core\\indexing.py\u001b[0m in \u001b[0;36m_validate_key\u001b[1;34m(self, key, axis)\u001b[0m\n\u001b[0;32m   1829\u001b[0m \u001b[1;33m\u001b[0m\u001b[0m\n\u001b[0;32m   1830\u001b[0m         \u001b[1;32mif\u001b[0m \u001b[1;32mnot\u001b[0m \u001b[0mis_list_like_indexer\u001b[0m\u001b[1;33m(\u001b[0m\u001b[0mkey\u001b[0m\u001b[1;33m)\u001b[0m\u001b[1;33m:\u001b[0m\u001b[1;33m\u001b[0m\u001b[1;33m\u001b[0m\u001b[0m\n\u001b[1;32m-> 1831\u001b[1;33m             \u001b[0mself\u001b[0m\u001b[1;33m.\u001b[0m\u001b[0m_convert_scalar_indexer\u001b[0m\u001b[1;33m(\u001b[0m\u001b[0mkey\u001b[0m\u001b[1;33m,\u001b[0m \u001b[0maxis\u001b[0m\u001b[1;33m)\u001b[0m\u001b[1;33m\u001b[0m\u001b[1;33m\u001b[0m\u001b[0m\n\u001b[0m\u001b[0;32m   1832\u001b[0m \u001b[1;33m\u001b[0m\u001b[0m\n\u001b[0;32m   1833\u001b[0m     \u001b[1;32mdef\u001b[0m \u001b[0m_is_scalar_access\u001b[0m\u001b[1;33m(\u001b[0m\u001b[0mself\u001b[0m\u001b[1;33m,\u001b[0m \u001b[0mkey\u001b[0m\u001b[1;33m:\u001b[0m \u001b[0mTuple\u001b[0m\u001b[1;33m)\u001b[0m \u001b[1;33m->\u001b[0m \u001b[0mbool\u001b[0m\u001b[1;33m:\u001b[0m\u001b[1;33m\u001b[0m\u001b[1;33m\u001b[0m\u001b[0m\n",
      "\u001b[1;32m~\\anaconda3\\lib\\site-packages\\pandas\\core\\indexing.py\u001b[0m in \u001b[0;36m_convert_scalar_indexer\u001b[1;34m(self, key, axis)\u001b[0m\n\u001b[0;32m    739\u001b[0m         \u001b[0max\u001b[0m \u001b[1;33m=\u001b[0m \u001b[0mself\u001b[0m\u001b[1;33m.\u001b[0m\u001b[0mobj\u001b[0m\u001b[1;33m.\u001b[0m\u001b[0m_get_axis\u001b[0m\u001b[1;33m(\u001b[0m\u001b[0mmin\u001b[0m\u001b[1;33m(\u001b[0m\u001b[0maxis\u001b[0m\u001b[1;33m,\u001b[0m \u001b[0mself\u001b[0m\u001b[1;33m.\u001b[0m\u001b[0mndim\u001b[0m \u001b[1;33m-\u001b[0m \u001b[1;36m1\u001b[0m\u001b[1;33m)\u001b[0m\u001b[1;33m)\u001b[0m\u001b[1;33m\u001b[0m\u001b[1;33m\u001b[0m\u001b[0m\n\u001b[0;32m    740\u001b[0m         \u001b[1;31m# a scalar\u001b[0m\u001b[1;33m\u001b[0m\u001b[1;33m\u001b[0m\u001b[1;33m\u001b[0m\u001b[0m\n\u001b[1;32m--> 741\u001b[1;33m         \u001b[1;32mreturn\u001b[0m \u001b[0max\u001b[0m\u001b[1;33m.\u001b[0m\u001b[0m_convert_scalar_indexer\u001b[0m\u001b[1;33m(\u001b[0m\u001b[0mkey\u001b[0m\u001b[1;33m,\u001b[0m \u001b[0mkind\u001b[0m\u001b[1;33m=\u001b[0m\u001b[0mself\u001b[0m\u001b[1;33m.\u001b[0m\u001b[0mname\u001b[0m\u001b[1;33m)\u001b[0m\u001b[1;33m\u001b[0m\u001b[1;33m\u001b[0m\u001b[0m\n\u001b[0m\u001b[0;32m    742\u001b[0m \u001b[1;33m\u001b[0m\u001b[0m\n\u001b[0;32m    743\u001b[0m     \u001b[1;32mdef\u001b[0m \u001b[0m_convert_slice_indexer\u001b[0m\u001b[1;33m(\u001b[0m\u001b[0mself\u001b[0m\u001b[1;33m,\u001b[0m \u001b[0mkey\u001b[0m\u001b[1;33m:\u001b[0m \u001b[0mslice\u001b[0m\u001b[1;33m,\u001b[0m \u001b[0maxis\u001b[0m\u001b[1;33m:\u001b[0m \u001b[0mint\u001b[0m\u001b[1;33m)\u001b[0m\u001b[1;33m:\u001b[0m\u001b[1;33m\u001b[0m\u001b[1;33m\u001b[0m\u001b[0m\n",
      "\u001b[1;32m~\\anaconda3\\lib\\site-packages\\pandas\\core\\indexes\\base.py\u001b[0m in \u001b[0;36m_convert_scalar_indexer\u001b[1;34m(self, key, kind)\u001b[0m\n\u001b[0;32m   2886\u001b[0m             \u001b[1;32melif\u001b[0m \u001b[0mkind\u001b[0m \u001b[1;32min\u001b[0m \u001b[1;33m[\u001b[0m\u001b[1;34m\"loc\"\u001b[0m\u001b[1;33m]\u001b[0m \u001b[1;32mand\u001b[0m \u001b[0mis_integer\u001b[0m\u001b[1;33m(\u001b[0m\u001b[0mkey\u001b[0m\u001b[1;33m)\u001b[0m\u001b[1;33m:\u001b[0m\u001b[1;33m\u001b[0m\u001b[1;33m\u001b[0m\u001b[0m\n\u001b[0;32m   2887\u001b[0m                 \u001b[1;32mif\u001b[0m \u001b[1;32mnot\u001b[0m \u001b[0mself\u001b[0m\u001b[1;33m.\u001b[0m\u001b[0mholds_integer\u001b[0m\u001b[1;33m(\u001b[0m\u001b[1;33m)\u001b[0m\u001b[1;33m:\u001b[0m\u001b[1;33m\u001b[0m\u001b[1;33m\u001b[0m\u001b[0m\n\u001b[1;32m-> 2888\u001b[1;33m                     \u001b[0mself\u001b[0m\u001b[1;33m.\u001b[0m\u001b[0m_invalid_indexer\u001b[0m\u001b[1;33m(\u001b[0m\u001b[1;34m\"label\"\u001b[0m\u001b[1;33m,\u001b[0m \u001b[0mkey\u001b[0m\u001b[1;33m)\u001b[0m\u001b[1;33m\u001b[0m\u001b[1;33m\u001b[0m\u001b[0m\n\u001b[0m\u001b[0;32m   2889\u001b[0m \u001b[1;33m\u001b[0m\u001b[0m\n\u001b[0;32m   2890\u001b[0m         \u001b[1;32mreturn\u001b[0m \u001b[0mkey\u001b[0m\u001b[1;33m\u001b[0m\u001b[1;33m\u001b[0m\u001b[0m\n",
      "\u001b[1;32m~\\anaconda3\\lib\\site-packages\\pandas\\core\\indexes\\base.py\u001b[0m in \u001b[0;36m_invalid_indexer\u001b[1;34m(self, form, key)\u001b[0m\n\u001b[0;32m   3074\u001b[0m         \u001b[0mConsistent\u001b[0m \u001b[0minvalid\u001b[0m \u001b[0mindexer\u001b[0m \u001b[0mmessage\u001b[0m\u001b[1;33m.\u001b[0m\u001b[1;33m\u001b[0m\u001b[1;33m\u001b[0m\u001b[0m\n\u001b[0;32m   3075\u001b[0m         \"\"\"\n\u001b[1;32m-> 3076\u001b[1;33m         raise TypeError(\n\u001b[0m\u001b[0;32m   3077\u001b[0m             \u001b[1;34mf\"cannot do {form} indexing on {type(self)} with these \"\u001b[0m\u001b[1;33m\u001b[0m\u001b[1;33m\u001b[0m\u001b[0m\n\u001b[0;32m   3078\u001b[0m             \u001b[1;34mf\"indexers [{key}] of {type(key)}\"\u001b[0m\u001b[1;33m\u001b[0m\u001b[1;33m\u001b[0m\u001b[0m\n",
      "\u001b[1;31mTypeError\u001b[0m: cannot do label indexing on <class 'pandas.core.indexes.base.Index'> with these indexers [0] of <class 'int'>"
     ]
    }
   ],
   "source": [
    "holidays.loc[0, 0] # error"
   ]
  },
  {
   "cell_type": "markdown",
   "metadata": {
    "colab_type": "text",
    "id": "jHco8HrTqyoN"
   },
   "source": [
    "다만 라벨이 없는 경우에는 기본 색인(0, 1, 2..)을 라벨처럼 사용합니다."
   ]
  },
  {
   "cell_type": "code",
   "execution_count": 62,
   "metadata": {
    "colab": {},
    "colab_type": "code",
    "id": "FKJ974cIqyoN"
   },
   "outputs": [
    {
     "data": {
      "text/html": [
       "<div>\n",
       "<style scoped>\n",
       "    .dataframe tbody tr th:only-of-type {\n",
       "        vertical-align: middle;\n",
       "    }\n",
       "\n",
       "    .dataframe tbody tr th {\n",
       "        vertical-align: top;\n",
       "    }\n",
       "\n",
       "    .dataframe thead th {\n",
       "        text-align: right;\n",
       "    }\n",
       "</style>\n",
       "<table border=\"1\" class=\"dataframe\">\n",
       "  <thead>\n",
       "    <tr style=\"text-align: right;\">\n",
       "      <th></th>\n",
       "      <th>c1</th>\n",
       "      <th>c2</th>\n",
       "    </tr>\n",
       "  </thead>\n",
       "  <tbody>\n",
       "    <tr>\n",
       "      <th>0</th>\n",
       "      <td>2</td>\n",
       "      <td>5</td>\n",
       "    </tr>\n",
       "    <tr>\n",
       "      <th>1</th>\n",
       "      <td>4</td>\n",
       "      <td>10</td>\n",
       "    </tr>\n",
       "    <tr>\n",
       "      <th>2</th>\n",
       "      <td>6</td>\n",
       "      <td>15</td>\n",
       "    </tr>\n",
       "    <tr>\n",
       "      <th>3</th>\n",
       "      <td>8</td>\n",
       "      <td>20</td>\n",
       "    </tr>\n",
       "  </tbody>\n",
       "</table>\n",
       "</div>"
      ],
      "text/plain": [
       "   c1  c2\n",
       "0   2   5\n",
       "1   4  10\n",
       "2   6  15\n",
       "3   8  20"
      ]
     },
     "execution_count": 62,
     "metadata": {},
     "output_type": "execute_result"
    }
   ],
   "source": [
    "myf = DataFrame({'c1':Series([2, 4, 6, 8]), \n",
    "                 'c2':Series([5, 10, 15, 20])})\n",
    "myf"
   ]
  },
  {
   "cell_type": "code",
   "execution_count": 63,
   "metadata": {
    "colab": {},
    "colab_type": "code",
    "id": "MrJBv4ipqyoO"
   },
   "outputs": [
    {
     "data": {
      "text/html": [
       "<div>\n",
       "<style scoped>\n",
       "    .dataframe tbody tr th:only-of-type {\n",
       "        vertical-align: middle;\n",
       "    }\n",
       "\n",
       "    .dataframe tbody tr th {\n",
       "        vertical-align: top;\n",
       "    }\n",
       "\n",
       "    .dataframe thead th {\n",
       "        text-align: right;\n",
       "    }\n",
       "</style>\n",
       "<table border=\"1\" class=\"dataframe\">\n",
       "  <thead>\n",
       "    <tr style=\"text-align: right;\">\n",
       "      <th></th>\n",
       "      <th>c1</th>\n",
       "      <th>c2</th>\n",
       "    </tr>\n",
       "  </thead>\n",
       "  <tbody>\n",
       "    <tr>\n",
       "      <th>2</th>\n",
       "      <td>6</td>\n",
       "      <td>15</td>\n",
       "    </tr>\n",
       "    <tr>\n",
       "      <th>3</th>\n",
       "      <td>8</td>\n",
       "      <td>20</td>\n",
       "    </tr>\n",
       "  </tbody>\n",
       "</table>\n",
       "</div>"
      ],
      "text/plain": [
       "   c1  c2\n",
       "2   6  15\n",
       "3   8  20"
      ]
     },
     "execution_count": 63,
     "metadata": {},
     "output_type": "execute_result"
    }
   ],
   "source": [
    "myf.loc[2:3]"
   ]
  },
  {
   "cell_type": "markdown",
   "metadata": {
    "colab_type": "text",
    "id": "jnIIWA3uqyoP"
   },
   "source": [
    "iloc과의 차이를 다시 알려드립니다."
   ]
  },
  {
   "cell_type": "code",
   "execution_count": 64,
   "metadata": {
    "colab": {},
    "colab_type": "code",
    "id": "OpEMhjXfqyoP"
   },
   "outputs": [
    {
     "data": {
      "text/html": [
       "<div>\n",
       "<style scoped>\n",
       "    .dataframe tbody tr th:only-of-type {\n",
       "        vertical-align: middle;\n",
       "    }\n",
       "\n",
       "    .dataframe tbody tr th {\n",
       "        vertical-align: top;\n",
       "    }\n",
       "\n",
       "    .dataframe thead th {\n",
       "        text-align: right;\n",
       "    }\n",
       "</style>\n",
       "<table border=\"1\" class=\"dataframe\">\n",
       "  <thead>\n",
       "    <tr style=\"text-align: right;\">\n",
       "      <th></th>\n",
       "      <th>c1</th>\n",
       "      <th>c2</th>\n",
       "    </tr>\n",
       "  </thead>\n",
       "  <tbody>\n",
       "    <tr>\n",
       "      <th>2</th>\n",
       "      <td>6</td>\n",
       "      <td>15</td>\n",
       "    </tr>\n",
       "  </tbody>\n",
       "</table>\n",
       "</div>"
      ],
      "text/plain": [
       "   c1  c2\n",
       "2   6  15"
      ]
     },
     "execution_count": 64,
     "metadata": {},
     "output_type": "execute_result"
    }
   ],
   "source": [
    "myf.iloc[2:3]"
   ]
  },
  {
   "cell_type": "code",
   "execution_count": 65,
   "metadata": {
    "colab": {},
    "colab_type": "code",
    "id": "vQ7L3VoaqyoR"
   },
   "outputs": [
    {
     "data": {
      "text/html": [
       "<div>\n",
       "<style scoped>\n",
       "    .dataframe tbody tr th:only-of-type {\n",
       "        vertical-align: middle;\n",
       "    }\n",
       "\n",
       "    .dataframe tbody tr th {\n",
       "        vertical-align: top;\n",
       "    }\n",
       "\n",
       "    .dataframe thead th {\n",
       "        text-align: right;\n",
       "    }\n",
       "</style>\n",
       "<table border=\"1\" class=\"dataframe\">\n",
       "  <thead>\n",
       "    <tr style=\"text-align: right;\">\n",
       "      <th></th>\n",
       "      <th>c1</th>\n",
       "      <th>c2</th>\n",
       "    </tr>\n",
       "  </thead>\n",
       "  <tbody>\n",
       "    <tr>\n",
       "      <th>0</th>\n",
       "      <td>2</td>\n",
       "      <td>5</td>\n",
       "    </tr>\n",
       "    <tr>\n",
       "      <th>3</th>\n",
       "      <td>8</td>\n",
       "      <td>20</td>\n",
       "    </tr>\n",
       "  </tbody>\n",
       "</table>\n",
       "</div>"
      ],
      "text/plain": [
       "   c1  c2\n",
       "0   2   5\n",
       "3   8  20"
      ]
     },
     "execution_count": 65,
     "metadata": {},
     "output_type": "execute_result"
    }
   ],
   "source": [
    "myf.loc[[0,3], 'c1':]"
   ]
  },
  {
   "cell_type": "markdown",
   "metadata": {
    "colab_type": "text",
    "id": "89JZungeqyoS"
   },
   "source": [
    "<p style=\"color:#0000FF\";><font size = \"5\"><b>\n",
    "연습하기\n",
    "    </b></font></p>\n",
    "\n",
    "#### DataFrame 'holidays'에서 찾는 연습입니다.\n",
    "#### (1) iloc을 사용해서 다음 정보를 가져오세요.\n",
    "<pre>'광복절'</pre>\n",
    "\n",
    "#### (2) loc을 사용해서 다음 정보를 가져오세요.\n",
    "<pre>'한글날'</pre>\n",
    "\n",
    "#### (3) iloc을 사용해서 다음 정보를 가져오세요.\n",
    "\n",
    "<table>\n",
    "<thead>\n",
    "<tr>\n",
    "<th></th>\n",
    "<th>name</th>\n",
    "<th>start_year</th>\n",
    "<th>moon</th>\n",
    "</tr>\n",
    "</thead>\n",
    "<tbody>\n",
    "<tr>\n",
    "<td>8월</td>\n",
    "<td>광복절</td>\n",
    "<td>1949</td>\n",
    "<td>False</td>\n",
    "</tr>\n",
    "<tr>\n",
    "<td>10월</td>\n",
    "<td>한글날</td>\n",
    "<td>1949</td>\n",
    "<td>False</td>\n",
    "</tr>\n",
    "</tbody>\n",
    "</table>\n",
    "\n",
    "#### (4) loc을 사용해서 다음 정보를 가져오세요.\n",
    "\n",
    "<table>\n",
    "<thead>\n",
    "<tr>\n",
    "<th></th>\n",
    "<th>name</th>\n",
    "<th>moon</th>\n",
    "</tr>\n",
    "</thead>\n",
    "<tbody>\n",
    "<tr>\n",
    "<td>음력4월</td>\n",
    "<td>부처님 오신 날</td>\n",
    "<td>True</td>\n",
    "</tr>\n",
    "<tr>\n",
    "<td>12월</td>\n",
    "<td>기독탄신일</td>\n",
    "<td>False</td>\n",
    "</tr>\n",
    "</tbody>\n",
    "</table>"
   ]
  },
  {
   "cell_type": "code",
   "execution_count": 0,
   "metadata": {
    "colab": {},
    "colab_type": "code",
    "id": "JUjHi1l9qyoS"
   },
   "outputs": [],
   "source": [
    "holidays"
   ]
  },
  {
   "cell_type": "code",
   "execution_count": 0,
   "metadata": {
    "colab": {},
    "colab_type": "code",
    "id": "RU90bwEUqyoT"
   },
   "outputs": [],
   "source": []
  },
  {
   "cell_type": "code",
   "execution_count": 0,
   "metadata": {
    "colab": {},
    "colab_type": "code",
    "id": "NOOZU78TqyoV"
   },
   "outputs": [],
   "source": []
  },
  {
   "cell_type": "code",
   "execution_count": 0,
   "metadata": {
    "colab": {},
    "colab_type": "code",
    "id": "B9fZotlhqyoW"
   },
   "outputs": [],
   "source": []
  },
  {
   "cell_type": "code",
   "execution_count": 0,
   "metadata": {
    "colab": {},
    "colab_type": "code",
    "id": "4ldYo8zDqyoX"
   },
   "outputs": [],
   "source": []
  },
  {
   "cell_type": "markdown",
   "metadata": {
    "colab_type": "text",
    "id": "m-aSf6e3qyof"
   },
   "source": [
    "## 3-(2). 조건을 만족하는 행을 받아오기(Boolean indexing)\n",
    "DataFrame에서 loc, iloc 등 색인(index)과 라벨을 가지고 특정 행을 가져오는 것처럼, 조건을 만족하는 행을 가져올 수 있습니다(Boolean Indexing).\n",
    "먼저 아래와 같이 DataFrame의 특정 열(column)에서 지정한 조건을 만족하는(True)값이 있는지 볼 수 있습니다."
   ]
  },
  {
   "cell_type": "code",
   "execution_count": 66,
   "metadata": {
    "colab": {},
    "colab_type": "code",
    "id": "luessYXHqyof",
    "scrolled": false
   },
   "outputs": [
    {
     "data": {
      "text/html": [
       "<div>\n",
       "<style scoped>\n",
       "    .dataframe tbody tr th:only-of-type {\n",
       "        vertical-align: middle;\n",
       "    }\n",
       "\n",
       "    .dataframe tbody tr th {\n",
       "        vertical-align: top;\n",
       "    }\n",
       "\n",
       "    .dataframe thead th {\n",
       "        text-align: right;\n",
       "    }\n",
       "</style>\n",
       "<table border=\"1\" class=\"dataframe\">\n",
       "  <thead>\n",
       "    <tr style=\"text-align: right;\">\n",
       "      <th></th>\n",
       "      <th>name</th>\n",
       "      <th>start_year</th>\n",
       "      <th>moon</th>\n",
       "    </tr>\n",
       "  </thead>\n",
       "  <tbody>\n",
       "    <tr>\n",
       "      <th>3월</th>\n",
       "      <td>삼일절</td>\n",
       "      <td>1949</td>\n",
       "      <td>False</td>\n",
       "    </tr>\n",
       "    <tr>\n",
       "      <th>5월</th>\n",
       "      <td>어린이날</td>\n",
       "      <td>1975</td>\n",
       "      <td>False</td>\n",
       "    </tr>\n",
       "    <tr>\n",
       "      <th>음력4월</th>\n",
       "      <td>부처님 오신 날</td>\n",
       "      <td>1975</td>\n",
       "      <td>True</td>\n",
       "    </tr>\n",
       "    <tr>\n",
       "      <th>8월</th>\n",
       "      <td>광복절</td>\n",
       "      <td>1949</td>\n",
       "      <td>False</td>\n",
       "    </tr>\n",
       "    <tr>\n",
       "      <th>10월</th>\n",
       "      <td>한글날</td>\n",
       "      <td>1949</td>\n",
       "      <td>False</td>\n",
       "    </tr>\n",
       "    <tr>\n",
       "      <th>12월</th>\n",
       "      <td>기독탄신일</td>\n",
       "      <td>1949</td>\n",
       "      <td>False</td>\n",
       "    </tr>\n",
       "  </tbody>\n",
       "</table>\n",
       "</div>"
      ],
      "text/plain": [
       "          name  start_year   moon\n",
       "3월         삼일절        1949  False\n",
       "5월        어린이날        1975  False\n",
       "음력4월  부처님 오신 날        1975   True\n",
       "8월         광복절        1949  False\n",
       "10월        한글날        1949  False\n",
       "12월      기독탄신일        1949  False"
      ]
     },
     "execution_count": 66,
     "metadata": {},
     "output_type": "execute_result"
    }
   ],
   "source": [
    "holidays"
   ]
  },
  {
   "cell_type": "code",
   "execution_count": 67,
   "metadata": {
    "colab": {},
    "colab_type": "code",
    "id": "El-_uWTVqyog"
   },
   "outputs": [
    {
     "data": {
      "text/plain": [
       "3월      False\n",
       "5월      False\n",
       "음력4월    False\n",
       "8월      False\n",
       "10월      True\n",
       "12월     False\n",
       "Name: name, dtype: bool"
      ]
     },
     "execution_count": 67,
     "metadata": {},
     "output_type": "execute_result"
    }
   ],
   "source": [
    "holidays['name'] == '한글날'"
   ]
  },
  {
   "cell_type": "markdown",
   "metadata": {
    "colab_type": "text",
    "id": "7kNkwF3fqyoh"
   },
   "source": [
    "위의 조건식은 Boolean Series를 돌려주지만, 모든 열에 True/False를 표시하므로 어떤 행에서 True가 나오는지는 보기 어렵습니다. 해당 DataFrame에서 True인 부분만 가져오려면 대괄호 안에 조건을 넣어주면 됩니다."
   ]
  },
  {
   "cell_type": "code",
   "execution_count": 68,
   "metadata": {
    "colab": {},
    "colab_type": "code",
    "id": "4OFV2_z8qyoh"
   },
   "outputs": [
    {
     "data": {
      "text/html": [
       "<div>\n",
       "<style scoped>\n",
       "    .dataframe tbody tr th:only-of-type {\n",
       "        vertical-align: middle;\n",
       "    }\n",
       "\n",
       "    .dataframe tbody tr th {\n",
       "        vertical-align: top;\n",
       "    }\n",
       "\n",
       "    .dataframe thead th {\n",
       "        text-align: right;\n",
       "    }\n",
       "</style>\n",
       "<table border=\"1\" class=\"dataframe\">\n",
       "  <thead>\n",
       "    <tr style=\"text-align: right;\">\n",
       "      <th></th>\n",
       "      <th>name</th>\n",
       "      <th>start_year</th>\n",
       "      <th>moon</th>\n",
       "    </tr>\n",
       "  </thead>\n",
       "  <tbody>\n",
       "    <tr>\n",
       "      <th>10월</th>\n",
       "      <td>한글날</td>\n",
       "      <td>1949</td>\n",
       "      <td>False</td>\n",
       "    </tr>\n",
       "  </tbody>\n",
       "</table>\n",
       "</div>"
      ],
      "text/plain": [
       "    name  start_year   moon\n",
       "10월  한글날        1949  False"
      ]
     },
     "execution_count": 68,
     "metadata": {},
     "output_type": "execute_result"
    }
   ],
   "source": [
    "holidays[holidays['name'] == '한글날']"
   ]
  },
  {
   "cell_type": "markdown",
   "metadata": {
    "colab_type": "text",
    "id": "ej4Bl6kRqyoi"
   },
   "source": [
    "전부 일치하는 경우만 가져오므로, 만족하는 행이 없으면 결과를 볼 수 없습니다."
   ]
  },
  {
   "cell_type": "code",
   "execution_count": 69,
   "metadata": {
    "colab": {},
    "colab_type": "code",
    "id": "xIBnVIUsqyoj"
   },
   "outputs": [
    {
     "data": {
      "text/html": [
       "<div>\n",
       "<style scoped>\n",
       "    .dataframe tbody tr th:only-of-type {\n",
       "        vertical-align: middle;\n",
       "    }\n",
       "\n",
       "    .dataframe tbody tr th {\n",
       "        vertical-align: top;\n",
       "    }\n",
       "\n",
       "    .dataframe thead th {\n",
       "        text-align: right;\n",
       "    }\n",
       "</style>\n",
       "<table border=\"1\" class=\"dataframe\">\n",
       "  <thead>\n",
       "    <tr style=\"text-align: right;\">\n",
       "      <th></th>\n",
       "      <th>name</th>\n",
       "      <th>start_year</th>\n",
       "      <th>moon</th>\n",
       "    </tr>\n",
       "  </thead>\n",
       "  <tbody>\n",
       "  </tbody>\n",
       "</table>\n",
       "</div>"
      ],
      "text/plain": [
       "Empty DataFrame\n",
       "Columns: [name, start_year, moon]\n",
       "Index: []"
      ]
     },
     "execution_count": 69,
     "metadata": {},
     "output_type": "execute_result"
    }
   ],
   "source": [
    "holidays[holidays['name'] == '추석']"
   ]
  },
  {
   "cell_type": "markdown",
   "metadata": {
    "colab_type": "text",
    "id": "KWR_3r0cqyok"
   },
   "source": [
    "숫자를 비교해 봅시다."
   ]
  },
  {
   "cell_type": "code",
   "execution_count": 70,
   "metadata": {
    "colab": {},
    "colab_type": "code",
    "id": "F4mLhmRpqyok",
    "scrolled": true
   },
   "outputs": [
    {
     "data": {
      "text/plain": [
       "3월       True\n",
       "5월      False\n",
       "음력4월    False\n",
       "8월       True\n",
       "10월      True\n",
       "12월      True\n",
       "Name: start_year, dtype: bool"
      ]
     },
     "execution_count": 70,
     "metadata": {},
     "output_type": "execute_result"
    }
   ],
   "source": [
    "holidays['start_year'] < 1950"
   ]
  },
  {
   "cell_type": "code",
   "execution_count": 71,
   "metadata": {
    "colab": {},
    "colab_type": "code",
    "id": "Z1cxamzgqyol"
   },
   "outputs": [
    {
     "data": {
      "text/html": [
       "<div>\n",
       "<style scoped>\n",
       "    .dataframe tbody tr th:only-of-type {\n",
       "        vertical-align: middle;\n",
       "    }\n",
       "\n",
       "    .dataframe tbody tr th {\n",
       "        vertical-align: top;\n",
       "    }\n",
       "\n",
       "    .dataframe thead th {\n",
       "        text-align: right;\n",
       "    }\n",
       "</style>\n",
       "<table border=\"1\" class=\"dataframe\">\n",
       "  <thead>\n",
       "    <tr style=\"text-align: right;\">\n",
       "      <th></th>\n",
       "      <th>name</th>\n",
       "      <th>start_year</th>\n",
       "      <th>moon</th>\n",
       "    </tr>\n",
       "  </thead>\n",
       "  <tbody>\n",
       "    <tr>\n",
       "      <th>3월</th>\n",
       "      <td>삼일절</td>\n",
       "      <td>1949</td>\n",
       "      <td>False</td>\n",
       "    </tr>\n",
       "    <tr>\n",
       "      <th>8월</th>\n",
       "      <td>광복절</td>\n",
       "      <td>1949</td>\n",
       "      <td>False</td>\n",
       "    </tr>\n",
       "    <tr>\n",
       "      <th>10월</th>\n",
       "      <td>한글날</td>\n",
       "      <td>1949</td>\n",
       "      <td>False</td>\n",
       "    </tr>\n",
       "    <tr>\n",
       "      <th>12월</th>\n",
       "      <td>기독탄신일</td>\n",
       "      <td>1949</td>\n",
       "      <td>False</td>\n",
       "    </tr>\n",
       "  </tbody>\n",
       "</table>\n",
       "</div>"
      ],
      "text/plain": [
       "      name  start_year   moon\n",
       "3월     삼일절        1949  False\n",
       "8월     광복절        1949  False\n",
       "10월    한글날        1949  False\n",
       "12월  기독탄신일        1949  False"
      ]
     },
     "execution_count": 71,
     "metadata": {},
     "output_type": "execute_result"
    }
   ],
   "source": [
    "holidays[holidays['start_year'] < 1950]"
   ]
  },
  {
   "cell_type": "markdown",
   "metadata": {
    "colab_type": "text",
    "id": "1Pmoyf8Wqyon"
   },
   "source": [
    "loc/iloc을 사용해서 표현할 수도 있습니다."
   ]
  },
  {
   "cell_type": "code",
   "execution_count": 72,
   "metadata": {
    "colab": {},
    "colab_type": "code",
    "id": "WU0Pr5Nhqyon"
   },
   "outputs": [
    {
     "data": {
      "text/html": [
       "<div>\n",
       "<style scoped>\n",
       "    .dataframe tbody tr th:only-of-type {\n",
       "        vertical-align: middle;\n",
       "    }\n",
       "\n",
       "    .dataframe tbody tr th {\n",
       "        vertical-align: top;\n",
       "    }\n",
       "\n",
       "    .dataframe thead th {\n",
       "        text-align: right;\n",
       "    }\n",
       "</style>\n",
       "<table border=\"1\" class=\"dataframe\">\n",
       "  <thead>\n",
       "    <tr style=\"text-align: right;\">\n",
       "      <th></th>\n",
       "      <th>name</th>\n",
       "      <th>start_year</th>\n",
       "      <th>moon</th>\n",
       "    </tr>\n",
       "  </thead>\n",
       "  <tbody>\n",
       "    <tr>\n",
       "      <th>3월</th>\n",
       "      <td>삼일절</td>\n",
       "      <td>1949</td>\n",
       "      <td>False</td>\n",
       "    </tr>\n",
       "    <tr>\n",
       "      <th>8월</th>\n",
       "      <td>광복절</td>\n",
       "      <td>1949</td>\n",
       "      <td>False</td>\n",
       "    </tr>\n",
       "    <tr>\n",
       "      <th>10월</th>\n",
       "      <td>한글날</td>\n",
       "      <td>1949</td>\n",
       "      <td>False</td>\n",
       "    </tr>\n",
       "    <tr>\n",
       "      <th>12월</th>\n",
       "      <td>기독탄신일</td>\n",
       "      <td>1949</td>\n",
       "      <td>False</td>\n",
       "    </tr>\n",
       "  </tbody>\n",
       "</table>\n",
       "</div>"
      ],
      "text/plain": [
       "      name  start_year   moon\n",
       "3월     삼일절        1949  False\n",
       "8월     광복절        1949  False\n",
       "10월    한글날        1949  False\n",
       "12월  기독탄신일        1949  False"
      ]
     },
     "execution_count": 72,
     "metadata": {},
     "output_type": "execute_result"
    }
   ],
   "source": [
    "holidays[holidays.loc[:,'start_year'] < 1950]"
   ]
  },
  {
   "cell_type": "markdown",
   "metadata": {
    "colab_type": "text",
    "id": "MmdBnCUVqyoo"
   },
   "source": [
    "moon은 boolean으로만 이루어져서 아래와 같이 가능합니다."
   ]
  },
  {
   "cell_type": "code",
   "execution_count": 73,
   "metadata": {
    "colab": {},
    "colab_type": "code",
    "id": "46IdqoMCqyoo"
   },
   "outputs": [
    {
     "data": {
      "text/plain": [
       "3월      False\n",
       "5월      False\n",
       "음력4월     True\n",
       "8월      False\n",
       "10월     False\n",
       "12월     False\n",
       "Name: moon, dtype: bool"
      ]
     },
     "execution_count": 73,
     "metadata": {},
     "output_type": "execute_result"
    }
   ],
   "source": [
    "holidays['moon']"
   ]
  },
  {
   "cell_type": "code",
   "execution_count": 74,
   "metadata": {
    "colab": {},
    "colab_type": "code",
    "id": "UcEjjYPgqyop"
   },
   "outputs": [
    {
     "data": {
      "text/html": [
       "<div>\n",
       "<style scoped>\n",
       "    .dataframe tbody tr th:only-of-type {\n",
       "        vertical-align: middle;\n",
       "    }\n",
       "\n",
       "    .dataframe tbody tr th {\n",
       "        vertical-align: top;\n",
       "    }\n",
       "\n",
       "    .dataframe thead th {\n",
       "        text-align: right;\n",
       "    }\n",
       "</style>\n",
       "<table border=\"1\" class=\"dataframe\">\n",
       "  <thead>\n",
       "    <tr style=\"text-align: right;\">\n",
       "      <th></th>\n",
       "      <th>name</th>\n",
       "      <th>start_year</th>\n",
       "      <th>moon</th>\n",
       "    </tr>\n",
       "  </thead>\n",
       "  <tbody>\n",
       "    <tr>\n",
       "      <th>음력4월</th>\n",
       "      <td>부처님 오신 날</td>\n",
       "      <td>1975</td>\n",
       "      <td>True</td>\n",
       "    </tr>\n",
       "  </tbody>\n",
       "</table>\n",
       "</div>"
      ],
      "text/plain": [
       "          name  start_year  moon\n",
       "음력4월  부처님 오신 날        1975  True"
      ]
     },
     "execution_count": 74,
     "metadata": {},
     "output_type": "execute_result"
    }
   ],
   "source": [
    "holidays[holidays['moon']]"
   ]
  },
  {
   "cell_type": "markdown",
   "metadata": {
    "colab_type": "text",
    "id": "tZhmUTIqqyos"
   },
   "source": [
    "<p style=\"color:#0000FF\";><font size = \"5\"><b>\n",
    "연습하기\n",
    "    </b></font></p>\n",
    "\n",
    "#### DataFrame 'holidays'에서 찾는 연습입니다.\n",
    "#### (1) Boolean indexing을 사용해서 '기독탄신일'이 있는 행만 찾아보세요. \n",
    "\n",
    "#### (2) 1970년 이후에 제정한 기념일만 찾아보세요."
   ]
  },
  {
   "cell_type": "code",
   "execution_count": 0,
   "metadata": {
    "colab": {},
    "colab_type": "code",
    "id": "yDMd9M0Lqyos"
   },
   "outputs": [],
   "source": []
  },
  {
   "cell_type": "code",
   "execution_count": 0,
   "metadata": {
    "colab": {},
    "colab_type": "code",
    "id": "2ToUEoigqyou",
    "scrolled": true
   },
   "outputs": [],
   "source": []
  },
  {
   "cell_type": "markdown",
   "metadata": {
    "colab_type": "text",
    "id": "tIrh4jx6qyoz"
   },
   "source": [
    "## 3-(3). 특정 값에 따라 정렬하기\n",
    "\n",
    "DataFrame.sort_values를 사용하여 특정 열의 값에 따라 크거나 작은 순서로 정렬할 수 있습니다."
   ]
  },
  {
   "cell_type": "code",
   "execution_count": 75,
   "metadata": {
    "colab": {},
    "colab_type": "code",
    "id": "adUCgjqyqyo0"
   },
   "outputs": [
    {
     "name": "stdout",
     "output_type": "stream",
     "text": [
      "Help on function sort_values in module pandas.core.frame:\n",
      "\n",
      "sort_values(self, by, axis=0, ascending=True, inplace=False, kind='quicksort', na_position='last', ignore_index=False)\n",
      "    Sort by the values along either axis.\n",
      "    \n",
      "    Parameters\n",
      "    ----------\n",
      "            by : str or list of str\n",
      "                Name or list of names to sort by.\n",
      "    \n",
      "                - if `axis` is 0 or `'index'` then `by` may contain index\n",
      "                  levels and/or column labels.\n",
      "                - if `axis` is 1 or `'columns'` then `by` may contain column\n",
      "                  levels and/or index labels.\n",
      "    \n",
      "                .. versionchanged:: 0.23.0\n",
      "    \n",
      "                   Allow specifying index or column level names.\n",
      "    axis : {0 or 'index', 1 or 'columns'}, default 0\n",
      "         Axis to be sorted.\n",
      "    ascending : bool or list of bool, default True\n",
      "         Sort ascending vs. descending. Specify list for multiple sort\n",
      "         orders.  If this is a list of bools, must match the length of\n",
      "         the by.\n",
      "    inplace : bool, default False\n",
      "         If True, perform operation in-place.\n",
      "    kind : {'quicksort', 'mergesort', 'heapsort'}, default 'quicksort'\n",
      "         Choice of sorting algorithm. See also ndarray.np.sort for more\n",
      "         information.  `mergesort` is the only stable algorithm. For\n",
      "         DataFrames, this option is only applied when sorting on a single\n",
      "         column or label.\n",
      "    na_position : {'first', 'last'}, default 'last'\n",
      "         Puts NaNs at the beginning if `first`; `last` puts NaNs at the\n",
      "         end.\n",
      "    ignore_index : bool, default False\n",
      "         If True, the resulting axis will be labeled 0, 1, …, n - 1.\n",
      "    \n",
      "         .. versionadded:: 1.0.0\n",
      "    \n",
      "    Returns\n",
      "    -------\n",
      "    sorted_obj : DataFrame or None\n",
      "        DataFrame with sorted values if inplace=False, None otherwise.\n",
      "    \n",
      "    Examples\n",
      "    --------\n",
      "    >>> df = pd.DataFrame({\n",
      "    ...     'col1': ['A', 'A', 'B', np.nan, 'D', 'C'],\n",
      "    ...     'col2': [2, 1, 9, 8, 7, 4],\n",
      "    ...     'col3': [0, 1, 9, 4, 2, 3],\n",
      "    ... })\n",
      "    >>> df\n",
      "        col1 col2 col3\n",
      "    0   A    2    0\n",
      "    1   A    1    1\n",
      "    2   B    9    9\n",
      "    3   NaN  8    4\n",
      "    4   D    7    2\n",
      "    5   C    4    3\n",
      "    \n",
      "    Sort by col1\n",
      "    \n",
      "    >>> df.sort_values(by=['col1'])\n",
      "        col1 col2 col3\n",
      "    0   A    2    0\n",
      "    1   A    1    1\n",
      "    2   B    9    9\n",
      "    5   C    4    3\n",
      "    4   D    7    2\n",
      "    3   NaN  8    4\n",
      "    \n",
      "    Sort by multiple columns\n",
      "    \n",
      "    >>> df.sort_values(by=['col1', 'col2'])\n",
      "        col1 col2 col3\n",
      "    1   A    1    1\n",
      "    0   A    2    0\n",
      "    2   B    9    9\n",
      "    5   C    4    3\n",
      "    4   D    7    2\n",
      "    3   NaN  8    4\n",
      "    \n",
      "    Sort Descending\n",
      "    \n",
      "    >>> df.sort_values(by='col1', ascending=False)\n",
      "        col1 col2 col3\n",
      "    4   D    7    2\n",
      "    5   C    4    3\n",
      "    2   B    9    9\n",
      "    0   A    2    0\n",
      "    1   A    1    1\n",
      "    3   NaN  8    4\n",
      "    \n",
      "    Putting NAs first\n",
      "    \n",
      "    >>> df.sort_values(by='col1', ascending=False, na_position='first')\n",
      "        col1 col2 col3\n",
      "    3   NaN  8    4\n",
      "    4   D    7    2\n",
      "    5   C    4    3\n",
      "    2   B    9    9\n",
      "    0   A    2    0\n",
      "    1   A    1    1\n",
      "\n"
     ]
    }
   ],
   "source": [
    "help(DataFrame.sort_values)"
   ]
  },
  {
   "cell_type": "markdown",
   "metadata": {
    "colab_type": "text",
    "id": "sLmtg3x4qyo1"
   },
   "source": [
    "정렬하고자 하는 DataFrame 뒤에 sort_values를 입력합니다.\n",
    "\n",
    "매개변수 ascending의 기본값은 True이므로 오름차순으로 정렬합니다. 만약 내림차순으로 정렬하고 싶다면 False를 넣어줍니다."
   ]
  },
  {
   "cell_type": "code",
   "execution_count": 76,
   "metadata": {
    "colab": {},
    "colab_type": "code",
    "id": "Q5yS0Gx-qyo1"
   },
   "outputs": [
    {
     "data": {
      "text/html": [
       "<div>\n",
       "<style scoped>\n",
       "    .dataframe tbody tr th:only-of-type {\n",
       "        vertical-align: middle;\n",
       "    }\n",
       "\n",
       "    .dataframe tbody tr th {\n",
       "        vertical-align: top;\n",
       "    }\n",
       "\n",
       "    .dataframe thead th {\n",
       "        text-align: right;\n",
       "    }\n",
       "</style>\n",
       "<table border=\"1\" class=\"dataframe\">\n",
       "  <thead>\n",
       "    <tr style=\"text-align: right;\">\n",
       "      <th></th>\n",
       "      <th>name</th>\n",
       "      <th>start_year</th>\n",
       "      <th>moon</th>\n",
       "    </tr>\n",
       "  </thead>\n",
       "  <tbody>\n",
       "    <tr>\n",
       "      <th>3월</th>\n",
       "      <td>삼일절</td>\n",
       "      <td>1949</td>\n",
       "      <td>False</td>\n",
       "    </tr>\n",
       "    <tr>\n",
       "      <th>5월</th>\n",
       "      <td>어린이날</td>\n",
       "      <td>1975</td>\n",
       "      <td>False</td>\n",
       "    </tr>\n",
       "    <tr>\n",
       "      <th>음력4월</th>\n",
       "      <td>부처님 오신 날</td>\n",
       "      <td>1975</td>\n",
       "      <td>True</td>\n",
       "    </tr>\n",
       "    <tr>\n",
       "      <th>8월</th>\n",
       "      <td>광복절</td>\n",
       "      <td>1949</td>\n",
       "      <td>False</td>\n",
       "    </tr>\n",
       "    <tr>\n",
       "      <th>10월</th>\n",
       "      <td>한글날</td>\n",
       "      <td>1949</td>\n",
       "      <td>False</td>\n",
       "    </tr>\n",
       "    <tr>\n",
       "      <th>12월</th>\n",
       "      <td>기독탄신일</td>\n",
       "      <td>1949</td>\n",
       "      <td>False</td>\n",
       "    </tr>\n",
       "  </tbody>\n",
       "</table>\n",
       "</div>"
      ],
      "text/plain": [
       "          name  start_year   moon\n",
       "3월         삼일절        1949  False\n",
       "5월        어린이날        1975  False\n",
       "음력4월  부처님 오신 날        1975   True\n",
       "8월         광복절        1949  False\n",
       "10월        한글날        1949  False\n",
       "12월      기독탄신일        1949  False"
      ]
     },
     "execution_count": 76,
     "metadata": {},
     "output_type": "execute_result"
    }
   ],
   "source": [
    "holidays"
   ]
  },
  {
   "cell_type": "code",
   "execution_count": 77,
   "metadata": {
    "colab": {},
    "colab_type": "code",
    "id": "BD_IwtLvqyo3",
    "scrolled": false
   },
   "outputs": [
    {
     "data": {
      "text/html": [
       "<div>\n",
       "<style scoped>\n",
       "    .dataframe tbody tr th:only-of-type {\n",
       "        vertical-align: middle;\n",
       "    }\n",
       "\n",
       "    .dataframe tbody tr th {\n",
       "        vertical-align: top;\n",
       "    }\n",
       "\n",
       "    .dataframe thead th {\n",
       "        text-align: right;\n",
       "    }\n",
       "</style>\n",
       "<table border=\"1\" class=\"dataframe\">\n",
       "  <thead>\n",
       "    <tr style=\"text-align: right;\">\n",
       "      <th></th>\n",
       "      <th>name</th>\n",
       "      <th>start_year</th>\n",
       "      <th>moon</th>\n",
       "    </tr>\n",
       "  </thead>\n",
       "  <tbody>\n",
       "    <tr>\n",
       "      <th>3월</th>\n",
       "      <td>삼일절</td>\n",
       "      <td>1949</td>\n",
       "      <td>False</td>\n",
       "    </tr>\n",
       "    <tr>\n",
       "      <th>8월</th>\n",
       "      <td>광복절</td>\n",
       "      <td>1949</td>\n",
       "      <td>False</td>\n",
       "    </tr>\n",
       "    <tr>\n",
       "      <th>10월</th>\n",
       "      <td>한글날</td>\n",
       "      <td>1949</td>\n",
       "      <td>False</td>\n",
       "    </tr>\n",
       "    <tr>\n",
       "      <th>12월</th>\n",
       "      <td>기독탄신일</td>\n",
       "      <td>1949</td>\n",
       "      <td>False</td>\n",
       "    </tr>\n",
       "    <tr>\n",
       "      <th>5월</th>\n",
       "      <td>어린이날</td>\n",
       "      <td>1975</td>\n",
       "      <td>False</td>\n",
       "    </tr>\n",
       "    <tr>\n",
       "      <th>음력4월</th>\n",
       "      <td>부처님 오신 날</td>\n",
       "      <td>1975</td>\n",
       "      <td>True</td>\n",
       "    </tr>\n",
       "  </tbody>\n",
       "</table>\n",
       "</div>"
      ],
      "text/plain": [
       "          name  start_year   moon\n",
       "3월         삼일절        1949  False\n",
       "8월         광복절        1949  False\n",
       "10월        한글날        1949  False\n",
       "12월      기독탄신일        1949  False\n",
       "5월        어린이날        1975  False\n",
       "음력4월  부처님 오신 날        1975   True"
      ]
     },
     "execution_count": 77,
     "metadata": {},
     "output_type": "execute_result"
    }
   ],
   "source": [
    "holidays.sort_values(by = 'start_year')"
   ]
  },
  {
   "cell_type": "markdown",
   "metadata": {
    "colab_type": "text",
    "id": "2KJ5m38nqyo4"
   },
   "source": [
    "여러 열(column)을 기준으로 하고 싶다면 리스트로 입력합니다."
   ]
  },
  {
   "cell_type": "code",
   "execution_count": 78,
   "metadata": {
    "colab": {},
    "colab_type": "code",
    "id": "A-m16zsrqyo4",
    "scrolled": true
   },
   "outputs": [
    {
     "data": {
      "text/html": [
       "<div>\n",
       "<style scoped>\n",
       "    .dataframe tbody tr th:only-of-type {\n",
       "        vertical-align: middle;\n",
       "    }\n",
       "\n",
       "    .dataframe tbody tr th {\n",
       "        vertical-align: top;\n",
       "    }\n",
       "\n",
       "    .dataframe thead th {\n",
       "        text-align: right;\n",
       "    }\n",
       "</style>\n",
       "<table border=\"1\" class=\"dataframe\">\n",
       "  <thead>\n",
       "    <tr style=\"text-align: right;\">\n",
       "      <th></th>\n",
       "      <th>name</th>\n",
       "      <th>start_year</th>\n",
       "      <th>moon</th>\n",
       "    </tr>\n",
       "  </thead>\n",
       "  <tbody>\n",
       "    <tr>\n",
       "      <th>8월</th>\n",
       "      <td>광복절</td>\n",
       "      <td>1949</td>\n",
       "      <td>False</td>\n",
       "    </tr>\n",
       "    <tr>\n",
       "      <th>12월</th>\n",
       "      <td>기독탄신일</td>\n",
       "      <td>1949</td>\n",
       "      <td>False</td>\n",
       "    </tr>\n",
       "    <tr>\n",
       "      <th>3월</th>\n",
       "      <td>삼일절</td>\n",
       "      <td>1949</td>\n",
       "      <td>False</td>\n",
       "    </tr>\n",
       "    <tr>\n",
       "      <th>10월</th>\n",
       "      <td>한글날</td>\n",
       "      <td>1949</td>\n",
       "      <td>False</td>\n",
       "    </tr>\n",
       "    <tr>\n",
       "      <th>음력4월</th>\n",
       "      <td>부처님 오신 날</td>\n",
       "      <td>1975</td>\n",
       "      <td>True</td>\n",
       "    </tr>\n",
       "    <tr>\n",
       "      <th>5월</th>\n",
       "      <td>어린이날</td>\n",
       "      <td>1975</td>\n",
       "      <td>False</td>\n",
       "    </tr>\n",
       "  </tbody>\n",
       "</table>\n",
       "</div>"
      ],
      "text/plain": [
       "          name  start_year   moon\n",
       "8월         광복절        1949  False\n",
       "12월      기독탄신일        1949  False\n",
       "3월         삼일절        1949  False\n",
       "10월        한글날        1949  False\n",
       "음력4월  부처님 오신 날        1975   True\n",
       "5월        어린이날        1975  False"
      ]
     },
     "execution_count": 78,
     "metadata": {},
     "output_type": "execute_result"
    }
   ],
   "source": [
    "holidays.sort_values(by = ['start_year', 'name'])"
   ]
  },
  {
   "cell_type": "markdown",
   "metadata": {
    "colab_type": "text",
    "id": "vYmPPe7lqyo5"
   },
   "source": [
    "만약 내림차순으로 정렬하고 싶다면 ascending에 False를 넣어줍니다."
   ]
  },
  {
   "cell_type": "code",
   "execution_count": 79,
   "metadata": {
    "colab": {},
    "colab_type": "code",
    "id": "4zEqqa5mqyo5"
   },
   "outputs": [
    {
     "data": {
      "text/html": [
       "<div>\n",
       "<style scoped>\n",
       "    .dataframe tbody tr th:only-of-type {\n",
       "        vertical-align: middle;\n",
       "    }\n",
       "\n",
       "    .dataframe tbody tr th {\n",
       "        vertical-align: top;\n",
       "    }\n",
       "\n",
       "    .dataframe thead th {\n",
       "        text-align: right;\n",
       "    }\n",
       "</style>\n",
       "<table border=\"1\" class=\"dataframe\">\n",
       "  <thead>\n",
       "    <tr style=\"text-align: right;\">\n",
       "      <th></th>\n",
       "      <th>name</th>\n",
       "      <th>start_year</th>\n",
       "      <th>moon</th>\n",
       "    </tr>\n",
       "  </thead>\n",
       "  <tbody>\n",
       "    <tr>\n",
       "      <th>5월</th>\n",
       "      <td>어린이날</td>\n",
       "      <td>1975</td>\n",
       "      <td>False</td>\n",
       "    </tr>\n",
       "    <tr>\n",
       "      <th>음력4월</th>\n",
       "      <td>부처님 오신 날</td>\n",
       "      <td>1975</td>\n",
       "      <td>True</td>\n",
       "    </tr>\n",
       "    <tr>\n",
       "      <th>10월</th>\n",
       "      <td>한글날</td>\n",
       "      <td>1949</td>\n",
       "      <td>False</td>\n",
       "    </tr>\n",
       "    <tr>\n",
       "      <th>3월</th>\n",
       "      <td>삼일절</td>\n",
       "      <td>1949</td>\n",
       "      <td>False</td>\n",
       "    </tr>\n",
       "    <tr>\n",
       "      <th>12월</th>\n",
       "      <td>기독탄신일</td>\n",
       "      <td>1949</td>\n",
       "      <td>False</td>\n",
       "    </tr>\n",
       "    <tr>\n",
       "      <th>8월</th>\n",
       "      <td>광복절</td>\n",
       "      <td>1949</td>\n",
       "      <td>False</td>\n",
       "    </tr>\n",
       "  </tbody>\n",
       "</table>\n",
       "</div>"
      ],
      "text/plain": [
       "          name  start_year   moon\n",
       "5월        어린이날        1975  False\n",
       "음력4월  부처님 오신 날        1975   True\n",
       "10월        한글날        1949  False\n",
       "3월         삼일절        1949  False\n",
       "12월      기독탄신일        1949  False\n",
       "8월         광복절        1949  False"
      ]
     },
     "execution_count": 79,
     "metadata": {},
     "output_type": "execute_result"
    }
   ],
   "source": [
    "holidays.sort_values(by = ['start_year', 'name'], ascending = False)"
   ]
  },
  {
   "cell_type": "markdown",
   "metadata": {
    "colab_type": "text",
    "id": "qdZN96ERqyo6"
   },
   "source": [
    "하지만 아래에서 holidays 변수를 다시 살펴보면 정렬하지 않은 그대로임을 확인할 수 있습니다. 이는 sort_values의 결과는 새로운 DataFrame을 돌려주고 원래 DataFrame은 바꾸지 않기 때문입니다. \n",
    "\n",
    "이는 기본적으로 False로 되어 있는 inplace를 True로 바꾸어 주어 현재의 DataFrame에 저장하도록 설정할 수 있습니다. 다만 기존 변수에 덮어씌워도 문제가 없는지 충분히 고려해 보아야 합니다."
   ]
  },
  {
   "cell_type": "code",
   "execution_count": 80,
   "metadata": {
    "colab": {},
    "colab_type": "code",
    "id": "AznG1eAPqyo6"
   },
   "outputs": [
    {
     "data": {
      "text/html": [
       "<div>\n",
       "<style scoped>\n",
       "    .dataframe tbody tr th:only-of-type {\n",
       "        vertical-align: middle;\n",
       "    }\n",
       "\n",
       "    .dataframe tbody tr th {\n",
       "        vertical-align: top;\n",
       "    }\n",
       "\n",
       "    .dataframe thead th {\n",
       "        text-align: right;\n",
       "    }\n",
       "</style>\n",
       "<table border=\"1\" class=\"dataframe\">\n",
       "  <thead>\n",
       "    <tr style=\"text-align: right;\">\n",
       "      <th></th>\n",
       "      <th>name</th>\n",
       "      <th>start_year</th>\n",
       "      <th>moon</th>\n",
       "    </tr>\n",
       "  </thead>\n",
       "  <tbody>\n",
       "    <tr>\n",
       "      <th>3월</th>\n",
       "      <td>삼일절</td>\n",
       "      <td>1949</td>\n",
       "      <td>False</td>\n",
       "    </tr>\n",
       "    <tr>\n",
       "      <th>5월</th>\n",
       "      <td>어린이날</td>\n",
       "      <td>1975</td>\n",
       "      <td>False</td>\n",
       "    </tr>\n",
       "    <tr>\n",
       "      <th>음력4월</th>\n",
       "      <td>부처님 오신 날</td>\n",
       "      <td>1975</td>\n",
       "      <td>True</td>\n",
       "    </tr>\n",
       "    <tr>\n",
       "      <th>8월</th>\n",
       "      <td>광복절</td>\n",
       "      <td>1949</td>\n",
       "      <td>False</td>\n",
       "    </tr>\n",
       "    <tr>\n",
       "      <th>10월</th>\n",
       "      <td>한글날</td>\n",
       "      <td>1949</td>\n",
       "      <td>False</td>\n",
       "    </tr>\n",
       "    <tr>\n",
       "      <th>12월</th>\n",
       "      <td>기독탄신일</td>\n",
       "      <td>1949</td>\n",
       "      <td>False</td>\n",
       "    </tr>\n",
       "  </tbody>\n",
       "</table>\n",
       "</div>"
      ],
      "text/plain": [
       "          name  start_year   moon\n",
       "3월         삼일절        1949  False\n",
       "5월        어린이날        1975  False\n",
       "음력4월  부처님 오신 날        1975   True\n",
       "8월         광복절        1949  False\n",
       "10월        한글날        1949  False\n",
       "12월      기독탄신일        1949  False"
      ]
     },
     "execution_count": 80,
     "metadata": {},
     "output_type": "execute_result"
    }
   ],
   "source": [
    "holidays"
   ]
  },
  {
   "cell_type": "code",
   "execution_count": 81,
   "metadata": {
    "colab": {},
    "colab_type": "code",
    "id": "TxKv2Bk8qyo7"
   },
   "outputs": [
    {
     "data": {
      "text/html": [
       "<div>\n",
       "<style scoped>\n",
       "    .dataframe tbody tr th:only-of-type {\n",
       "        vertical-align: middle;\n",
       "    }\n",
       "\n",
       "    .dataframe tbody tr th {\n",
       "        vertical-align: top;\n",
       "    }\n",
       "\n",
       "    .dataframe thead th {\n",
       "        text-align: right;\n",
       "    }\n",
       "</style>\n",
       "<table border=\"1\" class=\"dataframe\">\n",
       "  <thead>\n",
       "    <tr style=\"text-align: right;\">\n",
       "      <th></th>\n",
       "      <th>name</th>\n",
       "      <th>start_year</th>\n",
       "      <th>moon</th>\n",
       "    </tr>\n",
       "  </thead>\n",
       "  <tbody>\n",
       "    <tr>\n",
       "      <th>5월</th>\n",
       "      <td>어린이날</td>\n",
       "      <td>1975</td>\n",
       "      <td>False</td>\n",
       "    </tr>\n",
       "    <tr>\n",
       "      <th>음력4월</th>\n",
       "      <td>부처님 오신 날</td>\n",
       "      <td>1975</td>\n",
       "      <td>True</td>\n",
       "    </tr>\n",
       "    <tr>\n",
       "      <th>10월</th>\n",
       "      <td>한글날</td>\n",
       "      <td>1949</td>\n",
       "      <td>False</td>\n",
       "    </tr>\n",
       "    <tr>\n",
       "      <th>3월</th>\n",
       "      <td>삼일절</td>\n",
       "      <td>1949</td>\n",
       "      <td>False</td>\n",
       "    </tr>\n",
       "    <tr>\n",
       "      <th>12월</th>\n",
       "      <td>기독탄신일</td>\n",
       "      <td>1949</td>\n",
       "      <td>False</td>\n",
       "    </tr>\n",
       "    <tr>\n",
       "      <th>8월</th>\n",
       "      <td>광복절</td>\n",
       "      <td>1949</td>\n",
       "      <td>False</td>\n",
       "    </tr>\n",
       "  </tbody>\n",
       "</table>\n",
       "</div>"
      ],
      "text/plain": [
       "          name  start_year   moon\n",
       "5월        어린이날        1975  False\n",
       "음력4월  부처님 오신 날        1975   True\n",
       "10월        한글날        1949  False\n",
       "3월         삼일절        1949  False\n",
       "12월      기독탄신일        1949  False\n",
       "8월         광복절        1949  False"
      ]
     },
     "execution_count": 81,
     "metadata": {},
     "output_type": "execute_result"
    }
   ],
   "source": [
    "#(1) 새로운 DataFrame에 저장\n",
    "new = holidays.sort_values(by = ['start_year', 'name'], ascending = False)\n",
    "new"
   ]
  },
  {
   "cell_type": "code",
   "execution_count": 82,
   "metadata": {
    "colab": {},
    "colab_type": "code",
    "id": "gJYRZz2Qqyo8",
    "scrolled": true
   },
   "outputs": [
    {
     "data": {
      "text/html": [
       "<div>\n",
       "<style scoped>\n",
       "    .dataframe tbody tr th:only-of-type {\n",
       "        vertical-align: middle;\n",
       "    }\n",
       "\n",
       "    .dataframe tbody tr th {\n",
       "        vertical-align: top;\n",
       "    }\n",
       "\n",
       "    .dataframe thead th {\n",
       "        text-align: right;\n",
       "    }\n",
       "</style>\n",
       "<table border=\"1\" class=\"dataframe\">\n",
       "  <thead>\n",
       "    <tr style=\"text-align: right;\">\n",
       "      <th></th>\n",
       "      <th>name</th>\n",
       "      <th>start_year</th>\n",
       "      <th>moon</th>\n",
       "    </tr>\n",
       "  </thead>\n",
       "  <tbody>\n",
       "    <tr>\n",
       "      <th>3월</th>\n",
       "      <td>삼일절</td>\n",
       "      <td>1949</td>\n",
       "      <td>False</td>\n",
       "    </tr>\n",
       "    <tr>\n",
       "      <th>8월</th>\n",
       "      <td>광복절</td>\n",
       "      <td>1949</td>\n",
       "      <td>False</td>\n",
       "    </tr>\n",
       "    <tr>\n",
       "      <th>10월</th>\n",
       "      <td>한글날</td>\n",
       "      <td>1949</td>\n",
       "      <td>False</td>\n",
       "    </tr>\n",
       "    <tr>\n",
       "      <th>12월</th>\n",
       "      <td>기독탄신일</td>\n",
       "      <td>1949</td>\n",
       "      <td>False</td>\n",
       "    </tr>\n",
       "    <tr>\n",
       "      <th>5월</th>\n",
       "      <td>어린이날</td>\n",
       "      <td>1975</td>\n",
       "      <td>False</td>\n",
       "    </tr>\n",
       "    <tr>\n",
       "      <th>음력4월</th>\n",
       "      <td>부처님 오신 날</td>\n",
       "      <td>1975</td>\n",
       "      <td>True</td>\n",
       "    </tr>\n",
       "  </tbody>\n",
       "</table>\n",
       "</div>"
      ],
      "text/plain": [
       "          name  start_year   moon\n",
       "3월         삼일절        1949  False\n",
       "8월         광복절        1949  False\n",
       "10월        한글날        1949  False\n",
       "12월      기독탄신일        1949  False\n",
       "5월        어린이날        1975  False\n",
       "음력4월  부처님 오신 날        1975   True"
      ]
     },
     "execution_count": 82,
     "metadata": {},
     "output_type": "execute_result"
    }
   ],
   "source": [
    "#(2) 원래의 DataFrame에 덮어씌우기\n",
    "holidays.sort_values(by = 'start_year', inplace = True)\n",
    "holidays"
   ]
  },
  {
   "cell_type": "markdown",
   "metadata": {
    "colab_type": "text",
    "id": "uG8geZ7iqyo9"
   },
   "source": [
    "<p style=\"color:#0000FF\";><font size = \"5\"><b>\n",
    "연습하기\n",
    "    </b></font></p>\n",
    "    \n",
    "#### DataFrame 'data'에서 다음 작업을 수행하세요.\n",
    "#### (1) 모든 column의 이름을 확인하세요.\n",
    "#### (2) Column 'hid'가 205200인 사람을 모두 확인하세요.\n",
    "#### (3) Column 'age'를 기준으로 나이가 많은 사람이 먼저 오게 정렬해 보세요."
   ]
  },
  {
   "cell_type": "code",
   "execution_count": 83,
   "metadata": {
    "colab": {},
    "colab_type": "code",
    "id": "llCPEuUNqyo9"
   },
   "outputs": [
    {
     "data": {
      "text/html": [
       "<div>\n",
       "<style scoped>\n",
       "    .dataframe tbody tr th:only-of-type {\n",
       "        vertical-align: middle;\n",
       "    }\n",
       "\n",
       "    .dataframe tbody tr th {\n",
       "        vertical-align: top;\n",
       "    }\n",
       "\n",
       "    .dataframe thead th {\n",
       "        text-align: right;\n",
       "    }\n",
       "</style>\n",
       "<table border=\"1\" class=\"dataframe\">\n",
       "  <thead>\n",
       "    <tr style=\"text-align: right;\">\n",
       "      <th></th>\n",
       "      <th>pid</th>\n",
       "      <th>hid</th>\n",
       "      <th>area</th>\n",
       "      <th>area_siz</th>\n",
       "      <th>hhld_siz</th>\n",
       "      <th>fly_typ</th>\n",
       "      <th>gender</th>\n",
       "      <th>byear</th>\n",
       "      <th>age_gr</th>\n",
       "      <th>age</th>\n",
       "      <th>...</th>\n",
       "      <th>news_med1</th>\n",
       "      <th>news_med2</th>\n",
       "      <th>news_med3</th>\n",
       "      <th>news_plat1</th>\n",
       "      <th>news_plat2</th>\n",
       "      <th>news_plat3</th>\n",
       "      <th>channel</th>\n",
       "      <th>shop</th>\n",
       "      <th>shop_dev</th>\n",
       "      <th>shop_pay</th>\n",
       "    </tr>\n",
       "  </thead>\n",
       "  <tbody>\n",
       "    <tr>\n",
       "      <th>0</th>\n",
       "      <td>10001</td>\n",
       "      <td>100</td>\n",
       "      <td>1</td>\n",
       "      <td>1</td>\n",
       "      <td>3</td>\n",
       "      <td>3</td>\n",
       "      <td>1</td>\n",
       "      <td>1967</td>\n",
       "      <td>6</td>\n",
       "      <td>52</td>\n",
       "      <td>...</td>\n",
       "      <td>3</td>\n",
       "      <td>4</td>\n",
       "      <td></td>\n",
       "      <td>3</td>\n",
       "      <td>2</td>\n",
       "      <td></td>\n",
       "      <td>1</td>\n",
       "      <td>1</td>\n",
       "      <td>1</td>\n",
       "      <td>2</td>\n",
       "    </tr>\n",
       "    <tr>\n",
       "      <th>1</th>\n",
       "      <td>10002</td>\n",
       "      <td>100</td>\n",
       "      <td>1</td>\n",
       "      <td>1</td>\n",
       "      <td>3</td>\n",
       "      <td>3</td>\n",
       "      <td>2</td>\n",
       "      <td>1972</td>\n",
       "      <td>5</td>\n",
       "      <td>47</td>\n",
       "      <td>...</td>\n",
       "      <td>3</td>\n",
       "      <td>4</td>\n",
       "      <td></td>\n",
       "      <td>3</td>\n",
       "      <td>2</td>\n",
       "      <td></td>\n",
       "      <td>3</td>\n",
       "      <td>1</td>\n",
       "      <td>1</td>\n",
       "      <td>2</td>\n",
       "    </tr>\n",
       "    <tr>\n",
       "      <th>2</th>\n",
       "      <td>20001</td>\n",
       "      <td>200</td>\n",
       "      <td>1</td>\n",
       "      <td>1</td>\n",
       "      <td>3</td>\n",
       "      <td>3</td>\n",
       "      <td>1</td>\n",
       "      <td>1965</td>\n",
       "      <td>6</td>\n",
       "      <td>54</td>\n",
       "      <td>...</td>\n",
       "      <td>4</td>\n",
       "      <td></td>\n",
       "      <td></td>\n",
       "      <td>3</td>\n",
       "      <td></td>\n",
       "      <td></td>\n",
       "      <td>7</td>\n",
       "      <td></td>\n",
       "      <td></td>\n",
       "      <td></td>\n",
       "    </tr>\n",
       "    <tr>\n",
       "      <th>3</th>\n",
       "      <td>30001</td>\n",
       "      <td>300</td>\n",
       "      <td>8</td>\n",
       "      <td>1</td>\n",
       "      <td>3</td>\n",
       "      <td>3</td>\n",
       "      <td>1</td>\n",
       "      <td>1971</td>\n",
       "      <td>5</td>\n",
       "      <td>48</td>\n",
       "      <td>...</td>\n",
       "      <td>3</td>\n",
       "      <td></td>\n",
       "      <td></td>\n",
       "      <td>3</td>\n",
       "      <td></td>\n",
       "      <td></td>\n",
       "      <td>1</td>\n",
       "      <td></td>\n",
       "      <td></td>\n",
       "      <td></td>\n",
       "    </tr>\n",
       "    <tr>\n",
       "      <th>4</th>\n",
       "      <td>30002</td>\n",
       "      <td>300</td>\n",
       "      <td>8</td>\n",
       "      <td>1</td>\n",
       "      <td>3</td>\n",
       "      <td>3</td>\n",
       "      <td>2</td>\n",
       "      <td>1974</td>\n",
       "      <td>5</td>\n",
       "      <td>45</td>\n",
       "      <td>...</td>\n",
       "      <td></td>\n",
       "      <td></td>\n",
       "      <td></td>\n",
       "      <td></td>\n",
       "      <td></td>\n",
       "      <td></td>\n",
       "      <td>1</td>\n",
       "      <td>1</td>\n",
       "      <td>3</td>\n",
       "      <td>1</td>\n",
       "    </tr>\n",
       "    <tr>\n",
       "      <th>...</th>\n",
       "      <td>...</td>\n",
       "      <td>...</td>\n",
       "      <td>...</td>\n",
       "      <td>...</td>\n",
       "      <td>...</td>\n",
       "      <td>...</td>\n",
       "      <td>...</td>\n",
       "      <td>...</td>\n",
       "      <td>...</td>\n",
       "      <td>...</td>\n",
       "      <td>...</td>\n",
       "      <td>...</td>\n",
       "      <td>...</td>\n",
       "      <td>...</td>\n",
       "      <td>...</td>\n",
       "      <td>...</td>\n",
       "      <td>...</td>\n",
       "      <td>...</td>\n",
       "      <td>...</td>\n",
       "      <td>...</td>\n",
       "      <td>...</td>\n",
       "    </tr>\n",
       "    <tr>\n",
       "      <th>10859</th>\n",
       "      <td>118290002</td>\n",
       "      <td>1182900</td>\n",
       "      <td>16</td>\n",
       "      <td>1</td>\n",
       "      <td>3</td>\n",
       "      <td>3</td>\n",
       "      <td>1</td>\n",
       "      <td>1983</td>\n",
       "      <td>4</td>\n",
       "      <td>36</td>\n",
       "      <td>...</td>\n",
       "      <td></td>\n",
       "      <td></td>\n",
       "      <td></td>\n",
       "      <td></td>\n",
       "      <td></td>\n",
       "      <td></td>\n",
       "      <td>1</td>\n",
       "      <td></td>\n",
       "      <td></td>\n",
       "      <td></td>\n",
       "    </tr>\n",
       "    <tr>\n",
       "      <th>10860</th>\n",
       "      <td>118300001</td>\n",
       "      <td>1183000</td>\n",
       "      <td>16</td>\n",
       "      <td>1</td>\n",
       "      <td>2</td>\n",
       "      <td>3</td>\n",
       "      <td>1</td>\n",
       "      <td>1995</td>\n",
       "      <td>3</td>\n",
       "      <td>24</td>\n",
       "      <td>...</td>\n",
       "      <td></td>\n",
       "      <td></td>\n",
       "      <td></td>\n",
       "      <td></td>\n",
       "      <td></td>\n",
       "      <td></td>\n",
       "      <td>3</td>\n",
       "      <td>1</td>\n",
       "      <td>1</td>\n",
       "      <td>1</td>\n",
       "    </tr>\n",
       "    <tr>\n",
       "      <th>10861</th>\n",
       "      <td>118310001</td>\n",
       "      <td>1183100</td>\n",
       "      <td>16</td>\n",
       "      <td>1</td>\n",
       "      <td>1</td>\n",
       "      <td>1</td>\n",
       "      <td>2</td>\n",
       "      <td>1939</td>\n",
       "      <td>8</td>\n",
       "      <td>80</td>\n",
       "      <td>...</td>\n",
       "      <td></td>\n",
       "      <td></td>\n",
       "      <td></td>\n",
       "      <td></td>\n",
       "      <td></td>\n",
       "      <td></td>\n",
       "      <td>6</td>\n",
       "      <td></td>\n",
       "      <td></td>\n",
       "      <td></td>\n",
       "    </tr>\n",
       "    <tr>\n",
       "      <th>10862</th>\n",
       "      <td>118320001</td>\n",
       "      <td>1183200</td>\n",
       "      <td>16</td>\n",
       "      <td>1</td>\n",
       "      <td>1</td>\n",
       "      <td>1</td>\n",
       "      <td>2</td>\n",
       "      <td>1940</td>\n",
       "      <td>8</td>\n",
       "      <td>79</td>\n",
       "      <td>...</td>\n",
       "      <td></td>\n",
       "      <td></td>\n",
       "      <td></td>\n",
       "      <td></td>\n",
       "      <td></td>\n",
       "      <td></td>\n",
       "      <td>7</td>\n",
       "      <td></td>\n",
       "      <td></td>\n",
       "      <td></td>\n",
       "    </tr>\n",
       "    <tr>\n",
       "      <th>10863</th>\n",
       "      <td>118330001</td>\n",
       "      <td>1183300</td>\n",
       "      <td>16</td>\n",
       "      <td>1</td>\n",
       "      <td>2</td>\n",
       "      <td>3</td>\n",
       "      <td>2</td>\n",
       "      <td>1947</td>\n",
       "      <td>8</td>\n",
       "      <td>72</td>\n",
       "      <td>...</td>\n",
       "      <td></td>\n",
       "      <td></td>\n",
       "      <td></td>\n",
       "      <td></td>\n",
       "      <td></td>\n",
       "      <td></td>\n",
       "      <td>7</td>\n",
       "      <td></td>\n",
       "      <td></td>\n",
       "      <td></td>\n",
       "    </tr>\n",
       "  </tbody>\n",
       "</table>\n",
       "<p>10864 rows × 66 columns</p>\n",
       "</div>"
      ],
      "text/plain": [
       "             pid      hid  area  area_siz  hhld_siz  fly_typ  gender  byear  \\\n",
       "0          10001      100     1         1         3        3       1   1967   \n",
       "1          10002      100     1         1         3        3       2   1972   \n",
       "2          20001      200     1         1         3        3       1   1965   \n",
       "3          30001      300     8         1         3        3       1   1971   \n",
       "4          30002      300     8         1         3        3       2   1974   \n",
       "...          ...      ...   ...       ...       ...      ...     ...    ...   \n",
       "10859  118290002  1182900    16         1         3        3       1   1983   \n",
       "10860  118300001  1183000    16         1         2        3       1   1995   \n",
       "10861  118310001  1183100    16         1         1        1       2   1939   \n",
       "10862  118320001  1183200    16         1         1        1       2   1940   \n",
       "10863  118330001  1183300    16         1         2        3       2   1947   \n",
       "\n",
       "       age_gr  age  ...  news_med1  news_med2  news_med3 news_plat1  \\\n",
       "0           6   52  ...          3          4                     3   \n",
       "1           5   47  ...          3          4                     3   \n",
       "2           6   54  ...          4                                3   \n",
       "3           5   48  ...          3                                3   \n",
       "4           5   45  ...                                               \n",
       "...       ...  ...  ...        ...        ...        ...        ...   \n",
       "10859       4   36  ...                                               \n",
       "10860       3   24  ...                                               \n",
       "10861       8   80  ...                                               \n",
       "10862       8   79  ...                                               \n",
       "10863       8   72  ...                                               \n",
       "\n",
       "      news_plat2  news_plat3 channel shop shop_dev shop_pay  \n",
       "0              2                   1    1        1        2  \n",
       "1              2                   3    1        1        2  \n",
       "2                                  7                         \n",
       "3                                  1                         \n",
       "4                                  1    1        3        1  \n",
       "...          ...         ...     ...  ...      ...      ...  \n",
       "10859                              1                         \n",
       "10860                              3    1        1        1  \n",
       "10861                              6                         \n",
       "10862                              7                         \n",
       "10863                              7                         \n",
       "\n",
       "[10864 rows x 66 columns]"
      ]
     },
     "execution_count": 83,
     "metadata": {},
     "output_type": "execute_result"
    }
   ],
   "source": [
    "url = \"https://raw.githubusercontent.com/eunyu1031/Media_interface_2020Spr/master/data/p19_mediapanel.csv\"\n",
    "\n",
    "data = pd.read_csv(url)\n",
    "data"
   ]
  },
  {
   "cell_type": "code",
   "execution_count": 0,
   "metadata": {
    "colab": {},
    "colab_type": "code",
    "id": "Cv4oqZtaqyo-"
   },
   "outputs": [],
   "source": []
  },
  {
   "cell_type": "code",
   "execution_count": 0,
   "metadata": {
    "colab": {},
    "colab_type": "code",
    "id": "30MF3ODyqyo_"
   },
   "outputs": [],
   "source": []
  },
  {
   "cell_type": "code",
   "execution_count": 0,
   "metadata": {
    "colab": {},
    "colab_type": "code",
    "id": "vp1HVklyqyo_"
   },
   "outputs": [],
   "source": []
  },
  {
   "cell_type": "markdown",
   "metadata": {
    "colab_type": "text",
    "id": "DjRRyVq5qypD"
   },
   "source": [
    "## 참고\n",
    "f-string과 실수의 포매팅(formatting) (python 3.6 이상)\n",
    "\n",
    "공식: https://docs.python.org/ko/3/reference/lexical_analysis.html#f-strings"
   ]
  },
  {
   "cell_type": "code",
   "execution_count": 84,
   "metadata": {
    "colab": {},
    "colab_type": "code",
    "id": "thqppUcCqypD",
    "scrolled": true
   },
   "outputs": [
    {
     "data": {
      "text/html": [
       "<div>\n",
       "<style scoped>\n",
       "    .dataframe tbody tr th:only-of-type {\n",
       "        vertical-align: middle;\n",
       "    }\n",
       "\n",
       "    .dataframe tbody tr th {\n",
       "        vertical-align: top;\n",
       "    }\n",
       "\n",
       "    .dataframe thead th {\n",
       "        text-align: right;\n",
       "    }\n",
       "</style>\n",
       "<table border=\"1\" class=\"dataframe\">\n",
       "  <thead>\n",
       "    <tr style=\"text-align: right;\">\n",
       "      <th></th>\n",
       "      <th>강원도</th>\n",
       "      <th>강원도비율%</th>\n",
       "      <th>전국</th>\n",
       "    </tr>\n",
       "  </thead>\n",
       "  <tbody>\n",
       "    <tr>\n",
       "      <th>1995</th>\n",
       "      <td>42769</td>\n",
       "      <td>57.0</td>\n",
       "      <td>75033.333333</td>\n",
       "    </tr>\n",
       "    <tr>\n",
       "      <th>2000</th>\n",
       "      <td>28946</td>\n",
       "      <td>45.0</td>\n",
       "      <td>64324.444444</td>\n",
       "    </tr>\n",
       "    <tr>\n",
       "      <th>2005</th>\n",
       "      <td>29267</td>\n",
       "      <td>39.8</td>\n",
       "      <td>73535.175879</td>\n",
       "    </tr>\n",
       "    <tr>\n",
       "      <th>2010</th>\n",
       "      <td>32449</td>\n",
       "      <td>43.7</td>\n",
       "      <td>74254.004577</td>\n",
       "    </tr>\n",
       "    <tr>\n",
       "      <th>2015</th>\n",
       "      <td>29176</td>\n",
       "      <td>37.3</td>\n",
       "      <td>78219.839142</td>\n",
       "    </tr>\n",
       "  </tbody>\n",
       "</table>\n",
       "</div>"
      ],
      "text/plain": [
       "        강원도  강원도비율%            전국\n",
       "1995  42769    57.0  75033.333333\n",
       "2000  28946    45.0  64324.444444\n",
       "2005  29267    39.8  73535.175879\n",
       "2010  32449    43.7  74254.004577\n",
       "2015  29176    37.3  78219.839142"
      ]
     },
     "execution_count": 84,
     "metadata": {},
     "output_type": "execute_result"
    }
   ],
   "source": [
    "corn_data = {'강원도':[42769, 28946, 29267, 32449, 29176],\n",
    "            '강원도비율%':[57, 45, 39.8, 43.7, 37.3]}\n",
    "\n",
    "corn = DataFrame(corn_data, index = [1995, 2000, 2005, 2010, 2015])\n",
    "corn['전국'] = corn['강원도']/corn['강원도비율%']*100\n",
    "\n",
    "corn"
   ]
  },
  {
   "cell_type": "markdown",
   "metadata": {
    "colab_type": "text",
    "id": "E3vrC7HhqypG"
   },
   "source": [
    "'전국'의 실수 표기를 어떻게 바꿀 수 있을까요? (1) 일부만 표시하거나, (2) 반올림해서 저장할 수 있습니다."
   ]
  },
  {
   "cell_type": "code",
   "execution_count": 85,
   "metadata": {
    "colab": {},
    "colab_type": "code",
    "id": "cUAaM66yqypH"
   },
   "outputs": [
    {
     "name": "stdout",
     "output_type": "stream",
     "text": [
      "제 이름은 홍길동 이고, 17 학번입니다.\n"
     ]
    }
   ],
   "source": [
    "name = \"홍길동\"\n",
    "num = 17\n",
    "\n",
    "print(\"제 이름은\", name, \"이고,\", num, \"학번입니다.\")"
   ]
  },
  {
   "cell_type": "code",
   "execution_count": 86,
   "metadata": {
    "colab": {},
    "colab_type": "code",
    "id": "Ic5SfMy8qypJ",
    "scrolled": true
   },
   "outputs": [
    {
     "name": "stdout",
     "output_type": "stream",
     "text": [
      "제 이름은 홍길동이고 17학번입니다.\n"
     ]
    }
   ],
   "source": [
    "print(f\"제 이름은 {name}이고 {num}학번입니다.\") # f-string"
   ]
  },
  {
   "cell_type": "markdown",
   "metadata": {
    "colab_type": "text",
    "id": "QHrgSaR5qypK"
   },
   "source": [
    "f-string에서 실수의 표시는 다음과 같습니다."
   ]
  },
  {
   "cell_type": "code",
   "execution_count": 87,
   "metadata": {
    "colab": {},
    "colab_type": "code",
    "id": "jh2gY4zVqypL"
   },
   "outputs": [
    {
     "name": "stdout",
     "output_type": "stream",
     "text": [
      "3.141592653589793\n",
      "원주율의 값은 3.1416입니다.\n"
     ]
    }
   ],
   "source": [
    "from math import pi\n",
    "\n",
    "print(pi)\n",
    "print(f\"원주율의 값은 {pi:0.4f}입니다.\")"
   ]
  },
  {
   "cell_type": "markdown",
   "metadata": {
    "colab_type": "text",
    "id": "jbnB-Ig4qypM"
   },
   "source": [
    "pandas도 실수 표기 옵션을 제공하므로, 이를 활용할 수 있습니다. 다만 모든 실수 column에 적용됩니다."
   ]
  },
  {
   "cell_type": "code",
   "execution_count": 88,
   "metadata": {
    "colab": {},
    "colab_type": "code",
    "id": "h-w_qXhBqypN"
   },
   "outputs": [],
   "source": [
    "pd.options.display.float_format = '{0:0.2f}'.format"
   ]
  },
  {
   "cell_type": "code",
   "execution_count": 89,
   "metadata": {
    "colab": {},
    "colab_type": "code",
    "id": "OdphnNBbqypO"
   },
   "outputs": [
    {
     "data": {
      "text/html": [
       "<div>\n",
       "<style scoped>\n",
       "    .dataframe tbody tr th:only-of-type {\n",
       "        vertical-align: middle;\n",
       "    }\n",
       "\n",
       "    .dataframe tbody tr th {\n",
       "        vertical-align: top;\n",
       "    }\n",
       "\n",
       "    .dataframe thead th {\n",
       "        text-align: right;\n",
       "    }\n",
       "</style>\n",
       "<table border=\"1\" class=\"dataframe\">\n",
       "  <thead>\n",
       "    <tr style=\"text-align: right;\">\n",
       "      <th></th>\n",
       "      <th>강원도</th>\n",
       "      <th>강원도비율%</th>\n",
       "      <th>전국</th>\n",
       "    </tr>\n",
       "  </thead>\n",
       "  <tbody>\n",
       "    <tr>\n",
       "      <th>1995</th>\n",
       "      <td>42769</td>\n",
       "      <td>57.00</td>\n",
       "      <td>75033.33</td>\n",
       "    </tr>\n",
       "    <tr>\n",
       "      <th>2000</th>\n",
       "      <td>28946</td>\n",
       "      <td>45.00</td>\n",
       "      <td>64324.44</td>\n",
       "    </tr>\n",
       "    <tr>\n",
       "      <th>2005</th>\n",
       "      <td>29267</td>\n",
       "      <td>39.80</td>\n",
       "      <td>73535.18</td>\n",
       "    </tr>\n",
       "    <tr>\n",
       "      <th>2010</th>\n",
       "      <td>32449</td>\n",
       "      <td>43.70</td>\n",
       "      <td>74254.00</td>\n",
       "    </tr>\n",
       "    <tr>\n",
       "      <th>2015</th>\n",
       "      <td>29176</td>\n",
       "      <td>37.30</td>\n",
       "      <td>78219.84</td>\n",
       "    </tr>\n",
       "  </tbody>\n",
       "</table>\n",
       "</div>"
      ],
      "text/plain": [
       "        강원도  강원도비율%       전국\n",
       "1995  42769   57.00 75033.33\n",
       "2000  28946   45.00 64324.44\n",
       "2005  29267   39.80 73535.18\n",
       "2010  32449   43.70 74254.00\n",
       "2015  29176   37.30 78219.84"
      ]
     },
     "execution_count": 89,
     "metadata": {},
     "output_type": "execute_result"
    }
   ],
   "source": [
    "corn"
   ]
  },
  {
   "cell_type": "code",
   "execution_count": 90,
   "metadata": {
    "colab": {},
    "colab_type": "code",
    "id": "cdVo-9AfqypP"
   },
   "outputs": [
    {
     "data": {
      "text/plain": [
       "75033.33333333334"
      ]
     },
     "execution_count": 90,
     "metadata": {},
     "output_type": "execute_result"
    }
   ],
   "source": [
    "corn.iloc[0, 2] # 실수 표기만 바뀌었고 값은 바뀌지 않음"
   ]
  },
  {
   "cell_type": "markdown",
   "metadata": {
    "colab_type": "text",
    "id": "1SobYz-UqypS"
   },
   "source": [
    "round를 사용하면 반올림한 값으로 저장할 수 있습니다."
   ]
  },
  {
   "cell_type": "code",
   "execution_count": 91,
   "metadata": {
    "colab": {},
    "colab_type": "code",
    "id": "9ZdCZexUqypS"
   },
   "outputs": [
    {
     "data": {
      "text/plain": [
       "1995   75033.30\n",
       "2000   64324.40\n",
       "2005   73535.20\n",
       "2010   74254.00\n",
       "2015   78219.80\n",
       "Name: 전국, dtype: float64"
      ]
     },
     "execution_count": 91,
     "metadata": {},
     "output_type": "execute_result"
    }
   ],
   "source": [
    "corn['전국'].round(1)"
   ]
  },
  {
   "cell_type": "code",
   "execution_count": null,
   "metadata": {},
   "outputs": [],
   "source": []
  }
 ],
 "metadata": {
  "colab": {
   "name": "week3_review2_lecture.ipynb",
   "provenance": []
  },
  "kernelspec": {
   "display_name": "Python 3",
   "language": "python",
   "name": "python3"
  },
  "language_info": {
   "codemirror_mode": {
    "name": "ipython",
    "version": 3
   },
   "file_extension": ".py",
   "mimetype": "text/x-python",
   "name": "python",
   "nbconvert_exporter": "python",
   "pygments_lexer": "ipython3",
   "version": "3.8.3"
  }
 },
 "nbformat": 4,
 "nbformat_minor": 1
}
