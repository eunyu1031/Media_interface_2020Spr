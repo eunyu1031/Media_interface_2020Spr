{
 "cells": [
  {
   "cell_type": "markdown",
   "metadata": {},
   "source": [
    "# 과제 1\n",
    "\n",
    "- 기한: 4/17(금) 23:59 (늦으면 점수의 절반만 인정)\n",
    "- 제출: e-class 업로드\n",
    "- 비중: 8% (12점)\n",
    "- 파일형식: .ipynb\n",
    "- 결과만 간결하게 확인할 수 있게, 제출 전 사용하지 않는 코드는 정리해 주세요.\n",
    "- 늦게 제출한 경우 점수의 절반만 인정합니다.\n",
    "- 코드가 동작하지 않는 경우(예:에러 메시지), 파일을 열 수 없는 경우 0점 처리합니다.\n",
    "- 12 문제의 배점은 모두 같습니다. (문제1 3문제, 문제2 9문제)"
   ]
  },
  {
   "cell_type": "markdown",
   "metadata": {},
   "source": [
    "## 문제 1\n",
    "\n",
    "딕셔너리 'intro'를 다음과 같이 수정하세요.\n",
    "1. 'name'을 본인의 이름으로, 'start_year'를 본인의 입학년도로 수정하세요.\n",
    "2. 새로운 key 'goal'를 만들고, 올해의 목표(또는 1월의 새해 소망) 3가지를 리스트로 추가하세요.\n",
    "3. 수정이 끝난 딕셔너리 'intro'를 출력하세요."
   ]
  },
  {
   "cell_type": "code",
   "execution_count": null,
   "metadata": {},
   "outputs": [],
   "source": [
    "intro = {'name':'홍길동', 'start_year': 2021}\n"
   ]
  },
  {
   "cell_type": "markdown",
   "metadata": {},
   "source": [
    "## 문제2\n",
    "\n",
    "문제2에서 사용하는 데이터는 '서울시 자치구 년도별 CCTV 설치 현황'의 수정본이며, 아래 링크에서 원래의 데이터를 확인하실 수 있습니다. (파이썬으로 데이터 주무르기, 2017, 민형기, 비제이퍼블릭) \n",
    "\n",
    "http://data.seoul.go.kr/dataList/datasetView.do?infId=OA-2734&srvType=C&serviceKind=1\n",
    "\n",
    "각 연도에 설치한 CCTV의 수를 보여주는 데이터입니다. \n",
    "\n",
    "1. 주어진 URL의 데이터를 DataFrame으로 읽어오세요."
   ]
  },
  {
   "cell_type": "code",
   "execution_count": null,
   "metadata": {},
   "outputs": [],
   "source": [
    "url = \"https://raw.githubusercontent.com/eunyu1031/Media_interface_2020Spr/master/data/CCTV_Seoul.csv\"\n"
   ]
  },
  {
   "cell_type": "markdown",
   "metadata": {},
   "source": [
    "2. 첫 5행을 출력하세요."
   ]
  },
  {
   "cell_type": "code",
   "execution_count": null,
   "metadata": {},
   "outputs": [],
   "source": []
  },
  {
   "cell_type": "markdown",
   "metadata": {},
   "source": [
    "3. 기본정보를 출력하세요."
   ]
  },
  {
   "cell_type": "code",
   "execution_count": null,
   "metadata": {},
   "outputs": [],
   "source": []
  },
  {
   "cell_type": "markdown",
   "metadata": {},
   "source": [
    "4. 2014년 이전 1500대 이상의 CCTV를 설치했던 구의 목록을 확인하세요."
   ]
  },
  {
   "cell_type": "code",
   "execution_count": null,
   "metadata": {},
   "outputs": [],
   "source": []
  },
  {
   "cell_type": "markdown",
   "metadata": {},
   "source": [
    "5. 각 구별 설치된 CCTV의 총 개수를 나타내는 열 '합계'를 DataFrame에 추가하세요."
   ]
  },
  {
   "cell_type": "code",
   "execution_count": null,
   "metadata": {},
   "outputs": [],
   "source": []
  },
  {
   "cell_type": "markdown",
   "metadata": {},
   "source": [
    "6. 각 구별 2018년에 설치한 CCTV의 증가율(%)을 나타내는 열 '2018증가율'을 DataFrame에 추가하세요. (2018년 설치한 CCTV개수/그 이전에 설치한 CCTV개수*100)"
   ]
  },
  {
   "cell_type": "code",
   "execution_count": null,
   "metadata": {},
   "outputs": [],
   "source": []
  },
  {
   "cell_type": "markdown",
   "metadata": {},
   "source": [
    "7. 각 구별 2018년에 설치한 CCTV의 증가율(%)이 큰 순서부터 볼 수 있게 내림차순으로 정렬해 확인하세요."
   ]
  },
  {
   "cell_type": "code",
   "execution_count": null,
   "metadata": {},
   "outputs": [],
   "source": []
  },
  {
   "cell_type": "markdown",
   "metadata": {},
   "source": [
    "8. 열 '구별'은 구의 이름 사이에 일관되지 않게 띄어쓰기(' ',whitespace)가 들어가 있습니다. 이 띄어쓰기를 삭제하고 출력하세요. <br>\n",
    " ▷예: '강 남 구' --> '강남구' <br>\n",
    " ▷힌트1: 문자열의 str.replace 복습 (week3) <br>\n",
    " ▷힌트2: help(Series.str.replace)"
   ]
  },
  {
   "cell_type": "code",
   "execution_count": null,
   "metadata": {},
   "outputs": [],
   "source": []
  },
  {
   "cell_type": "markdown",
   "metadata": {},
   "source": [
    "9. 중앙대학교가 위치한 동작구와 그 주변 구의 CCTV 현황만 확인해 봅시다. 동작구, 관악구, 구로구, 영등포구,  서초구의 정보만 iloc 또는 loc으로 가져와서 확인하세요."
   ]
  },
  {
   "cell_type": "code",
   "execution_count": null,
   "metadata": {},
   "outputs": [],
   "source": []
  }
 ],
 "metadata": {
  "kernelspec": {
   "display_name": "Python 3",
   "language": "python",
   "name": "python3"
  },
  "language_info": {
   "codemirror_mode": {
    "name": "ipython",
    "version": 3
   },
   "file_extension": ".py",
   "mimetype": "text/x-python",
   "name": "python",
   "nbconvert_exporter": "python",
   "pygments_lexer": "ipython3",
   "version": "3.8.3"
  }
 },
 "nbformat": 4,
 "nbformat_minor": 4
}
