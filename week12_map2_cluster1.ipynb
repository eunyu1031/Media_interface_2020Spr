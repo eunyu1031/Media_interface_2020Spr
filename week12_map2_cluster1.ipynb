{
 "cells": [
  {
   "cell_type": "markdown",
   "metadata": {},
   "source": [
    "#### 복습: plotly\n",
    "1. px.scatter_mapbox(dot-density map)\n",
    "2. px.density_mapbox(geographical head map)\n",
    "3. px.choropleth_mapbox(choropleth map; 등치지역도)\n",
    "    - 시/도 단위 지도 데이터 살펴보기\n",
    "    - Interactive choropleth map\n",
    "    - 연습하기  \n",
    "\n",
    "#### plotly 결과 차트 공유\n",
    "#### 군집 (clustering)\n",
    "- make_blobs\n",
    "- Kmeans\n",
    "- 연습하기"
   ]
  },
  {
   "cell_type": "code",
   "execution_count": null,
   "metadata": {},
   "outputs": [],
   "source": [
    "from pandas import Series, DataFrame \n",
    "import pandas as pd\n",
    "import numpy as np\n",
    "import matplotlib\n",
    "import matplotlib.pyplot as plt\n",
    "import seaborn as sns\n",
    "%matplotlib inline \n",
    "\n",
    "print('pandas', pd.__version__) #'1.0.3'\n",
    "print('matplotlib', matplotlib.__version__) # '3.2.1'\n",
    "print('seaborn', sns.__version__) # '0.10.0'"
   ]
  },
  {
   "cell_type": "code",
   "execution_count": null,
   "metadata": {},
   "outputs": [],
   "source": [
    "import platform\n",
    "from matplotlib import font_manager, rc\n",
    "plt.rcParams['axes.unicode_minus'] = False\n",
    "\n",
    "if platform.system() == 'Darwin':\n",
    "    rc('font', family = 'AppleGothic')\n",
    "elif platform.system() == 'Windows': \n",
    "    path = 'c:\\Windows\\Fonts\\malgun.ttf'\n",
    "    font_name = font_manager.FontProperties(fname = path).get_name()\n",
    "    rc('font', family = font_name)\n",
    "elif platform.system() == \"Linux\":\n",
    "    !apt -qq -y install fonts-nanum\n",
    "    fontpath = '/usr/share/fonts/truetype/nanum/NanumBarunGothic.ttf'\n",
    "    font = font_manager.FontProperties(fname=fontpath, size=9)\n",
    "    rc('font', family='NanumBarunGothic') \n",
    "    font_manager._rebuild()\n",
    "else:\n",
    "    print(\"unknown system\")"
   ]
  },
  {
   "cell_type": "code",
   "execution_count": null,
   "metadata": {},
   "outputs": [],
   "source": [
    "import plotly.express as px"
   ]
  },
  {
   "cell_type": "markdown",
   "metadata": {},
   "source": [
    "## 복습: plotly \n",
    "\n",
    "- Plotly는 파이썬 사용자들에게 웹 기반 인터랙티브 시각화를 지원합니다. 40여가지의 차트를 지원하나 수업에서는 지도 시각화 위주로 다룹니다.\n",
    "- Plotly는 버전 업데이트가 자주 있는 편입니다. 필요하다면 아래 명령어로 업데이트하여 사용하시기 바랍니다. <br>\n",
    "    - !pip install --upgrade plotly\n",
    "\n",
    "11주차에는 아래 세 가지 함수를 사용하여 일반/인터랙티브 지도 시각화를 진행했습니다.\n",
    "1. __px.scatter_mapbox(dot-density map)__: 지리 좌표계를 이용하여 각 지점을 점으로 표시합니다.\n",
    "2. __px.density_mapbox(geographical head map)__: 지리 좌표계를 이용하여 각 지점을 표시하되 밀도를 나타냅니다.\n",
    "3. __px.choropleth_mapbox(choropleth map; 등치지역도)__: 국가/시/도 등 지리적인 지역을 구분하여 영역의 음영/색상으로 데이터를 나타냅니다."
   ]
  },
  {
   "cell_type": "markdown",
   "metadata": {},
   "source": [
    "#### 1. px.scatter_mapbox(dot-density map)\n",
    "\n",
    "각 화산의 위치를 위도(latitude)와 경도(longitude)로 표시합니다."
   ]
  },
  {
   "cell_type": "code",
   "execution_count": null,
   "metadata": {},
   "outputs": [],
   "source": [
    "# 화산 예제\n",
    "df = pd.read_csv(\"https://raw.githubusercontent.com/plotly/datasets/master/volcano_db.csv\", encoding=\"iso-8859-1\")\n",
    "\n",
    "fig = px.scatter_mapbox(df, lat = 'Latitude', lon = 'Longitude', \n",
    "                          hover_name = 'Volcano Name', \n",
    "                        color_discrete_sequence  = ['red'], zoom = 1,\n",
    "                        opacity = 0.5)\n",
    "\n",
    "fig.update_layout(mapbox_style = 'open-street-map')\n",
    "fig.update_layout(margin = {\"r\":0, \"t\":0,\"l\":0, 'b':0})\n",
    "\n",
    "fig.show()\n",
    "df.head()"
   ]
  },
  {
   "cell_type": "markdown",
   "metadata": {},
   "source": [
    "#### 2. px.density_mapbox(geographical head map)\n",
    "\n",
    "각 화산의 위치를 위도(latitude)와 경도(longitude)로 표시하지만, 개별 점의 위치보다는 전반적인 분포 및 집중도에 더 주목합니다."
   ]
  },
  {
   "cell_type": "code",
   "execution_count": null,
   "metadata": {
    "scrolled": true
   },
   "outputs": [],
   "source": [
    "fig = px.density_mapbox(df, lat = 'Latitude', lon = 'Longitude', \n",
    "                        zoom = 1, hover_name = 'Volcano Name', \n",
    "                        color_continuous_scale = px.colors.sequential.OrRd,\n",
    "                        radius = 5)\n",
    "\n",
    "fig.update_layout(mapbox_style = 'open-street-map')\n",
    "fig.update_layout(margin = {\"r\":0, \"t\":0,\"l\":0, 'b':0})\n",
    "\n",
    "fig.show()"
   ]
  },
  {
   "cell_type": "markdown",
   "metadata": {},
   "source": [
    "#### 3. px.choropleth_mapbox(choropleth map; 등치지역도)\n",
    "\n",
    "Plotly에서 등치지역도를 그리기 위해서는 각 지역을 구분하는 위치정보를 Polygon으로 담고 있는 GeoJSON 포맷 데이터가 필요합니다. 함수 px.choropleth_mapbox의 주요 매개변수를 설명하면 다음과 같습니다.\n",
    "- geojson: GeoJSON 포맷의 데이터가 있는 url/GeoJSON 파일의 경로/dictionary 형태로 저장된 GeoJSON 데이터를 받습니다.\n",
    "- locations: DataFrame 내에서 장소 정보가 있는 열의 이름을 작성합니다. \n",
    "- featureidkey: 매개변수 geojson으로 들어오는 데이터에서 매개변수 'locations'가 받은 장소 정보와 매치할 수 있는 key를 지정합니다. 기본값은 'id'이지만, id가 geojson으로 들어오는 데이터 내에 없는 경우에는 찾아서 넣어야 합니다. 보통 properties.key 식으로 properties 안에서 찾을 수 있습니다."
   ]
  },
  {
   "cell_type": "code",
   "execution_count": null,
   "metadata": {},
   "outputs": [],
   "source": [
    "help(px.choropleth_mapbox)"
   ]
  },
  {
   "cell_type": "markdown",
   "metadata": {},
   "source": [
    "지난주 사용했던 서울시 구별 예제의 경우, 기본값인 id를 가지고 있어서 featureidkey를 따로 설정하지 않았습니다. 하지만 많은 경우 id가 없기 때문에 GeoJSON 내에서 찾아서 사용해야 합니다.\n",
    "\n",
    "https://raw.githubusercontent.com/PinkWink/DataScience/master/data/02.%20skorea_municipalities_geo_simple.json"
   ]
  },
  {
   "cell_type": "markdown",
   "metadata": {},
   "source": [
    "<pre>\n",
    "{\"type\":\"FeatureCollection\",\n",
    "\"features\":[\n",
    "            {\"type\":\"Feature\", \n",
    "            \"id\":\"강동구\", \n",
    "            \"properties\":{\"code\":\"11250\",\n",
    "                          \"name\":\"강동구\",\n",
    "                          \"name_eng\":\"Gangdong-gu\",\n",
    "                          \"base_year\":\"2013\"},\n",
    "            \"geometry\":{\"type\":\"Polygon\",\n",
    "                        \"coordinates\":[[[127.11519584981606,37.557533180704915],[127.16683184366129,37.57672487388627],[127.18408792330152,37.55814280369575],[127.16530984307447,37.54221851258693],[127.14672806823502,37.51415680680291],[127.12123165719615,37.52528270089],[127.1116764203608,37.540669955324965],[127.11519584981606,37.557533180704915]]]}},\n",
    "            {\"type\":\"Feature\", \n",
    "            \"id\":\"송파구\", \n",
    "            \"properties\":{\"code\":\"11240\",\n",
    "                          \"name\":\"송파구\",\n",
    "                          \"name_eng\":\"Songpa-gu\",\n",
    "                          \"base_year\":\"2013\"},\n",
    "            \"geometry\":{\"type\":\"Polygon\",\n",
    "                        \"coordinates\":[[[127.0690698130372,37.522279423505026],[127.10087519791962,37.524841220167055],[127.1116764203608,37.540669955324965],[127.12123165719615,37.52528270089],[127.14672806823502,37.51415680680291],[127.1634944215765,37.497445406097484],[127.14206058413274,37.47089819098501],[127.12440571080893,37.46240445587048],[127.11117085201238,37.485708381512445],[127.0719146000724,37.50224013587669],[127.0690698130372,37.522279423505026]]]}},\n",
    "            {\"type\":\"Feature\", \n",
    "            \"id\":\"강남구\", \n",
    "            (이하 생략)\n",
    "</pre>"
   ]
  },
  {
   "cell_type": "markdown",
   "metadata": {},
   "source": [
    "Plotly에서 제공하는 예제를 살펴봅시다."
   ]
  },
  {
   "cell_type": "code",
   "execution_count": null,
   "metadata": {},
   "outputs": [],
   "source": [
    "data_geojson = px.data.election_geojson()\n",
    "data_geojson"
   ]
  },
  {
   "cell_type": "code",
   "execution_count": null,
   "metadata": {},
   "outputs": [],
   "source": [
    "df2 = px.data.election()\n",
    "df2.head()"
   ]
  },
  {
   "cell_type": "code",
   "execution_count": null,
   "metadata": {
    "scrolled": true
   },
   "outputs": [],
   "source": [
    "fig = px.choropleth_mapbox(df2, geojson=data_geojson, color=\"Bergeron\",\n",
    "                           locations=\"district\", \n",
    "                           featureidkey=\"properties.district\",\n",
    "                           center={\"lat\": 45.5517, \"lon\": -73.7073},\n",
    "                           mapbox_style=\"carto-positron\", zoom=9)\n",
    "fig.update_layout(margin={\"r\":0,\"t\":0,\"l\":0,\"b\":0})\n",
    "fig.show()"
   ]
  },
  {
   "cell_type": "markdown",
   "metadata": {},
   "source": [
    "#### 시/도 단위 지도 데이터 살펴보기\n",
    "\n",
    "행정안전부의 주민등록 인구 및 세대현황 데이터로 시/도 단위 지도를 살펴봅시다.\n",
    "\n",
    "http://27.101.213.4/"
   ]
  },
  {
   "cell_type": "code",
   "execution_count": null,
   "metadata": {
    "scrolled": true
   },
   "outputs": [],
   "source": [
    "sido_pop = pd.read_csv(\"https://raw.githubusercontent.com/eunyu1031/Media_interface_2020Spr/master/data/201012_201912_%EC%A3%BC%EB%AF%BC%EB%93%B1%EB%A1%9D%EC%9D%B8%EA%B5%AC%EB%B0%8F%EC%84%B8%EB%8C%80%ED%98%84%ED%99%A9_%EC%97%B0%EA%B0%84.csv\", \n",
    "                       encoding = 'utf-8', \n",
    "                       skiprows = [1], # 전국\n",
    "                       thousands = ',')\n",
    "sido_pop"
   ]
  },
  {
   "cell_type": "markdown",
   "metadata": {},
   "source": [
    "데이터는 모두 int/float로 가져왔습니다."
   ]
  },
  {
   "cell_type": "code",
   "execution_count": null,
   "metadata": {
    "scrolled": true
   },
   "outputs": [],
   "source": [
    "sido_pop.info()"
   ]
  },
  {
   "cell_type": "markdown",
   "metadata": {},
   "source": [
    "하지만 행정구역에서 지역 코드가 아닌 이름만 골라내야 합니다. str.split을 활용합니다."
   ]
  },
  {
   "cell_type": "code",
   "execution_count": null,
   "metadata": {
    "scrolled": true
   },
   "outputs": [],
   "source": [
    "sido_pop['행정구역']"
   ]
  },
  {
   "cell_type": "markdown",
   "metadata": {},
   "source": [
    "str.split은 따로 지정하지 않으면 공백을 기준으로 자릅니다. 이 경우도 같은 방식으로 진행해도 문제 없습니다."
   ]
  },
  {
   "cell_type": "code",
   "execution_count": null,
   "metadata": {},
   "outputs": [],
   "source": [
    "sido_pop['행정구역'].str.split(expand = True)"
   ]
  },
  {
   "cell_type": "markdown",
   "metadata": {},
   "source": [
    "열로 보면 살피기 어려우므로 개별 문자열을 떼어서 살펴봅니다."
   ]
  },
  {
   "cell_type": "code",
   "execution_count": null,
   "metadata": {},
   "outputs": [],
   "source": [
    "sido_pop['행정구역'].str.split(expand = True)[0].loc[0]"
   ]
  },
  {
   "cell_type": "code",
   "execution_count": null,
   "metadata": {},
   "outputs": [],
   "source": [
    "sido_pop['행정구역'] = sido_pop['행정구역'].str.split(expand = True)[0]"
   ]
  },
  {
   "cell_type": "markdown",
   "metadata": {},
   "source": [
    "총인구수/세대수/남자 인구수/여자 인구수로 구성되었지만 총인구수만 가져와서 보면 좋겠습니다. 공통된 키워드로 행/열을 가져올 수 있는 __DataFrame.filter__ 함수를 이용합니다. DataFrame에 적용할 경우 열을 기준으로 찾는 것이 기본이며(axis = 1), regex는 특정한 규칙을 가진 문자열의 집합을 표현할 수 있는 regular expression(정규식)을 의미합니다. 정규식에 대해 자세한 설명은 생략하며, 일단은 일치하는 문자를 포함하는 행/열을 선택할 수 있다고만 알아둡시다."
   ]
  },
  {
   "cell_type": "code",
   "execution_count": null,
   "metadata": {},
   "outputs": [],
   "source": [
    "sido_pop.filter(regex='총인구수')"
   ]
  },
  {
   "cell_type": "markdown",
   "metadata": {},
   "source": [
    "행정구역과 총인구수만 모아서 concat으로 붙였습니다."
   ]
  },
  {
   "cell_type": "code",
   "execution_count": null,
   "metadata": {
    "scrolled": false
   },
   "outputs": [],
   "source": [
    "sido2 = pd.concat([sido_pop['행정구역'], sido_pop.filter(regex='총인구수')], axis = 1)\n",
    "sido2"
   ]
  },
  {
   "cell_type": "markdown",
   "metadata": {},
   "source": [
    "2012년 7월에 생긴 세종시가 2011년 값으로 NaN 값을 가지고 있어, 0으로 바꾸어 채워줍니다."
   ]
  },
  {
   "cell_type": "code",
   "execution_count": null,
   "metadata": {},
   "outputs": [],
   "source": [
    "sido2.fillna(0)"
   ]
  },
  {
   "cell_type": "code",
   "execution_count": null,
   "metadata": {},
   "outputs": [],
   "source": [
    "sido2 = sido2.fillna(0)"
   ]
  },
  {
   "cell_type": "markdown",
   "metadata": {},
   "source": [
    "등치지역도를 그리기 전에 GeoJSON을 살펴봅시다."
   ]
  },
  {
   "cell_type": "code",
   "execution_count": null,
   "metadata": {},
   "outputs": [],
   "source": [
    "province_geojson = 'https://raw.githubusercontent.com/southkorea/southkorea-maps/master/kostat/2018/json/skorea-provinces-2018-geo.json'"
   ]
  },
  {
   "cell_type": "code",
   "execution_count": null,
   "metadata": {},
   "outputs": [],
   "source": [
    "import requests\n",
    "r = requests.get(province_geojson)\n",
    "result = r.json() # json to dictionary\n",
    "result"
   ]
  },
  {
   "cell_type": "markdown",
   "metadata": {},
   "source": [
    "딕셔너리가 복잡한 경우 keys()를 사용해서 어떤 키를 가지는지 먼저 살펴보고 해당 키의 값만 불러올 수 있습니다."
   ]
  },
  {
   "cell_type": "code",
   "execution_count": null,
   "metadata": {},
   "outputs": [],
   "source": [
    "result.keys()"
   ]
  },
  {
   "cell_type": "code",
   "execution_count": null,
   "metadata": {},
   "outputs": [],
   "source": [
    "result['features'][0].keys()"
   ]
  },
  {
   "cell_type": "code",
   "execution_count": null,
   "metadata": {},
   "outputs": [],
   "source": [
    "result['features'][0]['properties']"
   ]
  },
  {
   "cell_type": "markdown",
   "metadata": {},
   "source": [
    "아래 px.choropleth_mapbox 코드는 다음과 같은 사항을 고려하여 작성되었습니다.\n",
    "\n",
    "- geojson: GeoJSON파일의 url 'province_geojson' 또는 딕셔너리 'result'를 넣습니다.\n",
    "- locations: DataFrame 'sido2'에서 열 '행정구역'이 지역을 나타냅니다.\n",
    "- featureidkey에는 properties안의 name에 locations에서 지정한 지역 정보가 있습니다."
   ]
  },
  {
   "cell_type": "code",
   "execution_count": null,
   "metadata": {
    "scrolled": false
   },
   "outputs": [],
   "source": [
    "fig = px.choropleth_mapbox(sido2, geojson=province_geojson, locations='행정구역', \n",
    "                           featureidkey=\"properties.name\",\n",
    "                           color='2019년_총인구수', \n",
    "                           zoom=6, center = {\"lat\": 36.34446, \"lon\": 127.7263},\n",
    "                           opacity=0.5,\n",
    "                          )\n",
    "\n",
    "fig.update_layout(margin={\"r\":0,\"t\":0,\"l\":0,\"b\":0})\n",
    "fig.update_layout(mapbox_style = 'open-street-map')\n",
    "# fig.update_geos(showcountries=False, showcoastlines=False, showland=False, fitbounds=\"locations\")\n",
    "\n",
    "fig.show()"
   ]
  },
  {
   "cell_type": "markdown",
   "metadata": {},
   "source": [
    "#### 한국 지리정보의 GeoJSON\n",
    "\n",
    "한국 지리정보의 GeoJSON은 개발자들의 공동 작업공간인 깃허브(Github)에서 찾을 수 있습니다. 정부에서 제공하는 지리정보를 개인(contributors: Lucy Park & Justin Meyers)이 공유하기 쉬운 포맷으로 변경하여 제공하고 있습니다.\n",
    "\n",
    "southkorea-maps, seoul-maps 내의 kostat에서 Geojson의 raw링크를 사용하시면 됩니다. 나중에 필요한 경우 가져와서 사용하세요.\n",
    "\n",
    "링크: https://github.com/southkorea"
   ]
  },
  {
   "cell_type": "markdown",
   "metadata": {},
   "source": [
    "#### Interactive choropleth map\n",
    "우리가 2010년부터 2019년도까지의 데이터를 가지고 있으므로 인터랙티브 시각화를 만들어 봅시다. "
   ]
  },
  {
   "cell_type": "code",
   "execution_count": null,
   "metadata": {
    "scrolled": true
   },
   "outputs": [],
   "source": [
    "sido2.head()"
   ]
  },
  {
   "cell_type": "markdown",
   "metadata": {},
   "source": [
    "현재 wide-form에서 long-form으로 바꾸어야 합니다. 하지만 함수 pd.wide_to_long은 long으로 바뀔 기준이 되는 값이 열 이름의 뒤에 붙는 것을 가정합니다. (stubname-suffix1, stubname-suffix2, ...) 따라서 보다 범용으로 사용할 수 있는 pd.melt를 알아봅니다."
   ]
  },
  {
   "cell_type": "code",
   "execution_count": null,
   "metadata": {},
   "outputs": [],
   "source": [
    "help(pd.wide_to_long)"
   ]
  },
  {
   "cell_type": "markdown",
   "metadata": {},
   "source": [
    "pd.melt()는 id변수를 기준으로 원래 DataFrame에 있는 여러 열(column)들을 이름은 'variable'로, 값은 'value'로 길게 풀 수 있습니다. 따라서 wide라서 연도에 따라 여러 개 있는 열들을 long-form 형식의 두 개의 열로 바꿀 수 있습니다.\n",
    "<img src='https://pandas.pydata.org/pandas-docs/stable/_images/reshaping_melt.png'/>"
   ]
  },
  {
   "cell_type": "code",
   "execution_count": null,
   "metadata": {},
   "outputs": [],
   "source": [
    "help(pd.melt)"
   ]
  },
  {
   "cell_type": "code",
   "execution_count": null,
   "metadata": {},
   "outputs": [],
   "source": [
    "pd.melt(sido2, id_vars = '행정구역', var_name = '연도', value_name = '총인구수')"
   ]
  },
  {
   "cell_type": "code",
   "execution_count": null,
   "metadata": {},
   "outputs": [],
   "source": [
    "sido3 = pd.melt(sido2, id_vars = '행정구역', var_name = '연도', value_name = '총인구수')"
   ]
  },
  {
   "cell_type": "code",
   "execution_count": null,
   "metadata": {},
   "outputs": [],
   "source": [
    "sido3[sido3.행정구역=='서울특별시']"
   ]
  },
  {
   "cell_type": "markdown",
   "metadata": {},
   "source": [
    "'연도'라는 열에서 연도를 표시한 숫자만 가져와서 int64로 저장합니다."
   ]
  },
  {
   "cell_type": "code",
   "execution_count": null,
   "metadata": {},
   "outputs": [],
   "source": [
    "sido3['연도'] = sido3['연도'].str[:4].astype('int64')"
   ]
  },
  {
   "cell_type": "markdown",
   "metadata": {},
   "source": [
    "위의 시각화 코드에 두 개의 매개변수를 추가했습니다.\n",
    "- animation_frame: 연도의 변화에 따른 인구수의 변화를 봅니다.\n",
    "- range_color: 연도에 따라 컬러바가 변화하지 않게 적절하게 범위를 주어 고정합니다."
   ]
  },
  {
   "cell_type": "code",
   "execution_count": null,
   "metadata": {
    "scrolled": false
   },
   "outputs": [],
   "source": [
    "fig1 = px.choropleth_mapbox(sido3, geojson=province_geojson, locations='행정구역', \n",
    "                           featureidkey=\"properties.name\",\n",
    "                           color='총인구수',\n",
    "                           animation_frame = '연도',\n",
    "                           range_color = (2000000, 12000000),\n",
    "                           color_continuous_scale = px.colors.sequential.Rainbow,\n",
    "                           zoom=5, center = {\"lat\": 36.34446, \"lon\": 127.7263},\n",
    "                           opacity=0.5,\n",
    "                          )\n",
    "\n",
    "fig1.update_layout(margin={\"r\":0,\"t\":0,\"l\":0,\"b\":0})\n",
    "fig1.update_layout(mapbox_style = 'open-street-map')\n",
    "\n",
    "fig1.show()"
   ]
  },
  {
   "cell_type": "markdown",
   "metadata": {},
   "source": [
    "<p style=\"color:#0000FF\";><font size = \"5\"><b>\n",
    " # 연습하기\n",
    "    </b></font></p>\n",
    "    \n",
    "주어진 데이터는 2011~2019년 시도별 일반고의 개수입니다. 시도별 학교 수의 변화를 인터랙티브 맵으로 나타내세요.\n",
    "\n",
    "다음 사항을 주의하세요.\n",
    "- 시/도 이름의 표기를 GeoJSON의 표기와 통일 필요\n",
    "- 데이터 구조를 wide-form에서 long-form으로 변경 필요\n",
    "\n",
    "출처: https://www.data.go.kr/data/15053816/fileData.do"
   ]
  },
  {
   "cell_type": "code",
   "execution_count": null,
   "metadata": {},
   "outputs": [],
   "source": [
    "hs_url = \"https://raw.githubusercontent.com/eunyu1031/Media_interface_2020Spr/master/data/%EC%9D%BC%EB%B0%98%EA%B3%A0_2011-2019_%EC%8B%9C%EB%8F%84%EB%B3%84%20%ED%95%99%EA%B5%90%EC%88%98.csv\"\n"
   ]
  },
  {
   "cell_type": "code",
   "execution_count": null,
   "metadata": {},
   "outputs": [],
   "source": []
  },
  {
   "cell_type": "markdown",
   "metadata": {},
   "source": [
    "## plotly 결과 차트 공유\n",
    "\n",
    "plotly는 chart_studio로 데이터 및 결과물을 공유하는 기능을 제공합니다. 공유 기능은 plotly에 가입한 계정의 아이디와 api key를 설정하여 사용할 수 있습니다. 무료 계정으로는 데이터까지 모두 공유하는 public option만 가능합니다."
   ]
  },
  {
   "cell_type": "code",
   "execution_count": null,
   "metadata": {},
   "outputs": [],
   "source": [
    "!pip install chart_studio"
   ]
  },
  {
   "cell_type": "markdown",
   "metadata": {},
   "source": [
    "chart_studio를 설치한 후, plotly에 가입해서 username과 api_key를 세팅합니다. api_key는 settings > API Keys > regenerate key에서 가져올 수 있습니다.\n",
    "\n",
    "- 가입: https://chart-studio.plotly.com/feed\n",
    "- API Key: https://chart-studio.plotly.com/settings/api"
   ]
  },
  {
   "cell_type": "code",
   "execution_count": null,
   "metadata": {},
   "outputs": [],
   "source": [
    "import chart_studio\n",
    "\n",
    "my_username = '' # your username(id)\n",
    "my_api_key = '' # your api key - settings > API Keys > regenerate key\n",
    "chart_studio.tools.set_credentials_file(username=my_username, api_key=my_api_key)"
   ]
  },
  {
   "cell_type": "code",
   "execution_count": null,
   "metadata": {},
   "outputs": [],
   "source": [
    "import chart_studio.plotly as py\n",
    "\n",
    "py.iplot(fig1)"
   ]
  },
  {
   "cell_type": "markdown",
   "metadata": {},
   "source": [
    "## 군집 (clustering)\n",
    "\n",
    "파이썬 머신러닝 라이브러리인 사이킷런(scikit-learn)을 먼저 설치 또는 업그레이드합니다."
   ]
  },
  {
   "cell_type": "code",
   "execution_count": null,
   "metadata": {},
   "outputs": [],
   "source": [
    "# 설치\n",
    "!pip install scikit-learn "
   ]
  },
  {
   "cell_type": "code",
   "execution_count": null,
   "metadata": {},
   "outputs": [],
   "source": [
    "# 업그레이드\n",
    "!pip install --upgrade scikit-learn"
   ]
  },
  {
   "cell_type": "markdown",
   "metadata": {},
   "source": [
    "최신 버전은 0.23.1입니다."
   ]
  },
  {
   "cell_type": "code",
   "execution_count": null,
   "metadata": {},
   "outputs": [],
   "source": [
    "import sklearn\n",
    "\n",
    "sklearn.__version__"
   ]
  },
  {
   "cell_type": "markdown",
   "metadata": {},
   "source": [
    "### make_blobs\n",
    "사이킷런의 클러스터링 기능을 살펴보기 위해 임의로 2차원 데이터를 만들어 살펴봅시다. 함수 make_blobs은 클러스터링 예제를 만들어내는 함수로 주요 매개변수와 결과는 아래와 같습니다.\n",
    "\n",
    "#### 주요 매개변수\n",
    "- n_samples: 임의로 만들어낼 샘플의 수(default = 100)\n",
    "- n_features: 각 샘플의 차원 (default = 2)\n",
    "- random_state: 정수를 넣을 경우 여러 번 실행해도 같은 결과를 얻는다.\n",
    "\n",
    "#### 결과\n",
    "- X: [n_samples, n_features]로 구성된 임의로 만들어진 데이터 (numpy.ndarray)\n",
    "- y: 각 샘플이 어느 클러스터에 속하는지 구분하는 정수 라벨"
   ]
  },
  {
   "cell_type": "code",
   "execution_count": null,
   "metadata": {},
   "outputs": [],
   "source": [
    "from sklearn.datasets import make_blobs\n",
    "\n",
    "# 인위적으로 2차원 데이터 생성\n",
    "X, y = make_blobs(n_samples = 100, n_features = 2, random_state = 1)"
   ]
  },
  {
   "cell_type": "code",
   "execution_count": null,
   "metadata": {},
   "outputs": [],
   "source": [
    "X"
   ]
  },
  {
   "cell_type": "code",
   "execution_count": null,
   "metadata": {},
   "outputs": [],
   "source": [
    "y"
   ]
  },
  {
   "cell_type": "code",
   "execution_count": null,
   "metadata": {},
   "outputs": [],
   "source": [
    "help(make_blobs)"
   ]
  },
  {
   "cell_type": "markdown",
   "metadata": {},
   "source": [
    "### Kmeans\n",
    "\n",
    "함수 Kmeans는 여러 매개변수를 가지고 있지만, 오늘은 클러스터의 수를 나타내는 n_clusters만 사용하기로 합니다.\n",
    "\n",
    "전반적인 클러스터링 알고리즘에 대한 소개는 아래 링크를 참고하세요.\n",
    "\n",
    "https://scikit-learn.org/stable/modules/clustering.html#"
   ]
  },
  {
   "cell_type": "code",
   "execution_count": null,
   "metadata": {},
   "outputs": [],
   "source": [
    "from sklearn.cluster import KMeans\n",
    "\n",
    "# 군집 모델 생성\n",
    "kmeans = KMeans(n_clusters = 3)\n",
    "kmeans.fit(X)"
   ]
  },
  {
   "cell_type": "markdown",
   "metadata": {},
   "source": [
    "Kmeans 함수로 모델을 만들고, 계산하기 위해서는 make_blobs으로 만든 데이터를 넣어 __fit()__ 메서드를 실행해 주어야 합니다. \n",
    "\n",
    "연산의 결과로 X의 데이터가 어느 클러스터에 할당되었는지 정수 라벨을 볼 수 있습니다. 여기서 정수 라벨은 클러스터를 구분하기 위한 목적이므로 매번 실행할 때마다 달라질 수 있습니다. 3개의 클러스터를 구분하는 모델이므로 0, 1, 2로 구분합니다."
   ]
  },
  {
   "cell_type": "code",
   "execution_count": null,
   "metadata": {},
   "outputs": [],
   "source": [
    "kmeans.labels_"
   ]
  },
  {
   "cell_type": "markdown",
   "metadata": {},
   "source": [
    "fit()으로 만든 모델은 __predict()__를 사용해서 다른 데이터를 넣어 결과를 볼 수 있습니다. 예제이므로 predict도 같은 샘플 데이터를 넣어서 살펴보겠습니다.\n",
    "\n",
    "predict()에도 fit()과 같은 데이터 X를 사용했으므로, X의 각 데이터 포인트가 labels_의 결과와 같은 클러스터에 속한 것을 확인할 수 있습니다."
   ]
  },
  {
   "cell_type": "markdown",
   "metadata": {},
   "source": [
    "3개의 클러스터 중심의 위치를 살펴봅시다."
   ]
  },
  {
   "cell_type": "code",
   "execution_count": null,
   "metadata": {},
   "outputs": [],
   "source": [
    "kmeans.predict(X)"
   ]
  },
  {
   "cell_type": "code",
   "execution_count": null,
   "metadata": {},
   "outputs": [],
   "source": [
    "kmeans.cluster_centers_"
   ]
  },
  {
   "cell_type": "markdown",
   "metadata": {},
   "source": [
    "각 데이터 포인트와 클러스터 중심을 그립니다."
   ]
  },
  {
   "cell_type": "code",
   "execution_count": null,
   "metadata": {},
   "outputs": [],
   "source": [
    "fig, ax = plt.subplots()\n",
    "\n",
    "ax.scatter(X[:, 0],X[:, 1], # 생성한 2차원 데이터ㅢ 행, 열을 각각 x, y값으로 지정\n",
    "           c = kmeans.predict(X), # 색깔은 소속된 클러스터로 구분\n",
    "           alpha = 0.5)\n",
    "\n",
    "ax.scatter(kmeans.cluster_centers_[:, 0], kmeans.cluster_centers_[:, 1],\n",
    "           s = 50,\n",
    "           marker = 'D',\n",
    "           c='r')\n",
    "\n",
    "plt.show()"
   ]
  },
  {
   "cell_type": "markdown",
   "metadata": {},
   "source": [
    "만약 클러스터의 수를 늘리면 어떻게 될까요? 다섯 개로 늘려봅시다."
   ]
  },
  {
   "cell_type": "code",
   "execution_count": null,
   "metadata": {},
   "outputs": [],
   "source": [
    "kmeans2 = KMeans(n_clusters = 5)\n",
    "kmeans2.fit(X)\n",
    "kmeans2.predict(X)"
   ]
  },
  {
   "cell_type": "code",
   "execution_count": null,
   "metadata": {},
   "outputs": [],
   "source": [
    "kmeans2.cluster_centers_"
   ]
  },
  {
   "cell_type": "code",
   "execution_count": null,
   "metadata": {},
   "outputs": [],
   "source": [
    "fig, ax = plt.subplots()\n",
    "\n",
    "ax.scatter(X[:, 0],X[:, 1], # 생성한 2차원 데이터ㅢ 행, 열을 각각 x, y값으로 지정\n",
    "           c = kmeans2.predict(X), # 색깔은 소속된 클러스터로 구분\n",
    "           alpha = 0.5)\n",
    "\n",
    "ax.scatter(kmeans2.cluster_centers_[:, 0], kmeans2.cluster_centers_[:, 1],\n",
    "           s = 50,\n",
    "           marker = 'D',\n",
    "           c='r')\n",
    "\n",
    "plt.show()"
   ]
  },
  {
   "cell_type": "markdown",
   "metadata": {},
   "source": [
    "<p style=\"color:#0000FF\";><font size = \"5\"><b>\n",
    " # 연습하기\n",
    "    </b></font></p>\n",
    "    \n",
    "예제 데이터를 더 만들어서 클러스터 수를 늘려가며 변화를 살펴봅니다.\n",
    "- make_blobs: 300개의 2차원 샘플을 만들어 사용합니다. random_state로는 0을 넣습니다.\n",
    "- Kmeans: 클러스터 개수를 3개, 4개, 5개로 하는 모델을 만들어 각각 시각화합니다."
   ]
  },
  {
   "cell_type": "code",
   "execution_count": null,
   "metadata": {},
   "outputs": [],
   "source": []
  },
  {
   "cell_type": "code",
   "execution_count": null,
   "metadata": {},
   "outputs": [],
   "source": [
    "X, y = make_blobs(n_samples = 300, n_features = 2, random_state = 0)"
   ]
  },
  {
   "cell_type": "code",
   "execution_count": null,
   "metadata": {},
   "outputs": [],
   "source": [
    "prac_kmeans1 = KMeans(n_clusters=3)\n",
    "prac_kmeans1.fit(X)\n",
    "prac_kmeans1.predict(X)"
   ]
  },
  {
   "cell_type": "code",
   "execution_count": null,
   "metadata": {},
   "outputs": [],
   "source": [
    "fig, ax = plt.subplots()\n",
    "\n",
    "ax.scatter(X[:, 0],X[:, 1],\n",
    "           c = prac_kmeans1.predict(X),\n",
    "           alpha = 0.5)\n",
    "\n",
    "ax.scatter(prac_kmeans1.cluster_centers_[:, 0], prac_kmeans1.cluster_centers_[:, 1],\n",
    "           s = 50,\n",
    "           marker = 'D',\n",
    "           c='r')\n",
    "\n",
    "plt.show()"
   ]
  },
  {
   "cell_type": "code",
   "execution_count": null,
   "metadata": {},
   "outputs": [],
   "source": [
    "prac_kmeans2 = KMeans(n_clusters = 4)\n",
    "prac_kmeans2.fit(X)\n",
    "prac_kmeans2.predict(X)"
   ]
  },
  {
   "cell_type": "code",
   "execution_count": null,
   "metadata": {},
   "outputs": [],
   "source": [
    "fig, ax = plt.subplots()\n",
    "\n",
    "ax.scatter(X[:, 0],X[:, 1], \n",
    "           c = prac_kmeans2.predict(X),\n",
    "           alpha = 0.5)\n",
    "\n",
    "ax.scatter(prac_kmeans2.cluster_centers_[:, 0], prac_kmeans2.cluster_centers_[:, 1],\n",
    "           s = 50,\n",
    "           marker = 'D',\n",
    "           c='r')\n",
    "\n",
    "plt.show()"
   ]
  },
  {
   "cell_type": "code",
   "execution_count": null,
   "metadata": {},
   "outputs": [],
   "source": [
    "prac_kmeans3 = KMeans(n_clusters = 5)\n",
    "prac_kmeans3.fit(X)\n",
    "prac_kmeans3.predict(X)"
   ]
  },
  {
   "cell_type": "code",
   "execution_count": null,
   "metadata": {},
   "outputs": [],
   "source": [
    "fig, ax = plt.subplots()\n",
    "\n",
    "ax.scatter(X[:, 0],X[:, 1],\n",
    "           c = prac_kmeans3.predict(X), \n",
    "           alpha = 0.5)\n",
    "\n",
    "ax.scatter(prac_kmeans3.cluster_centers_[:, 0], prac_kmeans3.cluster_centers_[:, 1],\n",
    "           s = 50,\n",
    "           marker = 'D',\n",
    "           c='r')\n",
    "\n",
    "plt.show()"
   ]
  },
  {
   "cell_type": "code",
   "execution_count": null,
   "metadata": {},
   "outputs": [],
   "source": []
  }
 ],
 "metadata": {
  "kernelspec": {
   "display_name": "Python 3",
   "language": "python",
   "name": "python3"
  },
  "language_info": {
   "codemirror_mode": {
    "name": "ipython",
    "version": 3
   },
   "file_extension": ".py",
   "mimetype": "text/x-python",
   "name": "python",
   "nbconvert_exporter": "python",
   "pygments_lexer": "ipython3",
   "version": "3.8.3"
  }
 },
 "nbformat": 4,
 "nbformat_minor": 4
}
